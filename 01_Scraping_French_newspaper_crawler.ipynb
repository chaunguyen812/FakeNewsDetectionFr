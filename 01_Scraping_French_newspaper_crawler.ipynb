{
 "cells": [
  {
   "cell_type": "markdown",
   "metadata": {},
   "source": [
    "# Scraping french news with newspaper-crawler\n",
    "This notebook can be used to scrap french news from RSS feed of these newspapers : \n",
    "- Figaro\n",
    "- Futura Sciences\n",
    "- Liberation\n",
    "- Telerama\n",
    "\n",
    "Doesn't work for : \n",
    "- Le Monde\n",
    "- Nouvel Obs\n",
    "\n",
    "This notebook can be executed several times to add new news to database : newspaper_db\n",
    "\n",
    "## installation : \n",
    "pip install feedparser\n",
    "\n",
    "pip install scrapy\n",
    "\n",
    "pip install git+https://github.com/gbolmier/newspaper-crawler"
   ]
  },
  {
   "cell_type": "markdown",
   "metadata": {},
   "source": [
    "## Definitions"
   ]
  },
  {
   "cell_type": "code",
   "execution_count": 1,
   "metadata": {},
   "outputs": [],
   "source": [
    "# your path folder to save results\n",
    "PATH_FOLDER_SAVE = '../../data'\n"
   ]
  },
  {
   "cell_type": "markdown",
   "metadata": {},
   "source": [
    "## Helper functions"
   ]
  },
  {
   "cell_type": "code",
   "execution_count": 2,
   "metadata": {},
   "outputs": [],
   "source": [
    "import shutil\n",
    "# importing os module  \n",
    "import os\n",
    "# import datetime module\n",
    "import datetime\n",
    "    \n",
    "def save_results_newpaper_crawler(your_source_folder, your_save_folder=None):\n",
    "    '''\n",
    "    Move results to \"pressarticles_ #current date time#\"\n",
    "    '''\n",
    "    PATH_SOURCE_ARTICLES =  \"pressarticles\"\n",
    "    \n",
    "    if your_source_folder is None:\n",
    "        your_source_folder_articles = PATH_SOURCE_ARTICLES\n",
    "    else:\n",
    "        your_source_folder_articles = your_source_folder + \\\n",
    "            '/' + PATH_SOURCE_ARTICLES\n",
    "    \n",
    "    try:\n",
    "        d = datetime.datetime.now()\n",
    "        str_date = d.strftime(\"%Y%m%d_%H_%M_%S\")\n",
    "        # Directory \n",
    "        # saved files paths\n",
    "        if your_save_folder is None:\n",
    "            your_save_folder_articles =  your_source_folder_articles \\\n",
    "                + \"_\" + str_date\n",
    "        # move directory\n",
    "        shutil.move(your_source_folder_articles, your_save_folder_articles) \n",
    "        print(\"Directory '%s' created\" %your_save_folder_articles)\n",
    "    except:\n",
    "        print('Folder {} does not exist!'.format(your_source_folder_articles))"
   ]
  },
  {
   "cell_type": "markdown",
   "metadata": {},
   "source": [
    "## Scraping"
   ]
  },
  {
   "cell_type": "code",
   "execution_count": 3,
   "metadata": {},
   "outputs": [
    {
     "name": "stdout",
     "output_type": "stream",
     "text": [
      "Stop process after around 5 min manually...\n"
     ]
    }
   ],
   "source": [
    "print(\"Stop process after around 5 min manually...\")"
   ]
  },
  {
   "cell_type": "code",
   "execution_count": 4,
   "metadata": {
    "scrolled": false
   },
   "outputs": [
    {
     "name": "stdout",
     "output_type": "stream",
     "text": [
      "Current Folder:  /Users/gregory/Documents/CloudStationSinchon/Applications/python/OC_IML_projet_7/code/FakeNewsDetectionFr\n",
      "Scraping Results Folder:  ../../data\n"
     ]
    },
    {
     "name": "stderr",
     "output_type": "stream",
     "text": [
      "2019-12-29 09:45:56 [scrapy.crawler] INFO: Overridden settings: {'DOWNLOAD_DELAY': 2}\n",
      "2019-12-29 09:45:56 [scrapy.extensions.telnet] INFO: Telnet Password: 8c7a4437137e4b19\n",
      "2019-12-29 09:45:56 [scrapy.middleware] INFO: Enabled extensions:\n",
      "['scrapy.extensions.corestats.CoreStats',\n",
      " 'scrapy.extensions.telnet.TelnetConsole',\n",
      " 'scrapy.extensions.memusage.MemoryUsage',\n",
      " 'scrapy.extensions.logstats.LogStats']\n",
      "2019-12-29 09:45:57 [scrapy.middleware] INFO: Enabled downloader middlewares:\n",
      "['scrapy.downloadermiddlewares.httpauth.HttpAuthMiddleware',\n",
      " 'scrapy.downloadermiddlewares.downloadtimeout.DownloadTimeoutMiddleware',\n",
      " 'scrapy.downloadermiddlewares.defaultheaders.DefaultHeadersMiddleware',\n",
      " 'scrapy.downloadermiddlewares.useragent.UserAgentMiddleware',\n",
      " 'scrapy.downloadermiddlewares.retry.RetryMiddleware',\n",
      " 'scrapy.downloadermiddlewares.redirect.MetaRefreshMiddleware',\n",
      " 'scrapy.downloadermiddlewares.httpcompression.HttpCompressionMiddleware',\n",
      " 'scrapy.downloadermiddlewares.redirect.RedirectMiddleware',\n",
      " 'scrapy.downloadermiddlewares.cookies.CookiesMiddleware',\n",
      " 'scrapy.downloadermiddlewares.httpproxy.HttpProxyMiddleware',\n",
      " 'scrapy.downloadermiddlewares.stats.DownloaderStats']\n",
      "2019-12-29 09:45:57 [scrapy.middleware] INFO: Enabled spider middlewares:\n",
      "['scrapy.spidermiddlewares.httperror.HttpErrorMiddleware',\n",
      " 'scrapy.spidermiddlewares.offsite.OffsiteMiddleware',\n",
      " 'scrapy.spidermiddlewares.referer.RefererMiddleware',\n",
      " 'scrapy.spidermiddlewares.urllength.UrlLengthMiddleware',\n",
      " 'scrapy.spidermiddlewares.depth.DepthMiddleware']\n",
      "2019-12-29 09:45:57 [scrapy.middleware] INFO: Enabled item pipelines:\n",
      "[]\n",
      "2019-12-29 09:45:57 [scrapy.core.engine] INFO: Spider opened\n",
      "2019-12-29 09:45:57 [scrapy.extensions.logstats] INFO: Crawled 0 pages (at 0 pages/min), scraped 0 items (at 0 items/min)\n",
      "2019-12-29 09:45:57 [scrapy.extensions.telnet] INFO: Telnet console listening on 127.0.0.1:6024\n",
      "2019-12-29 09:46:06 [scrapy.core.engine] DEBUG: Crawled (200) <GET https://www.lefigaro.fr/langue-francaise/actu-des-mots/ces-mots-pour-briller-durant-le-reveillon-du-31-entre-la-poire-et-le-fromage-20191229> (referer: None)\n",
      "2019-12-29 09:46:09 [scrapy.core.engine] DEBUG: Crawled (200) <GET https://www.lefigaro.fr/cinema/la-verite-kore-eda-joue-avec-deneuve-binoche-et-les-faux-semblants-20191229> (referer: None)\n",
      "2019-12-29 09:46:09 [scrapy.core.engine] INFO: Closing spider (finished)\n",
      "2019-12-29 09:46:09 [scrapy.statscollectors] INFO: Dumping Scrapy stats:\n",
      "{'downloader/request_bytes': 626,\n",
      " 'downloader/request_count': 2,\n",
      " 'downloader/request_method_count/GET': 2,\n",
      " 'downloader/response_bytes': 88370,\n",
      " 'downloader/response_count': 2,\n",
      " 'downloader/response_status_count/200': 2,\n",
      " 'elapsed_time_seconds': 12.165132,\n",
      " 'finish_reason': 'finished',\n",
      " 'finish_time': datetime.datetime(2019, 12, 29, 8, 46, 9, 346222),\n",
      " 'log_count/DEBUG': 2,\n",
      " 'log_count/INFO': 10,\n",
      " 'memusage/max': 81219584,\n",
      " 'memusage/startup': 81219584,\n",
      " 'response_received_count': 2,\n",
      " 'scheduler/dequeued': 2,\n",
      " 'scheduler/dequeued/memory': 2,\n",
      " 'scheduler/enqueued': 2,\n",
      " 'scheduler/enqueued/memory': 2,\n",
      " 'start_time': datetime.datetime(2019, 12, 29, 8, 45, 57, 181090)}\n",
      "2019-12-29 09:46:09 [scrapy.core.engine] INFO: Spider closed (finished)\n",
      "2019-12-29 10:45:56 [scrapy.crawler] INFO: Overridden settings: {'DOWNLOAD_DELAY': 2}\n",
      "2019-12-29 10:45:56 [scrapy.extensions.telnet] INFO: Telnet Password: 20328597a48fcf6f\n",
      "2019-12-29 10:45:56 [scrapy.middleware] INFO: Enabled extensions:\n",
      "['scrapy.extensions.corestats.CoreStats',\n",
      " 'scrapy.extensions.telnet.TelnetConsole',\n",
      " 'scrapy.extensions.memusage.MemoryUsage',\n",
      " 'scrapy.extensions.logstats.LogStats']\n",
      "2019-12-29 10:45:56 [scrapy.middleware] INFO: Enabled downloader middlewares:\n",
      "['scrapy.downloadermiddlewares.httpauth.HttpAuthMiddleware',\n",
      " 'scrapy.downloadermiddlewares.downloadtimeout.DownloadTimeoutMiddleware',\n",
      " 'scrapy.downloadermiddlewares.defaultheaders.DefaultHeadersMiddleware',\n",
      " 'scrapy.downloadermiddlewares.useragent.UserAgentMiddleware',\n",
      " 'scrapy.downloadermiddlewares.retry.RetryMiddleware',\n",
      " 'scrapy.downloadermiddlewares.redirect.MetaRefreshMiddleware',\n",
      " 'scrapy.downloadermiddlewares.httpcompression.HttpCompressionMiddleware',\n",
      " 'scrapy.downloadermiddlewares.redirect.RedirectMiddleware',\n",
      " 'scrapy.downloadermiddlewares.cookies.CookiesMiddleware',\n",
      " 'scrapy.downloadermiddlewares.httpproxy.HttpProxyMiddleware',\n",
      " 'scrapy.downloadermiddlewares.stats.DownloaderStats']\n",
      "2019-12-29 10:45:56 [scrapy.middleware] INFO: Enabled spider middlewares:\n",
      "['scrapy.spidermiddlewares.httperror.HttpErrorMiddleware',\n",
      " 'scrapy.spidermiddlewares.offsite.OffsiteMiddleware',\n",
      " 'scrapy.spidermiddlewares.referer.RefererMiddleware',\n",
      " 'scrapy.spidermiddlewares.urllength.UrlLengthMiddleware',\n",
      " 'scrapy.spidermiddlewares.depth.DepthMiddleware']\n",
      "2019-12-29 10:45:56 [scrapy.middleware] INFO: Enabled item pipelines:\n",
      "[]\n",
      "2019-12-29 10:45:56 [scrapy.core.engine] INFO: Spider opened\n",
      "2019-12-29 10:45:56 [scrapy.extensions.logstats] INFO: Crawled 0 pages (at 0 pages/min), scraped 0 items (at 0 items/min)\n",
      "2019-12-29 10:45:56 [scrapy.extensions.telnet] INFO: Telnet console listening on 127.0.0.1:6024\n",
      "2019-12-29 10:45:57 [scrapy.core.engine] DEBUG: Crawled (200) <GET https://www.telerama.fr/livre/trois-raisons-de-re-lire-grainger-des-etoiles,-ou-lart-des-cavalcades-spatiales-a-resonance,n6556585.php> (referer: None)\n",
      "2019-12-29 10:45:58 [scrapy.crawler] INFO: Overridden settings: {'DOWNLOAD_DELAY': 2}\n",
      "2019-12-29 10:45:58 [scrapy.extensions.telnet] INFO: Telnet Password: 1394cc458f53f46d\n",
      "2019-12-29 10:45:58 [scrapy.middleware] INFO: Enabled extensions:\n",
      "['scrapy.extensions.corestats.CoreStats',\n",
      " 'scrapy.extensions.telnet.TelnetConsole',\n",
      " 'scrapy.extensions.memusage.MemoryUsage',\n",
      " 'scrapy.extensions.logstats.LogStats']\n",
      "2019-12-29 10:45:58 [scrapy.middleware] INFO: Enabled downloader middlewares:\n",
      "['scrapy.downloadermiddlewares.httpauth.HttpAuthMiddleware',\n",
      " 'scrapy.downloadermiddlewares.downloadtimeout.DownloadTimeoutMiddleware',\n",
      " 'scrapy.downloadermiddlewares.defaultheaders.DefaultHeadersMiddleware',\n",
      " 'scrapy.downloadermiddlewares.useragent.UserAgentMiddleware',\n",
      " 'scrapy.downloadermiddlewares.retry.RetryMiddleware',\n",
      " 'scrapy.downloadermiddlewares.redirect.MetaRefreshMiddleware',\n",
      " 'scrapy.downloadermiddlewares.httpcompression.HttpCompressionMiddleware',\n",
      " 'scrapy.downloadermiddlewares.redirect.RedirectMiddleware',\n",
      " 'scrapy.downloadermiddlewares.cookies.CookiesMiddleware',\n",
      " 'scrapy.downloadermiddlewares.httpproxy.HttpProxyMiddleware',\n",
      " 'scrapy.downloadermiddlewares.stats.DownloaderStats']\n",
      "2019-12-29 10:45:58 [scrapy.middleware] INFO: Enabled spider middlewares:\n",
      "['scrapy.spidermiddlewares.httperror.HttpErrorMiddleware',\n",
      " 'scrapy.spidermiddlewares.offsite.OffsiteMiddleware',\n",
      " 'scrapy.spidermiddlewares.referer.RefererMiddleware',\n",
      " 'scrapy.spidermiddlewares.urllength.UrlLengthMiddleware',\n",
      " 'scrapy.spidermiddlewares.depth.DepthMiddleware']\n",
      "2019-12-29 10:45:58 [scrapy.middleware] INFO: Enabled item pipelines:\n",
      "[]\n",
      "2019-12-29 10:45:58 [scrapy.core.engine] INFO: Spider opened\n",
      "2019-12-29 10:45:58 [scrapy.extensions.logstats] INFO: Crawled 0 pages (at 0 pages/min), scraped 0 items (at 0 items/min)\n",
      "2019-12-29 10:45:58 [scrapy.extensions.telnet] INFO: Telnet console listening on 127.0.0.1:6025\n",
      "2019-12-29 10:45:58 [scrapy.core.engine] DEBUG: Crawled (200) <GET https://www.lefigaro.fr/conjoncture/reforme-des-retraites-ou-en-sommes-nous-apres-24-jours-de-greve-20191228> (referer: None)\n",
      "2019-12-29 10:45:58 [scrapy.core.engine] INFO: Closing spider (finished)\n",
      "2019-12-29 10:45:58 [scrapy.statscollectors] INFO: Dumping Scrapy stats:\n",
      "{'downloader/request_bytes': 298,\n",
      " 'downloader/request_count': 1,\n",
      " 'downloader/request_method_count/GET': 1,\n",
      " 'downloader/response_bytes': 46877,\n",
      " 'downloader/response_count': 1,\n",
      " 'downloader/response_status_count/200': 1,\n",
      " 'elapsed_time_seconds': 0.154594,\n",
      " 'finish_reason': 'finished',\n",
      " 'finish_time': datetime.datetime(2019, 12, 29, 9, 45, 58, 798222),\n",
      " 'log_count/DEBUG': 1,\n",
      " 'log_count/INFO': 10,\n",
      " 'memusage/max': 86032384,\n",
      " 'memusage/startup': 86032384,\n",
      " 'response_received_count': 1,\n",
      " 'scheduler/dequeued': 1,\n",
      " 'scheduler/dequeued/memory': 1,\n",
      " 'scheduler/enqueued': 1,\n",
      " 'scheduler/enqueued/memory': 1,\n",
      " 'start_time': datetime.datetime(2019, 12, 29, 9, 45, 58, 643628)}\n"
     ]
    },
    {
     "name": "stderr",
     "output_type": "stream",
     "text": [
      "2019-12-29 10:45:58 [scrapy.core.engine] INFO: Spider closed (finished)\n",
      "2019-12-29 10:46:00 [scrapy.core.engine] DEBUG: Crawled (200) <GET https://www.telerama.fr/sortir/bourse-du-commerce-en-attendant-louverture,-pinault-fait-monter-les-encheres,n6561103.php> (referer: None)\n",
      "2019-12-29 10:46:01 [telerama] DEBUG: Saved file Telerama #1.json\n",
      "2019-12-29 10:46:01 [scrapy.core.engine] INFO: Closing spider (finished)\n",
      "2019-12-29 10:46:01 [scrapy.statscollectors] INFO: Dumping Scrapy stats:\n",
      "{'downloader/request_bytes': 634,\n",
      " 'downloader/request_count': 2,\n",
      " 'downloader/request_method_count/GET': 2,\n",
      " 'downloader/response_bytes': 54990,\n",
      " 'downloader/response_count': 2,\n",
      " 'downloader/response_status_count/200': 2,\n",
      " 'elapsed_time_seconds': 4.182364,\n",
      " 'finish_reason': 'finished',\n",
      " 'finish_time': datetime.datetime(2019, 12, 29, 9, 46, 1, 116136),\n",
      " 'log_count/DEBUG': 4,\n",
      " 'log_count/INFO': 22,\n",
      " 'memusage/max': 86032384,\n",
      " 'memusage/startup': 86032384,\n",
      " 'response_received_count': 2,\n",
      " 'scheduler/dequeued': 2,\n",
      " 'scheduler/dequeued/memory': 2,\n",
      " 'scheduler/enqueued': 2,\n",
      " 'scheduler/enqueued/memory': 2,\n",
      " 'start_time': datetime.datetime(2019, 12, 29, 9, 45, 56, 933772)}\n",
      "2019-12-29 10:46:01 [scrapy.core.engine] INFO: Spider closed (finished)\n",
      "2019-12-29 10:46:03 [scrapy.crawler] INFO: Overridden settings: {'DOWNLOAD_DELAY': 2}\n",
      "2019-12-29 10:46:03 [scrapy.extensions.telnet] INFO: Telnet Password: 6134c79efa196e75\n",
      "2019-12-29 10:46:03 [scrapy.middleware] INFO: Enabled extensions:\n",
      "['scrapy.extensions.corestats.CoreStats',\n",
      " 'scrapy.extensions.telnet.TelnetConsole',\n",
      " 'scrapy.extensions.memusage.MemoryUsage',\n",
      " 'scrapy.extensions.logstats.LogStats']\n",
      "2019-12-29 10:46:03 [scrapy.middleware] INFO: Enabled downloader middlewares:\n",
      "['scrapy.downloadermiddlewares.httpauth.HttpAuthMiddleware',\n",
      " 'scrapy.downloadermiddlewares.downloadtimeout.DownloadTimeoutMiddleware',\n",
      " 'scrapy.downloadermiddlewares.defaultheaders.DefaultHeadersMiddleware',\n",
      " 'scrapy.downloadermiddlewares.useragent.UserAgentMiddleware',\n",
      " 'scrapy.downloadermiddlewares.retry.RetryMiddleware',\n",
      " 'scrapy.downloadermiddlewares.redirect.MetaRefreshMiddleware',\n",
      " 'scrapy.downloadermiddlewares.httpcompression.HttpCompressionMiddleware',\n",
      " 'scrapy.downloadermiddlewares.redirect.RedirectMiddleware',\n",
      " 'scrapy.downloadermiddlewares.cookies.CookiesMiddleware',\n",
      " 'scrapy.downloadermiddlewares.httpproxy.HttpProxyMiddleware',\n",
      " 'scrapy.downloadermiddlewares.stats.DownloaderStats']\n",
      "2019-12-29 10:46:03 [scrapy.middleware] INFO: Enabled spider middlewares:\n",
      "['scrapy.spidermiddlewares.httperror.HttpErrorMiddleware',\n",
      " 'scrapy.spidermiddlewares.offsite.OffsiteMiddleware',\n",
      " 'scrapy.spidermiddlewares.referer.RefererMiddleware',\n",
      " 'scrapy.spidermiddlewares.urllength.UrlLengthMiddleware',\n",
      " 'scrapy.spidermiddlewares.depth.DepthMiddleware']\n",
      "2019-12-29 10:46:03 [scrapy.middleware] INFO: Enabled item pipelines:\n",
      "[]\n",
      "2019-12-29 10:46:03 [scrapy.core.engine] INFO: Spider opened\n",
      "2019-12-29 10:46:03 [scrapy.extensions.logstats] INFO: Crawled 0 pages (at 0 pages/min), scraped 0 items (at 0 items/min)\n",
      "2019-12-29 10:46:03 [scrapy.extensions.telnet] INFO: Telnet console listening on 127.0.0.1:6024\n",
      "2019-12-29 10:46:03 [scrapy.core.engine] DEBUG: Crawled (200) <GET https://www.liberation.fr/planete/2019/12/29/42-questions-pour-en-finir-avec-2019_1771181?xtor=rss-450> (referer: None)\n",
      "2019-12-29 10:46:06 [scrapy.crawler] INFO: Overridden settings: {'DOWNLOAD_DELAY': 2}\n",
      "2019-12-29 10:46:06 [scrapy.extensions.telnet] INFO: Telnet Password: 52f99f926c22c142\n",
      "2019-12-29 10:46:06 [scrapy.middleware] INFO: Enabled extensions:\n",
      "['scrapy.extensions.corestats.CoreStats',\n",
      " 'scrapy.extensions.telnet.TelnetConsole',\n",
      " 'scrapy.extensions.memusage.MemoryUsage',\n",
      " 'scrapy.extensions.logstats.LogStats']\n",
      "2019-12-29 10:46:06 [scrapy.middleware] INFO: Enabled downloader middlewares:\n",
      "['scrapy.downloadermiddlewares.httpauth.HttpAuthMiddleware',\n",
      " 'scrapy.downloadermiddlewares.downloadtimeout.DownloadTimeoutMiddleware',\n",
      " 'scrapy.downloadermiddlewares.defaultheaders.DefaultHeadersMiddleware',\n",
      " 'scrapy.downloadermiddlewares.useragent.UserAgentMiddleware',\n",
      " 'scrapy.downloadermiddlewares.retry.RetryMiddleware',\n",
      " 'scrapy.downloadermiddlewares.redirect.MetaRefreshMiddleware',\n",
      " 'scrapy.downloadermiddlewares.httpcompression.HttpCompressionMiddleware',\n",
      " 'scrapy.downloadermiddlewares.redirect.RedirectMiddleware',\n",
      " 'scrapy.downloadermiddlewares.cookies.CookiesMiddleware',\n",
      " 'scrapy.downloadermiddlewares.httpproxy.HttpProxyMiddleware',\n",
      " 'scrapy.downloadermiddlewares.stats.DownloaderStats']\n",
      "2019-12-29 10:46:06 [scrapy.middleware] INFO: Enabled spider middlewares:\n",
      "['scrapy.spidermiddlewares.httperror.HttpErrorMiddleware',\n",
      " 'scrapy.spidermiddlewares.offsite.OffsiteMiddleware',\n",
      " 'scrapy.spidermiddlewares.referer.RefererMiddleware',\n",
      " 'scrapy.spidermiddlewares.urllength.UrlLengthMiddleware',\n",
      " 'scrapy.spidermiddlewares.depth.DepthMiddleware']\n",
      "2019-12-29 10:46:06 [scrapy.middleware] INFO: Enabled item pipelines:\n",
      "[]\n",
      "2019-12-29 10:46:06 [scrapy.core.engine] INFO: Spider opened\n",
      "2019-12-29 10:46:06 [scrapy.extensions.logstats] INFO: Crawled 0 pages (at 0 pages/min), scraped 0 items (at 0 items/min)\n",
      "2019-12-29 10:46:06 [scrapy.extensions.telnet] INFO: Telnet console listening on 127.0.0.1:6025\n",
      "2019-12-29 10:46:06 [scrapy.downloadermiddlewares.redirect] DEBUG: Redirecting (301) to <GET http://enlargeyourparis.blogs.liberation.fr/2019/12/29/le-bain-de-foret-futur-parcours-artistique-tremblay/> from <GET https://www.liberation.fr/culture/2019/12/29/le-bain-de-foret-futur-parcours-artistique-a-tremblay_1771294?xtor=rss-450>\n",
      "2019-12-29 10:46:06 [scrapy.core.engine] DEBUG: Crawled (200) <GET https://www.lemonde.fr/culture/article/2019/12/27/nos-films-coup-de-c-ur-de-2019_6024158_3246.html> (referer: None)\n",
      "2019-12-29 10:46:08 [scrapy.crawler] INFO: Overridden settings: {'DOWNLOAD_DELAY': 2}\n",
      "2019-12-29 10:46:08 [scrapy.extensions.telnet] INFO: Telnet Password: f497684208bc9966\n",
      "2019-12-29 10:46:08 [scrapy.middleware] INFO: Enabled extensions:\n",
      "['scrapy.extensions.corestats.CoreStats',\n",
      " 'scrapy.extensions.telnet.TelnetConsole',\n",
      " 'scrapy.extensions.memusage.MemoryUsage',\n",
      " 'scrapy.extensions.logstats.LogStats']\n",
      "2019-12-29 10:46:08 [scrapy.middleware] INFO: Enabled downloader middlewares:\n",
      "['scrapy.downloadermiddlewares.httpauth.HttpAuthMiddleware',\n",
      " 'scrapy.downloadermiddlewares.downloadtimeout.DownloadTimeoutMiddleware',\n",
      " 'scrapy.downloadermiddlewares.defaultheaders.DefaultHeadersMiddleware',\n",
      " 'scrapy.downloadermiddlewares.useragent.UserAgentMiddleware',\n",
      " 'scrapy.downloadermiddlewares.retry.RetryMiddleware',\n",
      " 'scrapy.downloadermiddlewares.redirect.MetaRefreshMiddleware',\n",
      " 'scrapy.downloadermiddlewares.httpcompression.HttpCompressionMiddleware',\n",
      " 'scrapy.downloadermiddlewares.redirect.RedirectMiddleware',\n",
      " 'scrapy.downloadermiddlewares.cookies.CookiesMiddleware',\n",
      " 'scrapy.downloadermiddlewares.httpproxy.HttpProxyMiddleware',\n",
      " 'scrapy.downloadermiddlewares.stats.DownloaderStats']\n",
      "2019-12-29 10:46:08 [scrapy.middleware] INFO: Enabled spider middlewares:\n",
      "['scrapy.spidermiddlewares.httperror.HttpErrorMiddleware',\n",
      " 'scrapy.spidermiddlewares.offsite.OffsiteMiddleware',\n",
      " 'scrapy.spidermiddlewares.referer.RefererMiddleware',\n",
      " 'scrapy.spidermiddlewares.urllength.UrlLengthMiddleware',\n",
      " 'scrapy.spidermiddlewares.depth.DepthMiddleware']\n",
      "2019-12-29 10:46:08 [scrapy.middleware] INFO: Enabled item pipelines:\n",
      "[]\n",
      "2019-12-29 10:46:08 [scrapy.core.engine] INFO: Spider opened\n",
      "2019-12-29 10:46:08 [scrapy.extensions.logstats] INFO: Crawled 0 pages (at 0 pages/min), scraped 0 items (at 0 items/min)\n",
      "2019-12-29 10:46:08 [scrapy.extensions.telnet] INFO: Telnet console listening on 127.0.0.1:6026\n",
      "2019-12-29 10:46:08 [lemonde] DEBUG: Saved file Le Monde #1.json\n",
      "2019-12-29 10:46:08 [scrapy.core.engine] DEBUG: Crawled (403) <GET http://info.nouvelobs.com/monde/20130819.OBS3565/egypte-l-armee-se-bat-pour-conserver-ses-privileges-economiques.html?xtor=RSS-14> (referer: None)\n",
      "2019-12-29 10:46:08 [scrapy.spidermiddlewares.httperror] INFO: Ignoring response <403 http://info.nouvelobs.com/monde/20130819.OBS3565/egypte-l-armee-se-bat-pour-conserver-ses-privileges-economiques.html?xtor=RSS-14>: HTTP status code is not handled or not allowed\n",
      "2019-12-29 10:46:09 [scrapy.core.engine] DEBUG: Crawled (200) <GET https://www.lemonde.fr/international/article/2019/12/29/chercheurs-detenus-en-iran-teheran-denonce-l-ingerence-de-paris_6024327_3210.html> (referer: None)\n"
     ]
    },
    {
     "name": "stderr",
     "output_type": "stream",
     "text": [
      "2019-12-29 10:46:09 [scrapy.core.engine] DEBUG: Crawled (200) <GET http://enlargeyourparis.blogs.liberation.fr/2019/12/29/le-bain-de-foret-futur-parcours-artistique-tremblay/> (referer: None)\n",
      "2019-12-29 10:46:09 [lemonde] DEBUG: Saved file Le Monde #2.json\n",
      "2019-12-29 10:46:09 [scrapy.core.engine] INFO: Closing spider (finished)\n",
      "2019-12-29 10:46:09 [scrapy.statscollectors] INFO: Dumping Scrapy stats:\n",
      "{'downloader/request_bytes': 615,\n",
      " 'downloader/request_count': 2,\n",
      " 'downloader/request_method_count/GET': 2,\n",
      " 'downloader/response_bytes': 105911,\n",
      " 'downloader/response_count': 2,\n",
      " 'downloader/response_status_count/200': 2,\n",
      " 'elapsed_time_seconds': 3.305562,\n",
      " 'finish_reason': 'finished',\n",
      " 'finish_time': datetime.datetime(2019, 12, 29, 9, 46, 9, 593928),\n",
      " 'log_count/DEBUG': 7,\n",
      " 'log_count/INFO': 20,\n",
      " 'memusage/max': 86032384,\n",
      " 'memusage/startup': 86032384,\n",
      " 'response_received_count': 2,\n",
      " 'scheduler/dequeued': 2,\n",
      " 'scheduler/dequeued/memory': 2,\n",
      " 'scheduler/enqueued': 2,\n",
      " 'scheduler/enqueued/memory': 2,\n",
      " 'start_time': datetime.datetime(2019, 12, 29, 9, 46, 6, 288366)}\n",
      "2019-12-29 10:46:09 [scrapy.core.engine] INFO: Spider closed (finished)\n",
      "2019-12-29 10:46:09 [scrapy.core.engine] INFO: Closing spider (finished)\n",
      "2019-12-29 10:46:09 [scrapy.statscollectors] INFO: Dumping Scrapy stats:\n",
      "{'downloader/request_bytes': 899,\n",
      " 'downloader/request_count': 3,\n",
      " 'downloader/request_method_count/GET': 3,\n",
      " 'downloader/response_bytes': 54570,\n",
      " 'downloader/response_count': 3,\n",
      " 'downloader/response_status_count/200': 2,\n",
      " 'downloader/response_status_count/301': 1,\n",
      " 'elapsed_time_seconds': 5.997534,\n",
      " 'finish_reason': 'finished',\n",
      " 'finish_time': datetime.datetime(2019, 12, 29, 9, 46, 9, 616582),\n",
      " 'log_count/DEBUG': 8,\n",
      " 'log_count/INFO': 32,\n",
      " 'memusage/max': 86032384,\n",
      " 'memusage/startup': 86032384,\n",
      " 'response_received_count': 2,\n",
      " 'scheduler/dequeued': 3,\n",
      " 'scheduler/dequeued/memory': 3,\n",
      " 'scheduler/enqueued': 3,\n",
      " 'scheduler/enqueued/memory': 3,\n",
      " 'start_time': datetime.datetime(2019, 12, 29, 9, 46, 3, 619048)}\n",
      "2019-12-29 10:46:09 [scrapy.core.engine] INFO: Spider closed (finished)\n",
      "2019-12-29 10:46:11 [scrapy.core.engine] DEBUG: Crawled (403) <GET http://info.nouvelobs.com/monde/20130719.OBS0244/faillite-de-detroit-vers-une-cure-de-rigueur-pour-motor-city.html?xtor=RSS-14> (referer: None)\n",
      "2019-12-29 10:46:11 [scrapy.spidermiddlewares.httperror] INFO: Ignoring response <403 http://info.nouvelobs.com/monde/20130719.OBS0244/faillite-de-detroit-vers-une-cure-de-rigueur-pour-motor-city.html?xtor=RSS-14>: HTTP status code is not handled or not allowed\n",
      "2019-12-29 10:46:13 [scrapy.core.engine] DEBUG: Crawled (403) <GET http://info.nouvelobs.com/economie/20130612.OBS2925/quand-la-grece-re-devient-un-pays-emergent.html?xtor=RSS-16> (referer: None)\n",
      "2019-12-29 10:46:13 [scrapy.spidermiddlewares.httperror] INFO: Ignoring response <403 http://info.nouvelobs.com/economie/20130612.OBS2925/quand-la-grece-re-devient-un-pays-emergent.html?xtor=RSS-16>: HTTP status code is not handled or not allowed\n",
      "2019-12-29 10:46:16 [scrapy.core.engine] DEBUG: Crawled (403) <GET http://info.nouvelobs.com/monde/20130419.OBS6392/otages-trois-manieres-de-traiter-avec-les-terroristes.html?xtor=RSS-14> (referer: None)\n",
      "2019-12-29 10:46:16 [scrapy.spidermiddlewares.httperror] INFO: Ignoring response <403 http://info.nouvelobs.com/monde/20130419.OBS6392/otages-trois-manieres-de-traiter-avec-les-terroristes.html?xtor=RSS-14>: HTTP status code is not handled or not allowed\n",
      "2019-12-29 10:46:19 [scrapy.core.engine] DEBUG: Crawled (403) <GET http://info.nouvelobs.com/monde/20130331.OBS6291/coree-du-nord-entre-provocations-et-menace-pour-la-paix.html?xtor=RSS-14> (referer: None)\n",
      "2019-12-29 10:46:19 [scrapy.spidermiddlewares.httperror] INFO: Ignoring response <403 http://info.nouvelobs.com/monde/20130331.OBS6291/coree-du-nord-entre-provocations-et-menace-pour-la-paix.html?xtor=RSS-14>: HTTP status code is not handled or not allowed\n",
      "2019-12-29 10:46:21 [scrapy.core.engine] DEBUG: Crawled (403) <GET http://info.nouvelobs.com/economie/la-crise-de-l-euro/20130318.OBS2230/comment-chypre-en-est-arrive-la.html> (referer: None)\n",
      "2019-12-29 10:46:21 [scrapy.spidermiddlewares.httperror] INFO: Ignoring response <403 http://info.nouvelobs.com/economie/la-crise-de-l-euro/20130318.OBS2230/comment-chypre-en-est-arrive-la.html>: HTTP status code is not handled or not allowed\n",
      "2019-12-29 10:46:23 [scrapy.core.engine] DEBUG: Crawled (403) <GET http://info.nouvelobs.com/monde/20130226.OBS0058/cohn-bendit-ces-elections-sanctionnent-l-europe-de-l-austerite.html?xtor=RSS-14> (referer: None)\n",
      "2019-12-29 10:46:23 [scrapy.spidermiddlewares.httperror] INFO: Ignoring response <403 http://info.nouvelobs.com/monde/20130226.OBS0058/cohn-bendit-ces-elections-sanctionnent-l-europe-de-l-austerite.html?xtor=RSS-14>: HTTP status code is not handled or not allowed\n",
      "2019-12-29 10:46:25 [scrapy.core.engine] DEBUG: Crawled (403) <GET http://info.nouvelobs.com/monde/20130119.OBS5952/algerie-retour-sur-4-jours-d-une-prise-d-otages-hors-norme.html?xtor=RSS-14> (referer: None)\n",
      "2019-12-29 10:46:25 [scrapy.spidermiddlewares.httperror] INFO: Ignoring response <403 http://info.nouvelobs.com/monde/20130119.OBS5952/algerie-retour-sur-4-jours-d-une-prise-d-otages-hors-norme.html?xtor=RSS-14>: HTTP status code is not handled or not allowed\n",
      "2019-12-29 10:46:27 [scrapy.core.engine] DEBUG: Crawled (403) <GET http://info.nouvelobs.com/politique/20121220.OBS3214/ce-qu-il-faut-retenir-du-discours-d-hollande-a-alger.html?xtor=RSS-15> (referer: None)\n",
      "2019-12-29 10:46:27 [scrapy.spidermiddlewares.httperror] INFO: Ignoring response <403 http://info.nouvelobs.com/politique/20121220.OBS3214/ce-qu-il-faut-retenir-du-discours-d-hollande-a-alger.html?xtor=RSS-15>: HTTP status code is not handled or not allowed\n",
      "2019-12-29 10:46:29 [scrapy.core.engine] DEBUG: Crawled (403) <GET http://info.nouvelobs.com/monde/fusillade-de-newtown/20121215.OBS2624/la-tuerie-de-newton-ne-va-pas-relancer-le-debat-sur-les-armes.html?xtor=RSS-19> (referer: None)\n",
      "2019-12-29 10:46:30 [scrapy.spidermiddlewares.httperror] INFO: Ignoring response <403 http://info.nouvelobs.com/monde/fusillade-de-newtown/20121215.OBS2624/la-tuerie-de-newton-ne-va-pas-relancer-le-debat-sur-les-armes.html?xtor=RSS-19>: HTTP status code is not handled or not allowed\n",
      "2019-12-29 10:46:31 [scrapy.core.engine] DEBUG: Crawled (403) <GET http://info.nouvelobs.com/monde/20121012.OBS5535/nobel-l-union-doit-reclamer-un-siege-au-conseil-de-securite.html?xtor=RSS-14> (referer: None)\n",
      "2019-12-29 10:46:31 [scrapy.spidermiddlewares.httperror] INFO: Ignoring response <403 http://info.nouvelobs.com/monde/20121012.OBS5535/nobel-l-union-doit-reclamer-un-siege-au-conseil-de-securite.html?xtor=RSS-14>: HTTP status code is not handled or not allowed\n",
      "2019-12-29 10:46:34 [scrapy.core.engine] DEBUG: Crawled (403) <GET http://info.nouvelobs.com/monde/20120727.OBS8343/le-commerce-des-armes-enfin-regule.html?xtor=RSS-14> (referer: None)\n",
      "2019-12-29 10:46:34 [scrapy.spidermiddlewares.httperror] INFO: Ignoring response <403 http://info.nouvelobs.com/monde/20120727.OBS8343/le-commerce-des-armes-enfin-regule.html?xtor=RSS-14>: HTTP status code is not handled or not allowed\n",
      "2019-12-29 10:46:36 [scrapy.core.engine] DEBUG: Crawled (403) <GET http://info.nouvelobs.com/monde/20120720.OBS7884/la-tuerie-du-colorado-relance-le-debat-sur-le-controle-des-armes.html?xtor=RSS-14> (referer: None)\n",
      "2019-12-29 10:46:36 [scrapy.spidermiddlewares.httperror] INFO: Ignoring response <403 http://info.nouvelobs.com/monde/20120720.OBS7884/la-tuerie-du-colorado-relance-le-debat-sur-le-controle-des-armes.html?xtor=RSS-14>: HTTP status code is not handled or not allowed\n",
      "2019-12-29 10:46:36 [scrapy.core.engine] INFO: Closing spider (finished)\n",
      "2019-12-29 10:46:36 [scrapy.statscollectors] INFO: Dumping Scrapy stats:\n",
      "{'downloader/request_bytes': 4073,\n",
      " 'downloader/request_count': 13,\n",
      " 'downloader/request_method_count/GET': 13,\n",
      " 'downloader/response_bytes': 14794,\n",
      " 'downloader/response_count': 13,\n",
      " 'downloader/response_status_count/403': 13,\n",
      " 'elapsed_time_seconds': 28.580917,\n",
      " 'finish_reason': 'finished',\n",
      " 'finish_time': datetime.datetime(2019, 12, 29, 9, 46, 36, 820909),\n",
      " 'httperror/response_ignored_count': 13,\n",
      " 'httperror/response_ignored_status_count/403': 13,\n",
      " 'log_count/DEBUG': 17,\n",
      " 'log_count/INFO': 29,\n",
      " 'memusage/max': 86032384,\n",
      " 'memusage/startup': 86032384,\n",
      " 'response_received_count': 13,\n",
      " 'scheduler/dequeued': 13,\n",
      " 'scheduler/dequeued/memory': 13,\n",
      " 'scheduler/enqueued': 13,\n",
      " 'scheduler/enqueued/memory': 13,\n",
      " 'start_time': datetime.datetime(2019, 12, 29, 9, 46, 8, 239992)}\n"
     ]
    },
    {
     "name": "stderr",
     "output_type": "stream",
     "text": [
      "2019-12-29 10:46:36 [scrapy.core.engine] INFO: Spider closed (finished)\n"
     ]
    }
   ],
   "source": [
    "import os\n",
    "from newspaper_crawler import NewspaperCrawler\n",
    "\n",
    "sources_to_crawl = [\n",
    "    \"futurasciences\",\n",
    "    \"lefigaro\",\n",
    "    \"lemonde\",\n",
    "    \"liberation\",\n",
    "    \"nouvelobs\",\n",
    "    \"telerama\",\n",
    "]\n",
    "# current folder\n",
    "my_current_path = os.getcwd()\n",
    "print(\"Current Folder: \", my_current_path)\n",
    "# change to save folder\n",
    "os.chdir(PATH_FOLDER_SAVE)\n",
    "print(\"Scraping Results Folder: \", PATH_FOLDER_SAVE)\n",
    "# scraping\n",
    "crawler = NewspaperCrawler(sources_to_crawl, has_database=True)\n",
    "crawler.start_crawling()\n"
   ]
  },
  {
   "cell_type": "code",
   "execution_count": 5,
   "metadata": {},
   "outputs": [
    {
     "name": "stdout",
     "output_type": "stream",
     "text": [
      "Return Folder:  /Users/gregory/Documents/CloudStationSinchon/Applications/python/OC_IML_projet_7/code/FakeNewsDetectionFr\n"
     ]
    }
   ],
   "source": [
    "os.chdir(my_current_path)\n",
    "print(\"Return Folder: \", os.getcwd())"
   ]
  },
  {
   "cell_type": "markdown",
   "metadata": {},
   "source": [
    "## save json into data folder"
   ]
  },
  {
   "cell_type": "code",
   "execution_count": 6,
   "metadata": {},
   "outputs": [
    {
     "data": {
      "text/plain": [
       "'../../data'"
      ]
     },
     "execution_count": 6,
     "metadata": {},
     "output_type": "execute_result"
    }
   ],
   "source": [
    "PATH_FOLDER_SAVE"
   ]
  },
  {
   "cell_type": "code",
   "execution_count": 7,
   "metadata": {},
   "outputs": [
    {
     "name": "stdout",
     "output_type": "stream",
     "text": [
      "Directory '../../data/pressarticles_20191229_10_59_43' created\n"
     ]
    }
   ],
   "source": [
    "# move results to directory with date\n",
    "save_results_newpaper_crawler(PATH_FOLDER_SAVE)"
   ]
  },
  {
   "cell_type": "markdown",
   "metadata": {},
   "source": [
    "## Read DataBase"
   ]
  },
  {
   "cell_type": "code",
   "execution_count": 8,
   "metadata": {},
   "outputs": [
    {
     "name": "stderr",
     "output_type": "stream",
     "text": [
      "2019-12-29 10:59:46 [matplotlib] DEBUG: $HOME=/Users/gregory\n",
      "2019-12-29 10:59:46 [matplotlib] DEBUG: CONFIGDIR=/Users/gregory/.matplotlib\n",
      "2019-12-29 10:59:46 [matplotlib] DEBUG: matplotlib data path: /anaconda3/lib/python3.7/site-packages/matplotlib/mpl-data\n",
      "2019-12-29 10:59:46 [matplotlib] DEBUG: loaded rc file /anaconda3/lib/python3.7/site-packages/matplotlib/mpl-data/matplotlibrc\n",
      "2019-12-29 10:59:46 [matplotlib] DEBUG: matplotlib version 3.0.2\n",
      "2019-12-29 10:59:46 [matplotlib] DEBUG: interactive is False\n",
      "2019-12-29 10:59:46 [matplotlib] DEBUG: platform is darwin\n",
      "2019-12-29 10:59:46 [matplotlib] DEBUG: loaded modules: ['sys', 'builtins', '_frozen_importlib', '_imp', '_thread', '_warnings', '_weakref', 'zipimport', '_frozen_importlib_external', '_io', 'marshal', 'posix', 'encodings', 'codecs', '_codecs', 'encodings.aliases', 'encodings.utf_8', '_signal', '__main__', 'encodings.latin_1', 'io', 'abc', '_abc', '_bootlocale', '_locale', 'site', 'os', 'stat', '_stat', 'posixpath', 'genericpath', 'os.path', '_collections_abc', '_sitebuiltins', 'types', 'importlib', 'importlib._bootstrap', 'importlib._bootstrap_external', 'warnings', 'importlib.util', 'importlib.abc', 'importlib.machinery', 'contextlib', 'collections', 'operator', '_operator', 'keyword', 'heapq', '_heapq', 'itertools', 'reprlib', '_collections', 'functools', '_functools', 'mpl_toolkits', 'sphinxcontrib', 'zope', 'runpy', 'pkgutil', 'weakref', '_weakrefset', 'ipykernel', 'ipykernel._version', 'ipykernel.connect', '__future__', 'json', 'json.decoder', 're', 'enum', 'sre_compile', '_sre', 'sre_parse', 'sre_constants', 'copyreg', 'json.scanner', '_json', 'json.encoder', 'subprocess', 'time', 'signal', 'errno', '_posixsubprocess', 'select', 'selectors', 'collections.abc', 'math', 'threading', 'traceback', 'linecache', 'tokenize', 'token', 'IPython', 'IPython.core', 'IPython.core.getipython', 'IPython.core.release', 'IPython.core.application', 'atexit', 'copy', 'glob', 'fnmatch', 'logging', 'string', '_string', 'shutil', 'zlib', 'bz2', '_compression', '_bz2', 'lzma', '_lzma', 'pwd', 'grp', 'traitlets', 'traitlets.traitlets', 'inspect', 'dis', 'opcode', '_opcode', 'six', 'struct', '_struct', 'traitlets.utils', 'traitlets.utils.getargspec', 'traitlets.utils.importstring', 'ipython_genutils', 'ipython_genutils._version', 'ipython_genutils.py3compat', 'ipython_genutils.encoding', 'locale', 'platform', 'traitlets.utils.sentinel', 'traitlets.utils.bunch', 'traitlets._version', 'traitlets.config', 'traitlets.config.application', 'decorator', 'traitlets.config.configurable', 'traitlets.config.loader', 'argparse', 'gettext', 'ast', '_ast', 'ipython_genutils.path', 'random', 'hashlib', '_hashlib', '_blake2', '_sha3', 'bisect', '_bisect', '_random', 'ipython_genutils.text', 'textwrap', 'ipython_genutils.importstring', 'IPython.core.crashhandler', 'pprint', 'IPython.core.ultratb', 'pydoc', 'urllib', 'urllib.parse', 'IPython.core.debugger', 'bdb', 'IPython.utils', 'IPython.utils.PyColorize', 'IPython.utils.coloransi', 'IPython.utils.ipstruct', 'IPython.utils.colorable', 'pygments', 'pygments.util', 'IPython.utils.py3compat', 'IPython.utils.encoding', 'IPython.core.excolors', 'IPython.testing', 'IPython.testing.skipdoctest', 'pdb', 'cmd', 'code', 'codeop', 'IPython.core.display_trap', 'IPython.utils.path', 'IPython.utils.process', 'IPython.utils._process_posix', 'pexpect', 'pexpect.exceptions', 'pexpect.utils', 'pexpect.expect', 'pexpect.pty_spawn', 'pty', 'tty', 'termios', 'ptyprocess', 'ptyprocess.ptyprocess', 'fcntl', 'resource', 'ptyprocess.util', 'pexpect.spawnbase', 'pexpect.run', 'IPython.utils._process_common', 'shlex', 'IPython.utils.decorators', 'IPython.utils.data', 'IPython.utils.terminal', 'IPython.utils.sysinfo', 'IPython.utils._sysinfo', 'IPython.core.profiledir', 'IPython.paths', 'tempfile', 'IPython.utils.importstring', 'IPython.terminal', 'IPython.terminal.embed', 'IPython.core.compilerop', 'IPython.core.magic_arguments', 'IPython.core.error', 'IPython.utils.text', 'pathlib', 'ntpath', 'IPython.core.magic', 'getopt', 'IPython.core.oinspect', 'IPython.core.page', 'IPython.core.display', 'binascii', 'mimetypes', 'IPython.lib', 'IPython.lib.security', 'getpass', 'IPython.lib.pretty', 'datetime', '_datetime', 'IPython.utils.openpy', 'IPython.utils.dir2', 'IPython.utils.wildcard', 'pygments.lexers', 'pygments.lexers._mapping', 'pygments.modeline', 'pygments.plugin', 'pygments.lexers.python', 'pygments.lexer', 'pygments.filter', 'pygments.filters', 'pygments.token', 'pygments.regexopt', 'pygments.unistring', 'pygments.formatters', 'pygments.formatters._mapping', 'pygments.formatters.html', 'pygments.formatter', 'pygments.styles', 'IPython.core.inputtransformer2', 'typing', 'typing.io', 'typing.re', 'IPython.core.interactiveshell', 'asyncio', 'asyncio.base_events', 'concurrent', 'concurrent.futures', 'concurrent.futures._base', 'socket', '_socket', 'ssl', '_ssl', 'base64', 'asyncio.constants', 'asyncio.coroutines', 'asyncio.base_futures', 'asyncio.format_helpers', 'asyncio.log', 'asyncio.events', 'contextvars', '_contextvars', 'asyncio.base_tasks', '_asyncio', 'asyncio.futures', 'asyncio.protocols', 'asyncio.sslproto', 'asyncio.transports', 'asyncio.tasks', 'asyncio.locks', 'asyncio.runners', 'asyncio.queues', 'asyncio.streams', 'asyncio.subprocess', 'asyncio.unix_events', 'asyncio.base_subprocess', 'asyncio.selector_events', 'pickleshare', 'pickle', '_compat_pickle', '_pickle', 'IPython.core.prefilter', 'IPython.core.autocall', 'IPython.core.macro', 'IPython.core.splitinput', 'IPython.core.alias', 'IPython.core.builtin_trap', 'IPython.core.events', 'backcall', 'backcall.backcall', 'IPython.core.displayhook', 'IPython.core.displaypub', 'IPython.core.extensions', 'IPython.core.formatters', 'IPython.utils.sentinel', 'IPython.core.history', 'sqlite3', 'sqlite3.dbapi2', '_sqlite3', 'IPython.core.logger', 'IPython.core.payload', 'IPython.core.usage', 'IPython.display', 'IPython.lib.display', 'html', 'html.entities', 'IPython.utils.io', 'IPython.utils.capture', 'IPython.utils.strdispatch', 'IPython.core.hooks', 'IPython.utils.syspathcontext', 'IPython.utils.tempdir', 'IPython.utils.contexts', 'IPython.core.async_helpers', 'IPython.terminal.interactiveshell', 'prompt_toolkit', 'prompt_toolkit.application', 'prompt_toolkit.application.application', 'prompt_toolkit.buffer', 'prompt_toolkit.application.current', 'prompt_toolkit.eventloop', 'prompt_toolkit.eventloop.base', 'prompt_toolkit.log', 'prompt_toolkit.eventloop.coroutine', 'prompt_toolkit.eventloop.defaults', 'prompt_toolkit.utils', 'six.moves', 'wcwidth', 'wcwidth.wcwidth', 'wcwidth.table_wide', 'wcwidth.table_zero', 'prompt_toolkit.cache', 'prompt_toolkit.eventloop.future', 'prompt_toolkit.eventloop.context', 'prompt_toolkit.eventloop.async_generator', 'queue', '_queue', 'six.moves.queue', 'prompt_toolkit.eventloop.event', 'prompt_toolkit.application.run_in_terminal', 'prompt_toolkit.auto_suggest', 'prompt_toolkit.filters', 'prompt_toolkit.filters.base', 'prompt_toolkit.filters.app', 'prompt_toolkit.enums', 'prompt_toolkit.filters.utils', 'prompt_toolkit.filters.cli', 'prompt_toolkit.clipboard', 'prompt_toolkit.clipboard.base', 'prompt_toolkit.selection', 'prompt_toolkit.clipboard.in_memory', 'prompt_toolkit.completion', 'prompt_toolkit.completion.base', 'prompt_toolkit.completion.filesystem', 'prompt_toolkit.completion.word_completer', 'prompt_toolkit.document', 'prompt_toolkit.history', 'prompt_toolkit.search', 'prompt_toolkit.key_binding', 'prompt_toolkit.key_binding.key_bindings', 'prompt_toolkit.keys', 'prompt_toolkit.key_binding.vi_state', 'prompt_toolkit.validation', 'prompt_toolkit.input', 'prompt_toolkit.input.base', 'prompt_toolkit.input.defaults', 'prompt_toolkit.input.typeahead', 'prompt_toolkit.key_binding.bindings', 'prompt_toolkit.key_binding.bindings.page_navigation', 'prompt_toolkit.key_binding.bindings.scroll', 'prompt_toolkit.key_binding.defaults', 'prompt_toolkit.key_binding.bindings.basic', 'prompt_toolkit.key_binding.key_processor', 'prompt_toolkit.key_binding.bindings.named_commands', 'prompt_toolkit.key_binding.bindings.completion', 'prompt_toolkit.key_binding.bindings.emacs', 'prompt_toolkit.key_binding.bindings.vi', 'prompt_toolkit.input.vt100_parser', 'prompt_toolkit.input.ansi_escape_sequences', 'prompt_toolkit.key_binding.digraphs', 'prompt_toolkit.key_binding.bindings.mouse', 'prompt_toolkit.layout', 'prompt_toolkit.layout.containers', 'prompt_toolkit.layout.controls', 'prompt_toolkit.formatted_text', 'prompt_toolkit.formatted_text.base', 'prompt_toolkit.formatted_text.html', 'xml', 'xml.dom', 'xml.dom.domreg', 'xml.dom.minidom', 'xml.dom.minicompat', 'xml.dom.xmlbuilder', 'xml.dom.NodeFilter', 'prompt_toolkit.formatted_text.ansi', 'prompt_toolkit.output', 'prompt_toolkit.output.base', 'prompt_toolkit.layout.screen', 'prompt_toolkit.output.defaults', 'prompt_toolkit.output.color_depth', 'prompt_toolkit.output.vt100', 'prompt_toolkit.styles', 'prompt_toolkit.styles.base', 'prompt_toolkit.styles.defaults', 'prompt_toolkit.styles.style', 'prompt_toolkit.styles.named_colors', 'prompt_toolkit.styles.pygments', 'prompt_toolkit.styles.style_transformation', 'colorsys', 'array', 'prompt_toolkit.formatted_text.pygments', 'prompt_toolkit.formatted_text.utils', 'prompt_toolkit.lexers', 'prompt_toolkit.lexers.base', 'prompt_toolkit.lexers.pygments', 'prompt_toolkit.mouse_events', 'prompt_toolkit.layout.processors', 'prompt_toolkit.layout.utils', 'prompt_toolkit.layout.dimension', 'prompt_toolkit.layout.margins', 'prompt_toolkit.layout.layout', 'prompt_toolkit.layout.menus', 'prompt_toolkit.renderer', 'prompt_toolkit.layout.mouse_handlers', 'prompt_toolkit.key_binding.bindings.cpr', 'prompt_toolkit.key_binding.emacs_state', 'prompt_toolkit.layout.dummy', 'prompt_toolkit.application.dummy', 'prompt_toolkit.shortcuts', 'prompt_toolkit.shortcuts.dialogs', 'prompt_toolkit.key_binding.bindings.focus', 'prompt_toolkit.widgets', 'prompt_toolkit.widgets.base', 'prompt_toolkit.widgets.toolbars', 'prompt_toolkit.widgets.dialogs', 'prompt_toolkit.widgets.menus', 'prompt_toolkit.shortcuts.prompt', 'prompt_toolkit.key_binding.bindings.auto_suggest', 'prompt_toolkit.key_binding.bindings.open_in_editor', 'prompt_toolkit.shortcuts.utils', 'prompt_toolkit.shortcuts.progress_bar', 'prompt_toolkit.shortcuts.progress_bar.base', 'prompt_toolkit.shortcuts.progress_bar.formatters', 'prompt_toolkit.patch_stdout', 'pygments.style', 'IPython.terminal.debugger', 'IPython.core.completer', 'unicodedata', 'IPython.core.latex_symbols', 'IPython.utils.generics', 'jedi', 'jedi.api', 'parso', 'parso.parser', 'parso.tree', 'parso._compatibility', 'parso.pgen2', 'parso.pgen2.generator', 'parso.pgen2.grammar_parser', 'parso.python', 'parso.python.tokenize', 'parso.python.token', 'parso.utils', 'parso.grammar', 'parso.python.diff', 'difflib', 'parso.python.parser', 'parso.python.tree', 'parso.python.prefix', 'parso.cache', 'gc', 'parso.python.errors', 'parso.normalizer', 'parso.python.pep8', 'jedi._compatibility', 'jedi.parser_utils', 'jedi.debug', 'colorama', 'colorama.initialise', 'colorama.ansitowin32', 'colorama.ansi', 'colorama.winterm', 'colorama.win32', 'ctypes', '_ctypes', 'ctypes._endian', 'jedi.settings', 'jedi.cache', 'jedi.api.classes', 'jedi.evaluate', 'jedi.evaluate.utils', 'jedi.evaluate.imports', 'jedi.evaluate.sys_path', 'jedi.evaluate.cache', 'jedi.evaluate.base_context', 'jedi.common', 'jedi.common.context', 'jedi.evaluate.helpers', 'jedi.common.utils', 'jedi.evaluate.compiled', 'jedi.evaluate.compiled.context', 'jedi.evaluate.filters', 'jedi.evaluate.flow_analysis', 'jedi.evaluate.recursion', 'jedi.evaluate.lazy_context', 'jedi.evaluate.compiled.access', 'jedi.evaluate.compiled.getattr_static', 'jedi.evaluate.compiled.fake', 'jedi.evaluate.analysis', 'jedi.evaluate.context', 'jedi.evaluate.context.module', 'jedi.evaluate.context.klass', 'jedi.evaluate.context.function', 'jedi.evaluate.docstrings', 'jedi.evaluate.pep0484', 'jedi.evaluate.arguments', 'jedi.evaluate.context.iterable', 'jedi.evaluate.param', 'jedi.evaluate.context.asynchronous', 'jedi.evaluate.parser_cache', 'jedi.evaluate.context.instance', 'jedi.evaluate.syntax_tree', 'jedi.evaluate.finder', 'jedi.api.keywords', 'pydoc_data', 'pydoc_data.topics', 'jedi.api.interpreter', 'jedi.evaluate.compiled.mixed', 'jedi.api.helpers', 'jedi.api.completion', 'jedi.api.environment', 'filecmp', 'jedi.evaluate.compiled.subprocess', 'jedi.evaluate.compiled.subprocess.functions', 'jedi.api.exceptions', 'jedi.api.project', 'jedi.evaluate.usages', 'IPython.terminal.ptutils', 'IPython.terminal.shortcuts', 'IPython.terminal.magics', 'IPython.lib.clipboard', 'IPython.terminal.pt_inputhooks', 'IPython.terminal.prompts', 'IPython.terminal.ipapp', 'IPython.core.magics', 'IPython.core.magics.auto', 'IPython.core.magics.basic', 'IPython.core.magics.code', 'urllib.request', 'email', 'http', 'http.client', 'email.parser', 'email.feedparser', 'email.errors', 'email._policybase', 'email.header', 'email.quoprimime', 'email.base64mime', 'email.charset', 'email.encoders', 'quopri', 'email.utils', 'email._parseaddr', 'calendar', 'email.message', 'uu', 'email._encoded_words', 'email.iterators', 'urllib.error', 'urllib.response', '_scproxy', 'IPython.core.magics.config', 'IPython.core.magics.display', 'IPython.core.magics.execution', 'timeit', 'cProfile', '_lsprof', 'profile', 'pstats', 'IPython.utils.module_paths', 'IPython.utils.timing', 'IPython.core.magics.extension', 'IPython.core.magics.history', 'IPython.core.magics.logging', 'IPython.core.magics.namespace', 'IPython.core.magics.osm', 'IPython.core.magics.pylab', 'IPython.core.pylabtools', 'IPython.core.magics.script', 'IPython.lib.backgroundjobs', 'IPython.core.shellapp', 'IPython.extensions', 'IPython.extensions.storemagic', 'IPython.utils.frame', 'jupyter_client', 'jupyter_client._version', 'jupyter_client.connect', 'zmq', 'zmq.backend', 'zmq.backend.select', 'zmq.backend.cython', 'cython_runtime', 'zmq.backend.cython.constants', '_cython_0_28_5', 'zmq.backend.cython.error', 'zmq.backend.cython.message', 'zmq.error', 'zmq.backend.cython.context', 'zmq.backend.cython.socket', 'zmq.backend.cython.utils', 'zmq.backend.cython._poll', 'zmq.backend.cython._version', 'zmq.backend.cython._device', 'zmq.sugar', 'zmq.sugar.constants', 'zmq.utils', 'zmq.utils.constant_names', 'zmq.sugar.context', 'zmq.sugar.attrsettr', 'zmq.sugar.socket', 'zmq.sugar.poll', 'zmq.utils.jsonapi', 'zmq.utils.strtypes', 'zmq.sugar.frame', 'zmq.sugar.tracker', 'zmq.sugar.version', 'zmq.sugar.stopwatch', 'jupyter_client.localinterfaces', 'jupyter_core', 'jupyter_core.version', 'jupyter_core.paths', 'jupyter_client.launcher', 'traitlets.log', 'jupyter_client.client', 'jupyter_client.channels', 'jupyter_client.channelsabc', 'jupyter_client.clientabc', 'jupyter_client.manager', 'jupyter_client.kernelspec', 'jupyter_client.managerabc', 'jupyter_client.blocking', 'jupyter_client.blocking.client', 'jupyter_client.blocking.channels', 'jupyter_client.multikernelmanager', 'uuid', '_uuid', 'ipykernel.kernelapp', 'tornado', 'tornado.ioloop', 'numbers', 'tornado.concurrent', 'tornado.log', 'logging.handlers', 'tornado.escape', 'tornado.util', 'tornado.speedups', 'curses', '_curses', 'tornado.stack_context', 'tornado.platform', 'tornado.platform.auto', 'tornado.platform.posix', 'tornado.platform.common', 'tornado.platform.interface', 'concurrent.futures.thread', 'zmq.eventloop', 'zmq.eventloop.ioloop', 'tornado.platform.asyncio', 'tornado.gen', 'zmq.eventloop.zmqstream', 'ipykernel.iostream', 'imp', 'jupyter_client.session', 'hmac', 'jupyter_client.jsonutil', 'dateutil', 'dateutil._version', 'dateutil.parser', 'dateutil.parser._parser', 'decimal', '_decimal', 'dateutil.relativedelta', 'dateutil._common', 'dateutil.tz', 'dateutil.tz.tz', 'dateutil.tz._common', 'dateutil.tz._factories', 'dateutil.parser.isoparser', '_strptime', 'jupyter_client.adapter', 'ipykernel.heartbeat', 'ipykernel.ipkernel', 'IPython.utils.tokenutil', 'ipykernel.comm', 'ipykernel.comm.manager', 'ipykernel.comm.comm', 'ipykernel.kernelbase', 'tornado.queues', 'tornado.locks', 'ipykernel.jsonutil', 'ipykernel.zmqshell', 'IPython.core.payloadpage', 'ipykernel.displayhook', 'ipykernel.parentpoller', 'faulthandler', 'ipykernel.datapub', 'ipykernel.serialize', 'ipykernel.pickleutil', 'ipykernel.codeutil', 'IPython.core.completerlib', 'storemagic', 'ipywidgets', 'ipywidgets._version', 'ipywidgets.widgets', 'ipywidgets.widgets.widget', 'ipywidgets.widgets.domwidget', 'ipywidgets.widgets.trait_types', 'ipywidgets.widgets.widget_layout', 'ipywidgets.widgets.widget_style', 'ipywidgets.widgets.valuewidget', 'ipywidgets.widgets.widget_core', 'ipywidgets.widgets.widget_bool', 'ipywidgets.widgets.widget_description', 'ipywidgets.widgets.widget_button', 'ipywidgets.widgets.widget_box', 'ipywidgets.widgets.docutils', 'ipywidgets.widgets.widget_float', 'ipywidgets.widgets.widget_int', 'ipywidgets.widgets.widget_color', 'ipywidgets.widgets.widget_date', 'ipywidgets.widgets.widget_output', 'ipywidgets.widgets.widget_selection', 'ipywidgets.widgets.widget_selectioncontainer', 'ipywidgets.widgets.widget_string', 'ipywidgets.widgets.widget_controller', 'ipywidgets.widgets.interaction', 'ipywidgets.widgets.widget_link', 'ipywidgets.widgets.widget_media', 'autopep8', 'pycodestyle', 'optparse', 'configparser', 'newspaper_crawler', 'newspaper_crawler.crawler', 'newspaper_crawler.crawling_jobs', 'newspaper_crawler.crawling_jobs.futurasciences_crawling_job', 'newspaper_crawler.crawling_jobs.base_crawling_job', 'feedparser', 'cgi', 'gzip', 'xml.sax', 'xml.sax.xmlreader', 'xml.sax.handler', 'xml.sax._exceptions', 'xml.sax.saxutils', 'xml.sax.expatreader', 'xml.parsers', 'xml.parsers.expat', 'pyexpat.errors', 'pyexpat.model', 'pyexpat', 'xml.parsers.expat.model', 'xml.parsers.expat.errors', 'chardet', 'chardet.compat', 'chardet.universaldetector', 'chardet.charsetgroupprober', 'chardet.enums', 'chardet.charsetprober', 'chardet.escprober', 'chardet.codingstatemachine', 'chardet.escsm', 'chardet.latin1prober', 'chardet.mbcsgroupprober', 'chardet.utf8prober', 'chardet.mbcssm', 'chardet.sjisprober', 'chardet.mbcharsetprober', 'chardet.chardistribution', 'chardet.euctwfreq', 'chardet.euckrfreq', 'chardet.gb2312freq', 'chardet.big5freq', 'chardet.jisfreq', 'chardet.jpcntx', 'chardet.eucjpprober', 'chardet.gb2312prober', 'chardet.euckrprober', 'chardet.cp949prober', 'chardet.big5prober', 'chardet.euctwprober', 'chardet.sbcsgroupprober', 'chardet.sbcharsetprober', 'chardet.langcyrillicmodel', 'chardet.langgreekmodel', 'chardet.langbulgarianmodel', 'chardet.langthaimodel', 'chardet.langhebrewmodel', 'chardet.hebrewprober', 'chardet.langturkishmodel', 'chardet.version', 'scrapy', 'scrapy._monkeypatches', 'twisted', 'twisted._version', 'incremental', 'incremental._version', 'twisted.persisted', 'twisted.persisted.styles', 'twisted.python', 'twisted.python.compat', 'http.cookiejar', 'twisted.python.versions', 'twisted.python.deprecate', 'twisted.python.log', 'zope.interface', 'zope.interface.interface', 'zope.interface.exceptions', 'zope.interface.ro', 'zope.interface._zope_interface_coptimizations', 'zope.interface.declarations', 'zope.interface.advice', 'zope.interface._compat', 'zope.interface.interfaces', 'twisted.python.context', 'twisted.python._oldstyle', 'twisted.python.reflect', 'twisted.python.util', 'twisted.python.failure', 'twisted.python.threadable', 'twisted.logger', 'twisted.logger._levels', 'constantly', 'constantly._constants', 'constantly._version', 'twisted.logger._flatten', 'twisted.logger._format', 'twisted.python._tzhelper', 'twisted.logger._logger', 'twisted.logger._global', 'twisted.logger._buffer', 'twisted.logger._observer', 'twisted.logger._filter', 'twisted.logger._io', 'twisted.logger._file', 'twisted.logger._stdlib', 'twisted.logger._legacy', 'twisted.logger._json', 'twisted.logger._capture', 'scrapy.spiders', 'scrapy.signals', 'scrapy.http', 'scrapy.http.headers', 'w3lib', 'w3lib.http', 'scrapy.utils', 'scrapy.utils.datatypes', 'scrapy.exceptions', 'scrapy.utils.python', 'scrapy.utils.decorators', 'twisted.internet', 'twisted.internet.defer', 'attr', 'attr.converters', 'attr._make', 'attr._config', 'attr._compat', 'attr.exceptions', 'attr.filters', 'attr.validators', 'attr._funcs', 'twisted.python.lockfile', 'twisted.python.runtime', 'twisted.internet.threads', 'scrapy.http.request', 'w3lib.url', 'six.moves.urllib', 'six.moves.urllib.parse', 'six.moves.urllib.request', 'w3lib.util', 'scrapy.utils.trackref', 'scrapy.utils.url', 'scrapy.http.common', 'scrapy.utils.curl', 'http.cookies', 'six.moves.http_cookies', 'scrapy.http.request.form', 'lxml', 'lxml.html', 'lxml.etree', 'lxml._elementpath', 'lxml.html.defs', 'lxml.html._setmixin', 'parsel', 'parsel.selector', 'parsel.utils', 'w3lib.html', 'parsel.csstranslator', 'cssselect', 'cssselect.parser', 'cssselect.xpath', 'parsel.xpathfuncs', 'scrapy.utils.response', 'webbrowser', 'twisted.web', 'twisted.web.http', 'twisted.python.components', 'zope.interface.adapter', 'twisted.internet.interfaces', 'twisted.internet.protocol', 'twisted.internet.error', 'twisted.internet.address', 'twisted.python.filepath', 'twisted.python.win32', 'twisted.internet._producer_helpers', 'twisted.internet.task', 'twisted.internet.base', 'twisted.internet.fdesc', 'twisted.internet.main', 'twisted.internet.abstract', 'twisted.internet._resolver', 'twisted.internet._idna', 'twisted.protocols', 'twisted.protocols.policies', 'twisted.protocols.basic', 'twisted.web.iweb', 'twisted.cred', 'twisted.cred.credentials', 'twisted.python.randbytes', 'twisted.cred._digest', 'twisted.cred.error', 'twisted.web.http_headers', 'twisted.web._responses', 'scrapy.http.request.rpc', 'xmlrpc', 'xmlrpc.client', 'scrapy.http.request.json_request', 'scrapy.utils.deprecate', 'scrapy.http.response', 'scrapy.link', 'scrapy.http.response.html', 'scrapy.http.response.text', 'w3lib.encoding', 'scrapy.http.response.xml', 'scrapy.spiders.crawl', 'scrapy.linkextractors', 'scrapy.utils.misc', 'scrapy.item', 'scrapy.linkextractors.lxmlhtml', 'scrapy.utils.spider', 'scrapy.spiders.feed', 'scrapy.utils.iterators', 'csv', '_csv', 'scrapy.selector', 'scrapy.selector.unified', 'scrapy.spiders.sitemap', 'scrapy.utils.sitemap', 'scrapy.utils.gz', 'scrapy.crawler', 'twisted.internet.default', 'twisted.internet.selectreactor', 'twisted.internet.posixbase', 'twisted.internet.udp', 'twisted.internet.tcp', 'twisted.internet._newtls', 'twisted.protocols.tls', 'OpenSSL', 'OpenSSL.crypto', 'cryptography', 'cryptography.__about__', 'cryptography.x509', 'cryptography.x509.certificate_transparency', 'cryptography.x509.base', 'cryptography.utils', 'cryptography.hazmat', 'cryptography.hazmat.primitives', 'cryptography.hazmat.primitives.asymmetric', 'cryptography.hazmat.primitives.asymmetric.dsa', 'cryptography.hazmat.primitives.asymmetric.ec', 'cryptography.hazmat._oid', 'cryptography.hazmat.primitives.asymmetric.rsa', 'cryptography.exceptions', 'cryptography.hazmat.backends', 'cryptography.hazmat.backends.interfaces', 'cryptography.x509.extensions', 'ipaddress', 'asn1crypto', 'asn1crypto.version', 'asn1crypto.keys', 'asn1crypto._elliptic_curve', 'asn1crypto._int', 'asn1crypto.util', 'asn1crypto._errors', 'asn1crypto._iri', 'encodings.idna', 'stringprep', 'asn1crypto._types', 'asn1crypto._ordereddict', 'asn1crypto._ffi', 'asn1crypto._perf', 'asn1crypto._perf._big_num_ctypes', 'ctypes.util', 'ctypes.macholib', 'ctypes.macholib.dyld', 'ctypes.macholib.framework', 'ctypes.macholib.dylib', 'asn1crypto.algos', 'asn1crypto.core', 'asn1crypto._teletex_codec', 'asn1crypto.parser', 'cryptography.hazmat.primitives.constant_time', 'cryptography.hazmat.bindings', '_cffi_backend', '_constant_time.lib', '_constant_time', 'cryptography.hazmat.bindings._constant_time', 'cryptography.hazmat.primitives.serialization', 'cryptography.x509.general_name', 'idna', 'idna.package_data', 'idna.core', 'idna.idnadata', 'idna.intranges', 'cryptography.x509.name', 'cryptography.x509.oid', 'cryptography.hazmat.primitives.hashes', 'OpenSSL._util', 'cryptography.hazmat.bindings.openssl', 'cryptography.hazmat.bindings.openssl.binding', '_openssl.lib', '_openssl', 'cryptography.hazmat.bindings._openssl', 'cryptography.hazmat.bindings.openssl._conditional', 'OpenSSL.SSL', 'OpenSSL.version', 'twisted.internet._sslverify', 'service_identity', 'service_identity.cryptography', 'pyasn1', 'pyasn1.codec', 'pyasn1.codec.der', 'pyasn1.codec.der.decoder', 'pyasn1.codec.cer', 'pyasn1.codec.cer.decoder', 'pyasn1.error', 'pyasn1.codec.ber', 'pyasn1.codec.ber.decoder', 'pyasn1.debug', 'pyasn1.compat', 'pyasn1.compat.octets', 'pyasn1.codec.ber.eoo', 'pyasn1.type', 'pyasn1.type.base', 'pyasn1.compat.calling', 'pyasn1.type.constraint', 'pyasn1.type.error', 'pyasn1.type.tag', 'pyasn1.type.tagmap', 'pyasn1.compat.integer', 'pyasn1.type.char', 'pyasn1.type.univ', 'pyasn1.compat.binary', 'pyasn1.type.namedtype', 'pyasn1.type.namedval', 'pyasn1.type.useful', 'pyasn1.compat.dateandtime', 'pyasn1.compat.string', 'service_identity._common', 'service_identity._compat', 'service_identity.exceptions', 'service_identity.pyopenssl', 'pyasn1_modules', 'pyasn1_modules.rfc2459', 'pyasn1.type.opentype', 'twisted.internet.unix', 'twisted.python.sendmsg', 'twisted.internet.process', 'twisted.internet._baseprocess', 'twisted.internet._signals', 'twisted.internet.reactor', 'zope.interface.verify', 'scrapy.core', 'scrapy.core.engine', 'scrapy.core.scraper', 'scrapy.utils.defer', 'scrapy.utils.log', 'logging.config', 'socketserver', 'scrapy.settings', 'scrapy.settings.default_settings', 'scrapy.utils.versions', 'scrapy.utils.ssl', 'scrapy.core.spidermw', 'scrapy.middleware', 'scrapy.utils.conf', 'scrapy.utils.request', 'scrapy.utils.httpobj', 'scrapy.utils.reactor', 'scrapy.resolver', 'scrapy.interfaces', 'scrapy.extension', 'scrapy.signalmanager', 'pydispatch', 'pydispatch.dispatcher', 'pydispatch.saferef', 'pydispatch.robustapply', 'pydispatch.errors', 'scrapy.utils.signal', 'scrapy.utils.ossignal', 'newspaper_crawler.database', 'newspaper_crawler.spiders', 'newspaper_crawler.spiders.futurasciences_spider', 'newspaper_crawler.loaders', 'newspaper_crawler.loaders.futurasciences_loader', 'scrapy.loader', 'scrapy.loader.common', 'scrapy.loader.processors', 'newspaper_crawler.loaders.base_loader', 'newspaper_crawler.loaders.liberation_loader', 'newspaper_crawler.loaders.nouvelobs_loader', 'newspaper_crawler.loaders.telerama_loader', 'newspaper_crawler.loaders.lefigaro_loader', 'newspaper_crawler.loaders.lemonde_loader', 'newspaper_crawler.spiders.base_spider', 'newspaper_crawler.items', 'newspaper_crawler.spiders.liberation_spider', 'newspaper_crawler.spiders.nouvelobs_spider', 'newspaper_crawler.spiders.telerama_spider', 'newspaper_crawler.spiders.lefigaro_spider', 'newspaper_crawler.spiders.lemonde_spider', 'newspaper_crawler.crawling_jobs.liberation_crawling_job', 'newspaper_crawler.crawling_jobs.nouvelobs_crawling_job', 'newspaper_crawler.crawling_jobs.telerama_crawling_job', 'newspaper_crawler.crawling_jobs.lefigaro_crawling_job', 'newspaper_crawler.crawling_jobs.lemonde_crawling_job', 'scrapy.spiderloader', 'scrapy.statscollectors', 'scrapy.logformatter', 'scrapy.extensions', 'scrapy.extensions.corestats', 'scrapy.extensions.telnet', 'twisted.conch', 'twisted.conch.manhole', 'twisted.conch.recvline', 'twisted.conch.insults', 'twisted.conch.insults.insults', 'twisted.conch.insults.helper', 'twisted.python._textattributes', 'twisted.python.htmlizer', 'twisted.conch.telnet', 'scrapy.utils.engine', 'scrapy.extensions.memusage', 'scrapy.mail', 'email.mime', 'email.mime.multipart', 'email.mime.base', 'email.policy', 'email.headerregistry', 'email._header_value_parser', 'email.contentmanager', 'six.moves.email_mime_multipart', 'email.mime.text', 'email.mime.nonmultipart', 'six.moves.email_mime_text', 'six.moves.email_mime_base', 'twisted.internet.ssl', 'scrapy.extensions.memdebug', 'scrapy.extensions.closespider', 'scrapy.extensions.feedexport', 'ftplib', 'scrapy.utils.ftp', 'scrapy.utils.boto', 'scrapy.extensions.logstats', 'scrapy.extensions.spiderstate', 'scrapy.utils.job', 'scrapy.extensions.throttle', 'scrapy.core.scheduler', 'queuelib', 'queuelib.queue', 'queuelib.pqueue', 'queuelib.rrqueue', 'scrapy.core.downloader', 'scrapy.core.downloader.middleware', 'scrapy.core.downloader.handlers', 'scrapy.core.downloader.handlers.datauri', 'scrapy.responsetypes', 'scrapy.core.downloader.handlers.file', 'scrapy.core.downloader.handlers.http', 'scrapy.core.downloader.handlers.http10', 'scrapy.core.downloader.handlers.http11', 'twisted.web.client', 'twisted.internet.endpoints', 'twisted.internet.stdio', 'twisted.internet._posixstdio', 'twisted.plugin', 'twisted.python.modules', 'twisted.python.zippath', 'zipfile', 'twisted.python.systemd', 'twisted.web.error', 'twisted.web._newclient', 'scrapy.core.downloader.webclient', 'scrapy.core.downloader.tls', 'scrapy.core.downloader.contextfactory', 'scrapy.core.downloader.handlers.s3', 'scrapy.core.downloader.handlers.ftp', 'twisted.protocols.ftp', 'twisted.copyright', 'twisted.cred.portal', 'twisted.cred.checkers', 'scrapy.downloadermiddlewares', 'scrapy.downloadermiddlewares.robotstxt', 'scrapy.downloadermiddlewares.httpauth', 'scrapy.downloadermiddlewares.downloadtimeout', 'scrapy.downloadermiddlewares.defaultheaders', 'scrapy.downloadermiddlewares.useragent', 'scrapy.downloadermiddlewares.retry', 'scrapy.downloadermiddlewares.ajaxcrawl', 'scrapy.downloadermiddlewares.redirect', 'scrapy.downloadermiddlewares.httpcompression', 'scrapy.downloadermiddlewares.cookies', 'scrapy.http.cookies', 'six.moves.http_cookiejar', 'scrapy.downloadermiddlewares.httpproxy', 'scrapy.downloadermiddlewares.stats', 'scrapy.downloadermiddlewares.httpcache', 'scrapy.spidermiddlewares', 'scrapy.spidermiddlewares.httperror', 'scrapy.spidermiddlewares.offsite', 'scrapy.spidermiddlewares.referer', 'scrapy.spidermiddlewares.urllength', 'scrapy.spidermiddlewares.depth', 'scrapy.pipelines', 'scrapy.dupefilters', 'scrapy.pqueues', 'scrapy.utils.reqser', 'scrapy.squeues', 'encodings.charmap', 'twisted.python.threadpool', 'twisted._threads', 'twisted._threads._threadworker', 'twisted._threads._ithreads', 'twisted._threads._convenience', 'twisted._threads._team', 'twisted._threads._memory', 'twisted._threads._pool', 'pandas', 'numpy', 'numpy._globals', 'numpy.__config__', 'numpy.version', 'numpy._import_tools', 'numpy.add_newdocs', 'numpy.lib', 'numpy.lib.info', 'numpy.lib.type_check', 'numpy.core', 'numpy.core.info', 'numpy.core.multiarray', 'numpy.core.umath', 'numpy.core._internal', 'numpy.compat', 'numpy.compat._inspect', 'numpy.compat.py3k', 'numpy.core.numerictypes', 'numpy.core.numeric', 'numpy.core.fromnumeric', 'numpy.core._methods', 'numpy.core.arrayprint', 'numpy.core.defchararray', 'numpy.core.records', 'numpy.core.memmap', 'numpy.core.function_base', 'numpy.core.machar', 'numpy.core.getlimits', 'numpy.core.shape_base', 'numpy.core.einsumfunc', 'numpy.testing', 'unittest', 'unittest.result', 'unittest.util', 'unittest.case', 'unittest.suite', 'unittest.loader', 'unittest.main', 'unittest.runner', 'unittest.signals', 'numpy.testing._private', 'numpy.testing._private.utils', 'numpy.lib.utils', 'numpy.testing._private.decorators', 'numpy.testing._private.nosetester', 'numpy.testing._private.pytesttester', 'numpy.lib.ufunclike', 'numpy.lib.index_tricks', 'numpy.lib.function_base', 'numpy.lib.twodim_base', 'numpy.lib.histograms', 'numpy.matrixlib', 'numpy.matrixlib.defmatrix', 'numpy.linalg', 'numpy.linalg.info', 'numpy.linalg.linalg', 'numpy.linalg.lapack_lite', 'numpy.linalg._umath_linalg', 'numpy.lib.stride_tricks', 'numpy.lib.mixins', 'numpy.lib.nanfunctions', 'numpy.lib.shape_base', 'numpy.lib.scimath', 'numpy.lib.polynomial', 'numpy.lib.arraysetops', 'numpy.lib.npyio', 'numpy.lib.format', 'numpy.lib._datasource', 'numpy.lib._iotools', 'numpy.lib.financial', 'numpy.lib.arrayterator', 'numpy.lib.arraypad', 'numpy.lib._version', 'numpy.core._multiarray_tests', 'numpy._distributor_init', 'numpy._mklinit', 'numpy.fft', 'numpy.fft.info', 'numpy.fft.fftpack', 'numpy.fft.fftpack_lite', 'numpy.fft.helper', 'mkl_fft', 'mkl_fft._pydfti', '_cython_0_29', 'mkl_fft._version', 'mkl_fft._numpy_fft', 'numpy.polynomial', 'numpy.polynomial.polynomial', 'numpy.polynomial.polyutils', 'numpy.polynomial._polybase', 'numpy.polynomial.chebyshev', 'numpy.polynomial.legendre', 'numpy.polynomial.hermite', 'numpy.polynomial.hermite_e', 'numpy.polynomial.laguerre', 'numpy.random', 'numpy.random.info', 'numpy.random.mtrand', 'mtrand', 'numpy.ctypeslib', 'numpy.ma', 'numpy.ma.core', 'numpy.ma.extras', 'pytz', 'pytz.exceptions', 'pytz.lazy', 'pytz.tzinfo', 'pytz.tzfile', 'pandas.compat', 'distutils', 'distutils.version', 'pandas.compat.chainmap', 'pandas.compat.numpy', 'pandas._libs', 'pandas._libs.tslib', 'pandas._libs.tslibs', 'pandas._libs.tslibs.conversion', 'pandas._libs.tslibs.np_datetime', '_cython_0_28_4', 'pandas._libs.tslibs.nattype', 'pandas._libs.tslibs.timedeltas', 'pandas._libs.tslibs.timezones', 'pandas._libs.tslibs.parsing', 'pandas._libs.tslibs.ccalendar', 'pandas._libs.tslibs.strptime', 'pandas._libs.tslibs.timestamps', 'pandas._libs.tslibs.fields', 'pandas._libs.hashtable', 'pandas._libs.missing', 'pandas._libs.lib', 'pandas.core', 'pandas.core.config_init', 'pandas.core.config', 'pandas.io', 'pandas.io.formats', 'pandas.io.formats.printing', 'pandas.core.dtypes', 'pandas.core.dtypes.inference', 'pandas.io.formats.console', 'pandas.io.formats.terminal', 'pandas.core.api', 'pandas.core.algorithms', 'pandas.core.dtypes.cast', 'pandas.core.dtypes.common', 'pandas._libs.algos', 'pandas.core.dtypes.dtypes', 'pandas.core.dtypes.generic', 'pandas.core.dtypes.base', 'pandas.errors', 'pandas.core.dtypes.missing', 'pandas.core.common', 'pandas.util', 'pandas.util._decorators', 'pandas._libs.properties', 'pandas.core.util', 'pandas.core.util.hashing', 'pandas._libs.hashing', 'pandas.core.arrays', 'pandas.core.arrays.base', 'pandas.compat.numpy.function', 'pandas.util._validators', 'pandas.core.arrays.categorical', 'pandas.core.accessor', 'pandas.core.base', 'pandas.core.nanops', 'bottleneck', 'bottleneck.reduce', 'bottleneck.nonreduce', 'bottleneck.nonreduce_axis', 'bottleneck.move', 'bottleneck.slow', 'bottleneck.slow.reduce', 'bottleneck.slow.nonreduce', 'bottleneck.slow.nonreduce_axis', 'bottleneck.slow.move', 'bottleneck.version', 'bottleneck.benchmark', 'bottleneck.benchmark.bench', 'bottleneck.benchmark.autotimeit', 'bottleneck.benchmark.bench_detailed', 'bottleneck.tests', 'bottleneck.tests.util', 'pandas.core.missing', 'pandas.core.groupby', 'pandas.core.groupby.groupby', 'pandas.core.index', 'pandas.core.indexes', 'pandas.core.indexes.api', 'pandas.core.indexes.base', 'pandas._libs.index', 'pandas._libs.tslibs.period', 'pandas._libs.tslibs.frequencies', 'pandas._libs.tslibs.resolution', 'pandas.tseries', 'pandas.tseries.offsets', 'pandas.core.tools', 'pandas.core.tools.datetimes', 'dateutil.easter', 'pandas._libs.tslibs.offsets', 'pandas.tseries.frequencies', 'pandas._libs.join', 'pandas.core.ops', 'pandas._libs.ops', 'pandas.core.indexes.frozen', 'pandas.core.dtypes.concat', 'pandas.core.sorting', 'pandas.core.strings', 'pandas.core.indexes.category', 'pandas.core.indexes.multi', 'pandas.core.indexes.interval', 'pandas._libs.interval', 'pandas.core.indexes.datetimes', 'pandas.core.indexes.numeric', 'pandas.core.indexes.datetimelike', 'pandas.core.tools.timedeltas', 'pandas.core.indexes.timedeltas', 'pandas.core.indexes.range', 'pandas.core.indexes.period', 'pandas.core.frame', 'pandas.core.generic', 'pandas.core.indexing', 'pandas._libs.indexing', 'pandas.core.internals', 'pandas._libs.internals', 'pandas.core.sparse', 'pandas.core.sparse.array', 'pandas._libs.sparse', 'pandas.io.formats.format', 'pandas.io.common', 'mmap', 'pandas.core.series', 'pandas.core.indexes.accessors', 'pandas.plotting', 'pandas.plotting._misc', 'pandas.plotting._style', 'pandas.plotting._compat', 'pandas.plotting._tools', 'pandas.plotting._core', 'pandas.plotting._converter', 'matplotlib', 'matplotlib.cbook', 'matplotlib.cbook.deprecation', 'matplotlib.rcsetup', 'matplotlib.fontconfig_pattern', 'pyparsing', 'matplotlib.colors', 'matplotlib._color_data', 'cycler', 'matplotlib._version']\n"
     ]
    }
   ],
   "source": [
    "# newspaper_db\n",
    "import pandas as pd\n",
    "import sqlite3"
   ]
  },
  {
   "cell_type": "code",
   "execution_count": 9,
   "metadata": {
    "scrolled": true
   },
   "outputs": [],
   "source": [
    "# Read sqlite query results into a pandas DataFrame\n",
    "con = sqlite3.connect(PATH_FOLDER_SAVE + \"/newspaper_db\")\n",
    "df = pd.read_sql_query(\"SELECT * from articles\", con)\n",
    "\n",
    "con.close()"
   ]
  },
  {
   "cell_type": "code",
   "execution_count": 10,
   "metadata": {},
   "outputs": [
    {
     "data": {
      "text/html": [
       "<div>\n",
       "<style scoped>\n",
       "    .dataframe tbody tr th:only-of-type {\n",
       "        vertical-align: middle;\n",
       "    }\n",
       "\n",
       "    .dataframe tbody tr th {\n",
       "        vertical-align: top;\n",
       "    }\n",
       "\n",
       "    .dataframe thead th {\n",
       "        text-align: right;\n",
       "    }\n",
       "</style>\n",
       "<table border=\"1\" class=\"dataframe\">\n",
       "  <thead>\n",
       "    <tr style=\"text-align: right;\">\n",
       "      <th></th>\n",
       "      <th>id_art</th>\n",
       "      <th>url</th>\n",
       "      <th>source</th>\n",
       "      <th>author</th>\n",
       "      <th>title</th>\n",
       "      <th>theme</th>\n",
       "      <th>description</th>\n",
       "      <th>date_published</th>\n",
       "      <th>body</th>\n",
       "    </tr>\n",
       "  </thead>\n",
       "  <tbody>\n",
       "    <tr>\n",
       "      <th>787</th>\n",
       "      <td>788</td>\n",
       "      <td>https://bourse.lefigaro.fr/indices/la-bourse-d...</td>\n",
       "      <td>Le Figaro</td>\n",
       "      <td>Le Figaro</td>\n",
       "      <td>La Bourse de Paris bat un nouveau record à la ...</td>\n",
       "      <td>indices</td>\n",
       "      <td>Le CAC 40 a fini sur une petite hausse mardi u...</td>\n",
       "      <td>27/12/2019</td>\n",
       "      <td>L’indice CAC 40 a pris symboliquement 0,18 poi...</td>\n",
       "    </tr>\n",
       "    <tr>\n",
       "      <th>788</th>\n",
       "      <td>789</td>\n",
       "      <td>https://www.futura-sciences.com/sante/actualit...</td>\n",
       "      <td>Futura Sciences</td>\n",
       "      <td>Marie-Céline Ray</td>\n",
       "      <td>Science décalée : les hommes mangent plus pour...</td>\n",
       "      <td>sante</td>\n",
       "      <td>Une étude de 2015 a montré que les hommes mang...</td>\n",
       "      <td>28/12/2019</td>\n",
       "      <td>Une étude de 2015 a montré que les hommes mang...</td>\n",
       "    </tr>\n",
       "    <tr>\n",
       "      <th>789</th>\n",
       "      <td>790</td>\n",
       "      <td>https://www.telerama.fr/sortir/bourse-du-comme...</td>\n",
       "      <td>Telerama</td>\n",
       "      <td></td>\n",
       "      <td>Bourse de commerce : en attendant l’ouverture,...</td>\n",
       "      <td>sortir</td>\n",
       "      <td>Quel bel outil ! Etonnant, élégant, pile au bo...</td>\n",
       "      <td>09/12/2019</td>\n",
       "      <td>Passée l’entrée monumentale de la Bourse de co...</td>\n",
       "    </tr>\n",
       "    <tr>\n",
       "      <th>790</th>\n",
       "      <td>791</td>\n",
       "      <td>https://www.lemonde.fr/culture/article/2019/12...</td>\n",
       "      <td>Le Monde</td>\n",
       "      <td></td>\n",
       "      <td>Nos films coup de cœur de 2019</td>\n",
       "      <td>culture</td>\n",
       "      <td>« Portrait de la jeune fille en feu », « Par...</td>\n",
       "      <td>2019-12-27</td>\n",
       "      <td>La sélection de Clarisse Fabre 1770-2034 : à c...</td>\n",
       "    </tr>\n",
       "    <tr>\n",
       "      <th>791</th>\n",
       "      <td>792</td>\n",
       "      <td>https://www.lemonde.fr/international/article/2...</td>\n",
       "      <td>Le Monde</td>\n",
       "      <td>Le Monde avec AFP</td>\n",
       "      <td>Chercheurs détenus en Iran : Téhéran dénonce «...</td>\n",
       "      <td>international</td>\n",
       "      <td>La France avait réagi à la détention de deux...</td>\n",
       "      <td>2019-12-29</td>\n",
       "      <td>Les autorités iraniennes ont dénoncé dimanche ...</td>\n",
       "    </tr>\n",
       "  </tbody>\n",
       "</table>\n",
       "</div>"
      ],
      "text/plain": [
       "     id_art                                                url  \\\n",
       "787     788  https://bourse.lefigaro.fr/indices/la-bourse-d...   \n",
       "788     789  https://www.futura-sciences.com/sante/actualit...   \n",
       "789     790  https://www.telerama.fr/sortir/bourse-du-comme...   \n",
       "790     791  https://www.lemonde.fr/culture/article/2019/12...   \n",
       "791     792  https://www.lemonde.fr/international/article/2...   \n",
       "\n",
       "              source             author  \\\n",
       "787        Le Figaro         Le Figaro    \n",
       "788  Futura Sciences   Marie-Céline Ray   \n",
       "789         Telerama                      \n",
       "790         Le Monde                      \n",
       "791         Le Monde  Le Monde avec AFP   \n",
       "\n",
       "                                                 title          theme  \\\n",
       "787  La Bourse de Paris bat un nouveau record à la ...        indices   \n",
       "788  Science décalée : les hommes mangent plus pour...          sante   \n",
       "789  Bourse de commerce : en attendant l’ouverture,...         sortir   \n",
       "790                     Nos films coup de cœur de 2019        culture   \n",
       "791  Chercheurs détenus en Iran : Téhéran dénonce «...  international   \n",
       "\n",
       "                                           description date_published  \\\n",
       "787  Le CAC 40 a fini sur une petite hausse mardi u...     27/12/2019   \n",
       "788  Une étude de 2015 a montré que les hommes mang...     28/12/2019   \n",
       "789  Quel bel outil ! Etonnant, élégant, pile au bo...     09/12/2019   \n",
       "790    « Portrait de la jeune fille en feu », « Par...     2019-12-27   \n",
       "791    La France avait réagi à la détention de deux...     2019-12-29   \n",
       "\n",
       "                                                  body  \n",
       "787  L’indice CAC 40 a pris symboliquement 0,18 poi...  \n",
       "788  Une étude de 2015 a montré que les hommes mang...  \n",
       "789  Passée l’entrée monumentale de la Bourse de co...  \n",
       "790  La sélection de Clarisse Fabre 1770-2034 : à c...  \n",
       "791  Les autorités iraniennes ont dénoncé dimanche ...  "
      ]
     },
     "execution_count": 10,
     "metadata": {},
     "output_type": "execute_result"
    }
   ],
   "source": [
    "# Verify that result of SQL query is stored in the dataframe\n",
    "df.tail()"
   ]
  },
  {
   "cell_type": "code",
   "execution_count": 11,
   "metadata": {},
   "outputs": [
    {
     "data": {
      "text/plain": [
       "(792, 9)"
      ]
     },
     "execution_count": 11,
     "metadata": {},
     "output_type": "execute_result"
    }
   ],
   "source": [
    "df.shape"
   ]
  },
  {
   "cell_type": "code",
   "execution_count": 12,
   "metadata": {},
   "outputs": [
    {
     "data": {
      "text/plain": [
       "0"
      ]
     },
     "execution_count": 12,
     "metadata": {},
     "output_type": "execute_result"
    }
   ],
   "source": [
    "df[df[\"body\"].isna()].shape[0]"
   ]
  },
  {
   "cell_type": "code",
   "execution_count": 13,
   "metadata": {},
   "outputs": [
    {
     "data": {
      "text/plain": [
       "Futura Sciences    331\n",
       "Liberation         303\n",
       "Telerama            99\n",
       "Le Figaro           57\n",
       "Le Monde             2\n",
       "Name: source, dtype: int64"
      ]
     },
     "execution_count": 13,
     "metadata": {},
     "output_type": "execute_result"
    }
   ],
   "source": [
    "df[\"source\"].value_counts()"
   ]
  },
  {
   "cell_type": "code",
   "execution_count": 14,
   "metadata": {},
   "outputs": [
    {
     "data": {
      "text/html": [
       "<div>\n",
       "<style scoped>\n",
       "    .dataframe tbody tr th:only-of-type {\n",
       "        vertical-align: middle;\n",
       "    }\n",
       "\n",
       "    .dataframe tbody tr th {\n",
       "        vertical-align: top;\n",
       "    }\n",
       "\n",
       "    .dataframe thead th {\n",
       "        text-align: right;\n",
       "    }\n",
       "</style>\n",
       "<table border=\"1\" class=\"dataframe\">\n",
       "  <thead>\n",
       "    <tr style=\"text-align: right;\">\n",
       "      <th></th>\n",
       "      <th>id_art</th>\n",
       "      <th>url</th>\n",
       "      <th>source</th>\n",
       "      <th>author</th>\n",
       "      <th>title</th>\n",
       "      <th>theme</th>\n",
       "      <th>description</th>\n",
       "      <th>date_published</th>\n",
       "      <th>body</th>\n",
       "    </tr>\n",
       "  </thead>\n",
       "  <tbody>\n",
       "    <tr>\n",
       "      <th>790</th>\n",
       "      <td>791</td>\n",
       "      <td>https://www.lemonde.fr/culture/article/2019/12...</td>\n",
       "      <td>Le Monde</td>\n",
       "      <td></td>\n",
       "      <td>Nos films coup de cœur de 2019</td>\n",
       "      <td>culture</td>\n",
       "      <td>« Portrait de la jeune fille en feu », « Par...</td>\n",
       "      <td>2019-12-27</td>\n",
       "      <td>La sélection de Clarisse Fabre 1770-2034 : à c...</td>\n",
       "    </tr>\n",
       "    <tr>\n",
       "      <th>791</th>\n",
       "      <td>792</td>\n",
       "      <td>https://www.lemonde.fr/international/article/2...</td>\n",
       "      <td>Le Monde</td>\n",
       "      <td>Le Monde avec AFP</td>\n",
       "      <td>Chercheurs détenus en Iran : Téhéran dénonce «...</td>\n",
       "      <td>international</td>\n",
       "      <td>La France avait réagi à la détention de deux...</td>\n",
       "      <td>2019-12-29</td>\n",
       "      <td>Les autorités iraniennes ont dénoncé dimanche ...</td>\n",
       "    </tr>\n",
       "  </tbody>\n",
       "</table>\n",
       "</div>"
      ],
      "text/plain": [
       "     id_art                                                url    source  \\\n",
       "790     791  https://www.lemonde.fr/culture/article/2019/12...  Le Monde   \n",
       "791     792  https://www.lemonde.fr/international/article/2...  Le Monde   \n",
       "\n",
       "                author                                              title  \\\n",
       "790                                        Nos films coup de cœur de 2019   \n",
       "791  Le Monde avec AFP  Chercheurs détenus en Iran : Téhéran dénonce «...   \n",
       "\n",
       "             theme                                        description  \\\n",
       "790        culture    « Portrait de la jeune fille en feu », « Par...   \n",
       "791  international    La France avait réagi à la détention de deux...   \n",
       "\n",
       "    date_published                                               body  \n",
       "790     2019-12-27  La sélection de Clarisse Fabre 1770-2034 : à c...  \n",
       "791     2019-12-29  Les autorités iraniennes ont dénoncé dimanche ...  "
      ]
     },
     "execution_count": 14,
     "metadata": {},
     "output_type": "execute_result"
    }
   ],
   "source": [
    "df[df[\"source\"] == \"Le Monde\"]"
   ]
  },
  {
   "cell_type": "markdown",
   "metadata": {},
   "source": [
    "## Clean data"
   ]
  },
  {
   "cell_type": "markdown",
   "metadata": {},
   "source": [
    "### Check body data not empty?"
   ]
  },
  {
   "cell_type": "code",
   "execution_count": 19,
   "metadata": {},
   "outputs": [
    {
     "data": {
      "text/plain": [
       "0"
      ]
     },
     "execution_count": 19,
     "metadata": {},
     "output_type": "execute_result"
    }
   ],
   "source": [
    "df[df[\"body\"].isna()].shape[0]"
   ]
  },
  {
   "cell_type": "markdown",
   "metadata": {},
   "source": [
    "### delete useless special text patterns"
   ]
  },
  {
   "cell_type": "code",
   "execution_count": 16,
   "metadata": {},
   "outputs": [
    {
     "data": {
      "text/plain": [
       "['Avec 2920 nouveaux cas en 2018, le cancer du col de l’utérus est le douzième cancer en matière de fréquence chez la femme en France. Depuis 35 ans, son incidence a été divisée par deux. Cette diminution, très forte dans les années 1980, grâce au dépistage des lésions précancéreuses par la réalisation régulière de frottis, marque nettement le pas. Il s’agit du seul cancer dont le pronostic se dégrade dans notre pays, avec un taux de survie à cinq ans passé de 68\\xa0% dans les années 1990 à 62\\xa0% aujourd’hui. Causes, symptômes, traitements...  Le Figaro  fait le point sur ce cancer. 1. Quelles causes? Dans près de 99\\xa0% des cas, ce cancer est lié à une infection persistante par le papillomavirus humain ou HPV. Ce virus, très contagieux, se propage par simple contact sexuel.  «À la différence des autres infections sexuellement transmissibles, il se transmet dès les premiers attouchements, même sans pénétration»,  indique le D r\\xa0 Delphine Hudry, chirurgien gynécologue au centre de lutte contre le cancer Oscar-Lambret (Lille). Le préservatif n’en protège pas, car le virus, très petit, peut passer à travers ses pores.  On estime qu’environ 80\\xa0% des hommes et des femmes seront infectés par un papillomavirus au moins une fois dans leur vie. Chez la femme, la majorité des infections au niveau du col guérissent spontanément. Mais dans 10\\xa0% des cas, le virus s’installe durablement et provoquera des lésions précancéreuses ou cancéreuses. Si le papillomavirus est le facteur de risque principal, d’autres cofacteurs importants interviennent également, en particulier le tabagisme.  «En induisant une inflammation chronique au niveau du col, en plus de celle liée au virus, le tabac l’empêche de guérir de son infection»,  précise le D r  Hudry. Des infections du col (chlamydia, virus de l’immunodéficience humaine, gonocoque, virus herpès simplex 2), évitables, elles, grâce à l’utilisation du préservatif sont aussi mises en cause.  La prise prolongée de contraceptifs oraux ou les accouchements multiples (à partir de 6 à 8, selon le D r  Hudry) peuvent jouer un rôle, mais dans une moindre mesure. Quant au nombre élevé de partenaires sexuels, parfois évoqué,  «c’est un facteur de risque beaucoup moins important, voire discutable»,  souligne la gynécologue. » LIRE AUSSI -  Cancer du col de l’utérus: dépistage et vaccination doivent être améliorés     2. Quelle prévention? Seule la vaccination contre le HPV permet de prévenir l’apparition de lésions précancéreuses et, donc, à terme, des cancers du col de l’utérus, à condition d’intervenir avant les premiers rapports sexuels. Elle permet aussi d’éviter d’autres cancers liés au HPV, dont certains peuvent toucher les hommes: certains cancers ORL (oto-rhino-laryngologiques), de la verge, de l’anus, de la vulve et du vagin, ainsi que les condylomes (ou verrues génitales), des lésions bénignes liées à l’infection par le papillomavirus.  En France, la vaccination est recommandée chez les jeunes filles de 11 à 14 ans et jusqu’à l’âge de 19 ans en rattrapage\\xa0; chez les hommes ayant des rapports sexuels avec d’autres hommes jusqu’à l’âge de 26 ans\\xa0; et chez les personnes immunodéprimées. Son extension à l’ensemble des garçons, en cours de discussion à la Haute Autorité de santé (HAS), est expérimentée depuis fin 2018 dans les régions Grand Est et Auvergne-Rhône-Alpes. Cervarix, Gardasil et Gardasil 9: trois vaccins sont aujourd’hui disponibles, protégeant contre les principales souches du HPV - dont les génotypes 16 et 18, responsables de près de 70\\xa0% des cancers du col.  «Malheureusement, la vaccination est sous-utilisée, puisque seulement 15\\xa0% des enfants sont vaccinés»,  regrette le D r  Delphine Hudry. En France, le taux de couverture vaccinale des jeunes filles contre les\\xa0principales souches du papillomavirus humain est l’un des plus bas d’Europe: moins de 20\\xa0% (contre 87\\xa0% au Portugal). 3. Quels symptômes? Dans la majorité des cas, il n’existe pas de symptômes aux stades précoces de la maladie, c’est-à-dire avant l’apparition des lésions cancéreuses. Lorsque ces lésions sont présentes, des saignements (métrorragies) peuvent se produire lors des rapports sexuels, entre les périodes de règles ou après la ménopause. Il peut aussi y avoir des pertes vaginales anormales et/ou persistantes liées à un déséquilibre de la flore vaginale provoqué par le cancer.  «En cas de modification des pertes, de saignements ou de tout symptôme gynécologique anormal, il est donc impératif de consulter»,  souligne le D r  Hudry. » LIRE AUSSI -  Cancer de l’utérus: réagir aux premiers saignements     4. Quel diagnostic? Les lésions précancéreuses évoluant de façon silencieuse, le dépistage par frottis cervico-utérin, qui consiste à prélever des cellules superficielles au niveau du col avec une petite brosse, reste le meilleur moyen de les détecter. Et ce, que les femmes soient ou non vaccinées, car la vaccination ne protège pas contre la totalité des virus HPV à haut risque oncogène.  En France, la Haute Autorité de santé (HAS) recommande que ce frottis soit effectué tous les trois ans, après 2 frottis annuels normaux, chez toutes les femmes asymptomatiques âgées de 25 à 65 ans. Depuis cette année, le cancer du col de l’utérus fait l’objet d’un dépistage organisé au niveau national, comme le cancer du sein et le cancer colorectal avant lui.  Chaque année, les femmes de 25 à 65 ans qui n’ont pas réalisé de frottis depuis au moins trois ans seront invitées, par courrier, à se rendre chez un médecin généraliste, un gynécologue ou une sage-femme pour effectuer ce test de dépistage pris en charge à 100\\xa0% par l’Assurance-maladie. «Lorsque le col est normal, on réalise un frottis pour dépister une éventuelle anomalie non visible à l’œil nu»,  explique le D r  Hudry. Si le résultat de ce frottis est anormal, un nouveau frottis - ou une biopsie - est alors recommandé.  «Lorsque le col présente des anomalies, une biopsie est effectuée d’emblée»,  précise la gynécologue.  Seule la biopsie, réalisée grâce à un microscope grossissant appelé «colposcope», permet de déterminer la nature des lésions et de poser un diagnostic.  «Lorsqu’elle est anormale, on réalise soit une biopsie chirurgicale, appelée conisation, qui\\xa0consiste à enlever une partie plus importante du col pour avoir une analyse plus fine,  poursuit-elle,  soit une imagerie par résonance magnétique (IRM) pelvienne pour déterminer l’étendue des lésions.»   5. Quels traitements? Les lésions précancéreuses de bas grade sont soit simplement surveillées, car elles peuvent régresser spontanément, soit détruites (par laser ou cryothérapie).  «Pour les lésions précancéreuses de haut grade ou lorsque la tumeur mesure moins de 4\\xa0cm, le traitement sera uniquement chirurgical»,  indique le D r \\xa0Hudry. Il consistera à retirer une partie du col de l’utérus (conisation) au laser ou à l’anse diathermique (instrument tranchant fonctionnant à l’électricité). Une ablation totale de l’utérus (hystérectomie) est pratiquée si la tumeur mesure plus de 1\\xa0cm.  «Lorsque la tumeur reste localisée au niveau du col mais qu’elle mesure plus de 4\\xa0cm, il faudra faire une radio-chimiothérapie concomitante»,  poursuit la gynécologue.  La radiothérapie sera externe et couplée à une séance de chimiothérapie toutes les semaines pour aider les rayons à fonctionner. Le traitement se clôturera par une curiethérapie, sorte de radiothérapie interne utilisant un applicateur disposé au niveau du vagin, qui délivre de hautes doses de rayons à l’endroit où était localisée la tumeur.  «En\\xa0cas de métastases, une chimiothérapie seule traitera l’ensemble de l’organisme. Si elle fonctionne bien et que la maladie ne progresse pas, le cancer initial peut parfois\\xa0être traité avec une radiothérapie externe et une curiethérapie»,  précise la gynécologue. 6. Quel suivi? Pour détecter les rechutes,  «la surveillance clinique prime» , indique le D r \\xa0Hudry. Le suivi est le même pour toutes les patientes: un examen clinique tous les quatre mois pendant trois ans, puis tous les six mois jusqu’à cinq ans et enfin tous les ans, à vie.',\n",
       " 'Le créateur d’Astérix, René Goscinny, a payé de sa vie la rupture d’une plaque d’athérome, à l’origine de 80\\xa0% des morts subites et conséquence dramatique de l’athérosclérose. Cette maladie de l’artère débute dès l’enfance par de simples stries lipidiques ou amas graisseux à la surface de l’intima, l’une des trois couches des artères.  Leurs parois sont tapissées par l’endothélium, un revêtement que l’on a cru, pendant longtemps, suffisamment lisse pour empêcher toute adhésion. Mais par un phénomène inflammatoire associant une fibrose à l’accumulation de mauvais cholestérol (LDL cholestérol), l’athérosclérose peut se développer. D’abord asymptomatique, elle peut ensuite provoquer un rétrécissement ou sténose, gênant le passage du sang et son apport en oxygène à l’organe irrigué. L’athérosclérose touche surtout  «les zones de turbulence, carrefours ou bifurcations des moyennes et grosses artères»,  explique le Pr\\xa0Claire Mounier-Véhier, chef de service à l’Institut cœur poumon au CHRU de Lille et présidente honoraire de la Fédération française de cardiologie. Des symptômes tels qu’essoufflement à l’effort ou à la marche, vertiges et douleur thoracique doivent alerter. La rupture d’une plaque devenue trop instable peut provoquer, selon sa localisation, un  accident vasculaire cérébral , un syndrome coronaire aigu, une rupture d’anévrisme aortique athéromateux ou une ischémie aiguë de membre inférieur. » LIRE AUSSI -  AVC, infarctus: pourquoi le tabac est-il à l’origine de maladies cardiovasculaires?     Évitable dans 80% des cas Dans 8 cas sur 10, la maladie est évitable.  «L’athérosclérose est favorisée par le tabagisme, la sédentarité, le surpoids, une alimentation trop sucrée, trop grasse, trop salée. L’âge et l’hérédité entrent également en cause, mais ne sont pas évitables»,  précise Claire Le Hello, professeur de médecine vasculaire au CHU Nord de Saint-Etienne. Si les femmes sont peu exposées avant 50\\xa0ans, leur risque vasculaire rejoint celui des hommes après la ménopause, souligne le professeur.  Plusieurs marqueurs de risque que sont l’apnée du sommeil, l’isolement ou la précarité sociale et la pollution atmosphérique sont également à prendre en compte. Tous se catalysent les uns les autres avec un risque de complication majoré avec l’âge. Un bilan des facteurs de risque devrait être systématiquement réalisé après 40\\xa0ans chez l’homme et 50\\xa0ans chez la femme. \\n     \\n         «L’athérosclérose est favorisée par le tabagisme, la sédentarité, le surpoids, une alimentation trop sucrée, trop grasse, trop salée.» \\n                     Claire Le Hello, professeur de médecine vasculaire au CHU Nord de Saint-Etienne \\n             \\n Un diagnostic complet Utilisé depuis quelques années pour le dépistage de l’athérosclérose,  «le score calcique est un outil parmi les plus efficaces pour prévenir le risque d’infarctus» , précise le Dr\\xa0Patrick Assyag, cardiologue à Paris et membre de la FFC. Il permet une évaluation chiffrée de l’étendue des dépôts des artères coronaires. S’ensuit un examen clinique exhaustif, qui comprend une auscultation du cœur, des artères de l’abdomen, des jambes, des artères du cou et des artères sous-clavières.  «Il ne doit pas omettre l’examen cutané des pieds pour l’artérite, la palpation des pouls, la mesure de la tension artérielle prise aux deux bras et aux deux jambes, sans oublier la mesure du périmètre abdominal» , recommande Claire MounierVéhier.  Un bilan biologique standard complète l’ensemble (étude de la glycémie à jeun, bilan lipidique complet, fonction rénale) et si possible, une auto mesure de la tension pour dépister l’hypertension artérielle, très fréquente chez le patient vasculaire.  En cas de symptômes d’alerte évocateurs de maladie coronaire  (douleur constrictive au thorax irradiant dans le bras, la mâchoire ou le creux de l’estomac), l’électrocardiogramme de repos sera complété par une épreuve d’effort. Mieux vaut ne pas attendre l’accident pour agir sur ses facteurs de risque grâce à une bonne hygiène de vie et se faire dépister.  À voir aussi -  C’est quoi un infarctus? \\n         \\n         \\n         \\n         \\n     \\n \\n ']"
      ]
     },
     "execution_count": 16,
     "metadata": {},
     "output_type": "execute_result"
    }
   ],
   "source": [
    "df[df[\"source\"] == \"Le Figaro\"][\"body\"].tolist()[0:2]"
   ]
  },
  {
   "cell_type": "code",
   "execution_count": 18,
   "metadata": {},
   "outputs": [
    {
     "data": {
      "text/plain": [
       "['Avec 2920 nouveaux cas en 2018, le cancer du col de l’utérus est le douzième cancer en matière de fréquence chez la femme en France. Depuis 35 ans, son incidence a été divisée par deux. Cette diminution, très forte dans les années 1980, grâce au dépistage des lésions précancéreuses par la réalisation régulière de frottis, marque nettement le pas. Il s’agit du seul cancer dont le pronostic se dégrade dans notre pays, avec un taux de survie à cinq ans passé de 68 % dans les années 1990 à 62 % aujourd’hui. Causes, symptômes, traitements...  Le Figaro  fait le point sur ce cancer. 1. Quelles causes? Dans près de 99 % des cas, ce cancer est lié à une infection persistante par le papillomavirus humain ou HPV. Ce virus, très contagieux, se propage par simple contact sexuel.  «À la différence des autres infections sexuellement transmissibles, il se transmet dès les premiers attouchements, même sans pénétration»,  indique le D r  Delphine Hudry, chirurgien gynécologue au centre de lutte contre le cancer Oscar-Lambret (Lille). Le préservatif n’en protège pas, car le virus, très petit, peut passer à travers ses pores.  On estime qu’environ 80 % des hommes et des femmes seront infectés par un papillomavirus au moins une fois dans leur vie. Chez la femme, la majorité des infections au niveau du col guérissent spontanément. Mais dans 10 % des cas, le virus s’installe durablement et provoquera des lésions précancéreuses ou cancéreuses. Si le papillomavirus est le facteur de risque principal, d’autres cofacteurs importants interviennent également, en particulier le tabagisme.  «En induisant une inflammation chronique au niveau du col, en plus de celle liée au virus, le tabac l’empêche de guérir de son infection»,  précise le D r  Hudry. Des infections du col (chlamydia, virus de l’immunodéficience humaine, gonocoque, virus herpès simplex 2), évitables, elles, grâce à l’utilisation du préservatif sont aussi mises en cause.  La prise prolongée de contraceptifs oraux ou les accouchements multiples (à partir de 6 à 8, selon le D r  Hudry) peuvent jouer un rôle, mais dans une moindre mesure. Quant au nombre élevé de partenaires sexuels, parfois évoqué,  «c’est un facteur de risque beaucoup moins important, voire discutable»,  souligne la gynécologue. » LIRE AUSSI -  Cancer du col de l’utérus: dépistage et vaccination doivent être améliorés     2. Quelle prévention? Seule la vaccination contre le HPV permet de prévenir l’apparition de lésions précancéreuses et, donc, à terme, des cancers du col de l’utérus, à condition d’intervenir avant les premiers rapports sexuels. Elle permet aussi d’éviter d’autres cancers liés au HPV, dont certains peuvent toucher les hommes: certains cancers ORL (oto-rhino-laryngologiques), de la verge, de l’anus, de la vulve et du vagin, ainsi que les condylomes (ou verrues génitales), des lésions bénignes liées à l’infection par le papillomavirus.  En France, la vaccination est recommandée chez les jeunes filles de 11 à 14 ans et jusqu’à l’âge de 19 ans en rattrapage ; chez les hommes ayant des rapports sexuels avec d’autres hommes jusqu’à l’âge de 26 ans ; et chez les personnes immunodéprimées. Son extension à l’ensemble des garçons, en cours de discussion à la Haute Autorité de santé (HAS), est expérimentée depuis fin 2018 dans les régions Grand Est et Auvergne-Rhône-Alpes. Cervarix, Gardasil et Gardasil 9: trois vaccins sont aujourd’hui disponibles, protégeant contre les principales souches du HPV - dont les génotypes 16 et 18, responsables de près de 70 % des cancers du col.  «Malheureusement, la vaccination est sous-utilisée, puisque seulement 15 % des enfants sont vaccinés»,  regrette le D r  Delphine Hudry. En France, le taux de couverture vaccinale des jeunes filles contre les principales souches du papillomavirus humain est l’un des plus bas d’Europe: moins de 20 % (contre 87 % au Portugal). 3. Quels symptômes? Dans la majorité des cas, il n’existe pas de symptômes aux stades précoces de la maladie, c’est-à-dire avant l’apparition des lésions cancéreuses. Lorsque ces lésions sont présentes, des saignements (métrorragies) peuvent se produire lors des rapports sexuels, entre les périodes de règles ou après la ménopause. Il peut aussi y avoir des pertes vaginales anormales et/ou persistantes liées à un déséquilibre de la flore vaginale provoqué par le cancer.  «En cas de modification des pertes, de saignements ou de tout symptôme gynécologique anormal, il est donc impératif de consulter»,  souligne le D r  Hudry. » LIRE AUSSI -  Cancer de l’utérus: réagir aux premiers saignements     4. Quel diagnostic? Les lésions précancéreuses évoluant de façon silencieuse, le dépistage par frottis cervico-utérin, qui consiste à prélever des cellules superficielles au niveau du col avec une petite brosse, reste le meilleur moyen de les détecter. Et ce, que les femmes soient ou non vaccinées, car la vaccination ne protège pas contre la totalité des virus HPV à haut risque oncogène.  En France, la Haute Autorité de santé (HAS) recommande que ce frottis soit effectué tous les trois ans, après 2 frottis annuels normaux, chez toutes les femmes asymptomatiques âgées de 25 à 65 ans. Depuis cette année, le cancer du col de l’utérus fait l’objet d’un dépistage organisé au niveau national, comme le cancer du sein et le cancer colorectal avant lui.  Chaque année, les femmes de 25 à 65 ans qui n’ont pas réalisé de frottis depuis au moins trois ans seront invitées, par courrier, à se rendre chez un médecin généraliste, un gynécologue ou une sage-femme pour effectuer ce test de dépistage pris en charge à 100 % par l’Assurance-maladie. «Lorsque le col est normal, on réalise un frottis pour dépister une éventuelle anomalie non visible à l’œil nu»,  explique le D r  Hudry. Si le résultat de ce frottis est anormal, un nouveau frottis - ou une biopsie - est alors recommandé.  «Lorsque le col présente des anomalies, une biopsie est effectuée d’emblée»,  précise la gynécologue.  Seule la biopsie, réalisée grâce à un microscope grossissant appelé «colposcope», permet de déterminer la nature des lésions et de poser un diagnostic.  «Lorsqu’elle est anormale, on réalise soit une biopsie chirurgicale, appelée conisation, qui consiste à enlever une partie plus importante du col pour avoir une analyse plus fine,  poursuit-elle,  soit une imagerie par résonance magnétique (IRM) pelvienne pour déterminer l’étendue des lésions.»   5. Quels traitements? Les lésions précancéreuses de bas grade sont soit simplement surveillées, car elles peuvent régresser spontanément, soit détruites (par laser ou cryothérapie).  «Pour les lésions précancéreuses de haut grade ou lorsque la tumeur mesure moins de 4 cm, le traitement sera uniquement chirurgical»,  indique le D r  Hudry. Il consistera à retirer une partie du col de l’utérus (conisation) au laser ou à l’anse diathermique (instrument tranchant fonctionnant à l’électricité). Une ablation totale de l’utérus (hystérectomie) est pratiquée si la tumeur mesure plus de 1 cm.  «Lorsque la tumeur reste localisée au niveau du col mais qu’elle mesure plus de 4 cm, il faudra faire une radio-chimiothérapie concomitante»,  poursuit la gynécologue.  La radiothérapie sera externe et couplée à une séance de chimiothérapie toutes les semaines pour aider les rayons à fonctionner. Le traitement se clôturera par une curiethérapie, sorte de radiothérapie interne utilisant un applicateur disposé au niveau du vagin, qui délivre de hautes doses de rayons à l’endroit où était localisée la tumeur.  «En cas de métastases, une chimiothérapie seule traitera l’ensemble de l’organisme. Si elle fonctionne bien et que la maladie ne progresse pas, le cancer initial peut parfois être traité avec une radiothérapie externe et une curiethérapie»,  précise la gynécologue. 6. Quel suivi? Pour détecter les rechutes,  «la surveillance clinique prime» , indique le D r  Hudry. Le suivi est le même pour toutes les patientes: un examen clinique tous les quatre mois pendant trois ans, puis tous les six mois jusqu’à cinq ans et enfin tous les ans, à vie.',\n",
       " 'Le créateur d’Astérix, René Goscinny, a payé de sa vie la rupture d’une plaque d’athérome, à l’origine de 80 % des morts subites et conséquence dramatique de l’athérosclérose. Cette maladie de l’artère débute dès l’enfance par de simples stries lipidiques ou amas graisseux à la surface de l’intima, l’une des trois couches des artères.  Leurs parois sont tapissées par l’endothélium, un revêtement que l’on a cru, pendant longtemps, suffisamment lisse pour empêcher toute adhésion. Mais par un phénomène inflammatoire associant une fibrose à l’accumulation de mauvais cholestérol (LDL cholestérol), l’athérosclérose peut se développer. D’abord asymptomatique, elle peut ensuite provoquer un rétrécissement ou sténose, gênant le passage du sang et son apport en oxygène à l’organe irrigué. L’athérosclérose touche surtout  «les zones de turbulence, carrefours ou bifurcations des moyennes et grosses artères»,  explique le Pr Claire Mounier-Véhier, chef de service à l’Institut cœur poumon au CHRU de Lille et présidente honoraire de la Fédération française de cardiologie. Des symptômes tels qu’essoufflement à l’effort ou à la marche, vertiges et douleur thoracique doivent alerter. La rupture d’une plaque devenue trop instable peut provoquer, selon sa localisation, un  accident vasculaire cérébral , un syndrome coronaire aigu, une rupture d’anévrisme aortique athéromateux ou une ischémie aiguë de membre inférieur. » LIRE AUSSI -  AVC, infarctus: pourquoi le tabac est-il à l’origine de maladies cardiovasculaires?     Évitable dans 80% des cas Dans 8 cas sur 10, la maladie est évitable.  «L’athérosclérose est favorisée par le tabagisme, la sédentarité, le surpoids, une alimentation trop sucrée, trop grasse, trop salée. L’âge et l’hérédité entrent également en cause, mais ne sont pas évitables»,  précise Claire Le Hello, professeur de médecine vasculaire au CHU Nord de Saint-Etienne. Si les femmes sont peu exposées avant 50 ans, leur risque vasculaire rejoint celui des hommes après la ménopause, souligne le professeur.  Plusieurs marqueurs de risque que sont l’apnée du sommeil, l’isolement ou la précarité sociale et la pollution atmosphérique sont également à prendre en compte. Tous se catalysent les uns les autres avec un risque de complication majoré avec l’âge. Un bilan des facteurs de risque devrait être systématiquement réalisé après 40 ans chez l’homme et 50 ans chez la femme. \\n     \\n         «L’athérosclérose est favorisée par le tabagisme, la sédentarité, le surpoids, une alimentation trop sucrée, trop grasse, trop salée.» \\n                     Claire Le Hello, professeur de médecine vasculaire au CHU Nord de Saint-Etienne \\n             \\n Un diagnostic complet Utilisé depuis quelques années pour le dépistage de l’athérosclérose,  «le score calcique est un outil parmi les plus efficaces pour prévenir le risque d’infarctus» , précise le Dr Patrick Assyag, cardiologue à Paris et membre de la FFC. Il permet une évaluation chiffrée de l’étendue des dépôts des artères coronaires. S’ensuit un examen clinique exhaustif, qui comprend une auscultation du cœur, des artères de l’abdomen, des jambes, des artères du cou et des artères sous-clavières.  «Il ne doit pas omettre l’examen cutané des pieds pour l’artérite, la palpation des pouls, la mesure de la tension artérielle prise aux deux bras et aux deux jambes, sans oublier la mesure du périmètre abdominal» , recommande Claire MounierVéhier.  Un bilan biologique standard complète l’ensemble (étude de la glycémie à jeun, bilan lipidique complet, fonction rénale) et si possible, une auto mesure de la tension pour dépister l’hypertension artérielle, très fréquente chez le patient vasculaire.  En cas de symptômes d’alerte évocateurs de maladie coronaire  (douleur constrictive au thorax irradiant dans le bras, la mâchoire ou le creux de l’estomac), l’électrocardiogramme de repos sera complété par une épreuve d’effort. Mieux vaut ne pas attendre l’accident pour agir sur ses facteurs de risque grâce à une bonne hygiène de vie et se faire dépister.  À voir aussi -  C’est quoi un infarctus? \\n         \\n         \\n         \\n         \\n     \\n \\n ']"
      ]
     },
     "execution_count": 18,
     "metadata": {},
     "output_type": "execute_result"
    }
   ],
   "source": [
    "# delete body special text patterns\n",
    "df[\"body\"] = df[\"body\"].str.replace(u'\\xa0', u' ')"
   ]
  },
  {
   "cell_type": "code",
   "execution_count": 22,
   "metadata": {},
   "outputs": [],
   "source": [
    "# Title\n",
    "df[\"title\"] = df[\"title\"].str.replace(u'\\xa0', u' ')"
   ]
  },
  {
   "cell_type": "code",
   "execution_count": 23,
   "metadata": {},
   "outputs": [],
   "source": [
    "# description\n",
    "df[\"description\"] = df[\"description\"].str.replace(u'\\xa0', u' ')"
   ]
  },
  {
   "cell_type": "code",
   "execution_count": 24,
   "metadata": {},
   "outputs": [
    {
     "data": {
      "text/html": [
       "<div>\n",
       "<style scoped>\n",
       "    .dataframe tbody tr th:only-of-type {\n",
       "        vertical-align: middle;\n",
       "    }\n",
       "\n",
       "    .dataframe tbody tr th {\n",
       "        vertical-align: top;\n",
       "    }\n",
       "\n",
       "    .dataframe thead th {\n",
       "        text-align: right;\n",
       "    }\n",
       "</style>\n",
       "<table border=\"1\" class=\"dataframe\">\n",
       "  <thead>\n",
       "    <tr style=\"text-align: right;\">\n",
       "      <th></th>\n",
       "      <th>id_art</th>\n",
       "      <th>url</th>\n",
       "      <th>source</th>\n",
       "      <th>author</th>\n",
       "      <th>title</th>\n",
       "      <th>theme</th>\n",
       "      <th>description</th>\n",
       "      <th>date_published</th>\n",
       "      <th>body</th>\n",
       "    </tr>\n",
       "  </thead>\n",
       "  <tbody>\n",
       "    <tr>\n",
       "      <th>0</th>\n",
       "      <td>1</td>\n",
       "      <td>https://www.telerama.fr/sortir/war-horse-a-la-...</td>\n",
       "      <td>Telerama</td>\n",
       "      <td></td>\n",
       "      <td>“War Horse” à la Seine musicale : un spectacle...</td>\n",
       "      <td>sortir</td>\n",
       "      <td>Admirablement scénographiée, la saga équine ad...</td>\n",
       "      <td>16/12/2019</td>\n",
       "      <td>Étrange qu’il ait fallu attendre douze ans pou...</td>\n",
       "    </tr>\n",
       "    <tr>\n",
       "      <th>1</th>\n",
       "      <td>2</td>\n",
       "      <td>https://www.liberation.fr/france/2019/12/15/le...</td>\n",
       "      <td>Liberation</td>\n",
       "      <td>Nathalie Raulin</td>\n",
       "      <td>Les chefs de service hospitaliers en appellent...</td>\n",
       "      <td>france</td>\n",
       "      <td>Jugeant très insuffisante la réponse du gouver...</td>\n",
       "      <td>15/12/2019</td>\n",
       "      <td>C’est une menace d’une démission collective qu...</td>\n",
       "    </tr>\n",
       "    <tr>\n",
       "      <th>2</th>\n",
       "      <td>3</td>\n",
       "      <td>https://www.futura-sciences.com/sante/actualit...</td>\n",
       "      <td>Futura Sciences</td>\n",
       "      <td>Futura avec Relaxnews</td>\n",
       "      <td>L'origine des comportements alimentaires ident...</td>\n",
       "      <td>sante</td>\n",
       "      <td>D'après une étude publiée dans la revue</td>\n",
       "      <td>16/12/2019</td>\n",
       "      <td>D'après une étude publiée dans la revue  Natur...</td>\n",
       "    </tr>\n",
       "    <tr>\n",
       "      <th>3</th>\n",
       "      <td>4</td>\n",
       "      <td>https://www.futura-sciences.com/tech/actualite...</td>\n",
       "      <td>Futura Sciences</td>\n",
       "      <td>Louis Neveu</td>\n",
       "      <td>Microsoft alerte sur de nouvelles techniques d...</td>\n",
       "      <td>tech</td>\n",
       "      <td>Le géant de l'informatique Microsoft vient de ...</td>\n",
       "      <td>16/12/2019</td>\n",
       "      <td>Le géant de l'informatique Microsoft vient de ...</td>\n",
       "    </tr>\n",
       "    <tr>\n",
       "      <th>4</th>\n",
       "      <td>5</td>\n",
       "      <td>https://www.futura-sciences.com/sciences/actua...</td>\n",
       "      <td>Futura Sciences</td>\n",
       "      <td>Rémy Decourt</td>\n",
       "      <td>L'Europe se dote d'une infrastructure de téléc...</td>\n",
       "      <td>sciences</td>\n",
       "      <td>Pour garantir la sécurité de la libre circulat...</td>\n",
       "      <td>16/12/2019</td>\n",
       "      <td>Pour garantir la sécurité de la libre circulat...</td>\n",
       "    </tr>\n",
       "  </tbody>\n",
       "</table>\n",
       "</div>"
      ],
      "text/plain": [
       "   id_art                                                url           source  \\\n",
       "0       1  https://www.telerama.fr/sortir/war-horse-a-la-...         Telerama   \n",
       "1       2  https://www.liberation.fr/france/2019/12/15/le...       Liberation   \n",
       "2       3  https://www.futura-sciences.com/sante/actualit...  Futura Sciences   \n",
       "3       4  https://www.futura-sciences.com/tech/actualite...  Futura Sciences   \n",
       "4       5  https://www.futura-sciences.com/sciences/actua...  Futura Sciences   \n",
       "\n",
       "                  author                                              title  \\\n",
       "0                         “War Horse” à la Seine musicale : un spectacle...   \n",
       "1        Nathalie Raulin  Les chefs de service hospitaliers en appellent...   \n",
       "2  Futura avec Relaxnews  L'origine des comportements alimentaires ident...   \n",
       "3            Louis Neveu  Microsoft alerte sur de nouvelles techniques d...   \n",
       "4           Rémy Decourt  L'Europe se dote d'une infrastructure de téléc...   \n",
       "\n",
       "      theme                                        description date_published  \\\n",
       "0    sortir  Admirablement scénographiée, la saga équine ad...     16/12/2019   \n",
       "1    france  Jugeant très insuffisante la réponse du gouver...     15/12/2019   \n",
       "2     sante           D'après une étude publiée dans la revue      16/12/2019   \n",
       "3      tech  Le géant de l'informatique Microsoft vient de ...     16/12/2019   \n",
       "4  sciences  Pour garantir la sécurité de la libre circulat...     16/12/2019   \n",
       "\n",
       "                                                body  \n",
       "0  Étrange qu’il ait fallu attendre douze ans pou...  \n",
       "1  C’est une menace d’une démission collective qu...  \n",
       "2  D'après une étude publiée dans la revue  Natur...  \n",
       "3  Le géant de l'informatique Microsoft vient de ...  \n",
       "4  Pour garantir la sécurité de la libre circulat...  "
      ]
     },
     "execution_count": 24,
     "metadata": {},
     "output_type": "execute_result"
    }
   ],
   "source": [
    "df.head()"
   ]
  },
  {
   "cell_type": "code",
   "execution_count": 25,
   "metadata": {},
   "outputs": [
    {
     "data": {
      "text/html": [
       "<div>\n",
       "<style scoped>\n",
       "    .dataframe tbody tr th:only-of-type {\n",
       "        vertical-align: middle;\n",
       "    }\n",
       "\n",
       "    .dataframe tbody tr th {\n",
       "        vertical-align: top;\n",
       "    }\n",
       "\n",
       "    .dataframe thead th {\n",
       "        text-align: right;\n",
       "    }\n",
       "</style>\n",
       "<table border=\"1\" class=\"dataframe\">\n",
       "  <thead>\n",
       "    <tr style=\"text-align: right;\">\n",
       "      <th></th>\n",
       "      <th>id_art</th>\n",
       "      <th>url</th>\n",
       "      <th>source</th>\n",
       "      <th>author</th>\n",
       "      <th>title</th>\n",
       "      <th>theme</th>\n",
       "      <th>description</th>\n",
       "      <th>date_published</th>\n",
       "      <th>body</th>\n",
       "    </tr>\n",
       "  </thead>\n",
       "  <tbody>\n",
       "    <tr>\n",
       "      <th>787</th>\n",
       "      <td>788</td>\n",
       "      <td>https://bourse.lefigaro.fr/indices/la-bourse-d...</td>\n",
       "      <td>Le Figaro</td>\n",
       "      <td>Le Figaro</td>\n",
       "      <td>La Bourse de Paris bat un nouveau record à la ...</td>\n",
       "      <td>indices</td>\n",
       "      <td>Le CAC 40 a fini sur une petite hausse mardi u...</td>\n",
       "      <td>27/12/2019</td>\n",
       "      <td>L’indice CAC 40 a pris symboliquement 0,18 poi...</td>\n",
       "    </tr>\n",
       "    <tr>\n",
       "      <th>788</th>\n",
       "      <td>789</td>\n",
       "      <td>https://www.futura-sciences.com/sante/actualit...</td>\n",
       "      <td>Futura Sciences</td>\n",
       "      <td>Marie-Céline Ray</td>\n",
       "      <td>Science décalée : les hommes mangent plus pour...</td>\n",
       "      <td>sante</td>\n",
       "      <td>Une étude de 2015 a montré que les hommes mang...</td>\n",
       "      <td>28/12/2019</td>\n",
       "      <td>Une étude de 2015 a montré que les hommes mang...</td>\n",
       "    </tr>\n",
       "    <tr>\n",
       "      <th>789</th>\n",
       "      <td>790</td>\n",
       "      <td>https://www.telerama.fr/sortir/bourse-du-comme...</td>\n",
       "      <td>Telerama</td>\n",
       "      <td></td>\n",
       "      <td>Bourse de commerce : en attendant l’ouverture,...</td>\n",
       "      <td>sortir</td>\n",
       "      <td>Quel bel outil ! Etonnant, élégant, pile au bo...</td>\n",
       "      <td>09/12/2019</td>\n",
       "      <td>Passée l’entrée monumentale de la Bourse de co...</td>\n",
       "    </tr>\n",
       "    <tr>\n",
       "      <th>790</th>\n",
       "      <td>791</td>\n",
       "      <td>https://www.lemonde.fr/culture/article/2019/12...</td>\n",
       "      <td>Le Monde</td>\n",
       "      <td></td>\n",
       "      <td>Nos films coup de cœur de 2019</td>\n",
       "      <td>culture</td>\n",
       "      <td>« Portrait de la jeune fille en feu », « Par...</td>\n",
       "      <td>2019-12-27</td>\n",
       "      <td>La sélection de Clarisse Fabre 1770-2034 : à c...</td>\n",
       "    </tr>\n",
       "    <tr>\n",
       "      <th>791</th>\n",
       "      <td>792</td>\n",
       "      <td>https://www.lemonde.fr/international/article/2...</td>\n",
       "      <td>Le Monde</td>\n",
       "      <td>Le Monde avec AFP</td>\n",
       "      <td>Chercheurs détenus en Iran : Téhéran dénonce «...</td>\n",
       "      <td>international</td>\n",
       "      <td>La France avait réagi à la détention de deux...</td>\n",
       "      <td>2019-12-29</td>\n",
       "      <td>Les autorités iraniennes ont dénoncé dimanche ...</td>\n",
       "    </tr>\n",
       "  </tbody>\n",
       "</table>\n",
       "</div>"
      ],
      "text/plain": [
       "     id_art                                                url  \\\n",
       "787     788  https://bourse.lefigaro.fr/indices/la-bourse-d...   \n",
       "788     789  https://www.futura-sciences.com/sante/actualit...   \n",
       "789     790  https://www.telerama.fr/sortir/bourse-du-comme...   \n",
       "790     791  https://www.lemonde.fr/culture/article/2019/12...   \n",
       "791     792  https://www.lemonde.fr/international/article/2...   \n",
       "\n",
       "              source             author  \\\n",
       "787        Le Figaro         Le Figaro    \n",
       "788  Futura Sciences   Marie-Céline Ray   \n",
       "789         Telerama                      \n",
       "790         Le Monde                      \n",
       "791         Le Monde  Le Monde avec AFP   \n",
       "\n",
       "                                                 title          theme  \\\n",
       "787  La Bourse de Paris bat un nouveau record à la ...        indices   \n",
       "788  Science décalée : les hommes mangent plus pour...          sante   \n",
       "789  Bourse de commerce : en attendant l’ouverture,...         sortir   \n",
       "790                     Nos films coup de cœur de 2019        culture   \n",
       "791  Chercheurs détenus en Iran : Téhéran dénonce «...  international   \n",
       "\n",
       "                                           description date_published  \\\n",
       "787  Le CAC 40 a fini sur une petite hausse mardi u...     27/12/2019   \n",
       "788  Une étude de 2015 a montré que les hommes mang...     28/12/2019   \n",
       "789  Quel bel outil ! Etonnant, élégant, pile au bo...     09/12/2019   \n",
       "790    « Portrait de la jeune fille en feu », « Par...     2019-12-27   \n",
       "791    La France avait réagi à la détention de deux...     2019-12-29   \n",
       "\n",
       "                                                  body  \n",
       "787  L’indice CAC 40 a pris symboliquement 0,18 poi...  \n",
       "788  Une étude de 2015 a montré que les hommes mang...  \n",
       "789  Passée l’entrée monumentale de la Bourse de co...  \n",
       "790  La sélection de Clarisse Fabre 1770-2034 : à c...  \n",
       "791  Les autorités iraniennes ont dénoncé dimanche ...  "
      ]
     },
     "execution_count": 25,
     "metadata": {},
     "output_type": "execute_result"
    }
   ],
   "source": [
    "df.tail()"
   ]
  },
  {
   "cell_type": "code",
   "execution_count": null,
   "metadata": {},
   "outputs": [],
   "source": []
  }
 ],
 "metadata": {
  "kernelspec": {
   "display_name": "Python 3",
   "language": "python",
   "name": "python3"
  },
  "language_info": {
   "codemirror_mode": {
    "name": "ipython",
    "version": 3
   },
   "file_extension": ".py",
   "mimetype": "text/x-python",
   "name": "python",
   "nbconvert_exporter": "python",
   "pygments_lexer": "ipython3",
   "version": "3.7.1"
  },
  "toc": {
   "base_numbering": 1,
   "nav_menu": {},
   "number_sections": true,
   "sideBar": true,
   "skip_h1_title": false,
   "title_cell": "Table of Contents",
   "title_sidebar": "Contents",
   "toc_cell": false,
   "toc_position": {},
   "toc_section_display": true,
   "toc_window_display": true
  }
 },
 "nbformat": 4,
 "nbformat_minor": 2
}
