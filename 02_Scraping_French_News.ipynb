{
 "cells": [
  {
   "cell_type": "markdown",
   "metadata": {},
   "source": [
    "# Scraping French Fake News\n",
    "\n",
    "This notebook use scrapy classes to retrieve latest news content from :\n",
    "- Le Gorafi (societe, politique)\n",
    "- Nord Presse.be (France)\n",
    "- BuzzBeed\n",
    "\n",
    "2 possible sources : \n",
    "- pages links and next page \n",
    "- RSS feed"
   ]
  },
  {
   "cell_type": "markdown",
   "metadata": {},
   "source": [
    "## Helper functions"
   ]
  },
  {
   "cell_type": "markdown",
   "metadata": {},
   "source": [
    "### clean_file : Save older scaping result"
   ]
  },
  {
   "cell_type": "code",
   "execution_count": 1,
   "metadata": {},
   "outputs": [],
   "source": [
    "# save before scraping\n",
    "\n",
    "import shutil\n",
    "# importing os module\n",
    "import os\n",
    "# import datetime module\n",
    "import datetime\n",
    "\n",
    "\n",
    "def clean_file(path_file_name):\n",
    "    '''\n",
    "    Clean file already traited : rename file with date\n",
    "    '''\n",
    "    try:\n",
    "        d = datetime.datetime.now()\n",
    "        str_date = '_' + d.strftime(\"%Y%m%d_%H_%M_%S\")\n",
    "        res_re = re.search('\\.\\w+$',path_file_name)\n",
    "        path_file_name_saved = \\\n",
    "            path_file_name[0:res_re.start()] + str_date + res_re.group(0)\n",
    "            \n",
    "        shutil.move(path_file_name, path_file_name_saved) \n",
    "        print('File {} moved!'.format(path_file_name_saved))\n",
    "    except:\n",
    "        print('File {} does not exist!'.format(path_file_name))\n",
    "        \n"
   ]
  },
  {
   "cell_type": "markdown",
   "metadata": {},
   "source": [
    "### run_spider : running spider several times "
   ]
  },
  {
   "cell_type": "code",
   "execution_count": 2,
   "metadata": {},
   "outputs": [],
   "source": [
    "import scrapy\n",
    "import scrapy.crawler as crawler\n",
    "from multiprocessing import Process, Queue\n",
    "from twisted.internet import reactor\n",
    "\n",
    "# the wrapper to make it run more times\n",
    "def run_spider(spider):\n",
    "    '''\n",
    "    function to run several times scraping process\n",
    "    '''\n",
    "    def f(q):\n",
    "        try:\n",
    "            runner = crawler.CrawlerRunner()\n",
    "            deferred = runner.crawl(spider)\n",
    "            deferred.addBoth(lambda _: reactor.stop())\n",
    "            reactor.run()\n",
    "            q.put(None)\n",
    "        except Exception as e:\n",
    "            q.put(e)\n",
    "\n",
    "    q = Queue()\n",
    "    p = Process(target=f, args=(q,))\n",
    "    p.start()\n",
    "    result = q.get()\n",
    "    p.join()\n",
    "\n",
    "    if result is not None:\n",
    "        raise result"
   ]
  },
  {
   "cell_type": "markdown",
   "metadata": {},
   "source": [
    "## Scraping Legorafi"
   ]
  },
  {
   "cell_type": "markdown",
   "metadata": {},
   "source": [
    "### Class definitions"
   ]
  },
  {
   "cell_type": "code",
   "execution_count": 3,
   "metadata": {},
   "outputs": [],
   "source": [
    "import scrapy\n",
    "from scrapy.loader import ItemLoader\n",
    "from scrapy.loader.processors import MapCompose, Join, TakeFirst\n",
    "from w3lib.html import remove_tags\n",
    "\n",
    "class GorafiItem(scrapy.Item):\n",
    "    '''\n",
    "    Class item to declare different information to scrap\n",
    "    and how to process (as input or output)\n",
    "    '''\n",
    "    # define the fields for your item here like:\n",
    "    url = scrapy.Field(output_processor=TakeFirst())\n",
    "    \n",
    "    source = scrapy.Field(output_processor=TakeFirst())\n",
    "    \n",
    "    author = scrapy.Field(\n",
    "        input_processor=MapCompose(remove_tags),\n",
    "        output_processor=TakeFirst()\n",
    "    )\n",
    "    \n",
    "    title = scrapy.Field(\n",
    "        input_processor=MapCompose(remove_tags),\n",
    "        output_processor=TakeFirst()\n",
    "    )\n",
    "    \n",
    "    theme = scrapy.Field(\n",
    "        input_processor=MapCompose(remove_tags),\n",
    "        output_processor=TakeFirst()\n",
    "    )\n",
    "    \n",
    "    date_published = scrapy.Field(\n",
    "        input_processor=MapCompose(remove_tags),\n",
    "        output_processor=TakeFirst()\n",
    "    )\n",
    "    \n",
    "    description = scrapy.Field(\n",
    "        input_processor=MapCompose(remove_tags),\n",
    "        output_processor=TakeFirst()\n",
    "    )\n",
    "    \n",
    "    body = scrapy.Field(\n",
    "        input_processor=MapCompose(remove_tags),\n",
    "        output_processor=Join()\n",
    "    )"
   ]
  },
  {
   "cell_type": "code",
   "execution_count": 4,
   "metadata": {},
   "outputs": [],
   "source": [
    "class GorafiSpider(scrapy.Spider):\n",
    "    '''\n",
    "    Spider to scrap over Le Gorafi webpages : \n",
    "    - how to find information for scraping\n",
    "    - which field names to store\n",
    "    '''\n",
    "    # Your spider definition\n",
    "    name = 'news_gorafi_spider'\n",
    "    # output definition :\n",
    "    custom_settings = {\n",
    "      'FEED_FORMAT': 'json',\n",
    "      'FEED_URI': 'items_gorafi.json'\n",
    "  }\n",
    "    # urls to scrap\n",
    "    start_urls = [\n",
    "        'http://www.legorafi.fr/2019/12/17/psycho-comment-guerir-dun-chagrin-damour-en-donnant-tout-son-argent-au-gorafi/'\n",
    "    ]\n",
    "\n",
    "    def parse(self, response):\n",
    "        '''\n",
    "        Parse definition with xpath which define all patterns to use\n",
    "        for retrieve information into HTML strings\n",
    "        '''\n",
    "        #url\tsource\tauthor\ttitle\ttheme\tdescription\tdate_published\tbody   \n",
    "        l = ItemLoader(item=GorafiItem(), selector=response)\n",
    "        \n",
    "        l.add_value('url', response.url)\n",
    "        \n",
    "        l.add_value('source', \"LeGorafi\")\n",
    "        \n",
    "        l.add_xpath('author', \n",
    "            \"//section[@class='metas container']/span[@class='context']/a\")\n",
    "        \n",
    "        l.add_xpath(\"title\", \"//h1\")\n",
    "        \n",
    "        l.add_xpath(\"theme\", \"//a[@rel='category tag']\")\n",
    "        \n",
    "        l.add_xpath(\"description\", \".//div[@class='intro']/p\")\n",
    "        \n",
    "        l.add_xpath(\"date_published\", \n",
    "            \"//section[@class='metas container']/span[@class='context']\",\n",
    "            re=\"[0-9]+/[0-9]+/[0-9]+\")\n",
    "       \n",
    "        l.add_xpath(\"body\", \"//div[@class='content']/p\")\n",
    "        \n",
    "        yield l.load_item()"
   ]
  },
  {
   "cell_type": "code",
   "execution_count": 5,
   "metadata": {},
   "outputs": [],
   "source": [
    "import scrapy\n",
    "\n",
    "class GorafiRssSpider(scrapy.Spider):\n",
    "    '''\n",
    "    Class Spider for retrieving all links to news webpages from Le Gorafi RSS\n",
    "    '''\n",
    "    name = \"gorafi_rss\"\n",
    "    \n",
    "    custom_settings = {\n",
    "      'FEED_FORMAT': 'json',\n",
    "      'FEED_URI': 'gorafi_rss.json'\n",
    "    }\n",
    "    \n",
    "    def start_requests(self):\n",
    "        urls = [\n",
    "                'http://www.legorafi.fr/feed/',\n",
    "        ]\n",
    "        for url in urls:\n",
    "            yield scrapy.Request(url=url, callback=self.parse)\n",
    "     \n",
    "    def parse(self, response):\n",
    "        for post in response.xpath('//channel/item'):\n",
    "            yield {\n",
    "                'title' : post.xpath('title//text()').extract_first(),\n",
    "                'link': post.xpath('link//text()').extract_first(),\n",
    "                'pubDate' : post.xpath('pubDate//text()').extract_first(),\n",
    "            }\n"
   ]
  },
  {
   "cell_type": "code",
   "execution_count": 6,
   "metadata": {},
   "outputs": [],
   "source": [
    "import scrapy\n",
    "import re\n",
    "\n",
    "class GorafiPageSpider(scrapy.Spider):\n",
    "    '''\n",
    "    Spider to scrap all Le Gorafi pages from selected category\n",
    "    Configure : \n",
    "    - GorafiPageSpider.custom_settings : save location \n",
    "    - num_max_pages : the number of next page to scrap\n",
    "    - url_first_page : web page to start with\n",
    "    '''\n",
    "    name = \"gorafi_page\"\n",
    "    \n",
    "    custom_settings = {\n",
    "      'FEED_FORMAT': 'json',\n",
    "      'FEED_URI': 'pages_gorafi.json'\n",
    "    }\n",
    "    \n",
    "    num_max_pages = 1\n",
    "    \n",
    "    url_first_page = 'http://www.legorafi.fr/category/france/societe/'\n",
    "    \n",
    "    def start_requests(self):\n",
    "        urls = [\n",
    "                self.url_first_page,\n",
    "        ]\n",
    "        for url in urls:\n",
    "            yield scrapy.Request(url=url, callback=self.parse)\n",
    "    \n",
    "    def parse(self, response):\n",
    "        for post in response.xpath('//article/h2'):\n",
    "            yield {\n",
    "                'link': post.xpath('a/@href').extract_first()\n",
    "            }\n",
    "            \n",
    "        next_page = response.xpath(\n",
    "            '//a[@class=\"next page-numbers\"]/@href').get()\n",
    "        \n",
    "        if next_page is not None:\n",
    "            try:\n",
    "                num_next_page = int(re.search(\"(?<=/)\\d+(?=/$)\", \n",
    "                         next_page).group(0))\n",
    "                \n",
    "                if (num_next_page < self.num_max_pages):\n",
    "                    #next_page = response.urljoin(next_page)\n",
    "                    yield scrapy.Request(next_page, callback=self.parse)\n",
    "            except:\n",
    "                next_page = None\n",
    "                "
   ]
  },
  {
   "cell_type": "markdown",
   "metadata": {},
   "source": [
    "### Scraping RSS urls"
   ]
  },
  {
   "cell_type": "markdown",
   "metadata": {},
   "source": [
    "#### Definitions"
   ]
  },
  {
   "cell_type": "code",
   "execution_count": 8,
   "metadata": {},
   "outputs": [],
   "source": [
    "# path to results file for urls\n",
    "PATH_RSS_PAGES_GORAFI = '../../data/gorafi_rss_urls.json'\n",
    "# declare your data location for scraping rss links \n",
    "PATH_RSS_NEWS_GORAFI = '../../data/gorafi_rss_pages.json'"
   ]
  },
  {
   "cell_type": "markdown",
   "metadata": {},
   "source": [
    "#### Scraping urls links"
   ]
  },
  {
   "cell_type": "code",
   "execution_count": 9,
   "metadata": {},
   "outputs": [
    {
     "name": "stdout",
     "output_type": "stream",
     "text": [
      "File ../../data/gorafi_rss_urls.json does not exist!\n"
     ]
    }
   ],
   "source": [
    "# clean (move file if exist)\n",
    "clean_file(PATH_RSS_PAGES_GORAFI)"
   ]
  },
  {
   "cell_type": "code",
   "execution_count": 10,
   "metadata": {},
   "outputs": [],
   "source": [
    "# Configure spider\n",
    "GorafiRssSpider.custom_settings = {\n",
    "      'FEED_FORMAT': 'json',\n",
    "      'FEED_URI': PATH_RSS_PAGES_GORAFI\n",
    "}\n",
    "# scraping\n",
    "run_spider(GorafiRssSpider)"
   ]
  },
  {
   "cell_type": "code",
   "execution_count": 11,
   "metadata": {},
   "outputs": [
    {
     "data": {
      "text/html": [
       "<div>\n",
       "<style scoped>\n",
       "    .dataframe tbody tr th:only-of-type {\n",
       "        vertical-align: middle;\n",
       "    }\n",
       "\n",
       "    .dataframe tbody tr th {\n",
       "        vertical-align: top;\n",
       "    }\n",
       "\n",
       "    .dataframe thead th {\n",
       "        text-align: right;\n",
       "    }\n",
       "</style>\n",
       "<table border=\"1\" class=\"dataframe\">\n",
       "  <thead>\n",
       "    <tr style=\"text-align: right;\">\n",
       "      <th></th>\n",
       "      <th>link</th>\n",
       "      <th>pubDate</th>\n",
       "      <th>title</th>\n",
       "    </tr>\n",
       "  </thead>\n",
       "  <tbody>\n",
       "    <tr>\n",
       "      <th>0</th>\n",
       "      <td>http://www.legorafi.fr/2019/12/20/le-pere-noel...</td>\n",
       "      <td>Fri, 20 Dec 2019 13:00:49 +0000</td>\n",
       "      <td>Le Père Noël découvre stupéfait l’existence de...</td>\n",
       "    </tr>\n",
       "    <tr>\n",
       "      <th>1</th>\n",
       "      <td>http://www.legorafi.fr/2019/12/20/gorafi-magaz...</td>\n",
       "      <td>Fri, 20 Dec 2019 09:00:04 +0000</td>\n",
       "      <td>Gorafi Magazine : Partir à la retraite à 115 ans</td>\n",
       "    </tr>\n",
       "    <tr>\n",
       "      <th>2</th>\n",
       "      <td>http://www.legorafi.fr/2019/12/19/noel-pour-co...</td>\n",
       "      <td>Thu, 19 Dec 2019 13:00:32 +0000</td>\n",
       "      <td>Noël – Pour coller à la réalité, les magasins ...</td>\n",
       "    </tr>\n",
       "    <tr>\n",
       "      <th>3</th>\n",
       "      <td>http://www.legorafi.fr/2019/12/19/le-gouvernem...</td>\n",
       "      <td>Thu, 19 Dec 2019 09:22:54 +0000</td>\n",
       "      <td>Le gouvernement autorise les chauffeurs des bu...</td>\n",
       "    </tr>\n",
       "    <tr>\n",
       "      <th>4</th>\n",
       "      <td>http://www.legorafi.fr/2019/12/18/espagne-18-m...</td>\n",
       "      <td>Wed, 18 Dec 2019 09:14:41 +0000</td>\n",
       "      <td>Espagne – 18 morts dans la traditionnelle bata...</td>\n",
       "    </tr>\n",
       "    <tr>\n",
       "      <th>5</th>\n",
       "      <td>http://www.legorafi.fr/2019/12/17/psycho-comme...</td>\n",
       "      <td>Tue, 17 Dec 2019 09:03:56 +0000</td>\n",
       "      <td>Psycho : Comment guérir d’un chagrin d’amour e...</td>\n",
       "    </tr>\n",
       "    <tr>\n",
       "      <th>6</th>\n",
       "      <td>http://www.legorafi.fr/2019/12/16/apres-sa-dem...</td>\n",
       "      <td>Mon, 16 Dec 2019 13:00:39 +0000</td>\n",
       "      <td>Après sa démission Jean-Paul Delevoye savoure ...</td>\n",
       "    </tr>\n",
       "    <tr>\n",
       "      <th>7</th>\n",
       "      <td>http://www.legorafi.fr/2019/12/16/le-tfc-va-sa...</td>\n",
       "      <td>Mon, 16 Dec 2019 09:04:56 +0000</td>\n",
       "      <td>Le TFC va sacrifier un de ses joueurs pour cal...</td>\n",
       "    </tr>\n",
       "    <tr>\n",
       "      <th>8</th>\n",
       "      <td>http://www.legorafi.fr/2019/12/16/horoscope-du...</td>\n",
       "      <td>Mon, 16 Dec 2019 08:31:26 +0000</td>\n",
       "      <td>Horoscope du 16 décembre 2019</td>\n",
       "    </tr>\n",
       "    <tr>\n",
       "      <th>9</th>\n",
       "      <td>http://www.legorafi.fr/2019/12/13/les-climato-...</td>\n",
       "      <td>Fri, 13 Dec 2019 14:30:12 +0000</td>\n",
       "      <td>Les climato-sceptiques  présentent leur Greta ...</td>\n",
       "    </tr>\n",
       "    <tr>\n",
       "      <th>10</th>\n",
       "      <td>http://www.legorafi.fr/2019/12/13/gorafi-magaz...</td>\n",
       "      <td>Fri, 13 Dec 2019 13:00:55 +0000</td>\n",
       "      <td>Gorafi Magazine : Personne de l’année : le LBD</td>\n",
       "    </tr>\n",
       "    <tr>\n",
       "      <th>11</th>\n",
       "      <td>http://www.legorafi.fr/2019/12/13/greves-il-ma...</td>\n",
       "      <td>Fri, 13 Dec 2019 09:06:53 +0000</td>\n",
       "      <td>Grèves – Il marche plus de 200 km par jour pie...</td>\n",
       "    </tr>\n",
       "    <tr>\n",
       "      <th>12</th>\n",
       "      <td>http://www.legorafi.fr/2019/12/12/prolongation...</td>\n",
       "      <td>Thu, 12 Dec 2019 13:04:02 +0000</td>\n",
       "      <td>Prolongation de Kylian Mbappé : « Je suis comm...</td>\n",
       "    </tr>\n",
       "    <tr>\n",
       "      <th>13</th>\n",
       "      <td>http://www.legorafi.fr/2019/12/12/test-quel-es...</td>\n",
       "      <td>Thu, 12 Dec 2019 10:33:01 +0000</td>\n",
       "      <td>Test : quel est l’âge idéal pour mourir avant ...</td>\n",
       "    </tr>\n",
       "    <tr>\n",
       "      <th>14</th>\n",
       "      <td>http://www.legorafi.fr/2019/12/11/plusieurs-bu...</td>\n",
       "      <td>Wed, 11 Dec 2019 13:00:10 +0000</td>\n",
       "      <td>Plusieurs Burger Quiz fermés après une visite ...</td>\n",
       "    </tr>\n",
       "    <tr>\n",
       "      <th>15</th>\n",
       "      <td>http://www.legorafi.fr/2019/12/11/jean-paul-de...</td>\n",
       "      <td>Wed, 11 Dec 2019 09:08:39 +0000</td>\n",
       "      <td>Jean-Paul Delevoye contraint de démissionner d...</td>\n",
       "    </tr>\n",
       "    <tr>\n",
       "      <th>16</th>\n",
       "      <td>http://www.legorafi.fr/2019/12/10/il-economise...</td>\n",
       "      <td>Tue, 10 Dec 2019 09:03:54 +0000</td>\n",
       "      <td>Il économise 5 euros en achetant au duty-free ...</td>\n",
       "    </tr>\n",
       "    <tr>\n",
       "      <th>17</th>\n",
       "      <td>http://www.legorafi.fr/2019/12/09/jean-paul-de...</td>\n",
       "      <td>Mon, 09 Dec 2019 13:00:31 +0000</td>\n",
       "      <td>Jean-Paul Delevoye a oublié de préciser qu’il ...</td>\n",
       "    </tr>\n",
       "    <tr>\n",
       "      <th>18</th>\n",
       "      <td>http://www.legorafi.fr/2019/12/09/la-police-li...</td>\n",
       "      <td>Mon, 09 Dec 2019 09:19:08 +0000</td>\n",
       "      <td>La police libère un homme qui tournait en rond...</td>\n",
       "    </tr>\n",
       "    <tr>\n",
       "      <th>19</th>\n",
       "      <td>http://www.legorafi.fr/2019/12/09/horoscope-du...</td>\n",
       "      <td>Mon, 09 Dec 2019 08:42:07 +0000</td>\n",
       "      <td>Horoscope du 9 décembre 2019</td>\n",
       "    </tr>\n",
       "  </tbody>\n",
       "</table>\n",
       "</div>"
      ],
      "text/plain": [
       "                                                 link  \\\n",
       "0   http://www.legorafi.fr/2019/12/20/le-pere-noel...   \n",
       "1   http://www.legorafi.fr/2019/12/20/gorafi-magaz...   \n",
       "2   http://www.legorafi.fr/2019/12/19/noel-pour-co...   \n",
       "3   http://www.legorafi.fr/2019/12/19/le-gouvernem...   \n",
       "4   http://www.legorafi.fr/2019/12/18/espagne-18-m...   \n",
       "5   http://www.legorafi.fr/2019/12/17/psycho-comme...   \n",
       "6   http://www.legorafi.fr/2019/12/16/apres-sa-dem...   \n",
       "7   http://www.legorafi.fr/2019/12/16/le-tfc-va-sa...   \n",
       "8   http://www.legorafi.fr/2019/12/16/horoscope-du...   \n",
       "9   http://www.legorafi.fr/2019/12/13/les-climato-...   \n",
       "10  http://www.legorafi.fr/2019/12/13/gorafi-magaz...   \n",
       "11  http://www.legorafi.fr/2019/12/13/greves-il-ma...   \n",
       "12  http://www.legorafi.fr/2019/12/12/prolongation...   \n",
       "13  http://www.legorafi.fr/2019/12/12/test-quel-es...   \n",
       "14  http://www.legorafi.fr/2019/12/11/plusieurs-bu...   \n",
       "15  http://www.legorafi.fr/2019/12/11/jean-paul-de...   \n",
       "16  http://www.legorafi.fr/2019/12/10/il-economise...   \n",
       "17  http://www.legorafi.fr/2019/12/09/jean-paul-de...   \n",
       "18  http://www.legorafi.fr/2019/12/09/la-police-li...   \n",
       "19  http://www.legorafi.fr/2019/12/09/horoscope-du...   \n",
       "\n",
       "                            pubDate  \\\n",
       "0   Fri, 20 Dec 2019 13:00:49 +0000   \n",
       "1   Fri, 20 Dec 2019 09:00:04 +0000   \n",
       "2   Thu, 19 Dec 2019 13:00:32 +0000   \n",
       "3   Thu, 19 Dec 2019 09:22:54 +0000   \n",
       "4   Wed, 18 Dec 2019 09:14:41 +0000   \n",
       "5   Tue, 17 Dec 2019 09:03:56 +0000   \n",
       "6   Mon, 16 Dec 2019 13:00:39 +0000   \n",
       "7   Mon, 16 Dec 2019 09:04:56 +0000   \n",
       "8   Mon, 16 Dec 2019 08:31:26 +0000   \n",
       "9   Fri, 13 Dec 2019 14:30:12 +0000   \n",
       "10  Fri, 13 Dec 2019 13:00:55 +0000   \n",
       "11  Fri, 13 Dec 2019 09:06:53 +0000   \n",
       "12  Thu, 12 Dec 2019 13:04:02 +0000   \n",
       "13  Thu, 12 Dec 2019 10:33:01 +0000   \n",
       "14  Wed, 11 Dec 2019 13:00:10 +0000   \n",
       "15  Wed, 11 Dec 2019 09:08:39 +0000   \n",
       "16  Tue, 10 Dec 2019 09:03:54 +0000   \n",
       "17  Mon, 09 Dec 2019 13:00:31 +0000   \n",
       "18  Mon, 09 Dec 2019 09:19:08 +0000   \n",
       "19  Mon, 09 Dec 2019 08:42:07 +0000   \n",
       "\n",
       "                                                title  \n",
       "0   Le Père Noël découvre stupéfait l’existence de...  \n",
       "1    Gorafi Magazine : Partir à la retraite à 115 ans  \n",
       "2   Noël – Pour coller à la réalité, les magasins ...  \n",
       "3   Le gouvernement autorise les chauffeurs des bu...  \n",
       "4   Espagne – 18 morts dans la traditionnelle bata...  \n",
       "5   Psycho : Comment guérir d’un chagrin d’amour e...  \n",
       "6   Après sa démission Jean-Paul Delevoye savoure ...  \n",
       "7   Le TFC va sacrifier un de ses joueurs pour cal...  \n",
       "8                       Horoscope du 16 décembre 2019  \n",
       "9   Les climato-sceptiques  présentent leur Greta ...  \n",
       "10     Gorafi Magazine : Personne de l’année : le LBD  \n",
       "11  Grèves – Il marche plus de 200 km par jour pie...  \n",
       "12  Prolongation de Kylian Mbappé : « Je suis comm...  \n",
       "13  Test : quel est l’âge idéal pour mourir avant ...  \n",
       "14  Plusieurs Burger Quiz fermés après une visite ...  \n",
       "15  Jean-Paul Delevoye contraint de démissionner d...  \n",
       "16  Il économise 5 euros en achetant au duty-free ...  \n",
       "17  Jean-Paul Delevoye a oublié de préciser qu’il ...  \n",
       "18  La police libère un homme qui tournait en rond...  \n",
       "19                       Horoscope du 9 décembre 2019  "
      ]
     },
     "execution_count": 11,
     "metadata": {},
     "output_type": "execute_result"
    }
   ],
   "source": [
    "import pandas as pd\n",
    "\n",
    "df_rss_gorafi = pd.read_json(PATH_RSS_PAGES_GORAFI)\n",
    "df_rss_gorafi"
   ]
  },
  {
   "cell_type": "code",
   "execution_count": 12,
   "metadata": {},
   "outputs": [
    {
     "data": {
      "text/plain": [
       "(20, 3)"
      ]
     },
     "execution_count": 12,
     "metadata": {},
     "output_type": "execute_result"
    }
   ],
   "source": [
    "df_rss_gorafi.shape"
   ]
  },
  {
   "cell_type": "markdown",
   "metadata": {},
   "source": [
    "#### Scraping RSS news"
   ]
  },
  {
   "cell_type": "code",
   "execution_count": null,
   "metadata": {},
   "outputs": [],
   "source": [
    "# clean (move file if exist)\n",
    "clean_file(PATH_RSS_NEWS_GORAFI)"
   ]
  },
  {
   "cell_type": "code",
   "execution_count": 13,
   "metadata": {},
   "outputs": [],
   "source": [
    "# configure : add all retrieved links to Spider\n",
    "GorafiSpider.start_urls = df_rss_gorafi[\"link\"].tolist()\n",
    "GorafiSpider.custom_settings = {\n",
    "      'FEED_FORMAT': 'json',\n",
    "      'FEED_URI': PATH_RSS_NEWS_GORAFI\n",
    "}\n",
    "\n",
    "# scraping\n",
    "run_spider(GorafiSpider)"
   ]
  },
  {
   "cell_type": "code",
   "execution_count": 14,
   "metadata": {},
   "outputs": [
    {
     "data": {
      "text/html": [
       "<div>\n",
       "<style scoped>\n",
       "    .dataframe tbody tr th:only-of-type {\n",
       "        vertical-align: middle;\n",
       "    }\n",
       "\n",
       "    .dataframe tbody tr th {\n",
       "        vertical-align: top;\n",
       "    }\n",
       "\n",
       "    .dataframe thead th {\n",
       "        text-align: right;\n",
       "    }\n",
       "</style>\n",
       "<table border=\"1\" class=\"dataframe\">\n",
       "  <thead>\n",
       "    <tr style=\"text-align: right;\">\n",
       "      <th></th>\n",
       "      <th>author</th>\n",
       "      <th>body</th>\n",
       "      <th>date_published</th>\n",
       "      <th>description</th>\n",
       "      <th>source</th>\n",
       "      <th>theme</th>\n",
       "      <th>title</th>\n",
       "      <th>url</th>\n",
       "    </tr>\n",
       "  </thead>\n",
       "  <tbody>\n",
       "    <tr>\n",
       "      <th>0</th>\n",
       "      <td>La Rédaction</td>\n",
       "      <td>« Je n’en revenais pas… C’est un lutin stagiai...</td>\n",
       "      <td>20/12/2019</td>\n",
       "      <td>A quatre jours de la distribution des cadeaux ...</td>\n",
       "      <td>LeGorafi</td>\n",
       "      <td>Société</td>\n",
       "      <td>Le Père Noël découvre stupéfait l’existence de...</td>\n",
       "      <td>http://www.legorafi.fr/2019/12/20/le-pere-noel...</td>\n",
       "    </tr>\n",
       "    <tr>\n",
       "      <th>1</th>\n",
       "      <td>La Rédaction</td>\n",
       "      <td>NaN</td>\n",
       "      <td>20/12/2019</td>\n",
       "      <td>NaN</td>\n",
       "      <td>LeGorafi</td>\n",
       "      <td>Magazine</td>\n",
       "      <td>Gorafi Magazine : Partir à la retraite à 115 ans</td>\n",
       "      <td>http://www.legorafi.fr/2019/12/20/gorafi-magaz...</td>\n",
       "    </tr>\n",
       "    <tr>\n",
       "      <th>2</th>\n",
       "      <td>La Rédaction</td>\n",
       "      <td>« Mes équipes sentaient le malaise s’installer...</td>\n",
       "      <td>19/12/2019</td>\n",
       "      <td>Afin d’être plus en phase avec l’actualité, le...</td>\n",
       "      <td>LeGorafi</td>\n",
       "      <td>Société</td>\n",
       "      <td>Noël – Pour coller à la réalité, les magasins ...</td>\n",
       "      <td>http://www.legorafi.fr/2019/12/19/noel-pour-co...</td>\n",
       "    </tr>\n",
       "    <tr>\n",
       "      <th>3</th>\n",
       "      <td>La Rédaction</td>\n",
       "      <td>Ainsi les chauffeurs sont autorisés à prendre ...</td>\n",
       "      <td>19/12/2019</td>\n",
       "      <td>Paris – Pour aider les Français à pouvoir prof...</td>\n",
       "      <td>LeGorafi</td>\n",
       "      <td>Société</td>\n",
       "      <td>Le gouvernement autorise les chauffeurs des bu...</td>\n",
       "      <td>http://www.legorafi.fr/2019/12/19/le-gouvernem...</td>\n",
       "    </tr>\n",
       "    <tr>\n",
       "      <th>4</th>\n",
       "      <td>La Rédaction</td>\n",
       "      <td>Oliver Sadran espère ainsi conjurer le mauvais...</td>\n",
       "      <td>16/12/2019</td>\n",
       "      <td>Aux grands maux les grands remèdes. Afin de ca...</td>\n",
       "      <td>LeGorafi</td>\n",
       "      <td>Sports</td>\n",
       "      <td>Le TFC va sacrifier un de ses joueurs pour cal...</td>\n",
       "      <td>http://www.legorafi.fr/2019/12/16/le-tfc-va-sa...</td>\n",
       "    </tr>\n",
       "  </tbody>\n",
       "</table>\n",
       "</div>"
      ],
      "text/plain": [
       "         author                                               body  \\\n",
       "0  La Rédaction  « Je n’en revenais pas… C’est un lutin stagiai...   \n",
       "1  La Rédaction                                                NaN   \n",
       "2  La Rédaction  « Mes équipes sentaient le malaise s’installer...   \n",
       "3  La Rédaction  Ainsi les chauffeurs sont autorisés à prendre ...   \n",
       "4  La Rédaction  Oliver Sadran espère ainsi conjurer le mauvais...   \n",
       "\n",
       "  date_published                                        description    source  \\\n",
       "0     20/12/2019  A quatre jours de la distribution des cadeaux ...  LeGorafi   \n",
       "1     20/12/2019                                                NaN  LeGorafi   \n",
       "2     19/12/2019  Afin d’être plus en phase avec l’actualité, le...  LeGorafi   \n",
       "3     19/12/2019  Paris – Pour aider les Français à pouvoir prof...  LeGorafi   \n",
       "4     16/12/2019  Aux grands maux les grands remèdes. Afin de ca...  LeGorafi   \n",
       "\n",
       "      theme                                              title  \\\n",
       "0   Société  Le Père Noël découvre stupéfait l’existence de...   \n",
       "1  Magazine   Gorafi Magazine : Partir à la retraite à 115 ans   \n",
       "2   Société  Noël – Pour coller à la réalité, les magasins ...   \n",
       "3   Société  Le gouvernement autorise les chauffeurs des bu...   \n",
       "4    Sports  Le TFC va sacrifier un de ses joueurs pour cal...   \n",
       "\n",
       "                                                 url  \n",
       "0  http://www.legorafi.fr/2019/12/20/le-pere-noel...  \n",
       "1  http://www.legorafi.fr/2019/12/20/gorafi-magaz...  \n",
       "2  http://www.legorafi.fr/2019/12/19/noel-pour-co...  \n",
       "3  http://www.legorafi.fr/2019/12/19/le-gouvernem...  \n",
       "4  http://www.legorafi.fr/2019/12/16/le-tfc-va-sa...  "
      ]
     },
     "execution_count": 14,
     "metadata": {},
     "output_type": "execute_result"
    }
   ],
   "source": [
    "import pandas as pd\n",
    "\n",
    "df_gorafi = pd.read_json(PATH_RSS_NEWS_GORAFI)\n",
    "df_gorafi.head()"
   ]
  },
  {
   "cell_type": "code",
   "execution_count": 15,
   "metadata": {},
   "outputs": [
    {
     "data": {
      "text/plain": [
       "(20, 8)"
      ]
     },
     "execution_count": 15,
     "metadata": {},
     "output_type": "execute_result"
    }
   ],
   "source": [
    "df_gorafi.shape"
   ]
  },
  {
   "cell_type": "markdown",
   "metadata": {},
   "source": [
    "### Scraping urls into webpages "
   ]
  },
  {
   "cell_type": "markdown",
   "metadata": {},
   "source": [
    "#### Definitions"
   ]
  },
  {
   "cell_type": "code",
   "execution_count": 190,
   "metadata": {},
   "outputs": [],
   "source": [
    "URL_PAGES_GORAFI_SOCIETE = 'http://www.legorafi.fr/category/france/societe/'\n",
    "# declare your data location\n",
    "PATH_PAGES_GORAFI_SOCIETE = '../../data/pages_gorafi.json'\n",
    "PATH_NEWS_GORAFI_SOCIETE = '../../data/gorafi_societe.json'\n",
    "\n",
    "URL_PAGES_GORAFI_POLITIQUE = 'http://www.legorafi.fr/category/france/politique/'\n",
    "# declare your data location\n",
    "PATH_PAGES_GORAFI_POLITIQUE = '../../data/pages_gorafi_politique.json'\n",
    "PATH_NEWS_GORAFI_POLITIQUE = '../../data/gorafi_politique.json'"
   ]
  },
  {
   "cell_type": "markdown",
   "metadata": {},
   "source": [
    "#### Le Gorafi Société"
   ]
  },
  {
   "cell_type": "markdown",
   "metadata": {},
   "source": [
    "##### Scraping links"
   ]
  },
  {
   "cell_type": "code",
   "execution_count": 153,
   "metadata": {},
   "outputs": [
    {
     "name": "stdout",
     "output_type": "stream",
     "text": [
      "File ../../data/pages_gorafi_20191225_10_47_30.json moved!\n"
     ]
    }
   ],
   "source": [
    "# clean (move file if exist)\n",
    "clean_file(PATH_PAGES_GORAFI_SOCIETE)"
   ]
  },
  {
   "cell_type": "code",
   "execution_count": 104,
   "metadata": {},
   "outputs": [],
   "source": [
    "# configure scraping\n",
    "GorafiPageSpider.url_first_page = URL_PAGES_GORAFI_SOCIETE\n",
    "GorafiPageSpider.custom_settings = {\n",
    "      'FEED_FORMAT': 'json',\n",
    "      'FEED_URI': PATH_PAGES_GORAFI_SOCIETE\n",
    "    }\n",
    "GorafiPageSpider.num_max_pages = 50\n",
    "\n",
    "# clean last output\n",
    "clean_file(PATH_PAGES_GORAFI_SOCIETE)\n",
    "# scraping page urls LeGorafi\n",
    "run_spider(GorafiPageSpider)"
   ]
  },
  {
   "cell_type": "code",
   "execution_count": 161,
   "metadata": {},
   "outputs": [
    {
     "data": {
      "text/html": [
       "<div>\n",
       "<style scoped>\n",
       "    .dataframe tbody tr th:only-of-type {\n",
       "        vertical-align: middle;\n",
       "    }\n",
       "\n",
       "    .dataframe tbody tr th {\n",
       "        vertical-align: top;\n",
       "    }\n",
       "\n",
       "    .dataframe thead th {\n",
       "        text-align: right;\n",
       "    }\n",
       "</style>\n",
       "<table border=\"1\" class=\"dataframe\">\n",
       "  <thead>\n",
       "    <tr style=\"text-align: right;\">\n",
       "      <th></th>\n",
       "      <th>link</th>\n",
       "    </tr>\n",
       "  </thead>\n",
       "  <tbody>\n",
       "    <tr>\n",
       "      <th>0</th>\n",
       "      <td>http://www.legorafi.fr/2019/12/19/noel-pour-co...</td>\n",
       "    </tr>\n",
       "    <tr>\n",
       "      <th>1</th>\n",
       "      <td>http://www.legorafi.fr/2019/12/19/le-gouvernem...</td>\n",
       "    </tr>\n",
       "    <tr>\n",
       "      <th>2</th>\n",
       "      <td>http://www.legorafi.fr/2019/12/17/psycho-comme...</td>\n",
       "    </tr>\n",
       "    <tr>\n",
       "      <th>3</th>\n",
       "      <td>http://www.legorafi.fr/2019/12/12/test-quel-es...</td>\n",
       "    </tr>\n",
       "    <tr>\n",
       "      <th>4</th>\n",
       "      <td>http://www.legorafi.fr/2019/12/11/plusieurs-bu...</td>\n",
       "    </tr>\n",
       "  </tbody>\n",
       "</table>\n",
       "</div>"
      ],
      "text/plain": [
       "                                                link\n",
       "0  http://www.legorafi.fr/2019/12/19/noel-pour-co...\n",
       "1  http://www.legorafi.fr/2019/12/19/le-gouvernem...\n",
       "2  http://www.legorafi.fr/2019/12/17/psycho-comme...\n",
       "3  http://www.legorafi.fr/2019/12/12/test-quel-es...\n",
       "4  http://www.legorafi.fr/2019/12/11/plusieurs-bu..."
      ]
     },
     "execution_count": 161,
     "metadata": {},
     "output_type": "execute_result"
    }
   ],
   "source": [
    "import pandas as pd\n",
    "\n",
    "df_gorafi_pages = pd.read_json(PATH_PAGES_GORAFI_SOCIETE)\n",
    "df_gorafi_pages.head()"
   ]
  },
  {
   "cell_type": "code",
   "execution_count": 166,
   "metadata": {},
   "outputs": [
    {
     "data": {
      "text/plain": [
       "(246, 1)"
      ]
     },
     "execution_count": 166,
     "metadata": {},
     "output_type": "execute_result"
    }
   ],
   "source": [
    "df_gorafi_pages.shape"
   ]
  },
  {
   "cell_type": "markdown",
   "metadata": {},
   "source": [
    "##### Scraping news"
   ]
  },
  {
   "cell_type": "code",
   "execution_count": null,
   "metadata": {},
   "outputs": [],
   "source": [
    "# clean last output\n",
    "clean_file(PATH_NEWS_GORAFI_SOCIETE)"
   ]
  },
  {
   "cell_type": "code",
   "execution_count": 167,
   "metadata": {},
   "outputs": [],
   "source": [
    "# configure : add all retrieved links to Spider\n",
    "GorafiSpider.start_urls = df_gorafi_pages[\"link\"].tolist()\n",
    "GorafiSpider.custom_settings = {\n",
    "      'FEED_FORMAT': 'json',\n",
    "      'FEED_URI': PATH_NEWS_GORAFI_SOCIETE\n",
    "    }\n",
    "# scraping\n",
    "run_spider(GorafiSpider)"
   ]
  },
  {
   "cell_type": "code",
   "execution_count": 195,
   "metadata": {},
   "outputs": [
    {
     "data": {
      "text/html": [
       "<div>\n",
       "<style scoped>\n",
       "    .dataframe tbody tr th:only-of-type {\n",
       "        vertical-align: middle;\n",
       "    }\n",
       "\n",
       "    .dataframe tbody tr th {\n",
       "        vertical-align: top;\n",
       "    }\n",
       "\n",
       "    .dataframe thead th {\n",
       "        text-align: right;\n",
       "    }\n",
       "</style>\n",
       "<table border=\"1\" class=\"dataframe\">\n",
       "  <thead>\n",
       "    <tr style=\"text-align: right;\">\n",
       "      <th></th>\n",
       "      <th>author</th>\n",
       "      <th>body</th>\n",
       "      <th>date_published</th>\n",
       "      <th>description</th>\n",
       "      <th>source</th>\n",
       "      <th>theme</th>\n",
       "      <th>title</th>\n",
       "      <th>url</th>\n",
       "    </tr>\n",
       "  </thead>\n",
       "  <tbody>\n",
       "    <tr>\n",
       "      <th>0</th>\n",
       "      <td>La Rédaction</td>\n",
       "      <td>« Mes équipes sentaient le malaise s’installer...</td>\n",
       "      <td>19/12/2019</td>\n",
       "      <td>Afin d’être plus en phase avec l’actualité, le...</td>\n",
       "      <td>LeGorafi</td>\n",
       "      <td>Société</td>\n",
       "      <td>Noël – Pour coller à la réalité, les magasins ...</td>\n",
       "      <td>http://www.legorafi.fr/2019/12/19/noel-pour-co...</td>\n",
       "    </tr>\n",
       "    <tr>\n",
       "      <th>1</th>\n",
       "      <td>La Rédaction</td>\n",
       "      <td>Oui, car Mathias a économisé pas moins de 5 eu...</td>\n",
       "      <td>10/12/2019</td>\n",
       "      <td>Alors qu’il rentrait d’un week-end, Mathias a ...</td>\n",
       "      <td>LeGorafi</td>\n",
       "      <td>Société</td>\n",
       "      <td>Il économise 5 euros en achetant au duty-free ...</td>\n",
       "      <td>http://www.legorafi.fr/2019/12/10/il-economise...</td>\n",
       "    </tr>\n",
       "    <tr>\n",
       "      <th>2</th>\n",
       "      <td>La Rédaction</td>\n",
       "      <td>1/ Faire un beau chèque en s’appliquant pour l...</td>\n",
       "      <td>17/12/2019</td>\n",
       "      <td>L’échec amoureux n’a plus de secret pour vous ...</td>\n",
       "      <td>LeGorafi</td>\n",
       "      <td>Société</td>\n",
       "      <td>Psycho : Comment guérir d’un chagrin d’amour e...</td>\n",
       "      <td>http://www.legorafi.fr/2019/12/17/psycho-comme...</td>\n",
       "    </tr>\n",
       "    <tr>\n",
       "      <th>3</th>\n",
       "      <td>La Rédaction</td>\n",
       "      <td>\\nwindow.beOpAsyncInit = function() {\\n  BeOpS...</td>\n",
       "      <td>12/12/2019</td>\n",
       "      <td>Depuis les annonces d’Edouard Philippe, vous v...</td>\n",
       "      <td>LeGorafi</td>\n",
       "      <td>Société</td>\n",
       "      <td>Test : quel est l’âge idéal pour mourir avant ...</td>\n",
       "      <td>http://www.legorafi.fr/2019/12/12/test-quel-es...</td>\n",
       "    </tr>\n",
       "    <tr>\n",
       "      <th>4</th>\n",
       "      <td>La Rédaction</td>\n",
       "      <td>Selon les services sanitaires, se sont plusieu...</td>\n",
       "      <td>11/12/2019</td>\n",
       "      <td>Paris – La chaîne de restauration rapide lancé...</td>\n",
       "      <td>LeGorafi</td>\n",
       "      <td>Société</td>\n",
       "      <td>Plusieurs Burger Quiz fermés après une visite ...</td>\n",
       "      <td>http://www.legorafi.fr/2019/12/11/plusieurs-bu...</td>\n",
       "    </tr>\n",
       "  </tbody>\n",
       "</table>\n",
       "</div>"
      ],
      "text/plain": [
       "         author                                               body  \\\n",
       "0  La Rédaction  « Mes équipes sentaient le malaise s’installer...   \n",
       "1  La Rédaction  Oui, car Mathias a économisé pas moins de 5 eu...   \n",
       "2  La Rédaction  1/ Faire un beau chèque en s’appliquant pour l...   \n",
       "3  La Rédaction  \\nwindow.beOpAsyncInit = function() {\\n  BeOpS...   \n",
       "4  La Rédaction  Selon les services sanitaires, se sont plusieu...   \n",
       "\n",
       "  date_published                                        description    source  \\\n",
       "0     19/12/2019  Afin d’être plus en phase avec l’actualité, le...  LeGorafi   \n",
       "1     10/12/2019  Alors qu’il rentrait d’un week-end, Mathias a ...  LeGorafi   \n",
       "2     17/12/2019  L’échec amoureux n’a plus de secret pour vous ...  LeGorafi   \n",
       "3     12/12/2019  Depuis les annonces d’Edouard Philippe, vous v...  LeGorafi   \n",
       "4     11/12/2019  Paris – La chaîne de restauration rapide lancé...  LeGorafi   \n",
       "\n",
       "     theme                                              title  \\\n",
       "0  Société  Noël – Pour coller à la réalité, les magasins ...   \n",
       "1  Société  Il économise 5 euros en achetant au duty-free ...   \n",
       "2  Société  Psycho : Comment guérir d’un chagrin d’amour e...   \n",
       "3  Société  Test : quel est l’âge idéal pour mourir avant ...   \n",
       "4  Société  Plusieurs Burger Quiz fermés après une visite ...   \n",
       "\n",
       "                                                 url  \n",
       "0  http://www.legorafi.fr/2019/12/19/noel-pour-co...  \n",
       "1  http://www.legorafi.fr/2019/12/10/il-economise...  \n",
       "2  http://www.legorafi.fr/2019/12/17/psycho-comme...  \n",
       "3  http://www.legorafi.fr/2019/12/12/test-quel-es...  \n",
       "4  http://www.legorafi.fr/2019/12/11/plusieurs-bu...  "
      ]
     },
     "execution_count": 195,
     "metadata": {},
     "output_type": "execute_result"
    }
   ],
   "source": [
    "import pandas as pd\n",
    "\n",
    "df_gorafi_soc = pd.read_json(PATH_NEWS_GORAFI_SOCIETE)\n",
    "df_gorafi_soc.head()"
   ]
  },
  {
   "cell_type": "code",
   "execution_count": 196,
   "metadata": {},
   "outputs": [
    {
     "data": {
      "text/plain": [
       "(246, 8)"
      ]
     },
     "execution_count": 196,
     "metadata": {},
     "output_type": "execute_result"
    }
   ],
   "source": [
    "df_gorafi_soc.shape"
   ]
  },
  {
   "cell_type": "code",
   "execution_count": 197,
   "metadata": {},
   "outputs": [
    {
     "data": {
      "text/plain": [
       "0"
      ]
     },
     "execution_count": 197,
     "metadata": {},
     "output_type": "execute_result"
    }
   ],
   "source": [
    "df_gorafi_soc[df_gorafi_soc[\"body\"].isna()].shape[0]"
   ]
  },
  {
   "cell_type": "markdown",
   "metadata": {},
   "source": [
    "#### Le Gorafi Politique"
   ]
  },
  {
   "cell_type": "markdown",
   "metadata": {},
   "source": [
    "##### Scraping links"
   ]
  },
  {
   "cell_type": "code",
   "execution_count": null,
   "metadata": {},
   "outputs": [],
   "source": [
    "# clean last output\n",
    "clean_file(PATH_PAGES_GORAFI_POLITIQUE)"
   ]
  },
  {
   "cell_type": "code",
   "execution_count": 155,
   "metadata": {},
   "outputs": [
    {
     "name": "stdout",
     "output_type": "stream",
     "text": [
      "File ../../data/pages_gorafi_politique.json does not exist!\n"
     ]
    }
   ],
   "source": [
    "# configure scraping\n",
    "GorafiPageSpider.url_first_page = URL_PAGES_GORAFI_POLITIQUE\n",
    "GorafiPageSpider.custom_settings = {\n",
    "      'FEED_FORMAT': 'json',\n",
    "      'FEED_URI': PATH_PAGES_GORAFI_POLITIQUE\n",
    "    }\n",
    "GorafiPageSpider.num_max_pages = 50\n",
    "\n",
    "# move file if exist\n",
    "clean_file(PATH_PAGES_GORAFI_POLITIQUE)\n",
    "\n",
    "# scraping pages LeGorafi\n",
    "run_spider(GorafiPageSpider)"
   ]
  },
  {
   "cell_type": "code",
   "execution_count": 163,
   "metadata": {},
   "outputs": [
    {
     "data": {
      "text/html": [
       "<div>\n",
       "<style scoped>\n",
       "    .dataframe tbody tr th:only-of-type {\n",
       "        vertical-align: middle;\n",
       "    }\n",
       "\n",
       "    .dataframe tbody tr th {\n",
       "        vertical-align: top;\n",
       "    }\n",
       "\n",
       "    .dataframe thead th {\n",
       "        text-align: right;\n",
       "    }\n",
       "</style>\n",
       "<table border=\"1\" class=\"dataframe\">\n",
       "  <thead>\n",
       "    <tr style=\"text-align: right;\">\n",
       "      <th></th>\n",
       "      <th>link</th>\n",
       "    </tr>\n",
       "  </thead>\n",
       "  <tbody>\n",
       "    <tr>\n",
       "      <th>0</th>\n",
       "      <td>http://www.legorafi.fr/2019/12/11/jean-paul-de...</td>\n",
       "    </tr>\n",
       "    <tr>\n",
       "      <th>1</th>\n",
       "      <td>http://www.legorafi.fr/2019/12/09/jean-paul-de...</td>\n",
       "    </tr>\n",
       "    <tr>\n",
       "      <th>2</th>\n",
       "      <td>http://www.legorafi.fr/2019/12/05/christophe-c...</td>\n",
       "    </tr>\n",
       "    <tr>\n",
       "      <th>3</th>\n",
       "      <td>http://www.legorafi.fr/2019/11/25/lrem-edouard...</td>\n",
       "    </tr>\n",
       "    <tr>\n",
       "      <th>4</th>\n",
       "      <td>http://www.legorafi.fr/2019/11/22/inquiete-par...</td>\n",
       "    </tr>\n",
       "  </tbody>\n",
       "</table>\n",
       "</div>"
      ],
      "text/plain": [
       "                                                link\n",
       "0  http://www.legorafi.fr/2019/12/11/jean-paul-de...\n",
       "1  http://www.legorafi.fr/2019/12/09/jean-paul-de...\n",
       "2  http://www.legorafi.fr/2019/12/05/christophe-c...\n",
       "3  http://www.legorafi.fr/2019/11/25/lrem-edouard...\n",
       "4  http://www.legorafi.fr/2019/11/22/inquiete-par..."
      ]
     },
     "execution_count": 163,
     "metadata": {},
     "output_type": "execute_result"
    }
   ],
   "source": [
    "import pandas as pd\n",
    "\n",
    "df_gorafi_pages_pol = pd.read_json(PATH_PAGES_GORAFI_POLITIQUE)\n",
    "df_gorafi_pages_pol.head()"
   ]
  },
  {
   "cell_type": "code",
   "execution_count": 170,
   "metadata": {},
   "outputs": [
    {
     "data": {
      "text/plain": [
       "(246, 1)"
      ]
     },
     "execution_count": 170,
     "metadata": {},
     "output_type": "execute_result"
    }
   ],
   "source": [
    "df_gorafi_pages_pol.shape"
   ]
  },
  {
   "cell_type": "markdown",
   "metadata": {},
   "source": [
    "##### Scraping news"
   ]
  },
  {
   "cell_type": "code",
   "execution_count": null,
   "metadata": {},
   "outputs": [],
   "source": [
    "# clean last output\n",
    "clean_file(PATH_NEWS_GORAFI_POLITIQUE)"
   ]
  },
  {
   "cell_type": "code",
   "execution_count": 171,
   "metadata": {},
   "outputs": [],
   "source": [
    "# configure : add all retrieved links to Spider\n",
    "GorafiSpider.start_urls = df_gorafi_pages_pol[\"link\"].tolist()\n",
    "GorafiSpider.custom_settings = {\n",
    "      'FEED_FORMAT': 'json',\n",
    "      'FEED_URI': PATH_NEWS_GORAFI_POLITIQUE\n",
    "    }\n",
    "# scraping\n",
    "run_spider(GorafiSpider)"
   ]
  },
  {
   "cell_type": "code",
   "execution_count": 191,
   "metadata": {},
   "outputs": [
    {
     "data": {
      "text/html": [
       "<div>\n",
       "<style scoped>\n",
       "    .dataframe tbody tr th:only-of-type {\n",
       "        vertical-align: middle;\n",
       "    }\n",
       "\n",
       "    .dataframe tbody tr th {\n",
       "        vertical-align: top;\n",
       "    }\n",
       "\n",
       "    .dataframe thead th {\n",
       "        text-align: right;\n",
       "    }\n",
       "</style>\n",
       "<table border=\"1\" class=\"dataframe\">\n",
       "  <thead>\n",
       "    <tr style=\"text-align: right;\">\n",
       "      <th></th>\n",
       "      <th>author</th>\n",
       "      <th>body</th>\n",
       "      <th>date_published</th>\n",
       "      <th>description</th>\n",
       "      <th>source</th>\n",
       "      <th>theme</th>\n",
       "      <th>title</th>\n",
       "      <th>url</th>\n",
       "    </tr>\n",
       "  </thead>\n",
       "  <tbody>\n",
       "    <tr>\n",
       "      <th>0</th>\n",
       "      <td>La Rédaction</td>\n",
       "      <td>« C’est juste un petit cadeau pour le service ...</td>\n",
       "      <td>09/12/2019</td>\n",
       "      <td>Paris – Nouvelle polémique pour Jean-Paul Dele...</td>\n",
       "      <td>LeGorafi</td>\n",
       "      <td>Politique</td>\n",
       "      <td>Jean-Paul Delevoye a oublié de préciser qu’il ...</td>\n",
       "      <td>http://www.legorafi.fr/2019/12/09/jean-paul-de...</td>\n",
       "    </tr>\n",
       "    <tr>\n",
       "      <th>1</th>\n",
       "      <td>La Rédaction</td>\n",
       "      <td>De nombreuses sources citent Marlène Schiappa ...</td>\n",
       "      <td>25/11/2019</td>\n",
       "      <td>De nombreux détails croustillants, concernant ...</td>\n",
       "      <td>LeGorafi</td>\n",
       "      <td>Politique</td>\n",
       "      <td>LREM : Édouard Philippe rebaptisé Eduardo Fili...</td>\n",
       "      <td>http://www.legorafi.fr/2019/11/25/lrem-edouard...</td>\n",
       "    </tr>\n",
       "    <tr>\n",
       "      <th>2</th>\n",
       "      <td>La Rédaction</td>\n",
       "      <td>« Oui c’est un peu regrettable mais j’ai quitt...</td>\n",
       "      <td>11/12/2019</td>\n",
       "      <td>Paris – Face aux polémiques naissantes, Jean-P...</td>\n",
       "      <td>LeGorafi</td>\n",
       "      <td>Politique</td>\n",
       "      <td>Jean-Paul Delevoye contraint de démissionner d...</td>\n",
       "      <td>http://www.legorafi.fr/2019/12/11/jean-paul-de...</td>\n",
       "    </tr>\n",
       "    <tr>\n",
       "      <th>3</th>\n",
       "      <td>La Rédaction</td>\n",
       "      <td>« La précarité qu’ils traversent leur sera de ...</td>\n",
       "      <td>13/11/2019</td>\n",
       "      <td>Alors que la mobilisation étudiante prend de l...</td>\n",
       "      <td>LeGorafi</td>\n",
       "      <td>Politique</td>\n",
       "      <td>Emmanuel Macron aux étudiants « Je n’adore pas...</td>\n",
       "      <td>http://www.legorafi.fr/2019/11/13/emmanuel-mac...</td>\n",
       "    </tr>\n",
       "    <tr>\n",
       "      <th>4</th>\n",
       "      <td>La Rédaction</td>\n",
       "      <td>Alors que de nombreux manifestants sont attend...</td>\n",
       "      <td>05/12/2019</td>\n",
       "      <td>Après que l’Etat a commandé de nouveaux LBD à ...</td>\n",
       "      <td>LeGorafi</td>\n",
       "      <td>Politique</td>\n",
       "      <td>Christophe Castaner promet que les LBD « feron...</td>\n",
       "      <td>http://www.legorafi.fr/2019/12/05/christophe-c...</td>\n",
       "    </tr>\n",
       "  </tbody>\n",
       "</table>\n",
       "</div>"
      ],
      "text/plain": [
       "         author                                               body  \\\n",
       "0  La Rédaction  « C’est juste un petit cadeau pour le service ...   \n",
       "1  La Rédaction  De nombreuses sources citent Marlène Schiappa ...   \n",
       "2  La Rédaction  « Oui c’est un peu regrettable mais j’ai quitt...   \n",
       "3  La Rédaction  « La précarité qu’ils traversent leur sera de ...   \n",
       "4  La Rédaction  Alors que de nombreux manifestants sont attend...   \n",
       "\n",
       "  date_published                                        description    source  \\\n",
       "0     09/12/2019  Paris – Nouvelle polémique pour Jean-Paul Dele...  LeGorafi   \n",
       "1     25/11/2019  De nombreux détails croustillants, concernant ...  LeGorafi   \n",
       "2     11/12/2019  Paris – Face aux polémiques naissantes, Jean-P...  LeGorafi   \n",
       "3     13/11/2019  Alors que la mobilisation étudiante prend de l...  LeGorafi   \n",
       "4     05/12/2019  Après que l’Etat a commandé de nouveaux LBD à ...  LeGorafi   \n",
       "\n",
       "       theme                                              title  \\\n",
       "0  Politique  Jean-Paul Delevoye a oublié de préciser qu’il ...   \n",
       "1  Politique  LREM : Édouard Philippe rebaptisé Eduardo Fili...   \n",
       "2  Politique  Jean-Paul Delevoye contraint de démissionner d...   \n",
       "3  Politique  Emmanuel Macron aux étudiants « Je n’adore pas...   \n",
       "4  Politique  Christophe Castaner promet que les LBD « feron...   \n",
       "\n",
       "                                                 url  \n",
       "0  http://www.legorafi.fr/2019/12/09/jean-paul-de...  \n",
       "1  http://www.legorafi.fr/2019/11/25/lrem-edouard...  \n",
       "2  http://www.legorafi.fr/2019/12/11/jean-paul-de...  \n",
       "3  http://www.legorafi.fr/2019/11/13/emmanuel-mac...  \n",
       "4  http://www.legorafi.fr/2019/12/05/christophe-c...  "
      ]
     },
     "execution_count": 191,
     "metadata": {},
     "output_type": "execute_result"
    }
   ],
   "source": [
    "import pandas as pd\n",
    "\n",
    "df_gorafi_pol = pd.read_json(PATH_NEWS_GORAFI_POLITIQUE)\n",
    "df_gorafi_pol.head()"
   ]
  },
  {
   "cell_type": "code",
   "execution_count": 192,
   "metadata": {},
   "outputs": [
    {
     "data": {
      "text/plain": [
       "(246, 8)"
      ]
     },
     "execution_count": 192,
     "metadata": {},
     "output_type": "execute_result"
    }
   ],
   "source": [
    "df_gorafi_pol.shape"
   ]
  },
  {
   "cell_type": "code",
   "execution_count": 193,
   "metadata": {},
   "outputs": [
    {
     "data": {
      "text/plain": [
       "0"
      ]
     },
     "execution_count": 193,
     "metadata": {},
     "output_type": "execute_result"
    }
   ],
   "source": [
    "df_gorafi_pol[df_gorafi_pol[\"body\"].isna()].shape[0]"
   ]
  },
  {
   "cell_type": "markdown",
   "metadata": {},
   "source": [
    "## Scraping Nordpresse.be"
   ]
  },
  {
   "cell_type": "markdown",
   "metadata": {},
   "source": [
    "### Class definitions"
   ]
  },
  {
   "cell_type": "code",
   "execution_count": 106,
   "metadata": {},
   "outputs": [],
   "source": [
    "import scrapy\n",
    "from scrapy.loader import ItemLoader\n",
    "from scrapy.loader.processors import MapCompose, Join, TakeFirst\n",
    "from w3lib.html import remove_tags\n",
    "\n",
    "\n",
    "class NordpresseItem(scrapy.Item):\n",
    "    '''\n",
    "    Class item to declare different information to scrap\n",
    "    and how to process (as input or output) for NordPresse.be\n",
    "    '''\n",
    "    # define the fields for your item here like:\n",
    "    url = scrapy.Field(output_processor=TakeFirst())\n",
    "    \n",
    "    source = scrapy.Field(output_processor=TakeFirst())\n",
    "    \n",
    "    author = scrapy.Field(\n",
    "        input_processor=MapCompose(remove_tags),\n",
    "        output_processor=TakeFirst()\n",
    "    )\n",
    "    \n",
    "    title = scrapy.Field(\n",
    "        input_processor=MapCompose(remove_tags),\n",
    "        output_processor=TakeFirst()\n",
    "    )\n",
    "    \n",
    "    theme = scrapy.Field(\n",
    "        input_processor=MapCompose(remove_tags),\n",
    "        output_processor=lambda v: v[-1]\n",
    "    )\n",
    "    \n",
    "    date_published = scrapy.Field(\n",
    "        input_processor=MapCompose(remove_tags),\n",
    "        output_processor=TakeFirst()\n",
    "    )\n",
    "    \n",
    "    description = scrapy.Field(output_processor=TakeFirst())\n",
    "    \n",
    "    body = scrapy.Field(\n",
    "        input_processor=MapCompose(remove_tags, \n",
    "                                   lambda v: v.replace(u'\\xa0', u' '),\n",
    "                                  lambda v: v.strip()),\n",
    "        output_processor=Join()\n",
    "    )"
   ]
  },
  {
   "cell_type": "code",
   "execution_count": 107,
   "metadata": {},
   "outputs": [],
   "source": [
    "class NordpresseSpider(scrapy.Spider):\n",
    "    '''\n",
    "    Spider to scrap over Nordpresse webpages : \n",
    "    - how to find information for scraping\n",
    "    - which field names to store\n",
    "    '''\n",
    "    # Your spider definition\n",
    "    name = 'news_nordpresse_spider'\n",
    "    # output definition :\n",
    "    custom_settings = {\n",
    "      'FEED_FORMAT': 'json',\n",
    "      'FEED_URI': 'items_nordpresse.json'\n",
    "    }\n",
    "    \n",
    "    # urls to scrap\n",
    "    start_urls = [\n",
    "        'https://nordpresse.be/category/france/'\n",
    "    ]\n",
    "\n",
    "    def parse(self, response):\n",
    "        '''\n",
    "        Parse definition with xpath which define all patterns to use\n",
    "        for retrieve information into HTML strings\n",
    "        '''\n",
    "        #url\tsource\tauthor\ttitle\ttheme\tdescription\tdate_published\tbody   \n",
    "        l = ItemLoader(item=NordpresseItem(), selector=response)\n",
    "        \n",
    "        l.add_value('url', response.url)\n",
    "        \n",
    "        l.add_value('source', \"Nordpresse\")\n",
    "        \n",
    "        #<div class=\"td-post-author-name td-post-author-no-dot\">\n",
    "        #  <div class=\"td-author-by\">By</div> \n",
    "        #  <a href=\"https://nordpresse.be/...\">Stephane VERON</a></div>\n",
    "        l.add_xpath('author', \n",
    "            '//div[@class=\"td-post-author-name td-post-author-no-dot\"]/a')\n",
    "        \n",
    "        l.add_xpath(\"title\", \"//h1\")\n",
    "        \n",
    "        #<div class=\"td-post-header\">\n",
    "        #    <ul class=\"td-category\">\n",
    "        #        <li class=\"entry-category\"><a href=\"https://nordpresse.be/category/france/\">France</a></li>\n",
    "        #        <li class=\"entry-category\"><a href=\"https://nordpresse.be/category/politique/\">Politique</a></li></ul>\n",
    "            \n",
    "        l.add_xpath(\"theme\", '//div[@class=\"td-post-header\"]/ul/li/a')\n",
    "        \n",
    "        #l.add_xpath(\"description\", \".//div[@class='intro']/p\")\n",
    "        l.add_value('description', \"\")\n",
    "        \n",
    "        #<meta property=\"article:published_time\" content=\"2019-12-15T14:21:58+00:00\">\n",
    "        l.add_xpath(\"date_published\", \n",
    "            '//meta[@property=\"article:published_time\"]/@content',\n",
    "            re=\"[0-9]+-[0-9]+-[0-9]+\")\n",
    "       \n",
    "        l.add_xpath(\"body\", \"//div[@class='td-post-content']/p\")\n",
    "        \n",
    "        yield l.load_item()"
   ]
  },
  {
   "cell_type": "code",
   "execution_count": 108,
   "metadata": {},
   "outputs": [],
   "source": [
    "import scrapy\n",
    "\n",
    "class NordpresseRssSpider(scrapy.Spider):\n",
    "    '''\n",
    "    Class Spider for retrieving all links to news webpages from Nordpresse RSS\n",
    "    '''\n",
    "    name = \"nordpresse_rss\"\n",
    "    \n",
    "    custom_settings = {\n",
    "      'FEED_FORMAT': 'json',\n",
    "      'FEED_URI': 'nordpresse_rss.json'\n",
    "    }\n",
    "    \n",
    "    def start_requests(self):\n",
    "        urls = [\n",
    "                'https://nordpresse.be/feed',\n",
    "        ]\n",
    "        for url in urls:\n",
    "            yield scrapy.Request(url=url, callback=self.parse)\n",
    "     \n",
    "    def parse(self, response):\n",
    "        for post in response.xpath('//channel/item'):\n",
    "            yield {\n",
    "                'title' : post.xpath('title//text()').extract_first(),\n",
    "                'link': post.xpath('link//text()').extract_first(),\n",
    "                'pubDate' : post.xpath('pubDate//text()').extract_first(),\n",
    "            }\n"
   ]
  },
  {
   "cell_type": "code",
   "execution_count": 109,
   "metadata": {},
   "outputs": [],
   "source": [
    "import scrapy\n",
    "import re\n",
    "\n",
    "class NordpressePageSpider(scrapy.Spider):\n",
    "    '''\n",
    "    Spider to scrap all Nordpresse pages from selected category\n",
    "    Configure : \n",
    "    - NordpressePageSpider.custom_settings : save location \n",
    "    - num_max_pages : the number of next page to scrap\n",
    "    - url_first_page : web page to start with\n",
    "    '''\n",
    "    name = \"nordpresse_page\"\n",
    "    \n",
    "    custom_settings = {\n",
    "      'FEED_FORMAT': 'json',\n",
    "      'FEED_URI': 'pages_nordpresse.json'\n",
    "    }\n",
    "    \n",
    "    num_max_pages = 1\n",
    "    \n",
    "    url_first_page = 'https://nordpresse.be/category/france/'\n",
    "    \n",
    "    def start_requests(self):\n",
    "        urls = [\n",
    "                self.url_first_page,\n",
    "        ]\n",
    "        for url in urls:\n",
    "            yield scrapy.Request(url=url, callback=self.parse)\n",
    "    \n",
    "    def parse(self, response):\n",
    "        \n",
    "        # //div[@class=\"td-pb-span8 td-main-content\"]//h3[@class=\"entry-title td-module-title\"]/a[@rel=\"bookmark\"]\n",
    "        for post in response.xpath('//div[@class=\"td-pb-span8 td-main-content\"]//h3[@class=\"entry-title td-module-title\"]'):\n",
    "            yield {\n",
    "                'link': post.xpath('a[@rel=\"bookmark\"]/@href').extract_first()\n",
    "            }\n",
    "        # <a href=\"https://nordpresse.be/category/france/page/3/\"><i class=\"td-icon-menu-right\"></i></a>\n",
    "        next_page = response.xpath(\n",
    "            '//i[@class=\"td-icon-menu-right\"]//parent::a/@href').get()\n",
    "        if next_page is not None:\n",
    "            try:\n",
    "                num_next_page = int(re.search(\"(?<=/)\\d+(?=/$)\", \n",
    "                         next_page).group(0))\n",
    "                \n",
    "                if (num_next_page < self.num_max_pages):\n",
    "                    #next_page = response.urljoin(next_page)\n",
    "                    yield scrapy.Request(next_page, callback=self.parse)\n",
    "            except:\n",
    "                next_page = None\n",
    "                "
   ]
  },
  {
   "cell_type": "markdown",
   "metadata": {},
   "source": [
    "### Scraping RSS urls"
   ]
  },
  {
   "cell_type": "markdown",
   "metadata": {},
   "source": [
    "#### Definitions"
   ]
  },
  {
   "cell_type": "code",
   "execution_count": 20,
   "metadata": {},
   "outputs": [],
   "source": [
    "# path to results file for urls\n",
    "PATH_RSS_PAGES_NORDPRESSE = '../../data/nordpresse_rss_urls.json'\n",
    "# declare your data location for scraping rss links \n",
    "PATH_RSS_NEWS_NORDPRESSE = '../../data/nordpresse_rss_pages.json'"
   ]
  },
  {
   "cell_type": "markdown",
   "metadata": {},
   "source": [
    "#### Scraping RSS urls links"
   ]
  },
  {
   "cell_type": "code",
   "execution_count": 21,
   "metadata": {},
   "outputs": [
    {
     "name": "stdout",
     "output_type": "stream",
     "text": [
      "File ../../data/nordpresse_rss_urls.json does not exist!\n"
     ]
    }
   ],
   "source": [
    "# clean (move file if exist)\n",
    "clean_file(PATH_RSS_PAGES_NORDPRESSE)"
   ]
  },
  {
   "cell_type": "code",
   "execution_count": 22,
   "metadata": {},
   "outputs": [],
   "source": [
    "# Configure spider\n",
    "NordpresseRssSpider.custom_settings = {\n",
    "      'FEED_FORMAT': 'json',\n",
    "      'FEED_URI': PATH_RSS_PAGES_NORDPRESSE\n",
    "}\n",
    "# scraping\n",
    "run_spider(NordpresseRssSpider)"
   ]
  },
  {
   "cell_type": "code",
   "execution_count": 23,
   "metadata": {},
   "outputs": [
    {
     "data": {
      "text/html": [
       "<div>\n",
       "<style scoped>\n",
       "    .dataframe tbody tr th:only-of-type {\n",
       "        vertical-align: middle;\n",
       "    }\n",
       "\n",
       "    .dataframe tbody tr th {\n",
       "        vertical-align: top;\n",
       "    }\n",
       "\n",
       "    .dataframe thead th {\n",
       "        text-align: right;\n",
       "    }\n",
       "</style>\n",
       "<table border=\"1\" class=\"dataframe\">\n",
       "  <thead>\n",
       "    <tr style=\"text-align: right;\">\n",
       "      <th></th>\n",
       "      <th>link</th>\n",
       "      <th>pubDate</th>\n",
       "      <th>title</th>\n",
       "    </tr>\n",
       "  </thead>\n",
       "  <tbody>\n",
       "    <tr>\n",
       "      <th>0</th>\n",
       "      <td>https://nordpresse.be/lrem-accuse-de-faire-de-...</td>\n",
       "      <td>Wed, 25 Dec 2019 20:32:10 +0000</td>\n",
       "      <td>LREM accusé de faire de l’ombre à la celèbre é...</td>\n",
       "    </tr>\n",
       "    <tr>\n",
       "      <th>1</th>\n",
       "      <td>https://nordpresse.be/segolene-royale-desormai...</td>\n",
       "      <td>Wed, 25 Dec 2019 19:00:57 +0000</td>\n",
       "      <td>Segolène Royale désormais pourvue d’un antivol</td>\n",
       "    </tr>\n",
       "    <tr>\n",
       "      <th>2</th>\n",
       "      <td>https://nordpresse.be/emmanuel-macron-renonce-...</td>\n",
       "      <td>Wed, 25 Dec 2019 09:47:28 +0000</td>\n",
       "      <td>Emmanuel Macron renonce à sa retraite: « Je va...</td>\n",
       "    </tr>\n",
       "    <tr>\n",
       "      <th>3</th>\n",
       "      <td>https://nordpresse.be/ce-cosplay-est-plutot-pa...</td>\n",
       "      <td>Wed, 25 Dec 2019 08:53:17 +0000</td>\n",
       "      <td>Ce cosplay est plutôt pas mal non ?</td>\n",
       "    </tr>\n",
       "    <tr>\n",
       "      <th>4</th>\n",
       "      <td>https://nordpresse.be/melenchon-lannonce-mouve...</td>\n",
       "      <td>Wed, 25 Dec 2019 07:37:16 +0000</td>\n",
       "      <td>Mélenchon l’annonce: Mouvement de grève généra...</td>\n",
       "    </tr>\n",
       "    <tr>\n",
       "      <th>5</th>\n",
       "      <td>https://nordpresse.be/decouvrez-le-sapin-de-no...</td>\n",
       "      <td>Tue, 24 Dec 2019 23:07:32 +0000</td>\n",
       "      <td>Découvrez le sapin de Noël ecoresponsable de G...</td>\n",
       "    </tr>\n",
       "    <tr>\n",
       "      <th>6</th>\n",
       "      <td>https://nordpresse.be/macron-aurait-fait-bloqu...</td>\n",
       "      <td>Tue, 24 Dec 2019 10:36:46 +0000</td>\n",
       "      <td>Macron aurait fait bloquer Mêmes Décentralisés...</td>\n",
       "    </tr>\n",
       "    <tr>\n",
       "      <th>7</th>\n",
       "      <td>https://nordpresse.be/un-belge-invente-le-supp...</td>\n",
       "      <td>Sun, 22 Dec 2019 22:22:09 +0000</td>\n",
       "      <td>Un Belge invente le suppositoire effervescent ...</td>\n",
       "    </tr>\n",
       "    <tr>\n",
       "      <th>8</th>\n",
       "      <td>https://nordpresse.be/tibo-in-shape/</td>\n",
       "      <td>Sun, 22 Dec 2019 20:59:58 +0000</td>\n",
       "      <td>Tibo in Shape</td>\n",
       "    </tr>\n",
       "    <tr>\n",
       "      <th>9</th>\n",
       "      <td>https://nordpresse.be/macron-compte-rester-au-...</td>\n",
       "      <td>Sun, 22 Dec 2019 01:01:49 +0000</td>\n",
       "      <td>Macron compte rester au pouvoir jusque 64 ans ...</td>\n",
       "    </tr>\n",
       "  </tbody>\n",
       "</table>\n",
       "</div>"
      ],
      "text/plain": [
       "                                                link  \\\n",
       "0  https://nordpresse.be/lrem-accuse-de-faire-de-...   \n",
       "1  https://nordpresse.be/segolene-royale-desormai...   \n",
       "2  https://nordpresse.be/emmanuel-macron-renonce-...   \n",
       "3  https://nordpresse.be/ce-cosplay-est-plutot-pa...   \n",
       "4  https://nordpresse.be/melenchon-lannonce-mouve...   \n",
       "5  https://nordpresse.be/decouvrez-le-sapin-de-no...   \n",
       "6  https://nordpresse.be/macron-aurait-fait-bloqu...   \n",
       "7  https://nordpresse.be/un-belge-invente-le-supp...   \n",
       "8               https://nordpresse.be/tibo-in-shape/   \n",
       "9  https://nordpresse.be/macron-compte-rester-au-...   \n",
       "\n",
       "                           pubDate  \\\n",
       "0  Wed, 25 Dec 2019 20:32:10 +0000   \n",
       "1  Wed, 25 Dec 2019 19:00:57 +0000   \n",
       "2  Wed, 25 Dec 2019 09:47:28 +0000   \n",
       "3  Wed, 25 Dec 2019 08:53:17 +0000   \n",
       "4  Wed, 25 Dec 2019 07:37:16 +0000   \n",
       "5  Tue, 24 Dec 2019 23:07:32 +0000   \n",
       "6  Tue, 24 Dec 2019 10:36:46 +0000   \n",
       "7  Sun, 22 Dec 2019 22:22:09 +0000   \n",
       "8  Sun, 22 Dec 2019 20:59:58 +0000   \n",
       "9  Sun, 22 Dec 2019 01:01:49 +0000   \n",
       "\n",
       "                                               title  \n",
       "0  LREM accusé de faire de l’ombre à la celèbre é...  \n",
       "1     Segolène Royale désormais pourvue d’un antivol  \n",
       "2  Emmanuel Macron renonce à sa retraite: « Je va...  \n",
       "3                Ce cosplay est plutôt pas mal non ?  \n",
       "4  Mélenchon l’annonce: Mouvement de grève généra...  \n",
       "5  Découvrez le sapin de Noël ecoresponsable de G...  \n",
       "6  Macron aurait fait bloquer Mêmes Décentralisés...  \n",
       "7  Un Belge invente le suppositoire effervescent ...  \n",
       "8                                      Tibo in Shape  \n",
       "9  Macron compte rester au pouvoir jusque 64 ans ...  "
      ]
     },
     "execution_count": 23,
     "metadata": {},
     "output_type": "execute_result"
    }
   ],
   "source": [
    "import pandas as pd\n",
    "\n",
    "df_rss_nordpresse = pd.read_json(PATH_RSS_PAGES_NORDPRESSE)\n",
    "df_rss_nordpresse"
   ]
  },
  {
   "cell_type": "code",
   "execution_count": 56,
   "metadata": {},
   "outputs": [
    {
     "data": {
      "text/plain": [
       "(10, 3)"
      ]
     },
     "execution_count": 56,
     "metadata": {},
     "output_type": "execute_result"
    }
   ],
   "source": [
    "df_rss_nordpresse.shape"
   ]
  },
  {
   "cell_type": "markdown",
   "metadata": {},
   "source": [
    "#### Scraping RSS news"
   ]
  },
  {
   "cell_type": "code",
   "execution_count": 80,
   "metadata": {},
   "outputs": [
    {
     "name": "stdout",
     "output_type": "stream",
     "text": [
      "File ../../data/nordpresse_rss_pages_20191226_21_54_31.json moved!\n"
     ]
    }
   ],
   "source": [
    "# clean (move file if exist)\n",
    "clean_file(PATH_RSS_NEWS_NORDPRESSE)"
   ]
  },
  {
   "cell_type": "code",
   "execution_count": 81,
   "metadata": {},
   "outputs": [],
   "source": [
    "# configure : add all retrieved links to Spider\n",
    "NordpresseSpider.start_urls = df_rss_nordpresse[\"link\"].tolist()\n",
    "NordpresseSpider.custom_settings = {\n",
    "      'FEED_FORMAT': 'json',\n",
    "      'FEED_URI': PATH_RSS_NEWS_NORDPRESSE\n",
    "}\n",
    "\n",
    "# scraping\n",
    "run_spider(NordpresseSpider)"
   ]
  },
  {
   "cell_type": "code",
   "execution_count": 82,
   "metadata": {},
   "outputs": [
    {
     "data": {
      "text/html": [
       "<div>\n",
       "<style scoped>\n",
       "    .dataframe tbody tr th:only-of-type {\n",
       "        vertical-align: middle;\n",
       "    }\n",
       "\n",
       "    .dataframe tbody tr th {\n",
       "        vertical-align: top;\n",
       "    }\n",
       "\n",
       "    .dataframe thead th {\n",
       "        text-align: right;\n",
       "    }\n",
       "</style>\n",
       "<table border=\"1\" class=\"dataframe\">\n",
       "  <thead>\n",
       "    <tr style=\"text-align: right;\">\n",
       "      <th></th>\n",
       "      <th>author</th>\n",
       "      <th>body</th>\n",
       "      <th>date_published</th>\n",
       "      <th>source</th>\n",
       "      <th>theme</th>\n",
       "      <th>title</th>\n",
       "      <th>url</th>\n",
       "    </tr>\n",
       "  </thead>\n",
       "  <tbody>\n",
       "    <tr>\n",
       "      <th>0</th>\n",
       "      <td>Kael A</td>\n",
       "      <td>En effet, l’équipe de production s’inquiète d’...</td>\n",
       "      <td>2019-12-25</td>\n",
       "      <td>Nordpresse</td>\n",
       "      <td>Non classé</td>\n",
       "      <td>LREM accusé de faire de l’ombre à la celèbre é...</td>\n",
       "      <td>https://nordpresse.be/lrem-accuse-de-faire-de-...</td>\n",
       "    </tr>\n",
       "    <tr>\n",
       "      <th>1</th>\n",
       "      <td>Vincent Flibustier</td>\n",
       "      <td>Il s’appelle Mathieu Alias le testeur temporel...</td>\n",
       "      <td>2019-12-25</td>\n",
       "      <td>Nordpresse</td>\n",
       "      <td>Complot</td>\n",
       "      <td>Ce cosplay est plutôt pas mal non ?</td>\n",
       "      <td>https://nordpresse.be/ce-cosplay-est-plutot-pa...</td>\n",
       "    </tr>\n",
       "    <tr>\n",
       "      <th>2</th>\n",
       "      <td>Sw</td>\n",
       "      <td>Personne ne sait pourquoi elle est en train de...</td>\n",
       "      <td>2019-12-25</td>\n",
       "      <td>Nordpresse</td>\n",
       "      <td>Non classé</td>\n",
       "      <td>Segolène Royale désormais pourvue d’un antivol</td>\n",
       "      <td>https://nordpresse.be/segolene-royale-desormai...</td>\n",
       "    </tr>\n",
       "    <tr>\n",
       "      <th>3</th>\n",
       "      <td>ToLa</td>\n",
       "      <td>Emmanuel Macron a récemment déclaré avoir reno...</td>\n",
       "      <td>2019-12-25</td>\n",
       "      <td>Nordpresse</td>\n",
       "      <td>Gilets Jaunes</td>\n",
       "      <td>Emmanuel Macron renonce à sa retraite: « Je va...</td>\n",
       "      <td>https://nordpresse.be/emmanuel-macron-renonce-...</td>\n",
       "    </tr>\n",
       "    <tr>\n",
       "      <th>4</th>\n",
       "      <td>Vincent Flibustier</td>\n",
       "      <td>NaN</td>\n",
       "      <td>2019-12-24</td>\n",
       "      <td>Nordpresse</td>\n",
       "      <td>Non classé</td>\n",
       "      <td>Découvrez le sapin de Noël ecoresponsable de G...</td>\n",
       "      <td>https://nordpresse.be/decouvrez-le-sapin-de-no...</td>\n",
       "    </tr>\n",
       "  </tbody>\n",
       "</table>\n",
       "</div>"
      ],
      "text/plain": [
       "               author                                               body  \\\n",
       "0              Kael A  En effet, l’équipe de production s’inquiète d’...   \n",
       "1  Vincent Flibustier  Il s’appelle Mathieu Alias le testeur temporel...   \n",
       "2                  Sw  Personne ne sait pourquoi elle est en train de...   \n",
       "3                ToLa  Emmanuel Macron a récemment déclaré avoir reno...   \n",
       "4  Vincent Flibustier                                                NaN   \n",
       "\n",
       "  date_published      source          theme  \\\n",
       "0     2019-12-25  Nordpresse     Non classé   \n",
       "1     2019-12-25  Nordpresse        Complot   \n",
       "2     2019-12-25  Nordpresse     Non classé   \n",
       "3     2019-12-25  Nordpresse  Gilets Jaunes   \n",
       "4     2019-12-24  Nordpresse     Non classé   \n",
       "\n",
       "                                               title  \\\n",
       "0  LREM accusé de faire de l’ombre à la celèbre é...   \n",
       "1                Ce cosplay est plutôt pas mal non ?   \n",
       "2     Segolène Royale désormais pourvue d’un antivol   \n",
       "3  Emmanuel Macron renonce à sa retraite: « Je va...   \n",
       "4  Découvrez le sapin de Noël ecoresponsable de G...   \n",
       "\n",
       "                                                 url  \n",
       "0  https://nordpresse.be/lrem-accuse-de-faire-de-...  \n",
       "1  https://nordpresse.be/ce-cosplay-est-plutot-pa...  \n",
       "2  https://nordpresse.be/segolene-royale-desormai...  \n",
       "3  https://nordpresse.be/emmanuel-macron-renonce-...  \n",
       "4  https://nordpresse.be/decouvrez-le-sapin-de-no...  "
      ]
     },
     "execution_count": 82,
     "metadata": {},
     "output_type": "execute_result"
    }
   ],
   "source": [
    "import pandas as pd\n",
    "\n",
    "df_nordpresse = pd.read_json(PATH_RSS_NEWS_NORDPRESSE)\n",
    "df_nordpresse.head()"
   ]
  },
  {
   "cell_type": "code",
   "execution_count": 84,
   "metadata": {},
   "outputs": [
    {
     "data": {
      "text/plain": [
       "'En effet, l’équipe de production s’inquiète d’une évidente concurrence déloyale et ne compte pas en rester là à l’attention de la formation LREM, lorsque notre reporter s’est présenté pour recevoir les doléances, il a été accueilli par cette phrase de l’un des membre du personnel : » On ne sait pas ce qu’ils mijotent, mais ça sent pas très bon » Suivi par la cinglante déclaration  » Dans les médias, on ne parle que de ça, LREM et son ensemble inépuisable de casseroles, cela ne peux plus durer, ils mettent en danger les vrais professionnels  » *Certaines déclaration n’on pas été retransmises par notre reporter .  '"
      ]
     },
     "execution_count": 84,
     "metadata": {},
     "output_type": "execute_result"
    }
   ],
   "source": [
    "df_nordpresse.at[0,\"body\"]"
   ]
  },
  {
   "cell_type": "code",
   "execution_count": 47,
   "metadata": {},
   "outputs": [
    {
     "data": {
      "text/plain": [
       "'https://nordpresse.be/lrem-accuse-de-faire-de-lombre-a-la-celebre-emission-cauchemar-en-cuisine-a-cause-du-nombre-de-ses-casseroles/'"
      ]
     },
     "execution_count": 47,
     "metadata": {},
     "output_type": "execute_result"
    }
   ],
   "source": [
    "df_nordpresse.at[0,\"url\"]"
   ]
  },
  {
   "cell_type": "code",
   "execution_count": 40,
   "metadata": {},
   "outputs": [
    {
     "data": {
      "text/plain": [
       "(10, 7)"
      ]
     },
     "execution_count": 40,
     "metadata": {},
     "output_type": "execute_result"
    }
   ],
   "source": [
    "df_nordpresse.shape"
   ]
  },
  {
   "cell_type": "markdown",
   "metadata": {},
   "source": [
    "### Scraping urls into webpages "
   ]
  },
  {
   "cell_type": "markdown",
   "metadata": {},
   "source": [
    "#### Definitions"
   ]
  },
  {
   "cell_type": "code",
   "execution_count": 110,
   "metadata": {},
   "outputs": [],
   "source": [
    "URL_PAGES_NORDPRESSE = 'https://nordpresse.be/category/france/'\n",
    "# declare your data location\n",
    "PATH_PAGES_NORDPRESSE = '../../data/pages_nordpresse.json'\n",
    "PATH_NEWS_NORDPRESSE = '../../data/nordpresse.json'"
   ]
  },
  {
   "cell_type": "markdown",
   "metadata": {},
   "source": [
    "#### Scraping url links"
   ]
  },
  {
   "cell_type": "code",
   "execution_count": 117,
   "metadata": {},
   "outputs": [
    {
     "name": "stdout",
     "output_type": "stream",
     "text": [
      "File ../../data/pages_nordpresse_20191227_16_17_23.json moved!\n"
     ]
    }
   ],
   "source": [
    "# clean (move file if exist)\n",
    "clean_file(PATH_PAGES_NORDPRESSE)"
   ]
  },
  {
   "cell_type": "code",
   "execution_count": null,
   "metadata": {},
   "outputs": [],
   "source": [
    "# configure scraping\n",
    "NordpressePageSpider.url_first_page = URL_PAGES_NORDPRESSE\n",
    "NordpressePageSpider.custom_settings = {\n",
    "      'FEED_FORMAT': 'json',\n",
    "      'FEED_URI': PATH_PAGES_NORDPRESSE\n",
    "    }\n",
    "NordpressePageSpider.num_max_pages = 50\n",
    "\n",
    "# clean last output\n",
    "clean_file(PATH_PAGES_NORDPRESSE)\n",
    "# scraping page urls\n",
    "run_spider(NordpressePageSpider)"
   ]
  },
  {
   "cell_type": "code",
   "execution_count": 119,
   "metadata": {},
   "outputs": [
    {
     "data": {
      "text/html": [
       "<div>\n",
       "<style scoped>\n",
       "    .dataframe tbody tr th:only-of-type {\n",
       "        vertical-align: middle;\n",
       "    }\n",
       "\n",
       "    .dataframe tbody tr th {\n",
       "        vertical-align: top;\n",
       "    }\n",
       "\n",
       "    .dataframe thead th {\n",
       "        text-align: right;\n",
       "    }\n",
       "</style>\n",
       "<table border=\"1\" class=\"dataframe\">\n",
       "  <thead>\n",
       "    <tr style=\"text-align: right;\">\n",
       "      <th></th>\n",
       "      <th>link</th>\n",
       "    </tr>\n",
       "  </thead>\n",
       "  <tbody>\n",
       "    <tr>\n",
       "      <th>0</th>\n",
       "      <td>https://nordpresse.be/emmanuel-macron-renonce-...</td>\n",
       "    </tr>\n",
       "    <tr>\n",
       "      <th>1</th>\n",
       "      <td>https://nordpresse.be/j-p-delevoye-toujours-au...</td>\n",
       "    </tr>\n",
       "    <tr>\n",
       "      <th>2</th>\n",
       "      <td>https://nordpresse.be/retraites-decourages-par...</td>\n",
       "    </tr>\n",
       "    <tr>\n",
       "      <th>3</th>\n",
       "      <td>https://nordpresse.be/jean-paul-delevoye-sexpl...</td>\n",
       "    </tr>\n",
       "    <tr>\n",
       "      <th>4</th>\n",
       "      <td>https://nordpresse.be/jean-paul-delevoye-nomme...</td>\n",
       "    </tr>\n",
       "  </tbody>\n",
       "</table>\n",
       "</div>"
      ],
      "text/plain": [
       "                                                link\n",
       "0  https://nordpresse.be/emmanuel-macron-renonce-...\n",
       "1  https://nordpresse.be/j-p-delevoye-toujours-au...\n",
       "2  https://nordpresse.be/retraites-decourages-par...\n",
       "3  https://nordpresse.be/jean-paul-delevoye-sexpl...\n",
       "4  https://nordpresse.be/jean-paul-delevoye-nomme..."
      ]
     },
     "execution_count": 119,
     "metadata": {},
     "output_type": "execute_result"
    }
   ],
   "source": [
    "import pandas as pd\n",
    "\n",
    "df_nordpresse_pages = pd.read_json(PATH_PAGES_NORDPRESSE)\n",
    "df_nordpresse_pages.head()"
   ]
  },
  {
   "cell_type": "code",
   "execution_count": 120,
   "metadata": {},
   "outputs": [
    {
     "data": {
      "text/plain": [
       "(245, 1)"
      ]
     },
     "execution_count": 120,
     "metadata": {},
     "output_type": "execute_result"
    }
   ],
   "source": [
    "df_nordpresse_pages.shape"
   ]
  },
  {
   "cell_type": "markdown",
   "metadata": {},
   "source": [
    "#### Scraping news"
   ]
  },
  {
   "cell_type": "code",
   "execution_count": 121,
   "metadata": {},
   "outputs": [
    {
     "name": "stdout",
     "output_type": "stream",
     "text": [
      "File ../../data/nordpresse.json does not exist!\n"
     ]
    }
   ],
   "source": [
    "# clean last output\n",
    "clean_file(PATH_NEWS_NORDPRESSE)"
   ]
  },
  {
   "cell_type": "code",
   "execution_count": 122,
   "metadata": {},
   "outputs": [],
   "source": [
    "# configure : add all retrieved links to Spider\n",
    "NordpresseSpider.start_urls = df_nordpresse_pages[\"link\"].tolist()\n",
    "NordpresseSpider.custom_settings = {\n",
    "      'FEED_FORMAT': 'json',\n",
    "      'FEED_URI': PATH_NEWS_NORDPRESSE\n",
    "    }\n",
    "# scraping\n",
    "run_spider(NordpresseSpider)"
   ]
  },
  {
   "cell_type": "code",
   "execution_count": 123,
   "metadata": {},
   "outputs": [
    {
     "data": {
      "text/html": [
       "<div>\n",
       "<style scoped>\n",
       "    .dataframe tbody tr th:only-of-type {\n",
       "        vertical-align: middle;\n",
       "    }\n",
       "\n",
       "    .dataframe tbody tr th {\n",
       "        vertical-align: top;\n",
       "    }\n",
       "\n",
       "    .dataframe thead th {\n",
       "        text-align: right;\n",
       "    }\n",
       "</style>\n",
       "<table border=\"1\" class=\"dataframe\">\n",
       "  <thead>\n",
       "    <tr style=\"text-align: right;\">\n",
       "      <th></th>\n",
       "      <th>author</th>\n",
       "      <th>body</th>\n",
       "      <th>date_published</th>\n",
       "      <th>source</th>\n",
       "      <th>theme</th>\n",
       "      <th>title</th>\n",
       "      <th>url</th>\n",
       "    </tr>\n",
       "  </thead>\n",
       "  <tbody>\n",
       "    <tr>\n",
       "      <th>0</th>\n",
       "      <td>Frodolphe Amplebedaine</td>\n",
       "      <td>Paris, centre de la France, concentre trop d’i...</td>\n",
       "      <td>2019-12-03</td>\n",
       "      <td>Nordpresse</td>\n",
       "      <td>Start Up Nation</td>\n",
       "      <td>Déconcentration : l’ENA à Toulouse !</td>\n",
       "      <td>https://nordpresse.be/deconcentration-lena-a-t...</td>\n",
       "    </tr>\n",
       "    <tr>\n",
       "      <th>1</th>\n",
       "      <td>ToLa</td>\n",
       "      <td>Le Haut-Commissaire aux retraites Jean-Paul De...</td>\n",
       "      <td>2019-12-21</td>\n",
       "      <td>Nordpresse</td>\n",
       "      <td>France</td>\n",
       "      <td>J.-P. Delevoye toujours au gouvernement: « J’a...</td>\n",
       "      <td>https://nordpresse.be/j-p-delevoye-toujours-au...</td>\n",
       "    </tr>\n",
       "    <tr>\n",
       "      <th>2</th>\n",
       "      <td>Vincent Flibustier</td>\n",
       "      <td>C’est un retournement de situation incroyable ...</td>\n",
       "      <td>2019-11-28</td>\n",
       "      <td>Nordpresse</td>\n",
       "      <td>France</td>\n",
       "      <td>Rerebondissement: Aurore Bergé veut aussi deve...</td>\n",
       "      <td>https://nordpresse.be/rerebondissement-aurore-...</td>\n",
       "    </tr>\n",
       "    <tr>\n",
       "      <th>3</th>\n",
       "      <td>Stephane VERON</td>\n",
       "      <td>C’est une victoire inattendue du Gouvernement...</td>\n",
       "      <td>2019-12-18</td>\n",
       "      <td>Nordpresse</td>\n",
       "      <td>Politique</td>\n",
       "      <td>Retraites – Découragés par le nom de leur nouv...</td>\n",
       "      <td>https://nordpresse.be/retraites-decourages-par...</td>\n",
       "    </tr>\n",
       "    <tr>\n",
       "      <th>4</th>\n",
       "      <td>Stephane VERON</td>\n",
       "      <td>C’est une séance privée dans la salle de ciné...</td>\n",
       "      <td>2019-11-18</td>\n",
       "      <td>Nordpresse</td>\n",
       "      <td>France</td>\n",
       "      <td>Ému par « La Soif de l’Or », Macron annonce un...</td>\n",
       "      <td>https://nordpresse.be/emu-par-la-soif-de-lor-m...</td>\n",
       "    </tr>\n",
       "  </tbody>\n",
       "</table>\n",
       "</div>"
      ],
      "text/plain": [
       "                   author                                               body  \\\n",
       "0  Frodolphe Amplebedaine  Paris, centre de la France, concentre trop d’i...   \n",
       "1                    ToLa  Le Haut-Commissaire aux retraites Jean-Paul De...   \n",
       "2      Vincent Flibustier  C’est un retournement de situation incroyable ...   \n",
       "3          Stephane VERON   C’est une victoire inattendue du Gouvernement...   \n",
       "4          Stephane VERON   C’est une séance privée dans la salle de ciné...   \n",
       "\n",
       "  date_published      source            theme  \\\n",
       "0     2019-12-03  Nordpresse  Start Up Nation   \n",
       "1     2019-12-21  Nordpresse           France   \n",
       "2     2019-11-28  Nordpresse           France   \n",
       "3     2019-12-18  Nordpresse        Politique   \n",
       "4     2019-11-18  Nordpresse           France   \n",
       "\n",
       "                                               title  \\\n",
       "0               Déconcentration : l’ENA à Toulouse !   \n",
       "1  J.-P. Delevoye toujours au gouvernement: « J’a...   \n",
       "2  Rerebondissement: Aurore Bergé veut aussi deve...   \n",
       "3  Retraites – Découragés par le nom de leur nouv...   \n",
       "4  Ému par « La Soif de l’Or », Macron annonce un...   \n",
       "\n",
       "                                                 url  \n",
       "0  https://nordpresse.be/deconcentration-lena-a-t...  \n",
       "1  https://nordpresse.be/j-p-delevoye-toujours-au...  \n",
       "2  https://nordpresse.be/rerebondissement-aurore-...  \n",
       "3  https://nordpresse.be/retraites-decourages-par...  \n",
       "4  https://nordpresse.be/emu-par-la-soif-de-lor-m...  "
      ]
     },
     "execution_count": 123,
     "metadata": {},
     "output_type": "execute_result"
    }
   ],
   "source": [
    "import pandas as pd\n",
    "\n",
    "df_nordpresse = pd.read_json(PATH_NEWS_NORDPRESSE)\n",
    "df_nordpresse.head()"
   ]
  },
  {
   "cell_type": "code",
   "execution_count": 124,
   "metadata": {},
   "outputs": [
    {
     "data": {
      "text/plain": [
       "(245, 7)"
      ]
     },
     "execution_count": 124,
     "metadata": {},
     "output_type": "execute_result"
    }
   ],
   "source": [
    "df_nordpresse.shape"
   ]
  },
  {
   "cell_type": "code",
   "execution_count": 187,
   "metadata": {},
   "outputs": [
    {
     "data": {
      "text/plain": [
       "32"
      ]
     },
     "execution_count": 187,
     "metadata": {},
     "output_type": "execute_result"
    }
   ],
   "source": [
    "df_nordpresse[df_nordpresse[\"body\"].isna()].shape[0]"
   ]
  },
  {
   "cell_type": "markdown",
   "metadata": {},
   "source": [
    "## Scraping buzzbeed.com"
   ]
  },
  {
   "cell_type": "markdown",
   "metadata": {},
   "source": [
    "### Class definitions"
   ]
  },
  {
   "cell_type": "code",
   "execution_count": 172,
   "metadata": {},
   "outputs": [],
   "source": [
    "import scrapy\n",
    "from scrapy.loader import ItemLoader\n",
    "from scrapy.loader.processors import MapCompose, Join, TakeFirst\n",
    "from w3lib.html import remove_tags\n",
    "\n",
    "\n",
    "class BuzzbeedItem(scrapy.Item):\n",
    "    '''\n",
    "    Class item to declare different information to scrap\n",
    "    and how to process (as input or output) for buzzbeed.com\n",
    "    '''\n",
    "    # define the fields for your item here like:\n",
    "    url = scrapy.Field(output_processor=TakeFirst())\n",
    "    \n",
    "    source = scrapy.Field(output_processor=TakeFirst())\n",
    "    \n",
    "    author = scrapy.Field(\n",
    "        input_processor=MapCompose(remove_tags),\n",
    "        output_processor=TakeFirst()\n",
    "    )\n",
    "    \n",
    "    title = scrapy.Field(\n",
    "        input_processor=MapCompose(remove_tags),\n",
    "        output_processor=TakeFirst()\n",
    "    )\n",
    "    \n",
    "    theme = scrapy.Field(\n",
    "        input_processor=MapCompose(remove_tags),\n",
    "        output_processor=lambda v: v[-1]\n",
    "    )\n",
    "    \n",
    "    date_published = scrapy.Field(\n",
    "        input_processor=MapCompose(remove_tags),\n",
    "        output_processor=TakeFirst()\n",
    "    )\n",
    "    \n",
    "    description = scrapy.Field(output_processor=TakeFirst())\n",
    "    \n",
    "    body = scrapy.Field(\n",
    "        input_processor=MapCompose(remove_tags, \n",
    "                                   lambda v: v.replace(u'\\xa0', u' '),\n",
    "                                  lambda v: v.strip()),\n",
    "        output_processor=Join()\n",
    "    )"
   ]
  },
  {
   "cell_type": "code",
   "execution_count": 173,
   "metadata": {},
   "outputs": [],
   "source": [
    "class BuzzbeedSpider(scrapy.Spider):\n",
    "    '''\n",
    "    Spider to scrap over buzzbeed webpages : \n",
    "    - how to find information for scraping\n",
    "    - which field names to store\n",
    "    '''\n",
    "    # Your spider definition\n",
    "    name = 'news_buzzbeed_spider'\n",
    "    # output definition :\n",
    "    custom_settings = {\n",
    "      'FEED_FORMAT': 'json',\n",
    "      'FEED_URI': 'items_buzzbeed.json'\n",
    "    }\n",
    "    \n",
    "    # urls to scrap\n",
    "    start_urls = [\n",
    "        'https://www.buzzbeed.com/'\n",
    "    ]\n",
    "\n",
    "    def parse(self, response):\n",
    "        '''\n",
    "        Parse definition with xpath which define all patterns to use\n",
    "        for retrieve information into HTML strings\n",
    "        '''\n",
    "        #url\tsource\tauthor\ttitle\ttheme\tdescription\tdate_published\tbody   \n",
    "        l = ItemLoader(item=BuzzbeedItem(), selector=response)\n",
    "        \n",
    "        l.add_value('url', response.url)\n",
    "        \n",
    "        l.add_value('source', \"Buzzbeed\")\n",
    "        \n",
    "        #<span class=\"author vcard\">\n",
    "        # <a class=\"url fn n\" href=\"https://www.buzzbeed.com/author/scoub\">Jean Deumerez</a>\n",
    "        #</span>\n",
    "        l.add_xpath('author', \n",
    "            '//span[@class=\"author vcard\"]/a')\n",
    "        \n",
    "        l.add_xpath(\"title\", \"//h1\")\n",
    "        \n",
    "        #<span class=\"cat-links\">\n",
    "        # <a href=\"https://www.buzzbeed.com/category/sentiment-dinsecurite\" rel=\"category tag\">Sentiment d'insécurité</a>\n",
    "        #</span>\n",
    "        l.add_xpath(\"theme\", '//span[@class=\"cat-links\"]/a')\n",
    "        \n",
    "        #l.add_xpath(\"description\", \".//div[@class='intro']/p\")\n",
    "        l.add_value('description', \"\")\n",
    "        \n",
    "        #<time class=\"entry-date published\" datetime=\"2019-03-27T16:01:03+01:00\">mars 27, 2019</time>\n",
    "        l.add_xpath(\"date_published\", '//time/@datetime',\n",
    "                    re=\"[0-9]+-[0-9]+-[0-9]+\")\n",
    "        #'//div[@class=\"entry-content\"]/div'\n",
    "        l.add_xpath(\"body\",\n",
    "            '//div[@class=\"entry-content\"]/div|//div[@class=\"entry-content\"]/p')\n",
    "        \n",
    "        \n",
    "        yield l.load_item()"
   ]
  },
  {
   "cell_type": "code",
   "execution_count": 174,
   "metadata": {},
   "outputs": [],
   "source": [
    "import scrapy\n",
    "\n",
    "class BuzzbeedRssSpider(scrapy.Spider):\n",
    "    '''\n",
    "    Class Spider for retrieving all links to news webpages from buzzbeed RSS\n",
    "    '''\n",
    "    name = \"buzzbeed_rss\"\n",
    "    \n",
    "    custom_settings = {\n",
    "      'FEED_FORMAT': 'json',\n",
    "      'FEED_URI': 'buzzbeed_rss.json'\n",
    "    }\n",
    "    \n",
    "    def start_requests(self):\n",
    "        urls = [\n",
    "                'https://www.buzzbeed.com/feed',\n",
    "        ]\n",
    "        for url in urls:\n",
    "            yield scrapy.Request(url=url, callback=self.parse)\n",
    "     \n",
    "    def parse(self, response):\n",
    "        for post in response.xpath('//channel/item'):\n",
    "            yield {\n",
    "                'title' : post.xpath('title//text()').extract_first(),\n",
    "                'link': post.xpath('link//text()').extract_first(),\n",
    "                'pubDate' : post.xpath('pubDate//text()').extract_first(),\n",
    "            }\n"
   ]
  },
  {
   "cell_type": "code",
   "execution_count": 175,
   "metadata": {},
   "outputs": [],
   "source": [
    "import scrapy\n",
    "import re\n",
    "\n",
    "class BuzzbeedPageSpider(scrapy.Spider):\n",
    "    '''\n",
    "    Spider to scrap all Buzzbeed pages from selected category\n",
    "    Configure : \n",
    "    - BuzzbeedPageSpider.custom_settings : save location \n",
    "    - num_max_pages : the number of next page to scrap\n",
    "    - url_first_page : web page to start with\n",
    "    '''\n",
    "    name = \"buzzbeed_page\"\n",
    "    \n",
    "    custom_settings = {\n",
    "      'FEED_FORMAT': 'json',\n",
    "      'FEED_URI': 'pages_buzzbeed.json'\n",
    "    }\n",
    "    \n",
    "    num_max_pages = 1\n",
    "    \n",
    "    url_first_page = 'https://www.buzzbeed.com/'\n",
    "    \n",
    "    def start_requests(self):\n",
    "        urls = [\n",
    "                self.url_first_page,\n",
    "        ]\n",
    "        for url in urls:\n",
    "            yield scrapy.Request(url=url, callback=self.parse)\n",
    "    \n",
    "    def parse(self, response):\n",
    "        \n",
    "        # //h2[@class=\"entry-title\"]/a/@href\n",
    "        for post in response.xpath('//h2[@class=\"entry-title\"]'):\n",
    "            \n",
    "            #print('post : ', post) # TEST\n",
    "            yield {\n",
    "                'link': post.xpath('a/@href').extract_first()\n",
    "            }\n",
    "        # //a[@class=\"next page-numbers\"]/@href\n",
    "        next_page = response.xpath(\n",
    "            '//a[@class=\"next page-numbers\"]/@href').get()\n",
    "        #print('next_page : ', next_page) # TEST\n",
    "        if next_page is not None:\n",
    "            try:\n",
    "                # ex: https://www.buzzbeed.com/page/3\n",
    "                num_next_page = int(re.search(\"(?<=/)\\d+$\", \n",
    "                         next_page).group(0))\n",
    "                \n",
    "                if (num_next_page < self.num_max_pages):\n",
    "                    #next_page = response.urljoin(next_page)\n",
    "                    yield scrapy.Request(next_page, callback=self.parse)\n",
    "            except:\n",
    "                next_page = None\n",
    "                "
   ]
  },
  {
   "cell_type": "markdown",
   "metadata": {},
   "source": [
    "### Scraping RSS urls"
   ]
  },
  {
   "cell_type": "markdown",
   "metadata": {},
   "source": [
    "#### Definitions"
   ]
  },
  {
   "cell_type": "code",
   "execution_count": 170,
   "metadata": {},
   "outputs": [],
   "source": [
    "# path to results file for urls\n",
    "PATH_RSS_PAGES_BUZZBEED = '../../data/buzzbeed_rss_urls.json'\n",
    "# declare your data location for scraping rss links \n",
    "PATH_RSS_NEWS_BUZZBEED = '../../data/buzzbeed_rss_pages.json'"
   ]
  },
  {
   "cell_type": "markdown",
   "metadata": {},
   "source": [
    "#### Scraping RSS urls links"
   ]
  },
  {
   "cell_type": "code",
   "execution_count": 171,
   "metadata": {},
   "outputs": [
    {
     "name": "stdout",
     "output_type": "stream",
     "text": [
      "File ../../data/buzzbeed_rss_urls_20191227_18_15_52.json moved!\n"
     ]
    }
   ],
   "source": [
    "# clean (move file if exist)\n",
    "clean_file(PATH_RSS_PAGES_BUZZBEED)"
   ]
  },
  {
   "cell_type": "code",
   "execution_count": 134,
   "metadata": {},
   "outputs": [],
   "source": [
    "# Configure spider\n",
    "BuzzbeedRssSpider.custom_settings = {\n",
    "      'FEED_FORMAT': 'json',\n",
    "      'FEED_URI': PATH_RSS_PAGES_BUZZBEED\n",
    "}\n",
    "# scraping\n",
    "run_spider(BuzzbeedRssSpider)"
   ]
  },
  {
   "cell_type": "code",
   "execution_count": 135,
   "metadata": {},
   "outputs": [
    {
     "data": {
      "text/html": [
       "<div>\n",
       "<style scoped>\n",
       "    .dataframe tbody tr th:only-of-type {\n",
       "        vertical-align: middle;\n",
       "    }\n",
       "\n",
       "    .dataframe tbody tr th {\n",
       "        vertical-align: top;\n",
       "    }\n",
       "\n",
       "    .dataframe thead th {\n",
       "        text-align: right;\n",
       "    }\n",
       "</style>\n",
       "<table border=\"1\" class=\"dataframe\">\n",
       "  <thead>\n",
       "    <tr style=\"text-align: right;\">\n",
       "      <th></th>\n",
       "      <th>link</th>\n",
       "      <th>pubDate</th>\n",
       "      <th>title</th>\n",
       "    </tr>\n",
       "  </thead>\n",
       "  <tbody>\n",
       "    <tr>\n",
       "      <th>0</th>\n",
       "      <td>https://www.buzzbeed.com/marine-le-pen-il-ny-a...</td>\n",
       "      <td>Wed, 27 Mar 2019 15:01:03 +0000</td>\n",
       "      <td>Marine Le Pen : “il n’y a pas de problème d’im...</td>\n",
       "    </tr>\n",
       "    <tr>\n",
       "      <th>1</th>\n",
       "      <td>https://www.buzzbeed.com/emmanuel-macron-surpr...</td>\n",
       "      <td>Wed, 20 Feb 2019 19:59:23 +0000</td>\n",
       "      <td>Emmanuel Macron surpris en train de dessiner d...</td>\n",
       "    </tr>\n",
       "    <tr>\n",
       "      <th>2</th>\n",
       "      <td>https://www.buzzbeed.com/lauteur-presume-des-a...</td>\n",
       "      <td>Wed, 12 Dec 2018 21:35:24 +0000</td>\n",
       "      <td>L’auteur présumé des attentats de Strasbourg s...</td>\n",
       "    </tr>\n",
       "    <tr>\n",
       "      <th>3</th>\n",
       "      <td>https://www.buzzbeed.com/bernard-werber-les-au...</td>\n",
       "      <td>Sat, 17 Nov 2018 21:37:10 +0000</td>\n",
       "      <td>Bernard Werber : « Les auteurs de Science-Fict...</td>\n",
       "    </tr>\n",
       "    <tr>\n",
       "      <th>4</th>\n",
       "      <td>https://www.buzzbeed.com/emmanuel-macron-rend-...</td>\n",
       "      <td>Mon, 12 Nov 2018 20:58:20 +0000</td>\n",
       "      <td>Emmanuel Macron rend hommage aux 6 millions d’...</td>\n",
       "    </tr>\n",
       "    <tr>\n",
       "      <th>5</th>\n",
       "      <td>https://www.buzzbeed.com/un-neo-nazi-deguise-e...</td>\n",
       "      <td>Fri, 28 Sep 2018 17:25:48 +0000</td>\n",
       "      <td>Un néo-nazi déguisé en sauveteur de Juifs à Ch...</td>\n",
       "    </tr>\n",
       "    <tr>\n",
       "      <th>6</th>\n",
       "      <td>https://www.buzzbeed.com/la-france-islamophobe...</td>\n",
       "      <td>Tue, 21 Aug 2018 17:58:11 +0000</td>\n",
       "      <td>La France islamophobe : 75% des détenus seraie...</td>\n",
       "    </tr>\n",
       "    <tr>\n",
       "      <th>7</th>\n",
       "      <td>https://www.buzzbeed.com/le-qi-en-baisse-a-cau...</td>\n",
       "      <td>Tue, 21 Aug 2018 17:01:22 +0000</td>\n",
       "      <td>Le QI en baisse à cause de l’Américanisation</td>\n",
       "    </tr>\n",
       "    <tr>\n",
       "      <th>8</th>\n",
       "      <td>https://www.buzzbeed.com/yemen-la-bombe-qui-a-...</td>\n",
       "      <td>Sun, 19 Aug 2018 13:24:28 +0000</td>\n",
       "      <td>Yémen : La bombe qui a tué 40 futurs poètes et...</td>\n",
       "    </tr>\n",
       "    <tr>\n",
       "      <th>9</th>\n",
       "      <td>https://www.buzzbeed.com/les-syriens-peuvent-a...</td>\n",
       "      <td>Sun, 15 Jul 2018 15:59:12 +0000</td>\n",
       "      <td>Les Syriens peuvent à nouveau vivre dans leur ...</td>\n",
       "    </tr>\n",
       "  </tbody>\n",
       "</table>\n",
       "</div>"
      ],
      "text/plain": [
       "                                                link  \\\n",
       "0  https://www.buzzbeed.com/marine-le-pen-il-ny-a...   \n",
       "1  https://www.buzzbeed.com/emmanuel-macron-surpr...   \n",
       "2  https://www.buzzbeed.com/lauteur-presume-des-a...   \n",
       "3  https://www.buzzbeed.com/bernard-werber-les-au...   \n",
       "4  https://www.buzzbeed.com/emmanuel-macron-rend-...   \n",
       "5  https://www.buzzbeed.com/un-neo-nazi-deguise-e...   \n",
       "6  https://www.buzzbeed.com/la-france-islamophobe...   \n",
       "7  https://www.buzzbeed.com/le-qi-en-baisse-a-cau...   \n",
       "8  https://www.buzzbeed.com/yemen-la-bombe-qui-a-...   \n",
       "9  https://www.buzzbeed.com/les-syriens-peuvent-a...   \n",
       "\n",
       "                           pubDate  \\\n",
       "0  Wed, 27 Mar 2019 15:01:03 +0000   \n",
       "1  Wed, 20 Feb 2019 19:59:23 +0000   \n",
       "2  Wed, 12 Dec 2018 21:35:24 +0000   \n",
       "3  Sat, 17 Nov 2018 21:37:10 +0000   \n",
       "4  Mon, 12 Nov 2018 20:58:20 +0000   \n",
       "5  Fri, 28 Sep 2018 17:25:48 +0000   \n",
       "6  Tue, 21 Aug 2018 17:58:11 +0000   \n",
       "7  Tue, 21 Aug 2018 17:01:22 +0000   \n",
       "8  Sun, 19 Aug 2018 13:24:28 +0000   \n",
       "9  Sun, 15 Jul 2018 15:59:12 +0000   \n",
       "\n",
       "                                               title  \n",
       "0  Marine Le Pen : “il n’y a pas de problème d’im...  \n",
       "1  Emmanuel Macron surpris en train de dessiner d...  \n",
       "2  L’auteur présumé des attentats de Strasbourg s...  \n",
       "3  Bernard Werber : « Les auteurs de Science-Fict...  \n",
       "4  Emmanuel Macron rend hommage aux 6 millions d’...  \n",
       "5  Un néo-nazi déguisé en sauveteur de Juifs à Ch...  \n",
       "6  La France islamophobe : 75% des détenus seraie...  \n",
       "7       Le QI en baisse à cause de l’Américanisation  \n",
       "8  Yémen : La bombe qui a tué 40 futurs poètes et...  \n",
       "9  Les Syriens peuvent à nouveau vivre dans leur ...  "
      ]
     },
     "execution_count": 135,
     "metadata": {},
     "output_type": "execute_result"
    }
   ],
   "source": [
    "import pandas as pd\n",
    "\n",
    "df_rss_buzzbeed = pd.read_json(PATH_RSS_PAGES_BUZZBEED)\n",
    "df_rss_buzzbeed"
   ]
  },
  {
   "cell_type": "code",
   "execution_count": 136,
   "metadata": {},
   "outputs": [
    {
     "data": {
      "text/plain": [
       "(10, 3)"
      ]
     },
     "execution_count": 136,
     "metadata": {},
     "output_type": "execute_result"
    }
   ],
   "source": [
    "df_rss_buzzbeed.shape"
   ]
  },
  {
   "cell_type": "markdown",
   "metadata": {},
   "source": [
    "#### Scraping RSS news"
   ]
  },
  {
   "cell_type": "code",
   "execution_count": 157,
   "metadata": {},
   "outputs": [
    {
     "name": "stdout",
     "output_type": "stream",
     "text": [
      "File ../../data/buzzbeed_rss_pages_20191227_18_03_47.json moved!\n"
     ]
    }
   ],
   "source": [
    "# clean (move file if exist)\n",
    "clean_file(PATH_RSS_NEWS_BUZZBEED)"
   ]
  },
  {
   "cell_type": "code",
   "execution_count": 158,
   "metadata": {},
   "outputs": [],
   "source": [
    "# configure : add all retrieved links to Spider\n",
    "BuzzbeedSpider.start_urls = df_rss_buzzbeed[\"link\"].tolist()\n",
    "BuzzbeedSpider.custom_settings = {\n",
    "      'FEED_FORMAT': 'json',\n",
    "      'FEED_URI': PATH_RSS_NEWS_BUZZBEED\n",
    "}\n",
    "\n",
    "# scraping\n",
    "run_spider(BuzzbeedSpider)"
   ]
  },
  {
   "cell_type": "code",
   "execution_count": 159,
   "metadata": {},
   "outputs": [
    {
     "data": {
      "text/html": [
       "<div>\n",
       "<style scoped>\n",
       "    .dataframe tbody tr th:only-of-type {\n",
       "        vertical-align: middle;\n",
       "    }\n",
       "\n",
       "    .dataframe tbody tr th {\n",
       "        vertical-align: top;\n",
       "    }\n",
       "\n",
       "    .dataframe thead th {\n",
       "        text-align: right;\n",
       "    }\n",
       "</style>\n",
       "<table border=\"1\" class=\"dataframe\">\n",
       "  <thead>\n",
       "    <tr style=\"text-align: right;\">\n",
       "      <th></th>\n",
       "      <th>author</th>\n",
       "      <th>body</th>\n",
       "      <th>date_published</th>\n",
       "      <th>source</th>\n",
       "      <th>theme</th>\n",
       "      <th>title</th>\n",
       "      <th>url</th>\n",
       "    </tr>\n",
       "  </thead>\n",
       "  <tbody>\n",
       "    <tr>\n",
       "      <th>0</th>\n",
       "      <td>Jean Deumerez</td>\n",
       "      <td>Marine Le Pen continue de surprendre son élec...</td>\n",
       "      <td>2019-03-27</td>\n",
       "      <td>Buzzbeed</td>\n",
       "      <td>Sentiment d'insécurité</td>\n",
       "      <td>Marine Le Pen : “il n’y a pas de problème d’im...</td>\n",
       "      <td>https://www.buzzbeed.com/marine-le-pen-il-ny-a...</td>\n",
       "    </tr>\n",
       "    <tr>\n",
       "      <th>1</th>\n",
       "      <td>Francis Lépante</td>\n",
       "      <td>« La proximité du marché de Noël, et surtout ...</td>\n",
       "      <td>2018-12-12</td>\n",
       "      <td>Buzzbeed</td>\n",
       "      <td>Uncategorized</td>\n",
       "      <td>L’auteur présumé des attentats de Strasbourg s...</td>\n",
       "      <td>https://www.buzzbeed.com/lauteur-presume-des-a...</td>\n",
       "    </tr>\n",
       "    <tr>\n",
       "      <th>2</th>\n",
       "      <td>Francis Lépante</td>\n",
       "      <td>L’auteur du livre “Les fourmis” a un avis tra...</td>\n",
       "      <td>2018-11-17</td>\n",
       "      <td>Buzzbeed</td>\n",
       "      <td>Uncategorized</td>\n",
       "      <td>Bernard Werber : « Les auteurs de Science-Fict...</td>\n",
       "      <td>https://www.buzzbeed.com/bernard-werber-les-au...</td>\n",
       "    </tr>\n",
       "    <tr>\n",
       "      <th>3</th>\n",
       "      <td>Francis Lépante</td>\n",
       "      <td>Hier, Emmanuel Macron a rendu hommage aux 6 m...</td>\n",
       "      <td>2018-11-12</td>\n",
       "      <td>Buzzbeed</td>\n",
       "      <td>Uncategorized</td>\n",
       "      <td>Emmanuel Macron rend hommage aux 6 millions d’...</td>\n",
       "      <td>https://www.buzzbeed.com/emmanuel-macron-rend-...</td>\n",
       "    </tr>\n",
       "    <tr>\n",
       "      <th>4</th>\n",
       "      <td>Jean Deumerez</td>\n",
       "      <td>Une nouvelle preuve que notre pays est bien r...</td>\n",
       "      <td>2018-08-21</td>\n",
       "      <td>Buzzbeed</td>\n",
       "      <td>Uncategorized</td>\n",
       "      <td>La France islamophobe : 75% des détenus seraie...</td>\n",
       "      <td>https://www.buzzbeed.com/la-france-islamophobe...</td>\n",
       "    </tr>\n",
       "  </tbody>\n",
       "</table>\n",
       "</div>"
      ],
      "text/plain": [
       "            author                                               body  \\\n",
       "0    Jean Deumerez   Marine Le Pen continue de surprendre son élec...   \n",
       "1  Francis Lépante   « La proximité du marché de Noël, et surtout ...   \n",
       "2  Francis Lépante   L’auteur du livre “Les fourmis” a un avis tra...   \n",
       "3  Francis Lépante   Hier, Emmanuel Macron a rendu hommage aux 6 m...   \n",
       "4    Jean Deumerez   Une nouvelle preuve que notre pays est bien r...   \n",
       "\n",
       "  date_published    source                   theme  \\\n",
       "0     2019-03-27  Buzzbeed  Sentiment d'insécurité   \n",
       "1     2018-12-12  Buzzbeed           Uncategorized   \n",
       "2     2018-11-17  Buzzbeed           Uncategorized   \n",
       "3     2018-11-12  Buzzbeed           Uncategorized   \n",
       "4     2018-08-21  Buzzbeed           Uncategorized   \n",
       "\n",
       "                                               title  \\\n",
       "0  Marine Le Pen : “il n’y a pas de problème d’im...   \n",
       "1  L’auteur présumé des attentats de Strasbourg s...   \n",
       "2  Bernard Werber : « Les auteurs de Science-Fict...   \n",
       "3  Emmanuel Macron rend hommage aux 6 millions d’...   \n",
       "4  La France islamophobe : 75% des détenus seraie...   \n",
       "\n",
       "                                                 url  \n",
       "0  https://www.buzzbeed.com/marine-le-pen-il-ny-a...  \n",
       "1  https://www.buzzbeed.com/lauteur-presume-des-a...  \n",
       "2  https://www.buzzbeed.com/bernard-werber-les-au...  \n",
       "3  https://www.buzzbeed.com/emmanuel-macron-rend-...  \n",
       "4  https://www.buzzbeed.com/la-france-islamophobe...  "
      ]
     },
     "execution_count": 159,
     "metadata": {},
     "output_type": "execute_result"
    }
   ],
   "source": [
    "import pandas as pd\n",
    "\n",
    "df_buzzbeed = pd.read_json(PATH_RSS_NEWS_BUZZBEED)\n",
    "df_buzzbeed.head()"
   ]
  },
  {
   "cell_type": "code",
   "execution_count": 160,
   "metadata": {},
   "outputs": [
    {
     "data": {
      "text/plain": [
       "(10, 7)"
      ]
     },
     "execution_count": 160,
     "metadata": {},
     "output_type": "execute_result"
    }
   ],
   "source": [
    "df_buzzbeed.shape"
   ]
  },
  {
   "cell_type": "code",
   "execution_count": 161,
   "metadata": {},
   "outputs": [
    {
     "data": {
      "text/plain": [
       "'https://www.buzzbeed.com/marine-le-pen-il-ny-a-pas-de-probleme-dimmigration-en-france'"
      ]
     },
     "execution_count": 161,
     "metadata": {},
     "output_type": "execute_result"
    }
   ],
   "source": [
    "df_buzzbeed.at[0,\"url\"]"
   ]
  },
  {
   "cell_type": "code",
   "execution_count": 163,
   "metadata": {},
   "outputs": [
    {
     "data": {
      "text/plain": [
       "' Marine Le Pen continue de surprendre son électorat, affirmant, apès avoir nié être au courant du phénomène de Grand-Remplacement tel qu’exposé par René Camus, que elle n’a “jamais été au courant de problèmes d’immigration en France”. Elle achève ainsi haut la main sa campagne de dédiabolisation.  “En France il y a peut-être tout au plus quelques descendants d’immigrés, mais mon attention n’a jamais été attiré par une présence significative d’immigrés en France. En outre, ce sont des immigrés qui travaillent, contribuent à la culture du pays, ne touchent pas plus d’allocations que le Francais moyen, bref, on verrait mal au rassemblement national en quoi l’immigration serait un problème pour la France. C’est plutôt une chance, une opportunité.”  Marine Le Pen a pourtant dérapé sur l’Allemagne: “les Allemands, ce sont les heures sombres de notre histoire, ils veulent toujours nous reprendre l’Alsace-Lorraine, et là, avec l’euro, c’est le même projet contre les nations qui recommence, c’est-à-dire, si l’on ne sort pas de l’euro pour pouvoir dévaluer le franc, on va tous y rester, il nous faut une devise avec laquelle épargner sera impossible, et là la France redeviendra une grande puissance économique.” '"
      ]
     },
     "execution_count": 163,
     "metadata": {},
     "output_type": "execute_result"
    }
   ],
   "source": [
    "df_buzzbeed.at[0,\"body\"]"
   ]
  },
  {
   "cell_type": "markdown",
   "metadata": {},
   "source": [
    "### Scraping urls into webpages "
   ]
  },
  {
   "cell_type": "markdown",
   "metadata": {},
   "source": [
    "#### Definitions"
   ]
  },
  {
   "cell_type": "code",
   "execution_count": 176,
   "metadata": {},
   "outputs": [],
   "source": [
    "URL_PAGES_BUZZBEED = 'https://www.buzzbeed.com/'\n",
    "# declare your data location\n",
    "PATH_PAGES_BUZZBEED = '../../data/pages_buzzbeed.json'\n",
    "PATH_NEWS_BUZZBEED = '../../data/buzzbeed.json'"
   ]
  },
  {
   "cell_type": "markdown",
   "metadata": {},
   "source": [
    "#### Scraping url links"
   ]
  },
  {
   "cell_type": "code",
   "execution_count": 177,
   "metadata": {},
   "outputs": [
    {
     "name": "stdout",
     "output_type": "stream",
     "text": [
      "File ../../data/pages_buzzbeed.json does not exist!\n"
     ]
    }
   ],
   "source": [
    "# clean (move file if exist)\n",
    "clean_file(PATH_PAGES_BUZZBEED)"
   ]
  },
  {
   "cell_type": "code",
   "execution_count": 178,
   "metadata": {
    "scrolled": false
   },
   "outputs": [
    {
     "name": "stdout",
     "output_type": "stream",
     "text": [
      "File ../../data/pages_buzzbeed.json does not exist!\n"
     ]
    }
   ],
   "source": [
    "# configure scraping\n",
    "BuzzbeedPageSpider.url_first_page = URL_PAGES_BUZZBEED\n",
    "BuzzbeedPageSpider.custom_settings = {\n",
    "      'FEED_FORMAT': 'json',\n",
    "      'FEED_URI': PATH_PAGES_BUZZBEED\n",
    "    }\n",
    "BuzzbeedPageSpider.num_max_pages = 25 # 10 articles by page\n",
    "\n",
    "# clean last output\n",
    "clean_file(PATH_PAGES_BUZZBEED)\n",
    "# scraping page urls\n",
    "run_spider(BuzzbeedPageSpider)"
   ]
  },
  {
   "cell_type": "code",
   "execution_count": 179,
   "metadata": {},
   "outputs": [
    {
     "data": {
      "text/html": [
       "<div>\n",
       "<style scoped>\n",
       "    .dataframe tbody tr th:only-of-type {\n",
       "        vertical-align: middle;\n",
       "    }\n",
       "\n",
       "    .dataframe tbody tr th {\n",
       "        vertical-align: top;\n",
       "    }\n",
       "\n",
       "    .dataframe thead th {\n",
       "        text-align: right;\n",
       "    }\n",
       "</style>\n",
       "<table border=\"1\" class=\"dataframe\">\n",
       "  <thead>\n",
       "    <tr style=\"text-align: right;\">\n",
       "      <th></th>\n",
       "      <th>link</th>\n",
       "    </tr>\n",
       "  </thead>\n",
       "  <tbody>\n",
       "    <tr>\n",
       "      <th>0</th>\n",
       "      <td>https://www.buzzbeed.com/marine-le-pen-il-ny-a...</td>\n",
       "    </tr>\n",
       "    <tr>\n",
       "      <th>1</th>\n",
       "      <td>https://www.buzzbeed.com/emmanuel-macron-surpr...</td>\n",
       "    </tr>\n",
       "    <tr>\n",
       "      <th>2</th>\n",
       "      <td>https://www.buzzbeed.com/lauteur-presume-des-a...</td>\n",
       "    </tr>\n",
       "    <tr>\n",
       "      <th>3</th>\n",
       "      <td>https://www.buzzbeed.com/bernard-werber-les-au...</td>\n",
       "    </tr>\n",
       "    <tr>\n",
       "      <th>4</th>\n",
       "      <td>https://www.buzzbeed.com/emmanuel-macron-rend-...</td>\n",
       "    </tr>\n",
       "  </tbody>\n",
       "</table>\n",
       "</div>"
      ],
      "text/plain": [
       "                                                link\n",
       "0  https://www.buzzbeed.com/marine-le-pen-il-ny-a...\n",
       "1  https://www.buzzbeed.com/emmanuel-macron-surpr...\n",
       "2  https://www.buzzbeed.com/lauteur-presume-des-a...\n",
       "3  https://www.buzzbeed.com/bernard-werber-les-au...\n",
       "4  https://www.buzzbeed.com/emmanuel-macron-rend-..."
      ]
     },
     "execution_count": 179,
     "metadata": {},
     "output_type": "execute_result"
    }
   ],
   "source": [
    "import pandas as pd\n",
    "\n",
    "df_buzzbeed_pages = pd.read_json(PATH_PAGES_BUZZBEED)\n",
    "df_buzzbeed_pages.head()"
   ]
  },
  {
   "cell_type": "code",
   "execution_count": 180,
   "metadata": {},
   "outputs": [
    {
     "data": {
      "text/plain": [
       "(240, 1)"
      ]
     },
     "execution_count": 180,
     "metadata": {},
     "output_type": "execute_result"
    }
   ],
   "source": [
    "df_buzzbeed_pages.shape"
   ]
  },
  {
   "cell_type": "markdown",
   "metadata": {},
   "source": [
    "#### Scraping news"
   ]
  },
  {
   "cell_type": "code",
   "execution_count": 181,
   "metadata": {},
   "outputs": [
    {
     "name": "stdout",
     "output_type": "stream",
     "text": [
      "File ../../data/buzzbeed.json does not exist!\n"
     ]
    }
   ],
   "source": [
    "# clean last output\n",
    "clean_file(PATH_NEWS_BUZZBEED)"
   ]
  },
  {
   "cell_type": "code",
   "execution_count": 182,
   "metadata": {},
   "outputs": [],
   "source": [
    "# configure : add all retrieved links to Spider\n",
    "BuzzbeedSpider.start_urls = df_buzzbeed_pages[\"link\"].tolist()\n",
    "BuzzbeedSpider.custom_settings = {\n",
    "      'FEED_FORMAT': 'json',\n",
    "      'FEED_URI': PATH_NEWS_BUZZBEED\n",
    "    }\n",
    "# scraping\n",
    "run_spider(BuzzbeedSpider)"
   ]
  },
  {
   "cell_type": "code",
   "execution_count": 183,
   "metadata": {},
   "outputs": [
    {
     "data": {
      "text/html": [
       "<div>\n",
       "<style scoped>\n",
       "    .dataframe tbody tr th:only-of-type {\n",
       "        vertical-align: middle;\n",
       "    }\n",
       "\n",
       "    .dataframe tbody tr th {\n",
       "        vertical-align: top;\n",
       "    }\n",
       "\n",
       "    .dataframe thead th {\n",
       "        text-align: right;\n",
       "    }\n",
       "</style>\n",
       "<table border=\"1\" class=\"dataframe\">\n",
       "  <thead>\n",
       "    <tr style=\"text-align: right;\">\n",
       "      <th></th>\n",
       "      <th>author</th>\n",
       "      <th>body</th>\n",
       "      <th>date_published</th>\n",
       "      <th>source</th>\n",
       "      <th>theme</th>\n",
       "      <th>title</th>\n",
       "      <th>url</th>\n",
       "    </tr>\n",
       "  </thead>\n",
       "  <tbody>\n",
       "    <tr>\n",
       "      <th>0</th>\n",
       "      <td>Jean Deumerez</td>\n",
       "      <td>Le Président Francais, Emmanuel Macron, a été...</td>\n",
       "      <td>2019-02-20</td>\n",
       "      <td>Buzzbeed</td>\n",
       "      <td>Insolite</td>\n",
       "      <td>Emmanuel Macron surpris en train de dessiner d...</td>\n",
       "      <td>https://www.buzzbeed.com/emmanuel-macron-surpr...</td>\n",
       "    </tr>\n",
       "    <tr>\n",
       "      <th>1</th>\n",
       "      <td>Francis Lépante</td>\n",
       "      <td>L’auteur du livre “Les fourmis” a un avis tra...</td>\n",
       "      <td>2018-11-17</td>\n",
       "      <td>Buzzbeed</td>\n",
       "      <td>Uncategorized</td>\n",
       "      <td>Bernard Werber : « Les auteurs de Science-Fict...</td>\n",
       "      <td>https://www.buzzbeed.com/bernard-werber-les-au...</td>\n",
       "    </tr>\n",
       "    <tr>\n",
       "      <th>2</th>\n",
       "      <td>Francis Lépante</td>\n",
       "      <td>« La proximité du marché de Noël, et surtout ...</td>\n",
       "      <td>2018-12-12</td>\n",
       "      <td>Buzzbeed</td>\n",
       "      <td>Uncategorized</td>\n",
       "      <td>L’auteur présumé des attentats de Strasbourg s...</td>\n",
       "      <td>https://www.buzzbeed.com/lauteur-presume-des-a...</td>\n",
       "    </tr>\n",
       "    <tr>\n",
       "      <th>3</th>\n",
       "      <td>Francis Lépante</td>\n",
       "      <td>Hier, Emmanuel Macron a rendu hommage aux 6 m...</td>\n",
       "      <td>2018-11-12</td>\n",
       "      <td>Buzzbeed</td>\n",
       "      <td>Uncategorized</td>\n",
       "      <td>Emmanuel Macron rend hommage aux 6 millions d’...</td>\n",
       "      <td>https://www.buzzbeed.com/emmanuel-macron-rend-...</td>\n",
       "    </tr>\n",
       "    <tr>\n",
       "      <th>4</th>\n",
       "      <td>Jean Deumerez</td>\n",
       "      <td>Preuve qu’ils sont partout. « Ils se cachent ...</td>\n",
       "      <td>2018-09-28</td>\n",
       "      <td>Buzzbeed</td>\n",
       "      <td>Uncategorized</td>\n",
       "      <td>Un néo-nazi déguisé en sauveteur de Juifs à Ch...</td>\n",
       "      <td>https://www.buzzbeed.com/un-neo-nazi-deguise-e...</td>\n",
       "    </tr>\n",
       "  </tbody>\n",
       "</table>\n",
       "</div>"
      ],
      "text/plain": [
       "            author                                               body  \\\n",
       "0    Jean Deumerez   Le Président Francais, Emmanuel Macron, a été...   \n",
       "1  Francis Lépante   L’auteur du livre “Les fourmis” a un avis tra...   \n",
       "2  Francis Lépante   « La proximité du marché de Noël, et surtout ...   \n",
       "3  Francis Lépante   Hier, Emmanuel Macron a rendu hommage aux 6 m...   \n",
       "4    Jean Deumerez   Preuve qu’ils sont partout. « Ils se cachent ...   \n",
       "\n",
       "  date_published    source          theme  \\\n",
       "0     2019-02-20  Buzzbeed       Insolite   \n",
       "1     2018-11-17  Buzzbeed  Uncategorized   \n",
       "2     2018-12-12  Buzzbeed  Uncategorized   \n",
       "3     2018-11-12  Buzzbeed  Uncategorized   \n",
       "4     2018-09-28  Buzzbeed  Uncategorized   \n",
       "\n",
       "                                               title  \\\n",
       "0  Emmanuel Macron surpris en train de dessiner d...   \n",
       "1  Bernard Werber : « Les auteurs de Science-Fict...   \n",
       "2  L’auteur présumé des attentats de Strasbourg s...   \n",
       "3  Emmanuel Macron rend hommage aux 6 millions d’...   \n",
       "4  Un néo-nazi déguisé en sauveteur de Juifs à Ch...   \n",
       "\n",
       "                                                 url  \n",
       "0  https://www.buzzbeed.com/emmanuel-macron-surpr...  \n",
       "1  https://www.buzzbeed.com/bernard-werber-les-au...  \n",
       "2  https://www.buzzbeed.com/lauteur-presume-des-a...  \n",
       "3  https://www.buzzbeed.com/emmanuel-macron-rend-...  \n",
       "4  https://www.buzzbeed.com/un-neo-nazi-deguise-e...  "
      ]
     },
     "execution_count": 183,
     "metadata": {},
     "output_type": "execute_result"
    }
   ],
   "source": [
    "import pandas as pd\n",
    "\n",
    "df_buzzbeed = pd.read_json(PATH_NEWS_BUZZBEED)\n",
    "df_buzzbeed.head()"
   ]
  },
  {
   "cell_type": "code",
   "execution_count": 184,
   "metadata": {},
   "outputs": [
    {
     "data": {
      "text/plain": [
       "(240, 7)"
      ]
     },
     "execution_count": 184,
     "metadata": {},
     "output_type": "execute_result"
    }
   ],
   "source": [
    "df_buzzbeed.shape"
   ]
  },
  {
   "cell_type": "code",
   "execution_count": 186,
   "metadata": {},
   "outputs": [
    {
     "data": {
      "text/plain": [
       "0"
      ]
     },
     "execution_count": 186,
     "metadata": {},
     "output_type": "execute_result"
    }
   ],
   "source": [
    "df_buzzbeed[df_buzzbeed[\"body\"].isna()].shape[0]"
   ]
  },
  {
   "cell_type": "markdown",
   "metadata": {},
   "source": [
    "## Export Results"
   ]
  },
  {
   "cell_type": "markdown",
   "metadata": {},
   "source": [
    "### Clean results"
   ]
  },
  {
   "cell_type": "code",
   "execution_count": 198,
   "metadata": {},
   "outputs": [],
   "source": [
    "import pandas as pd\n",
    "\n",
    "df_gorafi_soc = pd.read_json(PATH_NEWS_GORAFI_SOCIETE)\n",
    "df_gorafi_pol = pd.read_json(PATH_NEWS_GORAFI_POLITIQUE)\n",
    "df_nordpresse = pd.read_json(PATH_NEWS_NORDPRESSE)\n",
    "df_buzzbeed = pd.read_json(PATH_NEWS_BUZZBEED)"
   ]
  },
  {
   "cell_type": "code",
   "execution_count": 199,
   "metadata": {
    "scrolled": false
   },
   "outputs": [
    {
     "name": "stderr",
     "output_type": "stream",
     "text": [
      "/anaconda3/lib/python3.7/site-packages/ipykernel_launcher.py:2: FutureWarning: Sorting because non-concatenation axis is not aligned. A future version\n",
      "of pandas will change to not sort by default.\n",
      "\n",
      "To accept the future behavior, pass 'sort=False'.\n",
      "\n",
      "To retain the current behavior and silence the warning, pass 'sort=True'.\n",
      "\n",
      "  \n"
     ]
    },
    {
     "data": {
      "text/html": [
       "<div>\n",
       "<style scoped>\n",
       "    .dataframe tbody tr th:only-of-type {\n",
       "        vertical-align: middle;\n",
       "    }\n",
       "\n",
       "    .dataframe tbody tr th {\n",
       "        vertical-align: top;\n",
       "    }\n",
       "\n",
       "    .dataframe thead th {\n",
       "        text-align: right;\n",
       "    }\n",
       "</style>\n",
       "<table border=\"1\" class=\"dataframe\">\n",
       "  <thead>\n",
       "    <tr style=\"text-align: right;\">\n",
       "      <th></th>\n",
       "      <th>author</th>\n",
       "      <th>body</th>\n",
       "      <th>date_published</th>\n",
       "      <th>description</th>\n",
       "      <th>source</th>\n",
       "      <th>theme</th>\n",
       "      <th>title</th>\n",
       "      <th>url</th>\n",
       "    </tr>\n",
       "  </thead>\n",
       "  <tbody>\n",
       "    <tr>\n",
       "      <th>0</th>\n",
       "      <td>La Rédaction</td>\n",
       "      <td>« Mes équipes sentaient le malaise s’installer...</td>\n",
       "      <td>19/12/2019</td>\n",
       "      <td>Afin d’être plus en phase avec l’actualité, le...</td>\n",
       "      <td>LeGorafi</td>\n",
       "      <td>Société</td>\n",
       "      <td>Noël – Pour coller à la réalité, les magasins ...</td>\n",
       "      <td>http://www.legorafi.fr/2019/12/19/noel-pour-co...</td>\n",
       "    </tr>\n",
       "    <tr>\n",
       "      <th>1</th>\n",
       "      <td>La Rédaction</td>\n",
       "      <td>Oui, car Mathias a économisé pas moins de 5 eu...</td>\n",
       "      <td>10/12/2019</td>\n",
       "      <td>Alors qu’il rentrait d’un week-end, Mathias a ...</td>\n",
       "      <td>LeGorafi</td>\n",
       "      <td>Société</td>\n",
       "      <td>Il économise 5 euros en achetant au duty-free ...</td>\n",
       "      <td>http://www.legorafi.fr/2019/12/10/il-economise...</td>\n",
       "    </tr>\n",
       "    <tr>\n",
       "      <th>2</th>\n",
       "      <td>La Rédaction</td>\n",
       "      <td>1/ Faire un beau chèque en s’appliquant pour l...</td>\n",
       "      <td>17/12/2019</td>\n",
       "      <td>L’échec amoureux n’a plus de secret pour vous ...</td>\n",
       "      <td>LeGorafi</td>\n",
       "      <td>Société</td>\n",
       "      <td>Psycho : Comment guérir d’un chagrin d’amour e...</td>\n",
       "      <td>http://www.legorafi.fr/2019/12/17/psycho-comme...</td>\n",
       "    </tr>\n",
       "    <tr>\n",
       "      <th>3</th>\n",
       "      <td>La Rédaction</td>\n",
       "      <td>\\nwindow.beOpAsyncInit = function() {\\n  BeOpS...</td>\n",
       "      <td>12/12/2019</td>\n",
       "      <td>Depuis les annonces d’Edouard Philippe, vous v...</td>\n",
       "      <td>LeGorafi</td>\n",
       "      <td>Société</td>\n",
       "      <td>Test : quel est l’âge idéal pour mourir avant ...</td>\n",
       "      <td>http://www.legorafi.fr/2019/12/12/test-quel-es...</td>\n",
       "    </tr>\n",
       "    <tr>\n",
       "      <th>4</th>\n",
       "      <td>La Rédaction</td>\n",
       "      <td>Selon les services sanitaires, se sont plusieu...</td>\n",
       "      <td>11/12/2019</td>\n",
       "      <td>Paris – La chaîne de restauration rapide lancé...</td>\n",
       "      <td>LeGorafi</td>\n",
       "      <td>Société</td>\n",
       "      <td>Plusieurs Burger Quiz fermés après une visite ...</td>\n",
       "      <td>http://www.legorafi.fr/2019/12/11/plusieurs-bu...</td>\n",
       "    </tr>\n",
       "    <tr>\n",
       "      <th>5</th>\n",
       "      <td>La Rédaction</td>\n",
       "      <td>Il y aura eu des joies, des peines, de l’espoi...</td>\n",
       "      <td>04/12/2019</td>\n",
       "      <td>Après des années de recherche, Richard va enfi...</td>\n",
       "      <td>LeGorafi</td>\n",
       "      <td>Société</td>\n",
       "      <td>Depuis 6 ans il tourne dans un parking Vinci p...</td>\n",
       "      <td>http://www.legorafi.fr/2019/12/04/depuis-6-ans...</td>\n",
       "    </tr>\n",
       "    <tr>\n",
       "      <th>6</th>\n",
       "      <td>La Rédaction</td>\n",
       "      <td>Ainsi les chauffeurs sont autorisés à prendre ...</td>\n",
       "      <td>19/12/2019</td>\n",
       "      <td>Paris – Pour aider les Français à pouvoir prof...</td>\n",
       "      <td>LeGorafi</td>\n",
       "      <td>Société</td>\n",
       "      <td>Le gouvernement autorise les chauffeurs des bu...</td>\n",
       "      <td>http://www.legorafi.fr/2019/12/19/le-gouvernem...</td>\n",
       "    </tr>\n",
       "    <tr>\n",
       "      <th>7</th>\n",
       "      <td>La Rédaction</td>\n",
       "      <td>C’est lors du cours d’anglais de M. Pochat que...</td>\n",
       "      <td>02/12/2019</td>\n",
       "      <td>La rumeur s’est répandue tôt ce matin comme un...</td>\n",
       "      <td>LeGorafi</td>\n",
       "      <td>Société</td>\n",
       "      <td>Collège – Le nouveau a l’air vraiment bizarre</td>\n",
       "      <td>http://www.legorafi.fr/2019/12/02/college-le-n...</td>\n",
       "    </tr>\n",
       "    <tr>\n",
       "      <th>8</th>\n",
       "      <td>La Rédaction</td>\n",
       "      <td>« L’idée n’est évidemment pas de restreindre l...</td>\n",
       "      <td>14/11/2019</td>\n",
       "      <td>Après l’annulation de la venue de Sylviane Aga...</td>\n",
       "      <td>LeGorafi</td>\n",
       "      <td>Société</td>\n",
       "      <td>Universités : les conférenciers invités pour d...</td>\n",
       "      <td>http://www.legorafi.fr/2019/11/14/universites-...</td>\n",
       "    </tr>\n",
       "    <tr>\n",
       "      <th>9</th>\n",
       "      <td>La Rédaction</td>\n",
       "      <td>Agissant avec une cruauté sans pareille et un ...</td>\n",
       "      <td>29/11/2019</td>\n",
       "      <td>(El Mundo Today) – Des milliers de pétroliers ...</td>\n",
       "      <td>LeGorafi</td>\n",
       "      <td>Société</td>\n",
       "      <td>Greta Thunberg coule cinq pétroliers et détour...</td>\n",
       "      <td>http://www.legorafi.fr/2019/11/29/greta-thunbe...</td>\n",
       "    </tr>\n",
       "    <tr>\n",
       "      <th>10</th>\n",
       "      <td>La Rédaction</td>\n",
       "      <td>Selon son entourage, Lydia N. était une fille ...</td>\n",
       "      <td>07/11/2019</td>\n",
       "      <td>Limoges – Lydia N., 31 ans, actuellement vende...</td>\n",
       "      <td>LeGorafi</td>\n",
       "      <td>Société</td>\n",
       "      <td>Une inconsciente divorce alors qu’elle ne gagn...</td>\n",
       "      <td>http://www.legorafi.fr/2019/11/07/une-inconsci...</td>\n",
       "    </tr>\n",
       "    <tr>\n",
       "      <th>11</th>\n",
       "      <td>La Rédaction</td>\n",
       "      <td>Face à la polémique suscitée par cette annonce...</td>\n",
       "      <td>03/12/2019</td>\n",
       "      <td>Plusieurs associations de protection animale l...</td>\n",
       "      <td>LeGorafi</td>\n",
       "      <td>Société</td>\n",
       "      <td>Kinder va proposer des animaux vivants dans se...</td>\n",
       "      <td>http://www.legorafi.fr/2019/12/03/kinder-va-pr...</td>\n",
       "    </tr>\n",
       "    <tr>\n",
       "      <th>12</th>\n",
       "      <td>La Rédaction</td>\n",
       "      <td>La retraite à taux plein n’est pas enterrée, e...</td>\n",
       "      <td>18/11/2019</td>\n",
       "      <td>Afin de faire oublier les récents couacs conce...</td>\n",
       "      <td>LeGorafi</td>\n",
       "      <td>Société</td>\n",
       "      <td>Les retraités pourront bénéficier d’une pensio...</td>\n",
       "      <td>http://www.legorafi.fr/2019/11/18/les-retraite...</td>\n",
       "    </tr>\n",
       "    <tr>\n",
       "      <th>13</th>\n",
       "      <td>La Rédaction</td>\n",
       "      <td>\\nwindow.beOpinionAsyncInit = function() {\\n  ...</td>\n",
       "      <td>04/11/2019</td>\n",
       "      <td>Vous avez hâte que votre être sans valeur soit...</td>\n",
       "      <td>LeGorafi</td>\n",
       "      <td>Société</td>\n",
       "      <td>Test : par quel robot allez-vous être remplacé ?</td>\n",
       "      <td>http://www.legorafi.fr/2019/11/04/test-par-que...</td>\n",
       "    </tr>\n",
       "    <tr>\n",
       "      <th>14</th>\n",
       "      <td>La Rédaction</td>\n",
       "      <td>« On est tous sous le choc. Le client se régal...</td>\n",
       "      <td>13/11/2019</td>\n",
       "      <td>Hier, un homme a trouvé la mort dans un restau...</td>\n",
       "      <td>LeGorafi</td>\n",
       "      <td>Société</td>\n",
       "      <td>Cocaïne dans l’Atlantique – un homme fait une ...</td>\n",
       "      <td>http://www.legorafi.fr/2019/11/13/cocaine-dans...</td>\n",
       "    </tr>\n",
       "    <tr>\n",
       "      <th>15</th>\n",
       "      <td>La Rédaction</td>\n",
       "      <td>Le président de la firme américaine Hugh Grant...</td>\n",
       "      <td>03/12/2019</td>\n",
       "      <td>La société spécialisée dans la chimie et l’ali...</td>\n",
       "      <td>LeGorafi</td>\n",
       "      <td>Société</td>\n",
       "      <td>Bayer Monsanto rachète le stock d’armes chimiq...</td>\n",
       "      <td>http://www.legorafi.fr/2019/12/03/bayer-monsan...</td>\n",
       "    </tr>\n",
       "    <tr>\n",
       "      <th>16</th>\n",
       "      <td>La Rédaction</td>\n",
       "      <td>La maire de Paris, Anne Hidalgo, nous a reçu d...</td>\n",
       "      <td>12/11/2019</td>\n",
       "      <td>La Mairie de Paris a proposé de supprimer les ...</td>\n",
       "      <td>LeGorafi</td>\n",
       "      <td>Société</td>\n",
       "      <td>La ville de Paris propose de remplacer les ani...</td>\n",
       "      <td>http://www.legorafi.fr/2019/11/12/la-ville-de-...</td>\n",
       "    </tr>\n",
       "    <tr>\n",
       "      <th>17</th>\n",
       "      <td>La Rédaction</td>\n",
       "      <td>Les services du greffe ont ainsi enregistré un...</td>\n",
       "      <td>12/11/2019</td>\n",
       "      <td>BORDEAUX – Parallèlement à l’échouage de milli...</td>\n",
       "      <td>LeGorafi</td>\n",
       "      <td>Société</td>\n",
       "      <td>Cocaïne échouée : la côte Atlantique touchée p...</td>\n",
       "      <td>http://www.legorafi.fr/2019/11/12/cocaine-echo...</td>\n",
       "    </tr>\n",
       "    <tr>\n",
       "      <th>18</th>\n",
       "      <td>La Rédaction</td>\n",
       "      <td>Confortablement installés dans leur Bed &amp;amp; ...</td>\n",
       "      <td>24/10/2019</td>\n",
       "      <td>Bruno Guainou est un homme comblé. Depuis près...</td>\n",
       "      <td>LeGorafi</td>\n",
       "      <td>Société</td>\n",
       "      <td>Pour fêter leur un an de relation, il emmène s...</td>\n",
       "      <td>http://www.legorafi.fr/2019/10/24/pour-feter-l...</td>\n",
       "    </tr>\n",
       "    <tr>\n",
       "      <th>19</th>\n",
       "      <td>La Rédaction</td>\n",
       "      <td>Il est 8h. Les portes des galeries Lafayette s...</td>\n",
       "      <td>26/11/2019</td>\n",
       "      <td>Bad buzz pour les présentateurs de LCI et de C...</td>\n",
       "      <td>LeGorafi</td>\n",
       "      <td>Société</td>\n",
       "      <td>Black Friday : bagarre entre Pascal Praud et D...</td>\n",
       "      <td>http://www.legorafi.fr/2019/11/26/black-friday...</td>\n",
       "    </tr>\n",
       "    <tr>\n",
       "      <th>20</th>\n",
       "      <td>La Rédaction</td>\n",
       "      <td>« Honnêtement, on s’attendait à affronter de l...</td>\n",
       "      <td>18/10/2019</td>\n",
       "      <td>Strasbourg – Alors que la totalité de la class...</td>\n",
       "      <td>LeGorafi</td>\n",
       "      <td>Société</td>\n",
       "      <td>Profitant que la France soit plongée dans le d...</td>\n",
       "      <td>http://www.legorafi.fr/2019/10/18/profitant-qu...</td>\n",
       "    </tr>\n",
       "    <tr>\n",
       "      <th>21</th>\n",
       "      <td>La Rédaction</td>\n",
       "      <td>MAIS SI C’EST LUI, J’EN SUIS SÛR ! IL A DÛ SE ...</td>\n",
       "      <td>17/10/2019</td>\n",
       "      <td>MAIS SI REGARDEZ C’EST LUI, IL RESSEMBLE PAS T...</td>\n",
       "      <td>LeGorafi</td>\n",
       "      <td>Société</td>\n",
       "      <td>LÀ- BAS ! C’EST LUI ! JE L’AI RECONNU ! C’EST ...</td>\n",
       "      <td>http://www.legorafi.fr/2019/10/17/la-bas-cest-...</td>\n",
       "    </tr>\n",
       "    <tr>\n",
       "      <th>22</th>\n",
       "      <td>La Rédaction</td>\n",
       "      <td>Antoine, un passager qui était présent dans la...</td>\n",
       "      <td>15/10/2019</td>\n",
       "      <td>La scène s’est déroulée en plein après midi, h...</td>\n",
       "      <td>LeGorafi</td>\n",
       "      <td>Société</td>\n",
       "      <td>Quelqu’un a pété</td>\n",
       "      <td>http://www.legorafi.fr/2019/10/15/quelquun-a-p...</td>\n",
       "    </tr>\n",
       "    <tr>\n",
       "      <th>23</th>\n",
       "      <td>La Rédaction</td>\n",
       "      <td>« Oh my god, c’est amazing. Comment on dit déj...</td>\n",
       "      <td>14/10/2019</td>\n",
       "      <td>Suite à un voyage d’un mois outre-atlantique, ...</td>\n",
       "      <td>LeGorafi</td>\n",
       "      <td>Société</td>\n",
       "      <td>Elle ne trouve plus ses mots après avoir passé...</td>\n",
       "      <td>http://www.legorafi.fr/2019/10/14/elle-ne-trou...</td>\n",
       "    </tr>\n",
       "    <tr>\n",
       "      <th>24</th>\n",
       "      <td>La Rédaction</td>\n",
       "      <td>« On est encore sous le choc » confie Aurélien...</td>\n",
       "      <td>06/11/2019</td>\n",
       "      <td>Henri de Rougemont, 68 ans, s’est présenté en ...</td>\n",
       "      <td>LeGorafi</td>\n",
       "      <td>Société</td>\n",
       "      <td>Un Levalloisien s’immole par le feu devant la ...</td>\n",
       "      <td>http://www.legorafi.fr/2019/11/06/un-levallois...</td>\n",
       "    </tr>\n",
       "    <tr>\n",
       "      <th>25</th>\n",
       "      <td>La Rédaction</td>\n",
       "      <td>8h Debout ! Même si le travail est à distance,...</td>\n",
       "      <td>06/11/2019</td>\n",
       "      <td>Aujourd’hui, il est tout à fait possible de tr...</td>\n",
       "      <td>LeGorafi</td>\n",
       "      <td>Société</td>\n",
       "      <td>On a testé pour vous ….. le télétravail</td>\n",
       "      <td>http://www.legorafi.fr/2019/11/06/on-a-teste-p...</td>\n",
       "    </tr>\n",
       "    <tr>\n",
       "      <th>26</th>\n",
       "      <td>La Rédaction</td>\n",
       "      <td>La date du 1er novembre a donc été fixée pour ...</td>\n",
       "      <td>29/10/2019</td>\n",
       "      <td>Comme chaque hiver la grande faucheuse part en...</td>\n",
       "      <td>LeGorafi</td>\n",
       "      <td>Société</td>\n",
       "      <td>La mort sera en tournée dans plusieurs maisons...</td>\n",
       "      <td>http://www.legorafi.fr/2019/10/29/la-mort-sera...</td>\n",
       "    </tr>\n",
       "    <tr>\n",
       "      <th>27</th>\n",
       "      <td>La Rédaction</td>\n",
       "      <td>Réagissant à ces résultats, votre cortex infér...</td>\n",
       "      <td>21/10/2019</td>\n",
       "      <td>Selon un sondage IPSOS mené dans votre tête, l...</td>\n",
       "      <td>LeGorafi</td>\n",
       "      <td>Société</td>\n",
       "      <td>Enquête : Vous auriez dû prendre la quatre sai...</td>\n",
       "      <td>http://www.legorafi.fr/2019/10/21/enquete-vous...</td>\n",
       "    </tr>\n",
       "    <tr>\n",
       "      <th>28</th>\n",
       "      <td>La Rédaction</td>\n",
       "      <td>« Ça vous amuse vous ces mutilations de citrou...</td>\n",
       "      <td>29/10/2019</td>\n",
       "      <td>A l’approche d’Halloween, le militant antispéc...</td>\n",
       "      <td>LeGorafi</td>\n",
       "      <td>Société</td>\n",
       "      <td>Halloween – Aymeric Caron s’insurge contre la ...</td>\n",
       "      <td>http://www.legorafi.fr/2019/10/29/halloween-ay...</td>\n",
       "    </tr>\n",
       "    <tr>\n",
       "      <th>29</th>\n",
       "      <td>La Rédaction</td>\n",
       "      <td>« Mais puisque je vous dis que je viens parler...</td>\n",
       "      <td>31/10/2019</td>\n",
       "      <td>Brest – La polémique sur le voile en France co...</td>\n",
       "      <td>LeGorafi</td>\n",
       "      <td>Société</td>\n",
       "      <td>Voile – Un colloque universitaire sur la voile...</td>\n",
       "      <td>http://www.legorafi.fr/2019/10/31/voile-un-col...</td>\n",
       "    </tr>\n",
       "    <tr>\n",
       "      <th>...</th>\n",
       "      <td>...</td>\n",
       "      <td>...</td>\n",
       "      <td>...</td>\n",
       "      <td>...</td>\n",
       "      <td>...</td>\n",
       "      <td>...</td>\n",
       "      <td>...</td>\n",
       "      <td>...</td>\n",
       "    </tr>\n",
       "    <tr>\n",
       "      <th>947</th>\n",
       "      <td>Jean Deumerez</td>\n",
       "      <td>Après son refus catégorique d’autoriser le po...</td>\n",
       "      <td>2017-03-04</td>\n",
       "      <td>NaN</td>\n",
       "      <td>Buzzbeed</td>\n",
       "      <td>Vivre ensemble</td>\n",
       "      <td>Un localisateur GPS qui évitera bien des viols</td>\n",
       "      <td>https://www.buzzbeed.com/localisateur-gps-evit...</td>\n",
       "    </tr>\n",
       "    <tr>\n",
       "      <th>948</th>\n",
       "      <td>Jean Deumerez</td>\n",
       "      <td>Le roman d’anticipation de Laurent Obertone «...</td>\n",
       "      <td>2017-03-04</td>\n",
       "      <td>NaN</td>\n",
       "      <td>Buzzbeed</td>\n",
       "      <td>Vivre ensemble</td>\n",
       "      <td>Le roman « Guérilla » d’Obertone interdit de d...</td>\n",
       "      <td>https://www.buzzbeed.com/roman-guerilla-dobert...</td>\n",
       "    </tr>\n",
       "    <tr>\n",
       "      <th>949</th>\n",
       "      <td>Francis Tamboule</td>\n",
       "      <td>Tout s’accélère depuis quelques heures, et c’...</td>\n",
       "      <td>2017-03-03</td>\n",
       "      <td>NaN</td>\n",
       "      <td>Buzzbeed</td>\n",
       "      <td>Politique</td>\n",
       "      <td>FLASH : François Fillon s’est retranché à son ...</td>\n",
       "      <td>https://www.buzzbeed.com/flash-francois-fillon...</td>\n",
       "    </tr>\n",
       "    <tr>\n",
       "      <th>950</th>\n",
       "      <td>Francis Tamboule</td>\n",
       "      <td>Pendant que la candidate du Front National me...</td>\n",
       "      <td>2017-03-03</td>\n",
       "      <td>NaN</td>\n",
       "      <td>Buzzbeed</td>\n",
       "      <td>Fait divers</td>\n",
       "      <td>Alors que Marine Le Pen menace les fonctionnai...</td>\n",
       "      <td>https://www.buzzbeed.com/marine-pen-menace-fon...</td>\n",
       "    </tr>\n",
       "    <tr>\n",
       "      <th>951</th>\n",
       "      <td>Francis Lépante</td>\n",
       "      <td>Après des analyses poussées du Saint-Suaire, ...</td>\n",
       "      <td>2017-03-02</td>\n",
       "      <td>NaN</td>\n",
       "      <td>Buzzbeed</td>\n",
       "      <td>Insolite</td>\n",
       "      <td>Des scientifiques découvrent le véritable visa...</td>\n",
       "      <td>https://www.buzzbeed.com/des-scientifiques-dec...</td>\n",
       "    </tr>\n",
       "    <tr>\n",
       "      <th>952</th>\n",
       "      <td>Jean Deumerez</td>\n",
       "      <td>Une manifestante, Aurélie, étudiante en beaux...</td>\n",
       "      <td>2017-03-02</td>\n",
       "      <td>NaN</td>\n",
       "      <td>Buzzbeed</td>\n",
       "      <td>Justice sociale</td>\n",
       "      <td>Des jeunes Résistants manifestent contre le FN...</td>\n",
       "      <td>https://www.buzzbeed.com/manifestation-contre-...</td>\n",
       "    </tr>\n",
       "    <tr>\n",
       "      <th>953</th>\n",
       "      <td>Francis Lépante</td>\n",
       "      <td>C’est l’avis du comité “Les Jeunes avec Balla...</td>\n",
       "      <td>2017-03-03</td>\n",
       "      <td>NaN</td>\n",
       "      <td>Buzzbeed</td>\n",
       "      <td>Politique</td>\n",
       "      <td>Fillon qui se retire : un espoir pour Balladur ?</td>\n",
       "      <td>https://www.buzzbeed.com/fillon-se-retire-espo...</td>\n",
       "    </tr>\n",
       "    <tr>\n",
       "      <th>954</th>\n",
       "      <td>Jean Deumerez</td>\n",
       "      <td>Une source qui tient bien sûr à rester anonym...</td>\n",
       "      <td>2017-03-02</td>\n",
       "      <td>NaN</td>\n",
       "      <td>Buzzbeed</td>\n",
       "      <td>Politique</td>\n",
       "      <td>Les sponsors de Macron n’arrivent plus à le su...</td>\n",
       "      <td>https://www.buzzbeed.com/sponsors-de-macron-na...</td>\n",
       "    </tr>\n",
       "    <tr>\n",
       "      <th>955</th>\n",
       "      <td>Jean Deumerez</td>\n",
       "      <td>Emmanuel Macron, notre futur président, a déf...</td>\n",
       "      <td>2017-03-02</td>\n",
       "      <td>NaN</td>\n",
       "      <td>Buzzbeed</td>\n",
       "      <td>Politique</td>\n",
       "      <td>Macron défend son absence de programme</td>\n",
       "      <td>https://www.buzzbeed.com/macron-defend-absence...</td>\n",
       "    </tr>\n",
       "    <tr>\n",
       "      <th>956</th>\n",
       "      <td>Jean Deumerez</td>\n",
       "      <td>Le Président Hollande a déclaré vouloir dorén...</td>\n",
       "      <td>2017-03-02</td>\n",
       "      <td>NaN</td>\n",
       "      <td>Buzzbeed</td>\n",
       "      <td>Insolite</td>\n",
       "      <td>Hollande s’exprimera désormais sur Buzzbeed</td>\n",
       "      <td>https://www.buzzbeed.com/hollande-sexprimera-d...</td>\n",
       "    </tr>\n",
       "    <tr>\n",
       "      <th>957</th>\n",
       "      <td>Francis Tamboule</td>\n",
       "      <td>L’Etat islamique vient de publier un communiq...</td>\n",
       "      <td>2017-03-02</td>\n",
       "      <td>NaN</td>\n",
       "      <td>Buzzbeed</td>\n",
       "      <td>Fenêtre sur le monde</td>\n",
       "      <td>Daesh salue la levée de l’immunité parlementai...</td>\n",
       "      <td>https://www.buzzbeed.com/daesh-salue-levee-de-...</td>\n",
       "    </tr>\n",
       "    <tr>\n",
       "      <th>958</th>\n",
       "      <td>Gertrude Choufflard</td>\n",
       "      <td>BuzzFeed France a annoncé ce matin le recrute...</td>\n",
       "      <td>2017-02-28</td>\n",
       "      <td>NaN</td>\n",
       "      <td>Buzzbeed</td>\n",
       "      <td>Insolite</td>\n",
       "      <td>Révolution : BuzzFeed décide d’embaucher un jo...</td>\n",
       "      <td>https://www.buzzbeed.com/revolution-buzzfeed-d...</td>\n",
       "    </tr>\n",
       "    <tr>\n",
       "      <th>959</th>\n",
       "      <td>Francis Lépante</td>\n",
       "      <td>Le site d’extrême gauche BuzzFeed (avec un F)...</td>\n",
       "      <td>2017-02-28</td>\n",
       "      <td>NaN</td>\n",
       "      <td>Buzzbeed</td>\n",
       "      <td>Fake news</td>\n",
       "      <td>Méfiez-vous de BuzzFeed avec un F, le site qui...</td>\n",
       "      <td>https://www.buzzbeed.com/mefiez-vous-de-buzzfe...</td>\n",
       "    </tr>\n",
       "    <tr>\n",
       "      <th>960</th>\n",
       "      <td>Claudine Bouchicot</td>\n",
       "      <td>C’est une initiative singulière des pouvoirs ...</td>\n",
       "      <td>2017-02-26</td>\n",
       "      <td>NaN</td>\n",
       "      <td>Buzzbeed</td>\n",
       "      <td>Vivre ensemble</td>\n",
       "      <td>Des réserves de Blancs mises en place à Grigny</td>\n",
       "      <td>https://www.buzzbeed.com/reserves-de-blancs-mi...</td>\n",
       "    </tr>\n",
       "    <tr>\n",
       "      <th>961</th>\n",
       "      <td>Claudine Bouchicot</td>\n",
       "      <td>Elle a en effet exprimé son souhait de voir l...</td>\n",
       "      <td>2017-02-25</td>\n",
       "      <td>NaN</td>\n",
       "      <td>Buzzbeed</td>\n",
       "      <td>Uncategorized</td>\n",
       "      <td>Buffy Mars propose une émasculation générale p...</td>\n",
       "      <td>https://www.buzzbeed.com/buffy-mars-propose-em...</td>\n",
       "    </tr>\n",
       "    <tr>\n",
       "      <th>962</th>\n",
       "      <td>Jean Deumerez</td>\n",
       "      <td>Emmanuel Macron, prêt à tout pour ne pas la p...</td>\n",
       "      <td>2017-02-25</td>\n",
       "      <td>NaN</td>\n",
       "      <td>Buzzbeed</td>\n",
       "      <td>Économie</td>\n",
       "      <td>Macron propose d’augmenter les retraites avec ...</td>\n",
       "      <td>https://www.buzzbeed.com/macron-propose-daugme...</td>\n",
       "    </tr>\n",
       "    <tr>\n",
       "      <th>963</th>\n",
       "      <td>Claudine Bouchicot</td>\n",
       "      <td>Une affaire qui s’est déroulée hier dans le 5...</td>\n",
       "      <td>2017-02-25</td>\n",
       "      <td>NaN</td>\n",
       "      <td>Buzzbeed</td>\n",
       "      <td>Justice sociale</td>\n",
       "      <td>Il oublie de pleurer pour la colonisation : de...</td>\n",
       "      <td>https://www.buzzbeed.com/oublie-de-pleurer-col...</td>\n",
       "    </tr>\n",
       "    <tr>\n",
       "      <th>964</th>\n",
       "      <td>Jean Deumerez</td>\n",
       "      <td>Buzzbeed, un site de satire politique et soci...</td>\n",
       "      <td>2017-02-28</td>\n",
       "      <td>NaN</td>\n",
       "      <td>Buzzbeed</td>\n",
       "      <td>Fake news</td>\n",
       "      <td>Buzzbeed reçu au palmarès des meilleurs médias...</td>\n",
       "      <td>https://www.buzzbeed.com/buzzbeed-recu-au-palm...</td>\n",
       "    </tr>\n",
       "    <tr>\n",
       "      <th>965</th>\n",
       "      <td>Francis Lépante</td>\n",
       "      <td>Il s’appelle Benjamin. Au téléphone, il nous ...</td>\n",
       "      <td>2017-02-24</td>\n",
       "      <td>NaN</td>\n",
       "      <td>Buzzbeed</td>\n",
       "      <td>Insolite</td>\n",
       "      <td>La matraque de Théo en vente sur LeBonCoin</td>\n",
       "      <td>https://www.buzzbeed.com/la-matraque-de-theo-e...</td>\n",
       "    </tr>\n",
       "    <tr>\n",
       "      <th>966</th>\n",
       "      <td>Jean Deumerez</td>\n",
       "      <td>Alors que tous les candidats à l’élection pré...</td>\n",
       "      <td>2017-02-24</td>\n",
       "      <td>NaN</td>\n",
       "      <td>Buzzbeed</td>\n",
       "      <td>Fenêtre sur le monde</td>\n",
       "      <td>Un “séjour Djihad obligatoire” pour promouvoir...</td>\n",
       "      <td>https://www.buzzbeed.com/un-sejour-djihad-obli...</td>\n",
       "    </tr>\n",
       "    <tr>\n",
       "      <th>967</th>\n",
       "      <td>Claudine Bouchicot</td>\n",
       "      <td>C’est un drame qui s’est produit la nuit dern...</td>\n",
       "      <td>2017-02-24</td>\n",
       "      <td>NaN</td>\n",
       "      <td>Buzzbeed</td>\n",
       "      <td>Fait divers</td>\n",
       "      <td>Elle ramène un Blanc à la maison : son père la...</td>\n",
       "      <td>https://www.buzzbeed.com/ramene-blanc-a-maison...</td>\n",
       "    </tr>\n",
       "    <tr>\n",
       "      <th>968</th>\n",
       "      <td>Gertrude Choufflard</td>\n",
       "      <td>Un document saisissant qui devrait définitive...</td>\n",
       "      <td>2017-02-24</td>\n",
       "      <td>NaN</td>\n",
       "      <td>Buzzbeed</td>\n",
       "      <td>Justice sociale</td>\n",
       "      <td>Document exclusif : la grand-mère de Théo étai...</td>\n",
       "      <td>https://www.buzzbeed.com/document-exclusif-gra...</td>\n",
       "    </tr>\n",
       "    <tr>\n",
       "      <th>969</th>\n",
       "      <td>Jean Deumerez</td>\n",
       "      <td>L’État, ou plutôt la cohorte de ses hauts fon...</td>\n",
       "      <td>2017-02-23</td>\n",
       "      <td>NaN</td>\n",
       "      <td>Buzzbeed</td>\n",
       "      <td>Économie</td>\n",
       "      <td>Macron veut faire payer un loyer aux propriéta...</td>\n",
       "      <td>https://www.buzzbeed.com/macron-veut-faire-pay...</td>\n",
       "    </tr>\n",
       "    <tr>\n",
       "      <th>970</th>\n",
       "      <td>Francis Tamboule</td>\n",
       "      <td>À l’origine de cette touchante initiative, Ar...</td>\n",
       "      <td>2017-02-23</td>\n",
       "      <td>NaN</td>\n",
       "      <td>Buzzbeed</td>\n",
       "      <td>Insolite</td>\n",
       "      <td>Des lycéens organisent une ronde en forme d’an...</td>\n",
       "      <td>https://www.buzzbeed.com/lyceens-organisent-ro...</td>\n",
       "    </tr>\n",
       "    <tr>\n",
       "      <th>971</th>\n",
       "      <td>Francis Lépante</td>\n",
       "      <td>D’après les déclarations recueillies auprès d...</td>\n",
       "      <td>2017-02-22</td>\n",
       "      <td>NaN</td>\n",
       "      <td>Buzzbeed</td>\n",
       "      <td>Fenêtre sur le monde</td>\n",
       "      <td>Sur 9 réfugiés syriens, 7 sont diplômés des ét...</td>\n",
       "      <td>https://www.buzzbeed.com/sur-9-refugies-syrien...</td>\n",
       "    </tr>\n",
       "    <tr>\n",
       "      <th>972</th>\n",
       "      <td>Francis Lépante</td>\n",
       "      <td>Le Liban a dépassé l’Egypte au classement des...</td>\n",
       "      <td>2017-02-23</td>\n",
       "      <td>NaN</td>\n",
       "      <td>Buzzbeed</td>\n",
       "      <td>Fenêtre sur le monde</td>\n",
       "      <td>97% de Libanaises refaites : L’ONU demande au ...</td>\n",
       "      <td>https://www.buzzbeed.com/97-de-libanaises-refa...</td>\n",
       "    </tr>\n",
       "    <tr>\n",
       "      <th>973</th>\n",
       "      <td>Francis Lépante</td>\n",
       "      <td>“C’est pas une Syrienne, c’est une Rom !” di...</td>\n",
       "      <td>2017-02-20</td>\n",
       "      <td>NaN</td>\n",
       "      <td>Buzzbeed</td>\n",
       "      <td>Fait divers</td>\n",
       "      <td>Un réfugié syrien humilie et empêche une famil...</td>\n",
       "      <td>https://www.buzzbeed.com/refugie-syrien-humili...</td>\n",
       "    </tr>\n",
       "    <tr>\n",
       "      <th>974</th>\n",
       "      <td>Gertrude Choufflard</td>\n",
       "      <td>Ce matin, lors de l’ouverture de la séance à ...</td>\n",
       "      <td>2017-02-20</td>\n",
       "      <td>NaN</td>\n",
       "      <td>Buzzbeed</td>\n",
       "      <td>Insolite</td>\n",
       "      <td>Mehdi Meklat lance une banane à Christiane Tau...</td>\n",
       "      <td>https://www.buzzbeed.com/mehdi-meklat-lance-un...</td>\n",
       "    </tr>\n",
       "    <tr>\n",
       "      <th>975</th>\n",
       "      <td>Francis Tamboule</td>\n",
       "      <td>Lors d’une visite internationale en Afghanist...</td>\n",
       "      <td>2017-02-22</td>\n",
       "      <td>NaN</td>\n",
       "      <td>Buzzbeed</td>\n",
       "      <td>Fenêtre sur le monde</td>\n",
       "      <td>En visite en Afghanistan, Marine Le Pen refuse...</td>\n",
       "      <td>https://www.buzzbeed.com/visite-afghanistan-ma...</td>\n",
       "    </tr>\n",
       "    <tr>\n",
       "      <th>976</th>\n",
       "      <td>Francis Tamboule</td>\n",
       "      <td>C’est dans la nuit de vendredi à samedi derni...</td>\n",
       "      <td>2017-02-20</td>\n",
       "      <td>NaN</td>\n",
       "      <td>Buzzbeed</td>\n",
       "      <td>Insolite</td>\n",
       "      <td>Insolite : il supprime 50 000 tweets en une nu...</td>\n",
       "      <td>https://www.buzzbeed.com/insolite-supprime-50-...</td>\n",
       "    </tr>\n",
       "  </tbody>\n",
       "</table>\n",
       "<p>977 rows × 8 columns</p>\n",
       "</div>"
      ],
      "text/plain": [
       "                  author                                               body  \\\n",
       "0           La Rédaction  « Mes équipes sentaient le malaise s’installer...   \n",
       "1           La Rédaction  Oui, car Mathias a économisé pas moins de 5 eu...   \n",
       "2           La Rédaction  1/ Faire un beau chèque en s’appliquant pour l...   \n",
       "3           La Rédaction  \\nwindow.beOpAsyncInit = function() {\\n  BeOpS...   \n",
       "4           La Rédaction  Selon les services sanitaires, se sont plusieu...   \n",
       "5           La Rédaction  Il y aura eu des joies, des peines, de l’espoi...   \n",
       "6           La Rédaction  Ainsi les chauffeurs sont autorisés à prendre ...   \n",
       "7           La Rédaction  C’est lors du cours d’anglais de M. Pochat que...   \n",
       "8           La Rédaction  « L’idée n’est évidemment pas de restreindre l...   \n",
       "9           La Rédaction  Agissant avec une cruauté sans pareille et un ...   \n",
       "10          La Rédaction  Selon son entourage, Lydia N. était une fille ...   \n",
       "11          La Rédaction  Face à la polémique suscitée par cette annonce...   \n",
       "12          La Rédaction  La retraite à taux plein n’est pas enterrée, e...   \n",
       "13          La Rédaction  \\nwindow.beOpinionAsyncInit = function() {\\n  ...   \n",
       "14          La Rédaction  « On est tous sous le choc. Le client se régal...   \n",
       "15          La Rédaction  Le président de la firme américaine Hugh Grant...   \n",
       "16          La Rédaction  La maire de Paris, Anne Hidalgo, nous a reçu d...   \n",
       "17          La Rédaction  Les services du greffe ont ainsi enregistré un...   \n",
       "18          La Rédaction  Confortablement installés dans leur Bed &amp; ...   \n",
       "19          La Rédaction  Il est 8h. Les portes des galeries Lafayette s...   \n",
       "20          La Rédaction  « Honnêtement, on s’attendait à affronter de l...   \n",
       "21          La Rédaction  MAIS SI C’EST LUI, J’EN SUIS SÛR ! IL A DÛ SE ...   \n",
       "22          La Rédaction  Antoine, un passager qui était présent dans la...   \n",
       "23          La Rédaction  « Oh my god, c’est amazing. Comment on dit déj...   \n",
       "24          La Rédaction  « On est encore sous le choc » confie Aurélien...   \n",
       "25          La Rédaction  8h Debout ! Même si le travail est à distance,...   \n",
       "26          La Rédaction  La date du 1er novembre a donc été fixée pour ...   \n",
       "27          La Rédaction  Réagissant à ces résultats, votre cortex infér...   \n",
       "28          La Rédaction  « Ça vous amuse vous ces mutilations de citrou...   \n",
       "29          La Rédaction  « Mais puisque je vous dis que je viens parler...   \n",
       "..                   ...                                                ...   \n",
       "947        Jean Deumerez   Après son refus catégorique d’autoriser le po...   \n",
       "948        Jean Deumerez   Le roman d’anticipation de Laurent Obertone «...   \n",
       "949     Francis Tamboule   Tout s’accélère depuis quelques heures, et c’...   \n",
       "950     Francis Tamboule   Pendant que la candidate du Front National me...   \n",
       "951      Francis Lépante   Après des analyses poussées du Saint-Suaire, ...   \n",
       "952        Jean Deumerez   Une manifestante, Aurélie, étudiante en beaux...   \n",
       "953      Francis Lépante   C’est l’avis du comité “Les Jeunes avec Balla...   \n",
       "954        Jean Deumerez   Une source qui tient bien sûr à rester anonym...   \n",
       "955        Jean Deumerez   Emmanuel Macron, notre futur président, a déf...   \n",
       "956        Jean Deumerez   Le Président Hollande a déclaré vouloir dorén...   \n",
       "957     Francis Tamboule   L’Etat islamique vient de publier un communiq...   \n",
       "958  Gertrude Choufflard   BuzzFeed France a annoncé ce matin le recrute...   \n",
       "959      Francis Lépante   Le site d’extrême gauche BuzzFeed (avec un F)...   \n",
       "960   Claudine Bouchicot   C’est une initiative singulière des pouvoirs ...   \n",
       "961   Claudine Bouchicot   Elle a en effet exprimé son souhait de voir l...   \n",
       "962        Jean Deumerez   Emmanuel Macron, prêt à tout pour ne pas la p...   \n",
       "963   Claudine Bouchicot   Une affaire qui s’est déroulée hier dans le 5...   \n",
       "964        Jean Deumerez   Buzzbeed, un site de satire politique et soci...   \n",
       "965      Francis Lépante   Il s’appelle Benjamin. Au téléphone, il nous ...   \n",
       "966        Jean Deumerez   Alors que tous les candidats à l’élection pré...   \n",
       "967   Claudine Bouchicot   C’est un drame qui s’est produit la nuit dern...   \n",
       "968  Gertrude Choufflard   Un document saisissant qui devrait définitive...   \n",
       "969        Jean Deumerez   L’État, ou plutôt la cohorte de ses hauts fon...   \n",
       "970     Francis Tamboule   À l’origine de cette touchante initiative, Ar...   \n",
       "971      Francis Lépante   D’après les déclarations recueillies auprès d...   \n",
       "972      Francis Lépante   Le Liban a dépassé l’Egypte au classement des...   \n",
       "973      Francis Lépante    “C’est pas une Syrienne, c’est une Rom !” di...   \n",
       "974  Gertrude Choufflard   Ce matin, lors de l’ouverture de la séance à ...   \n",
       "975     Francis Tamboule   Lors d’une visite internationale en Afghanist...   \n",
       "976     Francis Tamboule   C’est dans la nuit de vendredi à samedi derni...   \n",
       "\n",
       "    date_published                                        description  \\\n",
       "0       19/12/2019  Afin d’être plus en phase avec l’actualité, le...   \n",
       "1       10/12/2019  Alors qu’il rentrait d’un week-end, Mathias a ...   \n",
       "2       17/12/2019  L’échec amoureux n’a plus de secret pour vous ...   \n",
       "3       12/12/2019  Depuis les annonces d’Edouard Philippe, vous v...   \n",
       "4       11/12/2019  Paris – La chaîne de restauration rapide lancé...   \n",
       "5       04/12/2019  Après des années de recherche, Richard va enfi...   \n",
       "6       19/12/2019  Paris – Pour aider les Français à pouvoir prof...   \n",
       "7       02/12/2019  La rumeur s’est répandue tôt ce matin comme un...   \n",
       "8       14/11/2019  Après l’annulation de la venue de Sylviane Aga...   \n",
       "9       29/11/2019  (El Mundo Today) – Des milliers de pétroliers ...   \n",
       "10      07/11/2019  Limoges – Lydia N., 31 ans, actuellement vende...   \n",
       "11      03/12/2019  Plusieurs associations de protection animale l...   \n",
       "12      18/11/2019  Afin de faire oublier les récents couacs conce...   \n",
       "13      04/11/2019  Vous avez hâte que votre être sans valeur soit...   \n",
       "14      13/11/2019  Hier, un homme a trouvé la mort dans un restau...   \n",
       "15      03/12/2019  La société spécialisée dans la chimie et l’ali...   \n",
       "16      12/11/2019  La Mairie de Paris a proposé de supprimer les ...   \n",
       "17      12/11/2019  BORDEAUX – Parallèlement à l’échouage de milli...   \n",
       "18      24/10/2019  Bruno Guainou est un homme comblé. Depuis près...   \n",
       "19      26/11/2019  Bad buzz pour les présentateurs de LCI et de C...   \n",
       "20      18/10/2019  Strasbourg – Alors que la totalité de la class...   \n",
       "21      17/10/2019  MAIS SI REGARDEZ C’EST LUI, IL RESSEMBLE PAS T...   \n",
       "22      15/10/2019  La scène s’est déroulée en plein après midi, h...   \n",
       "23      14/10/2019  Suite à un voyage d’un mois outre-atlantique, ...   \n",
       "24      06/11/2019  Henri de Rougemont, 68 ans, s’est présenté en ...   \n",
       "25      06/11/2019  Aujourd’hui, il est tout à fait possible de tr...   \n",
       "26      29/10/2019  Comme chaque hiver la grande faucheuse part en...   \n",
       "27      21/10/2019  Selon un sondage IPSOS mené dans votre tête, l...   \n",
       "28      29/10/2019  A l’approche d’Halloween, le militant antispéc...   \n",
       "29      31/10/2019  Brest – La polémique sur le voile en France co...   \n",
       "..             ...                                                ...   \n",
       "947     2017-03-04                                                NaN   \n",
       "948     2017-03-04                                                NaN   \n",
       "949     2017-03-03                                                NaN   \n",
       "950     2017-03-03                                                NaN   \n",
       "951     2017-03-02                                                NaN   \n",
       "952     2017-03-02                                                NaN   \n",
       "953     2017-03-03                                                NaN   \n",
       "954     2017-03-02                                                NaN   \n",
       "955     2017-03-02                                                NaN   \n",
       "956     2017-03-02                                                NaN   \n",
       "957     2017-03-02                                                NaN   \n",
       "958     2017-02-28                                                NaN   \n",
       "959     2017-02-28                                                NaN   \n",
       "960     2017-02-26                                                NaN   \n",
       "961     2017-02-25                                                NaN   \n",
       "962     2017-02-25                                                NaN   \n",
       "963     2017-02-25                                                NaN   \n",
       "964     2017-02-28                                                NaN   \n",
       "965     2017-02-24                                                NaN   \n",
       "966     2017-02-24                                                NaN   \n",
       "967     2017-02-24                                                NaN   \n",
       "968     2017-02-24                                                NaN   \n",
       "969     2017-02-23                                                NaN   \n",
       "970     2017-02-23                                                NaN   \n",
       "971     2017-02-22                                                NaN   \n",
       "972     2017-02-23                                                NaN   \n",
       "973     2017-02-20                                                NaN   \n",
       "974     2017-02-20                                                NaN   \n",
       "975     2017-02-22                                                NaN   \n",
       "976     2017-02-20                                                NaN   \n",
       "\n",
       "       source                 theme  \\\n",
       "0    LeGorafi               Société   \n",
       "1    LeGorafi               Société   \n",
       "2    LeGorafi               Société   \n",
       "3    LeGorafi               Société   \n",
       "4    LeGorafi               Société   \n",
       "5    LeGorafi               Société   \n",
       "6    LeGorafi               Société   \n",
       "7    LeGorafi               Société   \n",
       "8    LeGorafi               Société   \n",
       "9    LeGorafi               Société   \n",
       "10   LeGorafi               Société   \n",
       "11   LeGorafi               Société   \n",
       "12   LeGorafi               Société   \n",
       "13   LeGorafi               Société   \n",
       "14   LeGorafi               Société   \n",
       "15   LeGorafi               Société   \n",
       "16   LeGorafi               Société   \n",
       "17   LeGorafi               Société   \n",
       "18   LeGorafi               Société   \n",
       "19   LeGorafi               Société   \n",
       "20   LeGorafi               Société   \n",
       "21   LeGorafi               Société   \n",
       "22   LeGorafi               Société   \n",
       "23   LeGorafi               Société   \n",
       "24   LeGorafi               Société   \n",
       "25   LeGorafi               Société   \n",
       "26   LeGorafi               Société   \n",
       "27   LeGorafi               Société   \n",
       "28   LeGorafi               Société   \n",
       "29   LeGorafi               Société   \n",
       "..        ...                   ...   \n",
       "947  Buzzbeed        Vivre ensemble   \n",
       "948  Buzzbeed        Vivre ensemble   \n",
       "949  Buzzbeed             Politique   \n",
       "950  Buzzbeed           Fait divers   \n",
       "951  Buzzbeed              Insolite   \n",
       "952  Buzzbeed       Justice sociale   \n",
       "953  Buzzbeed             Politique   \n",
       "954  Buzzbeed             Politique   \n",
       "955  Buzzbeed             Politique   \n",
       "956  Buzzbeed              Insolite   \n",
       "957  Buzzbeed  Fenêtre sur le monde   \n",
       "958  Buzzbeed              Insolite   \n",
       "959  Buzzbeed             Fake news   \n",
       "960  Buzzbeed        Vivre ensemble   \n",
       "961  Buzzbeed         Uncategorized   \n",
       "962  Buzzbeed              Économie   \n",
       "963  Buzzbeed       Justice sociale   \n",
       "964  Buzzbeed             Fake news   \n",
       "965  Buzzbeed              Insolite   \n",
       "966  Buzzbeed  Fenêtre sur le monde   \n",
       "967  Buzzbeed           Fait divers   \n",
       "968  Buzzbeed       Justice sociale   \n",
       "969  Buzzbeed              Économie   \n",
       "970  Buzzbeed              Insolite   \n",
       "971  Buzzbeed  Fenêtre sur le monde   \n",
       "972  Buzzbeed  Fenêtre sur le monde   \n",
       "973  Buzzbeed           Fait divers   \n",
       "974  Buzzbeed              Insolite   \n",
       "975  Buzzbeed  Fenêtre sur le monde   \n",
       "976  Buzzbeed              Insolite   \n",
       "\n",
       "                                                 title  \\\n",
       "0    Noël – Pour coller à la réalité, les magasins ...   \n",
       "1    Il économise 5 euros en achetant au duty-free ...   \n",
       "2    Psycho : Comment guérir d’un chagrin d’amour e...   \n",
       "3    Test : quel est l’âge idéal pour mourir avant ...   \n",
       "4    Plusieurs Burger Quiz fermés après une visite ...   \n",
       "5    Depuis 6 ans il tourne dans un parking Vinci p...   \n",
       "6    Le gouvernement autorise les chauffeurs des bu...   \n",
       "7        Collège – Le nouveau a l’air vraiment bizarre   \n",
       "8    Universités : les conférenciers invités pour d...   \n",
       "9    Greta Thunberg coule cinq pétroliers et détour...   \n",
       "10   Une inconsciente divorce alors qu’elle ne gagn...   \n",
       "11   Kinder va proposer des animaux vivants dans se...   \n",
       "12   Les retraités pourront bénéficier d’une pensio...   \n",
       "13    Test : par quel robot allez-vous être remplacé ?   \n",
       "14   Cocaïne dans l’Atlantique – un homme fait une ...   \n",
       "15   Bayer Monsanto rachète le stock d’armes chimiq...   \n",
       "16   La ville de Paris propose de remplacer les ani...   \n",
       "17   Cocaïne échouée : la côte Atlantique touchée p...   \n",
       "18   Pour fêter leur un an de relation, il emmène s...   \n",
       "19   Black Friday : bagarre entre Pascal Praud et D...   \n",
       "20   Profitant que la France soit plongée dans le d...   \n",
       "21   LÀ- BAS ! C’EST LUI ! JE L’AI RECONNU ! C’EST ...   \n",
       "22                                    Quelqu’un a pété   \n",
       "23   Elle ne trouve plus ses mots après avoir passé...   \n",
       "24   Un Levalloisien s’immole par le feu devant la ...   \n",
       "25             On a testé pour vous ….. le télétravail   \n",
       "26   La mort sera en tournée dans plusieurs maisons...   \n",
       "27   Enquête : Vous auriez dû prendre la quatre sai...   \n",
       "28   Halloween – Aymeric Caron s’insurge contre la ...   \n",
       "29   Voile – Un colloque universitaire sur la voile...   \n",
       "..                                                 ...   \n",
       "947     Un localisateur GPS qui évitera bien des viols   \n",
       "948  Le roman « Guérilla » d’Obertone interdit de d...   \n",
       "949  FLASH : François Fillon s’est retranché à son ...   \n",
       "950  Alors que Marine Le Pen menace les fonctionnai...   \n",
       "951  Des scientifiques découvrent le véritable visa...   \n",
       "952  Des jeunes Résistants manifestent contre le FN...   \n",
       "953   Fillon qui se retire : un espoir pour Balladur ?   \n",
       "954  Les sponsors de Macron n’arrivent plus à le su...   \n",
       "955             Macron défend son absence de programme   \n",
       "956        Hollande s’exprimera désormais sur Buzzbeed   \n",
       "957  Daesh salue la levée de l’immunité parlementai...   \n",
       "958  Révolution : BuzzFeed décide d’embaucher un jo...   \n",
       "959  Méfiez-vous de BuzzFeed avec un F, le site qui...   \n",
       "960     Des réserves de Blancs mises en place à Grigny   \n",
       "961  Buffy Mars propose une émasculation générale p...   \n",
       "962  Macron propose d’augmenter les retraites avec ...   \n",
       "963  Il oublie de pleurer pour la colonisation : de...   \n",
       "964  Buzzbeed reçu au palmarès des meilleurs médias...   \n",
       "965         La matraque de Théo en vente sur LeBonCoin   \n",
       "966  Un “séjour Djihad obligatoire” pour promouvoir...   \n",
       "967  Elle ramène un Blanc à la maison : son père la...   \n",
       "968  Document exclusif : la grand-mère de Théo étai...   \n",
       "969  Macron veut faire payer un loyer aux propriéta...   \n",
       "970  Des lycéens organisent une ronde en forme d’an...   \n",
       "971  Sur 9 réfugiés syriens, 7 sont diplômés des ét...   \n",
       "972  97% de Libanaises refaites : L’ONU demande au ...   \n",
       "973  Un réfugié syrien humilie et empêche une famil...   \n",
       "974  Mehdi Meklat lance une banane à Christiane Tau...   \n",
       "975  En visite en Afghanistan, Marine Le Pen refuse...   \n",
       "976  Insolite : il supprime 50 000 tweets en une nu...   \n",
       "\n",
       "                                                   url  \n",
       "0    http://www.legorafi.fr/2019/12/19/noel-pour-co...  \n",
       "1    http://www.legorafi.fr/2019/12/10/il-economise...  \n",
       "2    http://www.legorafi.fr/2019/12/17/psycho-comme...  \n",
       "3    http://www.legorafi.fr/2019/12/12/test-quel-es...  \n",
       "4    http://www.legorafi.fr/2019/12/11/plusieurs-bu...  \n",
       "5    http://www.legorafi.fr/2019/12/04/depuis-6-ans...  \n",
       "6    http://www.legorafi.fr/2019/12/19/le-gouvernem...  \n",
       "7    http://www.legorafi.fr/2019/12/02/college-le-n...  \n",
       "8    http://www.legorafi.fr/2019/11/14/universites-...  \n",
       "9    http://www.legorafi.fr/2019/11/29/greta-thunbe...  \n",
       "10   http://www.legorafi.fr/2019/11/07/une-inconsci...  \n",
       "11   http://www.legorafi.fr/2019/12/03/kinder-va-pr...  \n",
       "12   http://www.legorafi.fr/2019/11/18/les-retraite...  \n",
       "13   http://www.legorafi.fr/2019/11/04/test-par-que...  \n",
       "14   http://www.legorafi.fr/2019/11/13/cocaine-dans...  \n",
       "15   http://www.legorafi.fr/2019/12/03/bayer-monsan...  \n",
       "16   http://www.legorafi.fr/2019/11/12/la-ville-de-...  \n",
       "17   http://www.legorafi.fr/2019/11/12/cocaine-echo...  \n",
       "18   http://www.legorafi.fr/2019/10/24/pour-feter-l...  \n",
       "19   http://www.legorafi.fr/2019/11/26/black-friday...  \n",
       "20   http://www.legorafi.fr/2019/10/18/profitant-qu...  \n",
       "21   http://www.legorafi.fr/2019/10/17/la-bas-cest-...  \n",
       "22   http://www.legorafi.fr/2019/10/15/quelquun-a-p...  \n",
       "23   http://www.legorafi.fr/2019/10/14/elle-ne-trou...  \n",
       "24   http://www.legorafi.fr/2019/11/06/un-levallois...  \n",
       "25   http://www.legorafi.fr/2019/11/06/on-a-teste-p...  \n",
       "26   http://www.legorafi.fr/2019/10/29/la-mort-sera...  \n",
       "27   http://www.legorafi.fr/2019/10/21/enquete-vous...  \n",
       "28   http://www.legorafi.fr/2019/10/29/halloween-ay...  \n",
       "29   http://www.legorafi.fr/2019/10/31/voile-un-col...  \n",
       "..                                                 ...  \n",
       "947  https://www.buzzbeed.com/localisateur-gps-evit...  \n",
       "948  https://www.buzzbeed.com/roman-guerilla-dobert...  \n",
       "949  https://www.buzzbeed.com/flash-francois-fillon...  \n",
       "950  https://www.buzzbeed.com/marine-pen-menace-fon...  \n",
       "951  https://www.buzzbeed.com/des-scientifiques-dec...  \n",
       "952  https://www.buzzbeed.com/manifestation-contre-...  \n",
       "953  https://www.buzzbeed.com/fillon-se-retire-espo...  \n",
       "954  https://www.buzzbeed.com/sponsors-de-macron-na...  \n",
       "955  https://www.buzzbeed.com/macron-defend-absence...  \n",
       "956  https://www.buzzbeed.com/hollande-sexprimera-d...  \n",
       "957  https://www.buzzbeed.com/daesh-salue-levee-de-...  \n",
       "958  https://www.buzzbeed.com/revolution-buzzfeed-d...  \n",
       "959  https://www.buzzbeed.com/mefiez-vous-de-buzzfe...  \n",
       "960  https://www.buzzbeed.com/reserves-de-blancs-mi...  \n",
       "961  https://www.buzzbeed.com/buffy-mars-propose-em...  \n",
       "962  https://www.buzzbeed.com/macron-propose-daugme...  \n",
       "963  https://www.buzzbeed.com/oublie-de-pleurer-col...  \n",
       "964  https://www.buzzbeed.com/buzzbeed-recu-au-palm...  \n",
       "965  https://www.buzzbeed.com/la-matraque-de-theo-e...  \n",
       "966  https://www.buzzbeed.com/un-sejour-djihad-obli...  \n",
       "967  https://www.buzzbeed.com/ramene-blanc-a-maison...  \n",
       "968  https://www.buzzbeed.com/document-exclusif-gra...  \n",
       "969  https://www.buzzbeed.com/macron-veut-faire-pay...  \n",
       "970  https://www.buzzbeed.com/lyceens-organisent-ro...  \n",
       "971  https://www.buzzbeed.com/sur-9-refugies-syrien...  \n",
       "972  https://www.buzzbeed.com/97-de-libanaises-refa...  \n",
       "973  https://www.buzzbeed.com/refugie-syrien-humili...  \n",
       "974  https://www.buzzbeed.com/mehdi-meklat-lance-un...  \n",
       "975  https://www.buzzbeed.com/visite-afghanistan-ma...  \n",
       "976  https://www.buzzbeed.com/insolite-supprime-50-...  \n",
       "\n",
       "[977 rows x 8 columns]"
      ]
     },
     "execution_count": 199,
     "metadata": {},
     "output_type": "execute_result"
    }
   ],
   "source": [
    "df_fake = pd.concat([df_gorafi_soc, df_gorafi_pol, df_nordpresse, \n",
    "         df_buzzbeed], ignore_index=True)\n",
    "df_fake"
   ]
  },
  {
   "cell_type": "markdown",
   "metadata": {},
   "source": [
    "#### Delete NaN body"
   ]
  },
  {
   "cell_type": "code",
   "execution_count": 204,
   "metadata": {},
   "outputs": [
    {
     "data": {
      "text/plain": [
       "32"
      ]
     },
     "execution_count": 204,
     "metadata": {},
     "output_type": "execute_result"
    }
   ],
   "source": [
    "df_fake[df_fake[\"body\"].isna()].shape[0]"
   ]
  },
  {
   "cell_type": "code",
   "execution_count": 205,
   "metadata": {},
   "outputs": [],
   "source": [
    "df_fake.dropna(subset=['body'], inplace=True)"
   ]
  },
  {
   "cell_type": "code",
   "execution_count": 206,
   "metadata": {},
   "outputs": [
    {
     "data": {
      "text/plain": [
       "0"
      ]
     },
     "execution_count": 206,
     "metadata": {},
     "output_type": "execute_result"
    }
   ],
   "source": [
    "df_fake[df_fake[\"body\"].isna()].shape[0]"
   ]
  },
  {
   "cell_type": "code",
   "execution_count": 208,
   "metadata": {},
   "outputs": [
    {
     "data": {
      "text/plain": [
       "945"
      ]
     },
     "execution_count": 208,
     "metadata": {},
     "output_type": "execute_result"
    }
   ],
   "source": [
    "df_fake.shape[0]"
   ]
  },
  {
   "cell_type": "code",
   "execution_count": 211,
   "metadata": {},
   "outputs": [
    {
     "data": {
      "text/plain": [
       "928"
      ]
     },
     "execution_count": 211,
     "metadata": {},
     "output_type": "execute_result"
    }
   ],
   "source": [
    "df_fake[\"body\"].nunique()"
   ]
  },
  {
   "cell_type": "code",
   "execution_count": 213,
   "metadata": {
    "scrolled": false
   },
   "outputs": [
    {
     "data": {
      "text/plain": [
       "\\nwindow.beOpinionAsyncInit = function() {\\n  BeOpinionSDK.init({\\n    account: \"589c71a4d068331ee05ac9fd\"\\n  });\\n  BeOpinionSDK.watch();\\n};\\n\\n                                                                                                                                                                                                                                                                                                                                                                                                                                                                                                                                                                                                                                                                                                                                                                                                                                                                                                                                                                                                                                                                                                                                                                                                                                                                                                                                                                                                                                                                                                                                                                                                                                                                                                                                                                                                                                                                                                                                                                                                                                                                                                                                                                                                                                                                                                                                 13\n",
       "\\nwindow.beOpinionAsyncInit = function() {\\n  BeOpinionSDK.init({\\n    account: \"589c71a4d068331ee05ac9fd\"\\n  });\\n  BeOpinionSDK.watch();\\n};\\n\\n En vente partout La Boîte à Quiz du Gorafi https://amzn.to/2Uviaua et l’Almanach du Gorafi https://amzn.to/2RYfbgR ou en librairies                                                                                                                                                                                                                                                                                                                                                                                                                                                                                                                                                                                                                                                                                                                                                                                                                                                                                                                                                                                                                                                                                                                                                                                                                                                                                                                                                                                                                                                                                                                                                                                                                                                                                                                                                                                                                                                                                                                                                                                                                                                                                                                                                                                              4\n",
       "                                                                                                                                                                                                                                                                                                                                                                                                                                                                                                                                                                                                                                                                                                                                                                                                                                                                                                                                                                                                                                                                                                                                                                                                                                                                                                                                                                                                                                                                                                                                                                                                                                                                                                                                                                                                                                                                                                                                                                                                                                                                                                                                                                                                                                                                                                                                                                                                                                                                                    2\n",
       "Dans un entretien accordé à BFMTV, la directrice générale de Lubrizol, Isabelle Striga, a assuré que l’entreprise avait « fait beaucoup d’efforts pour nettoyer » le périmètre touché par l’incendie. Elle assure que la qualité de l’air est aujourd’hui « bien meilleure » que le jour du sinistre.\\nPrès de deux semaines après l’incendie qui a ravagé l’usine Lubrizol à Rouen, la ministre des Solidarités et de la Santé Agnès Buzyn a annoncé que des taux de dioxine « plus importants que la normale » mais « en dessous des seuils de toxicité » ont été relevés à 15 km de Rouen le jour du sinistre. Interrogée par BFMTV, la directrice générale de Lubrizol, Isabelle Striga, se montre toutefois perplexe sur l’origine de cette pollution à la dioxine: « il va falloir prouver que c’est une pollution liée à l’incendie parce qu’il n’y a jamais eu d’usine Lubrizol à Rouen, ou montrez-la moi », indique-t-elle. « La priorité est à la sécurisation et au nettoyage du site »\\nReconnaissant que cet incendie « est un choc pour l’entreprise », la dirigeante tient toutefois à rassurer sur l’évolution de la situation: « Nous prenons en charge les études qui sont nécessaires aujourd’hui. Nous travaillons avec les services de l’État pour prendre en charge tout ce qu’on pourra prendre en charge pour aider la population. La qualité de l’air est bien meilleure que le jour de l’incendie, nous avons fait beaucoup d’efforts pour nettoyer les zones en feu: tout ça génère des odeurs », explique-t-elle pour justifier les odeurs incommodantes qui persistent sur la ville normande. Selon elle, 400 salariés « sont mobilisés pour nettoyer dans la gestion périphérique du site ». Et d’assurer que « la priorité est à la sécurisation et au nettoyage du site ». Lubrizol « a l’intention de contribuer à un fonds d’indemnisations des citoyens »\\nIsabelle Striga rappelle que, l’usine étant « en zone Seveso », « nous travaillons régulièrement avec les services de l’État » et « la préfecture disposait d’une liste à jour très régulièrement des produits stockés ». Sans cacher son « incompréhension », la directrice générale de Lubrizol dit « comprendre » et « partager les inquiétudes la population » et affirme que l’entreprise « a l’intention de contribuer à un fonds d’indemnisations des citoyens pour un montant de 10.000 euros »                                                                              2\n",
       " Si la plupart de nos rédacteurs font preuve d’un sang froid tout à fait exemplaire face aux personnes ne cernant pas le principe de notre média, ce n’est pas le cas de Jean-Mouloud, actuellement en dépression. “En temps normal je ne fais que rédiger des articles sur le site, je ne regarde pas les retours sur Facebook par exemple, c’est pas mon boulot ça.”. C’est en jetant un rapide coup d’œil justement sur la page Facebook de BuzzBeed que Jean-Mouloud est tombé de haut : “J’ai vu tous ces gens prenant au sérieux mes articles… j’étais partagé entre un sentiment de tristesse et de rage… puis j’me suis dit que ça ferait une bonne excuse pour une fausse dépression et gratter un arrêt maladie pour me branler toute la journée mdr mais ça le dit pas dans l’article stp”. Nous avons décidé d’avoir l’avis d’autres rédacteurs de BuzzBeed sur la question. Moi en l’occurrence je m’en bas les couilles, mais voici la réponse de Philippe, rédacteur depuis 9 ans chez nous : “Moi je pense que si les gens prennent au sérieux les articles de Jean-Mouloud c’est parce que ses articles puent la merde et ne sont pas assez subtiles tout simplement. J’ai essayé de lui dire mais il m’a traité de raciste et de fasciste…” Lucas, lui, se montre plus compréhensif : “Ouais c’est assez relou je vois souvent des gens ne rien comprendre, souvent je me retiens de les insulter et de les bannir mais d’autres gens avec un minimum d’intelligence viennent leur expliquer le but de notre site”.                                                                                                                                                                                                                                                                                                                                                                                                                                                                                                                                                                                                                                                                                                                                                                                                                                                                                                                                               1\n",
       " Peu populaire en Belgique, la dernière déclaration de Marc Dutroux a fait changer d’avis de nombreux Belges, quand il a appelé les Français à ne pas voter Front National, dénonçant “la haine immonde de ce parti qui n’a peur de rien” . Le peuple belge, surpris par tant de bon sens, a pu accueillir la suite du discours retransmis sur Telegram : “Je m’adresse aux Françaises et aux Français, ceux-là même qui vont voter dimanche 7 mai pour choisir le futur président de la France. Pensez à vos enfants. Que leur direz-vous lorsqu’ils vous demanderont des comptes ? Lorsque vos petits-enfants vous demanderont ‘pour qui tu as voté en 2017, papy ?’. Saurez-vous fuir les miroirs toute votre vie ? Saurez-vous échapper au jugement des jeunes générations, quand elles vous demanderont où sont passés leurs droits ? Il est de votre devoir de faire barrage au Front National, ce parti qui va gâcher tant de jeunesse et de fraîcheur dans votre pays.” L’homme fatigué mais confiant a fini sur ces mots : “Le mal, c’est l’inaction des gens de bien.“                                                                                                                                                                                                                                                                                                                                                                                                                                                                                                                                                                                                                                                                                                                                                                                                                                                                                                                                                                                                                                                                                                                                                                                                                                                                                                                                                                                                    1\n",
       "Ronger le même oreiller, partager son repas avec les araignées ou dormir dans le même lit que les humains, c’est désormais le quotidien de ces rats vivant dans les prisons et qui sont chaque année de plus en plus nombreux. Alerté sur cette situation intenable depuis plusieurs années, le gouvernement français tarde à réagir et à prendre des mesures concrètes pour régler cette question, ce qui a le don d’agacer les associations de protection des animaux : « Il faut absolument construire de nouvelles prisons afin que les rats et les cafards aient suffisamment d’espace pour cohabiter » avertit Fabienne, directrice de l’association PEA.\\n\\nUne situation alarmante Cette situation favorise les règlements de compte entre bandes rivales mais également les suicides, qui sont en nette augmentation sur les dix dernières années. Plus inquiétant encore : les rats seraient souvent beaucoup plus agressifs après avoir séjourné en prison et 20% d’entre eux se radicaliseraient même au contact de l’un de leurs compagnons de cellule.                                                                                                                                                                                                                                                                                                                                                                                                                                                                                                                                                                                                                                                                                                                                                                                                                                                                                                                                                                                                                                                                                                                                                                                                                                                                                                                                                                                                                1\n",
       "Pour Djamel Sankharé, chercheur toulousain auteur de l’étude, la personne invitée à occuper une chambre d’ami est dans la majorité des cas un membre de la famille (40%), une personne plutôt considérée comme un simple pote (35%) ou comme un parasite qu’on espère voir partir dans les jours qui suivent (15%). Le chercheur révèle que dans de rares cas, la chambre d’ami peut être utilisée comme salle de squash ou comme cellule visant à retenir un invité contre son gré. Une situation qui donnerait lieu chaque jour en France à de véritables quiproquos entre un hôte et ses invités. Ils seraient même plusieurs millions en France à penser à tort entretenir une relation amicale avec une personne suite à une nuit passée dans une chambre d’ami. Seul un Français sur 5 respecterait la tradition en refusant l’accès à la chambre d’ami à un invité non considéré comme tel en le forçant à passer la nuit sur le clic-clac du salon. Suite à la publication des travaux, plusieurs voix se sont élevées pour réclamer l’interdiction de l’expression « chambre d’ami » au profit d’une locution plus en accord avec sa véritable fonction. Après un rapide sondage sur les réseaux sociaux, il semble que l’expression la plus plébiscitée soit « chambre d’ami ou de pote ou de simple connaissance en tout cas t’emballe pas c’est pas un beau roman qui commence non-plus ». En vente partout La Boîte à Quiz du Gorafi https://amzn.to/2Uviaua et l’Almanach du Gorafi https://amzn.to/2RYfbgR ou en librairies                                                                                                                                                                                                                                                                                                                                                                                                                                                                                                                                                                                                                                                                                                                                                                                                                                                                                                                                          1\n",
       "Alors que de nombreux manifestants sont attendus aujourd’hui dans la capitale pour ce premier jour de grève, Christophe Castaner a tenu à rassurer la population et faire taire les rumeurs : « Les LBD, ainsi que toutes les armes mises à la disposition des policiers, feront preuve de pédagogie envers les yeux et les mains des manifestants ». Puis d’ajouter : « Nous avons aussi donné des conseils très précis aux matraques et aux grenades de désencerclement afin qu’il n’y ait pas d’utilisation abusive. Je veux rassurer les Français : aucune bavure ne sera faite sans notre accord et il n’y aura aucune mutilation gratuite ! ». Interpellations ciblées Afin de calmer les esprits, le préfet de police Didier Lallement a de son côté rappelé que « les manifestants seront tous sans exception traités avec respect du moment qu’ils ne sont pas Gilets Jaunes, qu’ils ont un CDI et qu’ils possèdent un véhicule essence ayant moins de 5 ans ». Quant aux éventuelles interpellations, elles seront « extrêmement ciblées et ne concerneront que les individus qui ne sont pas d’accord avec la réforme des retraites ». Une initiative saluée par le président chinois Xi Jinping. \\t L’Atlas GORAFI des Régions de France en vente partout                                                                                                                                                                                                                                                                                                                                                                                                                                                                                                                                                                                                                                                                                                                                                                                                                                                                                                                                                                                                                                                                                                                                                                                                               1\n",
       "« J’aurai dû rester simple trafiquant dans les Quartier nord » se lamente derrière les barreaux de sa prison l’homme qui est tombé dans l’enseignement après des années à arpenter le bitume en étant tour à tour guetteur, revendeur, fournisseur. « C’est une erreur bête et stupide » explique-t-il. « J’ai pensé à l’argent facile, en devenant fonctionnaire, à me dire qu’en donnant quelques heures de cours, je pourrais doubler mon salaire. D’abord une heure ici où là, puis deux, puis à la fin j’ai craqué, j’avais un planning complet, je n’avais même plus le temps d’écouler ma marchandise » confie-t-il. Devant les juges il a assuré qu’il avait retenu de ses erreurs et qu’il ne se laisserait plus tenter par le monde  de l’enseignement. « Il a retrouvé sa place parmi ses potos, servant à nouveau de courrier et de guetteur » s’est félicité son avocat pointant du doigt une réinsertion couronnée de succès et un faible taux de récidive.                                                                                                                                                                                                                                                                                                                                                                                                                                                                                                                                                                                                                                                                                                                                                                                                                                                                                                                                                                                                                                                                                                                                                                                                                                                                                                                                                                                                                                                                                                           1\n",
       "Joue pas avec moi, ou tu vas moucher rouge. J’ai la torgnole facile, surtout quand je suis en bécane. Je vais te filer un coup dans les roustons, on verra si t’en as dans le slibard. Pas besoin d’aller chez le dentiste avec moi, je vais te faire sauter les ratiches une par une, et après je m’occuperai de ton pif ».  « Allez, envoie les biffetons, et je te préviens, je fais pas dans la caillasse. Avec ça, je vais m’acheter des groles, et aller dans un gastos pour me faire servir par des clébards. Putain j’ai hâte de voire la tête de la greluche que je me suis trouvée quand je vais payer la douloureuse. Ça va être le panard.  Allez faut que je m’arrache, et jacte pas aux flics, sinon : bourre-pif dans les mirettes. Ok mon con ? ».                                                                                                                                                                                                                                                                                                                                                                                                                                                                                                                                                                                                                                                                                                                                                                                                                                                                                                                                                                                                                                                                                                                                                                                                                                                                                                                                                                                                                                                                                                                                                                                                                                                                                                                  1\n",
       "Les gilets jaunes ont décidé aujourd’hui de procéder à un geste d’apaisement envers le président Macron en lui offrant aujourd’hui pour ses 41 ans un beau grand cheval de bois réalisé par un Jean-Michel Uliss, un artisan menuisier provenant de la ville de Troyes. Troyes (prononcer [tʁwa]) est une commune française, située dans le département de l’Aube (dont elle est la préfecture) en région Grand Est. La commune est divisée en sept cantons dont elle est le chef-lieu. Avec une population légale de 60 750 habitants, la ville de Troyes est la septième commune la plus peuplée de la région derrière Colmar et devant Charleville-Mézières et Châlons-en-Champagne. Elle est le centre de la communauté d’agglomération Troyes Champagne Métropole, 168 350 habitants, qui depuis le 1er janvier 2017 remplace le Grand Troyes. Elle s’étend sur une quinzaine de kilomètres le long de la vallée de la Seine. Son passé historique, de la tribu des Tricasses à la libération de la ville le 25 août 1944 lors de la Seconde Guerre mondiale, en passant par la bataille des champs Catalauniques, le concile de Troyes, le mariage d’Henri V et de Catherine de France et les foires de Champagne ainsi que son riche patrimoine architectural et urbain avec ses nombreux édifices protégés au titre des monuments historiques, ont permis à Troyes, d’être désignée Ville d’art et d’histoire par le Comité national des Villes et des Pays d’art et d’histoire. L’once troy, unité de mesure des métaux précieux depuis les foires de Champagne, tient son nom de la ville. Le textile, développé à partir du xviiie siècle est l’un des atouts historiques de l’économie troyenne jusqu’aux années 1960 ; Troyes est aujourd’hui la capitale européenne des magasins d’usine et de négoce grâce à ses trois centres de marques. Le Pays barséquanais avec ses étendues de vignoble à champagne possède de nombreux atouts gastronomiques. Du point de vue géographique et touristique, la Seine reste le principal avantage avec la proximité du parc naturel régional de la forêt d’Orient et du lac-réservoir du lac d’Orient réserve faunistique et de détente. Troyes, ville capitale chargée d’histoire, située géographiquement au centre du département, voit se développer autour d’elle un tourisme vert : outre le parc de la forêt d’Orient, le pays d’Othe et le pays d’Armance offrent leurs étendues vallonnées, boisées et de plaines.     1\n",
       "« Ernesto Che Guevara aurait très certainement approuvé ma réforme du Code du travail » a déclaré le chef de l’Etat, qui a tenu à rendre un hommage appuyé à « l’un de ceux qui a permis qu’un jour, un texte aussi fondateur que Révolution soit écrit, au même titre que Robespierre, Lénine ou Pierre Gattaz ». Puis le président de la République de poursuivre « Tout comme il a œuvré toute sa vie pour changer les choses, notamment à Cuba, j’essaye, durant chaque jour de mon mandat, de transformer la France, ce pays peuplé d’incapables, de moins que rien et de fouteurs de merde ». En marche vers un monde meilleur Emmanuel Macron a ensuite terminé son discours en élargissant son hommage à tous ses prédécesseurs : « Même si je sais tout le mérite qui me revient, j’ai suffisamment de clairvoyance et de modestie pour reconnaître que je suis redevable à d’autres grands hommes que moi d’avoir commencé mon œuvre » a-t-il déclaré, avant d’énumérer tous ceux qui ont permis son avènement. « Nelson Mandela a brisé l’apartheid, j’ôterai le racisme jusqu’à la racine, les philosophes ont inventé la pensée, je l’ai complexifiée, Dieu a créé une humanité imparfaite, je suis en train de créer le Monde 2.0 ».                                                                                                                                                                                                                                                                                                                                                                                                                                                                                                                                                                                                                                                                                                                                                                                                                                                                                                                                                                                                                                                                                                                                                                                                                                  1\n",
       "Oui, car Mathias a économisé pas moins de 5 euros sur le spiritueux. Une bouteille qu’il ne sortira que tous les 3 ans lorsque son seul ami amateur de whisky tourbé viendra chez lui. “A la base j’allais juste prendre l’avion, heureusement que j’étais un peu en avance. Sans ça, je n’aurais jamais vu cette aubaine” nous confie-t-il en regardant la bouteille qui le fera grimacer de dégoût dans quelques jours.  Mathias ne s’est pas arrêté là, particulièrement en veine, il a également acheté un Toblerone de 4 kilos pour un prix plus que raisonnable. Un achat qu’il n’avait pas du tout prévu surtout dans cette période où il essaye de faire attention à son poids. Mais 2,50 euros de moins sur du diabète, c’est une affaire qu’il ne pouvait refuser.                                                                                                                                                                                                                                                                                                                                                                                                                                                                                                                                                                                                                                                                                                                                                                                                                                                                                                                                                                                                                                                                                                                                                                                                                                                                                                                                                                                                                                                                                                                                                                                                                                                                                                        1\n",
       "Pour faire un bon score aux élections européennes, François Asselineau veut marquer les esprits avec des propositions choc. Pour ce faire, il envisage de supprimer purement et simplement la station « Europe » de la ligne 3 du métro parisien. Mais ce n’est pas tout puisqu’il propose également que toutes les lignes de métro passent par les stations « Nation » et « République ». Enfin, l’ancien candidat à la dernière présidentielle veut installer un drapeau de l’UPR dans chaque salle de classe et remplacer la devise actuelle au fronton des édifices publics par « Liberté, égalité, frexit ». Vous connaissez l’UPR ? Galvanisés par l’annonce de leur chef, les sympathisants UPR auraient déjà envoyé en l’espace de cinq heures 26 millions de messages « Vous connaissez l’UPR ? #Frexit » sur les réseaux sociaux. Espérons pour le parti de François Asselineau que cette initiative aura plus de succès que la pétition qu’il avait lancée lors de l’élection présidentielle de 2017 et qui avait fait un flop : exiger que le groupe « Europe », auteur du tube « The final countdown », soit rebaptisé « Sweden ». En vente partout La Boîte à Quiz du Gorafi https://amzn.to/2Uviaua et l’Almanach du Gorafi https://amzn.to/2RYfbgR ou en librairies                                                                                                                                                                                                                                                                                                                                                                                                                                                                                                                                                                                                                                                                                                                                                                                                                                                                                                                                                                                                                                                                                                                                                                                                 1\n",
       " Livrés à eux-mêmes, les Allemands régressent dans la barbarie : c’est ce qu’a révélé une étude alarmante du journal allemand Zeilteu hier, statistiques du gouvernement à l’appui : les cas de magie noire, notamment de Vaudoo, ont augmenté de 145% au cours de l’année 2016 ; les cas de démembrements publics de 350% ; les cas de cannibalisme… de 235%. Quant aux viols, on sait qu’ils explosent, particulièrement les viols en tribu (multiples hommes violant une ou deux femmes isolées de la tribu ennemie). Ces cas démontrent bien que lorsque l’on laisse un peuple à lui-même, il se replie et régresse dans la pire des sauvageries. Mais la chancelière détient la solution : faire venir, l’année prochaine, plus de réfugiés : « Il faut continuer d’apporter à la population allemande une part bien souhaitable de renouvellement et de diversité, sinon nous continuerons à redevenir des barbares », déclare-t-elle, brandissant les statistiques.                                                                                                                                                                                                                                                                                                                                                                                                                                                                                                                                                                                                                                                                                                                                                                                                                                                                                                                                                                                                                                                                                                                                                                                                                                                                                                                                                                                                                                                                                                          1\n",
       " Le citoyen du monde Jean-Hugot Lévy n’en est pas à sa première performance : cet artiste français voyage dans le monde tel un troubadour des temps modernes pour faire ressortir les émotions enfouies en nous de par le monde. Son thème de prédilection ? Le changement de sexe. Très inspiré par la théorie du Genre, il nous livre un spectacle militant époustouflant dans lequel il montre que le corps humain n’est qu’une matière amovible, et que ce qu’on ressent au plus profond de soi, c’est ça qui est important. Sa prochaine série de performances aura pour thème le métissage et l’enrichissement culturel, ou comment changer une ennuyeuse peau de blanc en un feu d’artifice de couleurs, de saveurs et de cultures du monde.                                                                                                                                                                                                                                                                                                                                                                                                                                                                                                                                                                                                                                                                                                                                                                                                                                                                                                                                                                                                                                                                                                                                                                                                                                                                                                                                                                                                                                                                                                                                                                                                                                                                                                                                 1\n",
       "« C’est une décision extrêmement difficile à prendre mais j’ai décidé de quitter le ministère de la Transition écologique et solidaire pour un poste de DRH chez Bayer » a annoncé Nicolas Hulot avant d’ajouter : « Après un an et demi passé au gouvernement, j’aspire à un poste plus respectueux de l’environnement que ministre de l’Ecologie ». Pour l’heure, l’identité de son successeur n’a pas encore été dévoilée même si plusieurs noms circulent déjà dont celui de Bernard Arnault, de Jean-Baptiste Santoul, le patron France de Nutella, ou encore de Jean-Vincent Placé. Un gouvernement en difficulté ? Pour beaucoup d’éditorialistes, le départ de Nicolas Hulot va ternir l’image du gouvernement qui s’appuyait beaucoup sur la présence de celui-ci pour justifier son action. Et ce départ n’est peut-être pas la seule mauvaise nouvelle de la semaine puisqu’il se murmure que Françoise Nyssen envisage d’abandonner le ministère de la Culture pour devenir le nègre de Guillaume Musso. Cet événement n’est pas sans rappeler le départ d’Hervé Morin, en novembre 2010, qui avait quitté le ministère de la Défense pour prendre en charge la direction de l’Analyse de la CIA.                                                                                                                                                                                                                                                                                                                                                                                                                                                                                                                                                                                                                                                                                                                                                                                                                                                                                                                                                                                                                                                                                                                                                                                                                                                                       1\n",
       " Interdits de territoire sur le sol américain, les membres du groupe de rap PNL ne pourront pas se produire au festival de Coachella qui débutera le 23 avril. Donald Trump vient en effet d’ajouter Corbeil-Essonnes à la liste des pays musulmans terroristes dont les ressortissants sont interdits de séjour aux Etats-Unis : Libye, Soudan, Syrie, Irak, Iran, Yémen et Somalie. Le groupe PNL étant originaire de la cité des Tarterêts à Corbeil-Essonnes, leurs fans américains devront se contenter d’écouter leurs albums. Entité territoriale non-reconnue par l’ONU, Corbeil-Essonnes est de facto un état indépendant depuis 2005. Au téléphone, John Hernandez, responsable de la communication des services américains de l’immigration, tient cependant à rassurer les fans : “Il s’agit-là d’une mesure transitoire visant à préserver la sécurité américaine. Si la France parvient à juguler la menace terroriste de l’Etat islamo-cannabique de Corbeil-Essonnes, PNL pourra venir chez nous sans problèmes. La France est notre alliée et elle peut compter sur les Etats-Unis d’Amérique pour l’aider à mener des frappes chirurgicales au besoin.”                                                                                                                                                                                                                                                                                                                                                                                                                                                                                                                                                                                                                                                                                                                                                                                                                                                                                                                                                                                                                                                                                                                                                                                                                                                                                                           1\n",
       "« C’est scandaleux, une fois de plus le gouvernement signe dans notre dos » s’emporte Rémi, un Gilet Jaune qui occupe un rond-point dans le sud de la France. Selon lui, ce traité va obliger des millions de Français à être sympas durant les repas de familles et autres communions. « J’ai lu aussi que ce traité nous obligera à devoir les accueillir chez nous pendant les vacances, je n’ai pas de place chez moi, comment je vais faire ? » Même avis pour Myriam qui découvert l’information sur Facebook. « Je suis choquée, nous sommes à la merci du gouvernement, quel sera la prochaine étape, réguler le nombre de bises le matin ? Interdire les blagues racistes ? Supprimer TPMP ? » En vente partout La Boîte à Quiz du Gorafi https://amzn.to/2BNAacP et l’Almanach du Gorafi https://amzn.to/2zEa4Yh                                                                                                                                                                                                                                                                                                                                                                                                                                                                                                                                                                                                                                                                                                                                                                                                                                                                                                                                                                                                                                                                                                                                                                                                                                                                                                                                                                                                                                                                                                                                                                                                                                                          1\n",
       "Ce qu’il ne voulait pas voir, c’était le député des Pyrénées-Atlantiques Jean Lassalle sortant de l’eau en slip de bain. Une mère de famille qui était dans l’eau avec son fils témoigne :\\n“Nous avons entendu des grommellements sous l’eau, et une masse sombre qui nageait en crapaud. Soudain il a émergé, parlant dans une langue qu’on ne comprenait pas et portant un slip beaucoup trop petit pour lui. Le petit s’est mis à hurler et tout le monde a couru vers les serviettes.”  Heureusement pour les personnes présentes sur la plage, Jean Lassalle est vite retourné dans l’eau grâce aux sauveteurs qui ont eu la bonne idée de jeter des morceaux de saucisson au large. Cet événement rappelle le drame qui s’était produit en Août 1999 sur la plage de La Grande-Motte lorsque Robert Hue était apparu en Birkenstock avec un bob sur la tête, créant un mouvement de panique qui avait fait 2 morts.                                                                                                                                                                                                                                                                                                                                                                                                                                                                                                                                                                                                                                                                                                                                                                                                                                                                                                                                                                                                                                                                                                                                                                                                                                                                                                                                                                                                                                                                                                                                                          1\n",
       "Il y a une semaine, Didier postait sur son mur Facebook un commentaire acerbe qui ciblait le gouvernement et plus particulièrement Bruno Le Maire, ministre de l’Economie . Une diatribe cinglante qui a fait son petit buzz dans son entourage “ J’ai reçu 5 pouces et deux Grr” nous déclare t’il. Pourtant, à Matignon, personne ne semble réellement se soucier de ce citoyen qui n’a pas sa langue dans sa poche et dont l’avis compte  “ Non j’ai pas entendu parler de ce billet. Ni de ce Didier ’ concède le ministre de l’Economie. Une réaction très surprenante quand on connaît la notoriété de Didier “ Je suis passé 2 fois dans radio Brunet quand même” nous confie ce conseiller clientèle chez Conforama.   Alors, le gouvernement serait-il passé à côté de cette sortie ?  Didier n’y croit pas et a une toute autre théorie “ Ils font la technique de l’autruche. Ils ont peur et je les comprends. Je fais trembler la République depuis mon compte.  Parfois, tout ce pouvoir entre mes mains, ça me fait peur”  déclare celui dont le dernier post Facebook vient d’obtenir son premier like par sa maman deux jours après avoir été posté.                                                                                                                                                                                                                                                                                                                                                                                                                                                                                                                                                                                                                                                                                                                                                                                                                                                                                                                                                                                                                                                                                                                                                                                                                                                                                                               1\n",
       "José raconte comment peu à peu, avec les années, la routine s’est installée dans son couple. « A force de toujours fréquenter des lieux et des partenaires différents, nous n’avions plus de temps pour nous retrouver et pour nous rendre compte que notre couple battait de l’aile » explique-t-il. Les deux anciens amoureux disent avoir tout tenté pour sauver leur couple «Nous nous sommes même essayés à des choses un peu déviantes comme les soirées télé, mais bon, c’était pas vraiment notre truc » ajoute Amanda. Il y a quelques mois, José et Amanda ont pris la décision difficile de se séparer le jour où ils se sont rendu compte qu’il n’avaient pas fait l’amour ensemble depuis plus de deux ans. Après la séparation, ils disent avoir pu observer une augmentation du rythme de leur rapports au bout de seulement une semaine. Au bout d’un mois, ils affichaient même une augmentation ahurissante de 1 500%, expliquée par une nouvelle configuration amoureuse. « Nous avons fait un switch avec Ahmed et Karen, des amis qui voyaient eux aussi leur couple en perte de vitesse. Nous avons ainsi pu régulièrement échanger nos partenaires respectifs pour nous retrouver » détaille Amanda en montrant un croquis explicatif. Les deux anciens amants qui disent aujourd’hui avoir réussi à retrouver un équilibre sur le plan sexuel veulent encore aller plus loin pour se rapprocher l’un de l’autre en partant vivre sur deux continents différents dès l’été prochain.                                                                                                                                                                                                                                                                                                                                                                                                                                                                                                                                                                                                                                                                                                                                                                                                                                                                                                                                                                         1\n",
       "Les 2 filles  Bourbon des deux-Siciles, qui avaient avoué à la télévision avoir un jour fait BOUH à des passants à Monaco, viennent d’être condamnés par le tribunal de première instance de Monaco à 5 ans de prison pour leur acte grave.\\nIl s’agit de l’acte le plus violent perpétré sur le rocher depuis la fameuse affaire de la boule puante dans une bijouterie de 1982, dont on rappelle que les auteurs avaient été condamnés à la réclusion criminelle à perpétuité. Précisons néanmoins qu’il n’y a pas de prison à Monaco et que les jeunes filles resteront donc simplement enfermées dans la principauté, une situation qui reste donc stable pour les 2 héritières. ﻿ Sinon, des infos sympa sur la famille, Paradise Papers etc Le 25 avril 2011, il ne fallait pas rentrer à l’improviste… Cristiana Crociani passe dans le vaste appartement de l’avenue Princesse-Grace, à Monaco, pour fêter l’anniversaire de Camilla, sa sœur. Juste le temps de poser ses valises. Dans la salle à manger, elle aperçoit, dit-elle, des papiers éparpillés sur la table : le trust dont elle était bénéficiaire a été vidé. Cristiana est en train de se faire déshériter au profit de sa mère, de sa sœur et de ses deux nièces. « J’ai ressenti un tel choc ! Ma confiance envers elles s’est effondrée. » En quelques secondes, tout s’éclaire. Pourquoi on lui a demandé de ne pas venir à Noël et pourquoi sa mère lui a faxé des feuilles à signer l’hiver dernier. Cristiana quitte Monaco. Et décide d’attaquer en justice sa mère et sa sœur, responsables de ce montage financier complexe : des centaines de millions d’euros siphonnés avec le conseil du cabinet d’avocats internationaux Appleby, cité dans les Paradise Papers…                                                                                                                                                                                                                                                                                                                                                                                                                                                                                                                                                                                                                                                                                                                             1\n",
       "« Il y a de tout : des fourmis, des mouches, des moustiques, des coléoptères, des perce-oreilles, et même un bouzier ! » s’enthousiasme Aymeric Caron, qui a lui-même recueilli les milliers d’adhésions au REV. « Les insectes ont vite compris que si on les considérait comme des humains, on devrait dire adieu aux insecticides, alors… « pas folle la guêpe » si vous me permettez ce jeu de mots ! ».* Un impact électoral sans précédent\\n\\nReste un problème majeur : les insectes ne sont pas autorisés à voter, même pour des élections mineures comme les cantonales.\\nC’est pourquoi Aymeric Caron compte bien lancer une pétition pour donner le droit de vote aux insectes, ce qui pourrait avoir un impact électoral sans précédent. « Au rythme où vont les choses, on compte avoir plus de quatre millions d’adhérents insectoïdes d’ici 2022, pour l’élection présidentielle. Je serai le président des Insectes, leur Reine !! » hurle l’ancien chroniqueur de Laurent Ruquier en agrippant le col de notre journaliste d’une main, tout en se recoiffant de l’autre. En attendant, son parti n’a pu rassembler que 4 adhérents humains, ce qui est peu pour devenir président de la République des humains. Affaire à suivre. *La Rédaction ne lui a pas pardonné ce jeu de mots, et Aymeric Caron devra s’acquitter de la somme forfaitaire de 34 euros pour la gêne occasionnée.                                                                                                                                                                                                                                                                                                                                                                                                                                                                                                                                                                                                                                                                                                                                                                                                                                                                                                                                                                                                                                                                             1\n",
       "Une nouvelle initiative caritative pour l’artiste au grand cœur ! 4 mois après avoir chanté pour Notre Dame de Paris, Arielle Dombasle devrait rejoindre la foret amazonienne pour servir de répulsif sonore pour faire fuir les animaux avant l’arrivée des flammes. La chanteuse peut en effet émettre une grande variété de sons tels que des cris naturels de prédateurs, des signaux de détresse spécifiques à certaines espèces et des signaux de gêne physiologique. Son mari Bernard-Henri Lévy devrait lui aussi se rendre sur place, pour participer à un shooting photos pour le magazine Paris Match.                                                                                                                                                                                                                                                                                                                                                                                                                                                                                                                                                                                                                                                                                                                                                                                                                                                                                                                                                                                                                                                                                                                                                                                                                                                                                                                                                                                                                                                                                                                                                                                                                                                                                                                                                                                                                                                                   1\n",
       " La Miviludes* vient d’inscrire le parti de François Asselineau dans la liste des sectes les plus dangereuses. Un des responsables de la lutte contre les sectes explique : “La plupart des sectes laissent un minimum de libre arbitre à leurs disciples victimes, mais dans le cas de l’Union Populaire Républicaine, ce libre arbitre est complètement inexistant. Ça se rapproche plus du phénomène Vaudou de “zombification” que de la banale secte protestante terroriste.” “Des membres de l’UPR ont été soumis à des scans cérébraux, des tentatives d’hypnose et des séances d’électrochocs, mais rien n’y faisait. Tout ce qu’ils répétaient, c’était “François Asselineau est le seul candidat pour éviter 5 ans de souffrance de plus…” ou bien “Le parti qui monte dans le silence des médias”… une enquête de la DGSI a essayé de déterminer l’origine de ce phénomène, mais ils n’ont trouvé aucun centre de détention et de reprogrammation mentale. Pourtant, François Asselineau a réussi ce que la CIA a échoué à faire depuis des décennies.” Le responsable conclut d’une mine affligée “Ils ont réellement infesté internet… c’était tout une histoire pour mettre la main sur l’un d’eux dans la vraie vie.” Sans charge précise contre Asselineau, il est impossible de poursuivre l’UPR. La Miviludes conseille cependant d’être extrêmement vigilant, et de tenir vos enfants éloignés de tout tract de l’UPR. Les médias ont également reçu la consigne de continuer à ne pas parler du parti qui monte, et ce problème sanitaire a évidemment été signalé au ministère de la Santé qui va faire son possible pour ouvrir des centres de désintoxication des victimes.                                                                                                                                                                                                                                                                                                                                                                                                                                                                                                                                                                                                                                                                                                                                                                                   1\n",
       " Grichka Bogdanoff est né le 29 août 1949 à Saint-Lary dans le Gers. Avec son frère jumeaux Igor, il s’est déjà illustré comme animateur depuis les années 1970, surtout avec la célèbre émission « Temps X ». Bientôt de nouveau à l’antenne, mais sans son frère, Grichka Bogdanoff va intégrer l’équipe de Cyril Hanouna dans l’émission « Balance ton Post », sur C8. « A partir de la rentrée, de septembre, j’interviendrai en tant que chroniqueur », confie Grichka Bogdanoff à l’équipe de Nord Presse, « A ce titre, je suis très heureux de rejoindre l’équipe de Cyril Hanouna dans l’émission Balance ton post. Libre de ma pensée et dorénavant libre de la parole, j’aborde cette nouvelle expérience avec un grand enthousiasme. »  « L’arrivée de Grichka sera un atout non négligeable pour l’émission » a déclaré à son tour Cyril Hanouna. Malgré que la valeur scientifique de certains de leurs travaux est régulièrement remise en question par une grande partie de la communauté scientifique. Les frères Bogdanoff suscitent aussi la curiosité du grand public du fait de leur personnalité, de leurs origines familiales et de leur aspect physique.                                                                                                                                                                                                                                                                                                                                                                                                                                                                                                                                                                                                                                                                                                                                                                                                                                                                                                                                                                                                                                                                                                                                                                                                                                                                                                    1\n",
       " Le terrorisme n’a décidément pas de frontières ni de religion. D’après les renseignements français, l’Etat catholique entraîne à la guerre des générations entières de jeunes catholiques fanatisés. Les conséquences de la formation de ces guerriers du Christ pourraient ne se faire voir que dans quelques décennies, et demeurent totalement imprévisibles. Dans une nouvelle vidéo de l’Etat catholique, des prisonniers musulmans sont abattus par centaines par des enfants fanatisés portant des croix. Voilà pourquoi nous devons continuer à traiter les musulmans de France comme s’ils étaient des rescapés de la Shoah.                                                                                                                                                                                                                                                                                                                                                                                                                                                                                                                                                                                                                                                                                                                                                                                                                                                                                                                                                                                                                                                                                                                                                                                                                                                                                                                                                                                                                                                                                                                                                                                                                                                                                                                                                                                                                                              1\n",
       " « Il y a pas mal de jeux de mots, surtout avec la viande, le lait et un ou deux calembours » a-t-il expliqué lors d’une conférence de presse, tenant une feuille de brouillon où il avait listé ses blagues. « Je les ai testés auprès de mes deux enfants qui ont pas mal ri même si j’ai dû leur expliquer un peu mais ça devrait aller ». Interrogé sur le caractère moqueur de son attitude, il s’est défendu. « Franchement, c’est drôle, et puis faut bien rire un peu, comme la fois où il nous avait dit qu’il était allé à un concert de Mylène Farmer, moi et les potes on avait blagué sur lui pendant 1 mois, attendez je crois que pourrais combiner les deux dans une même vanne, ça serait énorme ». En vente partout La Boîte à Quiz du Gorafi https://amzn.to/2Uviaua et l’Almanach du Gorafi https://amzn.to/2RYfbgR ou en librairies                                                                                                                                                                                                                                                                                                                                                                                                                                                                                                                                                                                                                                                                                                                                                                                                                                                                                                                                                                                                                                                                                                                                                                                                                                                                                                                                                                                                                                                                                                                                                                                                                            1\n",
       "                                                                                                                                                                                                                                                                                                                                                                                                                                                                                                                                                                                                                                                                                                                                                                                                                                                                                                                                                                                                                                                                                                                                                                                                                                                                                                                                                                                                                                                                                                                                                                                                                                                                                                                                                                                                                                                                                                                                                                                                                                                                                                                                                                                                                                                                                                                                                                                                                                                                                   ..\n",
       "Très critiqué pour son discours de fin d’année envers les français où il veut une relation basée sur la vérité avec les français, ainsi qu’une France plus socialiste, le président français Emmanuel Macron à rapidement réagi: « J’ai dit qu’on ne bâtit rien sur des mensonges, et c’est vrai. Je n’ai jamais menti aux français, j’omets juste de leur dire beaucoup de choses, ce n’est pas pareil. Quant au socialisme et au libéralisme, c’est une question de point de vue ». Voilà qui va certainement rassurer les français et les réconcilier avec le côté obscur de la force.                                                                                                                                                                                                                                                                                                                                                                                                                                                                                                                                                                                                                                                                                                                                                                                                                                                                                                                                                                                                                                                                                                                                                                                                                                                                                                                                                                                                                                                                                                                                                                                                                                                                                                                                                                                                                                                                                           1\n",
       "Le président français est le premier chef de l’état de l’histoire a être nommé pour le prestigieux César du Meilleur Acteur. Il l’est pour son incroyable rôle de Président aimant lors de son monologue de 13 minutes qui a fait pleurer plus de 40 millions de Français.                                                                                                                                                                                                                                                                                                                                                                                                                                                                                                                                                                                                                                                                                                                                                                                                                                                                                                                                                                                                                                                                                                                                                                                                                                                                                                                                                                                                                                                                                                                                                                                                                                                                                                                                                                                                                                                                                                                                                                                                                                                                                                                                                                                                          1\n",
       "« Je suis capable de m’adapter à toutes les situations, même les plus extrêmes, mais le « ploc-ploc » d’un robinet a toujours été ma limite » a expliqué le chef de l’Etat au cours d’une conférence de presse organisée pour l’occasion. « J’ai tout de suite compris que Kaboré était un manuel quand je l’ai vu ne pas hésiter à sortir de la salle pour aller réparer la clim’ » a détaillé Emmanuel Macron avant d’ajouter : « Du coup, plutôt que de téléphoner à une entreprise ou de réveiller bêtement des gens de l’hôtel, j’ai naturellement pensé à lui. Surtout qu’ici, il n’y a pas de Portugais. Ni de Polonais ! ». Un début de polémique vite étouffé Devant les réactions de certains journalistes l’accusant de condescendance voire de mépris, le chef de l’Etat a tenu à se justifier : « Je ne suis pas un goujat : je n’allais quand même pas le réveiller en pleine nuit uniquement pour un problème de robinet ! Je lui ai donc donné du linge à repasser et mes chaussures à cirer ». Puis le président de la République de conclure : « D’ailleurs, je vous laisse car j’ai très faim et à l’heure qu’il est, il doit avoir terminé de préparer le poulet-bicyclette ».                                                                                                                                                                                                                                                                                                                                                                                                                                                                                                                                                                                                                                                                                                                                                                                                                                                                                                                                                                                                                                                                                                                                                                                                                                                                                  1\n",
       "Manuel Valls pourrait proposer sa candidature comme premier ministre selon SecretNews.                                                                                                                                                                                                                                                                                                                                                                                                                                                                                                                                                                                                                                                                                                                                                                                                                                                                                                                                                                                                                                                                                                                                                                                                                                                                                                                                                                                                                                                                                                                                                                                                                                                                                                                                                                                                                                                                                                                                                                                                                                                                                                                                                                                                                                                                                                                                                                                              1\n",
       "Pour tout le monde cela ne fait pas l’ombre d’un doute, cette initiative est signée Patrick Balkany, même si celui-ci nie en bloc. « C’est complètement faux, je suis ici comme n’importe quel prisonnier et je n’ai plus d’argent de toutes les façons le fisc m’a tout confisqué.  Le directeur de la prison souhaitait réaménager la prison depuis longtemps, je lui ai donné l’idée en tant que maire, car je souhaite améliorer avant tout la vie des autres détenus ici. » nous glisse-t-il alors qu’en file indienne les matons viennent baiser les uns après les autres sa chevalière en or. Le lieu bénéficie d’une grande piscine, d’une villa, d’une cinquantaine de palmiers, d’orangers et d’un chef-cuisinier, ainsi que d’un centre de thalasso ouvert 6 jours sur 7. Un grand luxe qui semble bien au-delà des moyens de l’administration pénitentiaire mais le directeur de la prison n’a pas voulu nous répondre préférant rester cloîtré sur son nouveau yacht.                                                                                                                                                                                                                                                                                                                                                                                                                                                                                                                                                                                                                                                                                                                                                                                                                                                                                                                                                                                                                                                                                                                                                                                                                                                                                                                                                                                                                                                                                                  1\n",
       "En outre, il a souhaité voir Benoît Hamon lui succéder au sommet de l’Etat. « Je suis certain que M. Hamon fera un excellent président » a-t-il commenté en faisant ses bagages. De son côté, Benoît Hamon a estimé qu’il ne serait pas disponible avant mi août « Je suis en vacances avec les enfants, on a loué jusqu’à début août, si on part, on sera pas remboursés et je commence un nouveau taf en septembre, du coup ça m’arrange pas trop » a répondu l’ancien candidat. M. Macron a ajouté qu’il ne souhaitait pas que quelqu’un paye à sa place, estimant que son geste était dans la lignée de la République exemplaire . Inquiet du retard pris par son chauffeur Uber, il a cependant temporisé, affirmant : « mon Uber il est inaltérable ».                                                                                                                                                                                                                                                                                                                                                                                                                                                                                                                                                                                                                                                                                                                                                                                                                                                                                                                                                                                                                                                                                                                                                                                                                                                                                                                                                                                                                                                                                                                                                                                                                                                                                                                        1\n",
       " Lors de la “Marche pour la dignité, contre les violences policières et pour niquer la France” organisée aujourd’hui à Paris, une femme vêtue d’un pyjama Batman a tenu à faire passer un message fort. La photo, prise par notre confrère du Monde Abel Mestre, parle d’elle-même.                                                                                                                                                                                                                                                                                                                                                                                                                                                                                                                                                                                                                                                                                                                                                                                                                                                                                                                                                                                                                                                                                                                                                                                                                                                                                                                                                                                                                                                                                                                                                                                                                                                                                                                                                                                                                                                                                                                                                                                                                                                                                                                                                                                                 1\n",
       "« Agressions en Catalogne alors que le PSG a acheté Neymar au Barça : cherchez l’erreur. » a tweeté Raquel Garrido hier soir. Un tweet qui a suscité l’indignation de nombreux internautes et qui a contraint la militante de La France Insoumise à le retirer quelques heures après. Dans un nouveau tweet, la chroniqueuse a alors tenté d’expliquer sa réaction : « Simplement choquée après cette soirée extraordinaire passée devant BFM à regarder les charges des policiers » a-t-elle justifié avant d’offrir quelques libations à la statue de Jean-Luc Mélenchon trônant dans son salon. Une volonté de calmer le jeu Voyant que cela ne suffisait pas à calmer la colère de certains internautes, Raquel Garrido n’a alors pas hésité à multiplier les tweets rassurants. Elle a d’abord exprimé sa « #solidarité avec les victimes de l’incendie de Mulhouse, qui, contrairement aux joueurs parisiens, vivent dans des conditions difficiles ». Puis elle a affirmé sa volonté de « #lutter contre le terrorisme, à Marseille comme au PSG via le Qatar ».\\nEnfin, elle s’est déclaré : « très fière du succès de la manifestation contre la réforme du Code du travail prévue le 10 octobre prochain ».                                                                                                                                                                                                                                                                                                                                                                                                                                                                                                                                                                                                                                                                                                                                                                                                                                                                                                                                                                                                                                                                                                                                                                                                                                                               1\n",
       "« J’ai aussi déchiré mon ticket de caisse, je l’ai jeté dans quatre poubelles différentes et j’ai mangé le cinquième morceau » explique-t-il une main devant la bouche pour cacher ses propos des agents qui pourraient lire sur les lèvres. « Il fait un peu frais pour la saison non ? Demain je vais prendre un pull en plus » dit-il alors étrangement avant de mettre la musique de sa sono au maximum et en pointant un doigt vers le ciel. « C’est bon ils ne peuvent plus nous entendre. Au quotidien je fais très attention, le matin pour aller à l’Assemblée nationale je change trois fois de métro pour les semer ou alors je fais des covoiturages dans des parkings souterrains ». Puis l’élu de prendre un rouleau d’adhésif et de dérouler deux larges morceaux qu’il colle sur sa fenêtre de manière à créer un X avant de placer une petite lampe devant qu’il allume. « J’ai un informateur à l’intérieur du système, c’est mon seul moyen de le contacter ». Le député de conclure « vous avez pris d’énormes risques en venant me parler, mais faites attention, maintenant ils en auront après vous, vous devriez être prudents. Et n’oubliez pas, la vérité est ailleurs ». En vente partout La Boîte à Quiz du Gorafi https://amzn.to/2BNAacP et l’Almanach du Gorafi https://amzn.to/2zEa4Yh                                                                                                                                                                                                                                                                                                                                                                                                                                                                                                                                                                                                                                                                                                                                                                                                                                                                                                                                                                                                                                                                                                                                                              1\n",
       "  « Cette année, je ne vais clairement pas manger à ma faim », s’alarme Mathilde Moriceau, une étudiante en lettres qui peine à joindre les deux bouts. « Si vous additionnez les 5 euros des APL et le Big Mac gratuit, ça fait beaucoup de repas chauds qui nous passent sous le nez », poursuit-elle. « Heureusement que je peux encore économiser 6,20€ de Ketchup par an en gardant précieusement les dosettes McDo au frigo ». La ministre de la santé, Agnès Buzyn, tente d’éteindre les braises : « C’est avant tout une mesure diététique qui vise à réduire l’obésité chez les jeunes. En baissant leur pouvoir d’achat au fast food, nous deviendrons le pays européen avec le plus d’étudiants taille mannequin. Comme notre divin président en son temps, classe non ? Et puis, s’ils aiment tant McDonald’s, ils peuvent toujours s’y faire exploiter… heu… y travailler après les cours ! ». Selon des sources proches de l’Élysée, M. Macron se pencherait actuellement sur un autre point cher aux étudiants, pour faire des économies : « Il compte supprimer les happy hours dans les bars… », nous murmure un conseiller. « Il a d’abord pensé s’en prendre à la gratuité dans les musées, mais bon, quel jeune va encore au musée ? », soupire ce même informateur qui, avant de nous laisser, nous confie craindre des manifestations étudiantes sans précédent à la rentrée.                                                                                                                                                                                                                                                                                                                                                                                                                                                                                                                                                                                                                                                                                                                                                                                                                                                                                                                                                                                                                                                                                 1\n",
       "« Les électeurs espagnols eux aussi ont besoin de renouveau, et Manuel Valls est trop représentatif du ‘système’ », explique Sylvie Paule, une envoyée spéciale à Barcelone qui suit les élections de près. Selon tous les scénarios possibles, l’ancien premier ministre Français se fait absolument détruire par Benoît Hamon, alors que ce dernier ne se présente même pas à la mairie de Barcelone. « L’important, c’est de participer », aurait exprimé l’ancien maire d’Evry en prévision de sa nouvelle défaite contre Mr. Hamon, qui devrait quitter son poste de conseiller régional d’Île-de-France en cas de victoire dans cette ville avec laquelle il n’a aucun lien. « Benoît est un ami que je respecte », a expliqué l’homme politique français né à Barcelone. « J’espère bien évidemment gagner, mais je lui apporterai bien-sûr mon soutien s’il me bat », a poursuivi Mr. Valls. « Malgré nos différends, comme par exemple nos désaccords politiques ou le fait qu’il n’est même pas candidat et ne mérite absolument pas ce poste, j’ai beaucoup d’admiration pour lui », a également tenu à préciser le député français. Selon des proches, Manuel Valls préparerait déjà son plan B en visant le poste de premier ministre de Belgique.                                                                                                                                                                                                                                                                                                                                                                                                                                                                                                                                                                                                                                                                                                                                                                                                                                                                                                                                                                                                                                                                                                                                                                                                                     1\n",
       " Les experts tirent la sonnette d’alarme : le QI moyen francais n’aurait eu de cesse de baisser depuis les années 70, la faute à l’Américanisation, la malle-bouffe et le clown Ronald. « Un phénomène similaire dans les autres pays, ainsi qu’aux Etats-Unis », explique Roger Malfoy. «  Même l’Allemagne, jusque là épargnée, a rejoint le mouvement : on sera bientôt aussi cons qu’en Afrique ! »                                                                                                                                                                                                                                                                                                                                                                                                                                                                                                                                                                                                                                                                                                                                                                                                                                                                                                                                                                                                                                                                                                                                                                                                                                                                                                                                                                                                                                                                                                                                                                                                                                                                                                                                                                                                                                                                                                                                                                                                                                                                             1\n",
       " Des chercheurs ont découvert un homme qui était capable de rire de bon cœur à la blague “pain au chocolat VS chocolatine” : les scientifiques ont immédiatement disséquer son cerveau pour faire avancer la Science. C’est une première dans l’histoire de la Science. Après 4 ans de recherches infructueuses sur des milliers de personnes testées au scan cérébral pour voir si elles riaient de bon cœur, ils ont finalement trouvé leur homme. Son aptitude hors-norme viendrait d’une malformation de son hypothalamus latéral. Pour le sociologue et spécialiste du rire Jean Benêt-Antoine, la viralité de la blague “pain au chocolat VS chocolatine” ne viendrait que de la croyance qu’elle fait rire les autres : “Il s’agit du genre de blague plate que vous vous efforcez de faire pour intégrer un groupe. C’est un sacrifice social : se forcer à rire à une blague ringarde pour se faire accepter par un groupe humain. L’arnaque des blagues de pain au chocolat est entretenue par des journalistes ringards qui croient que les gens rient de ça. Et les gens, en voyant que les journalistes parlent de cette blague, partagent cette blague et la déclinent à toutes les sauces en essayant de faire rire, en vain. Ce style de plaisanterie ne se partage que parce qu’on croit que ça fait rire les autres. Les blagues de pain au chocolat VS chocolatine sont le contraire absolu de l’humour offensif : il s’agit ici de ne vexer personne, et de faire rire tout le monde de 7 ans à 77 ans, ce qui, par définition, n’est pas drôle. Les inventeurs de cette blague ont cru bon de chercher à rassembler tout le monde, en faisant une blague vierge de toute politique, de toute considération ethnique, culturelle, religieuse. Ils ont finalement permis de comprendre une chose sur la nature humaine : certes on a envie de rire ensemble, mais surtout pas avec tout le monde.“                                                                                                                                                                                                                                                                                                                                                                                                                                                                                                                                                               1\n",
       " L’association “La Culture pour tous” dénonce une sélection raciste des visiteurs du Louvre. Cette association milite depuis bientôt 3 ans contre la “ghettoïsation culturelle” et la ségrégation des jeunes de cité dans les sorties culturelles. “Cela fait des mois que nous enquêtons sur la sélection des visiteurs par le musée du Louvre, et, comme de nombreux musées, nous n’avons pas encore réussi à déterminer comment ils font pour avoir un public entièrement blanc. Mais il ne fait aucun doute que pour arriver à cette honteuse homogénéité, ils refoulent tous ceux qui n’ont pas la peau blanche.” Des quotas ont été expérimentés afin de donner une chance égale aux jeunes Français de la diversité et aux jeunes Français favorisés. A tout moment, il devait y avoir autant de blancs que de personnes colorées. Le musée est malheureusement resté vide toute la journée, les touristes européens attendant dans le froid dehors. Une autre piste est donc étudiée : la propagande culturelle qui empêche aux noirs et aux arabes de s’intéresser à l’Histoire de France et du monde, à cause d’une conception ethnocentrée de la culture en France. Un fond de 20 millions d’euros est sur le point d’être débloqué par le ministère pour cette ambitieuse campagne. Le mois dernier, le musée du Louvre avait fait scandale lorsqu’Abdallah El-Hamahmy, un Égyptien de 29 ans, s’était défendu bec et ongles contre 3 militaires qui tentaient de le refouler vers la sortie.                                                                                                                                                                                                                                                                                                                                                                                                                                                                                                                                                                                                                                                                                                                                                                                                                                                                                                                                                                           1\n",
       "Ceci est un complot, les personnes présentes sur la photo sont en fait des macronistes de la première heure qui essayent de faire passer le citoyens gilets jaunes pour de vils consommateurs de malbouffe industrielle.                                                                                                                                                                                                                                                                                                                                                                                                                                                                                                                                                                                                                                                                                                                                                                                                                                                                                                                                                                                                                                                                                                                                                                                                                                                                                                                                                                                                                                                                                                                                                                                                                                                                                                                                                                                                                                                                                                                                                                                                                                                                                                                                                                                                                                                            1\n",
       "« Elle reste affalée sur la plage comme une fainéante », explique un riverain agacé qui habite au bord de la plage. « Vous pensez que c’est agréable de voir ses fesses traîner sur le sable à longueur de journée ? », dit-t-il, sa patience à bout. « Elle a pas fait un seul effort pour améliorer ses conditions de vie depuis qu’elle est là », précise-t-il à propos du cétacé. Le mysticète échoué sur la plage n’a visiblement aucune intention de se déplacer et semble prévoir de rester là pour une durée indéterminée. Ayant détruit un certain nombre de châteaux de sable selon plusieurs observateurs sur place, le cétacé à fanons commence à sérieusement irriter la population locale ainsi que les touristes, qui ne voient en cette baleine qu’une nuisance à éliminer le plus rapidement possible. « Elle occupe une grande partie de la plage et refuse de partir, ça a été un gros obstacle le week-end dernier », explique un commerçant à propos du mammifère marin sans aucun avenir. « On n’en peut plus, et en plus de ça on dirait que le gouvernement refuse complètement de s’en occuper », poursuit-il. Selon des scientifiques, il s’agirait d’un phénomène courant qui se produit plusieurs fois par an dans le monde : une baleine vient s’installer sur une plage au hasard pour s’y reposer au lieu d’assumer ses responsabilités et sécuriser son avenir.                                                                                                                                                                                                                                                                                                                                                                                                                                                                                                                                                                                                                                                                                                                                                                                                                                                                                                                                                                                                                                                                                     1\n",
       "« C’est pour ça que je l’ai mouché hier au début ! Il ne se rend pas compte qu’en disant exactement les mêmes choses que moi toute la journée il me prive de mon temps de parole cet idiot !” s’enflamme Marine Le Pen. Ne décolérant pas, la chef du parti continue à invectiver le dirigeant des Républicains : « Il n’arrête pas de me plagier. C’est le Gad Elmaleh de la politique ! Est-ce que je porte une parka rouge moi ? Non ! Déjà que je me suis fait remonter les bretelles par mes militants à cause de Steve Bannon… ils n’ont pas supporté que je me fasse voler mon temps de parole par un étranger ».                                                                                                                                                                                                                                                                                                                                                                                                                                                                                                                                                                                                                                                                                                                                                                                                                                                                                                                                                                                                                                                                                                                                                                                                                                                                                                                                                                                                                                                                                                                                                                                                                                                                                                                                                                                                                                                            1\n",
       "« C’était horrible, ils étaient à plusieurs autour de moi avec des calculatrices » raconte cette Angoumoise encore sous le choc. Il est 15h30 lorsque soudain un camion transportant des experts-comptables en transit pour un cabinet se renverse suite à une fausse manœuvre. Très vite, les experts-comptables réussissent à s’échapper malgré l’intervention rapide des forces de l’ordre. « On a beau être entraîné, ce genre de situation est exceptionnelle » rappelle un des pompiers de la ville. Pendant plusieurs heures, la mairie a recommandé aux habitants de se calfeutrer chez eux. Mais tout le monde n’a pas cette chance. « Ils étaient 3, ils m’ ont demandé les 5 derniers bilans comptables de ma société et ainsi que mes dernières déclarations TVA et URSSAF, je n’ai pas eu le choix que de signer » raconte cette commerçante. Son mari, plus chanceux en a été quitte pour un recalcul global de ses points retraites. Vers 18h, le dernier expert-comptable a pu être appréhendé alors qu’il volait des calculatrices dans une zone commerciale. La question se pose désormais de la sécurité de ce type de transports. Ainsi, il y a moins de trois mois, c’est une cargaison d’une dizaine d’avocats fiscalistes qui s’était échappée sur une autoroute. Ils avaient ainsi causé des dizaines de cas d’optimisations fiscales avant d’être tous récupérés.                                                                                                                                                                                                                                                                                                                                                                                                                                                                                                                                                                                                                                                                                                                                                                                                                                                                                                                                                                                                                                                                                          1\n",
       " Une mesure controversée. Le film « white panther », qui présente un héros venant d’un pays imaginaire où il n’y aurait que des Blancs, a été retiré des salles pour « racisme » et « représentation fausse poussant à la haine raciale ». Rappelons que le film montre un grand nombre de scènes choquantes, comme celle par exemple ou le personnage principal, dans son pays d’origine, laisse tomber son portefeuille et un passant, au lieu de le lui voler, le ramasse et le lui rend (!). En outre, dans ce pays imaginaire il n’y a presque plus de crimes, les femmes ne se font jamais violer quand elles sortent, et, comble de la fantasmagorie, même pas un peu harceler ou traiter de pute ! La plupart des hommes sont d’ailleurs en couple, soit mariés, soit avec une petite amie, au lieu de seul en train de zoner avec les potes. La plupart exerce d’ailleurs une profession ! On se demande vraiment dans quel esprit malade on est tombé, et on peine à comprendre les motifs du directeur lorsqu’il a imaginé un tel univers raciste. Il encourt 15 000 euros d’amende, 1 an de prison ferme et un stage de réintégration inclusive.                                                                                                                                                                                                                                                                                                                                                                                                                                                                                                                                                                                                                                                                                                                                                                                                                                                                                                                                                                                                                                                                                                                                                                                                                                                                                                                        1\n",
       " Les Nations Unies et Bachar el-Assad ont jointement déclaré hier que la Syrie, après tant d’années de guerre, comme de non-guerre, était à nouveau un pays sûr : «Il n’y a plus personne en Syrie, ils ont tous fuis en Europe, explique un expert. Du coup, ce n’est pas bien difficile de comprendre que la Syrie est devenu un des pays les plus sûr, clairement plus sûre que l’Allemagne à présent. » Bachar el-Assad enjoint ses compatriote à revenir, incitations à l’appui : un mois de torture en moins pour tous les célibataires qui regagnent leur pays avant fin Juillet, et une exonération complète d’une année de prison pour toutes les familles. « En outre, nous ne torturerons pas les nouveaux-nés », a même concédé le président. « Il n’est pas sûr que l’offre du président syrien est suffisamment alléchante, car il y a toujours une très grande compétition entre les Etats des blancs pour savoir qui bénéficiera de l’enrichissement apporté par ces populations jeunes, dynamiques et excités » met pourtant en garde Junker, le président non-élu de l’Union Européenne. « L’offre d’Angela Merkel, à savoir le logement gratuit et 1600 euros net de tout impôt par mois et par personne, même pour les terroristes et autres islamistes, reste plus alléchante pour beaucoup. »                                                                                                                                                                                                                                                                                                                                                                                                                                                                                                                                                                                                                                                                                                                                                                                                                                                                                                                                                                                                                                                                                                                                                                 1\n",
       " Le chanteur s’explique sur Télé Loisirs : “Je sais très bien que les classements de personnalités préférées des Français, tout ça, c’est du pipeau. Je sais que les gens ne me supportent pas. On me parle mal quand on me reconnait. Encore hier des enfants m’ont jeté des œufs. Je sais que vous voulez que je me casse et que j’arrête de chanter. Donc voilà : si Marine Le Pen est élue, je reste en France, je continue à chanter et je vous emmerde.“                                                                                                                                                                                                                                                                                                                                                                                                                                                                                                                                                                                                                                                                                                                                                                                                                                                                                                                                                                                                                                                                                                                                                                                                                                                                                                                                                                                                                                                                                                                                                                                                                                                                                                                                                                                                                                                                                                                                                                                                                      1\n",
       " Marine Le Pen a refusé de commenter face à la presse après la découverte d’un petit caniche noir collé à une roue de sa voiture garée dans un parking de la ville de Nancy, où elle était venue pour l’occasion d’une conférence de son parti. Les autorités de la ville ont jugé plus prudent d’annuler la conférence de la candidate du parti d’extrême droite, afin de calmer les manifestations qui se sont organisées spontanément à Nancy, et d’éviter les probables débordements.   Les associations ont quant à elles exprimé leur colère, affirmant que « ce n’est pas un hasard que le caniche était noir », et porté plainte pour maltraitance animale et racisme.                                                                                                                                                                                                                                                                                                                                                                                                                                                                                                                                                                                                                                                                                                                                                                                                                                                                                                                                                                                                                                                                                                                                                                                                                                                                                                                                                                                                                                                                                                                                                                                                                                                                                                                                                                                                      1\n",
       " Alors que tous les candidats à l’élection présidentielle de 2017 ont bouclé et publié leur programme, à l’exception d’Emmanuel Macron qui affirme avoir perdu son stylo porte-bonheur sans lequel il ne peut se permettre d’entamer une phrase, Benoît Hamon décide d’étoffer le sien à la dernière minute avec une disposition pour le moins osée, celle du séjour Djihad obligatoire (abrégé SDO). Ce lundi 20 février, le candidat du Parti socialiste a déclaré lors d’une conférence de presse qu’il venait d’ajouter une mesure inédite à son programme. « J’étais en train d’apprendre le Notre Père en arabe afin d’appréhender la religion chrétienne avec la dimension multiculturelle qui lui manquait », raconte Benoît Hamon face aux journalistes. « Soudain l’idée m’a frappé de plein fouet, comme une évidence : ce qu’il faudra à nos jeunes, c’est la possibilité de dépenser l’argent que je leur ferai gagner par le revenu universel. D’ailleurs, avec ces sommes gracieusement offertes par notre Etat déjà endetté jusqu’à la moelle, ils n’auront pas grand-chose à faire de leurs journées, d’où l’intérêt du séjour Djihad. » Le séjour Djihad obligatoire, explique Benoît Bilal Hamon dans son programme qu’il a réédité pour l’occasion, c’est « une sorte de service militaire multiculturel doublé d’une formidable opportunité de communiquer avec nos confrères islamistes. Leur attitude sans détour, très premier degré, illustre une conception différente mais non moins intéressante de l’humanisme à travers le prisme de la religion. Plutôt que de les blâmer, les français y compris les jeunes doivent tenter de les comprendre ». D’une durée de 6 mois, le séjour Djihad se fera dans le cadre d’Erasmus et les étudiants boursiers devraient même pouvoir bénéficier d’une aide financière de la part des Frères Musulmans.                                                                                                                                                                                                                                                                                                                                                                                                                                                                                                                                                                                                         1\n",
       "« Mais cessons de faire une fixation sur Edwy Plenel et Jean-Jacques Bourdin, c’est croquignolesque, soupire le chef de l’Etat, il ne faut pas oublier la performance tout en douceur de Laurent Delahousse. Sans se mettre en avant, il a su aborder l’entretien avec un angle inédit en me massant les pieds avec tact et vigueur, bien installé sous la table ». L’intéressé ne s’en cache pas, cette technique controversée d’interview était un essai risqué, mais il le juge concluant : « La réflexologie plantaire a mauvaise presse dans le monde politique depuis l’affaire Georges Tron, mais croyez-moi, c’est un excellent moyen de faire parler les gens. Hier, mes massages plantaires étaient travaillés et appliqués. Ce journalisme est encore nouveau, mais je vais l’imposer, croyez-moi. Et en étant caché sous le bureau, cette fois-ci, on ne pourra pas me reprocher de vouloir trop jouer de mon image » souligne Laurent Delahousse, en train d’appuyer sur notre gros orteil pour nous détendre, avant de nous demander en échange d’être sympathique avec lui dans notre article. De son côté, France 2 assume l’évolution journalistique de son animateur star, comme le souligne Delphine Ernotte, présidente de France Télévisions : « Laurent a du talent et beaucoup d’idées. J’ai hâte de le voir à l’œuvre lorsqu’il interrogera avec beaucoup d’insolence Pierre Gattaz, en lui prodiguant un massage thaïlandais aux huiles essentielles. Soyez rassurés sur son avenir à France Télé. Son contrat est même ici, sur ma table, et la signature est imminente, hein Laurent ?! » dit-elle, tout en enlevant son deuxième escarpin pour que Laurent Delahousse puisse continuer son massage, technique clé de l’animateur lors des négociations avec ses supérieurs.                                                                                                                                                                                                                                                                                                                                                                                                                                                                                                                                                                                                                                                                             1\n",
       " Plusieurs centaines d’internautes ont reçu un message d’avertissement de la part de twitter suite à la plainte d’associations de lutte contre l’islamophobie. En effet, ces internautes avaient posté des messages sur #TchetchenieURGENCE dénonçant les camps d’extermination de gays en Tchétchénie. Ils ont assuré de leur bonne foi et du fait qu’ils ignoraient que la Tchétchénie était musulmane : “On voulait juste dire que c’est la faute des Russes et de Poutine, on savait pas que c’était religieux désolé.” Au nom du droit des peuples à se déterminer eux-mêmes et à massacrer leurs homosexuels s’ils le souhaitent, la Tchétchénie rejoindra officiellement l’Arabie Saoudite et l’Iran avant le début du Ramadan parmi les pays n’ayant aucun homosexuel, “contrairement à l’Occident et à Israël” a tenu à préciser le président Tchétchène.                                                                                                                                                                                                                                                                                                                                                                                                                                                                                                                                                                                                                                                                                                                                                                                                                                                                                                                                                                                                                                                                                                                                                                                                                                                                                                                                                                                                                                                                                                                                                                                                                  1\n",
       "Hier soir, en région parisienne, un migrant en situation illégale a été appréhendé par les forces de l’ordre pour avoir piqué un somme. Pris en flagrant délit pendant le vol, l’homme, âgé d’une soixantaine d’année, a été arrêté et placé en détention provisoire. Il devrait être entendu par un juge dans les prochains jours. Le marchand de sable, à qui appartient l’entrepôt, a déposé plainte, accompagné de son acolyte Nounours. EDIT: l’homme a été relâche en fin de matinée, et devrait recevoir une invitation à comparaître d’ici quelques jours. Il a reçu l’ordre de ne pas quitter le territoire.                                                                                                                                                                                                                                                                                                                                                                                                                                                                                                                                                                                                                                                                                                                                                                                                                                                                                                                                                                                                                                                                                                                                                                                                                                                                                                                                                                                                                                                                                                                                                                                                                                                                                                                                                                                                                                                               1\n",
       " Le Président Francais, Emmanuel Macron, a été surpris ce mercredi 20 février au cimetière de Passy, où il dessinait des svastika sur les tombes. Interpelé par les forces de l’ordre, il a nié toute responsabilité : “Avec ma popularité au plus bas, il faut bien que je fasse quelque chose, quelque discours… Or les Francais adorent les discours de la Seconde Guerre Mondiale… Je comptais leur faire une surprise, en leur mentionnant Pétain et leur passé de collabo-tueurs-de-Juifs. En plus, cela aurait détourné l’attention du mouvement des gilets jaunes, qui ne s’arrêtera jamais sinon!” Le chef de l’Etat a ensuite déploré la décision de la République d’obliger tous les Francais a avoir un gilet jaune dans leur coffre de voiture : “Ce triste mouvement, qui rappelle les Heures Sombres de notre histoire, n’aurait jamais percé sinon… Ne permettre qu’une seule couleur, au Siècle de la Diversité, c’est vraiment du nazisme, même pour des gilets”.                                                                                                                                                                                                                                                                                                                                                                                                                                                                                                                                                                                                                                                                                                                                                                                                                                                                                                                                                                                                                                                                                                                                                                                                                                                                                                                                                                                                                                                                                                 1\n",
       "Le célèbre club libertin de Toulouse « Les douches », organise une soirée Gilets Jaunes pour continuer le combat et montrer à quel point les français sont à poil! Pour y participer il suffit de se présenter et choisir son rôle. Le directeur, monsieur Grosdard, en déclarations à notre magasine, explique: « Nous avons imaginé la soirée du siècle, parrainée par Patrick Sébastien lui même. Les rôles sont: politique (a le droit de sodomiser tout le monde), élu local (pris en sandwich entre le politique et le peuple), Gilet Jaune (se fait sodomiser en amont et fait des blocages à l’entrée du sauna, de la piscine et de la buvette), citoyen (pour les masochistes ) sera le seul à payer pour y entrer et se fera prendre par tout le monde. Les citoyens auront quelques opportunités d’ouvrir leur bouche, mais dans des cadres très spécifiques. Nous avons pris des mesures extraordinaires au cas ou les Gilets Jaunes cassent le distributeur de préservatifs ou veuillent échanger les lubrifiants avec du tabasco. Il y aura un service de ramassage et dépose pour tous les retraités désireux de participer.                                                                                                                                                                                                                                                                                                                                                                                                                                                                                                                                                                                                                                                                                                                                                                                                                                                                                                                                                                                                                                                                                                                                                                                                                                                                                                                                         1\n",
       "Le Conseil d’Etat, qui s’est réuni en urgence afin de statuer sur la validité de ce nouveau look, a fini par trancher : “Le bouc de Manuel Valls devra disparaître dans les prochains jours car il va à l’encontre de tout et de tous.” nous confie Catherine Bergeal, Secrétaire générale de l’institution. Depuis le mois de mai dernier et l’effondrement du Parti socialiste, Manuel Valls avait décidé de changer du tout au tout en arborant un bouc absolument dégueulasse afin de montrer qu’il avait pris un tournant dans sa vie professionnelle mais également personnelle. La femme de l’ancien Premier ministre, que nous avons réussi à joindre, ne cachait pas sa joie au téléphone : «C’est l’un des plus beaux jours de ma vie, je vivais un enfer depuis des mois. Manuel, lui, ne comprend pas la polémique, il se trouvait bel homme avec ce bouc, il voulait ressembler à Christophe Maé, qu’il adore.” En 1982, le collier de barbe de Robert Hue sauvé de justesse par le Conseil Pour rappel, en 1982, Robert Hue avait échappé à la même sanction alors que beaucoup de Français demandaient l’éradication de son collier de barbe. “Pour Robert, c’était différent” nous confie Jean-Marc Sauvé, vice président du Conseil d’Etat. “On savait que dans sa tête, Robert vivait en URSS au milieu des communistes et ne mangeait que du pain et de l’eau. Nous avons donc décidé de le laisser dans son monde avec son collier de barbe. Valls, il fait ça pour provoquer sans aucune raison, alors nous avons sanctionné.” Le mois prochain, le Conseil d’Etat se penchera sur un autre cas très sensible puisqu’il s’agit de l’accent anglais de Jane Birkin, qui irrite en plus haut lieu alors que la chanteuse vit en France depuis 50 ans cette année.                                                                                                                                                                                                                                                                                                                                                                                                                                                                                                                                                                                                                                                                                                1\n",
       "« Il est important que les chasseurs se sentent en sécurité dans la forêt » a souligné le ministre de l’agriculture qui veut s’assurer qu’en cas d’accident grave, le chasseur puisse bénéficier de toute l’aide juridique possible. « Dès que vous serez appréhendés, dites que vous avez cru voir un sanglier, cela sera ainsi l’Habeas Corpus du chasseur ». Dès lors, le chasseur ne pourra pas être en état d’être ni poursuivi, ni inquiété, ni condamné.  Un projet de loi sera déposé en ce sens dès la rentrée pour un vote qui interviendra pour l’ouverture de la chasse. Mais du côté des chasseurs, on reste circonspect. Certains s’inquiètent du mot « sanglier » dans des régions par exemple où ce gibier n’est pas endémique  « Il faudrait des spécifications régionales, comme des perdrix ici, des galinettes cendrées là bas, ou encore la tourterelle » explique un responsable local. Certains plaident ainsi pour une simplification maximale avec la phrase « J’ai cru voir un truc ».  D’autres se réjouissent des dispositions du bien-être animal dans ce texte. En effet, si le promeneur est gravement blessé par un tir accidentel, le chasseur pourra dès lors abréger ses souffrances et ce de manière humaine et digne.                                                                                                                                                                                                                                                                                                                                                                                                                                                                                                                                                                                                                                                                                                                                                                                                                                                                                                                                                                                                                                                                                                                                                                                                                          1\n",
       "Name: body, Length: 928, dtype: int64"
      ]
     },
     "execution_count": 213,
     "metadata": {},
     "output_type": "execute_result"
    }
   ],
   "source": [
    "df_fake[\"body\"].value_counts()"
   ]
  },
  {
   "cell_type": "code",
   "execution_count": 214,
   "metadata": {},
   "outputs": [],
   "source": [
    "str_test = '\\nwindow.beOpinionAsyncInit = function() {\\n  BeOpinionSDK.init({\\n    account: \"589c71a4d068331ee05ac9fd\"\\n  });\\n  BeOpinionSDK.watch();\\n};\\n\\n' "
   ]
  },
  {
   "cell_type": "code",
   "execution_count": 215,
   "metadata": {},
   "outputs": [
    {
     "data": {
      "text/plain": [
       "13"
      ]
     },
     "execution_count": 215,
     "metadata": {},
     "output_type": "execute_result"
    }
   ],
   "source": [
    "df_fake[df_fake[\"body\"] == str_test].shape[0]"
   ]
  },
  {
   "cell_type": "code",
   "execution_count": 216,
   "metadata": {},
   "outputs": [
    {
     "data": {
      "text/plain": [
       "13      Test : par quel robot allez-vous être remplacé ?\n",
       "44                  Test – Êtes-vous une Fiat Multipla ?\n",
       "49                     Test : Mais où est donc Ornicar ?\n",
       "54     Test – Vous n’en avez pas marre de répondre à ...\n",
       "60     Test : Dans quelles atroces souffrances allez-...\n",
       "63      Test : Quel tracteur Massey Ferguson êtes-vous ?\n",
       "80     Test – Êtes vous capable de survivre au Servic...\n",
       "112                              Test : Qui a le droit ?\n",
       "120    TEST : Etes-vous un rebelle à moto ou un compt...\n",
       "170    Test : êtes-vous un influenceur ou parlez-vous...\n",
       "208         Test : Êtes-vous une pourriture communiste ?\n",
       "258          Test : quel ministre vous méprise le plus ?\n",
       "332    Test : Quel ministère Emmanuel Macron va-t-il ...\n",
       "Name: title, dtype: object"
      ]
     },
     "execution_count": 216,
     "metadata": {},
     "output_type": "execute_result"
    }
   ],
   "source": [
    "df_fake[df_fake[\"body\"] == str_test][\"title\"]"
   ]
  },
  {
   "cell_type": "code",
   "execution_count": 218,
   "metadata": {},
   "outputs": [
    {
     "data": {
      "text/plain": [
       "Series([], Name: title, dtype: object)"
      ]
     },
     "execution_count": 218,
     "metadata": {},
     "output_type": "execute_result"
    }
   ],
   "source": [
    "df_fake[df_fake[\"body\"].str.match(\"^Test\")][\"title\"]"
   ]
  },
  {
   "cell_type": "code",
   "execution_count": 226,
   "metadata": {},
   "outputs": [
    {
     "data": {
      "text/plain": [
       "16"
      ]
     },
     "execution_count": 226,
     "metadata": {},
     "output_type": "execute_result"
    }
   ],
   "source": [
    "df_fake[df_fake[\"title\"].str.startswith('Test')].shape[0]"
   ]
  },
  {
   "cell_type": "code",
   "execution_count": 224,
   "metadata": {},
   "outputs": [
    {
     "data": {
      "text/plain": [
       "['Test : par quel robot allez-vous être remplacé ?',\n",
       " 'Test – Êtes-vous une Fiat Multipla ?',\n",
       " 'Test : Mais où est donc Ornicar ?',\n",
       " 'Test – Vous n’en avez pas marre de répondre à des tests sans intérêt au lieu de réfléchir un peu à vos projets de vie ?',\n",
       " 'Test : Dans quelles atroces souffrances allez-vous mourir ?',\n",
       " 'Test : Quel tracteur Massey Ferguson êtes-vous ?',\n",
       " 'Test – Êtes vous capable de survivre au Service National Universel ?',\n",
       " 'Test : Qui a le droit ?',\n",
       " 'TEST : Etes-vous un rebelle à moto ou un comptable ?',\n",
       " 'Test : êtes-vous un influenceur ou parlez-vous correctement français ?',\n",
       " 'Test : Êtes-vous une pourriture communiste ?',\n",
       " 'Test : quel ministre vous méprise le plus ?',\n",
       " 'Test : Quel ministère Emmanuel Macron va-t-il vous proposer ce week-end ?']"
      ]
     },
     "execution_count": 224,
     "metadata": {},
     "output_type": "execute_result"
    }
   ],
   "source": [
    "df_fake[df_fake[\"body\"] == str_test]['title'].tolist()"
   ]
  },
  {
   "cell_type": "code",
   "execution_count": 228,
   "metadata": {},
   "outputs": [
    {
     "data": {
      "text/plain": [
       "['http://www.legorafi.fr/2019/12/12/test-quel-est-lage-ideal-pour-mourir-avant-la-retraite/',\n",
       " 'http://www.legorafi.fr/2019/11/04/test-par-quel-robot-allez-vous-etre-remplace/',\n",
       " 'http://www.legorafi.fr/2019/09/10/test-etes-vous-une-fiat-multipla/',\n",
       " 'http://www.legorafi.fr/2019/09/03/test-mais-ou-est-donc-ornicar/',\n",
       " 'http://www.legorafi.fr/2019/08/26/test-vous-nen-avez-pas-marre-de-repondre-a-des-tests-sans-interet-au-lieu-de-reflechir-un-peu-a-vos-projets-de-vie/',\n",
       " 'http://www.legorafi.fr/2019/07/10/test-dans-quelles-atroces-souffrances-allez-vous-mourir/',\n",
       " 'http://www.legorafi.fr/2019/07/23/quel-tracteur-massey-ferguson-etes-vous/',\n",
       " 'http://www.legorafi.fr/2019/06/20/test-etes-vous-capable-de-survivre-au-service-national-universel/',\n",
       " 'http://www.legorafi.fr/2019/04/10/test-qui-a-le-droit/',\n",
       " 'http://www.legorafi.fr/2019/02/20/test-etes-vous-devant-un-ecran/',\n",
       " 'http://www.legorafi.fr/2019/02/06/test-etes-vous-sylvain-naudac-de-saint-brieuc/',\n",
       " 'http://www.legorafi.fr/2019/01/28/test-etes-vous-fiche-s/',\n",
       " 'http://www.legorafi.fr/2018/11/22/test-etes-vous-un-influenceur-ou-parlez-vous-correctement-francais/',\n",
       " 'http://www.legorafi.fr/2018/09/20/test-etes-vous-une-pourriture-communiste/',\n",
       " 'http://www.legorafi.fr/2019/10/09/test-quel-ministre-vous-meprise-le-plus/',\n",
       " 'http://www.legorafi.fr/2018/10/12/test-quel-ministere-emmanuel-macron-va-t-il-vous-proposer-ce-week-end/']"
      ]
     },
     "execution_count": 228,
     "metadata": {},
     "output_type": "execute_result"
    }
   ],
   "source": [
    "df_fake[df_fake[\"title\"].str.startswith('Test')].url.tolist()"
   ]
  },
  {
   "cell_type": "code",
   "execution_count": null,
   "metadata": {},
   "outputs": [],
   "source": []
  }
 ],
 "metadata": {
  "kernelspec": {
   "display_name": "Python 3",
   "language": "python",
   "name": "python3"
  },
  "language_info": {
   "codemirror_mode": {
    "name": "ipython",
    "version": 3
   },
   "file_extension": ".py",
   "mimetype": "text/x-python",
   "name": "python",
   "nbconvert_exporter": "python",
   "pygments_lexer": "ipython3",
   "version": "3.7.1"
  },
  "toc": {
   "base_numbering": 1,
   "nav_menu": {},
   "number_sections": true,
   "sideBar": true,
   "skip_h1_title": false,
   "title_cell": "Table of Contents",
   "title_sidebar": "Contents",
   "toc_cell": false,
   "toc_position": {
    "height": "calc(100% - 180px)",
    "left": "10px",
    "top": "150px",
    "width": "256px"
   },
   "toc_section_display": true,
   "toc_window_display": true
  }
 },
 "nbformat": 4,
 "nbformat_minor": 2
}
