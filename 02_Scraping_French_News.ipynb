{
 "cells": [
  {
   "cell_type": "markdown",
   "metadata": {},
   "source": [
    "# Scraping French News"
   ]
  },
  {
   "cell_type": "markdown",
   "metadata": {},
   "source": [
    "## Helper functions"
   ]
  },
  {
   "cell_type": "markdown",
   "metadata": {},
   "source": [
    "### clean_file : Save older scaping result"
   ]
  },
  {
   "cell_type": "code",
   "execution_count": 1,
   "metadata": {},
   "outputs": [],
   "source": [
    "# save before scraping\n",
    "\n",
    "import shutil\n",
    "# importing os module\n",
    "import os\n",
    "# import datetime module\n",
    "import datetime\n",
    "\n",
    "\n",
    "def clean_file(path_file_name):\n",
    "    '''\n",
    "    Clean file already traited : rename file with date\n",
    "    '''\n",
    "    try:\n",
    "        d = datetime.datetime.now()\n",
    "        str_date = '_' + d.strftime(\"%Y%m%d_%H_%M_%S\")\n",
    "        res_re = re.search('\\.\\w+$',path_file_name)\n",
    "        path_file_name_saved = \\\n",
    "            path_file_name[0:res_re.start()] + str_date + res_re.group(0)\n",
    "            \n",
    "        shutil.move(path_file_name, path_file_name_saved) \n",
    "        print('File {} moved!'.format(path_file_name_saved))\n",
    "    except:\n",
    "        print('File {} does not exist!'.format(path_file_name))\n",
    "        \n"
   ]
  },
  {
   "cell_type": "markdown",
   "metadata": {},
   "source": [
    "### run_spider : running spider several times "
   ]
  },
  {
   "cell_type": "code",
   "execution_count": 2,
   "metadata": {},
   "outputs": [],
   "source": [
    "import scrapy\n",
    "import scrapy.crawler as crawler\n",
    "from multiprocessing import Process, Queue\n",
    "from twisted.internet import reactor\n",
    "\n",
    "# the wrapper to make it run more times\n",
    "def run_spider(spider):\n",
    "    '''\n",
    "    function to run several times scraping process\n",
    "    '''\n",
    "    def f(q):\n",
    "        try:\n",
    "            runner = crawler.CrawlerRunner()\n",
    "            deferred = runner.crawl(spider)\n",
    "            deferred.addBoth(lambda _: reactor.stop())\n",
    "            reactor.run()\n",
    "            q.put(None)\n",
    "        except Exception as e:\n",
    "            q.put(e)\n",
    "\n",
    "    q = Queue()\n",
    "    p = Process(target=f, args=(q,))\n",
    "    p.start()\n",
    "    result = q.get()\n",
    "    p.join()\n",
    "\n",
    "    if result is not None:\n",
    "        raise result"
   ]
  },
  {
   "cell_type": "markdown",
   "metadata": {},
   "source": [
    "## Scraping Legorafi"
   ]
  },
  {
   "cell_type": "markdown",
   "metadata": {},
   "source": [
    "### Class definitions"
   ]
  },
  {
   "cell_type": "code",
   "execution_count": 3,
   "metadata": {},
   "outputs": [],
   "source": [
    "import scrapy\n",
    "from scrapy.loader import ItemLoader\n",
    "from scrapy.loader.processors import MapCompose, Join, TakeFirst\n",
    "from w3lib.html import remove_tags\n",
    "\n",
    "class GorafiItem(scrapy.Item):\n",
    "    '''\n",
    "    Class item to declare different information to scrap\n",
    "    and how to process (as input or output)\n",
    "    '''\n",
    "    # define the fields for your item here like:\n",
    "    url = scrapy.Field(output_processor=TakeFirst())\n",
    "    \n",
    "    source = scrapy.Field(output_processor=TakeFirst())\n",
    "    \n",
    "    author = scrapy.Field(\n",
    "        input_processor=MapCompose(remove_tags),\n",
    "        output_processor=TakeFirst()\n",
    "    )\n",
    "    \n",
    "    title = scrapy.Field(\n",
    "        input_processor=MapCompose(remove_tags),\n",
    "        output_processor=TakeFirst()\n",
    "    )\n",
    "    \n",
    "    theme = scrapy.Field(\n",
    "        input_processor=MapCompose(remove_tags),\n",
    "        output_processor=TakeFirst()\n",
    "    )\n",
    "    \n",
    "    date_published = scrapy.Field(\n",
    "        input_processor=MapCompose(remove_tags),\n",
    "        output_processor=TakeFirst()\n",
    "    )\n",
    "    \n",
    "    description = scrapy.Field(\n",
    "        input_processor=MapCompose(remove_tags),\n",
    "        output_processor=TakeFirst()\n",
    "    )\n",
    "    \n",
    "    body = scrapy.Field(\n",
    "        input_processor=MapCompose(remove_tags),\n",
    "        output_processor=Join()\n",
    "    )"
   ]
  },
  {
   "cell_type": "code",
   "execution_count": 4,
   "metadata": {},
   "outputs": [],
   "source": [
    "class GorafiSpider(scrapy.Spider):\n",
    "    '''\n",
    "    Spider to scrap over Le Gorafi webpages : \n",
    "    - how to find information for scraping\n",
    "    - which field names to store\n",
    "    '''\n",
    "    # Your spider definition\n",
    "    name = 'news_gorafi_spider'\n",
    "    # output definition :\n",
    "    custom_settings = {\n",
    "      'FEED_FORMAT': 'json',\n",
    "      'FEED_URI': 'items_gorafi.json'\n",
    "  }\n",
    "    # urls to scrap\n",
    "    start_urls = [\n",
    "        'http://www.legorafi.fr/2019/12/17/psycho-comment-guerir-dun-chagrin-damour-en-donnant-tout-son-argent-au-gorafi/'\n",
    "    ]\n",
    "\n",
    "    def parse(self, response):\n",
    "        '''\n",
    "        Parse definition with xpath which define all patterns to use\n",
    "        for retrieve information into HTML strings\n",
    "        '''\n",
    "        #url\tsource\tauthor\ttitle\ttheme\tdescription\tdate_published\tbody   \n",
    "        l = ItemLoader(item=GorafiItem(), selector=response)\n",
    "        \n",
    "        l.add_value('url', response.url)\n",
    "        \n",
    "        l.add_value('source', \"LeGorafi\")\n",
    "        \n",
    "        l.add_xpath('author', \n",
    "            \"//section[@class='metas container']/span[@class='context']/a\")\n",
    "        \n",
    "        l.add_xpath(\"title\", \"//h1\")\n",
    "        \n",
    "        l.add_xpath(\"theme\", \"//a[@rel='category tag']\")\n",
    "        \n",
    "        l.add_xpath(\"description\", \".//div[@class='intro']/p\")\n",
    "        \n",
    "        l.add_xpath(\"date_published\", \n",
    "            \"//section[@class='metas container']/span[@class='context']\",\n",
    "            re=\"[0-9]+/[0-9]+/[0-9]+\")\n",
    "       \n",
    "        l.add_xpath(\"body\", \"//div[@class='content']/p\")\n",
    "        \n",
    "        yield l.load_item()"
   ]
  },
  {
   "cell_type": "code",
   "execution_count": 5,
   "metadata": {},
   "outputs": [],
   "source": [
    "import scrapy\n",
    "\n",
    "class GorafiRssSpider(scrapy.Spider):\n",
    "    '''\n",
    "    Class Spider for retrieving all links to news webpages from Le Gorafi RSS\n",
    "    '''\n",
    "    name = \"gorafi_rss\"\n",
    "    \n",
    "    custom_settings = {\n",
    "      'FEED_FORMAT': 'json',\n",
    "      'FEED_URI': 'gorafi_rss.json'\n",
    "    }\n",
    "    \n",
    "    def start_requests(self):\n",
    "        urls = [\n",
    "                'http://www.legorafi.fr/feed/',\n",
    "        ]\n",
    "        for url in urls:\n",
    "            yield scrapy.Request(url=url, callback=self.parse)\n",
    "     \n",
    "    def parse(self, response):\n",
    "        for post in response.xpath('//channel/item'):\n",
    "            yield {\n",
    "                'title' : post.xpath('title//text()').extract_first(),\n",
    "                'link': post.xpath('link//text()').extract_first(),\n",
    "                'pubDate' : post.xpath('pubDate//text()').extract_first(),\n",
    "            }\n"
   ]
  },
  {
   "cell_type": "code",
   "execution_count": 6,
   "metadata": {},
   "outputs": [],
   "source": [
    "import scrapy\n",
    "import re\n",
    "\n",
    "class GorafiPageSpider(scrapy.Spider):\n",
    "    '''\n",
    "    Spider to scrap all Le Gorafi pages from selected category\n",
    "    Configure : \n",
    "    - GorafiPageSpider.custom_settings : save location \n",
    "    - num_max_pages : the number of next page to scrap\n",
    "    - url_first_page : web page to start with\n",
    "    '''\n",
    "    name = \"gorafi_page\"\n",
    "    \n",
    "    custom_settings = {\n",
    "      'FEED_FORMAT': 'json',\n",
    "      'FEED_URI': 'pages_gorafi.json'\n",
    "    }\n",
    "    \n",
    "    num_max_pages = 1\n",
    "    \n",
    "    url_first_page = 'http://www.legorafi.fr/category/france/societe/'\n",
    "    \n",
    "    def start_requests(self):\n",
    "        urls = [\n",
    "                self.url_first_page,\n",
    "        ]\n",
    "        for url in urls:\n",
    "            yield scrapy.Request(url=url, callback=self.parse)\n",
    "    \n",
    "    def parse(self, response):\n",
    "        for post in response.xpath('//article/h2'):\n",
    "            yield {\n",
    "                'link': post.xpath('a/@href').extract_first()\n",
    "            }\n",
    "            \n",
    "        next_page = response.xpath(\n",
    "            '//a[@class=\"next page-numbers\"]/@href').get()\n",
    "        \n",
    "        if next_page is not None:\n",
    "            try:\n",
    "                num_next_page = int(re.search(\"(?<=/)\\d+(?=/$)\", \n",
    "                         next_page).group(0))\n",
    "                \n",
    "                if (num_next_page < self.num_max_pages):\n",
    "                    #next_page = response.urljoin(next_page)\n",
    "                    yield scrapy.Request(next_page, callback=self.parse)\n",
    "            except:\n",
    "                next_page = None\n",
    "                "
   ]
  },
  {
   "cell_type": "markdown",
   "metadata": {},
   "source": [
    "### Scraping RSS urls"
   ]
  },
  {
   "cell_type": "markdown",
   "metadata": {},
   "source": [
    "#### Definitions"
   ]
  },
  {
   "cell_type": "code",
   "execution_count": 8,
   "metadata": {},
   "outputs": [],
   "source": [
    "# path to results file for urls\n",
    "PATH_RSS_PAGES_GORAFI = '../../data/gorafi_rss_urls.json'\n",
    "# declare your data location for scraping rss links \n",
    "PATH_RSS_NEWS_GORAFI = '../../data/gorafi_rss_pages.json'"
   ]
  },
  {
   "cell_type": "markdown",
   "metadata": {},
   "source": [
    "#### Scraping urls links"
   ]
  },
  {
   "cell_type": "code",
   "execution_count": 9,
   "metadata": {},
   "outputs": [
    {
     "name": "stdout",
     "output_type": "stream",
     "text": [
      "File ../../data/gorafi_rss_urls.json does not exist!\n"
     ]
    }
   ],
   "source": [
    "# clean (move file if exist)\n",
    "clean_file(PATH_RSS_PAGES_GORAFI)"
   ]
  },
  {
   "cell_type": "code",
   "execution_count": 10,
   "metadata": {},
   "outputs": [],
   "source": [
    "# Configure spider\n",
    "GorafiRssSpider.custom_settings = {\n",
    "      'FEED_FORMAT': 'json',\n",
    "      'FEED_URI': PATH_RSS_PAGES_GORAFI\n",
    "}\n",
    "# scraping\n",
    "run_spider(GorafiRssSpider)"
   ]
  },
  {
   "cell_type": "code",
   "execution_count": 11,
   "metadata": {},
   "outputs": [
    {
     "data": {
      "text/html": [
       "<div>\n",
       "<style scoped>\n",
       "    .dataframe tbody tr th:only-of-type {\n",
       "        vertical-align: middle;\n",
       "    }\n",
       "\n",
       "    .dataframe tbody tr th {\n",
       "        vertical-align: top;\n",
       "    }\n",
       "\n",
       "    .dataframe thead th {\n",
       "        text-align: right;\n",
       "    }\n",
       "</style>\n",
       "<table border=\"1\" class=\"dataframe\">\n",
       "  <thead>\n",
       "    <tr style=\"text-align: right;\">\n",
       "      <th></th>\n",
       "      <th>link</th>\n",
       "      <th>pubDate</th>\n",
       "      <th>title</th>\n",
       "    </tr>\n",
       "  </thead>\n",
       "  <tbody>\n",
       "    <tr>\n",
       "      <th>0</th>\n",
       "      <td>http://www.legorafi.fr/2019/12/20/le-pere-noel...</td>\n",
       "      <td>Fri, 20 Dec 2019 13:00:49 +0000</td>\n",
       "      <td>Le Père Noël découvre stupéfait l’existence de...</td>\n",
       "    </tr>\n",
       "    <tr>\n",
       "      <th>1</th>\n",
       "      <td>http://www.legorafi.fr/2019/12/20/gorafi-magaz...</td>\n",
       "      <td>Fri, 20 Dec 2019 09:00:04 +0000</td>\n",
       "      <td>Gorafi Magazine : Partir à la retraite à 115 ans</td>\n",
       "    </tr>\n",
       "    <tr>\n",
       "      <th>2</th>\n",
       "      <td>http://www.legorafi.fr/2019/12/19/noel-pour-co...</td>\n",
       "      <td>Thu, 19 Dec 2019 13:00:32 +0000</td>\n",
       "      <td>Noël – Pour coller à la réalité, les magasins ...</td>\n",
       "    </tr>\n",
       "    <tr>\n",
       "      <th>3</th>\n",
       "      <td>http://www.legorafi.fr/2019/12/19/le-gouvernem...</td>\n",
       "      <td>Thu, 19 Dec 2019 09:22:54 +0000</td>\n",
       "      <td>Le gouvernement autorise les chauffeurs des bu...</td>\n",
       "    </tr>\n",
       "    <tr>\n",
       "      <th>4</th>\n",
       "      <td>http://www.legorafi.fr/2019/12/18/espagne-18-m...</td>\n",
       "      <td>Wed, 18 Dec 2019 09:14:41 +0000</td>\n",
       "      <td>Espagne – 18 morts dans la traditionnelle bata...</td>\n",
       "    </tr>\n",
       "    <tr>\n",
       "      <th>5</th>\n",
       "      <td>http://www.legorafi.fr/2019/12/17/psycho-comme...</td>\n",
       "      <td>Tue, 17 Dec 2019 09:03:56 +0000</td>\n",
       "      <td>Psycho : Comment guérir d’un chagrin d’amour e...</td>\n",
       "    </tr>\n",
       "    <tr>\n",
       "      <th>6</th>\n",
       "      <td>http://www.legorafi.fr/2019/12/16/apres-sa-dem...</td>\n",
       "      <td>Mon, 16 Dec 2019 13:00:39 +0000</td>\n",
       "      <td>Après sa démission Jean-Paul Delevoye savoure ...</td>\n",
       "    </tr>\n",
       "    <tr>\n",
       "      <th>7</th>\n",
       "      <td>http://www.legorafi.fr/2019/12/16/le-tfc-va-sa...</td>\n",
       "      <td>Mon, 16 Dec 2019 09:04:56 +0000</td>\n",
       "      <td>Le TFC va sacrifier un de ses joueurs pour cal...</td>\n",
       "    </tr>\n",
       "    <tr>\n",
       "      <th>8</th>\n",
       "      <td>http://www.legorafi.fr/2019/12/16/horoscope-du...</td>\n",
       "      <td>Mon, 16 Dec 2019 08:31:26 +0000</td>\n",
       "      <td>Horoscope du 16 décembre 2019</td>\n",
       "    </tr>\n",
       "    <tr>\n",
       "      <th>9</th>\n",
       "      <td>http://www.legorafi.fr/2019/12/13/les-climato-...</td>\n",
       "      <td>Fri, 13 Dec 2019 14:30:12 +0000</td>\n",
       "      <td>Les climato-sceptiques  présentent leur Greta ...</td>\n",
       "    </tr>\n",
       "    <tr>\n",
       "      <th>10</th>\n",
       "      <td>http://www.legorafi.fr/2019/12/13/gorafi-magaz...</td>\n",
       "      <td>Fri, 13 Dec 2019 13:00:55 +0000</td>\n",
       "      <td>Gorafi Magazine : Personne de l’année : le LBD</td>\n",
       "    </tr>\n",
       "    <tr>\n",
       "      <th>11</th>\n",
       "      <td>http://www.legorafi.fr/2019/12/13/greves-il-ma...</td>\n",
       "      <td>Fri, 13 Dec 2019 09:06:53 +0000</td>\n",
       "      <td>Grèves – Il marche plus de 200 km par jour pie...</td>\n",
       "    </tr>\n",
       "    <tr>\n",
       "      <th>12</th>\n",
       "      <td>http://www.legorafi.fr/2019/12/12/prolongation...</td>\n",
       "      <td>Thu, 12 Dec 2019 13:04:02 +0000</td>\n",
       "      <td>Prolongation de Kylian Mbappé : « Je suis comm...</td>\n",
       "    </tr>\n",
       "    <tr>\n",
       "      <th>13</th>\n",
       "      <td>http://www.legorafi.fr/2019/12/12/test-quel-es...</td>\n",
       "      <td>Thu, 12 Dec 2019 10:33:01 +0000</td>\n",
       "      <td>Test : quel est l’âge idéal pour mourir avant ...</td>\n",
       "    </tr>\n",
       "    <tr>\n",
       "      <th>14</th>\n",
       "      <td>http://www.legorafi.fr/2019/12/11/plusieurs-bu...</td>\n",
       "      <td>Wed, 11 Dec 2019 13:00:10 +0000</td>\n",
       "      <td>Plusieurs Burger Quiz fermés après une visite ...</td>\n",
       "    </tr>\n",
       "    <tr>\n",
       "      <th>15</th>\n",
       "      <td>http://www.legorafi.fr/2019/12/11/jean-paul-de...</td>\n",
       "      <td>Wed, 11 Dec 2019 09:08:39 +0000</td>\n",
       "      <td>Jean-Paul Delevoye contraint de démissionner d...</td>\n",
       "    </tr>\n",
       "    <tr>\n",
       "      <th>16</th>\n",
       "      <td>http://www.legorafi.fr/2019/12/10/il-economise...</td>\n",
       "      <td>Tue, 10 Dec 2019 09:03:54 +0000</td>\n",
       "      <td>Il économise 5 euros en achetant au duty-free ...</td>\n",
       "    </tr>\n",
       "    <tr>\n",
       "      <th>17</th>\n",
       "      <td>http://www.legorafi.fr/2019/12/09/jean-paul-de...</td>\n",
       "      <td>Mon, 09 Dec 2019 13:00:31 +0000</td>\n",
       "      <td>Jean-Paul Delevoye a oublié de préciser qu’il ...</td>\n",
       "    </tr>\n",
       "    <tr>\n",
       "      <th>18</th>\n",
       "      <td>http://www.legorafi.fr/2019/12/09/la-police-li...</td>\n",
       "      <td>Mon, 09 Dec 2019 09:19:08 +0000</td>\n",
       "      <td>La police libère un homme qui tournait en rond...</td>\n",
       "    </tr>\n",
       "    <tr>\n",
       "      <th>19</th>\n",
       "      <td>http://www.legorafi.fr/2019/12/09/horoscope-du...</td>\n",
       "      <td>Mon, 09 Dec 2019 08:42:07 +0000</td>\n",
       "      <td>Horoscope du 9 décembre 2019</td>\n",
       "    </tr>\n",
       "  </tbody>\n",
       "</table>\n",
       "</div>"
      ],
      "text/plain": [
       "                                                 link  \\\n",
       "0   http://www.legorafi.fr/2019/12/20/le-pere-noel...   \n",
       "1   http://www.legorafi.fr/2019/12/20/gorafi-magaz...   \n",
       "2   http://www.legorafi.fr/2019/12/19/noel-pour-co...   \n",
       "3   http://www.legorafi.fr/2019/12/19/le-gouvernem...   \n",
       "4   http://www.legorafi.fr/2019/12/18/espagne-18-m...   \n",
       "5   http://www.legorafi.fr/2019/12/17/psycho-comme...   \n",
       "6   http://www.legorafi.fr/2019/12/16/apres-sa-dem...   \n",
       "7   http://www.legorafi.fr/2019/12/16/le-tfc-va-sa...   \n",
       "8   http://www.legorafi.fr/2019/12/16/horoscope-du...   \n",
       "9   http://www.legorafi.fr/2019/12/13/les-climato-...   \n",
       "10  http://www.legorafi.fr/2019/12/13/gorafi-magaz...   \n",
       "11  http://www.legorafi.fr/2019/12/13/greves-il-ma...   \n",
       "12  http://www.legorafi.fr/2019/12/12/prolongation...   \n",
       "13  http://www.legorafi.fr/2019/12/12/test-quel-es...   \n",
       "14  http://www.legorafi.fr/2019/12/11/plusieurs-bu...   \n",
       "15  http://www.legorafi.fr/2019/12/11/jean-paul-de...   \n",
       "16  http://www.legorafi.fr/2019/12/10/il-economise...   \n",
       "17  http://www.legorafi.fr/2019/12/09/jean-paul-de...   \n",
       "18  http://www.legorafi.fr/2019/12/09/la-police-li...   \n",
       "19  http://www.legorafi.fr/2019/12/09/horoscope-du...   \n",
       "\n",
       "                            pubDate  \\\n",
       "0   Fri, 20 Dec 2019 13:00:49 +0000   \n",
       "1   Fri, 20 Dec 2019 09:00:04 +0000   \n",
       "2   Thu, 19 Dec 2019 13:00:32 +0000   \n",
       "3   Thu, 19 Dec 2019 09:22:54 +0000   \n",
       "4   Wed, 18 Dec 2019 09:14:41 +0000   \n",
       "5   Tue, 17 Dec 2019 09:03:56 +0000   \n",
       "6   Mon, 16 Dec 2019 13:00:39 +0000   \n",
       "7   Mon, 16 Dec 2019 09:04:56 +0000   \n",
       "8   Mon, 16 Dec 2019 08:31:26 +0000   \n",
       "9   Fri, 13 Dec 2019 14:30:12 +0000   \n",
       "10  Fri, 13 Dec 2019 13:00:55 +0000   \n",
       "11  Fri, 13 Dec 2019 09:06:53 +0000   \n",
       "12  Thu, 12 Dec 2019 13:04:02 +0000   \n",
       "13  Thu, 12 Dec 2019 10:33:01 +0000   \n",
       "14  Wed, 11 Dec 2019 13:00:10 +0000   \n",
       "15  Wed, 11 Dec 2019 09:08:39 +0000   \n",
       "16  Tue, 10 Dec 2019 09:03:54 +0000   \n",
       "17  Mon, 09 Dec 2019 13:00:31 +0000   \n",
       "18  Mon, 09 Dec 2019 09:19:08 +0000   \n",
       "19  Mon, 09 Dec 2019 08:42:07 +0000   \n",
       "\n",
       "                                                title  \n",
       "0   Le Père Noël découvre stupéfait l’existence de...  \n",
       "1    Gorafi Magazine : Partir à la retraite à 115 ans  \n",
       "2   Noël – Pour coller à la réalité, les magasins ...  \n",
       "3   Le gouvernement autorise les chauffeurs des bu...  \n",
       "4   Espagne – 18 morts dans la traditionnelle bata...  \n",
       "5   Psycho : Comment guérir d’un chagrin d’amour e...  \n",
       "6   Après sa démission Jean-Paul Delevoye savoure ...  \n",
       "7   Le TFC va sacrifier un de ses joueurs pour cal...  \n",
       "8                       Horoscope du 16 décembre 2019  \n",
       "9   Les climato-sceptiques  présentent leur Greta ...  \n",
       "10     Gorafi Magazine : Personne de l’année : le LBD  \n",
       "11  Grèves – Il marche plus de 200 km par jour pie...  \n",
       "12  Prolongation de Kylian Mbappé : « Je suis comm...  \n",
       "13  Test : quel est l’âge idéal pour mourir avant ...  \n",
       "14  Plusieurs Burger Quiz fermés après une visite ...  \n",
       "15  Jean-Paul Delevoye contraint de démissionner d...  \n",
       "16  Il économise 5 euros en achetant au duty-free ...  \n",
       "17  Jean-Paul Delevoye a oublié de préciser qu’il ...  \n",
       "18  La police libère un homme qui tournait en rond...  \n",
       "19                       Horoscope du 9 décembre 2019  "
      ]
     },
     "execution_count": 11,
     "metadata": {},
     "output_type": "execute_result"
    }
   ],
   "source": [
    "import pandas as pd\n",
    "\n",
    "df_rss_gorafi = pd.read_json(PATH_RSS_PAGES_GORAFI)\n",
    "df_rss_gorafi"
   ]
  },
  {
   "cell_type": "code",
   "execution_count": 12,
   "metadata": {},
   "outputs": [
    {
     "data": {
      "text/plain": [
       "(20, 3)"
      ]
     },
     "execution_count": 12,
     "metadata": {},
     "output_type": "execute_result"
    }
   ],
   "source": [
    "df_rss_gorafi.shape"
   ]
  },
  {
   "cell_type": "markdown",
   "metadata": {},
   "source": [
    "#### Scraping RSS news"
   ]
  },
  {
   "cell_type": "code",
   "execution_count": 13,
   "metadata": {},
   "outputs": [],
   "source": [
    "# configure : add all retrieved links to Spider\n",
    "GorafiSpider.start_urls = df_rss_gorafi[\"link\"].tolist()\n",
    "GorafiSpider.custom_settings = {\n",
    "      'FEED_FORMAT': 'json',\n",
    "      'FEED_URI': PATH_RSS_NEWS_GORAFI\n",
    "}\n",
    "\n",
    "# scraping\n",
    "run_spider(GorafiSpider)"
   ]
  },
  {
   "cell_type": "code",
   "execution_count": 14,
   "metadata": {},
   "outputs": [
    {
     "data": {
      "text/html": [
       "<div>\n",
       "<style scoped>\n",
       "    .dataframe tbody tr th:only-of-type {\n",
       "        vertical-align: middle;\n",
       "    }\n",
       "\n",
       "    .dataframe tbody tr th {\n",
       "        vertical-align: top;\n",
       "    }\n",
       "\n",
       "    .dataframe thead th {\n",
       "        text-align: right;\n",
       "    }\n",
       "</style>\n",
       "<table border=\"1\" class=\"dataframe\">\n",
       "  <thead>\n",
       "    <tr style=\"text-align: right;\">\n",
       "      <th></th>\n",
       "      <th>author</th>\n",
       "      <th>body</th>\n",
       "      <th>date_published</th>\n",
       "      <th>description</th>\n",
       "      <th>source</th>\n",
       "      <th>theme</th>\n",
       "      <th>title</th>\n",
       "      <th>url</th>\n",
       "    </tr>\n",
       "  </thead>\n",
       "  <tbody>\n",
       "    <tr>\n",
       "      <th>0</th>\n",
       "      <td>La Rédaction</td>\n",
       "      <td>« Je n’en revenais pas… C’est un lutin stagiai...</td>\n",
       "      <td>20/12/2019</td>\n",
       "      <td>A quatre jours de la distribution des cadeaux ...</td>\n",
       "      <td>LeGorafi</td>\n",
       "      <td>Société</td>\n",
       "      <td>Le Père Noël découvre stupéfait l’existence de...</td>\n",
       "      <td>http://www.legorafi.fr/2019/12/20/le-pere-noel...</td>\n",
       "    </tr>\n",
       "    <tr>\n",
       "      <th>1</th>\n",
       "      <td>La Rédaction</td>\n",
       "      <td>NaN</td>\n",
       "      <td>20/12/2019</td>\n",
       "      <td>NaN</td>\n",
       "      <td>LeGorafi</td>\n",
       "      <td>Magazine</td>\n",
       "      <td>Gorafi Magazine : Partir à la retraite à 115 ans</td>\n",
       "      <td>http://www.legorafi.fr/2019/12/20/gorafi-magaz...</td>\n",
       "    </tr>\n",
       "    <tr>\n",
       "      <th>2</th>\n",
       "      <td>La Rédaction</td>\n",
       "      <td>« Mes équipes sentaient le malaise s’installer...</td>\n",
       "      <td>19/12/2019</td>\n",
       "      <td>Afin d’être plus en phase avec l’actualité, le...</td>\n",
       "      <td>LeGorafi</td>\n",
       "      <td>Société</td>\n",
       "      <td>Noël – Pour coller à la réalité, les magasins ...</td>\n",
       "      <td>http://www.legorafi.fr/2019/12/19/noel-pour-co...</td>\n",
       "    </tr>\n",
       "    <tr>\n",
       "      <th>3</th>\n",
       "      <td>La Rédaction</td>\n",
       "      <td>Ainsi les chauffeurs sont autorisés à prendre ...</td>\n",
       "      <td>19/12/2019</td>\n",
       "      <td>Paris – Pour aider les Français à pouvoir prof...</td>\n",
       "      <td>LeGorafi</td>\n",
       "      <td>Société</td>\n",
       "      <td>Le gouvernement autorise les chauffeurs des bu...</td>\n",
       "      <td>http://www.legorafi.fr/2019/12/19/le-gouvernem...</td>\n",
       "    </tr>\n",
       "    <tr>\n",
       "      <th>4</th>\n",
       "      <td>La Rédaction</td>\n",
       "      <td>Oliver Sadran espère ainsi conjurer le mauvais...</td>\n",
       "      <td>16/12/2019</td>\n",
       "      <td>Aux grands maux les grands remèdes. Afin de ca...</td>\n",
       "      <td>LeGorafi</td>\n",
       "      <td>Sports</td>\n",
       "      <td>Le TFC va sacrifier un de ses joueurs pour cal...</td>\n",
       "      <td>http://www.legorafi.fr/2019/12/16/le-tfc-va-sa...</td>\n",
       "    </tr>\n",
       "  </tbody>\n",
       "</table>\n",
       "</div>"
      ],
      "text/plain": [
       "         author                                               body  \\\n",
       "0  La Rédaction  « Je n’en revenais pas… C’est un lutin stagiai...   \n",
       "1  La Rédaction                                                NaN   \n",
       "2  La Rédaction  « Mes équipes sentaient le malaise s’installer...   \n",
       "3  La Rédaction  Ainsi les chauffeurs sont autorisés à prendre ...   \n",
       "4  La Rédaction  Oliver Sadran espère ainsi conjurer le mauvais...   \n",
       "\n",
       "  date_published                                        description    source  \\\n",
       "0     20/12/2019  A quatre jours de la distribution des cadeaux ...  LeGorafi   \n",
       "1     20/12/2019                                                NaN  LeGorafi   \n",
       "2     19/12/2019  Afin d’être plus en phase avec l’actualité, le...  LeGorafi   \n",
       "3     19/12/2019  Paris – Pour aider les Français à pouvoir prof...  LeGorafi   \n",
       "4     16/12/2019  Aux grands maux les grands remèdes. Afin de ca...  LeGorafi   \n",
       "\n",
       "      theme                                              title  \\\n",
       "0   Société  Le Père Noël découvre stupéfait l’existence de...   \n",
       "1  Magazine   Gorafi Magazine : Partir à la retraite à 115 ans   \n",
       "2   Société  Noël – Pour coller à la réalité, les magasins ...   \n",
       "3   Société  Le gouvernement autorise les chauffeurs des bu...   \n",
       "4    Sports  Le TFC va sacrifier un de ses joueurs pour cal...   \n",
       "\n",
       "                                                 url  \n",
       "0  http://www.legorafi.fr/2019/12/20/le-pere-noel...  \n",
       "1  http://www.legorafi.fr/2019/12/20/gorafi-magaz...  \n",
       "2  http://www.legorafi.fr/2019/12/19/noel-pour-co...  \n",
       "3  http://www.legorafi.fr/2019/12/19/le-gouvernem...  \n",
       "4  http://www.legorafi.fr/2019/12/16/le-tfc-va-sa...  "
      ]
     },
     "execution_count": 14,
     "metadata": {},
     "output_type": "execute_result"
    }
   ],
   "source": [
    "import pandas as pd\n",
    "\n",
    "df_gorafi = pd.read_json(PATH_RSS_NEWS_GORAFI)\n",
    "df_gorafi.head()"
   ]
  },
  {
   "cell_type": "code",
   "execution_count": 15,
   "metadata": {},
   "outputs": [
    {
     "data": {
      "text/plain": [
       "(20, 8)"
      ]
     },
     "execution_count": 15,
     "metadata": {},
     "output_type": "execute_result"
    }
   ],
   "source": [
    "df_gorafi.shape"
   ]
  },
  {
   "cell_type": "markdown",
   "metadata": {},
   "source": [
    "### Scraping urls into webpages "
   ]
  },
  {
   "cell_type": "markdown",
   "metadata": {},
   "source": [
    "#### Definitions"
   ]
  },
  {
   "cell_type": "code",
   "execution_count": 165,
   "metadata": {},
   "outputs": [],
   "source": [
    "URL_PAGES_GORAFI_SOCIETE = 'http://www.legorafi.fr/category/france/societe/'\n",
    "# declare your data location\n",
    "PATH_PAGES_GORAFI_SOCIETE = '../../data/pages_gorafi.json'\n",
    "PATH_NEWS_GORAFI_SOCIETE = '../../data/gorafi_societe.json'\n",
    "\n",
    "URL_PAGES_GORAFI_POLITIQUE = 'http://www.legorafi.fr/category/france/politique/'\n",
    "# declare your data location\n",
    "PATH_PAGES_GORAFI_POLITIQUE = '../../data/pages_gorafi_politique.json'\n",
    "PATH_NEWS_GORAFI_POLITIQUE = '../../data/gorafi_politique.json'"
   ]
  },
  {
   "cell_type": "markdown",
   "metadata": {},
   "source": [
    "#### Le Gorafi Société"
   ]
  },
  {
   "cell_type": "markdown",
   "metadata": {},
   "source": [
    "##### Scraping links"
   ]
  },
  {
   "cell_type": "code",
   "execution_count": 153,
   "metadata": {},
   "outputs": [
    {
     "name": "stdout",
     "output_type": "stream",
     "text": [
      "File ../../data/pages_gorafi_20191225_10_47_30.json moved!\n"
     ]
    }
   ],
   "source": [
    "# clean (move file if exist)\n",
    "clean_file(PATH_PAGES_GORAFI_SOCIETE)"
   ]
  },
  {
   "cell_type": "code",
   "execution_count": 104,
   "metadata": {},
   "outputs": [],
   "source": [
    "# configure scraping\n",
    "GorafiPageSpider.url_first_page = URL_PAGES_GORAFI_SOCIETE\n",
    "GorafiPageSpider.custom_settings = {\n",
    "      'FEED_FORMAT': 'json',\n",
    "      'FEED_URI': PATH_PAGES_GORAFI_SOCIETE\n",
    "    }\n",
    "GorafiPageSpider.num_max_pages = 50\n",
    "\n",
    "# clean last output\n",
    "clean_file(PATH_PAGES_GORAFI_SOCIETE)\n",
    "# scraping page urls LeGorafi\n",
    "run_spider(GorafiPageSpider)"
   ]
  },
  {
   "cell_type": "code",
   "execution_count": 161,
   "metadata": {},
   "outputs": [
    {
     "data": {
      "text/html": [
       "<div>\n",
       "<style scoped>\n",
       "    .dataframe tbody tr th:only-of-type {\n",
       "        vertical-align: middle;\n",
       "    }\n",
       "\n",
       "    .dataframe tbody tr th {\n",
       "        vertical-align: top;\n",
       "    }\n",
       "\n",
       "    .dataframe thead th {\n",
       "        text-align: right;\n",
       "    }\n",
       "</style>\n",
       "<table border=\"1\" class=\"dataframe\">\n",
       "  <thead>\n",
       "    <tr style=\"text-align: right;\">\n",
       "      <th></th>\n",
       "      <th>link</th>\n",
       "    </tr>\n",
       "  </thead>\n",
       "  <tbody>\n",
       "    <tr>\n",
       "      <th>0</th>\n",
       "      <td>http://www.legorafi.fr/2019/12/19/noel-pour-co...</td>\n",
       "    </tr>\n",
       "    <tr>\n",
       "      <th>1</th>\n",
       "      <td>http://www.legorafi.fr/2019/12/19/le-gouvernem...</td>\n",
       "    </tr>\n",
       "    <tr>\n",
       "      <th>2</th>\n",
       "      <td>http://www.legorafi.fr/2019/12/17/psycho-comme...</td>\n",
       "    </tr>\n",
       "    <tr>\n",
       "      <th>3</th>\n",
       "      <td>http://www.legorafi.fr/2019/12/12/test-quel-es...</td>\n",
       "    </tr>\n",
       "    <tr>\n",
       "      <th>4</th>\n",
       "      <td>http://www.legorafi.fr/2019/12/11/plusieurs-bu...</td>\n",
       "    </tr>\n",
       "  </tbody>\n",
       "</table>\n",
       "</div>"
      ],
      "text/plain": [
       "                                                link\n",
       "0  http://www.legorafi.fr/2019/12/19/noel-pour-co...\n",
       "1  http://www.legorafi.fr/2019/12/19/le-gouvernem...\n",
       "2  http://www.legorafi.fr/2019/12/17/psycho-comme...\n",
       "3  http://www.legorafi.fr/2019/12/12/test-quel-es...\n",
       "4  http://www.legorafi.fr/2019/12/11/plusieurs-bu..."
      ]
     },
     "execution_count": 161,
     "metadata": {},
     "output_type": "execute_result"
    }
   ],
   "source": [
    "import pandas as pd\n",
    "\n",
    "df_gorafi_pages = pd.read_json(PATH_PAGES_GORAFI_SOCIETE)\n",
    "df_gorafi_pages.head()"
   ]
  },
  {
   "cell_type": "code",
   "execution_count": 166,
   "metadata": {},
   "outputs": [
    {
     "data": {
      "text/plain": [
       "(246, 1)"
      ]
     },
     "execution_count": 166,
     "metadata": {},
     "output_type": "execute_result"
    }
   ],
   "source": [
    "df_gorafi_pages.shape"
   ]
  },
  {
   "cell_type": "markdown",
   "metadata": {},
   "source": [
    "##### Scraping news"
   ]
  },
  {
   "cell_type": "code",
   "execution_count": 167,
   "metadata": {},
   "outputs": [],
   "source": [
    "# configure : add all retrieved links to Spider\n",
    "GorafiSpider.start_urls = df_gorafi_pages[\"link\"].tolist()\n",
    "GorafiSpider.custom_settings = {\n",
    "      'FEED_FORMAT': 'json',\n",
    "      'FEED_URI': PATH_NEWS_GORAFI\n",
    "    }\n",
    "# scraping\n",
    "run_spider(GorafiSpider)"
   ]
  },
  {
   "cell_type": "code",
   "execution_count": 168,
   "metadata": {},
   "outputs": [
    {
     "data": {
      "text/html": [
       "<div>\n",
       "<style scoped>\n",
       "    .dataframe tbody tr th:only-of-type {\n",
       "        vertical-align: middle;\n",
       "    }\n",
       "\n",
       "    .dataframe tbody tr th {\n",
       "        vertical-align: top;\n",
       "    }\n",
       "\n",
       "    .dataframe thead th {\n",
       "        text-align: right;\n",
       "    }\n",
       "</style>\n",
       "<table border=\"1\" class=\"dataframe\">\n",
       "  <thead>\n",
       "    <tr style=\"text-align: right;\">\n",
       "      <th></th>\n",
       "      <th>author</th>\n",
       "      <th>body</th>\n",
       "      <th>date_published</th>\n",
       "      <th>description</th>\n",
       "      <th>source</th>\n",
       "      <th>theme</th>\n",
       "      <th>title</th>\n",
       "      <th>url</th>\n",
       "    </tr>\n",
       "  </thead>\n",
       "  <tbody>\n",
       "    <tr>\n",
       "      <th>0</th>\n",
       "      <td>La Rédaction</td>\n",
       "      <td>« Mes équipes sentaient le malaise s’installer...</td>\n",
       "      <td>19/12/2019</td>\n",
       "      <td>Afin d’être plus en phase avec l’actualité, le...</td>\n",
       "      <td>LeGorafi</td>\n",
       "      <td>Société</td>\n",
       "      <td>Noël – Pour coller à la réalité, les magasins ...</td>\n",
       "      <td>http://www.legorafi.fr/2019/12/19/noel-pour-co...</td>\n",
       "    </tr>\n",
       "    <tr>\n",
       "      <th>1</th>\n",
       "      <td>La Rédaction</td>\n",
       "      <td>Oui, car Mathias a économisé pas moins de 5 eu...</td>\n",
       "      <td>10/12/2019</td>\n",
       "      <td>Alors qu’il rentrait d’un week-end, Mathias a ...</td>\n",
       "      <td>LeGorafi</td>\n",
       "      <td>Société</td>\n",
       "      <td>Il économise 5 euros en achetant au duty-free ...</td>\n",
       "      <td>http://www.legorafi.fr/2019/12/10/il-economise...</td>\n",
       "    </tr>\n",
       "    <tr>\n",
       "      <th>2</th>\n",
       "      <td>La Rédaction</td>\n",
       "      <td>1/ Faire un beau chèque en s’appliquant pour l...</td>\n",
       "      <td>17/12/2019</td>\n",
       "      <td>L’échec amoureux n’a plus de secret pour vous ...</td>\n",
       "      <td>LeGorafi</td>\n",
       "      <td>Société</td>\n",
       "      <td>Psycho : Comment guérir d’un chagrin d’amour e...</td>\n",
       "      <td>http://www.legorafi.fr/2019/12/17/psycho-comme...</td>\n",
       "    </tr>\n",
       "    <tr>\n",
       "      <th>3</th>\n",
       "      <td>La Rédaction</td>\n",
       "      <td>\\nwindow.beOpAsyncInit = function() {\\n  BeOpS...</td>\n",
       "      <td>12/12/2019</td>\n",
       "      <td>Depuis les annonces d’Edouard Philippe, vous v...</td>\n",
       "      <td>LeGorafi</td>\n",
       "      <td>Société</td>\n",
       "      <td>Test : quel est l’âge idéal pour mourir avant ...</td>\n",
       "      <td>http://www.legorafi.fr/2019/12/12/test-quel-es...</td>\n",
       "    </tr>\n",
       "    <tr>\n",
       "      <th>4</th>\n",
       "      <td>La Rédaction</td>\n",
       "      <td>Selon les services sanitaires, se sont plusieu...</td>\n",
       "      <td>11/12/2019</td>\n",
       "      <td>Paris – La chaîne de restauration rapide lancé...</td>\n",
       "      <td>LeGorafi</td>\n",
       "      <td>Société</td>\n",
       "      <td>Plusieurs Burger Quiz fermés après une visite ...</td>\n",
       "      <td>http://www.legorafi.fr/2019/12/11/plusieurs-bu...</td>\n",
       "    </tr>\n",
       "  </tbody>\n",
       "</table>\n",
       "</div>"
      ],
      "text/plain": [
       "         author                                               body  \\\n",
       "0  La Rédaction  « Mes équipes sentaient le malaise s’installer...   \n",
       "1  La Rédaction  Oui, car Mathias a économisé pas moins de 5 eu...   \n",
       "2  La Rédaction  1/ Faire un beau chèque en s’appliquant pour l...   \n",
       "3  La Rédaction  \\nwindow.beOpAsyncInit = function() {\\n  BeOpS...   \n",
       "4  La Rédaction  Selon les services sanitaires, se sont plusieu...   \n",
       "\n",
       "  date_published                                        description    source  \\\n",
       "0     19/12/2019  Afin d’être plus en phase avec l’actualité, le...  LeGorafi   \n",
       "1     10/12/2019  Alors qu’il rentrait d’un week-end, Mathias a ...  LeGorafi   \n",
       "2     17/12/2019  L’échec amoureux n’a plus de secret pour vous ...  LeGorafi   \n",
       "3     12/12/2019  Depuis les annonces d’Edouard Philippe, vous v...  LeGorafi   \n",
       "4     11/12/2019  Paris – La chaîne de restauration rapide lancé...  LeGorafi   \n",
       "\n",
       "     theme                                              title  \\\n",
       "0  Société  Noël – Pour coller à la réalité, les magasins ...   \n",
       "1  Société  Il économise 5 euros en achetant au duty-free ...   \n",
       "2  Société  Psycho : Comment guérir d’un chagrin d’amour e...   \n",
       "3  Société  Test : quel est l’âge idéal pour mourir avant ...   \n",
       "4  Société  Plusieurs Burger Quiz fermés après une visite ...   \n",
       "\n",
       "                                                 url  \n",
       "0  http://www.legorafi.fr/2019/12/19/noel-pour-co...  \n",
       "1  http://www.legorafi.fr/2019/12/10/il-economise...  \n",
       "2  http://www.legorafi.fr/2019/12/17/psycho-comme...  \n",
       "3  http://www.legorafi.fr/2019/12/12/test-quel-es...  \n",
       "4  http://www.legorafi.fr/2019/12/11/plusieurs-bu...  "
      ]
     },
     "execution_count": 168,
     "metadata": {},
     "output_type": "execute_result"
    }
   ],
   "source": [
    "import pandas as pd\n",
    "\n",
    "df_gorafi_soc = pd.read_json(PATH_NEWS_GORAFI)\n",
    "df_gorafi_soc.head()"
   ]
  },
  {
   "cell_type": "code",
   "execution_count": 169,
   "metadata": {},
   "outputs": [
    {
     "data": {
      "text/plain": [
       "(246, 8)"
      ]
     },
     "execution_count": 169,
     "metadata": {},
     "output_type": "execute_result"
    }
   ],
   "source": [
    "df_gorafi_soc.shape"
   ]
  },
  {
   "cell_type": "markdown",
   "metadata": {},
   "source": [
    "#### Le Gorafi Politique"
   ]
  },
  {
   "cell_type": "markdown",
   "metadata": {},
   "source": [
    "##### Scraping links"
   ]
  },
  {
   "cell_type": "code",
   "execution_count": 155,
   "metadata": {},
   "outputs": [
    {
     "name": "stdout",
     "output_type": "stream",
     "text": [
      "File ../../data/pages_gorafi_politique.json does not exist!\n"
     ]
    }
   ],
   "source": [
    "# configure scraping\n",
    "GorafiPageSpider.url_first_page = URL_PAGES_GORAFI_POLITIQUE\n",
    "GorafiPageSpider.custom_settings = {\n",
    "      'FEED_FORMAT': 'json',\n",
    "      'FEED_URI': PATH_PAGES_GORAFI_POLITIQUE\n",
    "    }\n",
    "GorafiPageSpider.num_max_pages = 50\n",
    "\n",
    "# move file if exist\n",
    "clean_file(PATH_PAGES_GORAFI_POLITIQUE)\n",
    "\n",
    "# scraping pages LeGorafi\n",
    "run_spider(GorafiPageSpider)"
   ]
  },
  {
   "cell_type": "code",
   "execution_count": 163,
   "metadata": {},
   "outputs": [
    {
     "data": {
      "text/html": [
       "<div>\n",
       "<style scoped>\n",
       "    .dataframe tbody tr th:only-of-type {\n",
       "        vertical-align: middle;\n",
       "    }\n",
       "\n",
       "    .dataframe tbody tr th {\n",
       "        vertical-align: top;\n",
       "    }\n",
       "\n",
       "    .dataframe thead th {\n",
       "        text-align: right;\n",
       "    }\n",
       "</style>\n",
       "<table border=\"1\" class=\"dataframe\">\n",
       "  <thead>\n",
       "    <tr style=\"text-align: right;\">\n",
       "      <th></th>\n",
       "      <th>link</th>\n",
       "    </tr>\n",
       "  </thead>\n",
       "  <tbody>\n",
       "    <tr>\n",
       "      <th>0</th>\n",
       "      <td>http://www.legorafi.fr/2019/12/11/jean-paul-de...</td>\n",
       "    </tr>\n",
       "    <tr>\n",
       "      <th>1</th>\n",
       "      <td>http://www.legorafi.fr/2019/12/09/jean-paul-de...</td>\n",
       "    </tr>\n",
       "    <tr>\n",
       "      <th>2</th>\n",
       "      <td>http://www.legorafi.fr/2019/12/05/christophe-c...</td>\n",
       "    </tr>\n",
       "    <tr>\n",
       "      <th>3</th>\n",
       "      <td>http://www.legorafi.fr/2019/11/25/lrem-edouard...</td>\n",
       "    </tr>\n",
       "    <tr>\n",
       "      <th>4</th>\n",
       "      <td>http://www.legorafi.fr/2019/11/22/inquiete-par...</td>\n",
       "    </tr>\n",
       "  </tbody>\n",
       "</table>\n",
       "</div>"
      ],
      "text/plain": [
       "                                                link\n",
       "0  http://www.legorafi.fr/2019/12/11/jean-paul-de...\n",
       "1  http://www.legorafi.fr/2019/12/09/jean-paul-de...\n",
       "2  http://www.legorafi.fr/2019/12/05/christophe-c...\n",
       "3  http://www.legorafi.fr/2019/11/25/lrem-edouard...\n",
       "4  http://www.legorafi.fr/2019/11/22/inquiete-par..."
      ]
     },
     "execution_count": 163,
     "metadata": {},
     "output_type": "execute_result"
    }
   ],
   "source": [
    "import pandas as pd\n",
    "\n",
    "df_gorafi_pages_pol = pd.read_json(PATH_PAGES_GORAFI_POLITIQUE)\n",
    "df_gorafi_pages_pol.head()"
   ]
  },
  {
   "cell_type": "code",
   "execution_count": 170,
   "metadata": {},
   "outputs": [
    {
     "data": {
      "text/plain": [
       "(246, 1)"
      ]
     },
     "execution_count": 170,
     "metadata": {},
     "output_type": "execute_result"
    }
   ],
   "source": [
    "df_gorafi_pages_pol.shape"
   ]
  },
  {
   "cell_type": "markdown",
   "metadata": {},
   "source": [
    "##### Scraping news"
   ]
  },
  {
   "cell_type": "code",
   "execution_count": 171,
   "metadata": {},
   "outputs": [],
   "source": [
    "# configure : add all retrieved links to Spider\n",
    "GorafiSpider.start_urls = df_gorafi_pages_pol[\"link\"].tolist()\n",
    "GorafiSpider.custom_settings = {\n",
    "      'FEED_FORMAT': 'json',\n",
    "      'FEED_URI': PATH_NEWS_GORAFI_POLITIQUE\n",
    "    }\n",
    "# scraping\n",
    "run_spider(GorafiSpider)"
   ]
  },
  {
   "cell_type": "code",
   "execution_count": 172,
   "metadata": {},
   "outputs": [
    {
     "data": {
      "text/html": [
       "<div>\n",
       "<style scoped>\n",
       "    .dataframe tbody tr th:only-of-type {\n",
       "        vertical-align: middle;\n",
       "    }\n",
       "\n",
       "    .dataframe tbody tr th {\n",
       "        vertical-align: top;\n",
       "    }\n",
       "\n",
       "    .dataframe thead th {\n",
       "        text-align: right;\n",
       "    }\n",
       "</style>\n",
       "<table border=\"1\" class=\"dataframe\">\n",
       "  <thead>\n",
       "    <tr style=\"text-align: right;\">\n",
       "      <th></th>\n",
       "      <th>author</th>\n",
       "      <th>body</th>\n",
       "      <th>date_published</th>\n",
       "      <th>description</th>\n",
       "      <th>source</th>\n",
       "      <th>theme</th>\n",
       "      <th>title</th>\n",
       "      <th>url</th>\n",
       "    </tr>\n",
       "  </thead>\n",
       "  <tbody>\n",
       "    <tr>\n",
       "      <th>0</th>\n",
       "      <td>La Rédaction</td>\n",
       "      <td>« C’est juste un petit cadeau pour le service ...</td>\n",
       "      <td>09/12/2019</td>\n",
       "      <td>Paris – Nouvelle polémique pour Jean-Paul Dele...</td>\n",
       "      <td>LeGorafi</td>\n",
       "      <td>Politique</td>\n",
       "      <td>Jean-Paul Delevoye a oublié de préciser qu’il ...</td>\n",
       "      <td>http://www.legorafi.fr/2019/12/09/jean-paul-de...</td>\n",
       "    </tr>\n",
       "    <tr>\n",
       "      <th>1</th>\n",
       "      <td>La Rédaction</td>\n",
       "      <td>De nombreuses sources citent Marlène Schiappa ...</td>\n",
       "      <td>25/11/2019</td>\n",
       "      <td>De nombreux détails croustillants, concernant ...</td>\n",
       "      <td>LeGorafi</td>\n",
       "      <td>Politique</td>\n",
       "      <td>LREM : Édouard Philippe rebaptisé Eduardo Fili...</td>\n",
       "      <td>http://www.legorafi.fr/2019/11/25/lrem-edouard...</td>\n",
       "    </tr>\n",
       "    <tr>\n",
       "      <th>2</th>\n",
       "      <td>La Rédaction</td>\n",
       "      <td>« Oui c’est un peu regrettable mais j’ai quitt...</td>\n",
       "      <td>11/12/2019</td>\n",
       "      <td>Paris – Face aux polémiques naissantes, Jean-P...</td>\n",
       "      <td>LeGorafi</td>\n",
       "      <td>Politique</td>\n",
       "      <td>Jean-Paul Delevoye contraint de démissionner d...</td>\n",
       "      <td>http://www.legorafi.fr/2019/12/11/jean-paul-de...</td>\n",
       "    </tr>\n",
       "    <tr>\n",
       "      <th>3</th>\n",
       "      <td>La Rédaction</td>\n",
       "      <td>« La précarité qu’ils traversent leur sera de ...</td>\n",
       "      <td>13/11/2019</td>\n",
       "      <td>Alors que la mobilisation étudiante prend de l...</td>\n",
       "      <td>LeGorafi</td>\n",
       "      <td>Politique</td>\n",
       "      <td>Emmanuel Macron aux étudiants « Je n’adore pas...</td>\n",
       "      <td>http://www.legorafi.fr/2019/11/13/emmanuel-mac...</td>\n",
       "    </tr>\n",
       "    <tr>\n",
       "      <th>4</th>\n",
       "      <td>La Rédaction</td>\n",
       "      <td>Alors que de nombreux manifestants sont attend...</td>\n",
       "      <td>05/12/2019</td>\n",
       "      <td>Après que l’Etat a commandé de nouveaux LBD à ...</td>\n",
       "      <td>LeGorafi</td>\n",
       "      <td>Politique</td>\n",
       "      <td>Christophe Castaner promet que les LBD « feron...</td>\n",
       "      <td>http://www.legorafi.fr/2019/12/05/christophe-c...</td>\n",
       "    </tr>\n",
       "  </tbody>\n",
       "</table>\n",
       "</div>"
      ],
      "text/plain": [
       "         author                                               body  \\\n",
       "0  La Rédaction  « C’est juste un petit cadeau pour le service ...   \n",
       "1  La Rédaction  De nombreuses sources citent Marlène Schiappa ...   \n",
       "2  La Rédaction  « Oui c’est un peu regrettable mais j’ai quitt...   \n",
       "3  La Rédaction  « La précarité qu’ils traversent leur sera de ...   \n",
       "4  La Rédaction  Alors que de nombreux manifestants sont attend...   \n",
       "\n",
       "  date_published                                        description    source  \\\n",
       "0     09/12/2019  Paris – Nouvelle polémique pour Jean-Paul Dele...  LeGorafi   \n",
       "1     25/11/2019  De nombreux détails croustillants, concernant ...  LeGorafi   \n",
       "2     11/12/2019  Paris – Face aux polémiques naissantes, Jean-P...  LeGorafi   \n",
       "3     13/11/2019  Alors que la mobilisation étudiante prend de l...  LeGorafi   \n",
       "4     05/12/2019  Après que l’Etat a commandé de nouveaux LBD à ...  LeGorafi   \n",
       "\n",
       "       theme                                              title  \\\n",
       "0  Politique  Jean-Paul Delevoye a oublié de préciser qu’il ...   \n",
       "1  Politique  LREM : Édouard Philippe rebaptisé Eduardo Fili...   \n",
       "2  Politique  Jean-Paul Delevoye contraint de démissionner d...   \n",
       "3  Politique  Emmanuel Macron aux étudiants « Je n’adore pas...   \n",
       "4  Politique  Christophe Castaner promet que les LBD « feron...   \n",
       "\n",
       "                                                 url  \n",
       "0  http://www.legorafi.fr/2019/12/09/jean-paul-de...  \n",
       "1  http://www.legorafi.fr/2019/11/25/lrem-edouard...  \n",
       "2  http://www.legorafi.fr/2019/12/11/jean-paul-de...  \n",
       "3  http://www.legorafi.fr/2019/11/13/emmanuel-mac...  \n",
       "4  http://www.legorafi.fr/2019/12/05/christophe-c...  "
      ]
     },
     "execution_count": 172,
     "metadata": {},
     "output_type": "execute_result"
    }
   ],
   "source": [
    "import pandas as pd\n",
    "\n",
    "df_gorafi_pol = pd.read_json(PATH_NEWS_GORAFI_POLITIQUE)\n",
    "df_gorafi_pol.head()"
   ]
  },
  {
   "cell_type": "code",
   "execution_count": 173,
   "metadata": {},
   "outputs": [
    {
     "data": {
      "text/plain": [
       "(246, 8)"
      ]
     },
     "execution_count": 173,
     "metadata": {},
     "output_type": "execute_result"
    }
   ],
   "source": [
    "df_gorafi_pol.shape"
   ]
  },
  {
   "cell_type": "code",
   "execution_count": null,
   "metadata": {},
   "outputs": [],
   "source": []
  }
 ],
 "metadata": {
  "kernelspec": {
   "display_name": "Python 3",
   "language": "python",
   "name": "python3"
  },
  "language_info": {
   "codemirror_mode": {
    "name": "ipython",
    "version": 3
   },
   "file_extension": ".py",
   "mimetype": "text/x-python",
   "name": "python",
   "nbconvert_exporter": "python",
   "pygments_lexer": "ipython3",
   "version": "3.7.1"
  },
  "toc": {
   "base_numbering": 1,
   "nav_menu": {},
   "number_sections": true,
   "sideBar": true,
   "skip_h1_title": false,
   "title_cell": "Table of Contents",
   "title_sidebar": "Contents",
   "toc_cell": false,
   "toc_position": {
    "height": "calc(100% - 180px)",
    "left": "10px",
    "top": "150px",
    "width": "256px"
   },
   "toc_section_display": true,
   "toc_window_display": true
  }
 },
 "nbformat": 4,
 "nbformat_minor": 2
}
