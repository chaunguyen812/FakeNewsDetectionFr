{
 "cells": [
  {
   "cell_type": "markdown",
   "metadata": {},
   "source": [
    "# Scraping French News\n",
    "\n",
    "This notebook use scrapy classes to retrieve latest news content from :\n",
    "- Le Gorafi (societe, politique)\n",
    "- Nord Presse.be (France)\n",
    "- BuzzBeed\n",
    "- 20 Minutes\n",
    "\n",
    "2 possible sources : \n",
    "- pages links and next page  (best)\n",
    "- RSS feed (possible to update data)\n",
    "\n",
    "To select only RSS : \n",
    "- execute only RSS parts and finish by Export parts."
   ]
  },
  {
   "cell_type": "markdown",
   "metadata": {},
   "source": [
    "## Definitions"
   ]
  },
  {
   "cell_type": "code",
   "execution_count": 1,
   "metadata": {},
   "outputs": [],
   "source": [
    "# your path folder to save results\n",
    "PATH_FOLDER_SAVE = '../../data'\n",
    "\n",
    "PATH_DF_FAKE_NEWS = PATH_FOLDER_SAVE + '/df_fake_news.pkl'"
   ]
  },
  {
   "cell_type": "markdown",
   "metadata": {},
   "source": [
    "## Helper functions"
   ]
  },
  {
   "cell_type": "markdown",
   "metadata": {},
   "source": [
    "### clean_file : Save older scaping result"
   ]
  },
  {
   "cell_type": "code",
   "execution_count": 2,
   "metadata": {},
   "outputs": [],
   "source": [
    "# save before scraping\n",
    "\n",
    "import shutil\n",
    "# importing os module\n",
    "import os\n",
    "# import datetime module\n",
    "import datetime\n",
    "\n",
    "\n",
    "def clean_file(path_file_name):\n",
    "    '''\n",
    "    Clean file already traited : rename file with date\n",
    "    '''\n",
    "    try:\n",
    "        d = datetime.datetime.now()\n",
    "        str_date = '_' + d.strftime(\"%Y%m%d_%H_%M_%S\")\n",
    "        res_re = re.search('\\.\\w+$',path_file_name)\n",
    "        path_file_name_saved = \\\n",
    "            path_file_name[0:res_re.start()] + str_date + res_re.group(0)\n",
    "            \n",
    "        shutil.move(path_file_name, path_file_name_saved) \n",
    "        print('File {} moved!'.format(path_file_name_saved))\n",
    "    except:\n",
    "        print('File {} does not exist!'.format(path_file_name))\n",
    "        \n"
   ]
  },
  {
   "cell_type": "markdown",
   "metadata": {},
   "source": [
    "### run_spider : running spider several times "
   ]
  },
  {
   "cell_type": "code",
   "execution_count": 3,
   "metadata": {},
   "outputs": [],
   "source": [
    "import scrapy\n",
    "import scrapy.crawler as crawler\n",
    "from multiprocessing import Process, Queue\n",
    "from twisted.internet import reactor\n",
    "\n",
    "# the wrapper to make it run more times\n",
    "def run_spider(spider):\n",
    "    '''\n",
    "    function to run several times scraping process\n",
    "    '''\n",
    "    def f(q):\n",
    "        try:\n",
    "            runner = crawler.CrawlerRunner()\n",
    "            deferred = runner.crawl(spider)\n",
    "            deferred.addBoth(lambda _: reactor.stop())\n",
    "            reactor.run()\n",
    "            q.put(None)\n",
    "        except Exception as e:\n",
    "            q.put(e)\n",
    "\n",
    "    q = Queue()\n",
    "    p = Process(target=f, args=(q,))\n",
    "    p.start()\n",
    "    result = q.get()\n",
    "    p.join()\n",
    "\n",
    "    if result is not None:\n",
    "        raise result"
   ]
  },
  {
   "cell_type": "markdown",
   "metadata": {},
   "source": [
    "## Scraping Legorafi"
   ]
  },
  {
   "cell_type": "markdown",
   "metadata": {},
   "source": [
    "### Class definitions"
   ]
  },
  {
   "cell_type": "code",
   "execution_count": 4,
   "metadata": {},
   "outputs": [],
   "source": [
    "import scrapy\n",
    "from scrapy.loader import ItemLoader\n",
    "from scrapy.loader.processors import MapCompose, Join, TakeFirst\n",
    "from w3lib.html import remove_tags\n",
    "\n",
    "class GorafiItem(scrapy.Item):\n",
    "    '''\n",
    "    Class item to declare different information to scrap\n",
    "    and how to process (as input or output)\n",
    "    '''\n",
    "    # define the fields for your item here like:\n",
    "    url = scrapy.Field(output_processor=TakeFirst())\n",
    "    \n",
    "    source = scrapy.Field(output_processor=TakeFirst())\n",
    "    \n",
    "    author = scrapy.Field(\n",
    "        input_processor=MapCompose(remove_tags),\n",
    "        output_processor=TakeFirst()\n",
    "    )\n",
    "    \n",
    "    title = scrapy.Field(\n",
    "        input_processor=MapCompose(remove_tags),\n",
    "        output_processor=TakeFirst()\n",
    "    )\n",
    "    \n",
    "    theme = scrapy.Field(\n",
    "        input_processor=MapCompose(remove_tags),\n",
    "        output_processor=TakeFirst()\n",
    "    )\n",
    "    \n",
    "    date_published = scrapy.Field(\n",
    "        input_processor=MapCompose(remove_tags),\n",
    "        output_processor=TakeFirst()\n",
    "    )\n",
    "    \n",
    "    description = scrapy.Field(\n",
    "        input_processor=MapCompose(remove_tags),\n",
    "        output_processor=TakeFirst()\n",
    "    )\n",
    "    \n",
    "    body = scrapy.Field(\n",
    "        input_processor=MapCompose(remove_tags),\n",
    "        output_processor=Join()\n",
    "    )"
   ]
  },
  {
   "cell_type": "code",
   "execution_count": 5,
   "metadata": {},
   "outputs": [],
   "source": [
    "class GorafiSpider(scrapy.Spider):\n",
    "    '''\n",
    "    Spider to scrap over Le Gorafi webpages : \n",
    "    - how to find information for scraping\n",
    "    - which field names to store\n",
    "    '''\n",
    "    # Your spider definition\n",
    "    name = 'news_gorafi_spider'\n",
    "    # output definition :\n",
    "    custom_settings = {\n",
    "      'FEED_FORMAT': 'json',\n",
    "      'FEED_URI': 'items_gorafi.json'\n",
    "  }\n",
    "    # urls to scrap\n",
    "    start_urls = [\n",
    "        'http://www.legorafi.fr/2019/12/17/psycho-comment-guerir-dun-chagrin-damour-en-donnant-tout-son-argent-au-gorafi/'\n",
    "    ]\n",
    "\n",
    "    def parse(self, response):\n",
    "        '''\n",
    "        Parse definition with xpath which define all patterns to use\n",
    "        for retrieve information into HTML strings\n",
    "        '''\n",
    "        #url\tsource\tauthor\ttitle\ttheme\tdescription\tdate_published\tbody   \n",
    "        l = ItemLoader(item=GorafiItem(), selector=response)\n",
    "        \n",
    "        l.add_value('url', response.url)\n",
    "        \n",
    "        l.add_value('source', \"LeGorafi\")\n",
    "        \n",
    "        l.add_xpath('author', \n",
    "            \"//section[@class='metas container']/span[@class='context']/a\")\n",
    "        \n",
    "        l.add_xpath(\"title\", \"//h1\")\n",
    "        \n",
    "        l.add_xpath(\"theme\", \"//a[@rel='category tag']\")\n",
    "        \n",
    "        l.add_xpath(\"description\", \".//div[@class='intro']/p\")\n",
    "        \n",
    "        l.add_xpath(\"date_published\", \n",
    "            \"//section[@class='metas container']/span[@class='context']\",\n",
    "            re=\"[0-9]+/[0-9]+/[0-9]+\")\n",
    "        #l.add_xpath(\"body\", \"//div[@class='content']/p\")\n",
    "        l.add_xpath(\"body\", \n",
    "            '//div[@class=\"content\"]/p[not(script)][not(img)][not(video)][not(strong/a)]//text()')\n",
    "        \n",
    "        yield l.load_item()"
   ]
  },
  {
   "cell_type": "code",
   "execution_count": 6,
   "metadata": {},
   "outputs": [],
   "source": [
    "import scrapy\n",
    "\n",
    "class GorafiRssSpider(scrapy.Spider):\n",
    "    '''\n",
    "    Class Spider for retrieving all links to news webpages from Le Gorafi RSS\n",
    "    '''\n",
    "    name = \"gorafi_rss\"\n",
    "    \n",
    "    custom_settings = {\n",
    "      'FEED_FORMAT': 'json',\n",
    "      'FEED_URI': 'gorafi_rss.json'\n",
    "    }\n",
    "    \n",
    "    def start_requests(self):\n",
    "        urls = [\n",
    "                'http://www.legorafi.fr/feed/',\n",
    "        ]\n",
    "        for url in urls:\n",
    "            yield scrapy.Request(url=url, callback=self.parse)\n",
    "     \n",
    "    def parse(self, response):\n",
    "        for post in response.xpath('//channel/item'):\n",
    "            yield {\n",
    "                'title' : post.xpath('title//text()').extract_first(),\n",
    "                'link': post.xpath('link//text()').extract_first(),\n",
    "                'pubDate' : post.xpath('pubDate//text()').extract_first(),\n",
    "            }\n"
   ]
  },
  {
   "cell_type": "code",
   "execution_count": 7,
   "metadata": {},
   "outputs": [],
   "source": [
    "import scrapy\n",
    "import re\n",
    "\n",
    "class GorafiPageSpider(scrapy.Spider):\n",
    "    '''\n",
    "    Spider to scrap all Le Gorafi pages from selected category\n",
    "    Configure : \n",
    "    - GorafiPageSpider.custom_settings : save location \n",
    "    - num_max_pages : the number of next page to scrap\n",
    "    - url_first_page : web page to start with\n",
    "    '''\n",
    "    name = \"gorafi_page\"\n",
    "    \n",
    "    custom_settings = {\n",
    "      'FEED_FORMAT': 'json',\n",
    "      'FEED_URI': 'pages_gorafi.json'\n",
    "    }\n",
    "    \n",
    "    num_max_pages = 1\n",
    "    \n",
    "    url_first_page = 'http://www.legorafi.fr/category/france/societe/'\n",
    "    \n",
    "    def start_requests(self):\n",
    "        urls = [\n",
    "                self.url_first_page,\n",
    "        ]\n",
    "        for url in urls:\n",
    "            yield scrapy.Request(url=url, callback=self.parse)\n",
    "    \n",
    "    def parse(self, response):\n",
    "        for post in response.xpath('//article/h2'):\n",
    "            yield {\n",
    "                'link': post.xpath('a/@href').extract_first()\n",
    "            }\n",
    "            \n",
    "        next_page = response.xpath(\n",
    "            '//a[@class=\"next page-numbers\"]/@href').get()\n",
    "        \n",
    "        if next_page is not None:\n",
    "            try:\n",
    "                num_next_page = int(re.search(\"(?<=/)\\d+(?=/$)\", \n",
    "                         next_page).group(0))\n",
    "                \n",
    "                if (num_next_page < self.num_max_pages):\n",
    "                    #next_page = response.urljoin(next_page)\n",
    "                    yield scrapy.Request(next_page, callback=self.parse)\n",
    "            except:\n",
    "                next_page = None\n",
    "                "
   ]
  },
  {
   "cell_type": "markdown",
   "metadata": {},
   "source": [
    "### Scraping RSS urls"
   ]
  },
  {
   "cell_type": "markdown",
   "metadata": {},
   "source": [
    "#### Definitions"
   ]
  },
  {
   "cell_type": "code",
   "execution_count": 8,
   "metadata": {},
   "outputs": [],
   "source": [
    "# path to results file for urls\n",
    "PATH_RSS_PAGES_GORAFI = PATH_FOLDER_SAVE + '/gorafi_rss_urls.json'\n",
    "# declare your data location for scraping rss links \n",
    "PATH_RSS_NEWS_GORAFI = PATH_FOLDER_SAVE + '/gorafi_rss_pages.json'"
   ]
  },
  {
   "cell_type": "markdown",
   "metadata": {},
   "source": [
    "#### Scraping urls links"
   ]
  },
  {
   "cell_type": "code",
   "execution_count": 9,
   "metadata": {},
   "outputs": [
    {
     "name": "stdout",
     "output_type": "stream",
     "text": [
      "File ../../data/gorafi_rss_urls.json does not exist!\n"
     ]
    }
   ],
   "source": [
    "# clean (move file if exist)\n",
    "clean_file(PATH_RSS_PAGES_GORAFI)"
   ]
  },
  {
   "cell_type": "code",
   "execution_count": 10,
   "metadata": {},
   "outputs": [],
   "source": [
    "# Configure spider\n",
    "GorafiRssSpider.custom_settings = {\n",
    "      'FEED_FORMAT': 'json',\n",
    "      'FEED_URI': PATH_RSS_PAGES_GORAFI\n",
    "}\n",
    "# scraping\n",
    "run_spider(GorafiRssSpider)"
   ]
  },
  {
   "cell_type": "code",
   "execution_count": 11,
   "metadata": {},
   "outputs": [
    {
     "data": {
      "text/html": [
       "<div>\n",
       "<style scoped>\n",
       "    .dataframe tbody tr th:only-of-type {\n",
       "        vertical-align: middle;\n",
       "    }\n",
       "\n",
       "    .dataframe tbody tr th {\n",
       "        vertical-align: top;\n",
       "    }\n",
       "\n",
       "    .dataframe thead th {\n",
       "        text-align: right;\n",
       "    }\n",
       "</style>\n",
       "<table border=\"1\" class=\"dataframe\">\n",
       "  <thead>\n",
       "    <tr style=\"text-align: right;\">\n",
       "      <th></th>\n",
       "      <th>link</th>\n",
       "      <th>pubDate</th>\n",
       "      <th>title</th>\n",
       "    </tr>\n",
       "  </thead>\n",
       "  <tbody>\n",
       "    <tr>\n",
       "      <th>0</th>\n",
       "      <td>http://www.legorafi.fr/2019/12/20/le-pere-noel...</td>\n",
       "      <td>Fri, 20 Dec 2019 13:00:49 +0000</td>\n",
       "      <td>Le Père Noël découvre stupéfait l’existence de...</td>\n",
       "    </tr>\n",
       "    <tr>\n",
       "      <th>1</th>\n",
       "      <td>http://www.legorafi.fr/2019/12/20/gorafi-magaz...</td>\n",
       "      <td>Fri, 20 Dec 2019 09:00:04 +0000</td>\n",
       "      <td>Gorafi Magazine : Partir à la retraite à 115 ans</td>\n",
       "    </tr>\n",
       "    <tr>\n",
       "      <th>2</th>\n",
       "      <td>http://www.legorafi.fr/2019/12/19/noel-pour-co...</td>\n",
       "      <td>Thu, 19 Dec 2019 13:00:32 +0000</td>\n",
       "      <td>Noël – Pour coller à la réalité, les magasins ...</td>\n",
       "    </tr>\n",
       "    <tr>\n",
       "      <th>3</th>\n",
       "      <td>http://www.legorafi.fr/2019/12/19/le-gouvernem...</td>\n",
       "      <td>Thu, 19 Dec 2019 09:22:54 +0000</td>\n",
       "      <td>Le gouvernement autorise les chauffeurs des bu...</td>\n",
       "    </tr>\n",
       "    <tr>\n",
       "      <th>4</th>\n",
       "      <td>http://www.legorafi.fr/2019/12/18/espagne-18-m...</td>\n",
       "      <td>Wed, 18 Dec 2019 09:14:41 +0000</td>\n",
       "      <td>Espagne – 18 morts dans la traditionnelle bata...</td>\n",
       "    </tr>\n",
       "    <tr>\n",
       "      <th>5</th>\n",
       "      <td>http://www.legorafi.fr/2019/12/17/psycho-comme...</td>\n",
       "      <td>Tue, 17 Dec 2019 09:03:56 +0000</td>\n",
       "      <td>Psycho : Comment guérir d’un chagrin d’amour e...</td>\n",
       "    </tr>\n",
       "    <tr>\n",
       "      <th>6</th>\n",
       "      <td>http://www.legorafi.fr/2019/12/16/apres-sa-dem...</td>\n",
       "      <td>Mon, 16 Dec 2019 13:00:39 +0000</td>\n",
       "      <td>Après sa démission Jean-Paul Delevoye savoure ...</td>\n",
       "    </tr>\n",
       "    <tr>\n",
       "      <th>7</th>\n",
       "      <td>http://www.legorafi.fr/2019/12/16/le-tfc-va-sa...</td>\n",
       "      <td>Mon, 16 Dec 2019 09:04:56 +0000</td>\n",
       "      <td>Le TFC va sacrifier un de ses joueurs pour cal...</td>\n",
       "    </tr>\n",
       "    <tr>\n",
       "      <th>8</th>\n",
       "      <td>http://www.legorafi.fr/2019/12/16/horoscope-du...</td>\n",
       "      <td>Mon, 16 Dec 2019 08:31:26 +0000</td>\n",
       "      <td>Horoscope du 16 décembre 2019</td>\n",
       "    </tr>\n",
       "    <tr>\n",
       "      <th>9</th>\n",
       "      <td>http://www.legorafi.fr/2019/12/13/les-climato-...</td>\n",
       "      <td>Fri, 13 Dec 2019 14:30:12 +0000</td>\n",
       "      <td>Les climato-sceptiques  présentent leur Greta ...</td>\n",
       "    </tr>\n",
       "    <tr>\n",
       "      <th>10</th>\n",
       "      <td>http://www.legorafi.fr/2019/12/13/gorafi-magaz...</td>\n",
       "      <td>Fri, 13 Dec 2019 13:00:55 +0000</td>\n",
       "      <td>Gorafi Magazine : Personne de l’année : le LBD</td>\n",
       "    </tr>\n",
       "    <tr>\n",
       "      <th>11</th>\n",
       "      <td>http://www.legorafi.fr/2019/12/13/greves-il-ma...</td>\n",
       "      <td>Fri, 13 Dec 2019 09:06:53 +0000</td>\n",
       "      <td>Grèves – Il marche plus de 200 km par jour pie...</td>\n",
       "    </tr>\n",
       "    <tr>\n",
       "      <th>12</th>\n",
       "      <td>http://www.legorafi.fr/2019/12/12/prolongation...</td>\n",
       "      <td>Thu, 12 Dec 2019 13:04:02 +0000</td>\n",
       "      <td>Prolongation de Kylian Mbappé : « Je suis comm...</td>\n",
       "    </tr>\n",
       "    <tr>\n",
       "      <th>13</th>\n",
       "      <td>http://www.legorafi.fr/2019/12/12/test-quel-es...</td>\n",
       "      <td>Thu, 12 Dec 2019 10:33:01 +0000</td>\n",
       "      <td>Test : quel est l’âge idéal pour mourir avant ...</td>\n",
       "    </tr>\n",
       "    <tr>\n",
       "      <th>14</th>\n",
       "      <td>http://www.legorafi.fr/2019/12/11/plusieurs-bu...</td>\n",
       "      <td>Wed, 11 Dec 2019 13:00:10 +0000</td>\n",
       "      <td>Plusieurs Burger Quiz fermés après une visite ...</td>\n",
       "    </tr>\n",
       "    <tr>\n",
       "      <th>15</th>\n",
       "      <td>http://www.legorafi.fr/2019/12/11/jean-paul-de...</td>\n",
       "      <td>Wed, 11 Dec 2019 09:08:39 +0000</td>\n",
       "      <td>Jean-Paul Delevoye contraint de démissionner d...</td>\n",
       "    </tr>\n",
       "    <tr>\n",
       "      <th>16</th>\n",
       "      <td>http://www.legorafi.fr/2019/12/10/il-economise...</td>\n",
       "      <td>Tue, 10 Dec 2019 09:03:54 +0000</td>\n",
       "      <td>Il économise 5 euros en achetant au duty-free ...</td>\n",
       "    </tr>\n",
       "    <tr>\n",
       "      <th>17</th>\n",
       "      <td>http://www.legorafi.fr/2019/12/09/jean-paul-de...</td>\n",
       "      <td>Mon, 09 Dec 2019 13:00:31 +0000</td>\n",
       "      <td>Jean-Paul Delevoye a oublié de préciser qu’il ...</td>\n",
       "    </tr>\n",
       "    <tr>\n",
       "      <th>18</th>\n",
       "      <td>http://www.legorafi.fr/2019/12/09/la-police-li...</td>\n",
       "      <td>Mon, 09 Dec 2019 09:19:08 +0000</td>\n",
       "      <td>La police libère un homme qui tournait en rond...</td>\n",
       "    </tr>\n",
       "    <tr>\n",
       "      <th>19</th>\n",
       "      <td>http://www.legorafi.fr/2019/12/09/horoscope-du...</td>\n",
       "      <td>Mon, 09 Dec 2019 08:42:07 +0000</td>\n",
       "      <td>Horoscope du 9 décembre 2019</td>\n",
       "    </tr>\n",
       "  </tbody>\n",
       "</table>\n",
       "</div>"
      ],
      "text/plain": [
       "                                                 link  \\\n",
       "0   http://www.legorafi.fr/2019/12/20/le-pere-noel...   \n",
       "1   http://www.legorafi.fr/2019/12/20/gorafi-magaz...   \n",
       "2   http://www.legorafi.fr/2019/12/19/noel-pour-co...   \n",
       "3   http://www.legorafi.fr/2019/12/19/le-gouvernem...   \n",
       "4   http://www.legorafi.fr/2019/12/18/espagne-18-m...   \n",
       "5   http://www.legorafi.fr/2019/12/17/psycho-comme...   \n",
       "6   http://www.legorafi.fr/2019/12/16/apres-sa-dem...   \n",
       "7   http://www.legorafi.fr/2019/12/16/le-tfc-va-sa...   \n",
       "8   http://www.legorafi.fr/2019/12/16/horoscope-du...   \n",
       "9   http://www.legorafi.fr/2019/12/13/les-climato-...   \n",
       "10  http://www.legorafi.fr/2019/12/13/gorafi-magaz...   \n",
       "11  http://www.legorafi.fr/2019/12/13/greves-il-ma...   \n",
       "12  http://www.legorafi.fr/2019/12/12/prolongation...   \n",
       "13  http://www.legorafi.fr/2019/12/12/test-quel-es...   \n",
       "14  http://www.legorafi.fr/2019/12/11/plusieurs-bu...   \n",
       "15  http://www.legorafi.fr/2019/12/11/jean-paul-de...   \n",
       "16  http://www.legorafi.fr/2019/12/10/il-economise...   \n",
       "17  http://www.legorafi.fr/2019/12/09/jean-paul-de...   \n",
       "18  http://www.legorafi.fr/2019/12/09/la-police-li...   \n",
       "19  http://www.legorafi.fr/2019/12/09/horoscope-du...   \n",
       "\n",
       "                            pubDate  \\\n",
       "0   Fri, 20 Dec 2019 13:00:49 +0000   \n",
       "1   Fri, 20 Dec 2019 09:00:04 +0000   \n",
       "2   Thu, 19 Dec 2019 13:00:32 +0000   \n",
       "3   Thu, 19 Dec 2019 09:22:54 +0000   \n",
       "4   Wed, 18 Dec 2019 09:14:41 +0000   \n",
       "5   Tue, 17 Dec 2019 09:03:56 +0000   \n",
       "6   Mon, 16 Dec 2019 13:00:39 +0000   \n",
       "7   Mon, 16 Dec 2019 09:04:56 +0000   \n",
       "8   Mon, 16 Dec 2019 08:31:26 +0000   \n",
       "9   Fri, 13 Dec 2019 14:30:12 +0000   \n",
       "10  Fri, 13 Dec 2019 13:00:55 +0000   \n",
       "11  Fri, 13 Dec 2019 09:06:53 +0000   \n",
       "12  Thu, 12 Dec 2019 13:04:02 +0000   \n",
       "13  Thu, 12 Dec 2019 10:33:01 +0000   \n",
       "14  Wed, 11 Dec 2019 13:00:10 +0000   \n",
       "15  Wed, 11 Dec 2019 09:08:39 +0000   \n",
       "16  Tue, 10 Dec 2019 09:03:54 +0000   \n",
       "17  Mon, 09 Dec 2019 13:00:31 +0000   \n",
       "18  Mon, 09 Dec 2019 09:19:08 +0000   \n",
       "19  Mon, 09 Dec 2019 08:42:07 +0000   \n",
       "\n",
       "                                                title  \n",
       "0   Le Père Noël découvre stupéfait l’existence de...  \n",
       "1    Gorafi Magazine : Partir à la retraite à 115 ans  \n",
       "2   Noël – Pour coller à la réalité, les magasins ...  \n",
       "3   Le gouvernement autorise les chauffeurs des bu...  \n",
       "4   Espagne – 18 morts dans la traditionnelle bata...  \n",
       "5   Psycho : Comment guérir d’un chagrin d’amour e...  \n",
       "6   Après sa démission Jean-Paul Delevoye savoure ...  \n",
       "7   Le TFC va sacrifier un de ses joueurs pour cal...  \n",
       "8                       Horoscope du 16 décembre 2019  \n",
       "9   Les climato-sceptiques  présentent leur Greta ...  \n",
       "10     Gorafi Magazine : Personne de l’année : le LBD  \n",
       "11  Grèves – Il marche plus de 200 km par jour pie...  \n",
       "12  Prolongation de Kylian Mbappé : « Je suis comm...  \n",
       "13  Test : quel est l’âge idéal pour mourir avant ...  \n",
       "14  Plusieurs Burger Quiz fermés après une visite ...  \n",
       "15  Jean-Paul Delevoye contraint de démissionner d...  \n",
       "16  Il économise 5 euros en achetant au duty-free ...  \n",
       "17  Jean-Paul Delevoye a oublié de préciser qu’il ...  \n",
       "18  La police libère un homme qui tournait en rond...  \n",
       "19                       Horoscope du 9 décembre 2019  "
      ]
     },
     "execution_count": 11,
     "metadata": {},
     "output_type": "execute_result"
    }
   ],
   "source": [
    "import pandas as pd\n",
    "\n",
    "df_rss_gorafi = pd.read_json(PATH_RSS_PAGES_GORAFI)\n",
    "df_rss_gorafi"
   ]
  },
  {
   "cell_type": "code",
   "execution_count": 12,
   "metadata": {},
   "outputs": [
    {
     "data": {
      "text/plain": [
       "(20, 3)"
      ]
     },
     "execution_count": 12,
     "metadata": {},
     "output_type": "execute_result"
    }
   ],
   "source": [
    "df_rss_gorafi.shape"
   ]
  },
  {
   "cell_type": "markdown",
   "metadata": {},
   "source": [
    "#### Scraping RSS news"
   ]
  },
  {
   "cell_type": "code",
   "execution_count": null,
   "metadata": {},
   "outputs": [],
   "source": [
    "# clean (move file if exist)\n",
    "clean_file(PATH_RSS_NEWS_GORAFI)"
   ]
  },
  {
   "cell_type": "code",
   "execution_count": 13,
   "metadata": {},
   "outputs": [],
   "source": [
    "# configure : add all retrieved links to Spider\n",
    "GorafiSpider.start_urls = df_rss_gorafi[\"link\"].tolist()\n",
    "GorafiSpider.custom_settings = {\n",
    "      'FEED_FORMAT': 'json',\n",
    "      'FEED_URI': PATH_RSS_NEWS_GORAFI\n",
    "}\n",
    "\n",
    "# scraping\n",
    "run_spider(GorafiSpider)"
   ]
  },
  {
   "cell_type": "code",
   "execution_count": 14,
   "metadata": {},
   "outputs": [
    {
     "data": {
      "text/html": [
       "<div>\n",
       "<style scoped>\n",
       "    .dataframe tbody tr th:only-of-type {\n",
       "        vertical-align: middle;\n",
       "    }\n",
       "\n",
       "    .dataframe tbody tr th {\n",
       "        vertical-align: top;\n",
       "    }\n",
       "\n",
       "    .dataframe thead th {\n",
       "        text-align: right;\n",
       "    }\n",
       "</style>\n",
       "<table border=\"1\" class=\"dataframe\">\n",
       "  <thead>\n",
       "    <tr style=\"text-align: right;\">\n",
       "      <th></th>\n",
       "      <th>author</th>\n",
       "      <th>body</th>\n",
       "      <th>date_published</th>\n",
       "      <th>description</th>\n",
       "      <th>source</th>\n",
       "      <th>theme</th>\n",
       "      <th>title</th>\n",
       "      <th>url</th>\n",
       "    </tr>\n",
       "  </thead>\n",
       "  <tbody>\n",
       "    <tr>\n",
       "      <th>0</th>\n",
       "      <td>La Rédaction</td>\n",
       "      <td>« Je n’en revenais pas… C’est un lutin stagiai...</td>\n",
       "      <td>20/12/2019</td>\n",
       "      <td>A quatre jours de la distribution des cadeaux ...</td>\n",
       "      <td>LeGorafi</td>\n",
       "      <td>Société</td>\n",
       "      <td>Le Père Noël découvre stupéfait l’existence de...</td>\n",
       "      <td>http://www.legorafi.fr/2019/12/20/le-pere-noel...</td>\n",
       "    </tr>\n",
       "    <tr>\n",
       "      <th>1</th>\n",
       "      <td>La Rédaction</td>\n",
       "      <td>NaN</td>\n",
       "      <td>20/12/2019</td>\n",
       "      <td>NaN</td>\n",
       "      <td>LeGorafi</td>\n",
       "      <td>Magazine</td>\n",
       "      <td>Gorafi Magazine : Partir à la retraite à 115 ans</td>\n",
       "      <td>http://www.legorafi.fr/2019/12/20/gorafi-magaz...</td>\n",
       "    </tr>\n",
       "    <tr>\n",
       "      <th>2</th>\n",
       "      <td>La Rédaction</td>\n",
       "      <td>« Mes équipes sentaient le malaise s’installer...</td>\n",
       "      <td>19/12/2019</td>\n",
       "      <td>Afin d’être plus en phase avec l’actualité, le...</td>\n",
       "      <td>LeGorafi</td>\n",
       "      <td>Société</td>\n",
       "      <td>Noël – Pour coller à la réalité, les magasins ...</td>\n",
       "      <td>http://www.legorafi.fr/2019/12/19/noel-pour-co...</td>\n",
       "    </tr>\n",
       "    <tr>\n",
       "      <th>3</th>\n",
       "      <td>La Rédaction</td>\n",
       "      <td>Ainsi les chauffeurs sont autorisés à prendre ...</td>\n",
       "      <td>19/12/2019</td>\n",
       "      <td>Paris – Pour aider les Français à pouvoir prof...</td>\n",
       "      <td>LeGorafi</td>\n",
       "      <td>Société</td>\n",
       "      <td>Le gouvernement autorise les chauffeurs des bu...</td>\n",
       "      <td>http://www.legorafi.fr/2019/12/19/le-gouvernem...</td>\n",
       "    </tr>\n",
       "    <tr>\n",
       "      <th>4</th>\n",
       "      <td>La Rédaction</td>\n",
       "      <td>Oliver Sadran espère ainsi conjurer le mauvais...</td>\n",
       "      <td>16/12/2019</td>\n",
       "      <td>Aux grands maux les grands remèdes. Afin de ca...</td>\n",
       "      <td>LeGorafi</td>\n",
       "      <td>Sports</td>\n",
       "      <td>Le TFC va sacrifier un de ses joueurs pour cal...</td>\n",
       "      <td>http://www.legorafi.fr/2019/12/16/le-tfc-va-sa...</td>\n",
       "    </tr>\n",
       "  </tbody>\n",
       "</table>\n",
       "</div>"
      ],
      "text/plain": [
       "         author                                               body  \\\n",
       "0  La Rédaction  « Je n’en revenais pas… C’est un lutin stagiai...   \n",
       "1  La Rédaction                                                NaN   \n",
       "2  La Rédaction  « Mes équipes sentaient le malaise s’installer...   \n",
       "3  La Rédaction  Ainsi les chauffeurs sont autorisés à prendre ...   \n",
       "4  La Rédaction  Oliver Sadran espère ainsi conjurer le mauvais...   \n",
       "\n",
       "  date_published                                        description    source  \\\n",
       "0     20/12/2019  A quatre jours de la distribution des cadeaux ...  LeGorafi   \n",
       "1     20/12/2019                                                NaN  LeGorafi   \n",
       "2     19/12/2019  Afin d’être plus en phase avec l’actualité, le...  LeGorafi   \n",
       "3     19/12/2019  Paris – Pour aider les Français à pouvoir prof...  LeGorafi   \n",
       "4     16/12/2019  Aux grands maux les grands remèdes. Afin de ca...  LeGorafi   \n",
       "\n",
       "      theme                                              title  \\\n",
       "0   Société  Le Père Noël découvre stupéfait l’existence de...   \n",
       "1  Magazine   Gorafi Magazine : Partir à la retraite à 115 ans   \n",
       "2   Société  Noël – Pour coller à la réalité, les magasins ...   \n",
       "3   Société  Le gouvernement autorise les chauffeurs des bu...   \n",
       "4    Sports  Le TFC va sacrifier un de ses joueurs pour cal...   \n",
       "\n",
       "                                                 url  \n",
       "0  http://www.legorafi.fr/2019/12/20/le-pere-noel...  \n",
       "1  http://www.legorafi.fr/2019/12/20/gorafi-magaz...  \n",
       "2  http://www.legorafi.fr/2019/12/19/noel-pour-co...  \n",
       "3  http://www.legorafi.fr/2019/12/19/le-gouvernem...  \n",
       "4  http://www.legorafi.fr/2019/12/16/le-tfc-va-sa...  "
      ]
     },
     "execution_count": 14,
     "metadata": {},
     "output_type": "execute_result"
    }
   ],
   "source": [
    "import pandas as pd\n",
    "\n",
    "df_gorafi_rss = pd.read_json(PATH_RSS_NEWS_GORAFI)\n",
    "df_gorafi_rss.head()"
   ]
  },
  {
   "cell_type": "code",
   "execution_count": 15,
   "metadata": {},
   "outputs": [
    {
     "data": {
      "text/plain": [
       "(20, 8)"
      ]
     },
     "execution_count": 15,
     "metadata": {},
     "output_type": "execute_result"
    }
   ],
   "source": [
    "df_gorafi_rss.shape"
   ]
  },
  {
   "cell_type": "markdown",
   "metadata": {},
   "source": [
    "### Scraping urls into webpages "
   ]
  },
  {
   "cell_type": "markdown",
   "metadata": {},
   "source": [
    "#### Definitions"
   ]
  },
  {
   "cell_type": "code",
   "execution_count": 21,
   "metadata": {},
   "outputs": [],
   "source": [
    "URL_PAGES_GORAFI_SOCIETE = 'http://www.legorafi.fr/category/france/societe/'\n",
    "# declare your data location\n",
    "PATH_PAGES_GORAFI_SOCIETE = PATH_FOLDER_SAVE + '/pages_gorafi.json'\n",
    "PATH_NEWS_GORAFI_SOCIETE = PATH_FOLDER_SAVE + '/gorafi_societe.json'\n",
    "\n",
    "URL_PAGES_GORAFI_POLITIQUE = 'http://www.legorafi.fr/category/france/politique/'\n",
    "# declare your data location\n",
    "PATH_PAGES_GORAFI_POLITIQUE = PATH_FOLDER_SAVE + '/pages_gorafi_politique.json'\n",
    "PATH_NEWS_GORAFI_POLITIQUE = PATH_FOLDER_SAVE + '/gorafi_politique.json'\n",
    "\n",
    "# sciences\n",
    "URL_PAGES_GORAFI_SCIENCES = 'http://www.legorafi.fr/category/france/sciences/'\n",
    "# declare your data location\n",
    "PATH_PAGES_GORAFI_SCIENCES = PATH_FOLDER_SAVE + '/pages_gorafi_sciences.json'\n",
    "PATH_NEWS_GORAFI_SCIENCES = PATH_FOLDER_SAVE + '/gorafi_sciences.json'\n",
    "\n",
    "# tech\n",
    "URL_PAGES_GORAFI_TECH = 'http://www.legorafi.fr/category/france/hi-tech/'\n",
    "# declare your data location\n",
    "PATH_PAGES_GORAFI_TECH = PATH_FOLDER_SAVE + '/pages_gorafi_tech.json'\n",
    "PATH_NEWS_GORAFI_TECH = PATH_FOLDER_SAVE + '/gorafi_tech.json'\n"
   ]
  },
  {
   "cell_type": "markdown",
   "metadata": {},
   "source": [
    "#### Le Gorafi Société"
   ]
  },
  {
   "cell_type": "markdown",
   "metadata": {},
   "source": [
    "##### Scraping links"
   ]
  },
  {
   "cell_type": "code",
   "execution_count": 153,
   "metadata": {},
   "outputs": [
    {
     "name": "stdout",
     "output_type": "stream",
     "text": [
      "File ../../data/pages_gorafi_20191225_10_47_30.json moved!\n"
     ]
    }
   ],
   "source": [
    "# clean (move file if exist)\n",
    "clean_file(PATH_PAGES_GORAFI_SOCIETE)"
   ]
  },
  {
   "cell_type": "code",
   "execution_count": 104,
   "metadata": {},
   "outputs": [],
   "source": [
    "# configure scraping\n",
    "GorafiPageSpider.url_first_page = URL_PAGES_GORAFI_SOCIETE\n",
    "GorafiPageSpider.custom_settings = {\n",
    "      'FEED_FORMAT': 'json',\n",
    "      'FEED_URI': PATH_PAGES_GORAFI_SOCIETE\n",
    "    }\n",
    "GorafiPageSpider.num_max_pages = 50\n",
    "\n",
    "# clean last output\n",
    "clean_file(PATH_PAGES_GORAFI_SOCIETE)\n",
    "# scraping page urls LeGorafi\n",
    "run_spider(GorafiPageSpider)"
   ]
  },
  {
   "cell_type": "code",
   "execution_count": 232,
   "metadata": {},
   "outputs": [
    {
     "data": {
      "text/html": [
       "<div>\n",
       "<style scoped>\n",
       "    .dataframe tbody tr th:only-of-type {\n",
       "        vertical-align: middle;\n",
       "    }\n",
       "\n",
       "    .dataframe tbody tr th {\n",
       "        vertical-align: top;\n",
       "    }\n",
       "\n",
       "    .dataframe thead th {\n",
       "        text-align: right;\n",
       "    }\n",
       "</style>\n",
       "<table border=\"1\" class=\"dataframe\">\n",
       "  <thead>\n",
       "    <tr style=\"text-align: right;\">\n",
       "      <th></th>\n",
       "      <th>link</th>\n",
       "    </tr>\n",
       "  </thead>\n",
       "  <tbody>\n",
       "    <tr>\n",
       "      <th>0</th>\n",
       "      <td>http://www.legorafi.fr/2019/12/19/noel-pour-co...</td>\n",
       "    </tr>\n",
       "    <tr>\n",
       "      <th>1</th>\n",
       "      <td>http://www.legorafi.fr/2019/12/19/le-gouvernem...</td>\n",
       "    </tr>\n",
       "    <tr>\n",
       "      <th>2</th>\n",
       "      <td>http://www.legorafi.fr/2019/12/17/psycho-comme...</td>\n",
       "    </tr>\n",
       "    <tr>\n",
       "      <th>3</th>\n",
       "      <td>http://www.legorafi.fr/2019/12/12/test-quel-es...</td>\n",
       "    </tr>\n",
       "    <tr>\n",
       "      <th>4</th>\n",
       "      <td>http://www.legorafi.fr/2019/12/11/plusieurs-bu...</td>\n",
       "    </tr>\n",
       "  </tbody>\n",
       "</table>\n",
       "</div>"
      ],
      "text/plain": [
       "                                                link\n",
       "0  http://www.legorafi.fr/2019/12/19/noel-pour-co...\n",
       "1  http://www.legorafi.fr/2019/12/19/le-gouvernem...\n",
       "2  http://www.legorafi.fr/2019/12/17/psycho-comme...\n",
       "3  http://www.legorafi.fr/2019/12/12/test-quel-es...\n",
       "4  http://www.legorafi.fr/2019/12/11/plusieurs-bu..."
      ]
     },
     "execution_count": 232,
     "metadata": {},
     "output_type": "execute_result"
    }
   ],
   "source": [
    "import pandas as pd\n",
    "\n",
    "df_gorafi_pages = pd.read_json(PATH_PAGES_GORAFI_SOCIETE)\n",
    "df_gorafi_pages.head()"
   ]
  },
  {
   "cell_type": "code",
   "execution_count": 233,
   "metadata": {},
   "outputs": [
    {
     "data": {
      "text/plain": [
       "(246, 1)"
      ]
     },
     "execution_count": 233,
     "metadata": {},
     "output_type": "execute_result"
    }
   ],
   "source": [
    "df_gorafi_pages.shape"
   ]
  },
  {
   "cell_type": "markdown",
   "metadata": {},
   "source": [
    "##### Scraping news"
   ]
  },
  {
   "cell_type": "code",
   "execution_count": 234,
   "metadata": {},
   "outputs": [
    {
     "name": "stdout",
     "output_type": "stream",
     "text": [
      "File ../../data/gorafi_societe_20191228_10_36_15.json moved!\n"
     ]
    }
   ],
   "source": [
    "# clean last output\n",
    "clean_file(PATH_NEWS_GORAFI_SOCIETE)"
   ]
  },
  {
   "cell_type": "code",
   "execution_count": 235,
   "metadata": {},
   "outputs": [],
   "source": [
    "# configure : add all retrieved links to Spider\n",
    "GorafiSpider.start_urls = df_gorafi_pages[\"link\"].tolist()\n",
    "GorafiSpider.custom_settings = {\n",
    "      'FEED_FORMAT': 'json',\n",
    "      'FEED_URI': PATH_NEWS_GORAFI_SOCIETE\n",
    "    }\n",
    "# scraping\n",
    "run_spider(GorafiSpider)"
   ]
  },
  {
   "cell_type": "code",
   "execution_count": 236,
   "metadata": {},
   "outputs": [
    {
     "data": {
      "text/html": [
       "<div>\n",
       "<style scoped>\n",
       "    .dataframe tbody tr th:only-of-type {\n",
       "        vertical-align: middle;\n",
       "    }\n",
       "\n",
       "    .dataframe tbody tr th {\n",
       "        vertical-align: top;\n",
       "    }\n",
       "\n",
       "    .dataframe thead th {\n",
       "        text-align: right;\n",
       "    }\n",
       "</style>\n",
       "<table border=\"1\" class=\"dataframe\">\n",
       "  <thead>\n",
       "    <tr style=\"text-align: right;\">\n",
       "      <th></th>\n",
       "      <th>author</th>\n",
       "      <th>body</th>\n",
       "      <th>date_published</th>\n",
       "      <th>description</th>\n",
       "      <th>source</th>\n",
       "      <th>theme</th>\n",
       "      <th>title</th>\n",
       "      <th>url</th>\n",
       "    </tr>\n",
       "  </thead>\n",
       "  <tbody>\n",
       "    <tr>\n",
       "      <th>0</th>\n",
       "      <td>La Rédaction</td>\n",
       "      <td>Ainsi les chauffeurs sont autorisés à prendre ...</td>\n",
       "      <td>19/12/2019</td>\n",
       "      <td>Paris – Pour aider les Français à pouvoir prof...</td>\n",
       "      <td>LeGorafi</td>\n",
       "      <td>Société</td>\n",
       "      <td>Le gouvernement autorise les chauffeurs des bu...</td>\n",
       "      <td>http://www.legorafi.fr/2019/12/19/le-gouvernem...</td>\n",
       "    </tr>\n",
       "    <tr>\n",
       "      <th>1</th>\n",
       "      <td>La Rédaction</td>\n",
       "      <td>Selon les services sanitaires, se sont plusieu...</td>\n",
       "      <td>11/12/2019</td>\n",
       "      <td>Paris – La chaîne de restauration rapide lancé...</td>\n",
       "      <td>LeGorafi</td>\n",
       "      <td>Société</td>\n",
       "      <td>Plusieurs Burger Quiz fermés après une visite ...</td>\n",
       "      <td>http://www.legorafi.fr/2019/12/11/plusieurs-bu...</td>\n",
       "    </tr>\n",
       "    <tr>\n",
       "      <th>2</th>\n",
       "      <td>La Rédaction</td>\n",
       "      <td>1/ Faire un beau chèque en s’appliquant pour l...</td>\n",
       "      <td>17/12/2019</td>\n",
       "      <td>L’échec amoureux n’a plus de secret pour vous ...</td>\n",
       "      <td>LeGorafi</td>\n",
       "      <td>Société</td>\n",
       "      <td>Psycho : Comment guérir d’un chagrin d’amour e...</td>\n",
       "      <td>http://www.legorafi.fr/2019/12/17/psycho-comme...</td>\n",
       "    </tr>\n",
       "    <tr>\n",
       "      <th>3</th>\n",
       "      <td>La Rédaction</td>\n",
       "      <td>« Mes équipes sentaient le malaise s’installer...</td>\n",
       "      <td>19/12/2019</td>\n",
       "      <td>Afin d’être plus en phase avec l’actualité, le...</td>\n",
       "      <td>LeGorafi</td>\n",
       "      <td>Société</td>\n",
       "      <td>Noël – Pour coller à la réalité, les magasins ...</td>\n",
       "      <td>http://www.legorafi.fr/2019/12/19/noel-pour-co...</td>\n",
       "    </tr>\n",
       "    <tr>\n",
       "      <th>4</th>\n",
       "      <td>La Rédaction</td>\n",
       "      <td>NaN</td>\n",
       "      <td>12/12/2019</td>\n",
       "      <td>Depuis les annonces d’Edouard Philippe, vous v...</td>\n",
       "      <td>LeGorafi</td>\n",
       "      <td>Société</td>\n",
       "      <td>Test : quel est l’âge idéal pour mourir avant ...</td>\n",
       "      <td>http://www.legorafi.fr/2019/12/12/test-quel-es...</td>\n",
       "    </tr>\n",
       "  </tbody>\n",
       "</table>\n",
       "</div>"
      ],
      "text/plain": [
       "         author                                               body  \\\n",
       "0  La Rédaction  Ainsi les chauffeurs sont autorisés à prendre ...   \n",
       "1  La Rédaction  Selon les services sanitaires, se sont plusieu...   \n",
       "2  La Rédaction  1/ Faire un beau chèque en s’appliquant pour l...   \n",
       "3  La Rédaction  « Mes équipes sentaient le malaise s’installer...   \n",
       "4  La Rédaction                                                NaN   \n",
       "\n",
       "  date_published                                        description    source  \\\n",
       "0     19/12/2019  Paris – Pour aider les Français à pouvoir prof...  LeGorafi   \n",
       "1     11/12/2019  Paris – La chaîne de restauration rapide lancé...  LeGorafi   \n",
       "2     17/12/2019  L’échec amoureux n’a plus de secret pour vous ...  LeGorafi   \n",
       "3     19/12/2019  Afin d’être plus en phase avec l’actualité, le...  LeGorafi   \n",
       "4     12/12/2019  Depuis les annonces d’Edouard Philippe, vous v...  LeGorafi   \n",
       "\n",
       "     theme                                              title  \\\n",
       "0  Société  Le gouvernement autorise les chauffeurs des bu...   \n",
       "1  Société  Plusieurs Burger Quiz fermés après une visite ...   \n",
       "2  Société  Psycho : Comment guérir d’un chagrin d’amour e...   \n",
       "3  Société  Noël – Pour coller à la réalité, les magasins ...   \n",
       "4  Société  Test : quel est l’âge idéal pour mourir avant ...   \n",
       "\n",
       "                                                 url  \n",
       "0  http://www.legorafi.fr/2019/12/19/le-gouvernem...  \n",
       "1  http://www.legorafi.fr/2019/12/11/plusieurs-bu...  \n",
       "2  http://www.legorafi.fr/2019/12/17/psycho-comme...  \n",
       "3  http://www.legorafi.fr/2019/12/19/noel-pour-co...  \n",
       "4  http://www.legorafi.fr/2019/12/12/test-quel-es...  "
      ]
     },
     "execution_count": 236,
     "metadata": {},
     "output_type": "execute_result"
    }
   ],
   "source": [
    "import pandas as pd\n",
    "\n",
    "df_gorafi_soc = pd.read_json(PATH_NEWS_GORAFI_SOCIETE)\n",
    "df_gorafi_soc.head()"
   ]
  },
  {
   "cell_type": "code",
   "execution_count": 237,
   "metadata": {},
   "outputs": [
    {
     "data": {
      "text/plain": [
       "(246, 8)"
      ]
     },
     "execution_count": 237,
     "metadata": {},
     "output_type": "execute_result"
    }
   ],
   "source": [
    "df_gorafi_soc.shape"
   ]
  },
  {
   "cell_type": "code",
   "execution_count": 238,
   "metadata": {},
   "outputs": [
    {
     "data": {
      "text/plain": [
       "17"
      ]
     },
     "execution_count": 238,
     "metadata": {},
     "output_type": "execute_result"
    }
   ],
   "source": [
    "df_gorafi_soc[df_gorafi_soc[\"body\"].isna()].shape[0]"
   ]
  },
  {
   "cell_type": "markdown",
   "metadata": {},
   "source": [
    "#### Le Gorafi Politique"
   ]
  },
  {
   "cell_type": "markdown",
   "metadata": {},
   "source": [
    "##### Scraping links"
   ]
  },
  {
   "cell_type": "code",
   "execution_count": null,
   "metadata": {},
   "outputs": [],
   "source": [
    "# clean last output\n",
    "clean_file(PATH_PAGES_GORAFI_POLITIQUE)"
   ]
  },
  {
   "cell_type": "code",
   "execution_count": 155,
   "metadata": {},
   "outputs": [
    {
     "name": "stdout",
     "output_type": "stream",
     "text": [
      "File ../../data/pages_gorafi_politique.json does not exist!\n"
     ]
    }
   ],
   "source": [
    "# configure scraping\n",
    "GorafiPageSpider.url_first_page = URL_PAGES_GORAFI_POLITIQUE\n",
    "GorafiPageSpider.custom_settings = {\n",
    "      'FEED_FORMAT': 'json',\n",
    "      'FEED_URI': PATH_PAGES_GORAFI_POLITIQUE\n",
    "    }\n",
    "GorafiPageSpider.num_max_pages = 50\n",
    "\n",
    "# move file if exist\n",
    "clean_file(PATH_PAGES_GORAFI_POLITIQUE)\n",
    "\n",
    "# scraping pages LeGorafi\n",
    "run_spider(GorafiPageSpider)"
   ]
  },
  {
   "cell_type": "code",
   "execution_count": 241,
   "metadata": {},
   "outputs": [
    {
     "data": {
      "text/html": [
       "<div>\n",
       "<style scoped>\n",
       "    .dataframe tbody tr th:only-of-type {\n",
       "        vertical-align: middle;\n",
       "    }\n",
       "\n",
       "    .dataframe tbody tr th {\n",
       "        vertical-align: top;\n",
       "    }\n",
       "\n",
       "    .dataframe thead th {\n",
       "        text-align: right;\n",
       "    }\n",
       "</style>\n",
       "<table border=\"1\" class=\"dataframe\">\n",
       "  <thead>\n",
       "    <tr style=\"text-align: right;\">\n",
       "      <th></th>\n",
       "      <th>link</th>\n",
       "    </tr>\n",
       "  </thead>\n",
       "  <tbody>\n",
       "    <tr>\n",
       "      <th>0</th>\n",
       "      <td>http://www.legorafi.fr/2019/12/11/jean-paul-de...</td>\n",
       "    </tr>\n",
       "    <tr>\n",
       "      <th>1</th>\n",
       "      <td>http://www.legorafi.fr/2019/12/09/jean-paul-de...</td>\n",
       "    </tr>\n",
       "    <tr>\n",
       "      <th>2</th>\n",
       "      <td>http://www.legorafi.fr/2019/12/05/christophe-c...</td>\n",
       "    </tr>\n",
       "    <tr>\n",
       "      <th>3</th>\n",
       "      <td>http://www.legorafi.fr/2019/11/25/lrem-edouard...</td>\n",
       "    </tr>\n",
       "    <tr>\n",
       "      <th>4</th>\n",
       "      <td>http://www.legorafi.fr/2019/11/22/inquiete-par...</td>\n",
       "    </tr>\n",
       "  </tbody>\n",
       "</table>\n",
       "</div>"
      ],
      "text/plain": [
       "                                                link\n",
       "0  http://www.legorafi.fr/2019/12/11/jean-paul-de...\n",
       "1  http://www.legorafi.fr/2019/12/09/jean-paul-de...\n",
       "2  http://www.legorafi.fr/2019/12/05/christophe-c...\n",
       "3  http://www.legorafi.fr/2019/11/25/lrem-edouard...\n",
       "4  http://www.legorafi.fr/2019/11/22/inquiete-par..."
      ]
     },
     "execution_count": 241,
     "metadata": {},
     "output_type": "execute_result"
    }
   ],
   "source": [
    "import pandas as pd\n",
    "\n",
    "df_gorafi_pages_pol = pd.read_json(PATH_PAGES_GORAFI_POLITIQUE)\n",
    "df_gorafi_pages_pol.head()"
   ]
  },
  {
   "cell_type": "code",
   "execution_count": 242,
   "metadata": {},
   "outputs": [
    {
     "data": {
      "text/plain": [
       "(246, 1)"
      ]
     },
     "execution_count": 242,
     "metadata": {},
     "output_type": "execute_result"
    }
   ],
   "source": [
    "df_gorafi_pages_pol.shape"
   ]
  },
  {
   "cell_type": "markdown",
   "metadata": {},
   "source": [
    "##### Scraping news"
   ]
  },
  {
   "cell_type": "code",
   "execution_count": 239,
   "metadata": {},
   "outputs": [
    {
     "name": "stdout",
     "output_type": "stream",
     "text": [
      "File ../../data/gorafi_politique_20191228_10_37_54.json moved!\n"
     ]
    }
   ],
   "source": [
    "# clean last output\n",
    "clean_file(PATH_NEWS_GORAFI_POLITIQUE)"
   ]
  },
  {
   "cell_type": "code",
   "execution_count": 243,
   "metadata": {},
   "outputs": [],
   "source": [
    "# configure : add all retrieved links to Spider\n",
    "GorafiSpider.start_urls = df_gorafi_pages_pol[\"link\"].tolist()\n",
    "GorafiSpider.custom_settings = {\n",
    "      'FEED_FORMAT': 'json',\n",
    "      'FEED_URI': PATH_NEWS_GORAFI_POLITIQUE\n",
    "    }\n",
    "# scraping\n",
    "run_spider(GorafiSpider)"
   ]
  },
  {
   "cell_type": "code",
   "execution_count": 244,
   "metadata": {},
   "outputs": [
    {
     "data": {
      "text/html": [
       "<div>\n",
       "<style scoped>\n",
       "    .dataframe tbody tr th:only-of-type {\n",
       "        vertical-align: middle;\n",
       "    }\n",
       "\n",
       "    .dataframe tbody tr th {\n",
       "        vertical-align: top;\n",
       "    }\n",
       "\n",
       "    .dataframe thead th {\n",
       "        text-align: right;\n",
       "    }\n",
       "</style>\n",
       "<table border=\"1\" class=\"dataframe\">\n",
       "  <thead>\n",
       "    <tr style=\"text-align: right;\">\n",
       "      <th></th>\n",
       "      <th>author</th>\n",
       "      <th>body</th>\n",
       "      <th>date_published</th>\n",
       "      <th>description</th>\n",
       "      <th>source</th>\n",
       "      <th>theme</th>\n",
       "      <th>title</th>\n",
       "      <th>url</th>\n",
       "    </tr>\n",
       "  </thead>\n",
       "  <tbody>\n",
       "    <tr>\n",
       "      <th>0</th>\n",
       "      <td>La Rédaction</td>\n",
       "      <td>« C’est juste un petit cadeau pour le service ...</td>\n",
       "      <td>09/12/2019</td>\n",
       "      <td>Paris – Nouvelle polémique pour Jean-Paul Dele...</td>\n",
       "      <td>LeGorafi</td>\n",
       "      <td>Politique</td>\n",
       "      <td>Jean-Paul Delevoye a oublié de préciser qu’il ...</td>\n",
       "      <td>http://www.legorafi.fr/2019/12/09/jean-paul-de...</td>\n",
       "    </tr>\n",
       "    <tr>\n",
       "      <th>1</th>\n",
       "      <td>La Rédaction</td>\n",
       "      <td>De nombreuses sources citent Marlène Schiappa ...</td>\n",
       "      <td>25/11/2019</td>\n",
       "      <td>De nombreux détails croustillants, concernant ...</td>\n",
       "      <td>LeGorafi</td>\n",
       "      <td>Politique</td>\n",
       "      <td>LREM : Édouard Philippe rebaptisé Eduardo Fili...</td>\n",
       "      <td>http://www.legorafi.fr/2019/11/25/lrem-edouard...</td>\n",
       "    </tr>\n",
       "    <tr>\n",
       "      <th>2</th>\n",
       "      <td>La Rédaction</td>\n",
       "      <td>« La précarité qu’ils traversent leur sera de ...</td>\n",
       "      <td>13/11/2019</td>\n",
       "      <td>Alors que la mobilisation étudiante prend de l...</td>\n",
       "      <td>LeGorafi</td>\n",
       "      <td>Politique</td>\n",
       "      <td>Emmanuel Macron aux étudiants « Je n’adore pas...</td>\n",
       "      <td>http://www.legorafi.fr/2019/11/13/emmanuel-mac...</td>\n",
       "    </tr>\n",
       "    <tr>\n",
       "      <th>3</th>\n",
       "      <td>La Rédaction</td>\n",
       "      <td>Alors que de nombreux manifestants sont attend...</td>\n",
       "      <td>05/12/2019</td>\n",
       "      <td>Après que l’Etat a commandé de nouveaux LBD à ...</td>\n",
       "      <td>LeGorafi</td>\n",
       "      <td>Politique</td>\n",
       "      <td>Christophe Castaner promet que les LBD « feron...</td>\n",
       "      <td>http://www.legorafi.fr/2019/12/05/christophe-c...</td>\n",
       "    </tr>\n",
       "    <tr>\n",
       "      <th>4</th>\n",
       "      <td>La Rédaction</td>\n",
       "      <td>« Oui c’est un peu regrettable mais j’ai quitt...</td>\n",
       "      <td>11/12/2019</td>\n",
       "      <td>Paris – Face aux polémiques naissantes, Jean-P...</td>\n",
       "      <td>LeGorafi</td>\n",
       "      <td>Politique</td>\n",
       "      <td>Jean-Paul Delevoye contraint de démissionner d...</td>\n",
       "      <td>http://www.legorafi.fr/2019/12/11/jean-paul-de...</td>\n",
       "    </tr>\n",
       "  </tbody>\n",
       "</table>\n",
       "</div>"
      ],
      "text/plain": [
       "         author                                               body  \\\n",
       "0  La Rédaction  « C’est juste un petit cadeau pour le service ...   \n",
       "1  La Rédaction  De nombreuses sources citent Marlène Schiappa ...   \n",
       "2  La Rédaction  « La précarité qu’ils traversent leur sera de ...   \n",
       "3  La Rédaction  Alors que de nombreux manifestants sont attend...   \n",
       "4  La Rédaction  « Oui c’est un peu regrettable mais j’ai quitt...   \n",
       "\n",
       "  date_published                                        description    source  \\\n",
       "0     09/12/2019  Paris – Nouvelle polémique pour Jean-Paul Dele...  LeGorafi   \n",
       "1     25/11/2019  De nombreux détails croustillants, concernant ...  LeGorafi   \n",
       "2     13/11/2019  Alors que la mobilisation étudiante prend de l...  LeGorafi   \n",
       "3     05/12/2019  Après que l’Etat a commandé de nouveaux LBD à ...  LeGorafi   \n",
       "4     11/12/2019  Paris – Face aux polémiques naissantes, Jean-P...  LeGorafi   \n",
       "\n",
       "       theme                                              title  \\\n",
       "0  Politique  Jean-Paul Delevoye a oublié de préciser qu’il ...   \n",
       "1  Politique  LREM : Édouard Philippe rebaptisé Eduardo Fili...   \n",
       "2  Politique  Emmanuel Macron aux étudiants « Je n’adore pas...   \n",
       "3  Politique  Christophe Castaner promet que les LBD « feron...   \n",
       "4  Politique  Jean-Paul Delevoye contraint de démissionner d...   \n",
       "\n",
       "                                                 url  \n",
       "0  http://www.legorafi.fr/2019/12/09/jean-paul-de...  \n",
       "1  http://www.legorafi.fr/2019/11/25/lrem-edouard...  \n",
       "2  http://www.legorafi.fr/2019/11/13/emmanuel-mac...  \n",
       "3  http://www.legorafi.fr/2019/12/05/christophe-c...  \n",
       "4  http://www.legorafi.fr/2019/12/11/jean-paul-de...  "
      ]
     },
     "execution_count": 244,
     "metadata": {},
     "output_type": "execute_result"
    }
   ],
   "source": [
    "import pandas as pd\n",
    "\n",
    "df_gorafi_pol = pd.read_json(PATH_NEWS_GORAFI_POLITIQUE)\n",
    "df_gorafi_pol.head()"
   ]
  },
  {
   "cell_type": "code",
   "execution_count": 245,
   "metadata": {},
   "outputs": [
    {
     "data": {
      "text/plain": [
       "(246, 8)"
      ]
     },
     "execution_count": 245,
     "metadata": {},
     "output_type": "execute_result"
    }
   ],
   "source": [
    "df_gorafi_pol.shape"
   ]
  },
  {
   "cell_type": "code",
   "execution_count": 246,
   "metadata": {},
   "outputs": [
    {
     "data": {
      "text/plain": [
       "5"
      ]
     },
     "execution_count": 246,
     "metadata": {},
     "output_type": "execute_result"
    }
   ],
   "source": [
    "df_gorafi_pol[df_gorafi_pol[\"body\"].isna()].shape[0]"
   ]
  },
  {
   "cell_type": "markdown",
   "metadata": {},
   "source": [
    "#### Le Gorafi Sciences"
   ]
  },
  {
   "cell_type": "markdown",
   "metadata": {},
   "source": [
    "##### Scraping links"
   ]
  },
  {
   "cell_type": "code",
   "execution_count": 9,
   "metadata": {},
   "outputs": [
    {
     "name": "stdout",
     "output_type": "stream",
     "text": [
      "File ../../data/pages_gorafi_sciences.json does not exist!\n"
     ]
    }
   ],
   "source": [
    "# clean last output\n",
    "clean_file(PATH_PAGES_GORAFI_SCIENCES)"
   ]
  },
  {
   "cell_type": "code",
   "execution_count": 13,
   "metadata": {},
   "outputs": [
    {
     "name": "stdout",
     "output_type": "stream",
     "text": [
      "File ../../data/pages_gorafi_sciences_20200103_19_05_48.json moved!\n"
     ]
    }
   ],
   "source": [
    "# configure scraping\n",
    "GorafiPageSpider.url_first_page = URL_PAGES_GORAFI_SCIENCES\n",
    "GorafiPageSpider.custom_settings = {\n",
    "      'FEED_FORMAT': 'json',\n",
    "      'FEED_URI': PATH_PAGES_GORAFI_SCIENCES\n",
    "    }\n",
    "GorafiPageSpider.num_max_pages = 21\n",
    "\n",
    "# move file if exist\n",
    "clean_file(PATH_PAGES_GORAFI_SCIENCES)\n",
    "\n",
    "# scraping pages LeGorafi\n",
    "run_spider(GorafiPageSpider)"
   ]
  },
  {
   "cell_type": "code",
   "execution_count": 14,
   "metadata": {},
   "outputs": [
    {
     "data": {
      "text/html": [
       "<div>\n",
       "<style scoped>\n",
       "    .dataframe tbody tr th:only-of-type {\n",
       "        vertical-align: middle;\n",
       "    }\n",
       "\n",
       "    .dataframe tbody tr th {\n",
       "        vertical-align: top;\n",
       "    }\n",
       "\n",
       "    .dataframe thead th {\n",
       "        text-align: right;\n",
       "    }\n",
       "</style>\n",
       "<table border=\"1\" class=\"dataframe\">\n",
       "  <thead>\n",
       "    <tr style=\"text-align: right;\">\n",
       "      <th></th>\n",
       "      <th>link</th>\n",
       "    </tr>\n",
       "  </thead>\n",
       "  <tbody>\n",
       "    <tr>\n",
       "      <th>0</th>\n",
       "      <td>http://www.legorafi.fr/2019/11/27/les-scientif...</td>\n",
       "    </tr>\n",
       "    <tr>\n",
       "      <th>1</th>\n",
       "      <td>http://www.legorafi.fr/2019/11/26/ecologie-un-...</td>\n",
       "    </tr>\n",
       "    <tr>\n",
       "      <th>2</th>\n",
       "      <td>http://www.legorafi.fr/2019/11/25/evolution-le...</td>\n",
       "    </tr>\n",
       "    <tr>\n",
       "      <th>3</th>\n",
       "      <td>http://www.legorafi.fr/2019/10/28/selon-les-sc...</td>\n",
       "    </tr>\n",
       "    <tr>\n",
       "      <th>4</th>\n",
       "      <td>http://www.legorafi.fr/2019/10/03/selon-une-et...</td>\n",
       "    </tr>\n",
       "  </tbody>\n",
       "</table>\n",
       "</div>"
      ],
      "text/plain": [
       "                                                link\n",
       "0  http://www.legorafi.fr/2019/11/27/les-scientif...\n",
       "1  http://www.legorafi.fr/2019/11/26/ecologie-un-...\n",
       "2  http://www.legorafi.fr/2019/11/25/evolution-le...\n",
       "3  http://www.legorafi.fr/2019/10/28/selon-les-sc...\n",
       "4  http://www.legorafi.fr/2019/10/03/selon-une-et..."
      ]
     },
     "execution_count": 14,
     "metadata": {},
     "output_type": "execute_result"
    }
   ],
   "source": [
    "import pandas as pd\n",
    "\n",
    "df_gorafi_pages_sci = pd.read_json(PATH_PAGES_GORAFI_SCIENCES)\n",
    "df_gorafi_pages_sci.head()"
   ]
  },
  {
   "cell_type": "code",
   "execution_count": 15,
   "metadata": {},
   "outputs": [
    {
     "data": {
      "text/plain": [
       "(101, 1)"
      ]
     },
     "execution_count": 15,
     "metadata": {},
     "output_type": "execute_result"
    }
   ],
   "source": [
    "df_gorafi_pages_sci.shape"
   ]
  },
  {
   "cell_type": "markdown",
   "metadata": {},
   "source": [
    "##### Scraping news"
   ]
  },
  {
   "cell_type": "code",
   "execution_count": 16,
   "metadata": {},
   "outputs": [
    {
     "name": "stdout",
     "output_type": "stream",
     "text": [
      "File ../../data/gorafi_sciences.json does not exist!\n"
     ]
    }
   ],
   "source": [
    "# clean last output\n",
    "clean_file(PATH_NEWS_GORAFI_SCIENCES)"
   ]
  },
  {
   "cell_type": "code",
   "execution_count": 17,
   "metadata": {},
   "outputs": [],
   "source": [
    "# configure : add all retrieved links to Spider\n",
    "GorafiSpider.start_urls = df_gorafi_pages_sci[\"link\"].tolist()\n",
    "GorafiSpider.custom_settings = {\n",
    "      'FEED_FORMAT': 'json',\n",
    "      'FEED_URI': PATH_NEWS_GORAFI_SCIENCES\n",
    "    }\n",
    "# scraping\n",
    "run_spider(GorafiSpider)"
   ]
  },
  {
   "cell_type": "code",
   "execution_count": 18,
   "metadata": {},
   "outputs": [
    {
     "data": {
      "text/html": [
       "<div>\n",
       "<style scoped>\n",
       "    .dataframe tbody tr th:only-of-type {\n",
       "        vertical-align: middle;\n",
       "    }\n",
       "\n",
       "    .dataframe tbody tr th {\n",
       "        vertical-align: top;\n",
       "    }\n",
       "\n",
       "    .dataframe thead th {\n",
       "        text-align: right;\n",
       "    }\n",
       "</style>\n",
       "<table border=\"1\" class=\"dataframe\">\n",
       "  <thead>\n",
       "    <tr style=\"text-align: right;\">\n",
       "      <th></th>\n",
       "      <th>author</th>\n",
       "      <th>body</th>\n",
       "      <th>date_published</th>\n",
       "      <th>description</th>\n",
       "      <th>source</th>\n",
       "      <th>theme</th>\n",
       "      <th>title</th>\n",
       "      <th>url</th>\n",
       "    </tr>\n",
       "  </thead>\n",
       "  <tbody>\n",
       "    <tr>\n",
       "      <th>0</th>\n",
       "      <td>La Rédaction</td>\n",
       "      <td>Après six mois à étudier différentes projectio...</td>\n",
       "      <td>26/11/2019</td>\n",
       "      <td>Les experts du GIEC affirment que la dispariti...</td>\n",
       "      <td>LeGorafi</td>\n",
       "      <td>Sciences</td>\n",
       "      <td>Écologie : Un rapport préconise l’exterminatio...</td>\n",
       "      <td>http://www.legorafi.fr/2019/11/26/ecologie-un-...</td>\n",
       "    </tr>\n",
       "    <tr>\n",
       "      <th>1</th>\n",
       "      <td>La Rédaction</td>\n",
       "      <td>Les premiers cas ont été repérés voilà quelque...</td>\n",
       "      <td>26/09/2019</td>\n",
       "      <td>Bornéo – Inquiétude des autorités après l’anno...</td>\n",
       "      <td>LeGorafi</td>\n",
       "      <td>Sciences</td>\n",
       "      <td>Après le moustique-tigre, premiers cas de décè...</td>\n",
       "      <td>http://www.legorafi.fr/2019/09/26/apres-le-mou...</td>\n",
       "    </tr>\n",
       "    <tr>\n",
       "      <th>2</th>\n",
       "      <td>La Rédaction</td>\n",
       "      <td>Toujours selon le même rapport, dire “c’est pa...</td>\n",
       "      <td>03/10/2019</td>\n",
       "      <td>Les résultats du dernier rapport du GIEC sont ...</td>\n",
       "      <td>LeGorafi</td>\n",
       "      <td>Sciences</td>\n",
       "      <td>Selon une étude, ajouter “c’est pas très écolo...</td>\n",
       "      <td>http://www.legorafi.fr/2019/10/03/selon-une-et...</td>\n",
       "    </tr>\n",
       "    <tr>\n",
       "      <th>3</th>\n",
       "      <td>La Rédaction</td>\n",
       "      <td>L’expérience semble s’être déroulée en deux ét...</td>\n",
       "      <td>27/11/2019</td>\n",
       "      <td>Des chercheurs de l’université de Vienne ont m...</td>\n",
       "      <td>LeGorafi</td>\n",
       "      <td>Sciences</td>\n",
       "      <td>Les scientifiques n’expliquent toujours pas po...</td>\n",
       "      <td>http://www.legorafi.fr/2019/11/27/les-scientif...</td>\n",
       "    </tr>\n",
       "    <tr>\n",
       "      <th>4</th>\n",
       "      <td>La Rédaction</td>\n",
       "      <td>Regardons de plus près. En effet, en stoppant ...</td>\n",
       "      <td>27/08/2019</td>\n",
       "      <td>Il est clairement attendu par plusieurs scient...</td>\n",
       "      <td>LeGorafi</td>\n",
       "      <td>Sciences</td>\n",
       "      <td>Laurent Alexandre « Comment le véganisme va mo...</td>\n",
       "      <td>http://www.legorafi.fr/2019/08/27/laurent-alex...</td>\n",
       "    </tr>\n",
       "  </tbody>\n",
       "</table>\n",
       "</div>"
      ],
      "text/plain": [
       "         author                                               body  \\\n",
       "0  La Rédaction  Après six mois à étudier différentes projectio...   \n",
       "1  La Rédaction  Les premiers cas ont été repérés voilà quelque...   \n",
       "2  La Rédaction  Toujours selon le même rapport, dire “c’est pa...   \n",
       "3  La Rédaction  L’expérience semble s’être déroulée en deux ét...   \n",
       "4  La Rédaction  Regardons de plus près. En effet, en stoppant ...   \n",
       "\n",
       "  date_published                                        description    source  \\\n",
       "0     26/11/2019  Les experts du GIEC affirment que la dispariti...  LeGorafi   \n",
       "1     26/09/2019  Bornéo – Inquiétude des autorités après l’anno...  LeGorafi   \n",
       "2     03/10/2019  Les résultats du dernier rapport du GIEC sont ...  LeGorafi   \n",
       "3     27/11/2019  Des chercheurs de l’université de Vienne ont m...  LeGorafi   \n",
       "4     27/08/2019  Il est clairement attendu par plusieurs scient...  LeGorafi   \n",
       "\n",
       "      theme                                              title  \\\n",
       "0  Sciences  Écologie : Un rapport préconise l’exterminatio...   \n",
       "1  Sciences  Après le moustique-tigre, premiers cas de décè...   \n",
       "2  Sciences  Selon une étude, ajouter “c’est pas très écolo...   \n",
       "3  Sciences  Les scientifiques n’expliquent toujours pas po...   \n",
       "4  Sciences  Laurent Alexandre « Comment le véganisme va mo...   \n",
       "\n",
       "                                                 url  \n",
       "0  http://www.legorafi.fr/2019/11/26/ecologie-un-...  \n",
       "1  http://www.legorafi.fr/2019/09/26/apres-le-mou...  \n",
       "2  http://www.legorafi.fr/2019/10/03/selon-une-et...  \n",
       "3  http://www.legorafi.fr/2019/11/27/les-scientif...  \n",
       "4  http://www.legorafi.fr/2019/08/27/laurent-alex...  "
      ]
     },
     "execution_count": 18,
     "metadata": {},
     "output_type": "execute_result"
    }
   ],
   "source": [
    "import pandas as pd\n",
    "\n",
    "df_gorafi_sci = pd.read_json(PATH_NEWS_GORAFI_SCIENCES)\n",
    "df_gorafi_sci.head()"
   ]
  },
  {
   "cell_type": "code",
   "execution_count": 19,
   "metadata": {},
   "outputs": [
    {
     "data": {
      "text/plain": [
       "(101, 8)"
      ]
     },
     "execution_count": 19,
     "metadata": {},
     "output_type": "execute_result"
    }
   ],
   "source": [
    "df_gorafi_sci.shape"
   ]
  },
  {
   "cell_type": "code",
   "execution_count": 20,
   "metadata": {},
   "outputs": [
    {
     "data": {
      "text/plain": [
       "0"
      ]
     },
     "execution_count": 20,
     "metadata": {},
     "output_type": "execute_result"
    }
   ],
   "source": [
    "df_gorafi_sci[df_gorafi_sci[\"body\"].isna()].shape[0]"
   ]
  },
  {
   "cell_type": "markdown",
   "metadata": {},
   "source": [
    "#### Le Gorafi Tech"
   ]
  },
  {
   "cell_type": "markdown",
   "metadata": {},
   "source": [
    "##### Scraping links"
   ]
  },
  {
   "cell_type": "code",
   "execution_count": 22,
   "metadata": {},
   "outputs": [
    {
     "name": "stdout",
     "output_type": "stream",
     "text": [
      "File ../../data/pages_gorafi_tech.json does not exist!\n"
     ]
    }
   ],
   "source": [
    "# clean last output\n",
    "clean_file(PATH_PAGES_GORAFI_TECH)"
   ]
  },
  {
   "cell_type": "code",
   "execution_count": 23,
   "metadata": {},
   "outputs": [
    {
     "name": "stdout",
     "output_type": "stream",
     "text": [
      "File ../../data/pages_gorafi_tech.json does not exist!\n"
     ]
    }
   ],
   "source": [
    "# configure scraping\n",
    "GorafiPageSpider.url_first_page = URL_PAGES_GORAFI_TECH\n",
    "GorafiPageSpider.custom_settings = {\n",
    "      'FEED_FORMAT': 'json',\n",
    "      'FEED_URI': PATH_PAGES_GORAFI_TECH\n",
    "    }\n",
    "GorafiPageSpider.num_max_pages = 11\n",
    "\n",
    "# move file if exist\n",
    "clean_file(PATH_PAGES_GORAFI_TECH)\n",
    "\n",
    "# scraping pages LeGorafi\n",
    "run_spider(GorafiPageSpider)"
   ]
  },
  {
   "cell_type": "code",
   "execution_count": 24,
   "metadata": {},
   "outputs": [
    {
     "data": {
      "text/html": [
       "<div>\n",
       "<style scoped>\n",
       "    .dataframe tbody tr th:only-of-type {\n",
       "        vertical-align: middle;\n",
       "    }\n",
       "\n",
       "    .dataframe tbody tr th {\n",
       "        vertical-align: top;\n",
       "    }\n",
       "\n",
       "    .dataframe thead th {\n",
       "        text-align: right;\n",
       "    }\n",
       "</style>\n",
       "<table border=\"1\" class=\"dataframe\">\n",
       "  <thead>\n",
       "    <tr style=\"text-align: right;\">\n",
       "      <th></th>\n",
       "      <th>link</th>\n",
       "    </tr>\n",
       "  </thead>\n",
       "  <tbody>\n",
       "    <tr>\n",
       "      <th>0</th>\n",
       "      <td>http://www.legorafi.fr/2019/07/26/il-se-detend...</td>\n",
       "    </tr>\n",
       "    <tr>\n",
       "      <th>1</th>\n",
       "      <td>http://www.legorafi.fr/2019/07/19/avec-faceapp...</td>\n",
       "    </tr>\n",
       "    <tr>\n",
       "      <th>2</th>\n",
       "      <td>http://www.legorafi.fr/2019/07/18/pour-contrer...</td>\n",
       "    </tr>\n",
       "    <tr>\n",
       "      <th>3</th>\n",
       "      <td>http://www.legorafi.fr/2019/03/11/elon-musk-va...</td>\n",
       "    </tr>\n",
       "    <tr>\n",
       "      <th>4</th>\n",
       "      <td>http://www.legorafi.fr/2019/02/15/un-soudaine-...</td>\n",
       "    </tr>\n",
       "  </tbody>\n",
       "</table>\n",
       "</div>"
      ],
      "text/plain": [
       "                                                link\n",
       "0  http://www.legorafi.fr/2019/07/26/il-se-detend...\n",
       "1  http://www.legorafi.fr/2019/07/19/avec-faceapp...\n",
       "2  http://www.legorafi.fr/2019/07/18/pour-contrer...\n",
       "3  http://www.legorafi.fr/2019/03/11/elon-musk-va...\n",
       "4  http://www.legorafi.fr/2019/02/15/un-soudaine-..."
      ]
     },
     "execution_count": 24,
     "metadata": {},
     "output_type": "execute_result"
    }
   ],
   "source": [
    "import pandas as pd\n",
    "\n",
    "df_gorafi_pages_tech= pd.read_json(PATH_PAGES_GORAFI_TECH)\n",
    "df_gorafi_pages_tech.head()"
   ]
  },
  {
   "cell_type": "code",
   "execution_count": 25,
   "metadata": {},
   "outputs": [
    {
     "data": {
      "text/plain": [
       "(51, 1)"
      ]
     },
     "execution_count": 25,
     "metadata": {},
     "output_type": "execute_result"
    }
   ],
   "source": [
    "df_gorafi_pages_tech.shape"
   ]
  },
  {
   "cell_type": "markdown",
   "metadata": {},
   "source": [
    "##### Scraping news"
   ]
  },
  {
   "cell_type": "code",
   "execution_count": 26,
   "metadata": {},
   "outputs": [
    {
     "name": "stdout",
     "output_type": "stream",
     "text": [
      "File ../../data/gorafi_tech.json does not exist!\n"
     ]
    }
   ],
   "source": [
    "# clean last output\n",
    "clean_file(PATH_NEWS_GORAFI_TECH)"
   ]
  },
  {
   "cell_type": "code",
   "execution_count": 27,
   "metadata": {},
   "outputs": [],
   "source": [
    "# configure : add all retrieved links to Spider\n",
    "GorafiSpider.start_urls = df_gorafi_pages_tech[\"link\"].tolist()\n",
    "GorafiSpider.custom_settings = {\n",
    "      'FEED_FORMAT': 'json',\n",
    "      'FEED_URI': PATH_NEWS_GORAFI_TECH\n",
    "    }\n",
    "# scraping\n",
    "run_spider(GorafiSpider)"
   ]
  },
  {
   "cell_type": "code",
   "execution_count": 28,
   "metadata": {},
   "outputs": [
    {
     "data": {
      "text/html": [
       "<div>\n",
       "<style scoped>\n",
       "    .dataframe tbody tr th:only-of-type {\n",
       "        vertical-align: middle;\n",
       "    }\n",
       "\n",
       "    .dataframe tbody tr th {\n",
       "        vertical-align: top;\n",
       "    }\n",
       "\n",
       "    .dataframe thead th {\n",
       "        text-align: right;\n",
       "    }\n",
       "</style>\n",
       "<table border=\"1\" class=\"dataframe\">\n",
       "  <thead>\n",
       "    <tr style=\"text-align: right;\">\n",
       "      <th></th>\n",
       "      <th>author</th>\n",
       "      <th>body</th>\n",
       "      <th>date_published</th>\n",
       "      <th>description</th>\n",
       "      <th>source</th>\n",
       "      <th>theme</th>\n",
       "      <th>title</th>\n",
       "      <th>url</th>\n",
       "    </tr>\n",
       "  </thead>\n",
       "  <tbody>\n",
       "    <tr>\n",
       "      <th>0</th>\n",
       "      <td>La Rédaction</td>\n",
       "      <td>Hugo ne s’attendait pas à ce que cette journée...</td>\n",
       "      <td>19/07/2019</td>\n",
       "      <td>Lyon – C’est pendant son job d’été qu’Hugo, 22...</td>\n",
       "      <td>LeGorafi</td>\n",
       "      <td>Hi-Tech</td>\n",
       "      <td>Avec FaceApp, il découvre qu’il aura la même t...</td>\n",
       "      <td>http://www.legorafi.fr/2019/07/19/avec-faceapp...</td>\n",
       "    </tr>\n",
       "    <tr>\n",
       "      <th>1</th>\n",
       "      <td>La Rédaction</td>\n",
       "      <td>Tout avait été pourtant planifié depuis des mo...</td>\n",
       "      <td>15/02/2019</td>\n",
       "      <td>New-York – Good’all devait être le prochain ré...</td>\n",
       "      <td>LeGorafi</td>\n",
       "      <td>Hi-Tech</td>\n",
       "      <td>Une soudaine hausse de productivité dans les b...</td>\n",
       "      <td>http://www.legorafi.fr/2019/02/15/un-soudaine-...</td>\n",
       "    </tr>\n",
       "    <tr>\n",
       "      <th>2</th>\n",
       "      <td>La Rédaction</td>\n",
       "      <td>Forme, couleur et même type de bois utilisé : ...</td>\n",
       "      <td>18/07/2019</td>\n",
       "      <td>FaceApp, cette application développée par Wire...</td>\n",
       "      <td>LeGorafi</td>\n",
       "      <td>Hi-Tech</td>\n",
       "      <td>Pour contrer le succès de FaceApp, Yahoo lance...</td>\n",
       "      <td>http://www.legorafi.fr/2019/07/18/pour-contrer...</td>\n",
       "    </tr>\n",
       "    <tr>\n",
       "      <th>3</th>\n",
       "      <td>La Rédaction</td>\n",
       "      <td>“Ça commence par une simple conversation pour ...</td>\n",
       "      <td>05/02/2019</td>\n",
       "      <td>Les chiffres sont alarmants. Selon un sondage ...</td>\n",
       "      <td>LeGorafi</td>\n",
       "      <td>Hi-Tech</td>\n",
       "      <td>Selon une étude, 90% des Français seraient blo...</td>\n",
       "      <td>http://www.legorafi.fr/2019/02/05/selon-une-et...</td>\n",
       "    </tr>\n",
       "    <tr>\n",
       "      <th>4</th>\n",
       "      <td>La Rédaction</td>\n",
       "      <td>« C’est un projet insensé. La vie sur Mars, à ...</td>\n",
       "      <td>11/03/2019</td>\n",
       "      <td>San Francisco – C’est le nouveau défi du milli...</td>\n",
       "      <td>LeGorafi</td>\n",
       "      <td>Hi-Tech</td>\n",
       "      <td>Elon Musk va aider à la fabrication d’une mach...</td>\n",
       "      <td>http://www.legorafi.fr/2019/03/11/elon-musk-va...</td>\n",
       "    </tr>\n",
       "  </tbody>\n",
       "</table>\n",
       "</div>"
      ],
      "text/plain": [
       "         author                                               body  \\\n",
       "0  La Rédaction  Hugo ne s’attendait pas à ce que cette journée...   \n",
       "1  La Rédaction  Tout avait été pourtant planifié depuis des mo...   \n",
       "2  La Rédaction  Forme, couleur et même type de bois utilisé : ...   \n",
       "3  La Rédaction  “Ça commence par une simple conversation pour ...   \n",
       "4  La Rédaction  « C’est un projet insensé. La vie sur Mars, à ...   \n",
       "\n",
       "  date_published                                        description    source  \\\n",
       "0     19/07/2019  Lyon – C’est pendant son job d’été qu’Hugo, 22...  LeGorafi   \n",
       "1     15/02/2019  New-York – Good’all devait être le prochain ré...  LeGorafi   \n",
       "2     18/07/2019  FaceApp, cette application développée par Wire...  LeGorafi   \n",
       "3     05/02/2019  Les chiffres sont alarmants. Selon un sondage ...  LeGorafi   \n",
       "4     11/03/2019  San Francisco – C’est le nouveau défi du milli...  LeGorafi   \n",
       "\n",
       "     theme                                              title  \\\n",
       "0  Hi-Tech  Avec FaceApp, il découvre qu’il aura la même t...   \n",
       "1  Hi-Tech  Une soudaine hausse de productivité dans les b...   \n",
       "2  Hi-Tech  Pour contrer le succès de FaceApp, Yahoo lance...   \n",
       "3  Hi-Tech  Selon une étude, 90% des Français seraient blo...   \n",
       "4  Hi-Tech  Elon Musk va aider à la fabrication d’une mach...   \n",
       "\n",
       "                                                 url  \n",
       "0  http://www.legorafi.fr/2019/07/19/avec-faceapp...  \n",
       "1  http://www.legorafi.fr/2019/02/15/un-soudaine-...  \n",
       "2  http://www.legorafi.fr/2019/07/18/pour-contrer...  \n",
       "3  http://www.legorafi.fr/2019/02/05/selon-une-et...  \n",
       "4  http://www.legorafi.fr/2019/03/11/elon-musk-va...  "
      ]
     },
     "execution_count": 28,
     "metadata": {},
     "output_type": "execute_result"
    }
   ],
   "source": [
    "import pandas as pd\n",
    "\n",
    "df_gorafi_tech = pd.read_json(PATH_NEWS_GORAFI_TECH)\n",
    "df_gorafi_tech.head()"
   ]
  },
  {
   "cell_type": "code",
   "execution_count": 29,
   "metadata": {},
   "outputs": [
    {
     "data": {
      "text/plain": [
       "(51, 8)"
      ]
     },
     "execution_count": 29,
     "metadata": {},
     "output_type": "execute_result"
    }
   ],
   "source": [
    "df_gorafi_tech.shape"
   ]
  },
  {
   "cell_type": "code",
   "execution_count": 30,
   "metadata": {},
   "outputs": [
    {
     "data": {
      "text/plain": [
       "1"
      ]
     },
     "execution_count": 30,
     "metadata": {},
     "output_type": "execute_result"
    }
   ],
   "source": [
    "df_gorafi_tech[df_gorafi_tech[\"body\"].isna()].shape[0]"
   ]
  },
  {
   "cell_type": "markdown",
   "metadata": {},
   "source": [
    "## Scraping Nordpresse.be"
   ]
  },
  {
   "cell_type": "markdown",
   "metadata": {},
   "source": [
    "### Class definitions"
   ]
  },
  {
   "cell_type": "code",
   "execution_count": 44,
   "metadata": {},
   "outputs": [],
   "source": [
    "import scrapy\n",
    "from scrapy.loader import ItemLoader\n",
    "from scrapy.loader.processors import MapCompose, Join, TakeFirst\n",
    "from w3lib.html import remove_tags\n",
    "\n",
    "\n",
    "class NordpresseItem(scrapy.Item):\n",
    "    '''\n",
    "    Class item to declare different information to scrap\n",
    "    and how to process (as input or output) for NordPresse.be\n",
    "    '''\n",
    "    # define the fields for your item here like:\n",
    "    url = scrapy.Field(output_processor=TakeFirst())\n",
    "    \n",
    "    source = scrapy.Field(output_processor=TakeFirst())\n",
    "    \n",
    "    author = scrapy.Field(\n",
    "        input_processor=MapCompose(remove_tags),\n",
    "        output_processor=TakeFirst()\n",
    "    )\n",
    "    \n",
    "    title = scrapy.Field(\n",
    "        input_processor=MapCompose(remove_tags),\n",
    "        output_processor=TakeFirst()\n",
    "    )\n",
    "    \n",
    "    theme = scrapy.Field(\n",
    "        input_processor=MapCompose(remove_tags),\n",
    "        output_processor=lambda v: v[-1]\n",
    "    )\n",
    "    \n",
    "    date_published = scrapy.Field(\n",
    "        input_processor=MapCompose(remove_tags),\n",
    "        output_processor=TakeFirst()\n",
    "    )\n",
    "    \n",
    "    description = scrapy.Field(output_processor=TakeFirst())\n",
    "    \n",
    "    body = scrapy.Field(\n",
    "        input_processor=MapCompose(remove_tags, \n",
    "                                   lambda v: v.replace(u'\\xa0', u' '),\n",
    "                                  lambda v: v.strip()),\n",
    "        output_processor=Join()\n",
    "    )"
   ]
  },
  {
   "cell_type": "code",
   "execution_count": 45,
   "metadata": {},
   "outputs": [],
   "source": [
    "class NordpresseSpider(scrapy.Spider):\n",
    "    '''\n",
    "    Spider to scrap over Nordpresse webpages : \n",
    "    - how to find information for scraping\n",
    "    - which field names to store\n",
    "    '''\n",
    "    # Your spider definition\n",
    "    name = 'news_nordpresse_spider'\n",
    "    # output definition :\n",
    "    custom_settings = {\n",
    "      'FEED_FORMAT': 'json',\n",
    "      'FEED_URI': 'items_nordpresse.json'\n",
    "    }\n",
    "    \n",
    "    # urls to scrap\n",
    "    start_urls = [\n",
    "        'https://nordpresse.be/category/france/'\n",
    "    ]\n",
    "\n",
    "    def parse(self, response):\n",
    "        '''\n",
    "        Parse definition with xpath which define all patterns to use\n",
    "        for retrieve information into HTML strings\n",
    "        '''\n",
    "        #url\tsource\tauthor\ttitle\ttheme\tdescription\tdate_published\tbody   \n",
    "        l = ItemLoader(item=NordpresseItem(), selector=response)\n",
    "        \n",
    "        l.add_value('url', response.url)\n",
    "        \n",
    "        l.add_value('source', \"Nordpresse\")\n",
    "        \n",
    "        #<div class=\"td-post-author-name td-post-author-no-dot\">\n",
    "        #  <div class=\"td-author-by\">By</div> \n",
    "        #  <a href=\"https://nordpresse.be/...\">Stephane VERON</a></div>\n",
    "        l.add_xpath('author', \n",
    "            '//div[@class=\"td-post-author-name td-post-author-no-dot\"]/a')\n",
    "        \n",
    "        l.add_xpath(\"title\", \"//h1\")\n",
    "        \n",
    "        #<div class=\"td-post-header\">\n",
    "        #    <ul class=\"td-category\">\n",
    "        #        <li class=\"entry-category\"><a href=\"https://nordpresse.be/category/france/\">France</a></li>\n",
    "        #        <li class=\"entry-category\"><a href=\"https://nordpresse.be/category/politique/\">Politique</a></li></ul>\n",
    "            \n",
    "        l.add_xpath(\"theme\", '//div[@class=\"td-post-header\"]/ul/li/a')\n",
    "        \n",
    "        #l.add_xpath(\"description\", \".//div[@class='intro']/p\")\n",
    "        l.add_value('description', \"\")\n",
    "        \n",
    "        #<meta property=\"article:published_time\" content=\"2019-12-15T14:21:58+00:00\">\n",
    "        l.add_xpath(\"date_published\", \n",
    "            '//meta[@property=\"article:published_time\"]/@content',\n",
    "            re=\"[0-9]+-[0-9]+-[0-9]+\")\n",
    "       \n",
    "        l.add_xpath(\"body\", \"//div[@class='td-post-content']/p\")\n",
    "        \n",
    "        yield l.load_item()"
   ]
  },
  {
   "cell_type": "code",
   "execution_count": 46,
   "metadata": {},
   "outputs": [],
   "source": [
    "import scrapy\n",
    "\n",
    "class NordpresseRssSpider(scrapy.Spider):\n",
    "    '''\n",
    "    Class Spider for retrieving all links to news webpages from Nordpresse RSS\n",
    "    '''\n",
    "    name = \"nordpresse_rss\"\n",
    "    \n",
    "    custom_settings = {\n",
    "      'FEED_FORMAT': 'json',\n",
    "      'FEED_URI': 'nordpresse_rss.json'\n",
    "    }\n",
    "    \n",
    "    def start_requests(self):\n",
    "        urls = [\n",
    "                'https://nordpresse.be/feed',\n",
    "        ]\n",
    "        for url in urls:\n",
    "            yield scrapy.Request(url=url, callback=self.parse)\n",
    "     \n",
    "    def parse(self, response):\n",
    "        for post in response.xpath('//channel/item'):\n",
    "            yield {\n",
    "                'title' : post.xpath('title//text()').extract_first(),\n",
    "                'link': post.xpath('link//text()').extract_first(),\n",
    "                'pubDate' : post.xpath('pubDate//text()').extract_first(),\n",
    "            }\n"
   ]
  },
  {
   "cell_type": "code",
   "execution_count": 47,
   "metadata": {},
   "outputs": [],
   "source": [
    "import scrapy\n",
    "import re\n",
    "\n",
    "class NordpressePageSpider(scrapy.Spider):\n",
    "    '''\n",
    "    Spider to scrap all Nordpresse pages from selected category\n",
    "    Configure : \n",
    "    - NordpressePageSpider.custom_settings : save location \n",
    "    - num_max_pages : the number of next page to scrap\n",
    "    - url_first_page : web page to start with\n",
    "    '''\n",
    "    name = \"nordpresse_page\"\n",
    "    \n",
    "    custom_settings = {\n",
    "      'FEED_FORMAT': 'json',\n",
    "      'FEED_URI': 'pages_nordpresse.json'\n",
    "    }\n",
    "    \n",
    "    num_max_pages = 1\n",
    "    \n",
    "    url_first_page = 'https://nordpresse.be/category/france/'\n",
    "    \n",
    "    def start_requests(self):\n",
    "        urls = [\n",
    "                self.url_first_page,\n",
    "        ]\n",
    "        for url in urls:\n",
    "            yield scrapy.Request(url=url, callback=self.parse)\n",
    "    \n",
    "    def parse(self, response):\n",
    "        \n",
    "        # //div[@class=\"td-pb-span8 td-main-content\"]//h3[@class=\"entry-title td-module-title\"]/a[@rel=\"bookmark\"]\n",
    "        for post in response.xpath('//div[@class=\"td-pb-span8 td-main-content\"]//h3[@class=\"entry-title td-module-title\"]'):\n",
    "            yield {\n",
    "                'link': post.xpath('a[@rel=\"bookmark\"]/@href').extract_first()\n",
    "            }\n",
    "        # <a href=\"https://nordpresse.be/category/france/page/3/\"><i class=\"td-icon-menu-right\"></i></a>\n",
    "        next_page = response.xpath(\n",
    "            '//i[@class=\"td-icon-menu-right\"]//parent::a/@href').get()\n",
    "        if next_page is not None:\n",
    "            try:\n",
    "                num_next_page = int(re.search(\"(?<=/)\\d+(?=/$)\", \n",
    "                         next_page).group(0))\n",
    "                \n",
    "                if (num_next_page < self.num_max_pages):\n",
    "                    #next_page = response.urljoin(next_page)\n",
    "                    yield scrapy.Request(next_page, callback=self.parse)\n",
    "            except:\n",
    "                next_page = None\n",
    "                "
   ]
  },
  {
   "cell_type": "markdown",
   "metadata": {},
   "source": [
    "### Scraping RSS urls"
   ]
  },
  {
   "cell_type": "markdown",
   "metadata": {},
   "source": [
    "#### Definitions"
   ]
  },
  {
   "cell_type": "code",
   "execution_count": 20,
   "metadata": {},
   "outputs": [],
   "source": [
    "# path to results file for urls\n",
    "PATH_RSS_PAGES_NORDPRESSE = PATH_FOLDER_SAVE + '/nordpresse_rss_urls.json'\n",
    "# declare your data location for scraping rss links \n",
    "PATH_RSS_NEWS_NORDPRESSE = PATH_FOLDER_SAVE + '/nordpresse_rss_pages.json'"
   ]
  },
  {
   "cell_type": "markdown",
   "metadata": {},
   "source": [
    "#### Scraping RSS urls links"
   ]
  },
  {
   "cell_type": "code",
   "execution_count": 21,
   "metadata": {},
   "outputs": [
    {
     "name": "stdout",
     "output_type": "stream",
     "text": [
      "File ../../data/nordpresse_rss_urls.json does not exist!\n"
     ]
    }
   ],
   "source": [
    "# clean (move file if exist)\n",
    "clean_file(PATH_RSS_PAGES_NORDPRESSE)"
   ]
  },
  {
   "cell_type": "code",
   "execution_count": 22,
   "metadata": {},
   "outputs": [],
   "source": [
    "# Configure spider\n",
    "NordpresseRssSpider.custom_settings = {\n",
    "      'FEED_FORMAT': 'json',\n",
    "      'FEED_URI': PATH_RSS_PAGES_NORDPRESSE\n",
    "}\n",
    "# scraping\n",
    "run_spider(NordpresseRssSpider)"
   ]
  },
  {
   "cell_type": "code",
   "execution_count": 23,
   "metadata": {},
   "outputs": [
    {
     "data": {
      "text/html": [
       "<div>\n",
       "<style scoped>\n",
       "    .dataframe tbody tr th:only-of-type {\n",
       "        vertical-align: middle;\n",
       "    }\n",
       "\n",
       "    .dataframe tbody tr th {\n",
       "        vertical-align: top;\n",
       "    }\n",
       "\n",
       "    .dataframe thead th {\n",
       "        text-align: right;\n",
       "    }\n",
       "</style>\n",
       "<table border=\"1\" class=\"dataframe\">\n",
       "  <thead>\n",
       "    <tr style=\"text-align: right;\">\n",
       "      <th></th>\n",
       "      <th>link</th>\n",
       "      <th>pubDate</th>\n",
       "      <th>title</th>\n",
       "    </tr>\n",
       "  </thead>\n",
       "  <tbody>\n",
       "    <tr>\n",
       "      <th>0</th>\n",
       "      <td>https://nordpresse.be/lrem-accuse-de-faire-de-...</td>\n",
       "      <td>Wed, 25 Dec 2019 20:32:10 +0000</td>\n",
       "      <td>LREM accusé de faire de l’ombre à la celèbre é...</td>\n",
       "    </tr>\n",
       "    <tr>\n",
       "      <th>1</th>\n",
       "      <td>https://nordpresse.be/segolene-royale-desormai...</td>\n",
       "      <td>Wed, 25 Dec 2019 19:00:57 +0000</td>\n",
       "      <td>Segolène Royale désormais pourvue d’un antivol</td>\n",
       "    </tr>\n",
       "    <tr>\n",
       "      <th>2</th>\n",
       "      <td>https://nordpresse.be/emmanuel-macron-renonce-...</td>\n",
       "      <td>Wed, 25 Dec 2019 09:47:28 +0000</td>\n",
       "      <td>Emmanuel Macron renonce à sa retraite: « Je va...</td>\n",
       "    </tr>\n",
       "    <tr>\n",
       "      <th>3</th>\n",
       "      <td>https://nordpresse.be/ce-cosplay-est-plutot-pa...</td>\n",
       "      <td>Wed, 25 Dec 2019 08:53:17 +0000</td>\n",
       "      <td>Ce cosplay est plutôt pas mal non ?</td>\n",
       "    </tr>\n",
       "    <tr>\n",
       "      <th>4</th>\n",
       "      <td>https://nordpresse.be/melenchon-lannonce-mouve...</td>\n",
       "      <td>Wed, 25 Dec 2019 07:37:16 +0000</td>\n",
       "      <td>Mélenchon l’annonce: Mouvement de grève généra...</td>\n",
       "    </tr>\n",
       "    <tr>\n",
       "      <th>5</th>\n",
       "      <td>https://nordpresse.be/decouvrez-le-sapin-de-no...</td>\n",
       "      <td>Tue, 24 Dec 2019 23:07:32 +0000</td>\n",
       "      <td>Découvrez le sapin de Noël ecoresponsable de G...</td>\n",
       "    </tr>\n",
       "    <tr>\n",
       "      <th>6</th>\n",
       "      <td>https://nordpresse.be/macron-aurait-fait-bloqu...</td>\n",
       "      <td>Tue, 24 Dec 2019 10:36:46 +0000</td>\n",
       "      <td>Macron aurait fait bloquer Mêmes Décentralisés...</td>\n",
       "    </tr>\n",
       "    <tr>\n",
       "      <th>7</th>\n",
       "      <td>https://nordpresse.be/un-belge-invente-le-supp...</td>\n",
       "      <td>Sun, 22 Dec 2019 22:22:09 +0000</td>\n",
       "      <td>Un Belge invente le suppositoire effervescent ...</td>\n",
       "    </tr>\n",
       "    <tr>\n",
       "      <th>8</th>\n",
       "      <td>https://nordpresse.be/tibo-in-shape/</td>\n",
       "      <td>Sun, 22 Dec 2019 20:59:58 +0000</td>\n",
       "      <td>Tibo in Shape</td>\n",
       "    </tr>\n",
       "    <tr>\n",
       "      <th>9</th>\n",
       "      <td>https://nordpresse.be/macron-compte-rester-au-...</td>\n",
       "      <td>Sun, 22 Dec 2019 01:01:49 +0000</td>\n",
       "      <td>Macron compte rester au pouvoir jusque 64 ans ...</td>\n",
       "    </tr>\n",
       "  </tbody>\n",
       "</table>\n",
       "</div>"
      ],
      "text/plain": [
       "                                                link  \\\n",
       "0  https://nordpresse.be/lrem-accuse-de-faire-de-...   \n",
       "1  https://nordpresse.be/segolene-royale-desormai...   \n",
       "2  https://nordpresse.be/emmanuel-macron-renonce-...   \n",
       "3  https://nordpresse.be/ce-cosplay-est-plutot-pa...   \n",
       "4  https://nordpresse.be/melenchon-lannonce-mouve...   \n",
       "5  https://nordpresse.be/decouvrez-le-sapin-de-no...   \n",
       "6  https://nordpresse.be/macron-aurait-fait-bloqu...   \n",
       "7  https://nordpresse.be/un-belge-invente-le-supp...   \n",
       "8               https://nordpresse.be/tibo-in-shape/   \n",
       "9  https://nordpresse.be/macron-compte-rester-au-...   \n",
       "\n",
       "                           pubDate  \\\n",
       "0  Wed, 25 Dec 2019 20:32:10 +0000   \n",
       "1  Wed, 25 Dec 2019 19:00:57 +0000   \n",
       "2  Wed, 25 Dec 2019 09:47:28 +0000   \n",
       "3  Wed, 25 Dec 2019 08:53:17 +0000   \n",
       "4  Wed, 25 Dec 2019 07:37:16 +0000   \n",
       "5  Tue, 24 Dec 2019 23:07:32 +0000   \n",
       "6  Tue, 24 Dec 2019 10:36:46 +0000   \n",
       "7  Sun, 22 Dec 2019 22:22:09 +0000   \n",
       "8  Sun, 22 Dec 2019 20:59:58 +0000   \n",
       "9  Sun, 22 Dec 2019 01:01:49 +0000   \n",
       "\n",
       "                                               title  \n",
       "0  LREM accusé de faire de l’ombre à la celèbre é...  \n",
       "1     Segolène Royale désormais pourvue d’un antivol  \n",
       "2  Emmanuel Macron renonce à sa retraite: « Je va...  \n",
       "3                Ce cosplay est plutôt pas mal non ?  \n",
       "4  Mélenchon l’annonce: Mouvement de grève généra...  \n",
       "5  Découvrez le sapin de Noël ecoresponsable de G...  \n",
       "6  Macron aurait fait bloquer Mêmes Décentralisés...  \n",
       "7  Un Belge invente le suppositoire effervescent ...  \n",
       "8                                      Tibo in Shape  \n",
       "9  Macron compte rester au pouvoir jusque 64 ans ...  "
      ]
     },
     "execution_count": 23,
     "metadata": {},
     "output_type": "execute_result"
    }
   ],
   "source": [
    "import pandas as pd\n",
    "\n",
    "df_rss_nordpresse = pd.read_json(PATH_RSS_PAGES_NORDPRESSE)\n",
    "df_rss_nordpresse"
   ]
  },
  {
   "cell_type": "code",
   "execution_count": 56,
   "metadata": {},
   "outputs": [
    {
     "data": {
      "text/plain": [
       "(10, 3)"
      ]
     },
     "execution_count": 56,
     "metadata": {},
     "output_type": "execute_result"
    }
   ],
   "source": [
    "df_rss_nordpresse.shape"
   ]
  },
  {
   "cell_type": "markdown",
   "metadata": {},
   "source": [
    "#### Scraping RSS news"
   ]
  },
  {
   "cell_type": "code",
   "execution_count": 80,
   "metadata": {},
   "outputs": [
    {
     "name": "stdout",
     "output_type": "stream",
     "text": [
      "File ../../data/nordpresse_rss_pages_20191226_21_54_31.json moved!\n"
     ]
    }
   ],
   "source": [
    "# clean (move file if exist)\n",
    "clean_file(PATH_RSS_NEWS_NORDPRESSE)"
   ]
  },
  {
   "cell_type": "code",
   "execution_count": 81,
   "metadata": {},
   "outputs": [],
   "source": [
    "# configure : add all retrieved links to Spider\n",
    "NordpresseSpider.start_urls = df_rss_nordpresse[\"link\"].tolist()\n",
    "NordpresseSpider.custom_settings = {\n",
    "      'FEED_FORMAT': 'json',\n",
    "      'FEED_URI': PATH_RSS_NEWS_NORDPRESSE\n",
    "}\n",
    "\n",
    "# scraping\n",
    "run_spider(NordpresseSpider)"
   ]
  },
  {
   "cell_type": "code",
   "execution_count": 82,
   "metadata": {},
   "outputs": [
    {
     "data": {
      "text/html": [
       "<div>\n",
       "<style scoped>\n",
       "    .dataframe tbody tr th:only-of-type {\n",
       "        vertical-align: middle;\n",
       "    }\n",
       "\n",
       "    .dataframe tbody tr th {\n",
       "        vertical-align: top;\n",
       "    }\n",
       "\n",
       "    .dataframe thead th {\n",
       "        text-align: right;\n",
       "    }\n",
       "</style>\n",
       "<table border=\"1\" class=\"dataframe\">\n",
       "  <thead>\n",
       "    <tr style=\"text-align: right;\">\n",
       "      <th></th>\n",
       "      <th>author</th>\n",
       "      <th>body</th>\n",
       "      <th>date_published</th>\n",
       "      <th>source</th>\n",
       "      <th>theme</th>\n",
       "      <th>title</th>\n",
       "      <th>url</th>\n",
       "    </tr>\n",
       "  </thead>\n",
       "  <tbody>\n",
       "    <tr>\n",
       "      <th>0</th>\n",
       "      <td>Kael A</td>\n",
       "      <td>En effet, l’équipe de production s’inquiète d’...</td>\n",
       "      <td>2019-12-25</td>\n",
       "      <td>Nordpresse</td>\n",
       "      <td>Non classé</td>\n",
       "      <td>LREM accusé de faire de l’ombre à la celèbre é...</td>\n",
       "      <td>https://nordpresse.be/lrem-accuse-de-faire-de-...</td>\n",
       "    </tr>\n",
       "    <tr>\n",
       "      <th>1</th>\n",
       "      <td>Vincent Flibustier</td>\n",
       "      <td>Il s’appelle Mathieu Alias le testeur temporel...</td>\n",
       "      <td>2019-12-25</td>\n",
       "      <td>Nordpresse</td>\n",
       "      <td>Complot</td>\n",
       "      <td>Ce cosplay est plutôt pas mal non ?</td>\n",
       "      <td>https://nordpresse.be/ce-cosplay-est-plutot-pa...</td>\n",
       "    </tr>\n",
       "    <tr>\n",
       "      <th>2</th>\n",
       "      <td>Sw</td>\n",
       "      <td>Personne ne sait pourquoi elle est en train de...</td>\n",
       "      <td>2019-12-25</td>\n",
       "      <td>Nordpresse</td>\n",
       "      <td>Non classé</td>\n",
       "      <td>Segolène Royale désormais pourvue d’un antivol</td>\n",
       "      <td>https://nordpresse.be/segolene-royale-desormai...</td>\n",
       "    </tr>\n",
       "    <tr>\n",
       "      <th>3</th>\n",
       "      <td>ToLa</td>\n",
       "      <td>Emmanuel Macron a récemment déclaré avoir reno...</td>\n",
       "      <td>2019-12-25</td>\n",
       "      <td>Nordpresse</td>\n",
       "      <td>Gilets Jaunes</td>\n",
       "      <td>Emmanuel Macron renonce à sa retraite: « Je va...</td>\n",
       "      <td>https://nordpresse.be/emmanuel-macron-renonce-...</td>\n",
       "    </tr>\n",
       "    <tr>\n",
       "      <th>4</th>\n",
       "      <td>Vincent Flibustier</td>\n",
       "      <td>NaN</td>\n",
       "      <td>2019-12-24</td>\n",
       "      <td>Nordpresse</td>\n",
       "      <td>Non classé</td>\n",
       "      <td>Découvrez le sapin de Noël ecoresponsable de G...</td>\n",
       "      <td>https://nordpresse.be/decouvrez-le-sapin-de-no...</td>\n",
       "    </tr>\n",
       "  </tbody>\n",
       "</table>\n",
       "</div>"
      ],
      "text/plain": [
       "               author                                               body  \\\n",
       "0              Kael A  En effet, l’équipe de production s’inquiète d’...   \n",
       "1  Vincent Flibustier  Il s’appelle Mathieu Alias le testeur temporel...   \n",
       "2                  Sw  Personne ne sait pourquoi elle est en train de...   \n",
       "3                ToLa  Emmanuel Macron a récemment déclaré avoir reno...   \n",
       "4  Vincent Flibustier                                                NaN   \n",
       "\n",
       "  date_published      source          theme  \\\n",
       "0     2019-12-25  Nordpresse     Non classé   \n",
       "1     2019-12-25  Nordpresse        Complot   \n",
       "2     2019-12-25  Nordpresse     Non classé   \n",
       "3     2019-12-25  Nordpresse  Gilets Jaunes   \n",
       "4     2019-12-24  Nordpresse     Non classé   \n",
       "\n",
       "                                               title  \\\n",
       "0  LREM accusé de faire de l’ombre à la celèbre é...   \n",
       "1                Ce cosplay est plutôt pas mal non ?   \n",
       "2     Segolène Royale désormais pourvue d’un antivol   \n",
       "3  Emmanuel Macron renonce à sa retraite: « Je va...   \n",
       "4  Découvrez le sapin de Noël ecoresponsable de G...   \n",
       "\n",
       "                                                 url  \n",
       "0  https://nordpresse.be/lrem-accuse-de-faire-de-...  \n",
       "1  https://nordpresse.be/ce-cosplay-est-plutot-pa...  \n",
       "2  https://nordpresse.be/segolene-royale-desormai...  \n",
       "3  https://nordpresse.be/emmanuel-macron-renonce-...  \n",
       "4  https://nordpresse.be/decouvrez-le-sapin-de-no...  "
      ]
     },
     "execution_count": 82,
     "metadata": {},
     "output_type": "execute_result"
    }
   ],
   "source": [
    "import pandas as pd\n",
    "\n",
    "df_nordpresse_rss = pd.read_json(PATH_RSS_NEWS_NORDPRESSE)\n",
    "df_nordpresse_rss.head()"
   ]
  },
  {
   "cell_type": "code",
   "execution_count": 84,
   "metadata": {},
   "outputs": [
    {
     "data": {
      "text/plain": [
       "'En effet, l’équipe de production s’inquiète d’une évidente concurrence déloyale et ne compte pas en rester là à l’attention de la formation LREM, lorsque notre reporter s’est présenté pour recevoir les doléances, il a été accueilli par cette phrase de l’un des membre du personnel : » On ne sait pas ce qu’ils mijotent, mais ça sent pas très bon » Suivi par la cinglante déclaration  » Dans les médias, on ne parle que de ça, LREM et son ensemble inépuisable de casseroles, cela ne peux plus durer, ils mettent en danger les vrais professionnels  » *Certaines déclaration n’on pas été retransmises par notre reporter .  '"
      ]
     },
     "execution_count": 84,
     "metadata": {},
     "output_type": "execute_result"
    }
   ],
   "source": [
    "df_nordpresse_rss.at[0,\"body\"]"
   ]
  },
  {
   "cell_type": "code",
   "execution_count": 47,
   "metadata": {},
   "outputs": [
    {
     "data": {
      "text/plain": [
       "'https://nordpresse.be/lrem-accuse-de-faire-de-lombre-a-la-celebre-emission-cauchemar-en-cuisine-a-cause-du-nombre-de-ses-casseroles/'"
      ]
     },
     "execution_count": 47,
     "metadata": {},
     "output_type": "execute_result"
    }
   ],
   "source": [
    "df_nordpresse_rss.at[0,\"url\"]"
   ]
  },
  {
   "cell_type": "code",
   "execution_count": 40,
   "metadata": {},
   "outputs": [
    {
     "data": {
      "text/plain": [
       "(10, 7)"
      ]
     },
     "execution_count": 40,
     "metadata": {},
     "output_type": "execute_result"
    }
   ],
   "source": [
    "df_nordpresse_rss.shape"
   ]
  },
  {
   "cell_type": "markdown",
   "metadata": {},
   "source": [
    "### Scraping urls into webpages "
   ]
  },
  {
   "cell_type": "markdown",
   "metadata": {},
   "source": [
    "#### Definitions"
   ]
  },
  {
   "cell_type": "code",
   "execution_count": 48,
   "metadata": {},
   "outputs": [],
   "source": [
    "URL_PAGES_NORDPRESSE = 'https://nordpresse.be/category/france/'\n",
    "# declare your data location\n",
    "PATH_PAGES_NORDPRESSE = PATH_FOLDER_SAVE + '/pages_nordpresse.json'\n",
    "PATH_NEWS_NORDPRESSE = PATH_FOLDER_SAVE + '/data/nordpresse.json'"
   ]
  },
  {
   "cell_type": "markdown",
   "metadata": {},
   "source": [
    "#### Scraping url links"
   ]
  },
  {
   "cell_type": "code",
   "execution_count": 49,
   "metadata": {},
   "outputs": [
    {
     "name": "stdout",
     "output_type": "stream",
     "text": [
      "File ../../data/pages_nordpresse.json does not exist!\n"
     ]
    }
   ],
   "source": [
    "# clean (move file if exist)\n",
    "clean_file(PATH_PAGES_NORDPRESSE)"
   ]
  },
  {
   "cell_type": "code",
   "execution_count": 50,
   "metadata": {},
   "outputs": [
    {
     "name": "stdout",
     "output_type": "stream",
     "text": [
      "File ../../data/pages_nordpresse.json does not exist!\n"
     ]
    }
   ],
   "source": [
    "# configure scraping\n",
    "NordpressePageSpider.url_first_page = URL_PAGES_NORDPRESSE\n",
    "NordpressePageSpider.custom_settings = {\n",
    "      'FEED_FORMAT': 'json',\n",
    "      'FEED_URI': PATH_PAGES_NORDPRESSE\n",
    "    }\n",
    "NordpressePageSpider.num_max_pages = 50\n",
    "\n",
    "# clean last output\n",
    "clean_file(PATH_PAGES_NORDPRESSE)\n",
    "# scraping page urls\n",
    "run_spider(NordpressePageSpider)"
   ]
  },
  {
   "cell_type": "code",
   "execution_count": 51,
   "metadata": {},
   "outputs": [
    {
     "data": {
      "text/html": [
       "<div>\n",
       "<style scoped>\n",
       "    .dataframe tbody tr th:only-of-type {\n",
       "        vertical-align: middle;\n",
       "    }\n",
       "\n",
       "    .dataframe tbody tr th {\n",
       "        vertical-align: top;\n",
       "    }\n",
       "\n",
       "    .dataframe thead th {\n",
       "        text-align: right;\n",
       "    }\n",
       "</style>\n",
       "<table border=\"1\" class=\"dataframe\">\n",
       "  <thead>\n",
       "    <tr style=\"text-align: right;\">\n",
       "      <th></th>\n",
       "      <th>link</th>\n",
       "    </tr>\n",
       "  </thead>\n",
       "  <tbody>\n",
       "    <tr>\n",
       "      <th>0</th>\n",
       "      <td>https://nordpresse.be/alexandre-benalla-est-de...</td>\n",
       "    </tr>\n",
       "    <tr>\n",
       "      <th>1</th>\n",
       "      <td>https://nordpresse.be/bilan-de-segolene-royal-...</td>\n",
       "    </tr>\n",
       "    <tr>\n",
       "      <th>2</th>\n",
       "      <td>https://nordpresse.be/emmanuel-macron-renonce-...</td>\n",
       "    </tr>\n",
       "    <tr>\n",
       "      <th>3</th>\n",
       "      <td>https://nordpresse.be/j-p-delevoye-toujours-au...</td>\n",
       "    </tr>\n",
       "    <tr>\n",
       "      <th>4</th>\n",
       "      <td>https://nordpresse.be/retraites-decourages-par...</td>\n",
       "    </tr>\n",
       "  </tbody>\n",
       "</table>\n",
       "</div>"
      ],
      "text/plain": [
       "                                                link\n",
       "0  https://nordpresse.be/alexandre-benalla-est-de...\n",
       "1  https://nordpresse.be/bilan-de-segolene-royal-...\n",
       "2  https://nordpresse.be/emmanuel-macron-renonce-...\n",
       "3  https://nordpresse.be/j-p-delevoye-toujours-au...\n",
       "4  https://nordpresse.be/retraites-decourages-par..."
      ]
     },
     "execution_count": 51,
     "metadata": {},
     "output_type": "execute_result"
    }
   ],
   "source": [
    "import pandas as pd\n",
    "\n",
    "df_nordpresse_pages = pd.read_json(PATH_PAGES_NORDPRESSE)\n",
    "df_nordpresse_pages.head()"
   ]
  },
  {
   "cell_type": "code",
   "execution_count": 52,
   "metadata": {},
   "outputs": [
    {
     "data": {
      "text/plain": [
       "(245, 1)"
      ]
     },
     "execution_count": 52,
     "metadata": {},
     "output_type": "execute_result"
    }
   ],
   "source": [
    "df_nordpresse_pages.shape"
   ]
  },
  {
   "cell_type": "markdown",
   "metadata": {},
   "source": [
    "#### Scraping news"
   ]
  },
  {
   "cell_type": "code",
   "execution_count": 53,
   "metadata": {},
   "outputs": [
    {
     "name": "stdout",
     "output_type": "stream",
     "text": [
      "File ../../data/data/nordpresse.json does not exist!\n"
     ]
    }
   ],
   "source": [
    "# clean last output\n",
    "clean_file(PATH_NEWS_NORDPRESSE)"
   ]
  },
  {
   "cell_type": "code",
   "execution_count": 54,
   "metadata": {},
   "outputs": [],
   "source": [
    "# configure : add all retrieved links to Spider\n",
    "NordpresseSpider.start_urls = df_nordpresse_pages[\"link\"].tolist()\n",
    "NordpresseSpider.custom_settings = {\n",
    "      'FEED_FORMAT': 'json',\n",
    "      'FEED_URI': PATH_NEWS_NORDPRESSE\n",
    "    }\n",
    "# scraping\n",
    "run_spider(NordpresseSpider)"
   ]
  },
  {
   "cell_type": "code",
   "execution_count": 55,
   "metadata": {},
   "outputs": [
    {
     "data": {
      "text/html": [
       "<div>\n",
       "<style scoped>\n",
       "    .dataframe tbody tr th:only-of-type {\n",
       "        vertical-align: middle;\n",
       "    }\n",
       "\n",
       "    .dataframe tbody tr th {\n",
       "        vertical-align: top;\n",
       "    }\n",
       "\n",
       "    .dataframe thead th {\n",
       "        text-align: right;\n",
       "    }\n",
       "</style>\n",
       "<table border=\"1\" class=\"dataframe\">\n",
       "  <thead>\n",
       "    <tr style=\"text-align: right;\">\n",
       "      <th></th>\n",
       "      <th>author</th>\n",
       "      <th>body</th>\n",
       "      <th>date_published</th>\n",
       "      <th>source</th>\n",
       "      <th>theme</th>\n",
       "      <th>title</th>\n",
       "      <th>url</th>\n",
       "    </tr>\n",
       "  </thead>\n",
       "  <tbody>\n",
       "    <tr>\n",
       "      <th>0</th>\n",
       "      <td>Pascal VISCIANO</td>\n",
       "      <td>L’ancien proche d’Emmanuel Macron est un bel e...</td>\n",
       "      <td>2019-12-26</td>\n",
       "      <td>Nordpresse</td>\n",
       "      <td>France</td>\n",
       "      <td>Alexandre Benalla est déjà au maximum des poin...</td>\n",
       "      <td>https://nordpresse.be/alexandre-benalla-est-de...</td>\n",
       "    </tr>\n",
       "    <tr>\n",
       "      <th>1</th>\n",
       "      <td>Dimitri de Scaliole</td>\n",
       "      <td>La décision, qui viendrait du ministre de l’in...</td>\n",
       "      <td>2019-12-11</td>\n",
       "      <td>Nordpresse</td>\n",
       "      <td>Gilets Jaunes</td>\n",
       "      <td>Violences policières : les manifestants bientô...</td>\n",
       "      <td>https://nordpresse.be/violences-policieres-les...</td>\n",
       "    </tr>\n",
       "    <tr>\n",
       "      <th>2</th>\n",
       "      <td>ToLa</td>\n",
       "      <td>Emmanuel Macron a récemment déclaré avoir reno...</td>\n",
       "      <td>2019-12-25</td>\n",
       "      <td>Nordpresse</td>\n",
       "      <td>Gilets Jaunes</td>\n",
       "      <td>Emmanuel Macron renonce à sa retraite: « Je va...</td>\n",
       "      <td>https://nordpresse.be/emmanuel-macron-renonce-...</td>\n",
       "    </tr>\n",
       "    <tr>\n",
       "      <th>3</th>\n",
       "      <td>Frodolphe Amplebedaine</td>\n",
       "      <td>Paris, centre de la France, concentre trop d’i...</td>\n",
       "      <td>2019-12-03</td>\n",
       "      <td>Nordpresse</td>\n",
       "      <td>Start Up Nation</td>\n",
       "      <td>Déconcentration : l’ENA à Toulouse !</td>\n",
       "      <td>https://nordpresse.be/deconcentration-lena-a-t...</td>\n",
       "    </tr>\n",
       "    <tr>\n",
       "      <th>4</th>\n",
       "      <td>Pascal VISCIANO</td>\n",
       "      <td>L’ancien président de la république française ...</td>\n",
       "      <td>2019-12-01</td>\n",
       "      <td>Nordpresse</td>\n",
       "      <td>France</td>\n",
       "      <td>Nicolas Sarkozy se reconvertit en visiteur de ...</td>\n",
       "      <td>https://nordpresse.be/nicolas-sarkozy-se-recon...</td>\n",
       "    </tr>\n",
       "  </tbody>\n",
       "</table>\n",
       "</div>"
      ],
      "text/plain": [
       "                   author                                               body  \\\n",
       "0         Pascal VISCIANO  L’ancien proche d’Emmanuel Macron est un bel e...   \n",
       "1     Dimitri de Scaliole  La décision, qui viendrait du ministre de l’in...   \n",
       "2                    ToLa  Emmanuel Macron a récemment déclaré avoir reno...   \n",
       "3  Frodolphe Amplebedaine  Paris, centre de la France, concentre trop d’i...   \n",
       "4         Pascal VISCIANO  L’ancien président de la république française ...   \n",
       "\n",
       "  date_published      source            theme  \\\n",
       "0     2019-12-26  Nordpresse           France   \n",
       "1     2019-12-11  Nordpresse    Gilets Jaunes   \n",
       "2     2019-12-25  Nordpresse    Gilets Jaunes   \n",
       "3     2019-12-03  Nordpresse  Start Up Nation   \n",
       "4     2019-12-01  Nordpresse           France   \n",
       "\n",
       "                                               title  \\\n",
       "0  Alexandre Benalla est déjà au maximum des poin...   \n",
       "1  Violences policières : les manifestants bientô...   \n",
       "2  Emmanuel Macron renonce à sa retraite: « Je va...   \n",
       "3               Déconcentration : l’ENA à Toulouse !   \n",
       "4  Nicolas Sarkozy se reconvertit en visiteur de ...   \n",
       "\n",
       "                                                 url  \n",
       "0  https://nordpresse.be/alexandre-benalla-est-de...  \n",
       "1  https://nordpresse.be/violences-policieres-les...  \n",
       "2  https://nordpresse.be/emmanuel-macron-renonce-...  \n",
       "3  https://nordpresse.be/deconcentration-lena-a-t...  \n",
       "4  https://nordpresse.be/nicolas-sarkozy-se-recon...  "
      ]
     },
     "execution_count": 55,
     "metadata": {},
     "output_type": "execute_result"
    }
   ],
   "source": [
    "import pandas as pd\n",
    "\n",
    "df_nordpresse = pd.read_json(PATH_NEWS_NORDPRESSE)\n",
    "df_nordpresse.head()"
   ]
  },
  {
   "cell_type": "code",
   "execution_count": 56,
   "metadata": {},
   "outputs": [
    {
     "data": {
      "text/plain": [
       "(245, 7)"
      ]
     },
     "execution_count": 56,
     "metadata": {},
     "output_type": "execute_result"
    }
   ],
   "source": [
    "df_nordpresse.shape"
   ]
  },
  {
   "cell_type": "code",
   "execution_count": 57,
   "metadata": {},
   "outputs": [
    {
     "data": {
      "text/plain": [
       "32"
      ]
     },
     "execution_count": 57,
     "metadata": {},
     "output_type": "execute_result"
    }
   ],
   "source": [
    "df_nordpresse[df_nordpresse[\"body\"].isna()].shape[0]"
   ]
  },
  {
   "cell_type": "markdown",
   "metadata": {},
   "source": [
    "## Scraping buzzbeed.com"
   ]
  },
  {
   "cell_type": "markdown",
   "metadata": {},
   "source": [
    "### Class definitions"
   ]
  },
  {
   "cell_type": "code",
   "execution_count": 172,
   "metadata": {},
   "outputs": [],
   "source": [
    "import scrapy\n",
    "from scrapy.loader import ItemLoader\n",
    "from scrapy.loader.processors import MapCompose, Join, TakeFirst\n",
    "from w3lib.html import remove_tags\n",
    "\n",
    "\n",
    "class BuzzbeedItem(scrapy.Item):\n",
    "    '''\n",
    "    Class item to declare different information to scrap\n",
    "    and how to process (as input or output) for buzzbeed.com\n",
    "    '''\n",
    "    # define the fields for your item here like:\n",
    "    url = scrapy.Field(output_processor=TakeFirst())\n",
    "    \n",
    "    source = scrapy.Field(output_processor=TakeFirst())\n",
    "    \n",
    "    author = scrapy.Field(\n",
    "        input_processor=MapCompose(remove_tags),\n",
    "        output_processor=TakeFirst()\n",
    "    )\n",
    "    \n",
    "    title = scrapy.Field(\n",
    "        input_processor=MapCompose(remove_tags),\n",
    "        output_processor=TakeFirst()\n",
    "    )\n",
    "    \n",
    "    theme = scrapy.Field(\n",
    "        input_processor=MapCompose(remove_tags),\n",
    "        output_processor=lambda v: v[-1]\n",
    "    )\n",
    "    \n",
    "    date_published = scrapy.Field(\n",
    "        input_processor=MapCompose(remove_tags),\n",
    "        output_processor=TakeFirst()\n",
    "    )\n",
    "    \n",
    "    description = scrapy.Field(output_processor=TakeFirst())\n",
    "    \n",
    "    body = scrapy.Field(\n",
    "        input_processor=MapCompose(remove_tags, \n",
    "                                   lambda v: v.replace(u'\\xa0', u' '),\n",
    "                                  lambda v: v.strip()),\n",
    "        output_processor=Join()\n",
    "    )"
   ]
  },
  {
   "cell_type": "code",
   "execution_count": 173,
   "metadata": {},
   "outputs": [],
   "source": [
    "class BuzzbeedSpider(scrapy.Spider):\n",
    "    '''\n",
    "    Spider to scrap over buzzbeed webpages : \n",
    "    - how to find information for scraping\n",
    "    - which field names to store\n",
    "    '''\n",
    "    # Your spider definition\n",
    "    name = 'news_buzzbeed_spider'\n",
    "    # output definition :\n",
    "    custom_settings = {\n",
    "      'FEED_FORMAT': 'json',\n",
    "      'FEED_URI': 'items_buzzbeed.json'\n",
    "    }\n",
    "    \n",
    "    # urls to scrap\n",
    "    start_urls = [\n",
    "        'https://www.buzzbeed.com/'\n",
    "    ]\n",
    "\n",
    "    def parse(self, response):\n",
    "        '''\n",
    "        Parse definition with xpath which define all patterns to use\n",
    "        for retrieve information into HTML strings\n",
    "        '''\n",
    "        #url\tsource\tauthor\ttitle\ttheme\tdescription\tdate_published\tbody   \n",
    "        l = ItemLoader(item=BuzzbeedItem(), selector=response)\n",
    "        \n",
    "        l.add_value('url', response.url)\n",
    "        \n",
    "        l.add_value('source', \"Buzzbeed\")\n",
    "        \n",
    "        #<span class=\"author vcard\">\n",
    "        # <a class=\"url fn n\" href=\"https://www.buzzbeed.com/author/scoub\">Jean Deumerez</a>\n",
    "        #</span>\n",
    "        l.add_xpath('author', \n",
    "            '//span[@class=\"author vcard\"]/a')\n",
    "        \n",
    "        l.add_xpath(\"title\", \"//h1\")\n",
    "        \n",
    "        #<span class=\"cat-links\">\n",
    "        # <a href=\"https://www.buzzbeed.com/category/sentiment-dinsecurite\" rel=\"category tag\">Sentiment d'insécurité</a>\n",
    "        #</span>\n",
    "        l.add_xpath(\"theme\", '//span[@class=\"cat-links\"]/a')\n",
    "        \n",
    "        #l.add_xpath(\"description\", \".//div[@class='intro']/p\")\n",
    "        l.add_value('description', \"\")\n",
    "        \n",
    "        #<time class=\"entry-date published\" datetime=\"2019-03-27T16:01:03+01:00\">mars 27, 2019</time>\n",
    "        l.add_xpath(\"date_published\", '//time/@datetime',\n",
    "                    re=\"[0-9]+-[0-9]+-[0-9]+\")\n",
    "        #'//div[@class=\"entry-content\"]/div'\n",
    "        l.add_xpath(\"body\",\n",
    "            '//div[@class=\"entry-content\"]/div|//div[@class=\"entry-content\"]/p')\n",
    "        \n",
    "        \n",
    "        yield l.load_item()"
   ]
  },
  {
   "cell_type": "code",
   "execution_count": 174,
   "metadata": {},
   "outputs": [],
   "source": [
    "import scrapy\n",
    "\n",
    "class BuzzbeedRssSpider(scrapy.Spider):\n",
    "    '''\n",
    "    Class Spider for retrieving all links to news webpages from buzzbeed RSS\n",
    "    '''\n",
    "    name = \"buzzbeed_rss\"\n",
    "    \n",
    "    custom_settings = {\n",
    "      'FEED_FORMAT': 'json',\n",
    "      'FEED_URI': 'buzzbeed_rss.json'\n",
    "    }\n",
    "    \n",
    "    def start_requests(self):\n",
    "        urls = [\n",
    "                'https://www.buzzbeed.com/feed',\n",
    "        ]\n",
    "        for url in urls:\n",
    "            yield scrapy.Request(url=url, callback=self.parse)\n",
    "     \n",
    "    def parse(self, response):\n",
    "        for post in response.xpath('//channel/item'):\n",
    "            yield {\n",
    "                'title' : post.xpath('title//text()').extract_first(),\n",
    "                'link': post.xpath('link//text()').extract_first(),\n",
    "                'pubDate' : post.xpath('pubDate//text()').extract_first(),\n",
    "            }\n"
   ]
  },
  {
   "cell_type": "code",
   "execution_count": 175,
   "metadata": {},
   "outputs": [],
   "source": [
    "import scrapy\n",
    "import re\n",
    "\n",
    "class BuzzbeedPageSpider(scrapy.Spider):\n",
    "    '''\n",
    "    Spider to scrap all Buzzbeed pages from selected category\n",
    "    Configure : \n",
    "    - BuzzbeedPageSpider.custom_settings : save location \n",
    "    - num_max_pages : the number of next page to scrap\n",
    "    - url_first_page : web page to start with\n",
    "    '''\n",
    "    name = \"buzzbeed_page\"\n",
    "    \n",
    "    custom_settings = {\n",
    "      'FEED_FORMAT': 'json',\n",
    "      'FEED_URI': 'pages_buzzbeed.json'\n",
    "    }\n",
    "    \n",
    "    num_max_pages = 1\n",
    "    \n",
    "    url_first_page = 'https://www.buzzbeed.com/'\n",
    "    \n",
    "    def start_requests(self):\n",
    "        urls = [\n",
    "                self.url_first_page,\n",
    "        ]\n",
    "        for url in urls:\n",
    "            yield scrapy.Request(url=url, callback=self.parse)\n",
    "    \n",
    "    def parse(self, response):\n",
    "        \n",
    "        # //h2[@class=\"entry-title\"]/a/@href\n",
    "        for post in response.xpath('//h2[@class=\"entry-title\"]'):\n",
    "            \n",
    "            #print('post : ', post) # TEST\n",
    "            yield {\n",
    "                'link': post.xpath('a/@href').extract_first()\n",
    "            }\n",
    "        # //a[@class=\"next page-numbers\"]/@href\n",
    "        next_page = response.xpath(\n",
    "            '//a[@class=\"next page-numbers\"]/@href').get()\n",
    "        #print('next_page : ', next_page) # TEST\n",
    "        if next_page is not None:\n",
    "            try:\n",
    "                # ex: https://www.buzzbeed.com/page/3\n",
    "                num_next_page = int(re.search(\"(?<=/)\\d+$\", \n",
    "                         next_page).group(0))\n",
    "                \n",
    "                if (num_next_page < self.num_max_pages):\n",
    "                    #next_page = response.urljoin(next_page)\n",
    "                    yield scrapy.Request(next_page, callback=self.parse)\n",
    "            except:\n",
    "                next_page = None\n",
    "                "
   ]
  },
  {
   "cell_type": "markdown",
   "metadata": {},
   "source": [
    "### Scraping RSS urls"
   ]
  },
  {
   "cell_type": "markdown",
   "metadata": {},
   "source": [
    "#### Definitions"
   ]
  },
  {
   "cell_type": "code",
   "execution_count": 32,
   "metadata": {},
   "outputs": [],
   "source": [
    "# path to results file for urls\n",
    "PATH_RSS_PAGES_BUZZBEED = PATH_FOLDER_SAVE + '/buzzbeed_rss_urls.json'\n",
    "# declare your data location for scraping rss links \n",
    "PATH_RSS_NEWS_BUZZBEED = PATH_FOLDER_SAVE + '/buzzbeed_rss_pages.json'"
   ]
  },
  {
   "cell_type": "markdown",
   "metadata": {},
   "source": [
    "#### Scraping RSS urls links"
   ]
  },
  {
   "cell_type": "code",
   "execution_count": 171,
   "metadata": {},
   "outputs": [
    {
     "name": "stdout",
     "output_type": "stream",
     "text": [
      "File ../../data/buzzbeed_rss_urls_20191227_18_15_52.json moved!\n"
     ]
    }
   ],
   "source": [
    "# clean (move file if exist)\n",
    "clean_file(PATH_RSS_PAGES_BUZZBEED)"
   ]
  },
  {
   "cell_type": "code",
   "execution_count": 134,
   "metadata": {},
   "outputs": [],
   "source": [
    "# Configure spider\n",
    "BuzzbeedRssSpider.custom_settings = {\n",
    "      'FEED_FORMAT': 'json',\n",
    "      'FEED_URI': PATH_RSS_PAGES_BUZZBEED\n",
    "}\n",
    "# scraping\n",
    "run_spider(BuzzbeedRssSpider)"
   ]
  },
  {
   "cell_type": "code",
   "execution_count": 135,
   "metadata": {},
   "outputs": [
    {
     "data": {
      "text/html": [
       "<div>\n",
       "<style scoped>\n",
       "    .dataframe tbody tr th:only-of-type {\n",
       "        vertical-align: middle;\n",
       "    }\n",
       "\n",
       "    .dataframe tbody tr th {\n",
       "        vertical-align: top;\n",
       "    }\n",
       "\n",
       "    .dataframe thead th {\n",
       "        text-align: right;\n",
       "    }\n",
       "</style>\n",
       "<table border=\"1\" class=\"dataframe\">\n",
       "  <thead>\n",
       "    <tr style=\"text-align: right;\">\n",
       "      <th></th>\n",
       "      <th>link</th>\n",
       "      <th>pubDate</th>\n",
       "      <th>title</th>\n",
       "    </tr>\n",
       "  </thead>\n",
       "  <tbody>\n",
       "    <tr>\n",
       "      <th>0</th>\n",
       "      <td>https://www.buzzbeed.com/marine-le-pen-il-ny-a...</td>\n",
       "      <td>Wed, 27 Mar 2019 15:01:03 +0000</td>\n",
       "      <td>Marine Le Pen : “il n’y a pas de problème d’im...</td>\n",
       "    </tr>\n",
       "    <tr>\n",
       "      <th>1</th>\n",
       "      <td>https://www.buzzbeed.com/emmanuel-macron-surpr...</td>\n",
       "      <td>Wed, 20 Feb 2019 19:59:23 +0000</td>\n",
       "      <td>Emmanuel Macron surpris en train de dessiner d...</td>\n",
       "    </tr>\n",
       "    <tr>\n",
       "      <th>2</th>\n",
       "      <td>https://www.buzzbeed.com/lauteur-presume-des-a...</td>\n",
       "      <td>Wed, 12 Dec 2018 21:35:24 +0000</td>\n",
       "      <td>L’auteur présumé des attentats de Strasbourg s...</td>\n",
       "    </tr>\n",
       "    <tr>\n",
       "      <th>3</th>\n",
       "      <td>https://www.buzzbeed.com/bernard-werber-les-au...</td>\n",
       "      <td>Sat, 17 Nov 2018 21:37:10 +0000</td>\n",
       "      <td>Bernard Werber : « Les auteurs de Science-Fict...</td>\n",
       "    </tr>\n",
       "    <tr>\n",
       "      <th>4</th>\n",
       "      <td>https://www.buzzbeed.com/emmanuel-macron-rend-...</td>\n",
       "      <td>Mon, 12 Nov 2018 20:58:20 +0000</td>\n",
       "      <td>Emmanuel Macron rend hommage aux 6 millions d’...</td>\n",
       "    </tr>\n",
       "    <tr>\n",
       "      <th>5</th>\n",
       "      <td>https://www.buzzbeed.com/un-neo-nazi-deguise-e...</td>\n",
       "      <td>Fri, 28 Sep 2018 17:25:48 +0000</td>\n",
       "      <td>Un néo-nazi déguisé en sauveteur de Juifs à Ch...</td>\n",
       "    </tr>\n",
       "    <tr>\n",
       "      <th>6</th>\n",
       "      <td>https://www.buzzbeed.com/la-france-islamophobe...</td>\n",
       "      <td>Tue, 21 Aug 2018 17:58:11 +0000</td>\n",
       "      <td>La France islamophobe : 75% des détenus seraie...</td>\n",
       "    </tr>\n",
       "    <tr>\n",
       "      <th>7</th>\n",
       "      <td>https://www.buzzbeed.com/le-qi-en-baisse-a-cau...</td>\n",
       "      <td>Tue, 21 Aug 2018 17:01:22 +0000</td>\n",
       "      <td>Le QI en baisse à cause de l’Américanisation</td>\n",
       "    </tr>\n",
       "    <tr>\n",
       "      <th>8</th>\n",
       "      <td>https://www.buzzbeed.com/yemen-la-bombe-qui-a-...</td>\n",
       "      <td>Sun, 19 Aug 2018 13:24:28 +0000</td>\n",
       "      <td>Yémen : La bombe qui a tué 40 futurs poètes et...</td>\n",
       "    </tr>\n",
       "    <tr>\n",
       "      <th>9</th>\n",
       "      <td>https://www.buzzbeed.com/les-syriens-peuvent-a...</td>\n",
       "      <td>Sun, 15 Jul 2018 15:59:12 +0000</td>\n",
       "      <td>Les Syriens peuvent à nouveau vivre dans leur ...</td>\n",
       "    </tr>\n",
       "  </tbody>\n",
       "</table>\n",
       "</div>"
      ],
      "text/plain": [
       "                                                link  \\\n",
       "0  https://www.buzzbeed.com/marine-le-pen-il-ny-a...   \n",
       "1  https://www.buzzbeed.com/emmanuel-macron-surpr...   \n",
       "2  https://www.buzzbeed.com/lauteur-presume-des-a...   \n",
       "3  https://www.buzzbeed.com/bernard-werber-les-au...   \n",
       "4  https://www.buzzbeed.com/emmanuel-macron-rend-...   \n",
       "5  https://www.buzzbeed.com/un-neo-nazi-deguise-e...   \n",
       "6  https://www.buzzbeed.com/la-france-islamophobe...   \n",
       "7  https://www.buzzbeed.com/le-qi-en-baisse-a-cau...   \n",
       "8  https://www.buzzbeed.com/yemen-la-bombe-qui-a-...   \n",
       "9  https://www.buzzbeed.com/les-syriens-peuvent-a...   \n",
       "\n",
       "                           pubDate  \\\n",
       "0  Wed, 27 Mar 2019 15:01:03 +0000   \n",
       "1  Wed, 20 Feb 2019 19:59:23 +0000   \n",
       "2  Wed, 12 Dec 2018 21:35:24 +0000   \n",
       "3  Sat, 17 Nov 2018 21:37:10 +0000   \n",
       "4  Mon, 12 Nov 2018 20:58:20 +0000   \n",
       "5  Fri, 28 Sep 2018 17:25:48 +0000   \n",
       "6  Tue, 21 Aug 2018 17:58:11 +0000   \n",
       "7  Tue, 21 Aug 2018 17:01:22 +0000   \n",
       "8  Sun, 19 Aug 2018 13:24:28 +0000   \n",
       "9  Sun, 15 Jul 2018 15:59:12 +0000   \n",
       "\n",
       "                                               title  \n",
       "0  Marine Le Pen : “il n’y a pas de problème d’im...  \n",
       "1  Emmanuel Macron surpris en train de dessiner d...  \n",
       "2  L’auteur présumé des attentats de Strasbourg s...  \n",
       "3  Bernard Werber : « Les auteurs de Science-Fict...  \n",
       "4  Emmanuel Macron rend hommage aux 6 millions d’...  \n",
       "5  Un néo-nazi déguisé en sauveteur de Juifs à Ch...  \n",
       "6  La France islamophobe : 75% des détenus seraie...  \n",
       "7       Le QI en baisse à cause de l’Américanisation  \n",
       "8  Yémen : La bombe qui a tué 40 futurs poètes et...  \n",
       "9  Les Syriens peuvent à nouveau vivre dans leur ...  "
      ]
     },
     "execution_count": 135,
     "metadata": {},
     "output_type": "execute_result"
    }
   ],
   "source": [
    "import pandas as pd\n",
    "\n",
    "df_rss_buzzbeed = pd.read_json(PATH_RSS_PAGES_BUZZBEED)\n",
    "df_rss_buzzbeed"
   ]
  },
  {
   "cell_type": "code",
   "execution_count": 136,
   "metadata": {},
   "outputs": [
    {
     "data": {
      "text/plain": [
       "(10, 3)"
      ]
     },
     "execution_count": 136,
     "metadata": {},
     "output_type": "execute_result"
    }
   ],
   "source": [
    "df_rss_buzzbeed.shape"
   ]
  },
  {
   "cell_type": "markdown",
   "metadata": {},
   "source": [
    "#### Scraping RSS news"
   ]
  },
  {
   "cell_type": "code",
   "execution_count": 157,
   "metadata": {},
   "outputs": [
    {
     "name": "stdout",
     "output_type": "stream",
     "text": [
      "File ../../data/buzzbeed_rss_pages_20191227_18_03_47.json moved!\n"
     ]
    }
   ],
   "source": [
    "# clean (move file if exist)\n",
    "clean_file(PATH_RSS_NEWS_BUZZBEED)"
   ]
  },
  {
   "cell_type": "code",
   "execution_count": 158,
   "metadata": {},
   "outputs": [],
   "source": [
    "# configure : add all retrieved links to Spider\n",
    "BuzzbeedSpider.start_urls = df_rss_buzzbeed[\"link\"].tolist()\n",
    "BuzzbeedSpider.custom_settings = {\n",
    "      'FEED_FORMAT': 'json',\n",
    "      'FEED_URI': PATH_RSS_NEWS_BUZZBEED\n",
    "}\n",
    "\n",
    "# scraping\n",
    "run_spider(BuzzbeedSpider)"
   ]
  },
  {
   "cell_type": "code",
   "execution_count": 159,
   "metadata": {},
   "outputs": [
    {
     "data": {
      "text/html": [
       "<div>\n",
       "<style scoped>\n",
       "    .dataframe tbody tr th:only-of-type {\n",
       "        vertical-align: middle;\n",
       "    }\n",
       "\n",
       "    .dataframe tbody tr th {\n",
       "        vertical-align: top;\n",
       "    }\n",
       "\n",
       "    .dataframe thead th {\n",
       "        text-align: right;\n",
       "    }\n",
       "</style>\n",
       "<table border=\"1\" class=\"dataframe\">\n",
       "  <thead>\n",
       "    <tr style=\"text-align: right;\">\n",
       "      <th></th>\n",
       "      <th>author</th>\n",
       "      <th>body</th>\n",
       "      <th>date_published</th>\n",
       "      <th>source</th>\n",
       "      <th>theme</th>\n",
       "      <th>title</th>\n",
       "      <th>url</th>\n",
       "    </tr>\n",
       "  </thead>\n",
       "  <tbody>\n",
       "    <tr>\n",
       "      <th>0</th>\n",
       "      <td>Jean Deumerez</td>\n",
       "      <td>Marine Le Pen continue de surprendre son élec...</td>\n",
       "      <td>2019-03-27</td>\n",
       "      <td>Buzzbeed</td>\n",
       "      <td>Sentiment d'insécurité</td>\n",
       "      <td>Marine Le Pen : “il n’y a pas de problème d’im...</td>\n",
       "      <td>https://www.buzzbeed.com/marine-le-pen-il-ny-a...</td>\n",
       "    </tr>\n",
       "    <tr>\n",
       "      <th>1</th>\n",
       "      <td>Francis Lépante</td>\n",
       "      <td>« La proximité du marché de Noël, et surtout ...</td>\n",
       "      <td>2018-12-12</td>\n",
       "      <td>Buzzbeed</td>\n",
       "      <td>Uncategorized</td>\n",
       "      <td>L’auteur présumé des attentats de Strasbourg s...</td>\n",
       "      <td>https://www.buzzbeed.com/lauteur-presume-des-a...</td>\n",
       "    </tr>\n",
       "    <tr>\n",
       "      <th>2</th>\n",
       "      <td>Francis Lépante</td>\n",
       "      <td>L’auteur du livre “Les fourmis” a un avis tra...</td>\n",
       "      <td>2018-11-17</td>\n",
       "      <td>Buzzbeed</td>\n",
       "      <td>Uncategorized</td>\n",
       "      <td>Bernard Werber : « Les auteurs de Science-Fict...</td>\n",
       "      <td>https://www.buzzbeed.com/bernard-werber-les-au...</td>\n",
       "    </tr>\n",
       "    <tr>\n",
       "      <th>3</th>\n",
       "      <td>Francis Lépante</td>\n",
       "      <td>Hier, Emmanuel Macron a rendu hommage aux 6 m...</td>\n",
       "      <td>2018-11-12</td>\n",
       "      <td>Buzzbeed</td>\n",
       "      <td>Uncategorized</td>\n",
       "      <td>Emmanuel Macron rend hommage aux 6 millions d’...</td>\n",
       "      <td>https://www.buzzbeed.com/emmanuel-macron-rend-...</td>\n",
       "    </tr>\n",
       "    <tr>\n",
       "      <th>4</th>\n",
       "      <td>Jean Deumerez</td>\n",
       "      <td>Une nouvelle preuve que notre pays est bien r...</td>\n",
       "      <td>2018-08-21</td>\n",
       "      <td>Buzzbeed</td>\n",
       "      <td>Uncategorized</td>\n",
       "      <td>La France islamophobe : 75% des détenus seraie...</td>\n",
       "      <td>https://www.buzzbeed.com/la-france-islamophobe...</td>\n",
       "    </tr>\n",
       "  </tbody>\n",
       "</table>\n",
       "</div>"
      ],
      "text/plain": [
       "            author                                               body  \\\n",
       "0    Jean Deumerez   Marine Le Pen continue de surprendre son élec...   \n",
       "1  Francis Lépante   « La proximité du marché de Noël, et surtout ...   \n",
       "2  Francis Lépante   L’auteur du livre “Les fourmis” a un avis tra...   \n",
       "3  Francis Lépante   Hier, Emmanuel Macron a rendu hommage aux 6 m...   \n",
       "4    Jean Deumerez   Une nouvelle preuve que notre pays est bien r...   \n",
       "\n",
       "  date_published    source                   theme  \\\n",
       "0     2019-03-27  Buzzbeed  Sentiment d'insécurité   \n",
       "1     2018-12-12  Buzzbeed           Uncategorized   \n",
       "2     2018-11-17  Buzzbeed           Uncategorized   \n",
       "3     2018-11-12  Buzzbeed           Uncategorized   \n",
       "4     2018-08-21  Buzzbeed           Uncategorized   \n",
       "\n",
       "                                               title  \\\n",
       "0  Marine Le Pen : “il n’y a pas de problème d’im...   \n",
       "1  L’auteur présumé des attentats de Strasbourg s...   \n",
       "2  Bernard Werber : « Les auteurs de Science-Fict...   \n",
       "3  Emmanuel Macron rend hommage aux 6 millions d’...   \n",
       "4  La France islamophobe : 75% des détenus seraie...   \n",
       "\n",
       "                                                 url  \n",
       "0  https://www.buzzbeed.com/marine-le-pen-il-ny-a...  \n",
       "1  https://www.buzzbeed.com/lauteur-presume-des-a...  \n",
       "2  https://www.buzzbeed.com/bernard-werber-les-au...  \n",
       "3  https://www.buzzbeed.com/emmanuel-macron-rend-...  \n",
       "4  https://www.buzzbeed.com/la-france-islamophobe...  "
      ]
     },
     "execution_count": 159,
     "metadata": {},
     "output_type": "execute_result"
    }
   ],
   "source": [
    "import pandas as pd\n",
    "\n",
    "df_buzzbeed_rss = pd.read_json(PATH_RSS_NEWS_BUZZBEED)\n",
    "df_buzzbeed_rss.head()"
   ]
  },
  {
   "cell_type": "code",
   "execution_count": 160,
   "metadata": {},
   "outputs": [
    {
     "data": {
      "text/plain": [
       "(10, 7)"
      ]
     },
     "execution_count": 160,
     "metadata": {},
     "output_type": "execute_result"
    }
   ],
   "source": [
    "df_buzzbeed_rss.shape"
   ]
  },
  {
   "cell_type": "code",
   "execution_count": 161,
   "metadata": {},
   "outputs": [
    {
     "data": {
      "text/plain": [
       "'https://www.buzzbeed.com/marine-le-pen-il-ny-a-pas-de-probleme-dimmigration-en-france'"
      ]
     },
     "execution_count": 161,
     "metadata": {},
     "output_type": "execute_result"
    }
   ],
   "source": [
    "df_buzzbeed_rss.at[0,\"url\"]"
   ]
  },
  {
   "cell_type": "code",
   "execution_count": 163,
   "metadata": {},
   "outputs": [
    {
     "data": {
      "text/plain": [
       "' Marine Le Pen continue de surprendre son électorat, affirmant, apès avoir nié être au courant du phénomène de Grand-Remplacement tel qu’exposé par René Camus, que elle n’a “jamais été au courant de problèmes d’immigration en France”. Elle achève ainsi haut la main sa campagne de dédiabolisation.  “En France il y a peut-être tout au plus quelques descendants d’immigrés, mais mon attention n’a jamais été attiré par une présence significative d’immigrés en France. En outre, ce sont des immigrés qui travaillent, contribuent à la culture du pays, ne touchent pas plus d’allocations que le Francais moyen, bref, on verrait mal au rassemblement national en quoi l’immigration serait un problème pour la France. C’est plutôt une chance, une opportunité.”  Marine Le Pen a pourtant dérapé sur l’Allemagne: “les Allemands, ce sont les heures sombres de notre histoire, ils veulent toujours nous reprendre l’Alsace-Lorraine, et là, avec l’euro, c’est le même projet contre les nations qui recommence, c’est-à-dire, si l’on ne sort pas de l’euro pour pouvoir dévaluer le franc, on va tous y rester, il nous faut une devise avec laquelle épargner sera impossible, et là la France redeviendra une grande puissance économique.” '"
      ]
     },
     "execution_count": 163,
     "metadata": {},
     "output_type": "execute_result"
    }
   ],
   "source": [
    "df_buzzbeed_rss.at[0,\"body\"]"
   ]
  },
  {
   "cell_type": "markdown",
   "metadata": {},
   "source": [
    "### Scraping urls into webpages "
   ]
  },
  {
   "cell_type": "markdown",
   "metadata": {},
   "source": [
    "#### Definitions"
   ]
  },
  {
   "cell_type": "code",
   "execution_count": 33,
   "metadata": {},
   "outputs": [],
   "source": [
    "URL_PAGES_BUZZBEED = 'https://www.buzzbeed.com/'\n",
    "# declare your data location\n",
    "PATH_PAGES_BUZZBEED = PATH_FOLDER_SAVE + '/pages_buzzbeed.json'\n",
    "PATH_NEWS_BUZZBEED = PATH_FOLDER_SAVE + '/buzzbeed.json'"
   ]
  },
  {
   "cell_type": "markdown",
   "metadata": {},
   "source": [
    "#### Scraping url links"
   ]
  },
  {
   "cell_type": "code",
   "execution_count": 177,
   "metadata": {},
   "outputs": [
    {
     "name": "stdout",
     "output_type": "stream",
     "text": [
      "File ../../data/pages_buzzbeed.json does not exist!\n"
     ]
    }
   ],
   "source": [
    "# clean (move file if exist)\n",
    "clean_file(PATH_PAGES_BUZZBEED)"
   ]
  },
  {
   "cell_type": "code",
   "execution_count": 178,
   "metadata": {
    "scrolled": false
   },
   "outputs": [
    {
     "name": "stdout",
     "output_type": "stream",
     "text": [
      "File ../../data/pages_buzzbeed.json does not exist!\n"
     ]
    }
   ],
   "source": [
    "# configure scraping\n",
    "BuzzbeedPageSpider.url_first_page = URL_PAGES_BUZZBEED\n",
    "BuzzbeedPageSpider.custom_settings = {\n",
    "      'FEED_FORMAT': 'json',\n",
    "      'FEED_URI': PATH_PAGES_BUZZBEED\n",
    "    }\n",
    "BuzzbeedPageSpider.num_max_pages = 25 # 10 articles by page\n",
    "\n",
    "# clean last output\n",
    "clean_file(PATH_PAGES_BUZZBEED)\n",
    "# scraping page urls\n",
    "run_spider(BuzzbeedPageSpider)"
   ]
  },
  {
   "cell_type": "code",
   "execution_count": 179,
   "metadata": {},
   "outputs": [
    {
     "data": {
      "text/html": [
       "<div>\n",
       "<style scoped>\n",
       "    .dataframe tbody tr th:only-of-type {\n",
       "        vertical-align: middle;\n",
       "    }\n",
       "\n",
       "    .dataframe tbody tr th {\n",
       "        vertical-align: top;\n",
       "    }\n",
       "\n",
       "    .dataframe thead th {\n",
       "        text-align: right;\n",
       "    }\n",
       "</style>\n",
       "<table border=\"1\" class=\"dataframe\">\n",
       "  <thead>\n",
       "    <tr style=\"text-align: right;\">\n",
       "      <th></th>\n",
       "      <th>link</th>\n",
       "    </tr>\n",
       "  </thead>\n",
       "  <tbody>\n",
       "    <tr>\n",
       "      <th>0</th>\n",
       "      <td>https://www.buzzbeed.com/marine-le-pen-il-ny-a...</td>\n",
       "    </tr>\n",
       "    <tr>\n",
       "      <th>1</th>\n",
       "      <td>https://www.buzzbeed.com/emmanuel-macron-surpr...</td>\n",
       "    </tr>\n",
       "    <tr>\n",
       "      <th>2</th>\n",
       "      <td>https://www.buzzbeed.com/lauteur-presume-des-a...</td>\n",
       "    </tr>\n",
       "    <tr>\n",
       "      <th>3</th>\n",
       "      <td>https://www.buzzbeed.com/bernard-werber-les-au...</td>\n",
       "    </tr>\n",
       "    <tr>\n",
       "      <th>4</th>\n",
       "      <td>https://www.buzzbeed.com/emmanuel-macron-rend-...</td>\n",
       "    </tr>\n",
       "  </tbody>\n",
       "</table>\n",
       "</div>"
      ],
      "text/plain": [
       "                                                link\n",
       "0  https://www.buzzbeed.com/marine-le-pen-il-ny-a...\n",
       "1  https://www.buzzbeed.com/emmanuel-macron-surpr...\n",
       "2  https://www.buzzbeed.com/lauteur-presume-des-a...\n",
       "3  https://www.buzzbeed.com/bernard-werber-les-au...\n",
       "4  https://www.buzzbeed.com/emmanuel-macron-rend-..."
      ]
     },
     "execution_count": 179,
     "metadata": {},
     "output_type": "execute_result"
    }
   ],
   "source": [
    "import pandas as pd\n",
    "\n",
    "df_buzzbeed_pages = pd.read_json(PATH_PAGES_BUZZBEED)\n",
    "df_buzzbeed_pages.head()"
   ]
  },
  {
   "cell_type": "code",
   "execution_count": 180,
   "metadata": {},
   "outputs": [
    {
     "data": {
      "text/plain": [
       "(240, 1)"
      ]
     },
     "execution_count": 180,
     "metadata": {},
     "output_type": "execute_result"
    }
   ],
   "source": [
    "df_buzzbeed_pages.shape"
   ]
  },
  {
   "cell_type": "markdown",
   "metadata": {},
   "source": [
    "#### Scraping news"
   ]
  },
  {
   "cell_type": "code",
   "execution_count": 181,
   "metadata": {},
   "outputs": [
    {
     "name": "stdout",
     "output_type": "stream",
     "text": [
      "File ../../data/buzzbeed.json does not exist!\n"
     ]
    }
   ],
   "source": [
    "# clean last output\n",
    "clean_file(PATH_NEWS_BUZZBEED)"
   ]
  },
  {
   "cell_type": "code",
   "execution_count": 182,
   "metadata": {},
   "outputs": [],
   "source": [
    "# configure : add all retrieved links to Spider\n",
    "BuzzbeedSpider.start_urls = df_buzzbeed_pages[\"link\"].tolist()\n",
    "BuzzbeedSpider.custom_settings = {\n",
    "      'FEED_FORMAT': 'json',\n",
    "      'FEED_URI': PATH_NEWS_BUZZBEED\n",
    "    }\n",
    "# scraping\n",
    "run_spider(BuzzbeedSpider)"
   ]
  },
  {
   "cell_type": "code",
   "execution_count": 183,
   "metadata": {},
   "outputs": [
    {
     "data": {
      "text/html": [
       "<div>\n",
       "<style scoped>\n",
       "    .dataframe tbody tr th:only-of-type {\n",
       "        vertical-align: middle;\n",
       "    }\n",
       "\n",
       "    .dataframe tbody tr th {\n",
       "        vertical-align: top;\n",
       "    }\n",
       "\n",
       "    .dataframe thead th {\n",
       "        text-align: right;\n",
       "    }\n",
       "</style>\n",
       "<table border=\"1\" class=\"dataframe\">\n",
       "  <thead>\n",
       "    <tr style=\"text-align: right;\">\n",
       "      <th></th>\n",
       "      <th>author</th>\n",
       "      <th>body</th>\n",
       "      <th>date_published</th>\n",
       "      <th>source</th>\n",
       "      <th>theme</th>\n",
       "      <th>title</th>\n",
       "      <th>url</th>\n",
       "    </tr>\n",
       "  </thead>\n",
       "  <tbody>\n",
       "    <tr>\n",
       "      <th>0</th>\n",
       "      <td>Jean Deumerez</td>\n",
       "      <td>Le Président Francais, Emmanuel Macron, a été...</td>\n",
       "      <td>2019-02-20</td>\n",
       "      <td>Buzzbeed</td>\n",
       "      <td>Insolite</td>\n",
       "      <td>Emmanuel Macron surpris en train de dessiner d...</td>\n",
       "      <td>https://www.buzzbeed.com/emmanuel-macron-surpr...</td>\n",
       "    </tr>\n",
       "    <tr>\n",
       "      <th>1</th>\n",
       "      <td>Francis Lépante</td>\n",
       "      <td>L’auteur du livre “Les fourmis” a un avis tra...</td>\n",
       "      <td>2018-11-17</td>\n",
       "      <td>Buzzbeed</td>\n",
       "      <td>Uncategorized</td>\n",
       "      <td>Bernard Werber : « Les auteurs de Science-Fict...</td>\n",
       "      <td>https://www.buzzbeed.com/bernard-werber-les-au...</td>\n",
       "    </tr>\n",
       "    <tr>\n",
       "      <th>2</th>\n",
       "      <td>Francis Lépante</td>\n",
       "      <td>« La proximité du marché de Noël, et surtout ...</td>\n",
       "      <td>2018-12-12</td>\n",
       "      <td>Buzzbeed</td>\n",
       "      <td>Uncategorized</td>\n",
       "      <td>L’auteur présumé des attentats de Strasbourg s...</td>\n",
       "      <td>https://www.buzzbeed.com/lauteur-presume-des-a...</td>\n",
       "    </tr>\n",
       "    <tr>\n",
       "      <th>3</th>\n",
       "      <td>Francis Lépante</td>\n",
       "      <td>Hier, Emmanuel Macron a rendu hommage aux 6 m...</td>\n",
       "      <td>2018-11-12</td>\n",
       "      <td>Buzzbeed</td>\n",
       "      <td>Uncategorized</td>\n",
       "      <td>Emmanuel Macron rend hommage aux 6 millions d’...</td>\n",
       "      <td>https://www.buzzbeed.com/emmanuel-macron-rend-...</td>\n",
       "    </tr>\n",
       "    <tr>\n",
       "      <th>4</th>\n",
       "      <td>Jean Deumerez</td>\n",
       "      <td>Preuve qu’ils sont partout. « Ils se cachent ...</td>\n",
       "      <td>2018-09-28</td>\n",
       "      <td>Buzzbeed</td>\n",
       "      <td>Uncategorized</td>\n",
       "      <td>Un néo-nazi déguisé en sauveteur de Juifs à Ch...</td>\n",
       "      <td>https://www.buzzbeed.com/un-neo-nazi-deguise-e...</td>\n",
       "    </tr>\n",
       "  </tbody>\n",
       "</table>\n",
       "</div>"
      ],
      "text/plain": [
       "            author                                               body  \\\n",
       "0    Jean Deumerez   Le Président Francais, Emmanuel Macron, a été...   \n",
       "1  Francis Lépante   L’auteur du livre “Les fourmis” a un avis tra...   \n",
       "2  Francis Lépante   « La proximité du marché de Noël, et surtout ...   \n",
       "3  Francis Lépante   Hier, Emmanuel Macron a rendu hommage aux 6 m...   \n",
       "4    Jean Deumerez   Preuve qu’ils sont partout. « Ils se cachent ...   \n",
       "\n",
       "  date_published    source          theme  \\\n",
       "0     2019-02-20  Buzzbeed       Insolite   \n",
       "1     2018-11-17  Buzzbeed  Uncategorized   \n",
       "2     2018-12-12  Buzzbeed  Uncategorized   \n",
       "3     2018-11-12  Buzzbeed  Uncategorized   \n",
       "4     2018-09-28  Buzzbeed  Uncategorized   \n",
       "\n",
       "                                               title  \\\n",
       "0  Emmanuel Macron surpris en train de dessiner d...   \n",
       "1  Bernard Werber : « Les auteurs de Science-Fict...   \n",
       "2  L’auteur présumé des attentats de Strasbourg s...   \n",
       "3  Emmanuel Macron rend hommage aux 6 millions d’...   \n",
       "4  Un néo-nazi déguisé en sauveteur de Juifs à Ch...   \n",
       "\n",
       "                                                 url  \n",
       "0  https://www.buzzbeed.com/emmanuel-macron-surpr...  \n",
       "1  https://www.buzzbeed.com/bernard-werber-les-au...  \n",
       "2  https://www.buzzbeed.com/lauteur-presume-des-a...  \n",
       "3  https://www.buzzbeed.com/emmanuel-macron-rend-...  \n",
       "4  https://www.buzzbeed.com/un-neo-nazi-deguise-e...  "
      ]
     },
     "execution_count": 183,
     "metadata": {},
     "output_type": "execute_result"
    }
   ],
   "source": [
    "import pandas as pd\n",
    "\n",
    "df_buzzbeed = pd.read_json(PATH_NEWS_BUZZBEED)\n",
    "df_buzzbeed.head()"
   ]
  },
  {
   "cell_type": "code",
   "execution_count": 184,
   "metadata": {},
   "outputs": [
    {
     "data": {
      "text/plain": [
       "(240, 7)"
      ]
     },
     "execution_count": 184,
     "metadata": {},
     "output_type": "execute_result"
    }
   ],
   "source": [
    "df_buzzbeed.shape"
   ]
  },
  {
   "cell_type": "code",
   "execution_count": 186,
   "metadata": {},
   "outputs": [
    {
     "data": {
      "text/plain": [
       "0"
      ]
     },
     "execution_count": 186,
     "metadata": {},
     "output_type": "execute_result"
    }
   ],
   "source": [
    "df_buzzbeed[df_buzzbeed[\"body\"].isna()].shape[0]"
   ]
  },
  {
   "cell_type": "markdown",
   "metadata": {},
   "source": [
    "## Export Fake news Results"
   ]
  },
  {
   "cell_type": "markdown",
   "metadata": {},
   "source": [
    "### Clean results"
   ]
  },
  {
   "cell_type": "code",
   "execution_count": 58,
   "metadata": {},
   "outputs": [],
   "source": [
    "import pandas as pd\n",
    "\n",
    "df_gorafi_soc = pd.read_json(PATH_NEWS_GORAFI_SOCIETE)\n",
    "df_gorafi_pol = pd.read_json(PATH_NEWS_GORAFI_POLITIQUE)\n",
    "df_gorafi_sci = pd.read_json(PATH_NEWS_GORAFI_SCIENCES)\n",
    "df_gorafi_tech = pd.read_json(PATH_NEWS_GORAFI_TECH)\n",
    "df_nordpresse = pd.read_json(PATH_NEWS_NORDPRESSE)\n",
    "df_buzzbeed = pd.read_json(PATH_NEWS_BUZZBEED)\n",
    "\n",
    "df_fake = pd.concat([df_gorafi_soc, df_gorafi_pol, df_gorafi_sci, \n",
    "                     df_gorafi_tech, df_nordpresse, df_buzzbeed], \n",
    "                    ignore_index=True)\n",
    "df_fake\n",
    "\n",
    "# if RSS MODE : replace by that : \n",
    "#df_gorafi = pd.read_json(PATH_RSS_NEWS_GORAFI)\n",
    "#df_nordpresse = pd.read_json(PATH_RSS_NEWS_NORDPRESSE)\n",
    "#df_buzzbeed = pd.read_json(PATH_RSS_NEWS_BUZZBEED)\n",
    "#df_fake = pd.concat([df_gorafi, df_nordpresse, df_buzzbeed], \n",
    "#                    ignore_index=True)\n",
    "#df_fake"
   ]
  },
  {
   "cell_type": "markdown",
   "metadata": {},
   "source": [
    "#### Delete NaN body"
   ]
  },
  {
   "cell_type": "code",
   "execution_count": 81,
   "metadata": {},
   "outputs": [
    {
     "data": {
      "text/plain": [
       "55"
      ]
     },
     "execution_count": 81,
     "metadata": {},
     "output_type": "execute_result"
    }
   ],
   "source": [
    "df_fake[df_fake[\"body\"].isna()].shape[0]"
   ]
  },
  {
   "cell_type": "code",
   "execution_count": 82,
   "metadata": {},
   "outputs": [],
   "source": [
    "df_fake.dropna(subset=['body'], inplace=True)"
   ]
  },
  {
   "cell_type": "code",
   "execution_count": 83,
   "metadata": {},
   "outputs": [
    {
     "data": {
      "text/plain": [
       "0"
      ]
     },
     "execution_count": 83,
     "metadata": {},
     "output_type": "execute_result"
    }
   ],
   "source": [
    "df_fake[df_fake[\"body\"].isna()].shape[0]"
   ]
  },
  {
   "cell_type": "code",
   "execution_count": 84,
   "metadata": {},
   "outputs": [
    {
     "data": {
      "text/plain": [
       "1074"
      ]
     },
     "execution_count": 84,
     "metadata": {},
     "output_type": "execute_result"
    }
   ],
   "source": [
    "df_fake.shape[0]"
   ]
  },
  {
   "cell_type": "markdown",
   "metadata": {},
   "source": [
    "#### Drop duplicate body"
   ]
  },
  {
   "cell_type": "code",
   "execution_count": 85,
   "metadata": {},
   "outputs": [
    {
     "data": {
      "text/plain": [
       "1072"
      ]
     },
     "execution_count": 85,
     "metadata": {},
     "output_type": "execute_result"
    }
   ],
   "source": [
    "df_fake[\"body\"].nunique()"
   ]
  },
  {
   "cell_type": "code",
   "execution_count": 86,
   "metadata": {},
   "outputs": [
    {
     "data": {
      "text/plain": [
       "1074"
      ]
     },
     "execution_count": 86,
     "metadata": {},
     "output_type": "execute_result"
    }
   ],
   "source": [
    "df_fake[\"url\"].nunique()"
   ]
  },
  {
   "cell_type": "code",
   "execution_count": 87,
   "metadata": {},
   "outputs": [],
   "source": [
    "df_fake.drop_duplicates(subset=\"body\", inplace=True)"
   ]
  },
  {
   "cell_type": "code",
   "execution_count": 88,
   "metadata": {},
   "outputs": [
    {
     "data": {
      "text/plain": [
       "1072"
      ]
     },
     "execution_count": 88,
     "metadata": {},
     "output_type": "execute_result"
    }
   ],
   "source": [
    "df_fake.shape[0]"
   ]
  },
  {
   "cell_type": "code",
   "execution_count": 89,
   "metadata": {},
   "outputs": [
    {
     "data": {
      "text/plain": [
       "1072"
      ]
     },
     "execution_count": 89,
     "metadata": {},
     "output_type": "execute_result"
    }
   ],
   "source": [
    "df_fake[\"url\"].nunique()"
   ]
  },
  {
   "cell_type": "code",
   "execution_count": 90,
   "metadata": {},
   "outputs": [
    {
     "data": {
      "text/plain": [
       "1072"
      ]
     },
     "execution_count": 90,
     "metadata": {},
     "output_type": "execute_result"
    }
   ],
   "source": [
    "df_fake[\"body\"].nunique()"
   ]
  },
  {
   "cell_type": "markdown",
   "metadata": {},
   "source": [
    "#### delete useless special text patterns"
   ]
  },
  {
   "cell_type": "code",
   "execution_count": 91,
   "metadata": {},
   "outputs": [
    {
     "data": {
      "text/plain": [
       "-1       806\n",
       " 0        88\n",
       " 1        71\n",
       " 188       2\n",
       " 124       2\n",
       " 675       2\n",
       " 72        2\n",
       " 56        2\n",
       " 258       2\n",
       " 204       1\n",
       " 161       1\n",
       " 112       1\n",
       " 212       1\n",
       " 132       1\n",
       " 150       1\n",
       " 151       1\n",
       " 155       1\n",
       " 210       1\n",
       " 163       1\n",
       " 201       1\n",
       " 164       1\n",
       " 170       1\n",
       " 177       1\n",
       " 94        1\n",
       " 187       1\n",
       " 205       1\n",
       " 193       1\n",
       " 196       1\n",
       " 97        1\n",
       " 85        1\n",
       "        ... \n",
       " 1321      1\n",
       " 1401      1\n",
       " 1597      1\n",
       " 1626      1\n",
       " 718       1\n",
       " 625       1\n",
       " 2         1\n",
       " 521       1\n",
       " 266       1\n",
       " 272       1\n",
       " 308       1\n",
       " 318       1\n",
       " 331       1\n",
       " 356       1\n",
       " 372       1\n",
       " 373       1\n",
       " 383       1\n",
       " 385       1\n",
       " 395       1\n",
       " 422       1\n",
       " 429       1\n",
       " 430       1\n",
       " 437       1\n",
       " 466       1\n",
       " 469       1\n",
       " 485       1\n",
       " 494       1\n",
       " 506       1\n",
       " 520       1\n",
       " 236       1\n",
       "Name: body, Length: 104, dtype: int64"
      ]
     },
     "execution_count": 91,
     "metadata": {},
     "output_type": "execute_result"
    }
   ],
   "source": [
    "# check \n",
    "df_fake[\"body\"].str.find(u'\\xa0').value_counts()"
   ]
  },
  {
   "cell_type": "code",
   "execution_count": 92,
   "metadata": {},
   "outputs": [
    {
     "data": {
      "text/plain": [
       "'Ainsi les chauffeurs sont autorisés à prendre toute sorte de produit stupéfiant et dopant leur permettant d’augmenter leur productivité. Les chauffeurs pourront prendre une dose de cocaïne par tranche de 50 kilomètres. « \\xa0Selon nos statistiques, les chauffeurs devraient avoir une autonomie de près de 36 heures avant la première attaque cardiaque\\xa0»  a estimé Jean-Marie Djebbari, secrétaire d’état aux transports.  Il leur sera en outre possible d’ingérer du café directement en intraveineuse ou d’utiliser des amphétamines.  «\\xa0Tout sera fait pour que les Français arrivent chez eux pour passer les vacances en famille\\xa0».  Outre ces dispositions, le gouvernement autorise les bus Macron à rouler à contre-sens sur les autoroutes pour gagner du temps, ne plus respecter la priorité à droite ou les feux rouges. Les roues seront équipées de systèmes rétractables permettant d’éjecter de la route les véhicules gênants.  En dernier recours, l’armée devrait offrir ses avions pour parachuter les bus à la verticale des destinations groupées.'"
      ]
     },
     "execution_count": 92,
     "metadata": {},
     "output_type": "execute_result"
    }
   ],
   "source": [
    "df_fake.at[0, \"body\"]"
   ]
  },
  {
   "cell_type": "code",
   "execution_count": 93,
   "metadata": {},
   "outputs": [],
   "source": [
    "# Delete special text patterns\n",
    "# Body\n",
    "df_fake[\"body\"] = df_fake[\"body\"].str.replace(u'\\xa0', u' ')\n",
    "# Title\n",
    "df_fake[\"title\"] = df_fake[\"title\"].str.replace(u'\\xa0', u' ')\n",
    "# Description\n",
    "df_fake[\"description\"] = df_fake[\"description\"].str.replace(u'\\xa0', u' ')"
   ]
  },
  {
   "cell_type": "code",
   "execution_count": 94,
   "metadata": {},
   "outputs": [
    {
     "data": {
      "text/plain": [
       "-1    1072\n",
       "Name: body, dtype: int64"
      ]
     },
     "execution_count": 94,
     "metadata": {},
     "output_type": "execute_result"
    }
   ],
   "source": [
    "# check\n",
    "df_fake[\"body\"].str.find(u'\\xa0').value_counts()"
   ]
  },
  {
   "cell_type": "code",
   "execution_count": 95,
   "metadata": {},
   "outputs": [
    {
     "data": {
      "text/plain": [
       "-1    1072\n",
       "Name: title, dtype: int64"
      ]
     },
     "execution_count": 95,
     "metadata": {},
     "output_type": "execute_result"
    }
   ],
   "source": [
    "# check\n",
    "df_fake[\"title\"].str.find(u'\\xa0').value_counts()"
   ]
  },
  {
   "cell_type": "code",
   "execution_count": 96,
   "metadata": {},
   "outputs": [
    {
     "data": {
      "text/html": [
       "<div>\n",
       "<style scoped>\n",
       "    .dataframe tbody tr th:only-of-type {\n",
       "        vertical-align: middle;\n",
       "    }\n",
       "\n",
       "    .dataframe tbody tr th {\n",
       "        vertical-align: top;\n",
       "    }\n",
       "\n",
       "    .dataframe thead th {\n",
       "        text-align: right;\n",
       "    }\n",
       "</style>\n",
       "<table border=\"1\" class=\"dataframe\">\n",
       "  <thead>\n",
       "    <tr style=\"text-align: right;\">\n",
       "      <th></th>\n",
       "      <th>author</th>\n",
       "      <th>body</th>\n",
       "      <th>date_published</th>\n",
       "      <th>description</th>\n",
       "      <th>source</th>\n",
       "      <th>theme</th>\n",
       "      <th>title</th>\n",
       "      <th>url</th>\n",
       "    </tr>\n",
       "  </thead>\n",
       "  <tbody>\n",
       "    <tr>\n",
       "      <th>0</th>\n",
       "      <td>La Rédaction</td>\n",
       "      <td>Ainsi les chauffeurs sont autorisés à prendre ...</td>\n",
       "      <td>19/12/2019</td>\n",
       "      <td>Paris – Pour aider les Français à pouvoir prof...</td>\n",
       "      <td>LeGorafi</td>\n",
       "      <td>Société</td>\n",
       "      <td>Le gouvernement autorise les chauffeurs des bu...</td>\n",
       "      <td>http://www.legorafi.fr/2019/12/19/le-gouvernem...</td>\n",
       "    </tr>\n",
       "    <tr>\n",
       "      <th>1</th>\n",
       "      <td>La Rédaction</td>\n",
       "      <td>Selon les services sanitaires, se sont plusieu...</td>\n",
       "      <td>11/12/2019</td>\n",
       "      <td>Paris – La chaîne de restauration rapide lancé...</td>\n",
       "      <td>LeGorafi</td>\n",
       "      <td>Société</td>\n",
       "      <td>Plusieurs Burger Quiz fermés après une visite ...</td>\n",
       "      <td>http://www.legorafi.fr/2019/12/11/plusieurs-bu...</td>\n",
       "    </tr>\n",
       "    <tr>\n",
       "      <th>2</th>\n",
       "      <td>La Rédaction</td>\n",
       "      <td>1/ Faire un beau chèque en s’appliquant pour l...</td>\n",
       "      <td>17/12/2019</td>\n",
       "      <td>L’échec amoureux n’a plus de secret pour vous ...</td>\n",
       "      <td>LeGorafi</td>\n",
       "      <td>Société</td>\n",
       "      <td>Psycho : Comment guérir d’un chagrin d’amour e...</td>\n",
       "      <td>http://www.legorafi.fr/2019/12/17/psycho-comme...</td>\n",
       "    </tr>\n",
       "    <tr>\n",
       "      <th>3</th>\n",
       "      <td>La Rédaction</td>\n",
       "      <td>« Mes équipes sentaient le malaise s’installer...</td>\n",
       "      <td>19/12/2019</td>\n",
       "      <td>Afin d’être plus en phase avec l’actualité, le...</td>\n",
       "      <td>LeGorafi</td>\n",
       "      <td>Société</td>\n",
       "      <td>Noël – Pour coller à la réalité, les magasins ...</td>\n",
       "      <td>http://www.legorafi.fr/2019/12/19/noel-pour-co...</td>\n",
       "    </tr>\n",
       "    <tr>\n",
       "      <th>5</th>\n",
       "      <td>La Rédaction</td>\n",
       "      <td>Oui, car Mathias a économisé pas moins de 5 eu...</td>\n",
       "      <td>10/12/2019</td>\n",
       "      <td>Alors qu’il rentrait d’un week-end, Mathias a ...</td>\n",
       "      <td>LeGorafi</td>\n",
       "      <td>Société</td>\n",
       "      <td>Il économise 5 euros en achetant au duty-free ...</td>\n",
       "      <td>http://www.legorafi.fr/2019/12/10/il-economise...</td>\n",
       "    </tr>\n",
       "  </tbody>\n",
       "</table>\n",
       "</div>"
      ],
      "text/plain": [
       "         author                                               body  \\\n",
       "0  La Rédaction  Ainsi les chauffeurs sont autorisés à prendre ...   \n",
       "1  La Rédaction  Selon les services sanitaires, se sont plusieu...   \n",
       "2  La Rédaction  1/ Faire un beau chèque en s’appliquant pour l...   \n",
       "3  La Rédaction  « Mes équipes sentaient le malaise s’installer...   \n",
       "5  La Rédaction  Oui, car Mathias a économisé pas moins de 5 eu...   \n",
       "\n",
       "  date_published                                        description    source  \\\n",
       "0     19/12/2019  Paris – Pour aider les Français à pouvoir prof...  LeGorafi   \n",
       "1     11/12/2019  Paris – La chaîne de restauration rapide lancé...  LeGorafi   \n",
       "2     17/12/2019  L’échec amoureux n’a plus de secret pour vous ...  LeGorafi   \n",
       "3     19/12/2019  Afin d’être plus en phase avec l’actualité, le...  LeGorafi   \n",
       "5     10/12/2019  Alors qu’il rentrait d’un week-end, Mathias a ...  LeGorafi   \n",
       "\n",
       "     theme                                              title  \\\n",
       "0  Société  Le gouvernement autorise les chauffeurs des bu...   \n",
       "1  Société  Plusieurs Burger Quiz fermés après une visite ...   \n",
       "2  Société  Psycho : Comment guérir d’un chagrin d’amour e...   \n",
       "3  Société  Noël – Pour coller à la réalité, les magasins ...   \n",
       "5  Société  Il économise 5 euros en achetant au duty-free ...   \n",
       "\n",
       "                                                 url  \n",
       "0  http://www.legorafi.fr/2019/12/19/le-gouvernem...  \n",
       "1  http://www.legorafi.fr/2019/12/11/plusieurs-bu...  \n",
       "2  http://www.legorafi.fr/2019/12/17/psycho-comme...  \n",
       "3  http://www.legorafi.fr/2019/12/19/noel-pour-co...  \n",
       "5  http://www.legorafi.fr/2019/12/10/il-economise...  "
      ]
     },
     "execution_count": 96,
     "metadata": {},
     "output_type": "execute_result"
    }
   ],
   "source": [
    "df_fake.head()"
   ]
  },
  {
   "cell_type": "markdown",
   "metadata": {},
   "source": [
    "### Output"
   ]
  },
  {
   "cell_type": "code",
   "execution_count": 97,
   "metadata": {},
   "outputs": [
    {
     "data": {
      "text/plain": [
       "'../../data/df_fake_news.pkl'"
      ]
     },
     "execution_count": 97,
     "metadata": {},
     "output_type": "execute_result"
    }
   ],
   "source": [
    "PATH_DF_FAKE_NEWS"
   ]
  },
  {
   "cell_type": "code",
   "execution_count": 98,
   "metadata": {},
   "outputs": [],
   "source": [
    "import pickle\n",
    "from sklearn.externals import joblib"
   ]
  },
  {
   "cell_type": "code",
   "execution_count": 99,
   "metadata": {},
   "outputs": [
    {
     "name": "stdout",
     "output_type": "stream",
     "text": [
      "df_fake Saved here:\n",
      "../../data/df_fake_news.pkl\n"
     ]
    }
   ],
   "source": [
    "# save results\n",
    "joblib.dump(df_fake, PATH_DF_FAKE_NEWS, compress=True)\n",
    "print(\"df_fake Saved here:\\n\" + PATH_DF_FAKE_NEWS)"
   ]
  },
  {
   "cell_type": "markdown",
   "metadata": {},
   "source": [
    "# Scraping French True News over pages"
   ]
  },
  {
   "cell_type": "markdown",
   "metadata": {},
   "source": [
    "## Scraping 20 minutes"
   ]
  },
  {
   "cell_type": "markdown",
   "metadata": {},
   "source": [
    "### Class definitions"
   ]
  },
  {
   "cell_type": "code",
   "execution_count": 216,
   "metadata": {},
   "outputs": [],
   "source": [
    "import scrapy\n",
    "from scrapy.loader import ItemLoader\n",
    "from scrapy.loader.processors import MapCompose, Join, TakeFirst\n",
    "from w3lib.html import remove_tags\n",
    "\n",
    "\n",
    "class VingtMinItem(scrapy.Item):\n",
    "    '''\n",
    "    Class item to declare different information to scrap\n",
    "    and how to process (as input or output) for 20 minutes\n",
    "    '''\n",
    "    # define the fields for your item here like:\n",
    "    url = scrapy.Field(output_processor=TakeFirst())\n",
    "    \n",
    "    source = scrapy.Field(output_processor=TakeFirst())\n",
    "    \n",
    "    author = scrapy.Field(\n",
    "        input_processor=MapCompose(remove_tags),\n",
    "        output_processor=TakeFirst()\n",
    "    )\n",
    "    \n",
    "    title = scrapy.Field(\n",
    "        input_processor=MapCompose(remove_tags),\n",
    "        output_processor=TakeFirst()\n",
    "    )\n",
    "    \n",
    "    theme = scrapy.Field(output_processor=TakeFirst())\n",
    "\n",
    "    date_published = scrapy.Field(\n",
    "        input_processor=MapCompose(remove_tags),\n",
    "        output_processor=TakeFirst()\n",
    "    )\n",
    "    \n",
    "    description = scrapy.Field(\n",
    "        input_processor=MapCompose(remove_tags),\n",
    "        output_processor=TakeFirst()\n",
    "    )\n",
    "    \n",
    "    body = scrapy.Field(\n",
    "        input_processor=MapCompose(remove_tags, \n",
    "                                   lambda v: v.replace(u'\\xa0', u' '),\n",
    "                                  lambda v: v.strip()),\n",
    "        output_processor=Join()\n",
    "    )"
   ]
  },
  {
   "cell_type": "code",
   "execution_count": 217,
   "metadata": {},
   "outputs": [],
   "source": [
    "class VingtMinSpider(scrapy.Spider):\n",
    "    '''\n",
    "    Spider to scrap over 20 minutes webpages : \n",
    "    - how to find information for scraping\n",
    "    - which field names to store\n",
    "    '''\n",
    "    # Your spider definition\n",
    "    name = 'news_vingtmin_spider'\n",
    "    # output definition :\n",
    "    custom_settings = {\n",
    "      'FEED_FORMAT': 'json',\n",
    "      'FEED_URI': 'items_vingtmin.json'\n",
    "    }\n",
    "    # theme\n",
    "    theme = 'politique'\n",
    "    # urls to scrap\n",
    "    start_urls = [\n",
    "        'https://www.20minutes.fr/politique/'\n",
    "    ]\n",
    "\n",
    "    def parse(self, response):\n",
    "        '''\n",
    "        Parse definition with xpath which define all patterns to use\n",
    "        for retrieve information into HTML strings\n",
    "        '''\n",
    "        #url\tsource\tauthor\ttitle\ttheme\tdescription\tdate_published\tbody   \n",
    "        l = ItemLoader(item=VingtMinItem(), selector=response)\n",
    "        \n",
    "        l.add_value('url', response.url)\n",
    "        \n",
    "        l.add_value('source', \"20Minutes\")\n",
    "        \n",
    "        \n",
    "        l.add_xpath('author', \n",
    "            '//p[@class=\"authorsign-label \"]')\n",
    "        \n",
    "        l.add_xpath(\"title\", \"//h1\")\n",
    "        \n",
    "        l.add_value(\"theme\", self.theme)\n",
    "        \n",
    "        #l.add_xpath(\"description\", \".//div[@class='intro']/p\")\n",
    "        l.add_xpath('description', '//span[@class=\"hat-summary\"]')\n",
    "        \n",
    "        #<time class=\"entry-date published\" datetime=\"2019-03-27T16:01:03+01:00\">mars 27, 2019</time>\n",
    "        l.add_xpath(\"date_published\", '//time/@datetime',\n",
    "                    re=\"[0-9]+-[0-9]+-[0-9]+\")\n",
    "        #'//div[@class=\"entry-content\"]/div'\n",
    "        l.add_xpath(\"body\",\n",
    "            '//div[@class=\"lt-endor-body content\"]/p')\n",
    "        \n",
    "        \n",
    "        yield l.load_item()"
   ]
  },
  {
   "cell_type": "code",
   "execution_count": 218,
   "metadata": {},
   "outputs": [],
   "source": [
    "import scrapy\n",
    "import re\n",
    "\n",
    "class VingtMinPageSpider(scrapy.Spider):\n",
    "    '''\n",
    "    Spider to scrap all Buzzbeed pages URL from selected category\n",
    "    Configure : \n",
    "    - VingtMinPageSpider.custom_settings : save location \n",
    "    - num_max_pages : the number of next page to scrap\n",
    "    - url_first_page : web page to start with\n",
    "    - theme : theme to scrap\n",
    "    '''\n",
    "    name = \"vingtmin_page\"\n",
    "    \n",
    "    custom_settings = {\n",
    "      'FEED_FORMAT': 'json',\n",
    "      'FEED_URI': 'pages_vingtmin.json'\n",
    "    }\n",
    "    \n",
    "    num_page_curr = 1\n",
    "    \n",
    "    num_max_pages = 1\n",
    "    \n",
    "    \n",
    "    url_first_page = 'https://www.20minutes.fr/politique/'\n",
    "    \n",
    "    theme = \"politique\"\n",
    "    \n",
    "    def start_requests(self):\n",
    "        urls = [\n",
    "                self.url_first_page,\n",
    "        ]\n",
    "        for url in urls:\n",
    "            yield scrapy.Request(url=url, callback=self.parse)\n",
    "    \n",
    "    def parse(self, response):\n",
    "        \n",
    "        # //h2[@class=\"teaser-title\"]/parent::div/parent::a/@href\n",
    "        for post in response.xpath('//h2[@class=\"teaser-title\"]'):\n",
    "            \n",
    "            #print('post : ', post) # TEST\n",
    "            yield {\n",
    "                'link': \\\n",
    "                post.xpath('parent::div/parent::a/@href').extract_first()\n",
    "            } \n",
    "        \n",
    "        # page format : https://www.20minutes.fr/politique/?page=2\n",
    "        self.num_page_curr += 1\n",
    "        \n",
    "        if self.num_page_curr <= self.num_max_pages:\n",
    "            next_page = 'https://www.20minutes.fr/{}/?page={}'\\\n",
    "                .format(self.theme, self.num_page_curr)\n",
    "        else:\n",
    "            next_page = None\n",
    "            \n",
    "        if next_page is not None:\n",
    "            try:\n",
    "                yield scrapy.Request(next_page, callback=self.parse)\n",
    "            except:\n",
    "                next_page = None"
   ]
  },
  {
   "cell_type": "markdown",
   "metadata": {},
   "source": [
    "### Scraping urls into webpages "
   ]
  },
  {
   "cell_type": "markdown",
   "metadata": {},
   "source": [
    "#### Definitions"
   ]
  },
  {
   "cell_type": "code",
   "execution_count": 170,
   "metadata": {},
   "outputs": [],
   "source": [
    "URL_PAGES_20MINUTES = 'https://www.20minutes.fr/politique/'\n",
    "# declare your data location\n",
    "PATH_PAGES_20MINUTES = PATH_FOLDER_SAVE + '/pages_vingtmin.json'\n",
    "PATH_NEWS_20MINUTES = PATH_FOLDER_SAVE + '/vingtmin.json'\n",
    "\n",
    "URL_PAGES_20MINUTES_SOC = 'https://www.20minutes.fr/societe/'\n",
    "# declare your data location\n",
    "PATH_PAGES_20MINUTES_SOC = PATH_FOLDER_SAVE + '/pages_vingtmin_soc.json'\n",
    "PATH_NEWS_20MINUTES_SOC = PATH_FOLDER_SAVE + '/vingtmin_soc.json'"
   ]
  },
  {
   "cell_type": "markdown",
   "metadata": {},
   "source": [
    "#### Politique"
   ]
  },
  {
   "cell_type": "markdown",
   "metadata": {},
   "source": [
    "##### Scraping url links"
   ]
  },
  {
   "cell_type": "code",
   "execution_count": 122,
   "metadata": {
    "scrolled": true
   },
   "outputs": [
    {
     "name": "stdout",
     "output_type": "stream",
     "text": [
      "File ../../data/pages_vingtmin_20200104_15_20_22.json moved!\n"
     ]
    }
   ],
   "source": [
    "# clean (move file if exist)\n",
    "clean_file(PATH_PAGES_20MINUTES)"
   ]
  },
  {
   "cell_type": "code",
   "execution_count": 123,
   "metadata": {
    "scrolled": false
   },
   "outputs": [
    {
     "name": "stdout",
     "output_type": "stream",
     "text": [
      "File ../../data/pages_vingtmin.json does not exist!\n"
     ]
    }
   ],
   "source": [
    "# configure scraping\n",
    "VingtMinPageSpider.url_first_page = URL_PAGES_20MINUTES\n",
    "VingtMinPageSpider.custom_settings = {\n",
    "      'FEED_FORMAT': 'json',\n",
    "      'FEED_URI': PATH_PAGES_20MINUTES\n",
    "    }\n",
    "VingtMinPageSpider.num_max_pages = 30 # 10 articles by page\n",
    "\n",
    "# clean last output\n",
    "clean_file(PATH_PAGES_20MINUTES)\n",
    "# scraping page urls\n",
    "run_spider(VingtMinPageSpider)"
   ]
  },
  {
   "cell_type": "code",
   "execution_count": 124,
   "metadata": {},
   "outputs": [
    {
     "data": {
      "text/html": [
       "<div>\n",
       "<style scoped>\n",
       "    .dataframe tbody tr th:only-of-type {\n",
       "        vertical-align: middle;\n",
       "    }\n",
       "\n",
       "    .dataframe tbody tr th {\n",
       "        vertical-align: top;\n",
       "    }\n",
       "\n",
       "    .dataframe thead th {\n",
       "        text-align: right;\n",
       "    }\n",
       "</style>\n",
       "<table border=\"1\" class=\"dataframe\">\n",
       "  <thead>\n",
       "    <tr style=\"text-align: right;\">\n",
       "      <th></th>\n",
       "      <th>link</th>\n",
       "    </tr>\n",
       "  </thead>\n",
       "  <tbody>\n",
       "    <tr>\n",
       "      <th>0</th>\n",
       "      <td>/politique/2686623-20200103-mort-soleimani-emm...</td>\n",
       "    </tr>\n",
       "    <tr>\n",
       "      <th>1</th>\n",
       "      <td>/municipales/2686515-20200103-municipales-2020...</td>\n",
       "    </tr>\n",
       "    <tr>\n",
       "      <th>2</th>\n",
       "      <td>/economie/2685975-20200102-video-reforme-retra...</td>\n",
       "    </tr>\n",
       "    <tr>\n",
       "      <th>3</th>\n",
       "      <td>/politique/2686003-20200102-reforme-retraites-...</td>\n",
       "    </tr>\n",
       "    <tr>\n",
       "      <th>4</th>\n",
       "      <td>/societe/2685535-20200101-legion-honneur-disti...</td>\n",
       "    </tr>\n",
       "  </tbody>\n",
       "</table>\n",
       "</div>"
      ],
      "text/plain": [
       "                                                link\n",
       "0  /politique/2686623-20200103-mort-soleimani-emm...\n",
       "1  /municipales/2686515-20200103-municipales-2020...\n",
       "2  /economie/2685975-20200102-video-reforme-retra...\n",
       "3  /politique/2686003-20200102-reforme-retraites-...\n",
       "4  /societe/2685535-20200101-legion-honneur-disti..."
      ]
     },
     "execution_count": 124,
     "metadata": {},
     "output_type": "execute_result"
    }
   ],
   "source": [
    "import pandas as pd\n",
    "\n",
    "df_vingtmin_pages = pd.read_json(PATH_PAGES_20MINUTES)\n",
    "df_vingtmin_pages.head()"
   ]
  },
  {
   "cell_type": "code",
   "execution_count": 125,
   "metadata": {},
   "outputs": [
    {
     "data": {
      "text/plain": [
       "(300, 1)"
      ]
     },
     "execution_count": 125,
     "metadata": {},
     "output_type": "execute_result"
    }
   ],
   "source": [
    "df_vingtmin_pages.shape"
   ]
  },
  {
   "cell_type": "code",
   "execution_count": 127,
   "metadata": {},
   "outputs": [
    {
     "data": {
      "text/html": [
       "<div>\n",
       "<style scoped>\n",
       "    .dataframe tbody tr th:only-of-type {\n",
       "        vertical-align: middle;\n",
       "    }\n",
       "\n",
       "    .dataframe tbody tr th {\n",
       "        vertical-align: top;\n",
       "    }\n",
       "\n",
       "    .dataframe thead th {\n",
       "        text-align: right;\n",
       "    }\n",
       "</style>\n",
       "<table border=\"1\" class=\"dataframe\">\n",
       "  <thead>\n",
       "    <tr style=\"text-align: right;\">\n",
       "      <th></th>\n",
       "      <th>link</th>\n",
       "      <th>link_ok</th>\n",
       "    </tr>\n",
       "  </thead>\n",
       "  <tbody>\n",
       "    <tr>\n",
       "      <th>0</th>\n",
       "      <td>/politique/2686623-20200103-mort-soleimani-emm...</td>\n",
       "      <td>https://www.20minutes.fr/politique/2686623-202...</td>\n",
       "    </tr>\n",
       "    <tr>\n",
       "      <th>1</th>\n",
       "      <td>/municipales/2686515-20200103-municipales-2020...</td>\n",
       "      <td>https://www.20minutes.fr/municipales/2686515-2...</td>\n",
       "    </tr>\n",
       "    <tr>\n",
       "      <th>2</th>\n",
       "      <td>/economie/2685975-20200102-video-reforme-retra...</td>\n",
       "      <td>https://www.20minutes.fr/economie/2685975-2020...</td>\n",
       "    </tr>\n",
       "    <tr>\n",
       "      <th>3</th>\n",
       "      <td>/politique/2686003-20200102-reforme-retraites-...</td>\n",
       "      <td>https://www.20minutes.fr/politique/2686003-202...</td>\n",
       "    </tr>\n",
       "    <tr>\n",
       "      <th>4</th>\n",
       "      <td>/societe/2685535-20200101-legion-honneur-disti...</td>\n",
       "      <td>https://www.20minutes.fr/societe/2685535-20200...</td>\n",
       "    </tr>\n",
       "  </tbody>\n",
       "</table>\n",
       "</div>"
      ],
      "text/plain": [
       "                                                link  \\\n",
       "0  /politique/2686623-20200103-mort-soleimani-emm...   \n",
       "1  /municipales/2686515-20200103-municipales-2020...   \n",
       "2  /economie/2685975-20200102-video-reforme-retra...   \n",
       "3  /politique/2686003-20200102-reforme-retraites-...   \n",
       "4  /societe/2685535-20200101-legion-honneur-disti...   \n",
       "\n",
       "                                             link_ok  \n",
       "0  https://www.20minutes.fr/politique/2686623-202...  \n",
       "1  https://www.20minutes.fr/municipales/2686515-2...  \n",
       "2  https://www.20minutes.fr/economie/2685975-2020...  \n",
       "3  https://www.20minutes.fr/politique/2686003-202...  \n",
       "4  https://www.20minutes.fr/societe/2685535-20200...  "
      ]
     },
     "execution_count": 127,
     "metadata": {},
     "output_type": "execute_result"
    }
   ],
   "source": [
    "def add_root_url(str_end):\n",
    "    return 'https://www.20minutes.fr' + str_end\n",
    "\n",
    "df_vingtmin_pages[\"link_ok\"] =  df_vingtmin_pages[\"link\"].apply(add_root_url)\n",
    "df_vingtmin_pages.head()"
   ]
  },
  {
   "cell_type": "code",
   "execution_count": 130,
   "metadata": {},
   "outputs": [
    {
     "data": {
      "text/html": [
       "<div>\n",
       "<style scoped>\n",
       "    .dataframe tbody tr th:only-of-type {\n",
       "        vertical-align: middle;\n",
       "    }\n",
       "\n",
       "    .dataframe tbody tr th {\n",
       "        vertical-align: top;\n",
       "    }\n",
       "\n",
       "    .dataframe thead th {\n",
       "        text-align: right;\n",
       "    }\n",
       "</style>\n",
       "<table border=\"1\" class=\"dataframe\">\n",
       "  <thead>\n",
       "    <tr style=\"text-align: right;\">\n",
       "      <th></th>\n",
       "      <th>link</th>\n",
       "    </tr>\n",
       "  </thead>\n",
       "  <tbody>\n",
       "    <tr>\n",
       "      <th>0</th>\n",
       "      <td>https://www.20minutes.fr/politique/2686623-202...</td>\n",
       "    </tr>\n",
       "    <tr>\n",
       "      <th>1</th>\n",
       "      <td>https://www.20minutes.fr/municipales/2686515-2...</td>\n",
       "    </tr>\n",
       "    <tr>\n",
       "      <th>2</th>\n",
       "      <td>https://www.20minutes.fr/economie/2685975-2020...</td>\n",
       "    </tr>\n",
       "    <tr>\n",
       "      <th>3</th>\n",
       "      <td>https://www.20minutes.fr/politique/2686003-202...</td>\n",
       "    </tr>\n",
       "    <tr>\n",
       "      <th>4</th>\n",
       "      <td>https://www.20minutes.fr/societe/2685535-20200...</td>\n",
       "    </tr>\n",
       "  </tbody>\n",
       "</table>\n",
       "</div>"
      ],
      "text/plain": [
       "                                                link\n",
       "0  https://www.20minutes.fr/politique/2686623-202...\n",
       "1  https://www.20minutes.fr/municipales/2686515-2...\n",
       "2  https://www.20minutes.fr/economie/2685975-2020...\n",
       "3  https://www.20minutes.fr/politique/2686003-202...\n",
       "4  https://www.20minutes.fr/societe/2685535-20200..."
      ]
     },
     "execution_count": 130,
     "metadata": {},
     "output_type": "execute_result"
    }
   ],
   "source": [
    "df_vingtmin_pages['link'] = df_vingtmin_pages['link_ok']\n",
    "df_vingtmin_pages.drop(['link_ok'], axis=1, inplace=True)\n",
    "df_vingtmin_pages.head()"
   ]
  },
  {
   "cell_type": "code",
   "execution_count": 131,
   "metadata": {},
   "outputs": [
    {
     "data": {
      "text/plain": [
       "'https://www.20minutes.fr/municipales/2686515-20200103-municipales-2020-toulouse-quentin-charoy-veut-replacer-cause-animale-ur-campagne'"
      ]
     },
     "execution_count": 131,
     "metadata": {},
     "output_type": "execute_result"
    }
   ],
   "source": [
    "df_vingtmin_pages.at[1,'link']"
   ]
  },
  {
   "cell_type": "markdown",
   "metadata": {},
   "source": [
    "##### Scraping news"
   ]
  },
  {
   "cell_type": "code",
   "execution_count": 140,
   "metadata": {},
   "outputs": [
    {
     "name": "stdout",
     "output_type": "stream",
     "text": [
      "File ../../data/vingtmin_20200104_15_59_26.json moved!\n"
     ]
    }
   ],
   "source": [
    "# clean last output\n",
    "clean_file(PATH_NEWS_20MINUTES)"
   ]
  },
  {
   "cell_type": "code",
   "execution_count": 141,
   "metadata": {},
   "outputs": [],
   "source": [
    "# configure : add all retrieved links to Spider\n",
    "VingtMinSpider.start_urls = df_vingtmin_pages[\"link\"].tolist()\n",
    "VingtMinSpider.custom_settings = {\n",
    "      'FEED_FORMAT': 'json',\n",
    "      'FEED_URI': PATH_NEWS_20MINUTES\n",
    "    }\n",
    "# scraping\n",
    "run_spider(VingtMinSpider)"
   ]
  },
  {
   "cell_type": "code",
   "execution_count": 142,
   "metadata": {},
   "outputs": [
    {
     "data": {
      "text/html": [
       "<div>\n",
       "<style scoped>\n",
       "    .dataframe tbody tr th:only-of-type {\n",
       "        vertical-align: middle;\n",
       "    }\n",
       "\n",
       "    .dataframe tbody tr th {\n",
       "        vertical-align: top;\n",
       "    }\n",
       "\n",
       "    .dataframe thead th {\n",
       "        text-align: right;\n",
       "    }\n",
       "</style>\n",
       "<table border=\"1\" class=\"dataframe\">\n",
       "  <thead>\n",
       "    <tr style=\"text-align: right;\">\n",
       "      <th></th>\n",
       "      <th>author</th>\n",
       "      <th>body</th>\n",
       "      <th>date_published</th>\n",
       "      <th>description</th>\n",
       "      <th>source</th>\n",
       "      <th>theme</th>\n",
       "      <th>title</th>\n",
       "      <th>url</th>\n",
       "    </tr>\n",
       "  </thead>\n",
       "  <tbody>\n",
       "    <tr>\n",
       "      <th>0</th>\n",
       "      <td>20 Minutes avec AFP</td>\n",
       "      <td>Vous n’avez pas pu suivre en direct l'allocuti...</td>\n",
       "      <td>2019-12-31</td>\n",
       "      <td>Le président de la République a formulé ses tr...</td>\n",
       "      <td>20Minutes</td>\n",
       "      <td>politique</td>\n",
       "      <td>VIDEO. Réforme des retraites, Brexit, « unité ...</td>\n",
       "      <td>https://www.20minutes.fr/politique/2685183-201...</td>\n",
       "    </tr>\n",
       "    <tr>\n",
       "      <th>1</th>\n",
       "      <td>Nicolas Raffin</td>\n",
       "      <td>Pas de répit pour la réforme des retraites. Qu...</td>\n",
       "      <td>2020-01-02</td>\n",
       "      <td>Plusieurs temps forts sont prévus dans les pro...</td>\n",
       "      <td>20Minutes</td>\n",
       "      <td>politique</td>\n",
       "      <td>VIDEO. Réforme des retraites : Le calendrier c...</td>\n",
       "      <td>https://www.20minutes.fr/economie/2685975-2020...</td>\n",
       "    </tr>\n",
       "    <tr>\n",
       "      <th>2</th>\n",
       "      <td>20 Minutes avec AFP</td>\n",
       "      <td>La nomination du patron de la branche français...</td>\n",
       "      <td>2020-01-01</td>\n",
       "      <td>En plein conflit sur la réforme des retraites,...</td>\n",
       "      <td>20Minutes</td>\n",
       "      <td>politique</td>\n",
       "      <td>La Légion d’honneur accordée au patron de Blac...</td>\n",
       "      <td>https://www.20minutes.fr/societe/2685535-20200...</td>\n",
       "    </tr>\n",
       "    <tr>\n",
       "      <th>3</th>\n",
       "      <td>20 Minutes avec AFP</td>\n",
       "      <td>Une centaine de manifestants se sont réunis, c...</td>\n",
       "      <td>2020-01-02</td>\n",
       "      <td>Trois personnes ont été interpellées lors de l...</td>\n",
       "      <td>20Minutes</td>\n",
       "      <td>politique</td>\n",
       "      <td>Réforme des retraites : Manifestation devant l...</td>\n",
       "      <td>https://www.20minutes.fr/politique/2686003-202...</td>\n",
       "    </tr>\n",
       "    <tr>\n",
       "      <th>4</th>\n",
       "      <td>20 Minutes avec AFP</td>\n",
       "      <td>Emmanuel Macron va rester en « contact étroit ...</td>\n",
       "      <td>2020-01-03</td>\n",
       "      <td>L'un des principaux généraux du régime iranien...</td>\n",
       "      <td>20Minutes</td>\n",
       "      <td>politique</td>\n",
       "      <td>Mort de Soleimani : Emmanuel Macron veut « évi...</td>\n",
       "      <td>https://www.20minutes.fr/politique/2686623-202...</td>\n",
       "    </tr>\n",
       "  </tbody>\n",
       "</table>\n",
       "</div>"
      ],
      "text/plain": [
       "                author                                               body  \\\n",
       "0  20 Minutes avec AFP  Vous n’avez pas pu suivre en direct l'allocuti...   \n",
       "1       Nicolas Raffin  Pas de répit pour la réforme des retraites. Qu...   \n",
       "2  20 Minutes avec AFP  La nomination du patron de la branche français...   \n",
       "3  20 Minutes avec AFP  Une centaine de manifestants se sont réunis, c...   \n",
       "4  20 Minutes avec AFP  Emmanuel Macron va rester en « contact étroit ...   \n",
       "\n",
       "  date_published                                        description  \\\n",
       "0     2019-12-31  Le président de la République a formulé ses tr...   \n",
       "1     2020-01-02  Plusieurs temps forts sont prévus dans les pro...   \n",
       "2     2020-01-01  En plein conflit sur la réforme des retraites,...   \n",
       "3     2020-01-02  Trois personnes ont été interpellées lors de l...   \n",
       "4     2020-01-03  L'un des principaux généraux du régime iranien...   \n",
       "\n",
       "      source      theme                                              title  \\\n",
       "0  20Minutes  politique  VIDEO. Réforme des retraites, Brexit, « unité ...   \n",
       "1  20Minutes  politique  VIDEO. Réforme des retraites : Le calendrier c...   \n",
       "2  20Minutes  politique  La Légion d’honneur accordée au patron de Blac...   \n",
       "3  20Minutes  politique  Réforme des retraites : Manifestation devant l...   \n",
       "4  20Minutes  politique  Mort de Soleimani : Emmanuel Macron veut « évi...   \n",
       "\n",
       "                                                 url  \n",
       "0  https://www.20minutes.fr/politique/2685183-201...  \n",
       "1  https://www.20minutes.fr/economie/2685975-2020...  \n",
       "2  https://www.20minutes.fr/societe/2685535-20200...  \n",
       "3  https://www.20minutes.fr/politique/2686003-202...  \n",
       "4  https://www.20minutes.fr/politique/2686623-202...  "
      ]
     },
     "execution_count": 142,
     "metadata": {},
     "output_type": "execute_result"
    }
   ],
   "source": [
    "df_vingtmin = pd.read_json(PATH_NEWS_20MINUTES)\n",
    "df_vingtmin.head()"
   ]
  },
  {
   "cell_type": "code",
   "execution_count": 143,
   "metadata": {},
   "outputs": [
    {
     "data": {
      "text/plain": [
       "(300, 8)"
      ]
     },
     "execution_count": 143,
     "metadata": {},
     "output_type": "execute_result"
    }
   ],
   "source": [
    "df_vingtmin.shape"
   ]
  },
  {
   "cell_type": "code",
   "execution_count": 144,
   "metadata": {},
   "outputs": [
    {
     "data": {
      "text/plain": [
       "3"
      ]
     },
     "execution_count": 144,
     "metadata": {},
     "output_type": "execute_result"
    }
   ],
   "source": [
    "df_vingtmin[df_vingtmin[\"body\"].isna()].shape[0]"
   ]
  },
  {
   "cell_type": "markdown",
   "metadata": {},
   "source": []
  },
  {
   "cell_type": "markdown",
   "metadata": {},
   "source": [
    "#### Société"
   ]
  },
  {
   "cell_type": "markdown",
   "metadata": {},
   "source": [
    "##### Scraping url links"
   ]
  },
  {
   "cell_type": "code",
   "execution_count": 219,
   "metadata": {
    "scrolled": true
   },
   "outputs": [
    {
     "name": "stdout",
     "output_type": "stream",
     "text": [
      "File ../../data/pages_vingtmin_soc_20200107_09_16_51.json moved!\n"
     ]
    }
   ],
   "source": [
    "# clean (move file if exist)\n",
    "clean_file(PATH_PAGES_20MINUTES_SOC)"
   ]
  },
  {
   "cell_type": "code",
   "execution_count": 220,
   "metadata": {
    "scrolled": false
   },
   "outputs": [
    {
     "name": "stdout",
     "output_type": "stream",
     "text": [
      "File ../../data/pages_vingtmin_soc.json does not exist!\n"
     ]
    }
   ],
   "source": [
    "# configure scraping\n",
    "VingtMinPageSpider.url_first_page = URL_PAGES_20MINUTES_SOC\n",
    "VingtMinPageSpider.custom_settings = {\n",
    "      'FEED_FORMAT': 'json',\n",
    "      'FEED_URI': PATH_PAGES_20MINUTES_SOC\n",
    "    }\n",
    "VingtMinPageSpider.theme = 'societe'\n",
    "VingtMinPageSpider.num_max_pages = 30 # 10 articles by page\n",
    "\n",
    "# clean last output\n",
    "clean_file(PATH_PAGES_20MINUTES_SOC)\n",
    "# scraping page urls\n",
    "run_spider(VingtMinPageSpider)"
   ]
  },
  {
   "cell_type": "code",
   "execution_count": 221,
   "metadata": {},
   "outputs": [
    {
     "data": {
      "text/html": [
       "<div>\n",
       "<style scoped>\n",
       "    .dataframe tbody tr th:only-of-type {\n",
       "        vertical-align: middle;\n",
       "    }\n",
       "\n",
       "    .dataframe tbody tr th {\n",
       "        vertical-align: top;\n",
       "    }\n",
       "\n",
       "    .dataframe thead th {\n",
       "        text-align: right;\n",
       "    }\n",
       "</style>\n",
       "<table border=\"1\" class=\"dataframe\">\n",
       "  <thead>\n",
       "    <tr style=\"text-align: right;\">\n",
       "      <th></th>\n",
       "      <th>link</th>\n",
       "    </tr>\n",
       "  </thead>\n",
       "  <tbody>\n",
       "    <tr>\n",
       "      <th>0</th>\n",
       "      <td>/societe/2688687-20200106-reforme-retraites-ed...</td>\n",
       "    </tr>\n",
       "    <tr>\n",
       "      <th>1</th>\n",
       "      <td>/societe/2688671-20200106-armee-militaires-fra...</td>\n",
       "    </tr>\n",
       "    <tr>\n",
       "      <th>2</th>\n",
       "      <td>/societe/2688627-20200106-violences-sexuelles-...</td>\n",
       "    </tr>\n",
       "    <tr>\n",
       "      <th>3</th>\n",
       "      <td>/societe/2688655-20200106-infos-immanquables-j...</td>\n",
       "    </tr>\n",
       "    <tr>\n",
       "      <th>4</th>\n",
       "      <td>/societe/2688319-20200106-blocages-site-petiti...</td>\n",
       "    </tr>\n",
       "  </tbody>\n",
       "</table>\n",
       "</div>"
      ],
      "text/plain": [
       "                                                link\n",
       "0  /societe/2688687-20200106-reforme-retraites-ed...\n",
       "1  /societe/2688671-20200106-armee-militaires-fra...\n",
       "2  /societe/2688627-20200106-violences-sexuelles-...\n",
       "3  /societe/2688655-20200106-infos-immanquables-j...\n",
       "4  /societe/2688319-20200106-blocages-site-petiti..."
      ]
     },
     "execution_count": 221,
     "metadata": {},
     "output_type": "execute_result"
    }
   ],
   "source": [
    "import pandas as pd\n",
    "\n",
    "df_vingtmin_pages_soc = pd.read_json(PATH_PAGES_20MINUTES_SOC)\n",
    "df_vingtmin_pages_soc.head()"
   ]
  },
  {
   "cell_type": "code",
   "execution_count": 222,
   "metadata": {},
   "outputs": [
    {
     "data": {
      "text/plain": [
       "(300, 1)"
      ]
     },
     "execution_count": 222,
     "metadata": {},
     "output_type": "execute_result"
    }
   ],
   "source": [
    "df_vingtmin_pages_soc.shape"
   ]
  },
  {
   "cell_type": "markdown",
   "metadata": {},
   "source": [
    "##### Format URL\n",
    "Url are relative, need to add root url\n"
   ]
  },
  {
   "cell_type": "code",
   "execution_count": 223,
   "metadata": {},
   "outputs": [
    {
     "data": {
      "text/html": [
       "<div>\n",
       "<style scoped>\n",
       "    .dataframe tbody tr th:only-of-type {\n",
       "        vertical-align: middle;\n",
       "    }\n",
       "\n",
       "    .dataframe tbody tr th {\n",
       "        vertical-align: top;\n",
       "    }\n",
       "\n",
       "    .dataframe thead th {\n",
       "        text-align: right;\n",
       "    }\n",
       "</style>\n",
       "<table border=\"1\" class=\"dataframe\">\n",
       "  <thead>\n",
       "    <tr style=\"text-align: right;\">\n",
       "      <th></th>\n",
       "      <th>link</th>\n",
       "      <th>link_ok</th>\n",
       "    </tr>\n",
       "  </thead>\n",
       "  <tbody>\n",
       "    <tr>\n",
       "      <th>0</th>\n",
       "      <td>/societe/2688687-20200106-reforme-retraites-ed...</td>\n",
       "      <td>https://www.20minutes.fr/societe/2688687-20200...</td>\n",
       "    </tr>\n",
       "    <tr>\n",
       "      <th>1</th>\n",
       "      <td>/societe/2688671-20200106-armee-militaires-fra...</td>\n",
       "      <td>https://www.20minutes.fr/societe/2688671-20200...</td>\n",
       "    </tr>\n",
       "    <tr>\n",
       "      <th>2</th>\n",
       "      <td>/societe/2688627-20200106-violences-sexuelles-...</td>\n",
       "      <td>https://www.20minutes.fr/societe/2688627-20200...</td>\n",
       "    </tr>\n",
       "    <tr>\n",
       "      <th>3</th>\n",
       "      <td>/societe/2688655-20200106-infos-immanquables-j...</td>\n",
       "      <td>https://www.20minutes.fr/societe/2688655-20200...</td>\n",
       "    </tr>\n",
       "    <tr>\n",
       "      <th>4</th>\n",
       "      <td>/societe/2688319-20200106-blocages-site-petiti...</td>\n",
       "      <td>https://www.20minutes.fr/societe/2688319-20200...</td>\n",
       "    </tr>\n",
       "  </tbody>\n",
       "</table>\n",
       "</div>"
      ],
      "text/plain": [
       "                                                link  \\\n",
       "0  /societe/2688687-20200106-reforme-retraites-ed...   \n",
       "1  /societe/2688671-20200106-armee-militaires-fra...   \n",
       "2  /societe/2688627-20200106-violences-sexuelles-...   \n",
       "3  /societe/2688655-20200106-infos-immanquables-j...   \n",
       "4  /societe/2688319-20200106-blocages-site-petiti...   \n",
       "\n",
       "                                             link_ok  \n",
       "0  https://www.20minutes.fr/societe/2688687-20200...  \n",
       "1  https://www.20minutes.fr/societe/2688671-20200...  \n",
       "2  https://www.20minutes.fr/societe/2688627-20200...  \n",
       "3  https://www.20minutes.fr/societe/2688655-20200...  \n",
       "4  https://www.20minutes.fr/societe/2688319-20200...  "
      ]
     },
     "execution_count": 223,
     "metadata": {},
     "output_type": "execute_result"
    }
   ],
   "source": [
    "def add_root_url(str_end):\n",
    "    return 'https://www.20minutes.fr' + str_end\n",
    "\n",
    "df_vingtmin_pages_soc[\"link_ok\"] =  \\\n",
    "    df_vingtmin_pages_soc[\"link\"].apply(add_root_url)\n",
    "df_vingtmin_pages_soc.head()"
   ]
  },
  {
   "cell_type": "code",
   "execution_count": 224,
   "metadata": {},
   "outputs": [
    {
     "data": {
      "text/html": [
       "<div>\n",
       "<style scoped>\n",
       "    .dataframe tbody tr th:only-of-type {\n",
       "        vertical-align: middle;\n",
       "    }\n",
       "\n",
       "    .dataframe tbody tr th {\n",
       "        vertical-align: top;\n",
       "    }\n",
       "\n",
       "    .dataframe thead th {\n",
       "        text-align: right;\n",
       "    }\n",
       "</style>\n",
       "<table border=\"1\" class=\"dataframe\">\n",
       "  <thead>\n",
       "    <tr style=\"text-align: right;\">\n",
       "      <th></th>\n",
       "      <th>link</th>\n",
       "    </tr>\n",
       "  </thead>\n",
       "  <tbody>\n",
       "    <tr>\n",
       "      <th>0</th>\n",
       "      <td>https://www.20minutes.fr/societe/2688687-20200...</td>\n",
       "    </tr>\n",
       "    <tr>\n",
       "      <th>1</th>\n",
       "      <td>https://www.20minutes.fr/societe/2688671-20200...</td>\n",
       "    </tr>\n",
       "    <tr>\n",
       "      <th>2</th>\n",
       "      <td>https://www.20minutes.fr/societe/2688627-20200...</td>\n",
       "    </tr>\n",
       "    <tr>\n",
       "      <th>3</th>\n",
       "      <td>https://www.20minutes.fr/societe/2688655-20200...</td>\n",
       "    </tr>\n",
       "    <tr>\n",
       "      <th>4</th>\n",
       "      <td>https://www.20minutes.fr/societe/2688319-20200...</td>\n",
       "    </tr>\n",
       "  </tbody>\n",
       "</table>\n",
       "</div>"
      ],
      "text/plain": [
       "                                                link\n",
       "0  https://www.20minutes.fr/societe/2688687-20200...\n",
       "1  https://www.20minutes.fr/societe/2688671-20200...\n",
       "2  https://www.20minutes.fr/societe/2688627-20200...\n",
       "3  https://www.20minutes.fr/societe/2688655-20200...\n",
       "4  https://www.20minutes.fr/societe/2688319-20200..."
      ]
     },
     "execution_count": 224,
     "metadata": {},
     "output_type": "execute_result"
    }
   ],
   "source": [
    "df_vingtmin_pages_soc['link'] = df_vingtmin_pages_soc['link_ok']\n",
    "df_vingtmin_pages_soc.drop(['link_ok'], axis=1, inplace=True)\n",
    "df_vingtmin_pages_soc.head()"
   ]
  },
  {
   "cell_type": "code",
   "execution_count": 225,
   "metadata": {},
   "outputs": [
    {
     "data": {
      "text/plain": [
       "'https://www.20minutes.fr/societe/2688671-20200106-armee-militaires-francais-bientot-equipes-nouveaux-pistolets-autrichiens'"
      ]
     },
     "execution_count": 225,
     "metadata": {},
     "output_type": "execute_result"
    }
   ],
   "source": [
    "df_vingtmin_pages_soc.at[1,'link']"
   ]
  },
  {
   "cell_type": "markdown",
   "metadata": {},
   "source": [
    "##### Scraping news"
   ]
  },
  {
   "cell_type": "code",
   "execution_count": 226,
   "metadata": {},
   "outputs": [
    {
     "name": "stdout",
     "output_type": "stream",
     "text": [
      "File ../../data/vingtmin_soc_20200107_09_18_54.json moved!\n"
     ]
    }
   ],
   "source": [
    "# clean last output\n",
    "clean_file(PATH_NEWS_20MINUTES_SOC)"
   ]
  },
  {
   "cell_type": "code",
   "execution_count": 227,
   "metadata": {},
   "outputs": [],
   "source": [
    "# configure : add all retrieved links to Spider\n",
    "VingtMinSpider.start_urls = df_vingtmin_pages_soc[\"link\"].tolist()\n",
    "VingtMinSpider.custom_settings = {\n",
    "      'FEED_FORMAT': 'json',\n",
    "      'FEED_URI': PATH_NEWS_20MINUTES_SOC\n",
    "    }\n",
    "VingtMinSpider.theme = 'societe'\n",
    "# scraping\n",
    "run_spider(VingtMinSpider)"
   ]
  },
  {
   "cell_type": "code",
   "execution_count": 228,
   "metadata": {},
   "outputs": [],
   "source": [
    "df_vingtmin_soc = pd.read_json(PATH_NEWS_20MINUTES_SOC)"
   ]
  },
  {
   "cell_type": "code",
   "execution_count": 229,
   "metadata": {},
   "outputs": [
    {
     "data": {
      "text/html": [
       "<div>\n",
       "<style scoped>\n",
       "    .dataframe tbody tr th:only-of-type {\n",
       "        vertical-align: middle;\n",
       "    }\n",
       "\n",
       "    .dataframe tbody tr th {\n",
       "        vertical-align: top;\n",
       "    }\n",
       "\n",
       "    .dataframe thead th {\n",
       "        text-align: right;\n",
       "    }\n",
       "</style>\n",
       "<table border=\"1\" class=\"dataframe\">\n",
       "  <thead>\n",
       "    <tr style=\"text-align: right;\">\n",
       "      <th></th>\n",
       "      <th>author</th>\n",
       "      <th>body</th>\n",
       "      <th>date_published</th>\n",
       "      <th>description</th>\n",
       "      <th>source</th>\n",
       "      <th>theme</th>\n",
       "      <th>title</th>\n",
       "      <th>url</th>\n",
       "    </tr>\n",
       "  </thead>\n",
       "  <tbody>\n",
       "    <tr>\n",
       "      <th>0</th>\n",
       "      <td>G. N. avec AFP</td>\n",
       "      <td>Edouard Philippe a estimé lundi soir devant le...</td>\n",
       "      <td>2020-01-06</td>\n",
       "      <td>Le Premier ministre s’exprimait lundi soir dev...</td>\n",
       "      <td>20Minutes</td>\n",
       "      <td>societe</td>\n",
       "      <td>Réforme des retraites : Edouard Philippe appel...</td>\n",
       "      <td>https://www.20minutes.fr/societe/2688687-20200...</td>\n",
       "    </tr>\n",
       "    <tr>\n",
       "      <th>1</th>\n",
       "      <td>Alexis Orsini</td>\n",
       "      <td>Le gouvernement ne cesse de le répéter depuis ...</td>\n",
       "      <td>2020-01-06</td>\n",
       "      <td>On fait le point sur les différentes affirmati...</td>\n",
       "      <td>20Minutes</td>\n",
       "      <td>societe</td>\n",
       "      <td>Raffineries, réserves stratégiques… Le vrai du...</td>\n",
       "      <td>https://www.20minutes.fr/economie/2688591-2020...</td>\n",
       "    </tr>\n",
       "    <tr>\n",
       "      <th>2</th>\n",
       "      <td>J.-L.D. avec AFP</td>\n",
       "      <td>Les prix des carburants routiers vendus dans l...</td>\n",
       "      <td>2020-01-06</td>\n",
       "      <td>Le gazole plafonne désormais à 1,4841 euro par...</td>\n",
       "      <td>20Minutes</td>\n",
       "      <td>societe</td>\n",
       "      <td>Carburant : Les prix à la pompe poursuivent le...</td>\n",
       "      <td>https://www.20minutes.fr/societe/2688635-20200...</td>\n",
       "    </tr>\n",
       "    <tr>\n",
       "      <th>3</th>\n",
       "      <td>20 Minutes avec AFP</td>\n",
       "      <td>Les critiques fusent. Des experts, mandatés pa...</td>\n",
       "      <td>2020-01-06</td>\n",
       "      <td>Le projet, mené par SNCF Gares &amp;amp; Connexion...</td>\n",
       "      <td>20Minutes</td>\n",
       "      <td>societe</td>\n",
       "      <td>Paris : Des experts mandatés par la mairie tac...</td>\n",
       "      <td>https://www.20minutes.fr/paris/2688579-2020010...</td>\n",
       "    </tr>\n",
       "    <tr>\n",
       "      <th>4</th>\n",
       "      <td>J.-L.D. avec AFP</td>\n",
       "      <td>L'armée française a commandé près de 75.000 \\r...</td>\n",
       "      <td>2020-01-06</td>\n",
       "      <td>Les pistolets actuellement en service remonten...</td>\n",
       "      <td>20Minutes</td>\n",
       "      <td>societe</td>\n",
       "      <td>Les militaires français bientôt équipés de nou...</td>\n",
       "      <td>https://www.20minutes.fr/societe/2688671-20200...</td>\n",
       "    </tr>\n",
       "  </tbody>\n",
       "</table>\n",
       "</div>"
      ],
      "text/plain": [
       "                author                                               body  \\\n",
       "0       G. N. avec AFP  Edouard Philippe a estimé lundi soir devant le...   \n",
       "1        Alexis Orsini  Le gouvernement ne cesse de le répéter depuis ...   \n",
       "2     J.-L.D. avec AFP  Les prix des carburants routiers vendus dans l...   \n",
       "3  20 Minutes avec AFP  Les critiques fusent. Des experts, mandatés pa...   \n",
       "4     J.-L.D. avec AFP  L'armée française a commandé près de 75.000 \\r...   \n",
       "\n",
       "  date_published                                        description  \\\n",
       "0     2020-01-06  Le Premier ministre s’exprimait lundi soir dev...   \n",
       "1     2020-01-06  On fait le point sur les différentes affirmati...   \n",
       "2     2020-01-06  Le gazole plafonne désormais à 1,4841 euro par...   \n",
       "3     2020-01-06  Le projet, mené par SNCF Gares &amp; Connexion...   \n",
       "4     2020-01-06  Les pistolets actuellement en service remonten...   \n",
       "\n",
       "      source    theme                                              title  \\\n",
       "0  20Minutes  societe  Réforme des retraites : Edouard Philippe appel...   \n",
       "1  20Minutes  societe  Raffineries, réserves stratégiques… Le vrai du...   \n",
       "2  20Minutes  societe  Carburant : Les prix à la pompe poursuivent le...   \n",
       "3  20Minutes  societe  Paris : Des experts mandatés par la mairie tac...   \n",
       "4  20Minutes  societe  Les militaires français bientôt équipés de nou...   \n",
       "\n",
       "                                                 url  \n",
       "0  https://www.20minutes.fr/societe/2688687-20200...  \n",
       "1  https://www.20minutes.fr/economie/2688591-2020...  \n",
       "2  https://www.20minutes.fr/societe/2688635-20200...  \n",
       "3  https://www.20minutes.fr/paris/2688579-2020010...  \n",
       "4  https://www.20minutes.fr/societe/2688671-20200...  "
      ]
     },
     "execution_count": 229,
     "metadata": {},
     "output_type": "execute_result"
    }
   ],
   "source": [
    "df_vingtmin_soc.head()"
   ]
  },
  {
   "cell_type": "code",
   "execution_count": 230,
   "metadata": {},
   "outputs": [
    {
     "data": {
      "text/plain": [
       "(300, 8)"
      ]
     },
     "execution_count": 230,
     "metadata": {},
     "output_type": "execute_result"
    }
   ],
   "source": [
    "df_vingtmin_soc.shape"
   ]
  },
  {
   "cell_type": "code",
   "execution_count": 231,
   "metadata": {},
   "outputs": [
    {
     "data": {
      "text/plain": [
       "5"
      ]
     },
     "execution_count": 231,
     "metadata": {},
     "output_type": "execute_result"
    }
   ],
   "source": [
    "df_vingtmin_soc[df_vingtmin_soc[\"body\"].isna()].shape[0]"
   ]
  },
  {
   "cell_type": "markdown",
   "metadata": {},
   "source": [
    "## Export True news Results"
   ]
  },
  {
   "cell_type": "markdown",
   "metadata": {},
   "source": [
    "### Contatenate"
   ]
  },
  {
   "cell_type": "code",
   "execution_count": 232,
   "metadata": {},
   "outputs": [
    {
     "data": {
      "text/plain": [
       "(300, 8)"
      ]
     },
     "execution_count": 232,
     "metadata": {},
     "output_type": "execute_result"
    }
   ],
   "source": [
    "df_vingtmin_pol = pd.read_json(PATH_NEWS_20MINUTES)\n",
    "df_vingtmin_pol.shape"
   ]
  },
  {
   "cell_type": "code",
   "execution_count": 233,
   "metadata": {},
   "outputs": [
    {
     "data": {
      "text/plain": [
       "(300, 8)"
      ]
     },
     "execution_count": 233,
     "metadata": {},
     "output_type": "execute_result"
    }
   ],
   "source": [
    "df_vingtmin_soc = pd.read_json(PATH_NEWS_20MINUTES_SOC)\n",
    "df_vingtmin_soc[\"theme\"] = 'societe'\n",
    "df_vingtmin_soc.shape"
   ]
  },
  {
   "cell_type": "code",
   "execution_count": 234,
   "metadata": {},
   "outputs": [
    {
     "data": {
      "text/plain": [
       "(600, 8)"
      ]
     },
     "execution_count": 234,
     "metadata": {},
     "output_type": "execute_result"
    }
   ],
   "source": [
    "import pandas as pd\n",
    "\n",
    "df_vingtmin = pd.concat([df_vingtmin_pol, df_vingtmin_soc], \n",
    "                        ignore_index=True)\n",
    "df_vingtmin.shape"
   ]
  },
  {
   "cell_type": "code",
   "execution_count": 235,
   "metadata": {},
   "outputs": [
    {
     "data": {
      "text/html": [
       "<div>\n",
       "<style scoped>\n",
       "    .dataframe tbody tr th:only-of-type {\n",
       "        vertical-align: middle;\n",
       "    }\n",
       "\n",
       "    .dataframe tbody tr th {\n",
       "        vertical-align: top;\n",
       "    }\n",
       "\n",
       "    .dataframe thead th {\n",
       "        text-align: right;\n",
       "    }\n",
       "</style>\n",
       "<table border=\"1\" class=\"dataframe\">\n",
       "  <thead>\n",
       "    <tr style=\"text-align: right;\">\n",
       "      <th></th>\n",
       "      <th>author</th>\n",
       "      <th>body</th>\n",
       "      <th>date_published</th>\n",
       "      <th>description</th>\n",
       "      <th>source</th>\n",
       "      <th>theme</th>\n",
       "      <th>title</th>\n",
       "      <th>url</th>\n",
       "    </tr>\n",
       "  </thead>\n",
       "  <tbody>\n",
       "    <tr>\n",
       "      <th>0</th>\n",
       "      <td>20 Minutes avec AFP</td>\n",
       "      <td>Vous n’avez pas pu suivre en direct l'allocuti...</td>\n",
       "      <td>2019-12-31</td>\n",
       "      <td>Le président de la République a formulé ses tr...</td>\n",
       "      <td>20Minutes</td>\n",
       "      <td>politique</td>\n",
       "      <td>VIDEO. Réforme des retraites, Brexit, « unité ...</td>\n",
       "      <td>https://www.20minutes.fr/politique/2685183-201...</td>\n",
       "    </tr>\n",
       "    <tr>\n",
       "      <th>1</th>\n",
       "      <td>Nicolas Raffin</td>\n",
       "      <td>Pas de répit pour la réforme des retraites. Qu...</td>\n",
       "      <td>2020-01-02</td>\n",
       "      <td>Plusieurs temps forts sont prévus dans les pro...</td>\n",
       "      <td>20Minutes</td>\n",
       "      <td>politique</td>\n",
       "      <td>VIDEO. Réforme des retraites : Le calendrier c...</td>\n",
       "      <td>https://www.20minutes.fr/economie/2685975-2020...</td>\n",
       "    </tr>\n",
       "    <tr>\n",
       "      <th>2</th>\n",
       "      <td>20 Minutes avec AFP</td>\n",
       "      <td>La nomination du patron de la branche français...</td>\n",
       "      <td>2020-01-01</td>\n",
       "      <td>En plein conflit sur la réforme des retraites,...</td>\n",
       "      <td>20Minutes</td>\n",
       "      <td>politique</td>\n",
       "      <td>La Légion d’honneur accordée au patron de Blac...</td>\n",
       "      <td>https://www.20minutes.fr/societe/2685535-20200...</td>\n",
       "    </tr>\n",
       "    <tr>\n",
       "      <th>3</th>\n",
       "      <td>20 Minutes avec AFP</td>\n",
       "      <td>Une centaine de manifestants se sont réunis, c...</td>\n",
       "      <td>2020-01-02</td>\n",
       "      <td>Trois personnes ont été interpellées lors de l...</td>\n",
       "      <td>20Minutes</td>\n",
       "      <td>politique</td>\n",
       "      <td>Réforme des retraites : Manifestation devant l...</td>\n",
       "      <td>https://www.20minutes.fr/politique/2686003-202...</td>\n",
       "    </tr>\n",
       "    <tr>\n",
       "      <th>4</th>\n",
       "      <td>20 Minutes avec AFP</td>\n",
       "      <td>Emmanuel Macron va rester en « contact étroit ...</td>\n",
       "      <td>2020-01-03</td>\n",
       "      <td>L'un des principaux généraux du régime iranien...</td>\n",
       "      <td>20Minutes</td>\n",
       "      <td>politique</td>\n",
       "      <td>Mort de Soleimani : Emmanuel Macron veut « évi...</td>\n",
       "      <td>https://www.20minutes.fr/politique/2686623-202...</td>\n",
       "    </tr>\n",
       "  </tbody>\n",
       "</table>\n",
       "</div>"
      ],
      "text/plain": [
       "                author                                               body  \\\n",
       "0  20 Minutes avec AFP  Vous n’avez pas pu suivre en direct l'allocuti...   \n",
       "1       Nicolas Raffin  Pas de répit pour la réforme des retraites. Qu...   \n",
       "2  20 Minutes avec AFP  La nomination du patron de la branche français...   \n",
       "3  20 Minutes avec AFP  Une centaine de manifestants se sont réunis, c...   \n",
       "4  20 Minutes avec AFP  Emmanuel Macron va rester en « contact étroit ...   \n",
       "\n",
       "  date_published                                        description  \\\n",
       "0     2019-12-31  Le président de la République a formulé ses tr...   \n",
       "1     2020-01-02  Plusieurs temps forts sont prévus dans les pro...   \n",
       "2     2020-01-01  En plein conflit sur la réforme des retraites,...   \n",
       "3     2020-01-02  Trois personnes ont été interpellées lors de l...   \n",
       "4     2020-01-03  L'un des principaux généraux du régime iranien...   \n",
       "\n",
       "      source      theme                                              title  \\\n",
       "0  20Minutes  politique  VIDEO. Réforme des retraites, Brexit, « unité ...   \n",
       "1  20Minutes  politique  VIDEO. Réforme des retraites : Le calendrier c...   \n",
       "2  20Minutes  politique  La Légion d’honneur accordée au patron de Blac...   \n",
       "3  20Minutes  politique  Réforme des retraites : Manifestation devant l...   \n",
       "4  20Minutes  politique  Mort de Soleimani : Emmanuel Macron veut « évi...   \n",
       "\n",
       "                                                 url  \n",
       "0  https://www.20minutes.fr/politique/2685183-201...  \n",
       "1  https://www.20minutes.fr/economie/2685975-2020...  \n",
       "2  https://www.20minutes.fr/societe/2685535-20200...  \n",
       "3  https://www.20minutes.fr/politique/2686003-202...  \n",
       "4  https://www.20minutes.fr/politique/2686623-202...  "
      ]
     },
     "execution_count": 235,
     "metadata": {},
     "output_type": "execute_result"
    }
   ],
   "source": [
    "df_vingtmin.head()"
   ]
  },
  {
   "cell_type": "code",
   "execution_count": 236,
   "metadata": {},
   "outputs": [
    {
     "data": {
      "text/html": [
       "<div>\n",
       "<style scoped>\n",
       "    .dataframe tbody tr th:only-of-type {\n",
       "        vertical-align: middle;\n",
       "    }\n",
       "\n",
       "    .dataframe tbody tr th {\n",
       "        vertical-align: top;\n",
       "    }\n",
       "\n",
       "    .dataframe thead th {\n",
       "        text-align: right;\n",
       "    }\n",
       "</style>\n",
       "<table border=\"1\" class=\"dataframe\">\n",
       "  <thead>\n",
       "    <tr style=\"text-align: right;\">\n",
       "      <th></th>\n",
       "      <th>author</th>\n",
       "      <th>body</th>\n",
       "      <th>date_published</th>\n",
       "      <th>description</th>\n",
       "      <th>source</th>\n",
       "      <th>theme</th>\n",
       "      <th>title</th>\n",
       "      <th>url</th>\n",
       "    </tr>\n",
       "  </thead>\n",
       "  <tbody>\n",
       "    <tr>\n",
       "      <th>595</th>\n",
       "      <td>Caroline Girardon</td>\n",
       "      <td>Les premiers vélos en libre-service électrique...</td>\n",
       "      <td>2019-12-17</td>\n",
       "      <td>A la fin de l'année 2020, la métropole compter...</td>\n",
       "      <td>20Minutes</td>\n",
       "      <td>societe</td>\n",
       "      <td>Lyon : Les Vélo'V électriques débarquent au mo...</td>\n",
       "      <td>https://www.20minutes.fr/lyon/2676479-20191217...</td>\n",
       "    </tr>\n",
       "    <tr>\n",
       "      <th>596</th>\n",
       "      <td>20 Minutes avec AFP</td>\n",
       "      <td>Un sujet qui n'a pas fini de crisper parmi les...</td>\n",
       "      <td>2019-12-17</td>\n",
       "      <td>Alors que depuis juillet, le ministère de la S...</td>\n",
       "      <td>20Minutes</td>\n",
       "      <td>societe</td>\n",
       "      <td>Homéopathie : Le débat est tranché, mais les p...</td>\n",
       "      <td>https://www.20minutes.fr/sante/2677367-2019121...</td>\n",
       "    </tr>\n",
       "    <tr>\n",
       "      <th>597</th>\n",
       "      <td>O. G.</td>\n",
       "      <td>Les jours se suivent et se ressemblent… Le tra...</td>\n",
       "      <td>2019-12-17</td>\n",
       "      <td>Pour ce quatorzième jour de grève consécutif, ...</td>\n",
       "      <td>20Minutes</td>\n",
       "      <td>societe</td>\n",
       "      <td>Grève : Le trafic SNCF et RATP à nouveau très ...</td>\n",
       "      <td>https://www.20minutes.fr/societe/2677215-20191...</td>\n",
       "    </tr>\n",
       "    <tr>\n",
       "      <th>598</th>\n",
       "      <td>20 Minutes avec AFP</td>\n",
       "      <td>L’ancienne ministre (LR) Michèle Alliot-Marie ...</td>\n",
       "      <td>2019-12-17</td>\n",
       "      <td>L'ancienne ministre a attaqué une journaliste ...</td>\n",
       "      <td>20Minutes</td>\n",
       "      <td>societe</td>\n",
       "      <td>Michèle Alliot-Marie fait condamner une femme ...</td>\n",
       "      <td>https://www.20minutes.fr/societe/2677207-20191...</td>\n",
       "    </tr>\n",
       "    <tr>\n",
       "      <th>599</th>\n",
       "      <td>Elisa Frisullo</td>\n",
       "      <td>« Nous sommes face à un contentieux de masse q...</td>\n",
       "      <td>2019-12-17</td>\n",
       "      <td>Le procureur de la République de Lyon a détail...</td>\n",
       "      <td>20Minutes</td>\n",
       "      <td>societe</td>\n",
       "      <td>Lyon : Associations, forces de l'ordre et parq...</td>\n",
       "      <td>https://www.20minutes.fr/societe/2677139-20191...</td>\n",
       "    </tr>\n",
       "  </tbody>\n",
       "</table>\n",
       "</div>"
      ],
      "text/plain": [
       "                  author                                               body  \\\n",
       "595    Caroline Girardon  Les premiers vélos en libre-service électrique...   \n",
       "596  20 Minutes avec AFP  Un sujet qui n'a pas fini de crisper parmi les...   \n",
       "597                O. G.  Les jours se suivent et se ressemblent… Le tra...   \n",
       "598  20 Minutes avec AFP  L’ancienne ministre (LR) Michèle Alliot-Marie ...   \n",
       "599       Elisa Frisullo  « Nous sommes face à un contentieux de masse q...   \n",
       "\n",
       "    date_published                                        description  \\\n",
       "595     2019-12-17  A la fin de l'année 2020, la métropole compter...   \n",
       "596     2019-12-17  Alors que depuis juillet, le ministère de la S...   \n",
       "597     2019-12-17  Pour ce quatorzième jour de grève consécutif, ...   \n",
       "598     2019-12-17  L'ancienne ministre a attaqué une journaliste ...   \n",
       "599     2019-12-17  Le procureur de la République de Lyon a détail...   \n",
       "\n",
       "        source    theme                                              title  \\\n",
       "595  20Minutes  societe  Lyon : Les Vélo'V électriques débarquent au mo...   \n",
       "596  20Minutes  societe  Homéopathie : Le débat est tranché, mais les p...   \n",
       "597  20Minutes  societe  Grève : Le trafic SNCF et RATP à nouveau très ...   \n",
       "598  20Minutes  societe  Michèle Alliot-Marie fait condamner une femme ...   \n",
       "599  20Minutes  societe  Lyon : Associations, forces de l'ordre et parq...   \n",
       "\n",
       "                                                   url  \n",
       "595  https://www.20minutes.fr/lyon/2676479-20191217...  \n",
       "596  https://www.20minutes.fr/sante/2677367-2019121...  \n",
       "597  https://www.20minutes.fr/societe/2677215-20191...  \n",
       "598  https://www.20minutes.fr/societe/2677207-20191...  \n",
       "599  https://www.20minutes.fr/societe/2677139-20191...  "
      ]
     },
     "execution_count": 236,
     "metadata": {},
     "output_type": "execute_result"
    }
   ],
   "source": [
    "df_vingtmin.tail()"
   ]
  },
  {
   "cell_type": "code",
   "execution_count": null,
   "metadata": {},
   "outputs": [],
   "source": []
  },
  {
   "cell_type": "markdown",
   "metadata": {},
   "source": [
    "### Clean results"
   ]
  },
  {
   "cell_type": "markdown",
   "metadata": {},
   "source": [
    "#### Delete NaN body"
   ]
  },
  {
   "cell_type": "code",
   "execution_count": 237,
   "metadata": {},
   "outputs": [
    {
     "data": {
      "text/plain": [
       "8"
      ]
     },
     "execution_count": 237,
     "metadata": {},
     "output_type": "execute_result"
    }
   ],
   "source": [
    "df_vingtmin[df_vingtmin[\"body\"].isna()].shape[0]"
   ]
  },
  {
   "cell_type": "code",
   "execution_count": 238,
   "metadata": {},
   "outputs": [],
   "source": [
    "df_vingtmin.dropna(subset=['body'], inplace=True)"
   ]
  },
  {
   "cell_type": "code",
   "execution_count": 239,
   "metadata": {},
   "outputs": [
    {
     "data": {
      "text/plain": [
       "0"
      ]
     },
     "execution_count": 239,
     "metadata": {},
     "output_type": "execute_result"
    }
   ],
   "source": [
    "df_vingtmin[df_vingtmin[\"body\"].isna()].shape[0]"
   ]
  },
  {
   "cell_type": "code",
   "execution_count": 240,
   "metadata": {},
   "outputs": [
    {
     "data": {
      "text/plain": [
       "592"
      ]
     },
     "execution_count": 240,
     "metadata": {},
     "output_type": "execute_result"
    }
   ],
   "source": [
    "df_vingtmin.shape[0]"
   ]
  },
  {
   "cell_type": "markdown",
   "metadata": {},
   "source": [
    "#### Drop duplicate body"
   ]
  },
  {
   "cell_type": "code",
   "execution_count": 241,
   "metadata": {},
   "outputs": [
    {
     "data": {
      "text/plain": [
       "585"
      ]
     },
     "execution_count": 241,
     "metadata": {},
     "output_type": "execute_result"
    }
   ],
   "source": [
    "df_vingtmin[\"body\"].nunique()"
   ]
  },
  {
   "cell_type": "code",
   "execution_count": 242,
   "metadata": {},
   "outputs": [
    {
     "data": {
      "text/plain": [
       "585"
      ]
     },
     "execution_count": 242,
     "metadata": {},
     "output_type": "execute_result"
    }
   ],
   "source": [
    "df_vingtmin[\"url\"].nunique()"
   ]
  },
  {
   "cell_type": "code",
   "execution_count": 243,
   "metadata": {},
   "outputs": [],
   "source": [
    "df_vingtmin.drop_duplicates(subset=\"body\", inplace=True)"
   ]
  },
  {
   "cell_type": "code",
   "execution_count": 244,
   "metadata": {},
   "outputs": [
    {
     "data": {
      "text/plain": [
       "585"
      ]
     },
     "execution_count": 244,
     "metadata": {},
     "output_type": "execute_result"
    }
   ],
   "source": [
    "df_vingtmin.shape[0]"
   ]
  },
  {
   "cell_type": "code",
   "execution_count": 245,
   "metadata": {},
   "outputs": [
    {
     "data": {
      "text/plain": [
       "585"
      ]
     },
     "execution_count": 245,
     "metadata": {},
     "output_type": "execute_result"
    }
   ],
   "source": [
    "df_vingtmin[\"url\"].nunique()"
   ]
  },
  {
   "cell_type": "code",
   "execution_count": 246,
   "metadata": {},
   "outputs": [
    {
     "data": {
      "text/plain": [
       "585"
      ]
     },
     "execution_count": 246,
     "metadata": {},
     "output_type": "execute_result"
    }
   ],
   "source": [
    "df_vingtmin[\"body\"].nunique()"
   ]
  },
  {
   "cell_type": "markdown",
   "metadata": {},
   "source": [
    "#### delete useless special text patterns"
   ]
  },
  {
   "cell_type": "code",
   "execution_count": 247,
   "metadata": {},
   "outputs": [
    {
     "data": {
      "text/plain": [
       "-1    585\n",
       "Name: body, dtype: int64"
      ]
     },
     "execution_count": 247,
     "metadata": {},
     "output_type": "execute_result"
    }
   ],
   "source": [
    "# check \n",
    "df_vingtmin[\"body\"].str.find(u'\\xa0').value_counts()"
   ]
  },
  {
   "cell_type": "code",
   "execution_count": 248,
   "metadata": {},
   "outputs": [
    {
     "data": {
      "text/plain": [
       "\"Vous n’avez pas pu suivre en direct l'allocution du président de la République ? Pas de stress, 20 Minutes vous offre une séance de rattrapage. Alors, que faut-il retenir du traditionnel discours de vœux adressés aux Français d' \\r\\nEmmanuel Macron ? Le chef d’Etat était attendu sur le sujet des retraites. Eh bien, Emmanuel Macron a réaffirmé sa détermination à « mener à bien la réforme des retraites », tout en pressant le gouvernement de « trouver un compromis rapide », alors que la grève entre mercredi dans son 28e jour. « Je mesure combien les décisions prises peuvent heurter et susciter des craintes et des oppositions, a reconnu le président, sur un ton sobre. Faut-il pour autant renoncer à changer notre pays, notre quotidien ? Non. Car ce serait abandonner ceux que le système a déjà abandonnés, ce serait trahir nos enfants, leurs enfants après eux, qui alors, auraient à payer le prix de nos renoncements. C’est pour cela que la réforme des retraites sera menée à son terme. » Emmanuel Macron n’a pas mentionné l’âge pivot, dont la CFDT a fait une « ligne rouge », malgré l’appel d’une quinzaine de députés de la majorité dans une tribune de presse mardi. Il a en revanche conforté une ouverture sur un autre sujet défendu par la CFDT : la question de la pénibilité, promettant de prendre « en compte les tâches difficiles pour permettre à ceux qui les exercent de partir plus tôt sans que cela soit lié à un statut ou à une entreprise ». Le chef de l’Etat a plus globalement redit son engagement à « transformer le pays » malgré les contestations. Il a également promis d'« entamer la revalorisation et la transformation des carrières des enseignants, des professeurs, des soignants » et de « mener une politique ambitieuse pour l’hôpital », deux des secteurs où les contestations ont été les plus vives ces dernières semaines. Emmanuel Macron a promis mardi de maintenir entre la France et le Royaume-Uni une « relation solide » après le Brexit. Ainsi, dans son allocution, il a appelé à la construction « d’une Europe souveraine sur le plan de la défense, de la sécurité, du climat, du numérique », jugeant qu'« une Europe fière de son modèle démocratique alliant liberté et solidarité sera tout à la fois notre bouclier et notre porte-voix ». « A cet égard, la sortie du Royaume-Uni de l’Union européenne est une épreuve. J’œuvrerai pour maintenir entre nos deux pays une relation solide », a-t-il assuré. Il a annoncé de « nouvelles décisions ». Le président de la République a en effet affirmé mardi qu’il prendrait « dans les prochaines semaines » de « nouvelles décisions » contre « les forces qui minent l’unité nationale », dans une allusion au communautarisme. « Je vois trop de divisions au nom des origines, des religions, des intérêts » a affirmé le chef de l’Etat qui a assuré vouloir « lutter avec détermination contre les forces qui minent l’unité nationale », car « 2020 doit ouvrir la décennie de l’unité retrouvée de la nation ». « L’Etat et les services publics ont un rôle essentiel pour renforcer cette unité française », a ajouté Emmanuel Macron, alors que de vives polémiques sur la laïcité et le port du voile ont de nouveau secoué en 2019 les partis politiques et divisé le gouvernement. « Je sais en la matière pouvoir compter sur tous les élus », a ajouté le président, qui a adressé « une pensée chaleureuse pour les maires de France » qui sont « les piliers de la République, du quotidien, des territoires ». A l’approche des élections municipales en mars 2020, des voix se sont fait entendre depuis l’été pour réclamer l’interdiction de listes communautaristes, initiative à laquelle le chef de l’Etat est toutefois opposé. Ce dernier, qui avait appelé à « ne pas stigmatiser » les autorités du culte musulman, avait convoqué à l’automne le Conseil français du culte musulman (CFCM) à l’Elysée pour lui demander d’être plus offensif dans la lutte contre la radicalisation et l’islamisme politique.\""
      ]
     },
     "execution_count": 248,
     "metadata": {},
     "output_type": "execute_result"
    }
   ],
   "source": [
    "df_vingtmin.at[0, \"body\"]"
   ]
  },
  {
   "cell_type": "code",
   "execution_count": 249,
   "metadata": {},
   "outputs": [],
   "source": [
    "# Delete special text patterns\n",
    "# Body\n",
    "df_vingtmin[\"body\"] = df_vingtmin[\"body\"].str.replace(u'\\xa0', u' ')\n",
    "# Title\n",
    "df_vingtmin[\"title\"] = df_vingtmin[\"title\"].str.replace(u'\\xa0', u' ')\n",
    "# Description\n",
    "df_vingtmin[\"description\"] = df_vingtmin[\"description\"].str.replace(u'\\xa0', u' ')"
   ]
  },
  {
   "cell_type": "code",
   "execution_count": 250,
   "metadata": {},
   "outputs": [
    {
     "data": {
      "text/plain": [
       "-1    585\n",
       "Name: body, dtype: int64"
      ]
     },
     "execution_count": 250,
     "metadata": {},
     "output_type": "execute_result"
    }
   ],
   "source": [
    "# check\n",
    "df_vingtmin[\"body\"].str.find(u'\\xa0').value_counts()"
   ]
  },
  {
   "cell_type": "code",
   "execution_count": 251,
   "metadata": {},
   "outputs": [
    {
     "data": {
      "text/plain": [
       "-1    585\n",
       "Name: title, dtype: int64"
      ]
     },
     "execution_count": 251,
     "metadata": {},
     "output_type": "execute_result"
    }
   ],
   "source": [
    "# check\n",
    "df_vingtmin[\"title\"].str.find(u'\\xa0').value_counts()"
   ]
  },
  {
   "cell_type": "code",
   "execution_count": 252,
   "metadata": {},
   "outputs": [
    {
     "data": {
      "text/html": [
       "<div>\n",
       "<style scoped>\n",
       "    .dataframe tbody tr th:only-of-type {\n",
       "        vertical-align: middle;\n",
       "    }\n",
       "\n",
       "    .dataframe tbody tr th {\n",
       "        vertical-align: top;\n",
       "    }\n",
       "\n",
       "    .dataframe thead th {\n",
       "        text-align: right;\n",
       "    }\n",
       "</style>\n",
       "<table border=\"1\" class=\"dataframe\">\n",
       "  <thead>\n",
       "    <tr style=\"text-align: right;\">\n",
       "      <th></th>\n",
       "      <th>author</th>\n",
       "      <th>body</th>\n",
       "      <th>date_published</th>\n",
       "      <th>description</th>\n",
       "      <th>source</th>\n",
       "      <th>theme</th>\n",
       "      <th>title</th>\n",
       "      <th>url</th>\n",
       "    </tr>\n",
       "  </thead>\n",
       "  <tbody>\n",
       "    <tr>\n",
       "      <th>0</th>\n",
       "      <td>20 Minutes avec AFP</td>\n",
       "      <td>Vous n’avez pas pu suivre en direct l'allocuti...</td>\n",
       "      <td>2019-12-31</td>\n",
       "      <td>Le président de la République a formulé ses tr...</td>\n",
       "      <td>20Minutes</td>\n",
       "      <td>politique</td>\n",
       "      <td>VIDEO. Réforme des retraites, Brexit, « unité ...</td>\n",
       "      <td>https://www.20minutes.fr/politique/2685183-201...</td>\n",
       "    </tr>\n",
       "    <tr>\n",
       "      <th>1</th>\n",
       "      <td>Nicolas Raffin</td>\n",
       "      <td>Pas de répit pour la réforme des retraites. Qu...</td>\n",
       "      <td>2020-01-02</td>\n",
       "      <td>Plusieurs temps forts sont prévus dans les pro...</td>\n",
       "      <td>20Minutes</td>\n",
       "      <td>politique</td>\n",
       "      <td>VIDEO. Réforme des retraites : Le calendrier c...</td>\n",
       "      <td>https://www.20minutes.fr/economie/2685975-2020...</td>\n",
       "    </tr>\n",
       "    <tr>\n",
       "      <th>2</th>\n",
       "      <td>20 Minutes avec AFP</td>\n",
       "      <td>La nomination du patron de la branche français...</td>\n",
       "      <td>2020-01-01</td>\n",
       "      <td>En plein conflit sur la réforme des retraites,...</td>\n",
       "      <td>20Minutes</td>\n",
       "      <td>politique</td>\n",
       "      <td>La Légion d’honneur accordée au patron de Blac...</td>\n",
       "      <td>https://www.20minutes.fr/societe/2685535-20200...</td>\n",
       "    </tr>\n",
       "    <tr>\n",
       "      <th>3</th>\n",
       "      <td>20 Minutes avec AFP</td>\n",
       "      <td>Une centaine de manifestants se sont réunis, c...</td>\n",
       "      <td>2020-01-02</td>\n",
       "      <td>Trois personnes ont été interpellées lors de l...</td>\n",
       "      <td>20Minutes</td>\n",
       "      <td>politique</td>\n",
       "      <td>Réforme des retraites : Manifestation devant l...</td>\n",
       "      <td>https://www.20minutes.fr/politique/2686003-202...</td>\n",
       "    </tr>\n",
       "    <tr>\n",
       "      <th>4</th>\n",
       "      <td>20 Minutes avec AFP</td>\n",
       "      <td>Emmanuel Macron va rester en « contact étroit ...</td>\n",
       "      <td>2020-01-03</td>\n",
       "      <td>L'un des principaux généraux du régime iranien...</td>\n",
       "      <td>20Minutes</td>\n",
       "      <td>politique</td>\n",
       "      <td>Mort de Soleimani : Emmanuel Macron veut « évi...</td>\n",
       "      <td>https://www.20minutes.fr/politique/2686623-202...</td>\n",
       "    </tr>\n",
       "  </tbody>\n",
       "</table>\n",
       "</div>"
      ],
      "text/plain": [
       "                author                                               body  \\\n",
       "0  20 Minutes avec AFP  Vous n’avez pas pu suivre en direct l'allocuti...   \n",
       "1       Nicolas Raffin  Pas de répit pour la réforme des retraites. Qu...   \n",
       "2  20 Minutes avec AFP  La nomination du patron de la branche français...   \n",
       "3  20 Minutes avec AFP  Une centaine de manifestants se sont réunis, c...   \n",
       "4  20 Minutes avec AFP  Emmanuel Macron va rester en « contact étroit ...   \n",
       "\n",
       "  date_published                                        description  \\\n",
       "0     2019-12-31  Le président de la République a formulé ses tr...   \n",
       "1     2020-01-02  Plusieurs temps forts sont prévus dans les pro...   \n",
       "2     2020-01-01  En plein conflit sur la réforme des retraites,...   \n",
       "3     2020-01-02  Trois personnes ont été interpellées lors de l...   \n",
       "4     2020-01-03  L'un des principaux généraux du régime iranien...   \n",
       "\n",
       "      source      theme                                              title  \\\n",
       "0  20Minutes  politique  VIDEO. Réforme des retraites, Brexit, « unité ...   \n",
       "1  20Minutes  politique  VIDEO. Réforme des retraites : Le calendrier c...   \n",
       "2  20Minutes  politique  La Légion d’honneur accordée au patron de Blac...   \n",
       "3  20Minutes  politique  Réforme des retraites : Manifestation devant l...   \n",
       "4  20Minutes  politique  Mort de Soleimani : Emmanuel Macron veut « évi...   \n",
       "\n",
       "                                                 url  \n",
       "0  https://www.20minutes.fr/politique/2685183-201...  \n",
       "1  https://www.20minutes.fr/economie/2685975-2020...  \n",
       "2  https://www.20minutes.fr/societe/2685535-20200...  \n",
       "3  https://www.20minutes.fr/politique/2686003-202...  \n",
       "4  https://www.20minutes.fr/politique/2686623-202...  "
      ]
     },
     "execution_count": 252,
     "metadata": {},
     "output_type": "execute_result"
    }
   ],
   "source": [
    "df_vingtmin.head()"
   ]
  },
  {
   "cell_type": "markdown",
   "metadata": {},
   "source": [
    "### Output"
   ]
  },
  {
   "cell_type": "code",
   "execution_count": 253,
   "metadata": {},
   "outputs": [
    {
     "data": {
      "text/plain": [
       "'../../data/df_true_news.pkl'"
      ]
     },
     "execution_count": 253,
     "metadata": {},
     "output_type": "execute_result"
    }
   ],
   "source": [
    "PATH_DF_TRUE_NEWS = PATH_FOLDER_SAVE + '/df_true_news.pkl'\n",
    "PATH_DF_TRUE_NEWS"
   ]
  },
  {
   "cell_type": "markdown",
   "metadata": {},
   "source": [
    "#### Load True News"
   ]
  },
  {
   "cell_type": "code",
   "execution_count": 254,
   "metadata": {},
   "outputs": [
    {
     "data": {
      "text/html": [
       "<div>\n",
       "<style scoped>\n",
       "    .dataframe tbody tr th:only-of-type {\n",
       "        vertical-align: middle;\n",
       "    }\n",
       "\n",
       "    .dataframe tbody tr th {\n",
       "        vertical-align: top;\n",
       "    }\n",
       "\n",
       "    .dataframe thead th {\n",
       "        text-align: right;\n",
       "    }\n",
       "</style>\n",
       "<table border=\"1\" class=\"dataframe\">\n",
       "  <thead>\n",
       "    <tr style=\"text-align: right;\">\n",
       "      <th></th>\n",
       "      <th>url</th>\n",
       "      <th>source</th>\n",
       "      <th>author</th>\n",
       "      <th>title</th>\n",
       "      <th>theme</th>\n",
       "      <th>description</th>\n",
       "      <th>date_published</th>\n",
       "      <th>body</th>\n",
       "    </tr>\n",
       "  </thead>\n",
       "  <tbody>\n",
       "    <tr>\n",
       "      <th>0</th>\n",
       "      <td>https://www.telerama.fr/sortir/war-horse-a-la-...</td>\n",
       "      <td>Telerama</td>\n",
       "      <td></td>\n",
       "      <td>“War Horse” à la Seine musicale : un spectacle...</td>\n",
       "      <td>sortir</td>\n",
       "      <td>Admirablement scénographiée, la saga équine ad...</td>\n",
       "      <td>16/12/2019</td>\n",
       "      <td>Étrange qu’il ait fallu attendre douze ans pou...</td>\n",
       "    </tr>\n",
       "    <tr>\n",
       "      <th>1</th>\n",
       "      <td>https://www.liberation.fr/france/2019/12/15/le...</td>\n",
       "      <td>Liberation</td>\n",
       "      <td>Nathalie Raulin</td>\n",
       "      <td>Les chefs de service hospitaliers en appellent...</td>\n",
       "      <td>france</td>\n",
       "      <td>Jugeant très insuffisante la réponse du gouver...</td>\n",
       "      <td>15/12/2019</td>\n",
       "      <td>C’est une menace d’une démission collective qu...</td>\n",
       "    </tr>\n",
       "    <tr>\n",
       "      <th>2</th>\n",
       "      <td>https://www.futura-sciences.com/sante/actualit...</td>\n",
       "      <td>Futura Sciences</td>\n",
       "      <td>Futura avec Relaxnews</td>\n",
       "      <td>L'origine des comportements alimentaires ident...</td>\n",
       "      <td>sante</td>\n",
       "      <td>D'après une étude publiée dans la revue</td>\n",
       "      <td>16/12/2019</td>\n",
       "      <td>D'après une étude publiée dans la revue  Natur...</td>\n",
       "    </tr>\n",
       "    <tr>\n",
       "      <th>3</th>\n",
       "      <td>https://www.futura-sciences.com/tech/actualite...</td>\n",
       "      <td>Futura Sciences</td>\n",
       "      <td>Louis Neveu</td>\n",
       "      <td>Microsoft alerte sur de nouvelles techniques d...</td>\n",
       "      <td>tech</td>\n",
       "      <td>Le géant de l'informatique Microsoft vient de ...</td>\n",
       "      <td>16/12/2019</td>\n",
       "      <td>Le géant de l'informatique Microsoft vient de ...</td>\n",
       "    </tr>\n",
       "    <tr>\n",
       "      <th>4</th>\n",
       "      <td>https://www.futura-sciences.com/sciences/actua...</td>\n",
       "      <td>Futura Sciences</td>\n",
       "      <td>Rémy Decourt</td>\n",
       "      <td>L'Europe se dote d'une infrastructure de téléc...</td>\n",
       "      <td>sciences</td>\n",
       "      <td>Pour garantir la sécurité de la libre circulat...</td>\n",
       "      <td>16/12/2019</td>\n",
       "      <td>Pour garantir la sécurité de la libre circulat...</td>\n",
       "    </tr>\n",
       "  </tbody>\n",
       "</table>\n",
       "</div>"
      ],
      "text/plain": [
       "                                                 url           source  \\\n",
       "0  https://www.telerama.fr/sortir/war-horse-a-la-...         Telerama   \n",
       "1  https://www.liberation.fr/france/2019/12/15/le...       Liberation   \n",
       "2  https://www.futura-sciences.com/sante/actualit...  Futura Sciences   \n",
       "3  https://www.futura-sciences.com/tech/actualite...  Futura Sciences   \n",
       "4  https://www.futura-sciences.com/sciences/actua...  Futura Sciences   \n",
       "\n",
       "                  author                                              title  \\\n",
       "0                         “War Horse” à la Seine musicale : un spectacle...   \n",
       "1        Nathalie Raulin  Les chefs de service hospitaliers en appellent...   \n",
       "2  Futura avec Relaxnews  L'origine des comportements alimentaires ident...   \n",
       "3            Louis Neveu  Microsoft alerte sur de nouvelles techniques d...   \n",
       "4           Rémy Decourt  L'Europe se dote d'une infrastructure de téléc...   \n",
       "\n",
       "      theme                                        description date_published  \\\n",
       "0    sortir  Admirablement scénographiée, la saga équine ad...     16/12/2019   \n",
       "1    france  Jugeant très insuffisante la réponse du gouver...     15/12/2019   \n",
       "2     sante           D'après une étude publiée dans la revue      16/12/2019   \n",
       "3      tech  Le géant de l'informatique Microsoft vient de ...     16/12/2019   \n",
       "4  sciences  Pour garantir la sécurité de la libre circulat...     16/12/2019   \n",
       "\n",
       "                                                body  \n",
       "0  Étrange qu’il ait fallu attendre douze ans pou...  \n",
       "1  C’est une menace d’une démission collective qu...  \n",
       "2  D'après une étude publiée dans la revue  Natur...  \n",
       "3  Le géant de l'informatique Microsoft vient de ...  \n",
       "4  Pour garantir la sécurité de la libre circulat...  "
      ]
     },
     "execution_count": 254,
     "metadata": {},
     "output_type": "execute_result"
    }
   ],
   "source": [
    "df_true = joblib.load(PATH_DF_TRUE_NEWS)\n",
    "df_true = df_true.filter(items=[\"url\", \"source\", \"author\", \"title\", \"theme\", \n",
    "                      \"description\", \"date_published\", \"body\"])\n",
    "df_true.head()"
   ]
  },
  {
   "cell_type": "markdown",
   "metadata": {},
   "source": [
    "#### Concatenate"
   ]
  },
  {
   "cell_type": "code",
   "execution_count": 255,
   "metadata": {},
   "outputs": [
    {
     "data": {
      "text/html": [
       "<div>\n",
       "<style scoped>\n",
       "    .dataframe tbody tr th:only-of-type {\n",
       "        vertical-align: middle;\n",
       "    }\n",
       "\n",
       "    .dataframe tbody tr th {\n",
       "        vertical-align: top;\n",
       "    }\n",
       "\n",
       "    .dataframe thead th {\n",
       "        text-align: right;\n",
       "    }\n",
       "</style>\n",
       "<table border=\"1\" class=\"dataframe\">\n",
       "  <thead>\n",
       "    <tr style=\"text-align: right;\">\n",
       "      <th></th>\n",
       "      <th>url</th>\n",
       "      <th>source</th>\n",
       "      <th>author</th>\n",
       "      <th>title</th>\n",
       "      <th>theme</th>\n",
       "      <th>description</th>\n",
       "      <th>date_published</th>\n",
       "      <th>body</th>\n",
       "    </tr>\n",
       "  </thead>\n",
       "  <tbody>\n",
       "    <tr>\n",
       "      <th>1754</th>\n",
       "      <td>https://www.20minutes.fr/lyon/2676479-20191217...</td>\n",
       "      <td>20Minutes</td>\n",
       "      <td>Caroline Girardon</td>\n",
       "      <td>Lyon : Les Vélo'V électriques débarquent au mo...</td>\n",
       "      <td>societe</td>\n",
       "      <td>A la fin de l'année 2020, la métropole compter...</td>\n",
       "      <td>2019-12-17</td>\n",
       "      <td>Les premiers vélos en libre-service électrique...</td>\n",
       "    </tr>\n",
       "    <tr>\n",
       "      <th>1755</th>\n",
       "      <td>https://www.20minutes.fr/sante/2677367-2019121...</td>\n",
       "      <td>20Minutes</td>\n",
       "      <td>20 Minutes avec AFP</td>\n",
       "      <td>Homéopathie : Le débat est tranché, mais les p...</td>\n",
       "      <td>societe</td>\n",
       "      <td>Alors que depuis juillet, le ministère de la S...</td>\n",
       "      <td>2019-12-17</td>\n",
       "      <td>Un sujet qui n'a pas fini de crisper parmi les...</td>\n",
       "    </tr>\n",
       "    <tr>\n",
       "      <th>1756</th>\n",
       "      <td>https://www.20minutes.fr/societe/2677215-20191...</td>\n",
       "      <td>20Minutes</td>\n",
       "      <td>O. G.</td>\n",
       "      <td>Grève : Le trafic SNCF et RATP à nouveau très ...</td>\n",
       "      <td>societe</td>\n",
       "      <td>Pour ce quatorzième jour de grève consécutif, ...</td>\n",
       "      <td>2019-12-17</td>\n",
       "      <td>Les jours se suivent et se ressemblent… Le tra...</td>\n",
       "    </tr>\n",
       "    <tr>\n",
       "      <th>1757</th>\n",
       "      <td>https://www.20minutes.fr/societe/2677207-20191...</td>\n",
       "      <td>20Minutes</td>\n",
       "      <td>20 Minutes avec AFP</td>\n",
       "      <td>Michèle Alliot-Marie fait condamner une femme ...</td>\n",
       "      <td>societe</td>\n",
       "      <td>L'ancienne ministre a attaqué une journaliste ...</td>\n",
       "      <td>2019-12-17</td>\n",
       "      <td>L’ancienne ministre (LR) Michèle Alliot-Marie ...</td>\n",
       "    </tr>\n",
       "    <tr>\n",
       "      <th>1758</th>\n",
       "      <td>https://www.20minutes.fr/societe/2677139-20191...</td>\n",
       "      <td>20Minutes</td>\n",
       "      <td>Elisa Frisullo</td>\n",
       "      <td>Lyon : Associations, forces de l'ordre et parq...</td>\n",
       "      <td>societe</td>\n",
       "      <td>Le procureur de la République de Lyon a détail...</td>\n",
       "      <td>2019-12-17</td>\n",
       "      <td>« Nous sommes face à un contentieux de masse q...</td>\n",
       "    </tr>\n",
       "  </tbody>\n",
       "</table>\n",
       "</div>"
      ],
      "text/plain": [
       "                                                    url     source  \\\n",
       "1754  https://www.20minutes.fr/lyon/2676479-20191217...  20Minutes   \n",
       "1755  https://www.20minutes.fr/sante/2677367-2019121...  20Minutes   \n",
       "1756  https://www.20minutes.fr/societe/2677215-20191...  20Minutes   \n",
       "1757  https://www.20minutes.fr/societe/2677207-20191...  20Minutes   \n",
       "1758  https://www.20minutes.fr/societe/2677139-20191...  20Minutes   \n",
       "\n",
       "                   author                                              title  \\\n",
       "1754    Caroline Girardon  Lyon : Les Vélo'V électriques débarquent au mo...   \n",
       "1755  20 Minutes avec AFP  Homéopathie : Le débat est tranché, mais les p...   \n",
       "1756                O. G.  Grève : Le trafic SNCF et RATP à nouveau très ...   \n",
       "1757  20 Minutes avec AFP  Michèle Alliot-Marie fait condamner une femme ...   \n",
       "1758       Elisa Frisullo  Lyon : Associations, forces de l'ordre et parq...   \n",
       "\n",
       "        theme                                        description  \\\n",
       "1754  societe  A la fin de l'année 2020, la métropole compter...   \n",
       "1755  societe  Alors que depuis juillet, le ministère de la S...   \n",
       "1756  societe  Pour ce quatorzième jour de grève consécutif, ...   \n",
       "1757  societe  L'ancienne ministre a attaqué une journaliste ...   \n",
       "1758  societe  Le procureur de la République de Lyon a détail...   \n",
       "\n",
       "     date_published                                               body  \n",
       "1754     2019-12-17  Les premiers vélos en libre-service électrique...  \n",
       "1755     2019-12-17  Un sujet qui n'a pas fini de crisper parmi les...  \n",
       "1756     2019-12-17  Les jours se suivent et se ressemblent… Le tra...  \n",
       "1757     2019-12-17  L’ancienne ministre (LR) Michèle Alliot-Marie ...  \n",
       "1758     2019-12-17  « Nous sommes face à un contentieux de masse q...  "
      ]
     },
     "execution_count": 255,
     "metadata": {},
     "output_type": "execute_result"
    }
   ],
   "source": [
    "df_true = pd.concat([df_true, df_vingtmin], ignore_index=True, sort=False)\n",
    "df_true.tail()"
   ]
  },
  {
   "cell_type": "markdown",
   "metadata": {},
   "source": [
    "#### Drop duplicates"
   ]
  },
  {
   "cell_type": "code",
   "execution_count": 256,
   "metadata": {},
   "outputs": [
    {
     "data": {
      "text/plain": [
       "(1759, 8)"
      ]
     },
     "execution_count": 256,
     "metadata": {},
     "output_type": "execute_result"
    }
   ],
   "source": [
    "df_true.shape"
   ]
  },
  {
   "cell_type": "code",
   "execution_count": 257,
   "metadata": {},
   "outputs": [],
   "source": [
    "df_true.drop_duplicates(subset=\"body\", inplace=True)"
   ]
  },
  {
   "cell_type": "code",
   "execution_count": 258,
   "metadata": {},
   "outputs": [
    {
     "data": {
      "text/plain": [
       "(1462, 8)"
      ]
     },
     "execution_count": 258,
     "metadata": {},
     "output_type": "execute_result"
    }
   ],
   "source": [
    "df_true.shape"
   ]
  },
  {
   "cell_type": "markdown",
   "metadata": {},
   "source": [
    "#### Save results"
   ]
  },
  {
   "cell_type": "code",
   "execution_count": 259,
   "metadata": {},
   "outputs": [
    {
     "name": "stdout",
     "output_type": "stream",
     "text": [
      "df Saved here:\n",
      "../../data/df_true_news.pkl\n"
     ]
    }
   ],
   "source": [
    "# save results\n",
    "joblib.dump(df_true, PATH_DF_TRUE_NEWS, compress=True)\n",
    "print(\"df Saved here:\\n\" + PATH_DF_TRUE_NEWS)"
   ]
  },
  {
   "cell_type": "code",
   "execution_count": null,
   "metadata": {},
   "outputs": [],
   "source": []
  }
 ],
 "metadata": {
  "kernelspec": {
   "display_name": "Python 3",
   "language": "python",
   "name": "python3"
  },
  "language_info": {
   "codemirror_mode": {
    "name": "ipython",
    "version": 3
   },
   "file_extension": ".py",
   "mimetype": "text/x-python",
   "name": "python",
   "nbconvert_exporter": "python",
   "pygments_lexer": "ipython3",
   "version": "3.7.1"
  },
  "toc": {
   "base_numbering": 1,
   "nav_menu": {},
   "number_sections": true,
   "sideBar": true,
   "skip_h1_title": false,
   "title_cell": "Table of Contents",
   "title_sidebar": "Contents",
   "toc_cell": false,
   "toc_position": {
    "height": "calc(100% - 180px)",
    "left": "10px",
    "top": "150px",
    "width": "256px"
   },
   "toc_section_display": true,
   "toc_window_display": true
  }
 },
 "nbformat": 4,
 "nbformat_minor": 2
}
