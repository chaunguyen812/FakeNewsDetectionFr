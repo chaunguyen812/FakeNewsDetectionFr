{
 "cells": [
  {
   "cell_type": "markdown",
   "metadata": {},
   "source": [
    "# Scraping French Fake News\n",
    "\n",
    "This notebook use scrapy classes to retrieve latest news content from :\n",
    "- Le Gorafi (societe, politique)\n",
    "- Nord Presse.be (France)\n",
    "- BuzzBeed\n",
    "\n",
    "2 possible sources : \n",
    "- pages links and next page \n",
    "- RSS feed"
   ]
  },
  {
   "cell_type": "markdown",
   "metadata": {},
   "source": [
    "## Helper functions"
   ]
  },
  {
   "cell_type": "markdown",
   "metadata": {},
   "source": [
    "### clean_file : Save older scaping result"
   ]
  },
  {
   "cell_type": "code",
   "execution_count": 1,
   "metadata": {},
   "outputs": [],
   "source": [
    "# save before scraping\n",
    "\n",
    "import shutil\n",
    "# importing os module\n",
    "import os\n",
    "# import datetime module\n",
    "import datetime\n",
    "\n",
    "\n",
    "def clean_file(path_file_name):\n",
    "    '''\n",
    "    Clean file already traited : rename file with date\n",
    "    '''\n",
    "    try:\n",
    "        d = datetime.datetime.now()\n",
    "        str_date = '_' + d.strftime(\"%Y%m%d_%H_%M_%S\")\n",
    "        res_re = re.search('\\.\\w+$',path_file_name)\n",
    "        path_file_name_saved = \\\n",
    "            path_file_name[0:res_re.start()] + str_date + res_re.group(0)\n",
    "            \n",
    "        shutil.move(path_file_name, path_file_name_saved) \n",
    "        print('File {} moved!'.format(path_file_name_saved))\n",
    "    except:\n",
    "        print('File {} does not exist!'.format(path_file_name))\n",
    "        \n"
   ]
  },
  {
   "cell_type": "markdown",
   "metadata": {},
   "source": [
    "### run_spider : running spider several times "
   ]
  },
  {
   "cell_type": "code",
   "execution_count": 2,
   "metadata": {},
   "outputs": [],
   "source": [
    "import scrapy\n",
    "import scrapy.crawler as crawler\n",
    "from multiprocessing import Process, Queue\n",
    "from twisted.internet import reactor\n",
    "\n",
    "# the wrapper to make it run more times\n",
    "def run_spider(spider):\n",
    "    '''\n",
    "    function to run several times scraping process\n",
    "    '''\n",
    "    def f(q):\n",
    "        try:\n",
    "            runner = crawler.CrawlerRunner()\n",
    "            deferred = runner.crawl(spider)\n",
    "            deferred.addBoth(lambda _: reactor.stop())\n",
    "            reactor.run()\n",
    "            q.put(None)\n",
    "        except Exception as e:\n",
    "            q.put(e)\n",
    "\n",
    "    q = Queue()\n",
    "    p = Process(target=f, args=(q,))\n",
    "    p.start()\n",
    "    result = q.get()\n",
    "    p.join()\n",
    "\n",
    "    if result is not None:\n",
    "        raise result"
   ]
  },
  {
   "cell_type": "markdown",
   "metadata": {},
   "source": [
    "## Scraping Legorafi"
   ]
  },
  {
   "cell_type": "markdown",
   "metadata": {},
   "source": [
    "### Class definitions"
   ]
  },
  {
   "cell_type": "code",
   "execution_count": 3,
   "metadata": {},
   "outputs": [],
   "source": [
    "import scrapy\n",
    "from scrapy.loader import ItemLoader\n",
    "from scrapy.loader.processors import MapCompose, Join, TakeFirst\n",
    "from w3lib.html import remove_tags\n",
    "\n",
    "class GorafiItem(scrapy.Item):\n",
    "    '''\n",
    "    Class item to declare different information to scrap\n",
    "    and how to process (as input or output)\n",
    "    '''\n",
    "    # define the fields for your item here like:\n",
    "    url = scrapy.Field(output_processor=TakeFirst())\n",
    "    \n",
    "    source = scrapy.Field(output_processor=TakeFirst())\n",
    "    \n",
    "    author = scrapy.Field(\n",
    "        input_processor=MapCompose(remove_tags),\n",
    "        output_processor=TakeFirst()\n",
    "    )\n",
    "    \n",
    "    title = scrapy.Field(\n",
    "        input_processor=MapCompose(remove_tags),\n",
    "        output_processor=TakeFirst()\n",
    "    )\n",
    "    \n",
    "    theme = scrapy.Field(\n",
    "        input_processor=MapCompose(remove_tags),\n",
    "        output_processor=TakeFirst()\n",
    "    )\n",
    "    \n",
    "    date_published = scrapy.Field(\n",
    "        input_processor=MapCompose(remove_tags),\n",
    "        output_processor=TakeFirst()\n",
    "    )\n",
    "    \n",
    "    description = scrapy.Field(\n",
    "        input_processor=MapCompose(remove_tags),\n",
    "        output_processor=TakeFirst()\n",
    "    )\n",
    "    \n",
    "    body = scrapy.Field(\n",
    "        input_processor=MapCompose(remove_tags),\n",
    "        output_processor=Join()\n",
    "    )"
   ]
  },
  {
   "cell_type": "code",
   "execution_count": 4,
   "metadata": {},
   "outputs": [],
   "source": [
    "class GorafiSpider(scrapy.Spider):\n",
    "    '''\n",
    "    Spider to scrap over Le Gorafi webpages : \n",
    "    - how to find information for scraping\n",
    "    - which field names to store\n",
    "    '''\n",
    "    # Your spider definition\n",
    "    name = 'news_gorafi_spider'\n",
    "    # output definition :\n",
    "    custom_settings = {\n",
    "      'FEED_FORMAT': 'json',\n",
    "      'FEED_URI': 'items_gorafi.json'\n",
    "  }\n",
    "    # urls to scrap\n",
    "    start_urls = [\n",
    "        'http://www.legorafi.fr/2019/12/17/psycho-comment-guerir-dun-chagrin-damour-en-donnant-tout-son-argent-au-gorafi/'\n",
    "    ]\n",
    "\n",
    "    def parse(self, response):\n",
    "        '''\n",
    "        Parse definition with xpath which define all patterns to use\n",
    "        for retrieve information into HTML strings\n",
    "        '''\n",
    "        #url\tsource\tauthor\ttitle\ttheme\tdescription\tdate_published\tbody   \n",
    "        l = ItemLoader(item=GorafiItem(), selector=response)\n",
    "        \n",
    "        l.add_value('url', response.url)\n",
    "        \n",
    "        l.add_value('source', \"LeGorafi\")\n",
    "        \n",
    "        l.add_xpath('author', \n",
    "            \"//section[@class='metas container']/span[@class='context']/a\")\n",
    "        \n",
    "        l.add_xpath(\"title\", \"//h1\")\n",
    "        \n",
    "        l.add_xpath(\"theme\", \"//a[@rel='category tag']\")\n",
    "        \n",
    "        l.add_xpath(\"description\", \".//div[@class='intro']/p\")\n",
    "        \n",
    "        l.add_xpath(\"date_published\", \n",
    "            \"//section[@class='metas container']/span[@class='context']\",\n",
    "            re=\"[0-9]+/[0-9]+/[0-9]+\")\n",
    "       \n",
    "        l.add_xpath(\"body\", \"//div[@class='content']/p\")\n",
    "        \n",
    "        yield l.load_item()"
   ]
  },
  {
   "cell_type": "code",
   "execution_count": 5,
   "metadata": {},
   "outputs": [],
   "source": [
    "import scrapy\n",
    "\n",
    "class GorafiRssSpider(scrapy.Spider):\n",
    "    '''\n",
    "    Class Spider for retrieving all links to news webpages from Le Gorafi RSS\n",
    "    '''\n",
    "    name = \"gorafi_rss\"\n",
    "    \n",
    "    custom_settings = {\n",
    "      'FEED_FORMAT': 'json',\n",
    "      'FEED_URI': 'gorafi_rss.json'\n",
    "    }\n",
    "    \n",
    "    def start_requests(self):\n",
    "        urls = [\n",
    "                'http://www.legorafi.fr/feed/',\n",
    "        ]\n",
    "        for url in urls:\n",
    "            yield scrapy.Request(url=url, callback=self.parse)\n",
    "     \n",
    "    def parse(self, response):\n",
    "        for post in response.xpath('//channel/item'):\n",
    "            yield {\n",
    "                'title' : post.xpath('title//text()').extract_first(),\n",
    "                'link': post.xpath('link//text()').extract_first(),\n",
    "                'pubDate' : post.xpath('pubDate//text()').extract_first(),\n",
    "            }\n"
   ]
  },
  {
   "cell_type": "code",
   "execution_count": 6,
   "metadata": {},
   "outputs": [],
   "source": [
    "import scrapy\n",
    "import re\n",
    "\n",
    "class GorafiPageSpider(scrapy.Spider):\n",
    "    '''\n",
    "    Spider to scrap all Le Gorafi pages from selected category\n",
    "    Configure : \n",
    "    - GorafiPageSpider.custom_settings : save location \n",
    "    - num_max_pages : the number of next page to scrap\n",
    "    - url_first_page : web page to start with\n",
    "    '''\n",
    "    name = \"gorafi_page\"\n",
    "    \n",
    "    custom_settings = {\n",
    "      'FEED_FORMAT': 'json',\n",
    "      'FEED_URI': 'pages_gorafi.json'\n",
    "    }\n",
    "    \n",
    "    num_max_pages = 1\n",
    "    \n",
    "    url_first_page = 'http://www.legorafi.fr/category/france/societe/'\n",
    "    \n",
    "    def start_requests(self):\n",
    "        urls = [\n",
    "                self.url_first_page,\n",
    "        ]\n",
    "        for url in urls:\n",
    "            yield scrapy.Request(url=url, callback=self.parse)\n",
    "    \n",
    "    def parse(self, response):\n",
    "        for post in response.xpath('//article/h2'):\n",
    "            yield {\n",
    "                'link': post.xpath('a/@href').extract_first()\n",
    "            }\n",
    "            \n",
    "        next_page = response.xpath(\n",
    "            '//a[@class=\"next page-numbers\"]/@href').get()\n",
    "        \n",
    "        if next_page is not None:\n",
    "            try:\n",
    "                num_next_page = int(re.search(\"(?<=/)\\d+(?=/$)\", \n",
    "                         next_page).group(0))\n",
    "                \n",
    "                if (num_next_page < self.num_max_pages):\n",
    "                    #next_page = response.urljoin(next_page)\n",
    "                    yield scrapy.Request(next_page, callback=self.parse)\n",
    "            except:\n",
    "                next_page = None\n",
    "                "
   ]
  },
  {
   "cell_type": "markdown",
   "metadata": {},
   "source": [
    "### Scraping RSS urls"
   ]
  },
  {
   "cell_type": "markdown",
   "metadata": {},
   "source": [
    "#### Definitions"
   ]
  },
  {
   "cell_type": "code",
   "execution_count": 8,
   "metadata": {},
   "outputs": [],
   "source": [
    "# path to results file for urls\n",
    "PATH_RSS_PAGES_GORAFI = '../../data/gorafi_rss_urls.json'\n",
    "# declare your data location for scraping rss links \n",
    "PATH_RSS_NEWS_GORAFI = '../../data/gorafi_rss_pages.json'"
   ]
  },
  {
   "cell_type": "markdown",
   "metadata": {},
   "source": [
    "#### Scraping urls links"
   ]
  },
  {
   "cell_type": "code",
   "execution_count": 9,
   "metadata": {},
   "outputs": [
    {
     "name": "stdout",
     "output_type": "stream",
     "text": [
      "File ../../data/gorafi_rss_urls.json does not exist!\n"
     ]
    }
   ],
   "source": [
    "# clean (move file if exist)\n",
    "clean_file(PATH_RSS_PAGES_GORAFI)"
   ]
  },
  {
   "cell_type": "code",
   "execution_count": 10,
   "metadata": {},
   "outputs": [],
   "source": [
    "# Configure spider\n",
    "GorafiRssSpider.custom_settings = {\n",
    "      'FEED_FORMAT': 'json',\n",
    "      'FEED_URI': PATH_RSS_PAGES_GORAFI\n",
    "}\n",
    "# scraping\n",
    "run_spider(GorafiRssSpider)"
   ]
  },
  {
   "cell_type": "code",
   "execution_count": 11,
   "metadata": {},
   "outputs": [
    {
     "data": {
      "text/html": [
       "<div>\n",
       "<style scoped>\n",
       "    .dataframe tbody tr th:only-of-type {\n",
       "        vertical-align: middle;\n",
       "    }\n",
       "\n",
       "    .dataframe tbody tr th {\n",
       "        vertical-align: top;\n",
       "    }\n",
       "\n",
       "    .dataframe thead th {\n",
       "        text-align: right;\n",
       "    }\n",
       "</style>\n",
       "<table border=\"1\" class=\"dataframe\">\n",
       "  <thead>\n",
       "    <tr style=\"text-align: right;\">\n",
       "      <th></th>\n",
       "      <th>link</th>\n",
       "      <th>pubDate</th>\n",
       "      <th>title</th>\n",
       "    </tr>\n",
       "  </thead>\n",
       "  <tbody>\n",
       "    <tr>\n",
       "      <th>0</th>\n",
       "      <td>http://www.legorafi.fr/2019/12/20/le-pere-noel...</td>\n",
       "      <td>Fri, 20 Dec 2019 13:00:49 +0000</td>\n",
       "      <td>Le Père Noël découvre stupéfait l’existence de...</td>\n",
       "    </tr>\n",
       "    <tr>\n",
       "      <th>1</th>\n",
       "      <td>http://www.legorafi.fr/2019/12/20/gorafi-magaz...</td>\n",
       "      <td>Fri, 20 Dec 2019 09:00:04 +0000</td>\n",
       "      <td>Gorafi Magazine : Partir à la retraite à 115 ans</td>\n",
       "    </tr>\n",
       "    <tr>\n",
       "      <th>2</th>\n",
       "      <td>http://www.legorafi.fr/2019/12/19/noel-pour-co...</td>\n",
       "      <td>Thu, 19 Dec 2019 13:00:32 +0000</td>\n",
       "      <td>Noël – Pour coller à la réalité, les magasins ...</td>\n",
       "    </tr>\n",
       "    <tr>\n",
       "      <th>3</th>\n",
       "      <td>http://www.legorafi.fr/2019/12/19/le-gouvernem...</td>\n",
       "      <td>Thu, 19 Dec 2019 09:22:54 +0000</td>\n",
       "      <td>Le gouvernement autorise les chauffeurs des bu...</td>\n",
       "    </tr>\n",
       "    <tr>\n",
       "      <th>4</th>\n",
       "      <td>http://www.legorafi.fr/2019/12/18/espagne-18-m...</td>\n",
       "      <td>Wed, 18 Dec 2019 09:14:41 +0000</td>\n",
       "      <td>Espagne – 18 morts dans la traditionnelle bata...</td>\n",
       "    </tr>\n",
       "    <tr>\n",
       "      <th>5</th>\n",
       "      <td>http://www.legorafi.fr/2019/12/17/psycho-comme...</td>\n",
       "      <td>Tue, 17 Dec 2019 09:03:56 +0000</td>\n",
       "      <td>Psycho : Comment guérir d’un chagrin d’amour e...</td>\n",
       "    </tr>\n",
       "    <tr>\n",
       "      <th>6</th>\n",
       "      <td>http://www.legorafi.fr/2019/12/16/apres-sa-dem...</td>\n",
       "      <td>Mon, 16 Dec 2019 13:00:39 +0000</td>\n",
       "      <td>Après sa démission Jean-Paul Delevoye savoure ...</td>\n",
       "    </tr>\n",
       "    <tr>\n",
       "      <th>7</th>\n",
       "      <td>http://www.legorafi.fr/2019/12/16/le-tfc-va-sa...</td>\n",
       "      <td>Mon, 16 Dec 2019 09:04:56 +0000</td>\n",
       "      <td>Le TFC va sacrifier un de ses joueurs pour cal...</td>\n",
       "    </tr>\n",
       "    <tr>\n",
       "      <th>8</th>\n",
       "      <td>http://www.legorafi.fr/2019/12/16/horoscope-du...</td>\n",
       "      <td>Mon, 16 Dec 2019 08:31:26 +0000</td>\n",
       "      <td>Horoscope du 16 décembre 2019</td>\n",
       "    </tr>\n",
       "    <tr>\n",
       "      <th>9</th>\n",
       "      <td>http://www.legorafi.fr/2019/12/13/les-climato-...</td>\n",
       "      <td>Fri, 13 Dec 2019 14:30:12 +0000</td>\n",
       "      <td>Les climato-sceptiques  présentent leur Greta ...</td>\n",
       "    </tr>\n",
       "    <tr>\n",
       "      <th>10</th>\n",
       "      <td>http://www.legorafi.fr/2019/12/13/gorafi-magaz...</td>\n",
       "      <td>Fri, 13 Dec 2019 13:00:55 +0000</td>\n",
       "      <td>Gorafi Magazine : Personne de l’année : le LBD</td>\n",
       "    </tr>\n",
       "    <tr>\n",
       "      <th>11</th>\n",
       "      <td>http://www.legorafi.fr/2019/12/13/greves-il-ma...</td>\n",
       "      <td>Fri, 13 Dec 2019 09:06:53 +0000</td>\n",
       "      <td>Grèves – Il marche plus de 200 km par jour pie...</td>\n",
       "    </tr>\n",
       "    <tr>\n",
       "      <th>12</th>\n",
       "      <td>http://www.legorafi.fr/2019/12/12/prolongation...</td>\n",
       "      <td>Thu, 12 Dec 2019 13:04:02 +0000</td>\n",
       "      <td>Prolongation de Kylian Mbappé : « Je suis comm...</td>\n",
       "    </tr>\n",
       "    <tr>\n",
       "      <th>13</th>\n",
       "      <td>http://www.legorafi.fr/2019/12/12/test-quel-es...</td>\n",
       "      <td>Thu, 12 Dec 2019 10:33:01 +0000</td>\n",
       "      <td>Test : quel est l’âge idéal pour mourir avant ...</td>\n",
       "    </tr>\n",
       "    <tr>\n",
       "      <th>14</th>\n",
       "      <td>http://www.legorafi.fr/2019/12/11/plusieurs-bu...</td>\n",
       "      <td>Wed, 11 Dec 2019 13:00:10 +0000</td>\n",
       "      <td>Plusieurs Burger Quiz fermés après une visite ...</td>\n",
       "    </tr>\n",
       "    <tr>\n",
       "      <th>15</th>\n",
       "      <td>http://www.legorafi.fr/2019/12/11/jean-paul-de...</td>\n",
       "      <td>Wed, 11 Dec 2019 09:08:39 +0000</td>\n",
       "      <td>Jean-Paul Delevoye contraint de démissionner d...</td>\n",
       "    </tr>\n",
       "    <tr>\n",
       "      <th>16</th>\n",
       "      <td>http://www.legorafi.fr/2019/12/10/il-economise...</td>\n",
       "      <td>Tue, 10 Dec 2019 09:03:54 +0000</td>\n",
       "      <td>Il économise 5 euros en achetant au duty-free ...</td>\n",
       "    </tr>\n",
       "    <tr>\n",
       "      <th>17</th>\n",
       "      <td>http://www.legorafi.fr/2019/12/09/jean-paul-de...</td>\n",
       "      <td>Mon, 09 Dec 2019 13:00:31 +0000</td>\n",
       "      <td>Jean-Paul Delevoye a oublié de préciser qu’il ...</td>\n",
       "    </tr>\n",
       "    <tr>\n",
       "      <th>18</th>\n",
       "      <td>http://www.legorafi.fr/2019/12/09/la-police-li...</td>\n",
       "      <td>Mon, 09 Dec 2019 09:19:08 +0000</td>\n",
       "      <td>La police libère un homme qui tournait en rond...</td>\n",
       "    </tr>\n",
       "    <tr>\n",
       "      <th>19</th>\n",
       "      <td>http://www.legorafi.fr/2019/12/09/horoscope-du...</td>\n",
       "      <td>Mon, 09 Dec 2019 08:42:07 +0000</td>\n",
       "      <td>Horoscope du 9 décembre 2019</td>\n",
       "    </tr>\n",
       "  </tbody>\n",
       "</table>\n",
       "</div>"
      ],
      "text/plain": [
       "                                                 link  \\\n",
       "0   http://www.legorafi.fr/2019/12/20/le-pere-noel...   \n",
       "1   http://www.legorafi.fr/2019/12/20/gorafi-magaz...   \n",
       "2   http://www.legorafi.fr/2019/12/19/noel-pour-co...   \n",
       "3   http://www.legorafi.fr/2019/12/19/le-gouvernem...   \n",
       "4   http://www.legorafi.fr/2019/12/18/espagne-18-m...   \n",
       "5   http://www.legorafi.fr/2019/12/17/psycho-comme...   \n",
       "6   http://www.legorafi.fr/2019/12/16/apres-sa-dem...   \n",
       "7   http://www.legorafi.fr/2019/12/16/le-tfc-va-sa...   \n",
       "8   http://www.legorafi.fr/2019/12/16/horoscope-du...   \n",
       "9   http://www.legorafi.fr/2019/12/13/les-climato-...   \n",
       "10  http://www.legorafi.fr/2019/12/13/gorafi-magaz...   \n",
       "11  http://www.legorafi.fr/2019/12/13/greves-il-ma...   \n",
       "12  http://www.legorafi.fr/2019/12/12/prolongation...   \n",
       "13  http://www.legorafi.fr/2019/12/12/test-quel-es...   \n",
       "14  http://www.legorafi.fr/2019/12/11/plusieurs-bu...   \n",
       "15  http://www.legorafi.fr/2019/12/11/jean-paul-de...   \n",
       "16  http://www.legorafi.fr/2019/12/10/il-economise...   \n",
       "17  http://www.legorafi.fr/2019/12/09/jean-paul-de...   \n",
       "18  http://www.legorafi.fr/2019/12/09/la-police-li...   \n",
       "19  http://www.legorafi.fr/2019/12/09/horoscope-du...   \n",
       "\n",
       "                            pubDate  \\\n",
       "0   Fri, 20 Dec 2019 13:00:49 +0000   \n",
       "1   Fri, 20 Dec 2019 09:00:04 +0000   \n",
       "2   Thu, 19 Dec 2019 13:00:32 +0000   \n",
       "3   Thu, 19 Dec 2019 09:22:54 +0000   \n",
       "4   Wed, 18 Dec 2019 09:14:41 +0000   \n",
       "5   Tue, 17 Dec 2019 09:03:56 +0000   \n",
       "6   Mon, 16 Dec 2019 13:00:39 +0000   \n",
       "7   Mon, 16 Dec 2019 09:04:56 +0000   \n",
       "8   Mon, 16 Dec 2019 08:31:26 +0000   \n",
       "9   Fri, 13 Dec 2019 14:30:12 +0000   \n",
       "10  Fri, 13 Dec 2019 13:00:55 +0000   \n",
       "11  Fri, 13 Dec 2019 09:06:53 +0000   \n",
       "12  Thu, 12 Dec 2019 13:04:02 +0000   \n",
       "13  Thu, 12 Dec 2019 10:33:01 +0000   \n",
       "14  Wed, 11 Dec 2019 13:00:10 +0000   \n",
       "15  Wed, 11 Dec 2019 09:08:39 +0000   \n",
       "16  Tue, 10 Dec 2019 09:03:54 +0000   \n",
       "17  Mon, 09 Dec 2019 13:00:31 +0000   \n",
       "18  Mon, 09 Dec 2019 09:19:08 +0000   \n",
       "19  Mon, 09 Dec 2019 08:42:07 +0000   \n",
       "\n",
       "                                                title  \n",
       "0   Le Père Noël découvre stupéfait l’existence de...  \n",
       "1    Gorafi Magazine : Partir à la retraite à 115 ans  \n",
       "2   Noël – Pour coller à la réalité, les magasins ...  \n",
       "3   Le gouvernement autorise les chauffeurs des bu...  \n",
       "4   Espagne – 18 morts dans la traditionnelle bata...  \n",
       "5   Psycho : Comment guérir d’un chagrin d’amour e...  \n",
       "6   Après sa démission Jean-Paul Delevoye savoure ...  \n",
       "7   Le TFC va sacrifier un de ses joueurs pour cal...  \n",
       "8                       Horoscope du 16 décembre 2019  \n",
       "9   Les climato-sceptiques  présentent leur Greta ...  \n",
       "10     Gorafi Magazine : Personne de l’année : le LBD  \n",
       "11  Grèves – Il marche plus de 200 km par jour pie...  \n",
       "12  Prolongation de Kylian Mbappé : « Je suis comm...  \n",
       "13  Test : quel est l’âge idéal pour mourir avant ...  \n",
       "14  Plusieurs Burger Quiz fermés après une visite ...  \n",
       "15  Jean-Paul Delevoye contraint de démissionner d...  \n",
       "16  Il économise 5 euros en achetant au duty-free ...  \n",
       "17  Jean-Paul Delevoye a oublié de préciser qu’il ...  \n",
       "18  La police libère un homme qui tournait en rond...  \n",
       "19                       Horoscope du 9 décembre 2019  "
      ]
     },
     "execution_count": 11,
     "metadata": {},
     "output_type": "execute_result"
    }
   ],
   "source": [
    "import pandas as pd\n",
    "\n",
    "df_rss_gorafi = pd.read_json(PATH_RSS_PAGES_GORAFI)\n",
    "df_rss_gorafi"
   ]
  },
  {
   "cell_type": "code",
   "execution_count": 12,
   "metadata": {},
   "outputs": [
    {
     "data": {
      "text/plain": [
       "(20, 3)"
      ]
     },
     "execution_count": 12,
     "metadata": {},
     "output_type": "execute_result"
    }
   ],
   "source": [
    "df_rss_gorafi.shape"
   ]
  },
  {
   "cell_type": "markdown",
   "metadata": {},
   "source": [
    "#### Scraping RSS news"
   ]
  },
  {
   "cell_type": "code",
   "execution_count": null,
   "metadata": {},
   "outputs": [],
   "source": [
    "# clean (move file if exist)\n",
    "clean_file(PATH_RSS_NEWS_GORAFI)"
   ]
  },
  {
   "cell_type": "code",
   "execution_count": 13,
   "metadata": {},
   "outputs": [],
   "source": [
    "# configure : add all retrieved links to Spider\n",
    "GorafiSpider.start_urls = df_rss_gorafi[\"link\"].tolist()\n",
    "GorafiSpider.custom_settings = {\n",
    "      'FEED_FORMAT': 'json',\n",
    "      'FEED_URI': PATH_RSS_NEWS_GORAFI\n",
    "}\n",
    "\n",
    "# scraping\n",
    "run_spider(GorafiSpider)"
   ]
  },
  {
   "cell_type": "code",
   "execution_count": 14,
   "metadata": {},
   "outputs": [
    {
     "data": {
      "text/html": [
       "<div>\n",
       "<style scoped>\n",
       "    .dataframe tbody tr th:only-of-type {\n",
       "        vertical-align: middle;\n",
       "    }\n",
       "\n",
       "    .dataframe tbody tr th {\n",
       "        vertical-align: top;\n",
       "    }\n",
       "\n",
       "    .dataframe thead th {\n",
       "        text-align: right;\n",
       "    }\n",
       "</style>\n",
       "<table border=\"1\" class=\"dataframe\">\n",
       "  <thead>\n",
       "    <tr style=\"text-align: right;\">\n",
       "      <th></th>\n",
       "      <th>author</th>\n",
       "      <th>body</th>\n",
       "      <th>date_published</th>\n",
       "      <th>description</th>\n",
       "      <th>source</th>\n",
       "      <th>theme</th>\n",
       "      <th>title</th>\n",
       "      <th>url</th>\n",
       "    </tr>\n",
       "  </thead>\n",
       "  <tbody>\n",
       "    <tr>\n",
       "      <th>0</th>\n",
       "      <td>La Rédaction</td>\n",
       "      <td>« Je n’en revenais pas… C’est un lutin stagiai...</td>\n",
       "      <td>20/12/2019</td>\n",
       "      <td>A quatre jours de la distribution des cadeaux ...</td>\n",
       "      <td>LeGorafi</td>\n",
       "      <td>Société</td>\n",
       "      <td>Le Père Noël découvre stupéfait l’existence de...</td>\n",
       "      <td>http://www.legorafi.fr/2019/12/20/le-pere-noel...</td>\n",
       "    </tr>\n",
       "    <tr>\n",
       "      <th>1</th>\n",
       "      <td>La Rédaction</td>\n",
       "      <td>NaN</td>\n",
       "      <td>20/12/2019</td>\n",
       "      <td>NaN</td>\n",
       "      <td>LeGorafi</td>\n",
       "      <td>Magazine</td>\n",
       "      <td>Gorafi Magazine : Partir à la retraite à 115 ans</td>\n",
       "      <td>http://www.legorafi.fr/2019/12/20/gorafi-magaz...</td>\n",
       "    </tr>\n",
       "    <tr>\n",
       "      <th>2</th>\n",
       "      <td>La Rédaction</td>\n",
       "      <td>« Mes équipes sentaient le malaise s’installer...</td>\n",
       "      <td>19/12/2019</td>\n",
       "      <td>Afin d’être plus en phase avec l’actualité, le...</td>\n",
       "      <td>LeGorafi</td>\n",
       "      <td>Société</td>\n",
       "      <td>Noël – Pour coller à la réalité, les magasins ...</td>\n",
       "      <td>http://www.legorafi.fr/2019/12/19/noel-pour-co...</td>\n",
       "    </tr>\n",
       "    <tr>\n",
       "      <th>3</th>\n",
       "      <td>La Rédaction</td>\n",
       "      <td>Ainsi les chauffeurs sont autorisés à prendre ...</td>\n",
       "      <td>19/12/2019</td>\n",
       "      <td>Paris – Pour aider les Français à pouvoir prof...</td>\n",
       "      <td>LeGorafi</td>\n",
       "      <td>Société</td>\n",
       "      <td>Le gouvernement autorise les chauffeurs des bu...</td>\n",
       "      <td>http://www.legorafi.fr/2019/12/19/le-gouvernem...</td>\n",
       "    </tr>\n",
       "    <tr>\n",
       "      <th>4</th>\n",
       "      <td>La Rédaction</td>\n",
       "      <td>Oliver Sadran espère ainsi conjurer le mauvais...</td>\n",
       "      <td>16/12/2019</td>\n",
       "      <td>Aux grands maux les grands remèdes. Afin de ca...</td>\n",
       "      <td>LeGorafi</td>\n",
       "      <td>Sports</td>\n",
       "      <td>Le TFC va sacrifier un de ses joueurs pour cal...</td>\n",
       "      <td>http://www.legorafi.fr/2019/12/16/le-tfc-va-sa...</td>\n",
       "    </tr>\n",
       "  </tbody>\n",
       "</table>\n",
       "</div>"
      ],
      "text/plain": [
       "         author                                               body  \\\n",
       "0  La Rédaction  « Je n’en revenais pas… C’est un lutin stagiai...   \n",
       "1  La Rédaction                                                NaN   \n",
       "2  La Rédaction  « Mes équipes sentaient le malaise s’installer...   \n",
       "3  La Rédaction  Ainsi les chauffeurs sont autorisés à prendre ...   \n",
       "4  La Rédaction  Oliver Sadran espère ainsi conjurer le mauvais...   \n",
       "\n",
       "  date_published                                        description    source  \\\n",
       "0     20/12/2019  A quatre jours de la distribution des cadeaux ...  LeGorafi   \n",
       "1     20/12/2019                                                NaN  LeGorafi   \n",
       "2     19/12/2019  Afin d’être plus en phase avec l’actualité, le...  LeGorafi   \n",
       "3     19/12/2019  Paris – Pour aider les Français à pouvoir prof...  LeGorafi   \n",
       "4     16/12/2019  Aux grands maux les grands remèdes. Afin de ca...  LeGorafi   \n",
       "\n",
       "      theme                                              title  \\\n",
       "0   Société  Le Père Noël découvre stupéfait l’existence de...   \n",
       "1  Magazine   Gorafi Magazine : Partir à la retraite à 115 ans   \n",
       "2   Société  Noël – Pour coller à la réalité, les magasins ...   \n",
       "3   Société  Le gouvernement autorise les chauffeurs des bu...   \n",
       "4    Sports  Le TFC va sacrifier un de ses joueurs pour cal...   \n",
       "\n",
       "                                                 url  \n",
       "0  http://www.legorafi.fr/2019/12/20/le-pere-noel...  \n",
       "1  http://www.legorafi.fr/2019/12/20/gorafi-magaz...  \n",
       "2  http://www.legorafi.fr/2019/12/19/noel-pour-co...  \n",
       "3  http://www.legorafi.fr/2019/12/19/le-gouvernem...  \n",
       "4  http://www.legorafi.fr/2019/12/16/le-tfc-va-sa...  "
      ]
     },
     "execution_count": 14,
     "metadata": {},
     "output_type": "execute_result"
    }
   ],
   "source": [
    "import pandas as pd\n",
    "\n",
    "df_gorafi = pd.read_json(PATH_RSS_NEWS_GORAFI)\n",
    "df_gorafi.head()"
   ]
  },
  {
   "cell_type": "code",
   "execution_count": 15,
   "metadata": {},
   "outputs": [
    {
     "data": {
      "text/plain": [
       "(20, 8)"
      ]
     },
     "execution_count": 15,
     "metadata": {},
     "output_type": "execute_result"
    }
   ],
   "source": [
    "df_gorafi.shape"
   ]
  },
  {
   "cell_type": "markdown",
   "metadata": {},
   "source": [
    "### Scraping urls into webpages "
   ]
  },
  {
   "cell_type": "markdown",
   "metadata": {},
   "source": [
    "#### Definitions"
   ]
  },
  {
   "cell_type": "code",
   "execution_count": 190,
   "metadata": {},
   "outputs": [],
   "source": [
    "URL_PAGES_GORAFI_SOCIETE = 'http://www.legorafi.fr/category/france/societe/'\n",
    "# declare your data location\n",
    "PATH_PAGES_GORAFI_SOCIETE = '../../data/pages_gorafi.json'\n",
    "PATH_NEWS_GORAFI_SOCIETE = '../../data/gorafi_societe.json'\n",
    "\n",
    "URL_PAGES_GORAFI_POLITIQUE = 'http://www.legorafi.fr/category/france/politique/'\n",
    "# declare your data location\n",
    "PATH_PAGES_GORAFI_POLITIQUE = '../../data/pages_gorafi_politique.json'\n",
    "PATH_NEWS_GORAFI_POLITIQUE = '../../data/gorafi_politique.json'"
   ]
  },
  {
   "cell_type": "markdown",
   "metadata": {},
   "source": [
    "#### Le Gorafi Société"
   ]
  },
  {
   "cell_type": "markdown",
   "metadata": {},
   "source": [
    "##### Scraping links"
   ]
  },
  {
   "cell_type": "code",
   "execution_count": 153,
   "metadata": {},
   "outputs": [
    {
     "name": "stdout",
     "output_type": "stream",
     "text": [
      "File ../../data/pages_gorafi_20191225_10_47_30.json moved!\n"
     ]
    }
   ],
   "source": [
    "# clean (move file if exist)\n",
    "clean_file(PATH_PAGES_GORAFI_SOCIETE)"
   ]
  },
  {
   "cell_type": "code",
   "execution_count": 104,
   "metadata": {},
   "outputs": [],
   "source": [
    "# configure scraping\n",
    "GorafiPageSpider.url_first_page = URL_PAGES_GORAFI_SOCIETE\n",
    "GorafiPageSpider.custom_settings = {\n",
    "      'FEED_FORMAT': 'json',\n",
    "      'FEED_URI': PATH_PAGES_GORAFI_SOCIETE\n",
    "    }\n",
    "GorafiPageSpider.num_max_pages = 50\n",
    "\n",
    "# clean last output\n",
    "clean_file(PATH_PAGES_GORAFI_SOCIETE)\n",
    "# scraping page urls LeGorafi\n",
    "run_spider(GorafiPageSpider)"
   ]
  },
  {
   "cell_type": "code",
   "execution_count": 161,
   "metadata": {},
   "outputs": [
    {
     "data": {
      "text/html": [
       "<div>\n",
       "<style scoped>\n",
       "    .dataframe tbody tr th:only-of-type {\n",
       "        vertical-align: middle;\n",
       "    }\n",
       "\n",
       "    .dataframe tbody tr th {\n",
       "        vertical-align: top;\n",
       "    }\n",
       "\n",
       "    .dataframe thead th {\n",
       "        text-align: right;\n",
       "    }\n",
       "</style>\n",
       "<table border=\"1\" class=\"dataframe\">\n",
       "  <thead>\n",
       "    <tr style=\"text-align: right;\">\n",
       "      <th></th>\n",
       "      <th>link</th>\n",
       "    </tr>\n",
       "  </thead>\n",
       "  <tbody>\n",
       "    <tr>\n",
       "      <th>0</th>\n",
       "      <td>http://www.legorafi.fr/2019/12/19/noel-pour-co...</td>\n",
       "    </tr>\n",
       "    <tr>\n",
       "      <th>1</th>\n",
       "      <td>http://www.legorafi.fr/2019/12/19/le-gouvernem...</td>\n",
       "    </tr>\n",
       "    <tr>\n",
       "      <th>2</th>\n",
       "      <td>http://www.legorafi.fr/2019/12/17/psycho-comme...</td>\n",
       "    </tr>\n",
       "    <tr>\n",
       "      <th>3</th>\n",
       "      <td>http://www.legorafi.fr/2019/12/12/test-quel-es...</td>\n",
       "    </tr>\n",
       "    <tr>\n",
       "      <th>4</th>\n",
       "      <td>http://www.legorafi.fr/2019/12/11/plusieurs-bu...</td>\n",
       "    </tr>\n",
       "  </tbody>\n",
       "</table>\n",
       "</div>"
      ],
      "text/plain": [
       "                                                link\n",
       "0  http://www.legorafi.fr/2019/12/19/noel-pour-co...\n",
       "1  http://www.legorafi.fr/2019/12/19/le-gouvernem...\n",
       "2  http://www.legorafi.fr/2019/12/17/psycho-comme...\n",
       "3  http://www.legorafi.fr/2019/12/12/test-quel-es...\n",
       "4  http://www.legorafi.fr/2019/12/11/plusieurs-bu..."
      ]
     },
     "execution_count": 161,
     "metadata": {},
     "output_type": "execute_result"
    }
   ],
   "source": [
    "import pandas as pd\n",
    "\n",
    "df_gorafi_pages = pd.read_json(PATH_PAGES_GORAFI_SOCIETE)\n",
    "df_gorafi_pages.head()"
   ]
  },
  {
   "cell_type": "code",
   "execution_count": 166,
   "metadata": {},
   "outputs": [
    {
     "data": {
      "text/plain": [
       "(246, 1)"
      ]
     },
     "execution_count": 166,
     "metadata": {},
     "output_type": "execute_result"
    }
   ],
   "source": [
    "df_gorafi_pages.shape"
   ]
  },
  {
   "cell_type": "markdown",
   "metadata": {},
   "source": [
    "##### Scraping news"
   ]
  },
  {
   "cell_type": "code",
   "execution_count": null,
   "metadata": {},
   "outputs": [],
   "source": [
    "# clean last output\n",
    "clean_file(PATH_NEWS_GORAFI_SOCIETE)"
   ]
  },
  {
   "cell_type": "code",
   "execution_count": 167,
   "metadata": {},
   "outputs": [],
   "source": [
    "# configure : add all retrieved links to Spider\n",
    "GorafiSpider.start_urls = df_gorafi_pages[\"link\"].tolist()\n",
    "GorafiSpider.custom_settings = {\n",
    "      'FEED_FORMAT': 'json',\n",
    "      'FEED_URI': PATH_NEWS_GORAFI_SOCIETE\n",
    "    }\n",
    "# scraping\n",
    "run_spider(GorafiSpider)"
   ]
  },
  {
   "cell_type": "code",
   "execution_count": 195,
   "metadata": {},
   "outputs": [
    {
     "data": {
      "text/html": [
       "<div>\n",
       "<style scoped>\n",
       "    .dataframe tbody tr th:only-of-type {\n",
       "        vertical-align: middle;\n",
       "    }\n",
       "\n",
       "    .dataframe tbody tr th {\n",
       "        vertical-align: top;\n",
       "    }\n",
       "\n",
       "    .dataframe thead th {\n",
       "        text-align: right;\n",
       "    }\n",
       "</style>\n",
       "<table border=\"1\" class=\"dataframe\">\n",
       "  <thead>\n",
       "    <tr style=\"text-align: right;\">\n",
       "      <th></th>\n",
       "      <th>author</th>\n",
       "      <th>body</th>\n",
       "      <th>date_published</th>\n",
       "      <th>description</th>\n",
       "      <th>source</th>\n",
       "      <th>theme</th>\n",
       "      <th>title</th>\n",
       "      <th>url</th>\n",
       "    </tr>\n",
       "  </thead>\n",
       "  <tbody>\n",
       "    <tr>\n",
       "      <th>0</th>\n",
       "      <td>La Rédaction</td>\n",
       "      <td>« Mes équipes sentaient le malaise s’installer...</td>\n",
       "      <td>19/12/2019</td>\n",
       "      <td>Afin d’être plus en phase avec l’actualité, le...</td>\n",
       "      <td>LeGorafi</td>\n",
       "      <td>Société</td>\n",
       "      <td>Noël – Pour coller à la réalité, les magasins ...</td>\n",
       "      <td>http://www.legorafi.fr/2019/12/19/noel-pour-co...</td>\n",
       "    </tr>\n",
       "    <tr>\n",
       "      <th>1</th>\n",
       "      <td>La Rédaction</td>\n",
       "      <td>Oui, car Mathias a économisé pas moins de 5 eu...</td>\n",
       "      <td>10/12/2019</td>\n",
       "      <td>Alors qu’il rentrait d’un week-end, Mathias a ...</td>\n",
       "      <td>LeGorafi</td>\n",
       "      <td>Société</td>\n",
       "      <td>Il économise 5 euros en achetant au duty-free ...</td>\n",
       "      <td>http://www.legorafi.fr/2019/12/10/il-economise...</td>\n",
       "    </tr>\n",
       "    <tr>\n",
       "      <th>2</th>\n",
       "      <td>La Rédaction</td>\n",
       "      <td>1/ Faire un beau chèque en s’appliquant pour l...</td>\n",
       "      <td>17/12/2019</td>\n",
       "      <td>L’échec amoureux n’a plus de secret pour vous ...</td>\n",
       "      <td>LeGorafi</td>\n",
       "      <td>Société</td>\n",
       "      <td>Psycho : Comment guérir d’un chagrin d’amour e...</td>\n",
       "      <td>http://www.legorafi.fr/2019/12/17/psycho-comme...</td>\n",
       "    </tr>\n",
       "    <tr>\n",
       "      <th>3</th>\n",
       "      <td>La Rédaction</td>\n",
       "      <td>\\nwindow.beOpAsyncInit = function() {\\n  BeOpS...</td>\n",
       "      <td>12/12/2019</td>\n",
       "      <td>Depuis les annonces d’Edouard Philippe, vous v...</td>\n",
       "      <td>LeGorafi</td>\n",
       "      <td>Société</td>\n",
       "      <td>Test : quel est l’âge idéal pour mourir avant ...</td>\n",
       "      <td>http://www.legorafi.fr/2019/12/12/test-quel-es...</td>\n",
       "    </tr>\n",
       "    <tr>\n",
       "      <th>4</th>\n",
       "      <td>La Rédaction</td>\n",
       "      <td>Selon les services sanitaires, se sont plusieu...</td>\n",
       "      <td>11/12/2019</td>\n",
       "      <td>Paris – La chaîne de restauration rapide lancé...</td>\n",
       "      <td>LeGorafi</td>\n",
       "      <td>Société</td>\n",
       "      <td>Plusieurs Burger Quiz fermés après une visite ...</td>\n",
       "      <td>http://www.legorafi.fr/2019/12/11/plusieurs-bu...</td>\n",
       "    </tr>\n",
       "  </tbody>\n",
       "</table>\n",
       "</div>"
      ],
      "text/plain": [
       "         author                                               body  \\\n",
       "0  La Rédaction  « Mes équipes sentaient le malaise s’installer...   \n",
       "1  La Rédaction  Oui, car Mathias a économisé pas moins de 5 eu...   \n",
       "2  La Rédaction  1/ Faire un beau chèque en s’appliquant pour l...   \n",
       "3  La Rédaction  \\nwindow.beOpAsyncInit = function() {\\n  BeOpS...   \n",
       "4  La Rédaction  Selon les services sanitaires, se sont plusieu...   \n",
       "\n",
       "  date_published                                        description    source  \\\n",
       "0     19/12/2019  Afin d’être plus en phase avec l’actualité, le...  LeGorafi   \n",
       "1     10/12/2019  Alors qu’il rentrait d’un week-end, Mathias a ...  LeGorafi   \n",
       "2     17/12/2019  L’échec amoureux n’a plus de secret pour vous ...  LeGorafi   \n",
       "3     12/12/2019  Depuis les annonces d’Edouard Philippe, vous v...  LeGorafi   \n",
       "4     11/12/2019  Paris – La chaîne de restauration rapide lancé...  LeGorafi   \n",
       "\n",
       "     theme                                              title  \\\n",
       "0  Société  Noël – Pour coller à la réalité, les magasins ...   \n",
       "1  Société  Il économise 5 euros en achetant au duty-free ...   \n",
       "2  Société  Psycho : Comment guérir d’un chagrin d’amour e...   \n",
       "3  Société  Test : quel est l’âge idéal pour mourir avant ...   \n",
       "4  Société  Plusieurs Burger Quiz fermés après une visite ...   \n",
       "\n",
       "                                                 url  \n",
       "0  http://www.legorafi.fr/2019/12/19/noel-pour-co...  \n",
       "1  http://www.legorafi.fr/2019/12/10/il-economise...  \n",
       "2  http://www.legorafi.fr/2019/12/17/psycho-comme...  \n",
       "3  http://www.legorafi.fr/2019/12/12/test-quel-es...  \n",
       "4  http://www.legorafi.fr/2019/12/11/plusieurs-bu...  "
      ]
     },
     "execution_count": 195,
     "metadata": {},
     "output_type": "execute_result"
    }
   ],
   "source": [
    "import pandas as pd\n",
    "\n",
    "df_gorafi_soc = pd.read_json(PATH_NEWS_GORAFI_SOCIETE)\n",
    "df_gorafi_soc.head()"
   ]
  },
  {
   "cell_type": "code",
   "execution_count": 196,
   "metadata": {},
   "outputs": [
    {
     "data": {
      "text/plain": [
       "(246, 8)"
      ]
     },
     "execution_count": 196,
     "metadata": {},
     "output_type": "execute_result"
    }
   ],
   "source": [
    "df_gorafi_soc.shape"
   ]
  },
  {
   "cell_type": "code",
   "execution_count": 197,
   "metadata": {},
   "outputs": [
    {
     "data": {
      "text/plain": [
       "0"
      ]
     },
     "execution_count": 197,
     "metadata": {},
     "output_type": "execute_result"
    }
   ],
   "source": [
    "df_gorafi_soc[df_gorafi_soc[\"body\"].isna()].shape[0]"
   ]
  },
  {
   "cell_type": "markdown",
   "metadata": {},
   "source": [
    "#### Le Gorafi Politique"
   ]
  },
  {
   "cell_type": "markdown",
   "metadata": {},
   "source": [
    "##### Scraping links"
   ]
  },
  {
   "cell_type": "code",
   "execution_count": null,
   "metadata": {},
   "outputs": [],
   "source": [
    "# clean last output\n",
    "clean_file(PATH_PAGES_GORAFI_POLITIQUE)"
   ]
  },
  {
   "cell_type": "code",
   "execution_count": 155,
   "metadata": {},
   "outputs": [
    {
     "name": "stdout",
     "output_type": "stream",
     "text": [
      "File ../../data/pages_gorafi_politique.json does not exist!\n"
     ]
    }
   ],
   "source": [
    "# configure scraping\n",
    "GorafiPageSpider.url_first_page = URL_PAGES_GORAFI_POLITIQUE\n",
    "GorafiPageSpider.custom_settings = {\n",
    "      'FEED_FORMAT': 'json',\n",
    "      'FEED_URI': PATH_PAGES_GORAFI_POLITIQUE\n",
    "    }\n",
    "GorafiPageSpider.num_max_pages = 50\n",
    "\n",
    "# move file if exist\n",
    "clean_file(PATH_PAGES_GORAFI_POLITIQUE)\n",
    "\n",
    "# scraping pages LeGorafi\n",
    "run_spider(GorafiPageSpider)"
   ]
  },
  {
   "cell_type": "code",
   "execution_count": 163,
   "metadata": {},
   "outputs": [
    {
     "data": {
      "text/html": [
       "<div>\n",
       "<style scoped>\n",
       "    .dataframe tbody tr th:only-of-type {\n",
       "        vertical-align: middle;\n",
       "    }\n",
       "\n",
       "    .dataframe tbody tr th {\n",
       "        vertical-align: top;\n",
       "    }\n",
       "\n",
       "    .dataframe thead th {\n",
       "        text-align: right;\n",
       "    }\n",
       "</style>\n",
       "<table border=\"1\" class=\"dataframe\">\n",
       "  <thead>\n",
       "    <tr style=\"text-align: right;\">\n",
       "      <th></th>\n",
       "      <th>link</th>\n",
       "    </tr>\n",
       "  </thead>\n",
       "  <tbody>\n",
       "    <tr>\n",
       "      <th>0</th>\n",
       "      <td>http://www.legorafi.fr/2019/12/11/jean-paul-de...</td>\n",
       "    </tr>\n",
       "    <tr>\n",
       "      <th>1</th>\n",
       "      <td>http://www.legorafi.fr/2019/12/09/jean-paul-de...</td>\n",
       "    </tr>\n",
       "    <tr>\n",
       "      <th>2</th>\n",
       "      <td>http://www.legorafi.fr/2019/12/05/christophe-c...</td>\n",
       "    </tr>\n",
       "    <tr>\n",
       "      <th>3</th>\n",
       "      <td>http://www.legorafi.fr/2019/11/25/lrem-edouard...</td>\n",
       "    </tr>\n",
       "    <tr>\n",
       "      <th>4</th>\n",
       "      <td>http://www.legorafi.fr/2019/11/22/inquiete-par...</td>\n",
       "    </tr>\n",
       "  </tbody>\n",
       "</table>\n",
       "</div>"
      ],
      "text/plain": [
       "                                                link\n",
       "0  http://www.legorafi.fr/2019/12/11/jean-paul-de...\n",
       "1  http://www.legorafi.fr/2019/12/09/jean-paul-de...\n",
       "2  http://www.legorafi.fr/2019/12/05/christophe-c...\n",
       "3  http://www.legorafi.fr/2019/11/25/lrem-edouard...\n",
       "4  http://www.legorafi.fr/2019/11/22/inquiete-par..."
      ]
     },
     "execution_count": 163,
     "metadata": {},
     "output_type": "execute_result"
    }
   ],
   "source": [
    "import pandas as pd\n",
    "\n",
    "df_gorafi_pages_pol = pd.read_json(PATH_PAGES_GORAFI_POLITIQUE)\n",
    "df_gorafi_pages_pol.head()"
   ]
  },
  {
   "cell_type": "code",
   "execution_count": 170,
   "metadata": {},
   "outputs": [
    {
     "data": {
      "text/plain": [
       "(246, 1)"
      ]
     },
     "execution_count": 170,
     "metadata": {},
     "output_type": "execute_result"
    }
   ],
   "source": [
    "df_gorafi_pages_pol.shape"
   ]
  },
  {
   "cell_type": "markdown",
   "metadata": {},
   "source": [
    "##### Scraping news"
   ]
  },
  {
   "cell_type": "code",
   "execution_count": null,
   "metadata": {},
   "outputs": [],
   "source": [
    "# clean last output\n",
    "clean_file(PATH_NEWS_GORAFI_POLITIQUE)"
   ]
  },
  {
   "cell_type": "code",
   "execution_count": 171,
   "metadata": {},
   "outputs": [],
   "source": [
    "# configure : add all retrieved links to Spider\n",
    "GorafiSpider.start_urls = df_gorafi_pages_pol[\"link\"].tolist()\n",
    "GorafiSpider.custom_settings = {\n",
    "      'FEED_FORMAT': 'json',\n",
    "      'FEED_URI': PATH_NEWS_GORAFI_POLITIQUE\n",
    "    }\n",
    "# scraping\n",
    "run_spider(GorafiSpider)"
   ]
  },
  {
   "cell_type": "code",
   "execution_count": 191,
   "metadata": {},
   "outputs": [
    {
     "data": {
      "text/html": [
       "<div>\n",
       "<style scoped>\n",
       "    .dataframe tbody tr th:only-of-type {\n",
       "        vertical-align: middle;\n",
       "    }\n",
       "\n",
       "    .dataframe tbody tr th {\n",
       "        vertical-align: top;\n",
       "    }\n",
       "\n",
       "    .dataframe thead th {\n",
       "        text-align: right;\n",
       "    }\n",
       "</style>\n",
       "<table border=\"1\" class=\"dataframe\">\n",
       "  <thead>\n",
       "    <tr style=\"text-align: right;\">\n",
       "      <th></th>\n",
       "      <th>author</th>\n",
       "      <th>body</th>\n",
       "      <th>date_published</th>\n",
       "      <th>description</th>\n",
       "      <th>source</th>\n",
       "      <th>theme</th>\n",
       "      <th>title</th>\n",
       "      <th>url</th>\n",
       "    </tr>\n",
       "  </thead>\n",
       "  <tbody>\n",
       "    <tr>\n",
       "      <th>0</th>\n",
       "      <td>La Rédaction</td>\n",
       "      <td>« C’est juste un petit cadeau pour le service ...</td>\n",
       "      <td>09/12/2019</td>\n",
       "      <td>Paris – Nouvelle polémique pour Jean-Paul Dele...</td>\n",
       "      <td>LeGorafi</td>\n",
       "      <td>Politique</td>\n",
       "      <td>Jean-Paul Delevoye a oublié de préciser qu’il ...</td>\n",
       "      <td>http://www.legorafi.fr/2019/12/09/jean-paul-de...</td>\n",
       "    </tr>\n",
       "    <tr>\n",
       "      <th>1</th>\n",
       "      <td>La Rédaction</td>\n",
       "      <td>De nombreuses sources citent Marlène Schiappa ...</td>\n",
       "      <td>25/11/2019</td>\n",
       "      <td>De nombreux détails croustillants, concernant ...</td>\n",
       "      <td>LeGorafi</td>\n",
       "      <td>Politique</td>\n",
       "      <td>LREM : Édouard Philippe rebaptisé Eduardo Fili...</td>\n",
       "      <td>http://www.legorafi.fr/2019/11/25/lrem-edouard...</td>\n",
       "    </tr>\n",
       "    <tr>\n",
       "      <th>2</th>\n",
       "      <td>La Rédaction</td>\n",
       "      <td>« Oui c’est un peu regrettable mais j’ai quitt...</td>\n",
       "      <td>11/12/2019</td>\n",
       "      <td>Paris – Face aux polémiques naissantes, Jean-P...</td>\n",
       "      <td>LeGorafi</td>\n",
       "      <td>Politique</td>\n",
       "      <td>Jean-Paul Delevoye contraint de démissionner d...</td>\n",
       "      <td>http://www.legorafi.fr/2019/12/11/jean-paul-de...</td>\n",
       "    </tr>\n",
       "    <tr>\n",
       "      <th>3</th>\n",
       "      <td>La Rédaction</td>\n",
       "      <td>« La précarité qu’ils traversent leur sera de ...</td>\n",
       "      <td>13/11/2019</td>\n",
       "      <td>Alors que la mobilisation étudiante prend de l...</td>\n",
       "      <td>LeGorafi</td>\n",
       "      <td>Politique</td>\n",
       "      <td>Emmanuel Macron aux étudiants « Je n’adore pas...</td>\n",
       "      <td>http://www.legorafi.fr/2019/11/13/emmanuel-mac...</td>\n",
       "    </tr>\n",
       "    <tr>\n",
       "      <th>4</th>\n",
       "      <td>La Rédaction</td>\n",
       "      <td>Alors que de nombreux manifestants sont attend...</td>\n",
       "      <td>05/12/2019</td>\n",
       "      <td>Après que l’Etat a commandé de nouveaux LBD à ...</td>\n",
       "      <td>LeGorafi</td>\n",
       "      <td>Politique</td>\n",
       "      <td>Christophe Castaner promet que les LBD « feron...</td>\n",
       "      <td>http://www.legorafi.fr/2019/12/05/christophe-c...</td>\n",
       "    </tr>\n",
       "  </tbody>\n",
       "</table>\n",
       "</div>"
      ],
      "text/plain": [
       "         author                                               body  \\\n",
       "0  La Rédaction  « C’est juste un petit cadeau pour le service ...   \n",
       "1  La Rédaction  De nombreuses sources citent Marlène Schiappa ...   \n",
       "2  La Rédaction  « Oui c’est un peu regrettable mais j’ai quitt...   \n",
       "3  La Rédaction  « La précarité qu’ils traversent leur sera de ...   \n",
       "4  La Rédaction  Alors que de nombreux manifestants sont attend...   \n",
       "\n",
       "  date_published                                        description    source  \\\n",
       "0     09/12/2019  Paris – Nouvelle polémique pour Jean-Paul Dele...  LeGorafi   \n",
       "1     25/11/2019  De nombreux détails croustillants, concernant ...  LeGorafi   \n",
       "2     11/12/2019  Paris – Face aux polémiques naissantes, Jean-P...  LeGorafi   \n",
       "3     13/11/2019  Alors que la mobilisation étudiante prend de l...  LeGorafi   \n",
       "4     05/12/2019  Après que l’Etat a commandé de nouveaux LBD à ...  LeGorafi   \n",
       "\n",
       "       theme                                              title  \\\n",
       "0  Politique  Jean-Paul Delevoye a oublié de préciser qu’il ...   \n",
       "1  Politique  LREM : Édouard Philippe rebaptisé Eduardo Fili...   \n",
       "2  Politique  Jean-Paul Delevoye contraint de démissionner d...   \n",
       "3  Politique  Emmanuel Macron aux étudiants « Je n’adore pas...   \n",
       "4  Politique  Christophe Castaner promet que les LBD « feron...   \n",
       "\n",
       "                                                 url  \n",
       "0  http://www.legorafi.fr/2019/12/09/jean-paul-de...  \n",
       "1  http://www.legorafi.fr/2019/11/25/lrem-edouard...  \n",
       "2  http://www.legorafi.fr/2019/12/11/jean-paul-de...  \n",
       "3  http://www.legorafi.fr/2019/11/13/emmanuel-mac...  \n",
       "4  http://www.legorafi.fr/2019/12/05/christophe-c...  "
      ]
     },
     "execution_count": 191,
     "metadata": {},
     "output_type": "execute_result"
    }
   ],
   "source": [
    "import pandas as pd\n",
    "\n",
    "df_gorafi_pol = pd.read_json(PATH_NEWS_GORAFI_POLITIQUE)\n",
    "df_gorafi_pol.head()"
   ]
  },
  {
   "cell_type": "code",
   "execution_count": 192,
   "metadata": {},
   "outputs": [
    {
     "data": {
      "text/plain": [
       "(246, 8)"
      ]
     },
     "execution_count": 192,
     "metadata": {},
     "output_type": "execute_result"
    }
   ],
   "source": [
    "df_gorafi_pol.shape"
   ]
  },
  {
   "cell_type": "code",
   "execution_count": 193,
   "metadata": {},
   "outputs": [
    {
     "data": {
      "text/plain": [
       "0"
      ]
     },
     "execution_count": 193,
     "metadata": {},
     "output_type": "execute_result"
    }
   ],
   "source": [
    "df_gorafi_pol[df_gorafi_pol[\"body\"].isna()].shape[0]"
   ]
  },
  {
   "cell_type": "markdown",
   "metadata": {},
   "source": [
    "## Scraping Nordpresse.be"
   ]
  },
  {
   "cell_type": "markdown",
   "metadata": {},
   "source": [
    "### Class definitions"
   ]
  },
  {
   "cell_type": "code",
   "execution_count": 106,
   "metadata": {},
   "outputs": [],
   "source": [
    "import scrapy\n",
    "from scrapy.loader import ItemLoader\n",
    "from scrapy.loader.processors import MapCompose, Join, TakeFirst\n",
    "from w3lib.html import remove_tags\n",
    "\n",
    "\n",
    "class NordpresseItem(scrapy.Item):\n",
    "    '''\n",
    "    Class item to declare different information to scrap\n",
    "    and how to process (as input or output) for NordPresse.be\n",
    "    '''\n",
    "    # define the fields for your item here like:\n",
    "    url = scrapy.Field(output_processor=TakeFirst())\n",
    "    \n",
    "    source = scrapy.Field(output_processor=TakeFirst())\n",
    "    \n",
    "    author = scrapy.Field(\n",
    "        input_processor=MapCompose(remove_tags),\n",
    "        output_processor=TakeFirst()\n",
    "    )\n",
    "    \n",
    "    title = scrapy.Field(\n",
    "        input_processor=MapCompose(remove_tags),\n",
    "        output_processor=TakeFirst()\n",
    "    )\n",
    "    \n",
    "    theme = scrapy.Field(\n",
    "        input_processor=MapCompose(remove_tags),\n",
    "        output_processor=lambda v: v[-1]\n",
    "    )\n",
    "    \n",
    "    date_published = scrapy.Field(\n",
    "        input_processor=MapCompose(remove_tags),\n",
    "        output_processor=TakeFirst()\n",
    "    )\n",
    "    \n",
    "    description = scrapy.Field(output_processor=TakeFirst())\n",
    "    \n",
    "    body = scrapy.Field(\n",
    "        input_processor=MapCompose(remove_tags, \n",
    "                                   lambda v: v.replace(u'\\xa0', u' '),\n",
    "                                  lambda v: v.strip()),\n",
    "        output_processor=Join()\n",
    "    )"
   ]
  },
  {
   "cell_type": "code",
   "execution_count": 107,
   "metadata": {},
   "outputs": [],
   "source": [
    "class NordpresseSpider(scrapy.Spider):\n",
    "    '''\n",
    "    Spider to scrap over Nordpresse webpages : \n",
    "    - how to find information for scraping\n",
    "    - which field names to store\n",
    "    '''\n",
    "    # Your spider definition\n",
    "    name = 'news_nordpresse_spider'\n",
    "    # output definition :\n",
    "    custom_settings = {\n",
    "      'FEED_FORMAT': 'json',\n",
    "      'FEED_URI': 'items_nordpresse.json'\n",
    "    }\n",
    "    \n",
    "    # urls to scrap\n",
    "    start_urls = [\n",
    "        'https://nordpresse.be/category/france/'\n",
    "    ]\n",
    "\n",
    "    def parse(self, response):\n",
    "        '''\n",
    "        Parse definition with xpath which define all patterns to use\n",
    "        for retrieve information into HTML strings\n",
    "        '''\n",
    "        #url\tsource\tauthor\ttitle\ttheme\tdescription\tdate_published\tbody   \n",
    "        l = ItemLoader(item=NordpresseItem(), selector=response)\n",
    "        \n",
    "        l.add_value('url', response.url)\n",
    "        \n",
    "        l.add_value('source', \"Nordpresse\")\n",
    "        \n",
    "        #<div class=\"td-post-author-name td-post-author-no-dot\">\n",
    "        #  <div class=\"td-author-by\">By</div> \n",
    "        #  <a href=\"https://nordpresse.be/...\">Stephane VERON</a></div>\n",
    "        l.add_xpath('author', \n",
    "            '//div[@class=\"td-post-author-name td-post-author-no-dot\"]/a')\n",
    "        \n",
    "        l.add_xpath(\"title\", \"//h1\")\n",
    "        \n",
    "        #<div class=\"td-post-header\">\n",
    "        #    <ul class=\"td-category\">\n",
    "        #        <li class=\"entry-category\"><a href=\"https://nordpresse.be/category/france/\">France</a></li>\n",
    "        #        <li class=\"entry-category\"><a href=\"https://nordpresse.be/category/politique/\">Politique</a></li></ul>\n",
    "            \n",
    "        l.add_xpath(\"theme\", '//div[@class=\"td-post-header\"]/ul/li/a')\n",
    "        \n",
    "        #l.add_xpath(\"description\", \".//div[@class='intro']/p\")\n",
    "        l.add_value('description', \"\")\n",
    "        \n",
    "        #<meta property=\"article:published_time\" content=\"2019-12-15T14:21:58+00:00\">\n",
    "        l.add_xpath(\"date_published\", \n",
    "            '//meta[@property=\"article:published_time\"]/@content',\n",
    "            re=\"[0-9]+-[0-9]+-[0-9]+\")\n",
    "       \n",
    "        l.add_xpath(\"body\", \"//div[@class='td-post-content']/p\")\n",
    "        \n",
    "        yield l.load_item()"
   ]
  },
  {
   "cell_type": "code",
   "execution_count": 108,
   "metadata": {},
   "outputs": [],
   "source": [
    "import scrapy\n",
    "\n",
    "class NordpresseRssSpider(scrapy.Spider):\n",
    "    '''\n",
    "    Class Spider for retrieving all links to news webpages from Nordpresse RSS\n",
    "    '''\n",
    "    name = \"nordpresse_rss\"\n",
    "    \n",
    "    custom_settings = {\n",
    "      'FEED_FORMAT': 'json',\n",
    "      'FEED_URI': 'nordpresse_rss.json'\n",
    "    }\n",
    "    \n",
    "    def start_requests(self):\n",
    "        urls = [\n",
    "                'https://nordpresse.be/feed',\n",
    "        ]\n",
    "        for url in urls:\n",
    "            yield scrapy.Request(url=url, callback=self.parse)\n",
    "     \n",
    "    def parse(self, response):\n",
    "        for post in response.xpath('//channel/item'):\n",
    "            yield {\n",
    "                'title' : post.xpath('title//text()').extract_first(),\n",
    "                'link': post.xpath('link//text()').extract_first(),\n",
    "                'pubDate' : post.xpath('pubDate//text()').extract_first(),\n",
    "            }\n"
   ]
  },
  {
   "cell_type": "code",
   "execution_count": 109,
   "metadata": {},
   "outputs": [],
   "source": [
    "import scrapy\n",
    "import re\n",
    "\n",
    "class NordpressePageSpider(scrapy.Spider):\n",
    "    '''\n",
    "    Spider to scrap all Nordpresse pages from selected category\n",
    "    Configure : \n",
    "    - NordpressePageSpider.custom_settings : save location \n",
    "    - num_max_pages : the number of next page to scrap\n",
    "    - url_first_page : web page to start with\n",
    "    '''\n",
    "    name = \"nordpresse_page\"\n",
    "    \n",
    "    custom_settings = {\n",
    "      'FEED_FORMAT': 'json',\n",
    "      'FEED_URI': 'pages_nordpresse.json'\n",
    "    }\n",
    "    \n",
    "    num_max_pages = 1\n",
    "    \n",
    "    url_first_page = 'https://nordpresse.be/category/france/'\n",
    "    \n",
    "    def start_requests(self):\n",
    "        urls = [\n",
    "                self.url_first_page,\n",
    "        ]\n",
    "        for url in urls:\n",
    "            yield scrapy.Request(url=url, callback=self.parse)\n",
    "    \n",
    "    def parse(self, response):\n",
    "        \n",
    "        # //div[@class=\"td-pb-span8 td-main-content\"]//h3[@class=\"entry-title td-module-title\"]/a[@rel=\"bookmark\"]\n",
    "        for post in response.xpath('//div[@class=\"td-pb-span8 td-main-content\"]//h3[@class=\"entry-title td-module-title\"]'):\n",
    "            yield {\n",
    "                'link': post.xpath('a[@rel=\"bookmark\"]/@href').extract_first()\n",
    "            }\n",
    "        # <a href=\"https://nordpresse.be/category/france/page/3/\"><i class=\"td-icon-menu-right\"></i></a>\n",
    "        next_page = response.xpath(\n",
    "            '//i[@class=\"td-icon-menu-right\"]//parent::a/@href').get()\n",
    "        if next_page is not None:\n",
    "            try:\n",
    "                num_next_page = int(re.search(\"(?<=/)\\d+(?=/$)\", \n",
    "                         next_page).group(0))\n",
    "                \n",
    "                if (num_next_page < self.num_max_pages):\n",
    "                    #next_page = response.urljoin(next_page)\n",
    "                    yield scrapy.Request(next_page, callback=self.parse)\n",
    "            except:\n",
    "                next_page = None\n",
    "                "
   ]
  },
  {
   "cell_type": "markdown",
   "metadata": {},
   "source": [
    "### Scraping RSS urls"
   ]
  },
  {
   "cell_type": "markdown",
   "metadata": {},
   "source": [
    "#### Definitions"
   ]
  },
  {
   "cell_type": "code",
   "execution_count": 20,
   "metadata": {},
   "outputs": [],
   "source": [
    "# path to results file for urls\n",
    "PATH_RSS_PAGES_NORDPRESSE = '../../data/nordpresse_rss_urls.json'\n",
    "# declare your data location for scraping rss links \n",
    "PATH_RSS_NEWS_NORDPRESSE = '../../data/nordpresse_rss_pages.json'"
   ]
  },
  {
   "cell_type": "markdown",
   "metadata": {},
   "source": [
    "#### Scraping RSS urls links"
   ]
  },
  {
   "cell_type": "code",
   "execution_count": 21,
   "metadata": {},
   "outputs": [
    {
     "name": "stdout",
     "output_type": "stream",
     "text": [
      "File ../../data/nordpresse_rss_urls.json does not exist!\n"
     ]
    }
   ],
   "source": [
    "# clean (move file if exist)\n",
    "clean_file(PATH_RSS_PAGES_NORDPRESSE)"
   ]
  },
  {
   "cell_type": "code",
   "execution_count": 22,
   "metadata": {},
   "outputs": [],
   "source": [
    "# Configure spider\n",
    "NordpresseRssSpider.custom_settings = {\n",
    "      'FEED_FORMAT': 'json',\n",
    "      'FEED_URI': PATH_RSS_PAGES_NORDPRESSE\n",
    "}\n",
    "# scraping\n",
    "run_spider(NordpresseRssSpider)"
   ]
  },
  {
   "cell_type": "code",
   "execution_count": 23,
   "metadata": {},
   "outputs": [
    {
     "data": {
      "text/html": [
       "<div>\n",
       "<style scoped>\n",
       "    .dataframe tbody tr th:only-of-type {\n",
       "        vertical-align: middle;\n",
       "    }\n",
       "\n",
       "    .dataframe tbody tr th {\n",
       "        vertical-align: top;\n",
       "    }\n",
       "\n",
       "    .dataframe thead th {\n",
       "        text-align: right;\n",
       "    }\n",
       "</style>\n",
       "<table border=\"1\" class=\"dataframe\">\n",
       "  <thead>\n",
       "    <tr style=\"text-align: right;\">\n",
       "      <th></th>\n",
       "      <th>link</th>\n",
       "      <th>pubDate</th>\n",
       "      <th>title</th>\n",
       "    </tr>\n",
       "  </thead>\n",
       "  <tbody>\n",
       "    <tr>\n",
       "      <th>0</th>\n",
       "      <td>https://nordpresse.be/lrem-accuse-de-faire-de-...</td>\n",
       "      <td>Wed, 25 Dec 2019 20:32:10 +0000</td>\n",
       "      <td>LREM accusé de faire de l’ombre à la celèbre é...</td>\n",
       "    </tr>\n",
       "    <tr>\n",
       "      <th>1</th>\n",
       "      <td>https://nordpresse.be/segolene-royale-desormai...</td>\n",
       "      <td>Wed, 25 Dec 2019 19:00:57 +0000</td>\n",
       "      <td>Segolène Royale désormais pourvue d’un antivol</td>\n",
       "    </tr>\n",
       "    <tr>\n",
       "      <th>2</th>\n",
       "      <td>https://nordpresse.be/emmanuel-macron-renonce-...</td>\n",
       "      <td>Wed, 25 Dec 2019 09:47:28 +0000</td>\n",
       "      <td>Emmanuel Macron renonce à sa retraite: « Je va...</td>\n",
       "    </tr>\n",
       "    <tr>\n",
       "      <th>3</th>\n",
       "      <td>https://nordpresse.be/ce-cosplay-est-plutot-pa...</td>\n",
       "      <td>Wed, 25 Dec 2019 08:53:17 +0000</td>\n",
       "      <td>Ce cosplay est plutôt pas mal non ?</td>\n",
       "    </tr>\n",
       "    <tr>\n",
       "      <th>4</th>\n",
       "      <td>https://nordpresse.be/melenchon-lannonce-mouve...</td>\n",
       "      <td>Wed, 25 Dec 2019 07:37:16 +0000</td>\n",
       "      <td>Mélenchon l’annonce: Mouvement de grève généra...</td>\n",
       "    </tr>\n",
       "    <tr>\n",
       "      <th>5</th>\n",
       "      <td>https://nordpresse.be/decouvrez-le-sapin-de-no...</td>\n",
       "      <td>Tue, 24 Dec 2019 23:07:32 +0000</td>\n",
       "      <td>Découvrez le sapin de Noël ecoresponsable de G...</td>\n",
       "    </tr>\n",
       "    <tr>\n",
       "      <th>6</th>\n",
       "      <td>https://nordpresse.be/macron-aurait-fait-bloqu...</td>\n",
       "      <td>Tue, 24 Dec 2019 10:36:46 +0000</td>\n",
       "      <td>Macron aurait fait bloquer Mêmes Décentralisés...</td>\n",
       "    </tr>\n",
       "    <tr>\n",
       "      <th>7</th>\n",
       "      <td>https://nordpresse.be/un-belge-invente-le-supp...</td>\n",
       "      <td>Sun, 22 Dec 2019 22:22:09 +0000</td>\n",
       "      <td>Un Belge invente le suppositoire effervescent ...</td>\n",
       "    </tr>\n",
       "    <tr>\n",
       "      <th>8</th>\n",
       "      <td>https://nordpresse.be/tibo-in-shape/</td>\n",
       "      <td>Sun, 22 Dec 2019 20:59:58 +0000</td>\n",
       "      <td>Tibo in Shape</td>\n",
       "    </tr>\n",
       "    <tr>\n",
       "      <th>9</th>\n",
       "      <td>https://nordpresse.be/macron-compte-rester-au-...</td>\n",
       "      <td>Sun, 22 Dec 2019 01:01:49 +0000</td>\n",
       "      <td>Macron compte rester au pouvoir jusque 64 ans ...</td>\n",
       "    </tr>\n",
       "  </tbody>\n",
       "</table>\n",
       "</div>"
      ],
      "text/plain": [
       "                                                link  \\\n",
       "0  https://nordpresse.be/lrem-accuse-de-faire-de-...   \n",
       "1  https://nordpresse.be/segolene-royale-desormai...   \n",
       "2  https://nordpresse.be/emmanuel-macron-renonce-...   \n",
       "3  https://nordpresse.be/ce-cosplay-est-plutot-pa...   \n",
       "4  https://nordpresse.be/melenchon-lannonce-mouve...   \n",
       "5  https://nordpresse.be/decouvrez-le-sapin-de-no...   \n",
       "6  https://nordpresse.be/macron-aurait-fait-bloqu...   \n",
       "7  https://nordpresse.be/un-belge-invente-le-supp...   \n",
       "8               https://nordpresse.be/tibo-in-shape/   \n",
       "9  https://nordpresse.be/macron-compte-rester-au-...   \n",
       "\n",
       "                           pubDate  \\\n",
       "0  Wed, 25 Dec 2019 20:32:10 +0000   \n",
       "1  Wed, 25 Dec 2019 19:00:57 +0000   \n",
       "2  Wed, 25 Dec 2019 09:47:28 +0000   \n",
       "3  Wed, 25 Dec 2019 08:53:17 +0000   \n",
       "4  Wed, 25 Dec 2019 07:37:16 +0000   \n",
       "5  Tue, 24 Dec 2019 23:07:32 +0000   \n",
       "6  Tue, 24 Dec 2019 10:36:46 +0000   \n",
       "7  Sun, 22 Dec 2019 22:22:09 +0000   \n",
       "8  Sun, 22 Dec 2019 20:59:58 +0000   \n",
       "9  Sun, 22 Dec 2019 01:01:49 +0000   \n",
       "\n",
       "                                               title  \n",
       "0  LREM accusé de faire de l’ombre à la celèbre é...  \n",
       "1     Segolène Royale désormais pourvue d’un antivol  \n",
       "2  Emmanuel Macron renonce à sa retraite: « Je va...  \n",
       "3                Ce cosplay est plutôt pas mal non ?  \n",
       "4  Mélenchon l’annonce: Mouvement de grève généra...  \n",
       "5  Découvrez le sapin de Noël ecoresponsable de G...  \n",
       "6  Macron aurait fait bloquer Mêmes Décentralisés...  \n",
       "7  Un Belge invente le suppositoire effervescent ...  \n",
       "8                                      Tibo in Shape  \n",
       "9  Macron compte rester au pouvoir jusque 64 ans ...  "
      ]
     },
     "execution_count": 23,
     "metadata": {},
     "output_type": "execute_result"
    }
   ],
   "source": [
    "import pandas as pd\n",
    "\n",
    "df_rss_nordpresse = pd.read_json(PATH_RSS_PAGES_NORDPRESSE)\n",
    "df_rss_nordpresse"
   ]
  },
  {
   "cell_type": "code",
   "execution_count": 56,
   "metadata": {},
   "outputs": [
    {
     "data": {
      "text/plain": [
       "(10, 3)"
      ]
     },
     "execution_count": 56,
     "metadata": {},
     "output_type": "execute_result"
    }
   ],
   "source": [
    "df_rss_nordpresse.shape"
   ]
  },
  {
   "cell_type": "markdown",
   "metadata": {},
   "source": [
    "#### Scraping RSS news"
   ]
  },
  {
   "cell_type": "code",
   "execution_count": 80,
   "metadata": {},
   "outputs": [
    {
     "name": "stdout",
     "output_type": "stream",
     "text": [
      "File ../../data/nordpresse_rss_pages_20191226_21_54_31.json moved!\n"
     ]
    }
   ],
   "source": [
    "# clean (move file if exist)\n",
    "clean_file(PATH_RSS_NEWS_NORDPRESSE)"
   ]
  },
  {
   "cell_type": "code",
   "execution_count": 81,
   "metadata": {},
   "outputs": [],
   "source": [
    "# configure : add all retrieved links to Spider\n",
    "NordpresseSpider.start_urls = df_rss_nordpresse[\"link\"].tolist()\n",
    "NordpresseSpider.custom_settings = {\n",
    "      'FEED_FORMAT': 'json',\n",
    "      'FEED_URI': PATH_RSS_NEWS_NORDPRESSE\n",
    "}\n",
    "\n",
    "# scraping\n",
    "run_spider(NordpresseSpider)"
   ]
  },
  {
   "cell_type": "code",
   "execution_count": 82,
   "metadata": {},
   "outputs": [
    {
     "data": {
      "text/html": [
       "<div>\n",
       "<style scoped>\n",
       "    .dataframe tbody tr th:only-of-type {\n",
       "        vertical-align: middle;\n",
       "    }\n",
       "\n",
       "    .dataframe tbody tr th {\n",
       "        vertical-align: top;\n",
       "    }\n",
       "\n",
       "    .dataframe thead th {\n",
       "        text-align: right;\n",
       "    }\n",
       "</style>\n",
       "<table border=\"1\" class=\"dataframe\">\n",
       "  <thead>\n",
       "    <tr style=\"text-align: right;\">\n",
       "      <th></th>\n",
       "      <th>author</th>\n",
       "      <th>body</th>\n",
       "      <th>date_published</th>\n",
       "      <th>source</th>\n",
       "      <th>theme</th>\n",
       "      <th>title</th>\n",
       "      <th>url</th>\n",
       "    </tr>\n",
       "  </thead>\n",
       "  <tbody>\n",
       "    <tr>\n",
       "      <th>0</th>\n",
       "      <td>Kael A</td>\n",
       "      <td>En effet, l’équipe de production s’inquiète d’...</td>\n",
       "      <td>2019-12-25</td>\n",
       "      <td>Nordpresse</td>\n",
       "      <td>Non classé</td>\n",
       "      <td>LREM accusé de faire de l’ombre à la celèbre é...</td>\n",
       "      <td>https://nordpresse.be/lrem-accuse-de-faire-de-...</td>\n",
       "    </tr>\n",
       "    <tr>\n",
       "      <th>1</th>\n",
       "      <td>Vincent Flibustier</td>\n",
       "      <td>Il s’appelle Mathieu Alias le testeur temporel...</td>\n",
       "      <td>2019-12-25</td>\n",
       "      <td>Nordpresse</td>\n",
       "      <td>Complot</td>\n",
       "      <td>Ce cosplay est plutôt pas mal non ?</td>\n",
       "      <td>https://nordpresse.be/ce-cosplay-est-plutot-pa...</td>\n",
       "    </tr>\n",
       "    <tr>\n",
       "      <th>2</th>\n",
       "      <td>Sw</td>\n",
       "      <td>Personne ne sait pourquoi elle est en train de...</td>\n",
       "      <td>2019-12-25</td>\n",
       "      <td>Nordpresse</td>\n",
       "      <td>Non classé</td>\n",
       "      <td>Segolène Royale désormais pourvue d’un antivol</td>\n",
       "      <td>https://nordpresse.be/segolene-royale-desormai...</td>\n",
       "    </tr>\n",
       "    <tr>\n",
       "      <th>3</th>\n",
       "      <td>ToLa</td>\n",
       "      <td>Emmanuel Macron a récemment déclaré avoir reno...</td>\n",
       "      <td>2019-12-25</td>\n",
       "      <td>Nordpresse</td>\n",
       "      <td>Gilets Jaunes</td>\n",
       "      <td>Emmanuel Macron renonce à sa retraite: « Je va...</td>\n",
       "      <td>https://nordpresse.be/emmanuel-macron-renonce-...</td>\n",
       "    </tr>\n",
       "    <tr>\n",
       "      <th>4</th>\n",
       "      <td>Vincent Flibustier</td>\n",
       "      <td>NaN</td>\n",
       "      <td>2019-12-24</td>\n",
       "      <td>Nordpresse</td>\n",
       "      <td>Non classé</td>\n",
       "      <td>Découvrez le sapin de Noël ecoresponsable de G...</td>\n",
       "      <td>https://nordpresse.be/decouvrez-le-sapin-de-no...</td>\n",
       "    </tr>\n",
       "  </tbody>\n",
       "</table>\n",
       "</div>"
      ],
      "text/plain": [
       "               author                                               body  \\\n",
       "0              Kael A  En effet, l’équipe de production s’inquiète d’...   \n",
       "1  Vincent Flibustier  Il s’appelle Mathieu Alias le testeur temporel...   \n",
       "2                  Sw  Personne ne sait pourquoi elle est en train de...   \n",
       "3                ToLa  Emmanuel Macron a récemment déclaré avoir reno...   \n",
       "4  Vincent Flibustier                                                NaN   \n",
       "\n",
       "  date_published      source          theme  \\\n",
       "0     2019-12-25  Nordpresse     Non classé   \n",
       "1     2019-12-25  Nordpresse        Complot   \n",
       "2     2019-12-25  Nordpresse     Non classé   \n",
       "3     2019-12-25  Nordpresse  Gilets Jaunes   \n",
       "4     2019-12-24  Nordpresse     Non classé   \n",
       "\n",
       "                                               title  \\\n",
       "0  LREM accusé de faire de l’ombre à la celèbre é...   \n",
       "1                Ce cosplay est plutôt pas mal non ?   \n",
       "2     Segolène Royale désormais pourvue d’un antivol   \n",
       "3  Emmanuel Macron renonce à sa retraite: « Je va...   \n",
       "4  Découvrez le sapin de Noël ecoresponsable de G...   \n",
       "\n",
       "                                                 url  \n",
       "0  https://nordpresse.be/lrem-accuse-de-faire-de-...  \n",
       "1  https://nordpresse.be/ce-cosplay-est-plutot-pa...  \n",
       "2  https://nordpresse.be/segolene-royale-desormai...  \n",
       "3  https://nordpresse.be/emmanuel-macron-renonce-...  \n",
       "4  https://nordpresse.be/decouvrez-le-sapin-de-no...  "
      ]
     },
     "execution_count": 82,
     "metadata": {},
     "output_type": "execute_result"
    }
   ],
   "source": [
    "import pandas as pd\n",
    "\n",
    "df_nordpresse = pd.read_json(PATH_RSS_NEWS_NORDPRESSE)\n",
    "df_nordpresse.head()"
   ]
  },
  {
   "cell_type": "code",
   "execution_count": 84,
   "metadata": {},
   "outputs": [
    {
     "data": {
      "text/plain": [
       "'En effet, l’équipe de production s’inquiète d’une évidente concurrence déloyale et ne compte pas en rester là à l’attention de la formation LREM, lorsque notre reporter s’est présenté pour recevoir les doléances, il a été accueilli par cette phrase de l’un des membre du personnel : » On ne sait pas ce qu’ils mijotent, mais ça sent pas très bon » Suivi par la cinglante déclaration  » Dans les médias, on ne parle que de ça, LREM et son ensemble inépuisable de casseroles, cela ne peux plus durer, ils mettent en danger les vrais professionnels  » *Certaines déclaration n’on pas été retransmises par notre reporter .  '"
      ]
     },
     "execution_count": 84,
     "metadata": {},
     "output_type": "execute_result"
    }
   ],
   "source": [
    "df_nordpresse.at[0,\"body\"]"
   ]
  },
  {
   "cell_type": "code",
   "execution_count": 47,
   "metadata": {},
   "outputs": [
    {
     "data": {
      "text/plain": [
       "'https://nordpresse.be/lrem-accuse-de-faire-de-lombre-a-la-celebre-emission-cauchemar-en-cuisine-a-cause-du-nombre-de-ses-casseroles/'"
      ]
     },
     "execution_count": 47,
     "metadata": {},
     "output_type": "execute_result"
    }
   ],
   "source": [
    "df_nordpresse.at[0,\"url\"]"
   ]
  },
  {
   "cell_type": "code",
   "execution_count": 40,
   "metadata": {},
   "outputs": [
    {
     "data": {
      "text/plain": [
       "(10, 7)"
      ]
     },
     "execution_count": 40,
     "metadata": {},
     "output_type": "execute_result"
    }
   ],
   "source": [
    "df_nordpresse.shape"
   ]
  },
  {
   "cell_type": "markdown",
   "metadata": {},
   "source": [
    "### Scraping urls into webpages "
   ]
  },
  {
   "cell_type": "markdown",
   "metadata": {},
   "source": [
    "#### Definitions"
   ]
  },
  {
   "cell_type": "code",
   "execution_count": 110,
   "metadata": {},
   "outputs": [],
   "source": [
    "URL_PAGES_NORDPRESSE = 'https://nordpresse.be/category/france/'\n",
    "# declare your data location\n",
    "PATH_PAGES_NORDPRESSE = '../../data/pages_nordpresse.json'\n",
    "PATH_NEWS_NORDPRESSE = '../../data/nordpresse.json'"
   ]
  },
  {
   "cell_type": "markdown",
   "metadata": {},
   "source": [
    "#### Scraping url links"
   ]
  },
  {
   "cell_type": "code",
   "execution_count": 117,
   "metadata": {},
   "outputs": [
    {
     "name": "stdout",
     "output_type": "stream",
     "text": [
      "File ../../data/pages_nordpresse_20191227_16_17_23.json moved!\n"
     ]
    }
   ],
   "source": [
    "# clean (move file if exist)\n",
    "clean_file(PATH_PAGES_NORDPRESSE)"
   ]
  },
  {
   "cell_type": "code",
   "execution_count": null,
   "metadata": {},
   "outputs": [],
   "source": [
    "# configure scraping\n",
    "NordpressePageSpider.url_first_page = URL_PAGES_NORDPRESSE\n",
    "NordpressePageSpider.custom_settings = {\n",
    "      'FEED_FORMAT': 'json',\n",
    "      'FEED_URI': PATH_PAGES_NORDPRESSE\n",
    "    }\n",
    "NordpressePageSpider.num_max_pages = 50\n",
    "\n",
    "# clean last output\n",
    "clean_file(PATH_PAGES_NORDPRESSE)\n",
    "# scraping page urls\n",
    "run_spider(NordpressePageSpider)"
   ]
  },
  {
   "cell_type": "code",
   "execution_count": 119,
   "metadata": {},
   "outputs": [
    {
     "data": {
      "text/html": [
       "<div>\n",
       "<style scoped>\n",
       "    .dataframe tbody tr th:only-of-type {\n",
       "        vertical-align: middle;\n",
       "    }\n",
       "\n",
       "    .dataframe tbody tr th {\n",
       "        vertical-align: top;\n",
       "    }\n",
       "\n",
       "    .dataframe thead th {\n",
       "        text-align: right;\n",
       "    }\n",
       "</style>\n",
       "<table border=\"1\" class=\"dataframe\">\n",
       "  <thead>\n",
       "    <tr style=\"text-align: right;\">\n",
       "      <th></th>\n",
       "      <th>link</th>\n",
       "    </tr>\n",
       "  </thead>\n",
       "  <tbody>\n",
       "    <tr>\n",
       "      <th>0</th>\n",
       "      <td>https://nordpresse.be/emmanuel-macron-renonce-...</td>\n",
       "    </tr>\n",
       "    <tr>\n",
       "      <th>1</th>\n",
       "      <td>https://nordpresse.be/j-p-delevoye-toujours-au...</td>\n",
       "    </tr>\n",
       "    <tr>\n",
       "      <th>2</th>\n",
       "      <td>https://nordpresse.be/retraites-decourages-par...</td>\n",
       "    </tr>\n",
       "    <tr>\n",
       "      <th>3</th>\n",
       "      <td>https://nordpresse.be/jean-paul-delevoye-sexpl...</td>\n",
       "    </tr>\n",
       "    <tr>\n",
       "      <th>4</th>\n",
       "      <td>https://nordpresse.be/jean-paul-delevoye-nomme...</td>\n",
       "    </tr>\n",
       "  </tbody>\n",
       "</table>\n",
       "</div>"
      ],
      "text/plain": [
       "                                                link\n",
       "0  https://nordpresse.be/emmanuel-macron-renonce-...\n",
       "1  https://nordpresse.be/j-p-delevoye-toujours-au...\n",
       "2  https://nordpresse.be/retraites-decourages-par...\n",
       "3  https://nordpresse.be/jean-paul-delevoye-sexpl...\n",
       "4  https://nordpresse.be/jean-paul-delevoye-nomme..."
      ]
     },
     "execution_count": 119,
     "metadata": {},
     "output_type": "execute_result"
    }
   ],
   "source": [
    "import pandas as pd\n",
    "\n",
    "df_nordpresse_pages = pd.read_json(PATH_PAGES_NORDPRESSE)\n",
    "df_nordpresse_pages.head()"
   ]
  },
  {
   "cell_type": "code",
   "execution_count": 120,
   "metadata": {},
   "outputs": [
    {
     "data": {
      "text/plain": [
       "(245, 1)"
      ]
     },
     "execution_count": 120,
     "metadata": {},
     "output_type": "execute_result"
    }
   ],
   "source": [
    "df_nordpresse_pages.shape"
   ]
  },
  {
   "cell_type": "markdown",
   "metadata": {},
   "source": [
    "#### Scraping news"
   ]
  },
  {
   "cell_type": "code",
   "execution_count": 121,
   "metadata": {},
   "outputs": [
    {
     "name": "stdout",
     "output_type": "stream",
     "text": [
      "File ../../data/nordpresse.json does not exist!\n"
     ]
    }
   ],
   "source": [
    "# clean last output\n",
    "clean_file(PATH_NEWS_NORDPRESSE)"
   ]
  },
  {
   "cell_type": "code",
   "execution_count": 122,
   "metadata": {},
   "outputs": [],
   "source": [
    "# configure : add all retrieved links to Spider\n",
    "NordpresseSpider.start_urls = df_nordpresse_pages[\"link\"].tolist()\n",
    "NordpresseSpider.custom_settings = {\n",
    "      'FEED_FORMAT': 'json',\n",
    "      'FEED_URI': PATH_NEWS_NORDPRESSE\n",
    "    }\n",
    "# scraping\n",
    "run_spider(NordpresseSpider)"
   ]
  },
  {
   "cell_type": "code",
   "execution_count": 123,
   "metadata": {},
   "outputs": [
    {
     "data": {
      "text/html": [
       "<div>\n",
       "<style scoped>\n",
       "    .dataframe tbody tr th:only-of-type {\n",
       "        vertical-align: middle;\n",
       "    }\n",
       "\n",
       "    .dataframe tbody tr th {\n",
       "        vertical-align: top;\n",
       "    }\n",
       "\n",
       "    .dataframe thead th {\n",
       "        text-align: right;\n",
       "    }\n",
       "</style>\n",
       "<table border=\"1\" class=\"dataframe\">\n",
       "  <thead>\n",
       "    <tr style=\"text-align: right;\">\n",
       "      <th></th>\n",
       "      <th>author</th>\n",
       "      <th>body</th>\n",
       "      <th>date_published</th>\n",
       "      <th>source</th>\n",
       "      <th>theme</th>\n",
       "      <th>title</th>\n",
       "      <th>url</th>\n",
       "    </tr>\n",
       "  </thead>\n",
       "  <tbody>\n",
       "    <tr>\n",
       "      <th>0</th>\n",
       "      <td>Frodolphe Amplebedaine</td>\n",
       "      <td>Paris, centre de la France, concentre trop d’i...</td>\n",
       "      <td>2019-12-03</td>\n",
       "      <td>Nordpresse</td>\n",
       "      <td>Start Up Nation</td>\n",
       "      <td>Déconcentration : l’ENA à Toulouse !</td>\n",
       "      <td>https://nordpresse.be/deconcentration-lena-a-t...</td>\n",
       "    </tr>\n",
       "    <tr>\n",
       "      <th>1</th>\n",
       "      <td>ToLa</td>\n",
       "      <td>Le Haut-Commissaire aux retraites Jean-Paul De...</td>\n",
       "      <td>2019-12-21</td>\n",
       "      <td>Nordpresse</td>\n",
       "      <td>France</td>\n",
       "      <td>J.-P. Delevoye toujours au gouvernement: « J’a...</td>\n",
       "      <td>https://nordpresse.be/j-p-delevoye-toujours-au...</td>\n",
       "    </tr>\n",
       "    <tr>\n",
       "      <th>2</th>\n",
       "      <td>Vincent Flibustier</td>\n",
       "      <td>C’est un retournement de situation incroyable ...</td>\n",
       "      <td>2019-11-28</td>\n",
       "      <td>Nordpresse</td>\n",
       "      <td>France</td>\n",
       "      <td>Rerebondissement: Aurore Bergé veut aussi deve...</td>\n",
       "      <td>https://nordpresse.be/rerebondissement-aurore-...</td>\n",
       "    </tr>\n",
       "    <tr>\n",
       "      <th>3</th>\n",
       "      <td>Stephane VERON</td>\n",
       "      <td>C’est une victoire inattendue du Gouvernement...</td>\n",
       "      <td>2019-12-18</td>\n",
       "      <td>Nordpresse</td>\n",
       "      <td>Politique</td>\n",
       "      <td>Retraites – Découragés par le nom de leur nouv...</td>\n",
       "      <td>https://nordpresse.be/retraites-decourages-par...</td>\n",
       "    </tr>\n",
       "    <tr>\n",
       "      <th>4</th>\n",
       "      <td>Stephane VERON</td>\n",
       "      <td>C’est une séance privée dans la salle de ciné...</td>\n",
       "      <td>2019-11-18</td>\n",
       "      <td>Nordpresse</td>\n",
       "      <td>France</td>\n",
       "      <td>Ému par « La Soif de l’Or », Macron annonce un...</td>\n",
       "      <td>https://nordpresse.be/emu-par-la-soif-de-lor-m...</td>\n",
       "    </tr>\n",
       "  </tbody>\n",
       "</table>\n",
       "</div>"
      ],
      "text/plain": [
       "                   author                                               body  \\\n",
       "0  Frodolphe Amplebedaine  Paris, centre de la France, concentre trop d’i...   \n",
       "1                    ToLa  Le Haut-Commissaire aux retraites Jean-Paul De...   \n",
       "2      Vincent Flibustier  C’est un retournement de situation incroyable ...   \n",
       "3          Stephane VERON   C’est une victoire inattendue du Gouvernement...   \n",
       "4          Stephane VERON   C’est une séance privée dans la salle de ciné...   \n",
       "\n",
       "  date_published      source            theme  \\\n",
       "0     2019-12-03  Nordpresse  Start Up Nation   \n",
       "1     2019-12-21  Nordpresse           France   \n",
       "2     2019-11-28  Nordpresse           France   \n",
       "3     2019-12-18  Nordpresse        Politique   \n",
       "4     2019-11-18  Nordpresse           France   \n",
       "\n",
       "                                               title  \\\n",
       "0               Déconcentration : l’ENA à Toulouse !   \n",
       "1  J.-P. Delevoye toujours au gouvernement: « J’a...   \n",
       "2  Rerebondissement: Aurore Bergé veut aussi deve...   \n",
       "3  Retraites – Découragés par le nom de leur nouv...   \n",
       "4  Ému par « La Soif de l’Or », Macron annonce un...   \n",
       "\n",
       "                                                 url  \n",
       "0  https://nordpresse.be/deconcentration-lena-a-t...  \n",
       "1  https://nordpresse.be/j-p-delevoye-toujours-au...  \n",
       "2  https://nordpresse.be/rerebondissement-aurore-...  \n",
       "3  https://nordpresse.be/retraites-decourages-par...  \n",
       "4  https://nordpresse.be/emu-par-la-soif-de-lor-m...  "
      ]
     },
     "execution_count": 123,
     "metadata": {},
     "output_type": "execute_result"
    }
   ],
   "source": [
    "import pandas as pd\n",
    "\n",
    "df_nordpresse = pd.read_json(PATH_NEWS_NORDPRESSE)\n",
    "df_nordpresse.head()"
   ]
  },
  {
   "cell_type": "code",
   "execution_count": 124,
   "metadata": {},
   "outputs": [
    {
     "data": {
      "text/plain": [
       "(245, 7)"
      ]
     },
     "execution_count": 124,
     "metadata": {},
     "output_type": "execute_result"
    }
   ],
   "source": [
    "df_nordpresse.shape"
   ]
  },
  {
   "cell_type": "code",
   "execution_count": 187,
   "metadata": {},
   "outputs": [
    {
     "data": {
      "text/plain": [
       "32"
      ]
     },
     "execution_count": 187,
     "metadata": {},
     "output_type": "execute_result"
    }
   ],
   "source": [
    "df_nordpresse[df_nordpresse[\"body\"].isna()].shape[0]"
   ]
  },
  {
   "cell_type": "markdown",
   "metadata": {},
   "source": [
    "## Scraping buzzbeed.com"
   ]
  },
  {
   "cell_type": "markdown",
   "metadata": {},
   "source": [
    "### Class definitions"
   ]
  },
  {
   "cell_type": "code",
   "execution_count": 172,
   "metadata": {},
   "outputs": [],
   "source": [
    "import scrapy\n",
    "from scrapy.loader import ItemLoader\n",
    "from scrapy.loader.processors import MapCompose, Join, TakeFirst\n",
    "from w3lib.html import remove_tags\n",
    "\n",
    "\n",
    "class BuzzbeedItem(scrapy.Item):\n",
    "    '''\n",
    "    Class item to declare different information to scrap\n",
    "    and how to process (as input or output) for buzzbeed.com\n",
    "    '''\n",
    "    # define the fields for your item here like:\n",
    "    url = scrapy.Field(output_processor=TakeFirst())\n",
    "    \n",
    "    source = scrapy.Field(output_processor=TakeFirst())\n",
    "    \n",
    "    author = scrapy.Field(\n",
    "        input_processor=MapCompose(remove_tags),\n",
    "        output_processor=TakeFirst()\n",
    "    )\n",
    "    \n",
    "    title = scrapy.Field(\n",
    "        input_processor=MapCompose(remove_tags),\n",
    "        output_processor=TakeFirst()\n",
    "    )\n",
    "    \n",
    "    theme = scrapy.Field(\n",
    "        input_processor=MapCompose(remove_tags),\n",
    "        output_processor=lambda v: v[-1]\n",
    "    )\n",
    "    \n",
    "    date_published = scrapy.Field(\n",
    "        input_processor=MapCompose(remove_tags),\n",
    "        output_processor=TakeFirst()\n",
    "    )\n",
    "    \n",
    "    description = scrapy.Field(output_processor=TakeFirst())\n",
    "    \n",
    "    body = scrapy.Field(\n",
    "        input_processor=MapCompose(remove_tags, \n",
    "                                   lambda v: v.replace(u'\\xa0', u' '),\n",
    "                                  lambda v: v.strip()),\n",
    "        output_processor=Join()\n",
    "    )"
   ]
  },
  {
   "cell_type": "code",
   "execution_count": 173,
   "metadata": {},
   "outputs": [],
   "source": [
    "class BuzzbeedSpider(scrapy.Spider):\n",
    "    '''\n",
    "    Spider to scrap over buzzbeed webpages : \n",
    "    - how to find information for scraping\n",
    "    - which field names to store\n",
    "    '''\n",
    "    # Your spider definition\n",
    "    name = 'news_buzzbeed_spider'\n",
    "    # output definition :\n",
    "    custom_settings = {\n",
    "      'FEED_FORMAT': 'json',\n",
    "      'FEED_URI': 'items_buzzbeed.json'\n",
    "    }\n",
    "    \n",
    "    # urls to scrap\n",
    "    start_urls = [\n",
    "        'https://www.buzzbeed.com/'\n",
    "    ]\n",
    "\n",
    "    def parse(self, response):\n",
    "        '''\n",
    "        Parse definition with xpath which define all patterns to use\n",
    "        for retrieve information into HTML strings\n",
    "        '''\n",
    "        #url\tsource\tauthor\ttitle\ttheme\tdescription\tdate_published\tbody   \n",
    "        l = ItemLoader(item=BuzzbeedItem(), selector=response)\n",
    "        \n",
    "        l.add_value('url', response.url)\n",
    "        \n",
    "        l.add_value('source', \"Buzzbeed\")\n",
    "        \n",
    "        #<span class=\"author vcard\">\n",
    "        # <a class=\"url fn n\" href=\"https://www.buzzbeed.com/author/scoub\">Jean Deumerez</a>\n",
    "        #</span>\n",
    "        l.add_xpath('author', \n",
    "            '//span[@class=\"author vcard\"]/a')\n",
    "        \n",
    "        l.add_xpath(\"title\", \"//h1\")\n",
    "        \n",
    "        #<span class=\"cat-links\">\n",
    "        # <a href=\"https://www.buzzbeed.com/category/sentiment-dinsecurite\" rel=\"category tag\">Sentiment d'insécurité</a>\n",
    "        #</span>\n",
    "        l.add_xpath(\"theme\", '//span[@class=\"cat-links\"]/a')\n",
    "        \n",
    "        #l.add_xpath(\"description\", \".//div[@class='intro']/p\")\n",
    "        l.add_value('description', \"\")\n",
    "        \n",
    "        #<time class=\"entry-date published\" datetime=\"2019-03-27T16:01:03+01:00\">mars 27, 2019</time>\n",
    "        l.add_xpath(\"date_published\", '//time/@datetime',\n",
    "                    re=\"[0-9]+-[0-9]+-[0-9]+\")\n",
    "        #'//div[@class=\"entry-content\"]/div'\n",
    "        l.add_xpath(\"body\",\n",
    "            '//div[@class=\"entry-content\"]/div|//div[@class=\"entry-content\"]/p')\n",
    "        \n",
    "        \n",
    "        yield l.load_item()"
   ]
  },
  {
   "cell_type": "code",
   "execution_count": 174,
   "metadata": {},
   "outputs": [],
   "source": [
    "import scrapy\n",
    "\n",
    "class BuzzbeedRssSpider(scrapy.Spider):\n",
    "    '''\n",
    "    Class Spider for retrieving all links to news webpages from buzzbeed RSS\n",
    "    '''\n",
    "    name = \"buzzbeed_rss\"\n",
    "    \n",
    "    custom_settings = {\n",
    "      'FEED_FORMAT': 'json',\n",
    "      'FEED_URI': 'buzzbeed_rss.json'\n",
    "    }\n",
    "    \n",
    "    def start_requests(self):\n",
    "        urls = [\n",
    "                'https://www.buzzbeed.com/feed',\n",
    "        ]\n",
    "        for url in urls:\n",
    "            yield scrapy.Request(url=url, callback=self.parse)\n",
    "     \n",
    "    def parse(self, response):\n",
    "        for post in response.xpath('//channel/item'):\n",
    "            yield {\n",
    "                'title' : post.xpath('title//text()').extract_first(),\n",
    "                'link': post.xpath('link//text()').extract_first(),\n",
    "                'pubDate' : post.xpath('pubDate//text()').extract_first(),\n",
    "            }\n"
   ]
  },
  {
   "cell_type": "code",
   "execution_count": 175,
   "metadata": {},
   "outputs": [],
   "source": [
    "import scrapy\n",
    "import re\n",
    "\n",
    "class BuzzbeedPageSpider(scrapy.Spider):\n",
    "    '''\n",
    "    Spider to scrap all Buzzbeed pages from selected category\n",
    "    Configure : \n",
    "    - BuzzbeedPageSpider.custom_settings : save location \n",
    "    - num_max_pages : the number of next page to scrap\n",
    "    - url_first_page : web page to start with\n",
    "    '''\n",
    "    name = \"buzzbeed_page\"\n",
    "    \n",
    "    custom_settings = {\n",
    "      'FEED_FORMAT': 'json',\n",
    "      'FEED_URI': 'pages_buzzbeed.json'\n",
    "    }\n",
    "    \n",
    "    num_max_pages = 1\n",
    "    \n",
    "    url_first_page = 'https://www.buzzbeed.com/'\n",
    "    \n",
    "    def start_requests(self):\n",
    "        urls = [\n",
    "                self.url_first_page,\n",
    "        ]\n",
    "        for url in urls:\n",
    "            yield scrapy.Request(url=url, callback=self.parse)\n",
    "    \n",
    "    def parse(self, response):\n",
    "        \n",
    "        # //h2[@class=\"entry-title\"]/a/@href\n",
    "        for post in response.xpath('//h2[@class=\"entry-title\"]'):\n",
    "            \n",
    "            #print('post : ', post) # TEST\n",
    "            yield {\n",
    "                'link': post.xpath('a/@href').extract_first()\n",
    "            }\n",
    "        # //a[@class=\"next page-numbers\"]/@href\n",
    "        next_page = response.xpath(\n",
    "            '//a[@class=\"next page-numbers\"]/@href').get()\n",
    "        #print('next_page : ', next_page) # TEST\n",
    "        if next_page is not None:\n",
    "            try:\n",
    "                # ex: https://www.buzzbeed.com/page/3\n",
    "                num_next_page = int(re.search(\"(?<=/)\\d+$\", \n",
    "                         next_page).group(0))\n",
    "                \n",
    "                if (num_next_page < self.num_max_pages):\n",
    "                    #next_page = response.urljoin(next_page)\n",
    "                    yield scrapy.Request(next_page, callback=self.parse)\n",
    "            except:\n",
    "                next_page = None\n",
    "                "
   ]
  },
  {
   "cell_type": "markdown",
   "metadata": {},
   "source": [
    "### Scraping RSS urls"
   ]
  },
  {
   "cell_type": "markdown",
   "metadata": {},
   "source": [
    "#### Definitions"
   ]
  },
  {
   "cell_type": "code",
   "execution_count": 170,
   "metadata": {},
   "outputs": [],
   "source": [
    "# path to results file for urls\n",
    "PATH_RSS_PAGES_BUZZBEED = '../../data/buzzbeed_rss_urls.json'\n",
    "# declare your data location for scraping rss links \n",
    "PATH_RSS_NEWS_BUZZBEED = '../../data/buzzbeed_rss_pages.json'"
   ]
  },
  {
   "cell_type": "markdown",
   "metadata": {},
   "source": [
    "#### Scraping RSS urls links"
   ]
  },
  {
   "cell_type": "code",
   "execution_count": 171,
   "metadata": {},
   "outputs": [
    {
     "name": "stdout",
     "output_type": "stream",
     "text": [
      "File ../../data/buzzbeed_rss_urls_20191227_18_15_52.json moved!\n"
     ]
    }
   ],
   "source": [
    "# clean (move file if exist)\n",
    "clean_file(PATH_RSS_PAGES_BUZZBEED)"
   ]
  },
  {
   "cell_type": "code",
   "execution_count": 134,
   "metadata": {},
   "outputs": [],
   "source": [
    "# Configure spider\n",
    "BuzzbeedRssSpider.custom_settings = {\n",
    "      'FEED_FORMAT': 'json',\n",
    "      'FEED_URI': PATH_RSS_PAGES_BUZZBEED\n",
    "}\n",
    "# scraping\n",
    "run_spider(BuzzbeedRssSpider)"
   ]
  },
  {
   "cell_type": "code",
   "execution_count": 135,
   "metadata": {},
   "outputs": [
    {
     "data": {
      "text/html": [
       "<div>\n",
       "<style scoped>\n",
       "    .dataframe tbody tr th:only-of-type {\n",
       "        vertical-align: middle;\n",
       "    }\n",
       "\n",
       "    .dataframe tbody tr th {\n",
       "        vertical-align: top;\n",
       "    }\n",
       "\n",
       "    .dataframe thead th {\n",
       "        text-align: right;\n",
       "    }\n",
       "</style>\n",
       "<table border=\"1\" class=\"dataframe\">\n",
       "  <thead>\n",
       "    <tr style=\"text-align: right;\">\n",
       "      <th></th>\n",
       "      <th>link</th>\n",
       "      <th>pubDate</th>\n",
       "      <th>title</th>\n",
       "    </tr>\n",
       "  </thead>\n",
       "  <tbody>\n",
       "    <tr>\n",
       "      <th>0</th>\n",
       "      <td>https://www.buzzbeed.com/marine-le-pen-il-ny-a...</td>\n",
       "      <td>Wed, 27 Mar 2019 15:01:03 +0000</td>\n",
       "      <td>Marine Le Pen : “il n’y a pas de problème d’im...</td>\n",
       "    </tr>\n",
       "    <tr>\n",
       "      <th>1</th>\n",
       "      <td>https://www.buzzbeed.com/emmanuel-macron-surpr...</td>\n",
       "      <td>Wed, 20 Feb 2019 19:59:23 +0000</td>\n",
       "      <td>Emmanuel Macron surpris en train de dessiner d...</td>\n",
       "    </tr>\n",
       "    <tr>\n",
       "      <th>2</th>\n",
       "      <td>https://www.buzzbeed.com/lauteur-presume-des-a...</td>\n",
       "      <td>Wed, 12 Dec 2018 21:35:24 +0000</td>\n",
       "      <td>L’auteur présumé des attentats de Strasbourg s...</td>\n",
       "    </tr>\n",
       "    <tr>\n",
       "      <th>3</th>\n",
       "      <td>https://www.buzzbeed.com/bernard-werber-les-au...</td>\n",
       "      <td>Sat, 17 Nov 2018 21:37:10 +0000</td>\n",
       "      <td>Bernard Werber : « Les auteurs de Science-Fict...</td>\n",
       "    </tr>\n",
       "    <tr>\n",
       "      <th>4</th>\n",
       "      <td>https://www.buzzbeed.com/emmanuel-macron-rend-...</td>\n",
       "      <td>Mon, 12 Nov 2018 20:58:20 +0000</td>\n",
       "      <td>Emmanuel Macron rend hommage aux 6 millions d’...</td>\n",
       "    </tr>\n",
       "    <tr>\n",
       "      <th>5</th>\n",
       "      <td>https://www.buzzbeed.com/un-neo-nazi-deguise-e...</td>\n",
       "      <td>Fri, 28 Sep 2018 17:25:48 +0000</td>\n",
       "      <td>Un néo-nazi déguisé en sauveteur de Juifs à Ch...</td>\n",
       "    </tr>\n",
       "    <tr>\n",
       "      <th>6</th>\n",
       "      <td>https://www.buzzbeed.com/la-france-islamophobe...</td>\n",
       "      <td>Tue, 21 Aug 2018 17:58:11 +0000</td>\n",
       "      <td>La France islamophobe : 75% des détenus seraie...</td>\n",
       "    </tr>\n",
       "    <tr>\n",
       "      <th>7</th>\n",
       "      <td>https://www.buzzbeed.com/le-qi-en-baisse-a-cau...</td>\n",
       "      <td>Tue, 21 Aug 2018 17:01:22 +0000</td>\n",
       "      <td>Le QI en baisse à cause de l’Américanisation</td>\n",
       "    </tr>\n",
       "    <tr>\n",
       "      <th>8</th>\n",
       "      <td>https://www.buzzbeed.com/yemen-la-bombe-qui-a-...</td>\n",
       "      <td>Sun, 19 Aug 2018 13:24:28 +0000</td>\n",
       "      <td>Yémen : La bombe qui a tué 40 futurs poètes et...</td>\n",
       "    </tr>\n",
       "    <tr>\n",
       "      <th>9</th>\n",
       "      <td>https://www.buzzbeed.com/les-syriens-peuvent-a...</td>\n",
       "      <td>Sun, 15 Jul 2018 15:59:12 +0000</td>\n",
       "      <td>Les Syriens peuvent à nouveau vivre dans leur ...</td>\n",
       "    </tr>\n",
       "  </tbody>\n",
       "</table>\n",
       "</div>"
      ],
      "text/plain": [
       "                                                link  \\\n",
       "0  https://www.buzzbeed.com/marine-le-pen-il-ny-a...   \n",
       "1  https://www.buzzbeed.com/emmanuel-macron-surpr...   \n",
       "2  https://www.buzzbeed.com/lauteur-presume-des-a...   \n",
       "3  https://www.buzzbeed.com/bernard-werber-les-au...   \n",
       "4  https://www.buzzbeed.com/emmanuel-macron-rend-...   \n",
       "5  https://www.buzzbeed.com/un-neo-nazi-deguise-e...   \n",
       "6  https://www.buzzbeed.com/la-france-islamophobe...   \n",
       "7  https://www.buzzbeed.com/le-qi-en-baisse-a-cau...   \n",
       "8  https://www.buzzbeed.com/yemen-la-bombe-qui-a-...   \n",
       "9  https://www.buzzbeed.com/les-syriens-peuvent-a...   \n",
       "\n",
       "                           pubDate  \\\n",
       "0  Wed, 27 Mar 2019 15:01:03 +0000   \n",
       "1  Wed, 20 Feb 2019 19:59:23 +0000   \n",
       "2  Wed, 12 Dec 2018 21:35:24 +0000   \n",
       "3  Sat, 17 Nov 2018 21:37:10 +0000   \n",
       "4  Mon, 12 Nov 2018 20:58:20 +0000   \n",
       "5  Fri, 28 Sep 2018 17:25:48 +0000   \n",
       "6  Tue, 21 Aug 2018 17:58:11 +0000   \n",
       "7  Tue, 21 Aug 2018 17:01:22 +0000   \n",
       "8  Sun, 19 Aug 2018 13:24:28 +0000   \n",
       "9  Sun, 15 Jul 2018 15:59:12 +0000   \n",
       "\n",
       "                                               title  \n",
       "0  Marine Le Pen : “il n’y a pas de problème d’im...  \n",
       "1  Emmanuel Macron surpris en train de dessiner d...  \n",
       "2  L’auteur présumé des attentats de Strasbourg s...  \n",
       "3  Bernard Werber : « Les auteurs de Science-Fict...  \n",
       "4  Emmanuel Macron rend hommage aux 6 millions d’...  \n",
       "5  Un néo-nazi déguisé en sauveteur de Juifs à Ch...  \n",
       "6  La France islamophobe : 75% des détenus seraie...  \n",
       "7       Le QI en baisse à cause de l’Américanisation  \n",
       "8  Yémen : La bombe qui a tué 40 futurs poètes et...  \n",
       "9  Les Syriens peuvent à nouveau vivre dans leur ...  "
      ]
     },
     "execution_count": 135,
     "metadata": {},
     "output_type": "execute_result"
    }
   ],
   "source": [
    "import pandas as pd\n",
    "\n",
    "df_rss_buzzbeed = pd.read_json(PATH_RSS_PAGES_BUZZBEED)\n",
    "df_rss_buzzbeed"
   ]
  },
  {
   "cell_type": "code",
   "execution_count": 136,
   "metadata": {},
   "outputs": [
    {
     "data": {
      "text/plain": [
       "(10, 3)"
      ]
     },
     "execution_count": 136,
     "metadata": {},
     "output_type": "execute_result"
    }
   ],
   "source": [
    "df_rss_buzzbeed.shape"
   ]
  },
  {
   "cell_type": "markdown",
   "metadata": {},
   "source": [
    "#### Scraping RSS news"
   ]
  },
  {
   "cell_type": "code",
   "execution_count": 157,
   "metadata": {},
   "outputs": [
    {
     "name": "stdout",
     "output_type": "stream",
     "text": [
      "File ../../data/buzzbeed_rss_pages_20191227_18_03_47.json moved!\n"
     ]
    }
   ],
   "source": [
    "# clean (move file if exist)\n",
    "clean_file(PATH_RSS_NEWS_BUZZBEED)"
   ]
  },
  {
   "cell_type": "code",
   "execution_count": 158,
   "metadata": {},
   "outputs": [],
   "source": [
    "# configure : add all retrieved links to Spider\n",
    "BuzzbeedSpider.start_urls = df_rss_buzzbeed[\"link\"].tolist()\n",
    "BuzzbeedSpider.custom_settings = {\n",
    "      'FEED_FORMAT': 'json',\n",
    "      'FEED_URI': PATH_RSS_NEWS_BUZZBEED\n",
    "}\n",
    "\n",
    "# scraping\n",
    "run_spider(BuzzbeedSpider)"
   ]
  },
  {
   "cell_type": "code",
   "execution_count": 159,
   "metadata": {},
   "outputs": [
    {
     "data": {
      "text/html": [
       "<div>\n",
       "<style scoped>\n",
       "    .dataframe tbody tr th:only-of-type {\n",
       "        vertical-align: middle;\n",
       "    }\n",
       "\n",
       "    .dataframe tbody tr th {\n",
       "        vertical-align: top;\n",
       "    }\n",
       "\n",
       "    .dataframe thead th {\n",
       "        text-align: right;\n",
       "    }\n",
       "</style>\n",
       "<table border=\"1\" class=\"dataframe\">\n",
       "  <thead>\n",
       "    <tr style=\"text-align: right;\">\n",
       "      <th></th>\n",
       "      <th>author</th>\n",
       "      <th>body</th>\n",
       "      <th>date_published</th>\n",
       "      <th>source</th>\n",
       "      <th>theme</th>\n",
       "      <th>title</th>\n",
       "      <th>url</th>\n",
       "    </tr>\n",
       "  </thead>\n",
       "  <tbody>\n",
       "    <tr>\n",
       "      <th>0</th>\n",
       "      <td>Jean Deumerez</td>\n",
       "      <td>Marine Le Pen continue de surprendre son élec...</td>\n",
       "      <td>2019-03-27</td>\n",
       "      <td>Buzzbeed</td>\n",
       "      <td>Sentiment d'insécurité</td>\n",
       "      <td>Marine Le Pen : “il n’y a pas de problème d’im...</td>\n",
       "      <td>https://www.buzzbeed.com/marine-le-pen-il-ny-a...</td>\n",
       "    </tr>\n",
       "    <tr>\n",
       "      <th>1</th>\n",
       "      <td>Francis Lépante</td>\n",
       "      <td>« La proximité du marché de Noël, et surtout ...</td>\n",
       "      <td>2018-12-12</td>\n",
       "      <td>Buzzbeed</td>\n",
       "      <td>Uncategorized</td>\n",
       "      <td>L’auteur présumé des attentats de Strasbourg s...</td>\n",
       "      <td>https://www.buzzbeed.com/lauteur-presume-des-a...</td>\n",
       "    </tr>\n",
       "    <tr>\n",
       "      <th>2</th>\n",
       "      <td>Francis Lépante</td>\n",
       "      <td>L’auteur du livre “Les fourmis” a un avis tra...</td>\n",
       "      <td>2018-11-17</td>\n",
       "      <td>Buzzbeed</td>\n",
       "      <td>Uncategorized</td>\n",
       "      <td>Bernard Werber : « Les auteurs de Science-Fict...</td>\n",
       "      <td>https://www.buzzbeed.com/bernard-werber-les-au...</td>\n",
       "    </tr>\n",
       "    <tr>\n",
       "      <th>3</th>\n",
       "      <td>Francis Lépante</td>\n",
       "      <td>Hier, Emmanuel Macron a rendu hommage aux 6 m...</td>\n",
       "      <td>2018-11-12</td>\n",
       "      <td>Buzzbeed</td>\n",
       "      <td>Uncategorized</td>\n",
       "      <td>Emmanuel Macron rend hommage aux 6 millions d’...</td>\n",
       "      <td>https://www.buzzbeed.com/emmanuel-macron-rend-...</td>\n",
       "    </tr>\n",
       "    <tr>\n",
       "      <th>4</th>\n",
       "      <td>Jean Deumerez</td>\n",
       "      <td>Une nouvelle preuve que notre pays est bien r...</td>\n",
       "      <td>2018-08-21</td>\n",
       "      <td>Buzzbeed</td>\n",
       "      <td>Uncategorized</td>\n",
       "      <td>La France islamophobe : 75% des détenus seraie...</td>\n",
       "      <td>https://www.buzzbeed.com/la-france-islamophobe...</td>\n",
       "    </tr>\n",
       "  </tbody>\n",
       "</table>\n",
       "</div>"
      ],
      "text/plain": [
       "            author                                               body  \\\n",
       "0    Jean Deumerez   Marine Le Pen continue de surprendre son élec...   \n",
       "1  Francis Lépante   « La proximité du marché de Noël, et surtout ...   \n",
       "2  Francis Lépante   L’auteur du livre “Les fourmis” a un avis tra...   \n",
       "3  Francis Lépante   Hier, Emmanuel Macron a rendu hommage aux 6 m...   \n",
       "4    Jean Deumerez   Une nouvelle preuve que notre pays est bien r...   \n",
       "\n",
       "  date_published    source                   theme  \\\n",
       "0     2019-03-27  Buzzbeed  Sentiment d'insécurité   \n",
       "1     2018-12-12  Buzzbeed           Uncategorized   \n",
       "2     2018-11-17  Buzzbeed           Uncategorized   \n",
       "3     2018-11-12  Buzzbeed           Uncategorized   \n",
       "4     2018-08-21  Buzzbeed           Uncategorized   \n",
       "\n",
       "                                               title  \\\n",
       "0  Marine Le Pen : “il n’y a pas de problème d’im...   \n",
       "1  L’auteur présumé des attentats de Strasbourg s...   \n",
       "2  Bernard Werber : « Les auteurs de Science-Fict...   \n",
       "3  Emmanuel Macron rend hommage aux 6 millions d’...   \n",
       "4  La France islamophobe : 75% des détenus seraie...   \n",
       "\n",
       "                                                 url  \n",
       "0  https://www.buzzbeed.com/marine-le-pen-il-ny-a...  \n",
       "1  https://www.buzzbeed.com/lauteur-presume-des-a...  \n",
       "2  https://www.buzzbeed.com/bernard-werber-les-au...  \n",
       "3  https://www.buzzbeed.com/emmanuel-macron-rend-...  \n",
       "4  https://www.buzzbeed.com/la-france-islamophobe...  "
      ]
     },
     "execution_count": 159,
     "metadata": {},
     "output_type": "execute_result"
    }
   ],
   "source": [
    "import pandas as pd\n",
    "\n",
    "df_buzzbeed = pd.read_json(PATH_RSS_NEWS_BUZZBEED)\n",
    "df_buzzbeed.head()"
   ]
  },
  {
   "cell_type": "code",
   "execution_count": 160,
   "metadata": {},
   "outputs": [
    {
     "data": {
      "text/plain": [
       "(10, 7)"
      ]
     },
     "execution_count": 160,
     "metadata": {},
     "output_type": "execute_result"
    }
   ],
   "source": [
    "df_buzzbeed.shape"
   ]
  },
  {
   "cell_type": "code",
   "execution_count": 161,
   "metadata": {},
   "outputs": [
    {
     "data": {
      "text/plain": [
       "'https://www.buzzbeed.com/marine-le-pen-il-ny-a-pas-de-probleme-dimmigration-en-france'"
      ]
     },
     "execution_count": 161,
     "metadata": {},
     "output_type": "execute_result"
    }
   ],
   "source": [
    "df_buzzbeed.at[0,\"url\"]"
   ]
  },
  {
   "cell_type": "code",
   "execution_count": 163,
   "metadata": {},
   "outputs": [
    {
     "data": {
      "text/plain": [
       "' Marine Le Pen continue de surprendre son électorat, affirmant, apès avoir nié être au courant du phénomène de Grand-Remplacement tel qu’exposé par René Camus, que elle n’a “jamais été au courant de problèmes d’immigration en France”. Elle achève ainsi haut la main sa campagne de dédiabolisation.  “En France il y a peut-être tout au plus quelques descendants d’immigrés, mais mon attention n’a jamais été attiré par une présence significative d’immigrés en France. En outre, ce sont des immigrés qui travaillent, contribuent à la culture du pays, ne touchent pas plus d’allocations que le Francais moyen, bref, on verrait mal au rassemblement national en quoi l’immigration serait un problème pour la France. C’est plutôt une chance, une opportunité.”  Marine Le Pen a pourtant dérapé sur l’Allemagne: “les Allemands, ce sont les heures sombres de notre histoire, ils veulent toujours nous reprendre l’Alsace-Lorraine, et là, avec l’euro, c’est le même projet contre les nations qui recommence, c’est-à-dire, si l’on ne sort pas de l’euro pour pouvoir dévaluer le franc, on va tous y rester, il nous faut une devise avec laquelle épargner sera impossible, et là la France redeviendra une grande puissance économique.” '"
      ]
     },
     "execution_count": 163,
     "metadata": {},
     "output_type": "execute_result"
    }
   ],
   "source": [
    "df_buzzbeed.at[0,\"body\"]"
   ]
  },
  {
   "cell_type": "markdown",
   "metadata": {},
   "source": [
    "### Scraping urls into webpages "
   ]
  },
  {
   "cell_type": "markdown",
   "metadata": {},
   "source": [
    "#### Definitions"
   ]
  },
  {
   "cell_type": "code",
   "execution_count": 176,
   "metadata": {},
   "outputs": [],
   "source": [
    "URL_PAGES_BUZZBEED = 'https://www.buzzbeed.com/'\n",
    "# declare your data location\n",
    "PATH_PAGES_BUZZBEED = '../../data/pages_buzzbeed.json'\n",
    "PATH_NEWS_BUZZBEED = '../../data/buzzbeed.json'"
   ]
  },
  {
   "cell_type": "markdown",
   "metadata": {},
   "source": [
    "#### Scraping url links"
   ]
  },
  {
   "cell_type": "code",
   "execution_count": 177,
   "metadata": {},
   "outputs": [
    {
     "name": "stdout",
     "output_type": "stream",
     "text": [
      "File ../../data/pages_buzzbeed.json does not exist!\n"
     ]
    }
   ],
   "source": [
    "# clean (move file if exist)\n",
    "clean_file(PATH_PAGES_BUZZBEED)"
   ]
  },
  {
   "cell_type": "code",
   "execution_count": 178,
   "metadata": {
    "scrolled": false
   },
   "outputs": [
    {
     "name": "stdout",
     "output_type": "stream",
     "text": [
      "File ../../data/pages_buzzbeed.json does not exist!\n"
     ]
    }
   ],
   "source": [
    "# configure scraping\n",
    "BuzzbeedPageSpider.url_first_page = URL_PAGES_BUZZBEED\n",
    "BuzzbeedPageSpider.custom_settings = {\n",
    "      'FEED_FORMAT': 'json',\n",
    "      'FEED_URI': PATH_PAGES_BUZZBEED\n",
    "    }\n",
    "BuzzbeedPageSpider.num_max_pages = 25 # 10 articles by page\n",
    "\n",
    "# clean last output\n",
    "clean_file(PATH_PAGES_BUZZBEED)\n",
    "# scraping page urls\n",
    "run_spider(BuzzbeedPageSpider)"
   ]
  },
  {
   "cell_type": "code",
   "execution_count": 179,
   "metadata": {},
   "outputs": [
    {
     "data": {
      "text/html": [
       "<div>\n",
       "<style scoped>\n",
       "    .dataframe tbody tr th:only-of-type {\n",
       "        vertical-align: middle;\n",
       "    }\n",
       "\n",
       "    .dataframe tbody tr th {\n",
       "        vertical-align: top;\n",
       "    }\n",
       "\n",
       "    .dataframe thead th {\n",
       "        text-align: right;\n",
       "    }\n",
       "</style>\n",
       "<table border=\"1\" class=\"dataframe\">\n",
       "  <thead>\n",
       "    <tr style=\"text-align: right;\">\n",
       "      <th></th>\n",
       "      <th>link</th>\n",
       "    </tr>\n",
       "  </thead>\n",
       "  <tbody>\n",
       "    <tr>\n",
       "      <th>0</th>\n",
       "      <td>https://www.buzzbeed.com/marine-le-pen-il-ny-a...</td>\n",
       "    </tr>\n",
       "    <tr>\n",
       "      <th>1</th>\n",
       "      <td>https://www.buzzbeed.com/emmanuel-macron-surpr...</td>\n",
       "    </tr>\n",
       "    <tr>\n",
       "      <th>2</th>\n",
       "      <td>https://www.buzzbeed.com/lauteur-presume-des-a...</td>\n",
       "    </tr>\n",
       "    <tr>\n",
       "      <th>3</th>\n",
       "      <td>https://www.buzzbeed.com/bernard-werber-les-au...</td>\n",
       "    </tr>\n",
       "    <tr>\n",
       "      <th>4</th>\n",
       "      <td>https://www.buzzbeed.com/emmanuel-macron-rend-...</td>\n",
       "    </tr>\n",
       "  </tbody>\n",
       "</table>\n",
       "</div>"
      ],
      "text/plain": [
       "                                                link\n",
       "0  https://www.buzzbeed.com/marine-le-pen-il-ny-a...\n",
       "1  https://www.buzzbeed.com/emmanuel-macron-surpr...\n",
       "2  https://www.buzzbeed.com/lauteur-presume-des-a...\n",
       "3  https://www.buzzbeed.com/bernard-werber-les-au...\n",
       "4  https://www.buzzbeed.com/emmanuel-macron-rend-..."
      ]
     },
     "execution_count": 179,
     "metadata": {},
     "output_type": "execute_result"
    }
   ],
   "source": [
    "import pandas as pd\n",
    "\n",
    "df_buzzbeed_pages = pd.read_json(PATH_PAGES_BUZZBEED)\n",
    "df_buzzbeed_pages.head()"
   ]
  },
  {
   "cell_type": "code",
   "execution_count": 180,
   "metadata": {},
   "outputs": [
    {
     "data": {
      "text/plain": [
       "(240, 1)"
      ]
     },
     "execution_count": 180,
     "metadata": {},
     "output_type": "execute_result"
    }
   ],
   "source": [
    "df_buzzbeed_pages.shape"
   ]
  },
  {
   "cell_type": "markdown",
   "metadata": {},
   "source": [
    "#### Scraping news"
   ]
  },
  {
   "cell_type": "code",
   "execution_count": 181,
   "metadata": {},
   "outputs": [
    {
     "name": "stdout",
     "output_type": "stream",
     "text": [
      "File ../../data/buzzbeed.json does not exist!\n"
     ]
    }
   ],
   "source": [
    "# clean last output\n",
    "clean_file(PATH_NEWS_BUZZBEED)"
   ]
  },
  {
   "cell_type": "code",
   "execution_count": 182,
   "metadata": {},
   "outputs": [],
   "source": [
    "# configure : add all retrieved links to Spider\n",
    "BuzzbeedSpider.start_urls = df_buzzbeed_pages[\"link\"].tolist()\n",
    "BuzzbeedSpider.custom_settings = {\n",
    "      'FEED_FORMAT': 'json',\n",
    "      'FEED_URI': PATH_NEWS_BUZZBEED\n",
    "    }\n",
    "# scraping\n",
    "run_spider(BuzzbeedSpider)"
   ]
  },
  {
   "cell_type": "code",
   "execution_count": 183,
   "metadata": {},
   "outputs": [
    {
     "data": {
      "text/html": [
       "<div>\n",
       "<style scoped>\n",
       "    .dataframe tbody tr th:only-of-type {\n",
       "        vertical-align: middle;\n",
       "    }\n",
       "\n",
       "    .dataframe tbody tr th {\n",
       "        vertical-align: top;\n",
       "    }\n",
       "\n",
       "    .dataframe thead th {\n",
       "        text-align: right;\n",
       "    }\n",
       "</style>\n",
       "<table border=\"1\" class=\"dataframe\">\n",
       "  <thead>\n",
       "    <tr style=\"text-align: right;\">\n",
       "      <th></th>\n",
       "      <th>author</th>\n",
       "      <th>body</th>\n",
       "      <th>date_published</th>\n",
       "      <th>source</th>\n",
       "      <th>theme</th>\n",
       "      <th>title</th>\n",
       "      <th>url</th>\n",
       "    </tr>\n",
       "  </thead>\n",
       "  <tbody>\n",
       "    <tr>\n",
       "      <th>0</th>\n",
       "      <td>Jean Deumerez</td>\n",
       "      <td>Le Président Francais, Emmanuel Macron, a été...</td>\n",
       "      <td>2019-02-20</td>\n",
       "      <td>Buzzbeed</td>\n",
       "      <td>Insolite</td>\n",
       "      <td>Emmanuel Macron surpris en train de dessiner d...</td>\n",
       "      <td>https://www.buzzbeed.com/emmanuel-macron-surpr...</td>\n",
       "    </tr>\n",
       "    <tr>\n",
       "      <th>1</th>\n",
       "      <td>Francis Lépante</td>\n",
       "      <td>L’auteur du livre “Les fourmis” a un avis tra...</td>\n",
       "      <td>2018-11-17</td>\n",
       "      <td>Buzzbeed</td>\n",
       "      <td>Uncategorized</td>\n",
       "      <td>Bernard Werber : « Les auteurs de Science-Fict...</td>\n",
       "      <td>https://www.buzzbeed.com/bernard-werber-les-au...</td>\n",
       "    </tr>\n",
       "    <tr>\n",
       "      <th>2</th>\n",
       "      <td>Francis Lépante</td>\n",
       "      <td>« La proximité du marché de Noël, et surtout ...</td>\n",
       "      <td>2018-12-12</td>\n",
       "      <td>Buzzbeed</td>\n",
       "      <td>Uncategorized</td>\n",
       "      <td>L’auteur présumé des attentats de Strasbourg s...</td>\n",
       "      <td>https://www.buzzbeed.com/lauteur-presume-des-a...</td>\n",
       "    </tr>\n",
       "    <tr>\n",
       "      <th>3</th>\n",
       "      <td>Francis Lépante</td>\n",
       "      <td>Hier, Emmanuel Macron a rendu hommage aux 6 m...</td>\n",
       "      <td>2018-11-12</td>\n",
       "      <td>Buzzbeed</td>\n",
       "      <td>Uncategorized</td>\n",
       "      <td>Emmanuel Macron rend hommage aux 6 millions d’...</td>\n",
       "      <td>https://www.buzzbeed.com/emmanuel-macron-rend-...</td>\n",
       "    </tr>\n",
       "    <tr>\n",
       "      <th>4</th>\n",
       "      <td>Jean Deumerez</td>\n",
       "      <td>Preuve qu’ils sont partout. « Ils se cachent ...</td>\n",
       "      <td>2018-09-28</td>\n",
       "      <td>Buzzbeed</td>\n",
       "      <td>Uncategorized</td>\n",
       "      <td>Un néo-nazi déguisé en sauveteur de Juifs à Ch...</td>\n",
       "      <td>https://www.buzzbeed.com/un-neo-nazi-deguise-e...</td>\n",
       "    </tr>\n",
       "  </tbody>\n",
       "</table>\n",
       "</div>"
      ],
      "text/plain": [
       "            author                                               body  \\\n",
       "0    Jean Deumerez   Le Président Francais, Emmanuel Macron, a été...   \n",
       "1  Francis Lépante   L’auteur du livre “Les fourmis” a un avis tra...   \n",
       "2  Francis Lépante   « La proximité du marché de Noël, et surtout ...   \n",
       "3  Francis Lépante   Hier, Emmanuel Macron a rendu hommage aux 6 m...   \n",
       "4    Jean Deumerez   Preuve qu’ils sont partout. « Ils se cachent ...   \n",
       "\n",
       "  date_published    source          theme  \\\n",
       "0     2019-02-20  Buzzbeed       Insolite   \n",
       "1     2018-11-17  Buzzbeed  Uncategorized   \n",
       "2     2018-12-12  Buzzbeed  Uncategorized   \n",
       "3     2018-11-12  Buzzbeed  Uncategorized   \n",
       "4     2018-09-28  Buzzbeed  Uncategorized   \n",
       "\n",
       "                                               title  \\\n",
       "0  Emmanuel Macron surpris en train de dessiner d...   \n",
       "1  Bernard Werber : « Les auteurs de Science-Fict...   \n",
       "2  L’auteur présumé des attentats de Strasbourg s...   \n",
       "3  Emmanuel Macron rend hommage aux 6 millions d’...   \n",
       "4  Un néo-nazi déguisé en sauveteur de Juifs à Ch...   \n",
       "\n",
       "                                                 url  \n",
       "0  https://www.buzzbeed.com/emmanuel-macron-surpr...  \n",
       "1  https://www.buzzbeed.com/bernard-werber-les-au...  \n",
       "2  https://www.buzzbeed.com/lauteur-presume-des-a...  \n",
       "3  https://www.buzzbeed.com/emmanuel-macron-rend-...  \n",
       "4  https://www.buzzbeed.com/un-neo-nazi-deguise-e...  "
      ]
     },
     "execution_count": 183,
     "metadata": {},
     "output_type": "execute_result"
    }
   ],
   "source": [
    "import pandas as pd\n",
    "\n",
    "df_buzzbeed = pd.read_json(PATH_NEWS_BUZZBEED)\n",
    "df_buzzbeed.head()"
   ]
  },
  {
   "cell_type": "code",
   "execution_count": 184,
   "metadata": {},
   "outputs": [
    {
     "data": {
      "text/plain": [
       "(240, 7)"
      ]
     },
     "execution_count": 184,
     "metadata": {},
     "output_type": "execute_result"
    }
   ],
   "source": [
    "df_buzzbeed.shape"
   ]
  },
  {
   "cell_type": "code",
   "execution_count": 186,
   "metadata": {},
   "outputs": [
    {
     "data": {
      "text/plain": [
       "0"
      ]
     },
     "execution_count": 186,
     "metadata": {},
     "output_type": "execute_result"
    }
   ],
   "source": [
    "df_buzzbeed[df_buzzbeed[\"body\"].isna()].shape[0]"
   ]
  },
  {
   "cell_type": "code",
   "execution_count": null,
   "metadata": {},
   "outputs": [],
   "source": []
  }
 ],
 "metadata": {
  "kernelspec": {
   "display_name": "Python 3",
   "language": "python",
   "name": "python3"
  },
  "language_info": {
   "codemirror_mode": {
    "name": "ipython",
    "version": 3
   },
   "file_extension": ".py",
   "mimetype": "text/x-python",
   "name": "python",
   "nbconvert_exporter": "python",
   "pygments_lexer": "ipython3",
   "version": "3.7.1"
  },
  "toc": {
   "base_numbering": 1,
   "nav_menu": {},
   "number_sections": true,
   "sideBar": true,
   "skip_h1_title": false,
   "title_cell": "Table of Contents",
   "title_sidebar": "Contents",
   "toc_cell": false,
   "toc_position": {
    "height": "calc(100% - 180px)",
    "left": "10px",
    "top": "150px",
    "width": "256px"
   },
   "toc_section_display": true,
   "toc_window_display": true
  }
 },
 "nbformat": 4,
 "nbformat_minor": 2
}
